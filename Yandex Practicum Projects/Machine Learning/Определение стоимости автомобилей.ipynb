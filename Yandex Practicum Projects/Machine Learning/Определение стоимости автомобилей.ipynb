{
 "cells": [
  {
   "cell_type": "markdown",
   "metadata": {},
   "source": [
    "# Определение стоимости автомобилей"
   ]
  },
  {
   "cell_type": "markdown",
   "metadata": {},
   "source": [
    "Сервис по продаже автомобилей с пробегом «Не бит, не крашен» разрабатывает приложение для привлечения новых клиентов, в котором можно быстро узнать рыночную стоимость своего автомобиля. В нашем распоряжении исторические данные: технические характеристики, комплектации и цены автомобилей. Нужно построить модель для определения стоимости. \n",
    "\n",
    "Заказчику важны:\n",
    "\n",
    "- качество предсказания;\n",
    "- скорость предсказания;\n",
    "- время обучения.\n",
    "\n",
    "Для оценки качества моделей необходимо применить метрику RMSE, значение которой должно быть меньше 2500 EUR."
   ]
  },
  {
   "cell_type": "markdown",
   "metadata": {},
   "source": [
    "Целевой признак\n",
    "- Price — цена (евро)\n",
    "\n",
    "Признаки:\n",
    "- DateCrawled — дата скачивания анкеты из базы\n",
    "- VehicleType — тип автомобильного кузова\n",
    "- RegistrationYear — год регистрации автомобиля\n",
    "- Gearbox — тип коробки передач\n",
    "- Power — мощность (л. с.)\n",
    "- Model — модель автомобиля\n",
    "- Kilometer — пробег (км)\n",
    "- RegistrationMonth — месяц регистрации автомобиля\n",
    "- FuelType — тип топлива\n",
    "- Brand — марка автомобиля\n",
    "- NotRepaired — была машина в ремонте или нет\n",
    "- DateCreated — дата создания анкеты\n",
    "- NumberOfPictures — количество фотографий автомобиля\n",
    "- PostalCode — почтовый индекс владельца анкеты (пользователя)\n",
    "- LastSeen — дата последней активности пользователя"
   ]
  },
  {
   "cell_type": "markdown",
   "metadata": {},
   "source": [
    "## Подготовка данных"
   ]
  },
  {
   "cell_type": "markdown",
   "metadata": {},
   "source": [
    "Подключим необходимые библиотеки и определим полезные умолчания."
   ]
  },
  {
   "cell_type": "code",
   "execution_count": 91,
   "metadata": {
    "tags": []
   },
   "outputs": [
    {
     "name": "stdout",
     "output_type": "stream",
     "text": [
      "Requirement already satisfied: lightgbm in c:\\users\\victor\\anaconda3\\envs\\praktikum_env_win_new\\lib\\site-packages (3.3.2)\n",
      "Requirement already satisfied: optuna in c:\\users\\victor\\anaconda3\\envs\\praktikum_env_win_new\\lib\\site-packages (2.10.1)\n",
      "Requirement already satisfied: scikit-learn in c:\\users\\victor\\anaconda3\\envs\\praktikum_env_win_new\\lib\\site-packages (1.0.2)\n",
      "Requirement already satisfied: pandas in c:\\users\\victor\\anaconda3\\envs\\praktikum_env_win_new\\lib\\site-packages (1.3.5)\n",
      "Requirement already satisfied: wheel in c:\\users\\victor\\anaconda3\\envs\\praktikum_env_win_new\\lib\\site-packages (from lightgbm) (0.37.1)\n",
      "Requirement already satisfied: numpy in c:\\users\\victor\\anaconda3\\envs\\praktikum_env_win_new\\lib\\site-packages (from lightgbm) (1.18.3)\n",
      "Requirement already satisfied: scipy in c:\\users\\victor\\anaconda3\\envs\\praktikum_env_win_new\\lib\\site-packages (from lightgbm) (1.4.1)\n",
      "Requirement already satisfied: sqlalchemy>=1.1.0 in c:\\users\\victor\\anaconda3\\envs\\praktikum_env_win_new\\lib\\site-packages (from optuna) (1.3.11)\n",
      "Requirement already satisfied: colorlog in c:\\users\\victor\\anaconda3\\envs\\praktikum_env_win_new\\lib\\site-packages (from optuna) (6.6.0)\n",
      "Requirement already satisfied: alembic in c:\\users\\victor\\anaconda3\\envs\\praktikum_env_win_new\\lib\\site-packages (from optuna) (1.8.0)\n",
      "Requirement already satisfied: PyYAML in c:\\users\\victor\\anaconda3\\envs\\praktikum_env_win_new\\lib\\site-packages (from optuna) (6.0)\n",
      "Requirement already satisfied: cmaes>=0.8.2 in c:\\users\\victor\\anaconda3\\envs\\praktikum_env_win_new\\lib\\site-packages (from optuna) (0.8.2)\n",
      "Requirement already satisfied: cliff in c:\\users\\victor\\anaconda3\\envs\\praktikum_env_win_new\\lib\\site-packages (from optuna) (3.10.1)\n",
      "Requirement already satisfied: packaging>=20.0 in c:\\users\\victor\\anaconda3\\envs\\praktikum_env_win_new\\lib\\site-packages (from optuna) (21.3)\n",
      "Requirement already satisfied: tqdm in c:\\users\\victor\\anaconda3\\envs\\praktikum_env_win_new\\lib\\site-packages (from optuna) (4.64.0)\n",
      "Requirement already satisfied: joblib>=0.11 in c:\\users\\victor\\anaconda3\\envs\\praktikum_env_win_new\\lib\\site-packages (from scikit-learn) (1.1.0)\n",
      "Requirement already satisfied: threadpoolctl>=2.0.0 in c:\\users\\victor\\anaconda3\\envs\\praktikum_env_win_new\\lib\\site-packages (from scikit-learn) (3.1.0)\n",
      "Requirement already satisfied: python-dateutil>=2.7.3 in c:\\users\\victor\\anaconda3\\envs\\praktikum_env_win_new\\lib\\site-packages (from pandas) (2.8.2)\n",
      "Requirement already satisfied: pytz>=2017.3 in c:\\users\\victor\\anaconda3\\envs\\praktikum_env_win_new\\lib\\site-packages (from pandas) (2022.1)\n",
      "Requirement already satisfied: pyparsing!=3.0.5,>=2.0.2 in c:\\users\\victor\\anaconda3\\envs\\praktikum_env_win_new\\lib\\site-packages (from packaging>=20.0->optuna) (3.0.9)\n",
      "Requirement already satisfied: six>=1.5 in c:\\users\\victor\\anaconda3\\envs\\praktikum_env_win_new\\lib\\site-packages (from python-dateutil>=2.7.3->pandas) (1.16.0)\n",
      "Requirement already satisfied: importlib-metadata in c:\\users\\victor\\anaconda3\\envs\\praktikum_env_win_new\\lib\\site-packages (from alembic->optuna) (4.11.4)\n",
      "Requirement already satisfied: Mako in c:\\users\\victor\\anaconda3\\envs\\praktikum_env_win_new\\lib\\site-packages (from alembic->optuna) (1.2.0)\n",
      "Requirement already satisfied: importlib-resources in c:\\users\\victor\\anaconda3\\envs\\praktikum_env_win_new\\lib\\site-packages (from alembic->optuna) (5.7.1)\n",
      "Requirement already satisfied: cmd2>=1.0.0 in c:\\users\\victor\\anaconda3\\envs\\praktikum_env_win_new\\lib\\site-packages (from cliff->optuna) (2.4.1)\n",
      "Requirement already satisfied: PrettyTable>=0.7.2 in c:\\users\\victor\\anaconda3\\envs\\praktikum_env_win_new\\lib\\site-packages (from cliff->optuna) (3.3.0)\n",
      "Requirement already satisfied: stevedore>=2.0.1 in c:\\users\\victor\\anaconda3\\envs\\praktikum_env_win_new\\lib\\site-packages (from cliff->optuna) (3.5.0)\n",
      "Requirement already satisfied: pbr!=2.1.0,>=2.0.0 in c:\\users\\victor\\anaconda3\\envs\\praktikum_env_win_new\\lib\\site-packages (from cliff->optuna) (5.9.0)\n",
      "Requirement already satisfied: autopage>=0.4.0 in c:\\users\\victor\\anaconda3\\envs\\praktikum_env_win_new\\lib\\site-packages (from cliff->optuna) (0.5.1)\n",
      "Requirement already satisfied: colorama in c:\\users\\victor\\anaconda3\\envs\\praktikum_env_win_new\\lib\\site-packages (from colorlog->optuna) (0.4.4)\n",
      "Requirement already satisfied: pyperclip>=1.6 in c:\\users\\victor\\anaconda3\\envs\\praktikum_env_win_new\\lib\\site-packages (from cmd2>=1.0.0->cliff->optuna) (1.8.2)\n",
      "Requirement already satisfied: wcwidth>=0.1.7 in c:\\users\\victor\\anaconda3\\envs\\praktikum_env_win_new\\lib\\site-packages (from cmd2>=1.0.0->cliff->optuna) (0.2.5)\n",
      "Requirement already satisfied: attrs>=16.3.0 in c:\\users\\victor\\anaconda3\\envs\\praktikum_env_win_new\\lib\\site-packages (from cmd2>=1.0.0->cliff->optuna) (21.4.0)\n",
      "Requirement already satisfied: typing-extensions in c:\\users\\victor\\anaconda3\\envs\\praktikum_env_win_new\\lib\\site-packages (from cmd2>=1.0.0->cliff->optuna) (4.2.0)\n",
      "Requirement already satisfied: pyreadline3 in c:\\users\\victor\\anaconda3\\envs\\praktikum_env_win_new\\lib\\site-packages (from cmd2>=1.0.0->cliff->optuna) (3.4.1)\n",
      "Requirement already satisfied: zipp>=0.5 in c:\\users\\victor\\anaconda3\\envs\\praktikum_env_win_new\\lib\\site-packages (from importlib-metadata->alembic->optuna) (3.8.0)\n",
      "Requirement already satisfied: MarkupSafe>=0.9.2 in c:\\users\\victor\\anaconda3\\envs\\praktikum_env_win_new\\lib\\site-packages (from Mako->alembic->optuna) (2.1.1)\n"
     ]
    }
   ],
   "source": [
    "!pip install lightgbm optuna scikit-learn pandas -U"
   ]
  },
  {
   "cell_type": "code",
   "execution_count": 10,
   "metadata": {},
   "outputs": [],
   "source": [
    "import os\n",
    "import re\n",
    "import optuna\n",
    "import warnings\n",
    "import numpy as np\n",
    "import pandas as pd\n",
    "import lightgbm as lgb\n",
    "import matplotlib.pyplot as plt\n",
    "\n",
    "from urllib.error import HTTPError\n",
    "from sklearn.pipeline import Pipeline\n",
    "from sklearn.dummy import DummyRegressor\n",
    "from sklearn.impute import SimpleImputer\n",
    "from sklearn.linear_model import ElasticNet\n",
    "from optuna.integration import OptunaSearchCV\n",
    "from sklearn.metrics import mean_squared_error\n",
    "from sklearn.tree import DecisionTreeRegressor\n",
    "from optuna.distributions import (UniformDistribution, \n",
    "                                  LogUniformDistribution, \n",
    "                                  IntUniformDistribution)\n",
    "from sklearn.preprocessing import StandardScaler, OneHotEncoder\n",
    "from sklearn.compose import ColumnTransformer, make_column_selector\n",
    "from sklearn.model_selection import train_test_split, cross_val_score\n",
    "\n",
    "plt.style.use('dark_background');            # Dark theme for plots\n",
    "plt.rc('grid', color=(.3, .3, .3));          # Pale grid lines\n",
    "plt.rc('axes', grid=True, axisbelow=True);   # Grid lines behind the plot\n",
    "pd.set_option('display.max_columns', None);  # Display all dataframe columns\n",
    "pd.set_option('display.max_rows', 100);      # Display 100 dataframe rows\n",
    "\n",
    "# Disable warnings\n",
    "pd.options.mode.chained_assignment = None    \n",
    "warnings.simplefilter('ignore', pd.errors.PerformanceWarning) "
   ]
  },
  {
   "cell_type": "markdown",
   "metadata": {},
   "source": [
    "Зафиксируем random state."
   ]
  },
  {
   "cell_type": "code",
   "execution_count": 11,
   "metadata": {},
   "outputs": [],
   "source": [
    "# Custom random state\n",
    "RS = 22221111"
   ]
  },
  {
   "cell_type": "markdown",
   "metadata": {},
   "source": [
    "Загрузим датасет и взглянем на него."
   ]
  },
  {
   "cell_type": "code",
   "execution_count": 92,
   "metadata": {},
   "outputs": [
    {
     "name": "stdout",
     "output_type": "stream",
     "text": [
      "Success: https://code.s3.yandex.net/datasets/autos.csv\n"
     ]
    }
   ],
   "source": [
    "path = '/datasets/autos.csv'\n",
    "if not os.path.exists(path): \n",
    "    path = 'https://code.s3.yandex.net' + path\n",
    "try:\n",
    "    df = pd.read_csv(path)\n",
    "    print('Success: ' + path)\n",
    "except HTTPError as err:\n",
    "    print(f'{err} {path}')"
   ]
  },
  {
   "cell_type": "code",
   "execution_count": 13,
   "metadata": {},
   "outputs": [
    {
     "data": {
      "text/html": [
       "<div>\n",
       "<style scoped>\n",
       "    .dataframe tbody tr th:only-of-type {\n",
       "        vertical-align: middle;\n",
       "    }\n",
       "\n",
       "    .dataframe tbody tr th {\n",
       "        vertical-align: top;\n",
       "    }\n",
       "\n",
       "    .dataframe thead th {\n",
       "        text-align: right;\n",
       "    }\n",
       "</style>\n",
       "<table border=\"1\" class=\"dataframe\">\n",
       "  <thead>\n",
       "    <tr style=\"text-align: right;\">\n",
       "      <th></th>\n",
       "      <th>DateCrawled</th>\n",
       "      <th>Price</th>\n",
       "      <th>VehicleType</th>\n",
       "      <th>RegistrationYear</th>\n",
       "      <th>Gearbox</th>\n",
       "      <th>Power</th>\n",
       "      <th>Model</th>\n",
       "      <th>Kilometer</th>\n",
       "      <th>RegistrationMonth</th>\n",
       "      <th>FuelType</th>\n",
       "      <th>Brand</th>\n",
       "      <th>NotRepaired</th>\n",
       "      <th>DateCreated</th>\n",
       "      <th>NumberOfPictures</th>\n",
       "      <th>PostalCode</th>\n",
       "      <th>LastSeen</th>\n",
       "    </tr>\n",
       "  </thead>\n",
       "  <tbody>\n",
       "    <tr>\n",
       "      <th>0</th>\n",
       "      <td>2016-03-24 11:52:17</td>\n",
       "      <td>480</td>\n",
       "      <td>NaN</td>\n",
       "      <td>1993</td>\n",
       "      <td>manual</td>\n",
       "      <td>0</td>\n",
       "      <td>golf</td>\n",
       "      <td>150000</td>\n",
       "      <td>0</td>\n",
       "      <td>petrol</td>\n",
       "      <td>volkswagen</td>\n",
       "      <td>NaN</td>\n",
       "      <td>2016-03-24 00:00:00</td>\n",
       "      <td>0</td>\n",
       "      <td>70435</td>\n",
       "      <td>2016-04-07 03:16:57</td>\n",
       "    </tr>\n",
       "    <tr>\n",
       "      <th>1</th>\n",
       "      <td>2016-03-24 10:58:45</td>\n",
       "      <td>18300</td>\n",
       "      <td>coupe</td>\n",
       "      <td>2011</td>\n",
       "      <td>manual</td>\n",
       "      <td>190</td>\n",
       "      <td>NaN</td>\n",
       "      <td>125000</td>\n",
       "      <td>5</td>\n",
       "      <td>gasoline</td>\n",
       "      <td>audi</td>\n",
       "      <td>yes</td>\n",
       "      <td>2016-03-24 00:00:00</td>\n",
       "      <td>0</td>\n",
       "      <td>66954</td>\n",
       "      <td>2016-04-07 01:46:50</td>\n",
       "    </tr>\n",
       "    <tr>\n",
       "      <th>2</th>\n",
       "      <td>2016-03-14 12:52:21</td>\n",
       "      <td>9800</td>\n",
       "      <td>suv</td>\n",
       "      <td>2004</td>\n",
       "      <td>auto</td>\n",
       "      <td>163</td>\n",
       "      <td>grand</td>\n",
       "      <td>125000</td>\n",
       "      <td>8</td>\n",
       "      <td>gasoline</td>\n",
       "      <td>jeep</td>\n",
       "      <td>NaN</td>\n",
       "      <td>2016-03-14 00:00:00</td>\n",
       "      <td>0</td>\n",
       "      <td>90480</td>\n",
       "      <td>2016-04-05 12:47:46</td>\n",
       "    </tr>\n",
       "    <tr>\n",
       "      <th>3</th>\n",
       "      <td>2016-03-17 16:54:04</td>\n",
       "      <td>1500</td>\n",
       "      <td>small</td>\n",
       "      <td>2001</td>\n",
       "      <td>manual</td>\n",
       "      <td>75</td>\n",
       "      <td>golf</td>\n",
       "      <td>150000</td>\n",
       "      <td>6</td>\n",
       "      <td>petrol</td>\n",
       "      <td>volkswagen</td>\n",
       "      <td>no</td>\n",
       "      <td>2016-03-17 00:00:00</td>\n",
       "      <td>0</td>\n",
       "      <td>91074</td>\n",
       "      <td>2016-03-17 17:40:17</td>\n",
       "    </tr>\n",
       "    <tr>\n",
       "      <th>4</th>\n",
       "      <td>2016-03-31 17:25:20</td>\n",
       "      <td>3600</td>\n",
       "      <td>small</td>\n",
       "      <td>2008</td>\n",
       "      <td>manual</td>\n",
       "      <td>69</td>\n",
       "      <td>fabia</td>\n",
       "      <td>90000</td>\n",
       "      <td>7</td>\n",
       "      <td>gasoline</td>\n",
       "      <td>skoda</td>\n",
       "      <td>no</td>\n",
       "      <td>2016-03-31 00:00:00</td>\n",
       "      <td>0</td>\n",
       "      <td>60437</td>\n",
       "      <td>2016-04-06 10:17:21</td>\n",
       "    </tr>\n",
       "    <tr>\n",
       "      <th>...</th>\n",
       "      <td>...</td>\n",
       "      <td>...</td>\n",
       "      <td>...</td>\n",
       "      <td>...</td>\n",
       "      <td>...</td>\n",
       "      <td>...</td>\n",
       "      <td>...</td>\n",
       "      <td>...</td>\n",
       "      <td>...</td>\n",
       "      <td>...</td>\n",
       "      <td>...</td>\n",
       "      <td>...</td>\n",
       "      <td>...</td>\n",
       "      <td>...</td>\n",
       "      <td>...</td>\n",
       "      <td>...</td>\n",
       "    </tr>\n",
       "    <tr>\n",
       "      <th>354364</th>\n",
       "      <td>2016-03-21 09:50:58</td>\n",
       "      <td>0</td>\n",
       "      <td>NaN</td>\n",
       "      <td>2005</td>\n",
       "      <td>manual</td>\n",
       "      <td>0</td>\n",
       "      <td>colt</td>\n",
       "      <td>150000</td>\n",
       "      <td>7</td>\n",
       "      <td>petrol</td>\n",
       "      <td>mitsubishi</td>\n",
       "      <td>yes</td>\n",
       "      <td>2016-03-21 00:00:00</td>\n",
       "      <td>0</td>\n",
       "      <td>2694</td>\n",
       "      <td>2016-03-21 10:42:49</td>\n",
       "    </tr>\n",
       "    <tr>\n",
       "      <th>354365</th>\n",
       "      <td>2016-03-14 17:48:27</td>\n",
       "      <td>2200</td>\n",
       "      <td>NaN</td>\n",
       "      <td>2005</td>\n",
       "      <td>NaN</td>\n",
       "      <td>0</td>\n",
       "      <td>NaN</td>\n",
       "      <td>20000</td>\n",
       "      <td>1</td>\n",
       "      <td>NaN</td>\n",
       "      <td>sonstige_autos</td>\n",
       "      <td>NaN</td>\n",
       "      <td>2016-03-14 00:00:00</td>\n",
       "      <td>0</td>\n",
       "      <td>39576</td>\n",
       "      <td>2016-04-06 00:46:52</td>\n",
       "    </tr>\n",
       "    <tr>\n",
       "      <th>354366</th>\n",
       "      <td>2016-03-05 19:56:21</td>\n",
       "      <td>1199</td>\n",
       "      <td>convertible</td>\n",
       "      <td>2000</td>\n",
       "      <td>auto</td>\n",
       "      <td>101</td>\n",
       "      <td>fortwo</td>\n",
       "      <td>125000</td>\n",
       "      <td>3</td>\n",
       "      <td>petrol</td>\n",
       "      <td>smart</td>\n",
       "      <td>no</td>\n",
       "      <td>2016-03-05 00:00:00</td>\n",
       "      <td>0</td>\n",
       "      <td>26135</td>\n",
       "      <td>2016-03-11 18:17:12</td>\n",
       "    </tr>\n",
       "    <tr>\n",
       "      <th>354367</th>\n",
       "      <td>2016-03-19 18:57:12</td>\n",
       "      <td>9200</td>\n",
       "      <td>bus</td>\n",
       "      <td>1996</td>\n",
       "      <td>manual</td>\n",
       "      <td>102</td>\n",
       "      <td>transporter</td>\n",
       "      <td>150000</td>\n",
       "      <td>3</td>\n",
       "      <td>gasoline</td>\n",
       "      <td>volkswagen</td>\n",
       "      <td>no</td>\n",
       "      <td>2016-03-19 00:00:00</td>\n",
       "      <td>0</td>\n",
       "      <td>87439</td>\n",
       "      <td>2016-04-07 07:15:26</td>\n",
       "    </tr>\n",
       "    <tr>\n",
       "      <th>354368</th>\n",
       "      <td>2016-03-20 19:41:08</td>\n",
       "      <td>3400</td>\n",
       "      <td>wagon</td>\n",
       "      <td>2002</td>\n",
       "      <td>manual</td>\n",
       "      <td>100</td>\n",
       "      <td>golf</td>\n",
       "      <td>150000</td>\n",
       "      <td>6</td>\n",
       "      <td>gasoline</td>\n",
       "      <td>volkswagen</td>\n",
       "      <td>NaN</td>\n",
       "      <td>2016-03-20 00:00:00</td>\n",
       "      <td>0</td>\n",
       "      <td>40764</td>\n",
       "      <td>2016-03-24 12:45:21</td>\n",
       "    </tr>\n",
       "  </tbody>\n",
       "</table>\n",
       "<p>354369 rows × 16 columns</p>\n",
       "</div>"
      ],
      "text/plain": [
       "                DateCrawled  Price  VehicleType  RegistrationYear Gearbox  \\\n",
       "0       2016-03-24 11:52:17    480          NaN              1993  manual   \n",
       "1       2016-03-24 10:58:45  18300        coupe              2011  manual   \n",
       "2       2016-03-14 12:52:21   9800          suv              2004    auto   \n",
       "3       2016-03-17 16:54:04   1500        small              2001  manual   \n",
       "4       2016-03-31 17:25:20   3600        small              2008  manual   \n",
       "...                     ...    ...          ...               ...     ...   \n",
       "354364  2016-03-21 09:50:58      0          NaN              2005  manual   \n",
       "354365  2016-03-14 17:48:27   2200          NaN              2005     NaN   \n",
       "354366  2016-03-05 19:56:21   1199  convertible              2000    auto   \n",
       "354367  2016-03-19 18:57:12   9200          bus              1996  manual   \n",
       "354368  2016-03-20 19:41:08   3400        wagon              2002  manual   \n",
       "\n",
       "        Power        Model  Kilometer  RegistrationMonth  FuelType  \\\n",
       "0           0         golf     150000                  0    petrol   \n",
       "1         190          NaN     125000                  5  gasoline   \n",
       "2         163        grand     125000                  8  gasoline   \n",
       "3          75         golf     150000                  6    petrol   \n",
       "4          69        fabia      90000                  7  gasoline   \n",
       "...       ...          ...        ...                ...       ...   \n",
       "354364      0         colt     150000                  7    petrol   \n",
       "354365      0          NaN      20000                  1       NaN   \n",
       "354366    101       fortwo     125000                  3    petrol   \n",
       "354367    102  transporter     150000                  3  gasoline   \n",
       "354368    100         golf     150000                  6  gasoline   \n",
       "\n",
       "                 Brand NotRepaired          DateCreated  NumberOfPictures  \\\n",
       "0           volkswagen         NaN  2016-03-24 00:00:00                 0   \n",
       "1                 audi         yes  2016-03-24 00:00:00                 0   \n",
       "2                 jeep         NaN  2016-03-14 00:00:00                 0   \n",
       "3           volkswagen          no  2016-03-17 00:00:00                 0   \n",
       "4                skoda          no  2016-03-31 00:00:00                 0   \n",
       "...                ...         ...                  ...               ...   \n",
       "354364      mitsubishi         yes  2016-03-21 00:00:00                 0   \n",
       "354365  sonstige_autos         NaN  2016-03-14 00:00:00                 0   \n",
       "354366           smart          no  2016-03-05 00:00:00                 0   \n",
       "354367      volkswagen          no  2016-03-19 00:00:00                 0   \n",
       "354368      volkswagen         NaN  2016-03-20 00:00:00                 0   \n",
       "\n",
       "        PostalCode             LastSeen  \n",
       "0            70435  2016-04-07 03:16:57  \n",
       "1            66954  2016-04-07 01:46:50  \n",
       "2            90480  2016-04-05 12:47:46  \n",
       "3            91074  2016-03-17 17:40:17  \n",
       "4            60437  2016-04-06 10:17:21  \n",
       "...            ...                  ...  \n",
       "354364        2694  2016-03-21 10:42:49  \n",
       "354365       39576  2016-04-06 00:46:52  \n",
       "354366       26135  2016-03-11 18:17:12  \n",
       "354367       87439  2016-04-07 07:15:26  \n",
       "354368       40764  2016-03-24 12:45:21  \n",
       "\n",
       "[354369 rows x 16 columns]"
      ]
     },
     "execution_count": 13,
     "metadata": {},
     "output_type": "execute_result"
    }
   ],
   "source": [
    "df"
   ]
  },
  {
   "cell_type": "markdown",
   "metadata": {},
   "source": [
    "Сразу приведем названия признаков к каноничному «змеиному регистру» и продолжим знакомство с датасетом."
   ]
  },
  {
   "cell_type": "code",
   "execution_count": 95,
   "metadata": {},
   "outputs": [],
   "source": [
    "df.columns = [re.sub(r'(?<!^)(?=[A-Z])', '_', col).lower() for col in df.columns]"
   ]
  },
  {
   "cell_type": "code",
   "execution_count": 15,
   "metadata": {},
   "outputs": [
    {
     "name": "stdout",
     "output_type": "stream",
     "text": [
      "<class 'pandas.core.frame.DataFrame'>\n",
      "RangeIndex: 354369 entries, 0 to 354368\n",
      "Data columns (total 16 columns):\n",
      " #   Column              Non-Null Count   Dtype \n",
      "---  ------              --------------   ----- \n",
      " 0   date_crawled        354369 non-null  object\n",
      " 1   price               354369 non-null  int64 \n",
      " 2   vehicle_type        316879 non-null  object\n",
      " 3   registration_year   354369 non-null  int64 \n",
      " 4   gearbox             334536 non-null  object\n",
      " 5   power               354369 non-null  int64 \n",
      " 6   model               334664 non-null  object\n",
      " 7   kilometer           354369 non-null  int64 \n",
      " 8   registration_month  354369 non-null  int64 \n",
      " 9   fuel_type           321474 non-null  object\n",
      " 10  brand               354369 non-null  object\n",
      " 11  not_repaired        283215 non-null  object\n",
      " 12  date_created        354369 non-null  object\n",
      " 13  number_of_pictures  354369 non-null  int64 \n",
      " 14  postal_code         354369 non-null  int64 \n",
      " 15  last_seen           354369 non-null  object\n",
      "dtypes: int64(7), object(9)\n",
      "memory usage: 43.3+ MB\n"
     ]
    }
   ],
   "source": [
    "df.info()"
   ]
  },
  {
   "cell_type": "code",
   "execution_count": 16,
   "metadata": {},
   "outputs": [
    {
     "data": {
      "text/html": [
       "<div>\n",
       "<style scoped>\n",
       "    .dataframe tbody tr th:only-of-type {\n",
       "        vertical-align: middle;\n",
       "    }\n",
       "\n",
       "    .dataframe tbody tr th {\n",
       "        vertical-align: top;\n",
       "    }\n",
       "\n",
       "    .dataframe thead th {\n",
       "        text-align: right;\n",
       "    }\n",
       "</style>\n",
       "<table border=\"1\" class=\"dataframe\">\n",
       "  <thead>\n",
       "    <tr style=\"text-align: right;\">\n",
       "      <th></th>\n",
       "      <th>price</th>\n",
       "      <th>registration_year</th>\n",
       "      <th>power</th>\n",
       "      <th>kilometer</th>\n",
       "      <th>registration_month</th>\n",
       "      <th>number_of_pictures</th>\n",
       "      <th>postal_code</th>\n",
       "    </tr>\n",
       "  </thead>\n",
       "  <tbody>\n",
       "    <tr>\n",
       "      <th>count</th>\n",
       "      <td>354369.000000</td>\n",
       "      <td>354369.000000</td>\n",
       "      <td>354369.000000</td>\n",
       "      <td>354369.000000</td>\n",
       "      <td>354369.000000</td>\n",
       "      <td>354369.0</td>\n",
       "      <td>354369.000000</td>\n",
       "    </tr>\n",
       "    <tr>\n",
       "      <th>mean</th>\n",
       "      <td>4416.656776</td>\n",
       "      <td>2004.234448</td>\n",
       "      <td>110.094337</td>\n",
       "      <td>128211.172535</td>\n",
       "      <td>5.714645</td>\n",
       "      <td>0.0</td>\n",
       "      <td>50508.689087</td>\n",
       "    </tr>\n",
       "    <tr>\n",
       "      <th>std</th>\n",
       "      <td>4514.158514</td>\n",
       "      <td>90.227958</td>\n",
       "      <td>189.850405</td>\n",
       "      <td>37905.341530</td>\n",
       "      <td>3.726421</td>\n",
       "      <td>0.0</td>\n",
       "      <td>25783.096248</td>\n",
       "    </tr>\n",
       "    <tr>\n",
       "      <th>min</th>\n",
       "      <td>0.000000</td>\n",
       "      <td>1000.000000</td>\n",
       "      <td>0.000000</td>\n",
       "      <td>5000.000000</td>\n",
       "      <td>0.000000</td>\n",
       "      <td>0.0</td>\n",
       "      <td>1067.000000</td>\n",
       "    </tr>\n",
       "    <tr>\n",
       "      <th>25%</th>\n",
       "      <td>1050.000000</td>\n",
       "      <td>1999.000000</td>\n",
       "      <td>69.000000</td>\n",
       "      <td>125000.000000</td>\n",
       "      <td>3.000000</td>\n",
       "      <td>0.0</td>\n",
       "      <td>30165.000000</td>\n",
       "    </tr>\n",
       "    <tr>\n",
       "      <th>50%</th>\n",
       "      <td>2700.000000</td>\n",
       "      <td>2003.000000</td>\n",
       "      <td>105.000000</td>\n",
       "      <td>150000.000000</td>\n",
       "      <td>6.000000</td>\n",
       "      <td>0.0</td>\n",
       "      <td>49413.000000</td>\n",
       "    </tr>\n",
       "    <tr>\n",
       "      <th>75%</th>\n",
       "      <td>6400.000000</td>\n",
       "      <td>2008.000000</td>\n",
       "      <td>143.000000</td>\n",
       "      <td>150000.000000</td>\n",
       "      <td>9.000000</td>\n",
       "      <td>0.0</td>\n",
       "      <td>71083.000000</td>\n",
       "    </tr>\n",
       "    <tr>\n",
       "      <th>max</th>\n",
       "      <td>20000.000000</td>\n",
       "      <td>9999.000000</td>\n",
       "      <td>20000.000000</td>\n",
       "      <td>150000.000000</td>\n",
       "      <td>12.000000</td>\n",
       "      <td>0.0</td>\n",
       "      <td>99998.000000</td>\n",
       "    </tr>\n",
       "  </tbody>\n",
       "</table>\n",
       "</div>"
      ],
      "text/plain": [
       "               price  registration_year          power      kilometer  \\\n",
       "count  354369.000000      354369.000000  354369.000000  354369.000000   \n",
       "mean     4416.656776        2004.234448     110.094337  128211.172535   \n",
       "std      4514.158514          90.227958     189.850405   37905.341530   \n",
       "min         0.000000        1000.000000       0.000000    5000.000000   \n",
       "25%      1050.000000        1999.000000      69.000000  125000.000000   \n",
       "50%      2700.000000        2003.000000     105.000000  150000.000000   \n",
       "75%      6400.000000        2008.000000     143.000000  150000.000000   \n",
       "max     20000.000000        9999.000000   20000.000000  150000.000000   \n",
       "\n",
       "       registration_month  number_of_pictures    postal_code  \n",
       "count       354369.000000            354369.0  354369.000000  \n",
       "mean             5.714645                 0.0   50508.689087  \n",
       "std              3.726421                 0.0   25783.096248  \n",
       "min              0.000000                 0.0    1067.000000  \n",
       "25%              3.000000                 0.0   30165.000000  \n",
       "50%              6.000000                 0.0   49413.000000  \n",
       "75%              9.000000                 0.0   71083.000000  \n",
       "max             12.000000                 0.0   99998.000000  "
      ]
     },
     "execution_count": 16,
     "metadata": {},
     "output_type": "execute_result"
    }
   ],
   "source": [
    "df.describe()"
   ]
  },
  {
   "cell_type": "code",
   "execution_count": 17,
   "metadata": {},
   "outputs": [
    {
     "data": {
      "text/html": [
       "<div>\n",
       "<style scoped>\n",
       "    .dataframe tbody tr th:only-of-type {\n",
       "        vertical-align: middle;\n",
       "    }\n",
       "\n",
       "    .dataframe tbody tr th {\n",
       "        vertical-align: top;\n",
       "    }\n",
       "\n",
       "    .dataframe thead th {\n",
       "        text-align: right;\n",
       "    }\n",
       "</style>\n",
       "<table border=\"1\" class=\"dataframe\">\n",
       "  <thead>\n",
       "    <tr style=\"text-align: right;\">\n",
       "      <th></th>\n",
       "      <th>na_num</th>\n",
       "      <th>na_rate</th>\n",
       "    </tr>\n",
       "  </thead>\n",
       "  <tbody>\n",
       "    <tr>\n",
       "      <th>vehicle_type</th>\n",
       "      <td>37490</td>\n",
       "      <td>0.105794</td>\n",
       "    </tr>\n",
       "    <tr>\n",
       "      <th>gearbox</th>\n",
       "      <td>19833</td>\n",
       "      <td>0.055967</td>\n",
       "    </tr>\n",
       "    <tr>\n",
       "      <th>model</th>\n",
       "      <td>19705</td>\n",
       "      <td>0.055606</td>\n",
       "    </tr>\n",
       "    <tr>\n",
       "      <th>fuel_type</th>\n",
       "      <td>32895</td>\n",
       "      <td>0.092827</td>\n",
       "    </tr>\n",
       "    <tr>\n",
       "      <th>not_repaired</th>\n",
       "      <td>71154</td>\n",
       "      <td>0.200791</td>\n",
       "    </tr>\n",
       "  </tbody>\n",
       "</table>\n",
       "</div>"
      ],
      "text/plain": [
       "              na_num   na_rate\n",
       "vehicle_type   37490  0.105794\n",
       "gearbox        19833  0.055967\n",
       "model          19705  0.055606\n",
       "fuel_type      32895  0.092827\n",
       "not_repaired   71154  0.200791"
      ]
     },
     "execution_count": 17,
     "metadata": {},
     "output_type": "execute_result"
    }
   ],
   "source": [
    "pd.concat([\n",
    "    df.isna().sum().rename('na_num'), \n",
    "    df.isna().mean().rename('na_rate')\n",
    "], axis=1).query('na_num > 0')"
   ]
  },
  {
   "cell_type": "markdown",
   "metadata": {},
   "source": [
    "Три признака-даты сохранены как текст, еще один – в виде двух чисел: года и месяца. Явные пропуски есть только в категориальных признаках: во всех, кроме марки автомобиля. "
   ]
  },
  {
   "cell_type": "markdown",
   "metadata": {},
   "source": [
    "Столбец с количеством фото нулевой – удалим его."
   ]
  },
  {
   "cell_type": "code",
   "execution_count": 18,
   "metadata": {
    "scrolled": true
   },
   "outputs": [],
   "source": [
    "df = df.drop(columns='number_of_pictures')"
   ]
  },
  {
   "cell_type": "markdown",
   "metadata": {},
   "source": [
    "Удалим полные дубли."
   ]
  },
  {
   "cell_type": "code",
   "execution_count": 19,
   "metadata": {},
   "outputs": [
    {
     "name": "stdout",
     "output_type": "stream",
     "text": [
      "4\n"
     ]
    }
   ],
   "source": [
    "print(df.duplicated().sum())\n",
    "df = df.drop_duplicates()"
   ]
  },
  {
   "cell_type": "markdown",
   "metadata": {},
   "source": [
    "Напишем универсальную функцию для рисования гистограммы по выбранному столбцу датасета."
   ]
  },
  {
   "cell_type": "code",
   "execution_count": 20,
   "metadata": {},
   "outputs": [],
   "source": [
    "def my_hist(by, bins=20, title=None, numeric=None, year=False, xticks_rot=0,\n",
    "            sort_index=False, head=None, **kwargs):\n",
    "    '''Plots histogram of column “by” in dataset “df”'''\n",
    "    \n",
    "    if not title: \n",
    "        title = by.replace('_', ' ').title() + ' Histogram'\n",
    "    if year:\n",
    "        col = df[by].dt.year\n",
    "    else:\n",
    "        col = df[by]\n",
    "    if numeric is None: numeric = pd.api.types.is_numeric_dtype(col)\n",
    "    kwargs = dict(kwargs, alpha=.7, title=title)\n",
    "    \n",
    "    if numeric: \n",
    "        col.plot.hist(bins=bins, edgecolor='k', **kwargs); \n",
    "    else: \n",
    "        vc = col.value_counts(dropna=False)\n",
    "        if sort_index: vc = vc.sort_index()\n",
    "        if head: vc = vc.head(head)\n",
    "        vc.plot(kind='bar', grid=False, **kwargs);\n",
    "            \n",
    "    plt.xticks(rotation=xticks_rot);\n",
    "    plt.xlabel('');\n",
    "    plt.ylabel('Number of Objects');\n",
    "    plt.show();\n",
    "    \n",
    "    if numeric: print(f'{col.min()} ≤ {by} ≤ {col.max()}');"
   ]
  },
  {
   "cell_type": "markdown",
   "metadata": {
    "tags": []
   },
   "source": [
    "### Признаки-даты"
   ]
  },
  {
   "cell_type": "markdown",
   "metadata": {},
   "source": [
    "Приведем столбцы с датами к типу `datetime`."
   ]
  },
  {
   "cell_type": "code",
   "execution_count": 93,
   "metadata": {},
   "outputs": [],
   "source": [
    "date_cols = ['date_crawled', 'date_created', 'last_seen']"
   ]
  },
  {
   "cell_type": "code",
   "execution_count": 96,
   "metadata": {},
   "outputs": [],
   "source": [
    "df[date_cols] = df[date_cols].apply(pd.to_datetime, format='%Y-%m-%d %H:%M:%S')"
   ]
  },
  {
   "cell_type": "code",
   "execution_count": 99,
   "metadata": {},
   "outputs": [
    {
     "data": {
      "text/html": [
       "<div>\n",
       "<style scoped>\n",
       "    .dataframe tbody tr th:only-of-type {\n",
       "        vertical-align: middle;\n",
       "    }\n",
       "\n",
       "    .dataframe tbody tr th {\n",
       "        vertical-align: top;\n",
       "    }\n",
       "\n",
       "    .dataframe thead th {\n",
       "        text-align: right;\n",
       "    }\n",
       "</style>\n",
       "<table border=\"1\" class=\"dataframe\">\n",
       "  <thead>\n",
       "    <tr style=\"text-align: right;\">\n",
       "      <th></th>\n",
       "      <th>date_crawled</th>\n",
       "      <th>date_created</th>\n",
       "      <th>last_seen</th>\n",
       "    </tr>\n",
       "  </thead>\n",
       "  <tbody>\n",
       "    <tr>\n",
       "      <th>count</th>\n",
       "      <td>354369</td>\n",
       "      <td>354369</td>\n",
       "      <td>354369</td>\n",
       "    </tr>\n",
       "    <tr>\n",
       "      <th>mean</th>\n",
       "      <td>2016-03-21 12:58:10.450648320</td>\n",
       "      <td>2016-03-20 19:12:07.753274112</td>\n",
       "      <td>2016-03-29 23:51:00.667456768</td>\n",
       "    </tr>\n",
       "    <tr>\n",
       "      <th>min</th>\n",
       "      <td>2016-03-05 14:06:22</td>\n",
       "      <td>2014-03-10 00:00:00</td>\n",
       "      <td>2016-03-05 14:15:08</td>\n",
       "    </tr>\n",
       "    <tr>\n",
       "      <th>25%</th>\n",
       "      <td>2016-03-13 11:52:33</td>\n",
       "      <td>2016-03-13 00:00:00</td>\n",
       "      <td>2016-03-23 02:50:03</td>\n",
       "    </tr>\n",
       "    <tr>\n",
       "      <th>50%</th>\n",
       "      <td>2016-03-21 17:50:55</td>\n",
       "      <td>2016-03-21 00:00:00</td>\n",
       "      <td>2016-04-03 15:15:51</td>\n",
       "    </tr>\n",
       "    <tr>\n",
       "      <th>75%</th>\n",
       "      <td>2016-03-29 14:37:20</td>\n",
       "      <td>2016-03-29 00:00:00</td>\n",
       "      <td>2016-04-06 10:15:19</td>\n",
       "    </tr>\n",
       "    <tr>\n",
       "      <th>max</th>\n",
       "      <td>2016-04-07 14:36:58</td>\n",
       "      <td>2016-04-07 00:00:00</td>\n",
       "      <td>2016-04-07 14:58:51</td>\n",
       "    </tr>\n",
       "  </tbody>\n",
       "</table>\n",
       "</div>"
      ],
      "text/plain": [
       "                        date_crawled                   date_created  \\\n",
       "count                         354369                         354369   \n",
       "mean   2016-03-21 12:58:10.450648320  2016-03-20 19:12:07.753274112   \n",
       "min              2016-03-05 14:06:22            2014-03-10 00:00:00   \n",
       "25%              2016-03-13 11:52:33            2016-03-13 00:00:00   \n",
       "50%              2016-03-21 17:50:55            2016-03-21 00:00:00   \n",
       "75%              2016-03-29 14:37:20            2016-03-29 00:00:00   \n",
       "max              2016-04-07 14:36:58            2016-04-07 00:00:00   \n",
       "\n",
       "                           last_seen  \n",
       "count                         354369  \n",
       "mean   2016-03-29 23:51:00.667456768  \n",
       "min              2016-03-05 14:15:08  \n",
       "25%              2016-03-23 02:50:03  \n",
       "50%              2016-04-03 15:15:51  \n",
       "75%              2016-04-06 10:15:19  \n",
       "max              2016-04-07 14:58:51  "
      ]
     },
     "execution_count": 99,
     "metadata": {},
     "output_type": "execute_result"
    }
   ],
   "source": [
    "df[date_cols].describe(datetime_is_numeric=True)"
   ]
  },
  {
   "cell_type": "markdown",
   "metadata": {},
   "source": [
    "Объявления создавались с 2014 по 2016 годы, а скачивались в марте–апреле 2016."
   ]
  },
  {
   "cell_type": "markdown",
   "metadata": {},
   "source": [
    "Если рассматривать коллекционные авто как выбросы, то можно считать, что стоимость автомобиля зависит не от года его выпуска, а от его возраста в годах, то есть разницы между текущим годом и годом регистрации (*здесь мы допускаем, что возраст достаточно определить с точностью до года (месяцами пренебрегаем) и что автомобиль не эксплуатировался с момента выпуска до регистрации*). Это значит, что четыре признака-даты в датасете можно заменить одним – возрастом автомобиля в годах, который будет разницей между годом создания объявления и годом регистрации. \n",
    "\n",
    "Вспомним, что наша задача – разработать модель, максимально точно определяющую рыночную стоимость автомобиля по данным о нем, которые введет пользователь. Для обучения модели необходимо использовать данные, очищенные от выбросов, потому что они ухудшат качество предсказаний. Поэтому перед расчетом возраста очистим от выбросов признак `registration_year`."
   ]
  },
  {
   "cell_type": "code",
   "execution_count": 24,
   "metadata": {},
   "outputs": [
    {
     "data": {
      "image/png": "[encoded data removed]",
      "text/plain": [
       "<Figure size 2160x432 with 1 Axes>"
      ]
     },
     "metadata": {},
     "output_type": "display_data"
    }
   ],
   "source": [
    "my_hist('registration_year', numeric=False, figsize=(30, 6), logy=True,\n",
    "       xticks_rot=90, sort_index=True)"
   ]
  },
  {
   "cell_type": "markdown",
   "metadata": {},
   "source": [
    "Глядя на гистограмму, выберем такие границы выбросов: 1950 и 2019 годы. Объявления с годом регистрации авто с 2017 по 2019 будем считать либо преувеличением автором новизны продаваемого автомобиля, либо предзаказом."
   ]
  },
  {
   "cell_type": "code",
   "execution_count": 25,
   "metadata": {
    "tags": []
   },
   "outputs": [
    {
     "name": "stdout",
     "output_type": "stream",
     "text": [
      "351 0.0009905041412103799\n"
     ]
    }
   ],
   "source": [
    "len_before = len(df)\n",
    "df = df.query('1950 <= registration_year <= 2019')\n",
    "len_after = len(df)\n",
    "print(len_before-len_after, 1 - len_after/len_before)"
   ]
  },
  {
   "cell_type": "markdown",
   "metadata": {},
   "source": [
    "Выбросов оказалось всего 0,1%. Взглянем на распределение объявлений по годам создания и рассчитаем возраст авто."
   ]
  },
  {
   "cell_type": "code",
   "execution_count": 26,
   "metadata": {},
   "outputs": [
    {
     "data": {
      "image/png": "[encoded data removed]",
      "text/plain": [
       "<Figure size 432x288 with 1 Axes>"
      ]
     },
     "metadata": {},
     "output_type": "display_data"
    }
   ],
   "source": [
    "my_hist('date_created', title='Year Created Histogram', year=True, logy=True,\n",
    "        numeric=False, sort_index=True)"
   ]
  },
  {
   "cell_type": "code",
   "execution_count": 27,
   "metadata": {},
   "outputs": [],
   "source": [
    "df['years_old'] = (df['date_created'].dt.year \n",
    "                   - df['registration_year']).clip(0).astype('uint8')"
   ]
  },
  {
   "cell_type": "markdown",
   "metadata": {},
   "source": [
    "Удалим ненужные уже признаки-даты."
   ]
  },
  {
   "cell_type": "code",
   "execution_count": 28,
   "metadata": {},
   "outputs": [],
   "source": [
    "df = df.drop(columns=date_cols+['registration_year', 'registration_month'])"
   ]
  },
  {
   "cell_type": "code",
   "execution_count": 29,
   "metadata": {},
   "outputs": [
    {
     "data": {
      "text/html": [
       "<div>\n",
       "<style scoped>\n",
       "    .dataframe tbody tr th:only-of-type {\n",
       "        vertical-align: middle;\n",
       "    }\n",
       "\n",
       "    .dataframe tbody tr th {\n",
       "        vertical-align: top;\n",
       "    }\n",
       "\n",
       "    .dataframe thead th {\n",
       "        text-align: right;\n",
       "    }\n",
       "</style>\n",
       "<table border=\"1\" class=\"dataframe\">\n",
       "  <thead>\n",
       "    <tr style=\"text-align: right;\">\n",
       "      <th></th>\n",
       "      <th>price</th>\n",
       "      <th>vehicle_type</th>\n",
       "      <th>gearbox</th>\n",
       "      <th>power</th>\n",
       "      <th>model</th>\n",
       "      <th>kilometer</th>\n",
       "      <th>fuel_type</th>\n",
       "      <th>brand</th>\n",
       "      <th>not_repaired</th>\n",
       "      <th>postal_code</th>\n",
       "      <th>years_old</th>\n",
       "    </tr>\n",
       "  </thead>\n",
       "  <tbody>\n",
       "    <tr>\n",
       "      <th>0</th>\n",
       "      <td>480</td>\n",
       "      <td>NaN</td>\n",
       "      <td>manual</td>\n",
       "      <td>0</td>\n",
       "      <td>golf</td>\n",
       "      <td>150000</td>\n",
       "      <td>petrol</td>\n",
       "      <td>volkswagen</td>\n",
       "      <td>NaN</td>\n",
       "      <td>70435</td>\n",
       "      <td>23</td>\n",
       "    </tr>\n",
       "    <tr>\n",
       "      <th>1</th>\n",
       "      <td>18300</td>\n",
       "      <td>coupe</td>\n",
       "      <td>manual</td>\n",
       "      <td>190</td>\n",
       "      <td>NaN</td>\n",
       "      <td>125000</td>\n",
       "      <td>gasoline</td>\n",
       "      <td>audi</td>\n",
       "      <td>yes</td>\n",
       "      <td>66954</td>\n",
       "      <td>5</td>\n",
       "    </tr>\n",
       "    <tr>\n",
       "      <th>2</th>\n",
       "      <td>9800</td>\n",
       "      <td>suv</td>\n",
       "      <td>auto</td>\n",
       "      <td>163</td>\n",
       "      <td>grand</td>\n",
       "      <td>125000</td>\n",
       "      <td>gasoline</td>\n",
       "      <td>jeep</td>\n",
       "      <td>NaN</td>\n",
       "      <td>90480</td>\n",
       "      <td>12</td>\n",
       "    </tr>\n",
       "    <tr>\n",
       "      <th>3</th>\n",
       "      <td>1500</td>\n",
       "      <td>small</td>\n",
       "      <td>manual</td>\n",
       "      <td>75</td>\n",
       "      <td>golf</td>\n",
       "      <td>150000</td>\n",
       "      <td>petrol</td>\n",
       "      <td>volkswagen</td>\n",
       "      <td>no</td>\n",
       "      <td>91074</td>\n",
       "      <td>15</td>\n",
       "    </tr>\n",
       "    <tr>\n",
       "      <th>4</th>\n",
       "      <td>3600</td>\n",
       "      <td>small</td>\n",
       "      <td>manual</td>\n",
       "      <td>69</td>\n",
       "      <td>fabia</td>\n",
       "      <td>90000</td>\n",
       "      <td>gasoline</td>\n",
       "      <td>skoda</td>\n",
       "      <td>no</td>\n",
       "      <td>60437</td>\n",
       "      <td>8</td>\n",
       "    </tr>\n",
       "    <tr>\n",
       "      <th>...</th>\n",
       "      <td>...</td>\n",
       "      <td>...</td>\n",
       "      <td>...</td>\n",
       "      <td>...</td>\n",
       "      <td>...</td>\n",
       "      <td>...</td>\n",
       "      <td>...</td>\n",
       "      <td>...</td>\n",
       "      <td>...</td>\n",
       "      <td>...</td>\n",
       "      <td>...</td>\n",
       "    </tr>\n",
       "    <tr>\n",
       "      <th>354364</th>\n",
       "      <td>0</td>\n",
       "      <td>NaN</td>\n",
       "      <td>manual</td>\n",
       "      <td>0</td>\n",
       "      <td>colt</td>\n",
       "      <td>150000</td>\n",
       "      <td>petrol</td>\n",
       "      <td>mitsubishi</td>\n",
       "      <td>yes</td>\n",
       "      <td>2694</td>\n",
       "      <td>11</td>\n",
       "    </tr>\n",
       "    <tr>\n",
       "      <th>354365</th>\n",
       "      <td>2200</td>\n",
       "      <td>NaN</td>\n",
       "      <td>NaN</td>\n",
       "      <td>0</td>\n",
       "      <td>NaN</td>\n",
       "      <td>20000</td>\n",
       "      <td>NaN</td>\n",
       "      <td>sonstige_autos</td>\n",
       "      <td>NaN</td>\n",
       "      <td>39576</td>\n",
       "      <td>11</td>\n",
       "    </tr>\n",
       "    <tr>\n",
       "      <th>354366</th>\n",
       "      <td>1199</td>\n",
       "      <td>convertible</td>\n",
       "      <td>auto</td>\n",
       "      <td>101</td>\n",
       "      <td>fortwo</td>\n",
       "      <td>125000</td>\n",
       "      <td>petrol</td>\n",
       "      <td>smart</td>\n",
       "      <td>no</td>\n",
       "      <td>26135</td>\n",
       "      <td>16</td>\n",
       "    </tr>\n",
       "    <tr>\n",
       "      <th>354367</th>\n",
       "      <td>9200</td>\n",
       "      <td>bus</td>\n",
       "      <td>manual</td>\n",
       "      <td>102</td>\n",
       "      <td>transporter</td>\n",
       "      <td>150000</td>\n",
       "      <td>gasoline</td>\n",
       "      <td>volkswagen</td>\n",
       "      <td>no</td>\n",
       "      <td>87439</td>\n",
       "      <td>20</td>\n",
       "    </tr>\n",
       "    <tr>\n",
       "      <th>354368</th>\n",
       "      <td>3400</td>\n",
       "      <td>wagon</td>\n",
       "      <td>manual</td>\n",
       "      <td>100</td>\n",
       "      <td>golf</td>\n",
       "      <td>150000</td>\n",
       "      <td>gasoline</td>\n",
       "      <td>volkswagen</td>\n",
       "      <td>NaN</td>\n",
       "      <td>40764</td>\n",
       "      <td>14</td>\n",
       "    </tr>\n",
       "  </tbody>\n",
       "</table>\n",
       "<p>354014 rows × 11 columns</p>\n",
       "</div>"
      ],
      "text/plain": [
       "        price vehicle_type gearbox  power        model  kilometer fuel_type  \\\n",
       "0         480          NaN  manual      0         golf     150000    petrol   \n",
       "1       18300        coupe  manual    190          NaN     125000  gasoline   \n",
       "2        9800          suv    auto    163        grand     125000  gasoline   \n",
       "3        1500        small  manual     75         golf     150000    petrol   \n",
       "4        3600        small  manual     69        fabia      90000  gasoline   \n",
       "...       ...          ...     ...    ...          ...        ...       ...   \n",
       "354364      0          NaN  manual      0         colt     150000    petrol   \n",
       "354365   2200          NaN     NaN      0          NaN      20000       NaN   \n",
       "354366   1199  convertible    auto    101       fortwo     125000    petrol   \n",
       "354367   9200          bus  manual    102  transporter     150000  gasoline   \n",
       "354368   3400        wagon  manual    100         golf     150000  gasoline   \n",
       "\n",
       "                 brand not_repaired  postal_code  years_old  \n",
       "0           volkswagen          NaN        70435         23  \n",
       "1                 audi          yes        66954          5  \n",
       "2                 jeep          NaN        90480         12  \n",
       "3           volkswagen           no        91074         15  \n",
       "4                skoda           no        60437          8  \n",
       "...                ...          ...          ...        ...  \n",
       "354364      mitsubishi          yes         2694         11  \n",
       "354365  sonstige_autos          NaN        39576         11  \n",
       "354366           smart           no        26135         16  \n",
       "354367      volkswagen           no        87439         20  \n",
       "354368      volkswagen          NaN        40764         14  \n",
       "\n",
       "[354014 rows x 11 columns]"
      ]
     },
     "execution_count": 29,
     "metadata": {},
     "output_type": "execute_result"
    }
   ],
   "source": [
    "df"
   ]
  },
  {
   "cell_type": "markdown",
   "metadata": {
    "tags": []
   },
   "source": [
    "### Количественные признаки"
   ]
  },
  {
   "cell_type": "markdown",
   "metadata": {},
   "source": [
    "Посмотрим на гистограмму цен."
   ]
  },
  {
   "cell_type": "code",
   "execution_count": 30,
   "metadata": {},
   "outputs": [
    {
     "data": {
      "image/png": "[encoded data removed]",
      "text/plain": [
       "<Figure size 432x288 with 1 Axes>"
      ]
     },
     "metadata": {},
     "output_type": "display_data"
    },
    {
     "name": "stdout",
     "output_type": "stream",
     "text": [
      "0 ≤ price ≤ 20000\n"
     ]
    }
   ],
   "source": [
    "my_hist('price', bins=np.logspace(0, 5, 20), loglog=True)"
   ]
  },
  {
   "cell_type": "markdown",
   "metadata": {},
   "source": [
    "Проверим, сколько объявлений с нулевой ценой."
   ]
  },
  {
   "cell_type": "code",
   "execution_count": 31,
   "metadata": {},
   "outputs": [
    {
     "data": {
      "text/plain": [
       "0    0.030185\n",
       "1    0.003299\n",
       "2    0.000034\n",
       "3    0.000023\n",
       "4    0.000003\n",
       "Name: price, dtype: float64"
      ]
     },
     "execution_count": 31,
     "metadata": {},
     "output_type": "execute_result"
    }
   ],
   "source": [
    "df['price'].value_counts(normalize=True).sort_index().head()"
   ]
  },
  {
   "cell_type": "markdown",
   "metadata": {},
   "source": [
    "Таких объявлений немало – 3%. Нулевая цена – это неявный пропуск. Пропуски в целевом признаке делают объекты бесполезными для обучения – удалим такие объявления."
   ]
  },
  {
   "cell_type": "code",
   "execution_count": 32,
   "metadata": {
    "tags": []
   },
   "outputs": [
    {
     "name": "stdout",
     "output_type": "stream",
     "text": [
      "10686 0.030185246911139108\n"
     ]
    }
   ],
   "source": [
    "len_before = len(df)\n",
    "df = df.query('price > 0')\n",
    "len_after = len(df)\n",
    "print(len_before-len_after, 1 - len_after/len_before)"
   ]
  },
  {
   "cell_type": "markdown",
   "metadata": {},
   "source": [
    "Исследуем гистограмму мощности двигателя."
   ]
  },
  {
   "cell_type": "code",
   "execution_count": 33,
   "metadata": {},
   "outputs": [
    {
     "data": {
      "image/png": "[encoded data removed]",
      "text/plain": [
       "<Figure size 432x288 with 1 Axes>"
      ]
     },
     "metadata": {},
     "output_type": "display_data"
    },
    {
     "name": "stdout",
     "output_type": "stream",
     "text": [
      "0 ≤ power ≤ 20000\n"
     ]
    }
   ],
   "source": [
    "my_hist('power', bins=np.logspace(-1, 5, 20), loglog=True)"
   ]
  },
  {
   "cell_type": "code",
   "execution_count": 34,
   "metadata": {},
   "outputs": [
    {
     "data": {
      "text/plain": [
       "0    0.105380\n",
       "1    0.000076\n",
       "2    0.000026\n",
       "3    0.000023\n",
       "4    0.000087\n",
       "Name: power, dtype: float64"
      ]
     },
     "execution_count": 34,
     "metadata": {},
     "output_type": "execute_result"
    }
   ],
   "source": [
    "df['power'].value_counts(normalize=True).sort_index().head()"
   ]
  },
  {
   "cell_type": "markdown",
   "metadata": {},
   "source": [
    "Объявлений с нулевой мощностью еще больше, чем с нулевой ценой – 11%. Так же, как и в случае с ценой, это неявные пропуски. LightGBM умеет работать с пропусками в признаках, но другие модели, которые мы будем использовать для сравнения, – нет. Однако сама по себе мощность не должна сильно влиять на цену, потому что вполне определяется моделью и другими фичами авто. Т.е. этот признак, скорее всего, не очень значим. А потому позволим себе проще отнестись к пропускам в нем: заменим нули на `NaN`, чтобы довериться алгоритму LightGBM, а для других моделей потом сделаем обратную замену в пайплайне."
   ]
  },
  {
   "cell_type": "code",
   "execution_count": 35,
   "metadata": {},
   "outputs": [],
   "source": [
    "df['power'] = df['power'].replace(0, np.nan)"
   ]
  },
  {
   "cell_type": "markdown",
   "metadata": {},
   "source": [
    "Посмотрим на гистограмму пробега."
   ]
  },
  {
   "cell_type": "code",
   "execution_count": 36,
   "metadata": {},
   "outputs": [
    {
     "data": {
      "image/png": "[encoded data removed]",
      "text/plain": [
       "<Figure size 432x288 with 1 Axes>"
      ]
     },
     "metadata": {},
     "output_type": "display_data"
    },
    {
     "name": "stdout",
     "output_type": "stream",
     "text": [
      "5000 ≤ kilometer ≤ 150000\n"
     ]
    }
   ],
   "source": [
    "my_hist('kilometer', bins=30, logy=True)"
   ]
  },
  {
   "cell_type": "code",
   "execution_count": 37,
   "metadata": {
    "tags": []
   },
   "outputs": [
    {
     "data": {
      "text/plain": [
       "5000        5224\n",
       "10000       1098\n",
       "20000       3834\n",
       "30000       4327\n",
       "40000       4854\n",
       "50000       6148\n",
       "60000       7365\n",
       "70000       8491\n",
       "80000       9899\n",
       "90000      11390\n",
       "100000     14440\n",
       "125000     35759\n",
       "150000    230499\n",
       "Name: kilometer, dtype: int64"
      ]
     },
     "execution_count": 37,
     "metadata": {},
     "output_type": "execute_result"
    }
   ],
   "source": [
    "df['kilometer'].value_counts().sort_index()"
   ]
  },
  {
   "cell_type": "markdown",
   "metadata": {},
   "source": [
    "Настораживает доминирование пробега в 150 000 км и небольшое разнообразие значений. Возможно, в объявлениях пробег был проставлен диапазонами."
   ]
  },
  {
   "cell_type": "markdown",
   "metadata": {},
   "source": [
    "Наконец, взглянем на разброс и частотность почтовых индексов."
   ]
  },
  {
   "cell_type": "code",
   "execution_count": 38,
   "metadata": {},
   "outputs": [
    {
     "data": {
      "image/png": "[encoded data removed]",
      "text/plain": [
       "<Figure size 432x288 with 1 Axes>"
      ]
     },
     "metadata": {},
     "output_type": "display_data"
    },
    {
     "name": "stdout",
     "output_type": "stream",
     "text": [
      "1067 ≤ postal_code ≤ 99998\n"
     ]
    }
   ],
   "source": [
    "my_hist('postal_code')"
   ]
  },
  {
   "cell_type": "markdown",
   "metadata": {},
   "source": [
    "Вроде ничего подозрительного."
   ]
  },
  {
   "cell_type": "markdown",
   "metadata": {
    "tags": []
   },
   "source": [
    "### Категориальные признаки"
   ]
  },
  {
   "cell_type": "markdown",
   "metadata": {},
   "source": [
    "Посмотрим на гистограммы категориальных признаков."
   ]
  },
  {
   "cell_type": "code",
   "execution_count": 39,
   "metadata": {},
   "outputs": [
    {
     "data": {
      "image/png": "[encoded data removed]",
      "text/plain": [
       "<Figure size 576x288 with 1 Axes>"
      ]
     },
     "metadata": {},
     "output_type": "display_data"
    }
   ],
   "source": [
    "my_hist('vehicle_type', figsize=(8, 4))"
   ]
  },
  {
   "cell_type": "code",
   "execution_count": 40,
   "metadata": {},
   "outputs": [
    {
     "data": {
      "image/png": "[encoded data removed]",
      "text/plain": [
       "<Figure size 432x288 with 1 Axes>"
      ]
     },
     "metadata": {},
     "output_type": "display_data"
    }
   ],
   "source": [
    "my_hist('gearbox')"
   ]
  },
  {
   "cell_type": "code",
   "execution_count": 41,
   "metadata": {},
   "outputs": [
    {
     "data": {
      "image/png": "[encoded data removed]",
      "text/plain": [
       "<Figure size 864x288 with 1 Axes>"
      ]
     },
     "metadata": {},
     "output_type": "display_data"
    }
   ],
   "source": [
    "my_hist('brand', figsize=(12, 4), xticks_rot=90)"
   ]
  },
  {
   "cell_type": "code",
   "execution_count": 42,
   "metadata": {},
   "outputs": [
    {
     "data": {
      "image/png": "[encoded data removed]",
      "text/plain": [
       "<Figure size 2160x432 with 1 Axes>"
      ]
     },
     "metadata": {},
     "output_type": "display_data"
    }
   ],
   "source": [
    "my_hist('model', figsize=(30, 6), xticks_rot=90, head=150)"
   ]
  },
  {
   "cell_type": "code",
   "execution_count": 43,
   "metadata": {},
   "outputs": [
    {
     "data": {
      "image/png": "[encoded data removed]",
      "text/plain": [
       "<Figure size 432x288 with 1 Axes>"
      ]
     },
     "metadata": {},
     "output_type": "display_data"
    }
   ],
   "source": [
    "my_hist('fuel_type')"
   ]
  },
  {
   "cell_type": "code",
   "execution_count": 44,
   "metadata": {},
   "outputs": [
    {
     "data": {
      "image/png": "[encoded data removed]",
      "text/plain": [
       "<Figure size 432x288 with 1 Axes>"
      ]
     },
     "metadata": {},
     "output_type": "display_data"
    }
   ],
   "source": [
    "my_hist('not_repaired')"
   ]
  },
  {
   "cell_type": "markdown",
   "metadata": {},
   "source": [
    "Явные пропуски есть везде, кроме признака `brand` – оставим их (LightGBM разберется с ними сам, а для других моделей используем прямое кодирование с игнорированием пропусков). Чтобы LightGBM автоматически распознал категориальные признаки, приведем их к категориальному типу."
   ]
  },
  {
   "cell_type": "code",
   "execution_count": 45,
   "metadata": {},
   "outputs": [],
   "source": [
    "cat_cols = list(df.select_dtypes(object).columns)"
   ]
  },
  {
   "cell_type": "code",
   "execution_count": 46,
   "metadata": {},
   "outputs": [],
   "source": [
    "df[cat_cols] = df[cat_cols].astype('category')"
   ]
  },
  {
   "cell_type": "code",
   "execution_count": 47,
   "metadata": {},
   "outputs": [
    {
     "name": "stdout",
     "output_type": "stream",
     "text": [
      "<class 'pandas.core.frame.DataFrame'>\n",
      "Int64Index: 343328 entries, 0 to 354368\n",
      "Data columns (total 11 columns):\n",
      " #   Column        Non-Null Count   Dtype   \n",
      "---  ------        --------------   -----   \n",
      " 0   price         343328 non-null  int64   \n",
      " 1   vehicle_type  309757 non-null  category\n",
      " 2   gearbox       326142 non-null  category\n",
      " 3   power         307148 non-null  float64 \n",
      " 4   model         325915 non-null  category\n",
      " 5   kilometer     343328 non-null  int64   \n",
      " 6   fuel_type     314024 non-null  category\n",
      " 7   brand         343328 non-null  category\n",
      " 8   not_repaired  277654 non-null  category\n",
      " 9   postal_code   343328 non-null  int64   \n",
      " 10  years_old     343328 non-null  uint8   \n",
      "dtypes: category(6), float64(1), int64(3), uint8(1)\n",
      "memory usage: 15.7 MB\n"
     ]
    }
   ],
   "source": [
    "df.info()"
   ]
  },
  {
   "cell_type": "markdown",
   "metadata": {},
   "source": [
    "## Обучение моделей"
   ]
  },
  {
   "cell_type": "markdown",
   "metadata": {
    "tags": []
   },
   "source": [
    "### Train-Test Split"
   ]
  },
  {
   "cell_type": "markdown",
   "metadata": {},
   "source": [
    "Отделим целевой признак от остальных и разобъем датасет на обучающую и тестовую выборки."
   ]
  },
  {
   "cell_type": "code",
   "execution_count": 48,
   "metadata": {},
   "outputs": [],
   "source": [
    "X = df.drop(columns='price')\n",
    "y = df['price']"
   ]
  },
  {
   "cell_type": "code",
   "execution_count": 49,
   "metadata": {},
   "outputs": [
    {
     "name": "stdout",
     "output_type": "stream",
     "text": [
      "(257496, 10) \t (85832, 10)\n",
      "(257496,) \t (85832,)\n"
     ]
    }
   ],
   "source": [
    "X_train, X_test, y_train, y_test = train_test_split(X, y, test_size=.25, \n",
    "                                                    random_state=RS)\n",
    "print(X_train.shape, '\\t', X_test.shape)\n",
    "print(y_train.shape, '\\t', y_test.shape)"
   ]
  },
  {
   "cell_type": "markdown",
   "metadata": {},
   "source": [
    "### Dummy"
   ]
  },
  {
   "cell_type": "markdown",
   "metadata": {},
   "source": [
    "Сократим написание целевой метрики, обернув ее в пользовательскую функцию."
   ]
  },
  {
   "cell_type": "code",
   "execution_count": 50,
   "metadata": {},
   "outputs": [],
   "source": [
    "def rmse(y_true, y_pred):\n",
    "    return mean_squared_error(y_true, y_pred, squared=False)"
   ]
  },
  {
   "cell_type": "markdown",
   "metadata": {},
   "source": [
    "В качестве бейзлайна-ориентира будем использовать метрики *дамми*-моделей на обучающей выборке."
   ]
  },
  {
   "cell_type": "code",
   "execution_count": 51,
   "metadata": {},
   "outputs": [],
   "source": [
    "dummy_mean = DummyRegressor(strategy='mean')\n",
    "dummy_median = DummyRegressor(strategy='median')"
   ]
  },
  {
   "cell_type": "code",
   "execution_count": 59,
   "metadata": {},
   "outputs": [
    {
     "name": "stdout",
     "output_type": "stream",
     "text": [
      "4517.496955718765\n",
      "4812.741692349102\n"
     ]
    }
   ],
   "source": [
    "print(rmse(y_train, dummy_mean.fit(X_train, y_train).predict(X_train)))\n",
    "print(rmse(y_train, dummy_median.fit(X_train, y_train).predict(X_train)))"
   ]
  },
  {
   "cell_type": "code",
   "execution_count": 60,
   "metadata": {
    "tags": []
   },
   "outputs": [
    {
     "data": {
      "text/plain": [
       "4517.500042432804"
      ]
     },
     "execution_count": 60,
     "metadata": {},
     "output_type": "execute_result"
    }
   ],
   "source": [
    "-cross_val_score(\n",
    "    dummy_mean,\n",
    "    X_train, y_train,\n",
    "    scoring='neg_root_mean_squared_error',\n",
    "    cv=3,\n",
    ").mean()"
   ]
  },
  {
   "cell_type": "code",
   "execution_count": 61,
   "metadata": {
    "tags": []
   },
   "outputs": [
    {
     "data": {
      "text/plain": [
       "4813.766295405169"
      ]
     },
     "execution_count": 61,
     "metadata": {},
     "output_type": "execute_result"
    }
   ],
   "source": [
    "-cross_val_score(\n",
    "    dummy_median,\n",
    "    X_train, y_train,\n",
    "    scoring='neg_root_mean_squared_error',\n",
    "    cv=3,\n",
    ").mean()"
   ]
  },
  {
   "cell_type": "markdown",
   "metadata": {},
   "source": [
    "### LightGBM"
   ]
  },
  {
   "cell_type": "markdown",
   "metadata": {},
   "source": [
    "С помощью `optuna` подберем число деревьев и скорость обучения модели LightGBM."
   ]
  },
  {
   "cell_type": "code",
   "execution_count": 62,
   "metadata": {},
   "outputs": [],
   "source": [
    "lgb_space = dict(\n",
    "    n_estimators=IntUniformDistribution(2000, 4000),\n",
    "    learning_rate=LogUniformDistribution(1e-2, 1e-1),\n",
    ")"
   ]
  },
  {
   "cell_type": "code",
   "execution_count": 63,
   "metadata": {
    "tags": []
   },
   "outputs": [
    {
     "name": "stderr",
     "output_type": "stream",
     "text": [
      "C:\\Users\\Victor\\anaconda3\\envs\\praktikum_env_win_new\\lib\\site-packages\\ipykernel_launcher.py:7: ExperimentalWarning:\n",
      "\n",
      "OptunaSearchCV is experimental (supported from v0.17.0). The interface can change in the future.\n",
      "\n",
      "\u001b[32m[I 2022-06-23 01:49:45,619]\u001b[0m A new study created in memory with name: no-name-2e3d9fa6-f7b0-434e-a5f1-6b3889067348\u001b[0m\n",
      "\u001b[32m[I 2022-06-23 01:50:33,992]\u001b[0m Trial 0 finished with value: -1585.8302478225924 and parameters: {'n_estimators': 2781, 'learning_rate': 0.09302309730224215}. Best is trial 0 with value: -1585.8302478225924.\u001b[0m\n",
      "\u001b[32m[I 2022-06-23 01:51:55,078]\u001b[0m Trial 1 finished with value: -1630.8442840374728 and parameters: {'n_estimators': 2313, 'learning_rate': 0.015872412476431435}. Best is trial 0 with value: -1585.8302478225924.\u001b[0m\n",
      "\u001b[32m[I 2022-06-23 01:53:26,506]\u001b[0m Trial 2 finished with value: -1583.0398757161302 and parameters: {'n_estimators': 3659, 'learning_rate': 0.08523543521512343}. Best is trial 2 with value: -1583.0398757161302.\u001b[0m\n",
      "\u001b[32m[I 2022-06-23 01:55:14,970]\u001b[0m Trial 3 finished with value: -1586.0204871786239 and parameters: {'n_estimators': 3418, 'learning_rate': 0.04660927853538544}. Best is trial 2 with value: -1583.0398757161302.\u001b[0m\n",
      "\u001b[32m[I 2022-06-23 01:56:33,398]\u001b[0m Trial 4 finished with value: -1586.2495622825847 and parameters: {'n_estimators': 2764, 'learning_rate': 0.07729247871845563}. Best is trial 2 with value: -1583.0398757161302.\u001b[0m\n",
      "\u001b[32m[I 2022-06-23 01:57:41,508]\u001b[0m Trial 5 finished with value: -1593.6607227329648 and parameters: {'n_estimators': 2187, 'learning_rate': 0.05255436218102679}. Best is trial 2 with value: -1583.0398757161302.\u001b[0m\n",
      "\u001b[32m[I 2022-06-23 01:59:52,223]\u001b[0m Trial 6 finished with value: -1599.0343447808664 and parameters: {'n_estimators': 3477, 'learning_rate': 0.025212593241577864}. Best is trial 2 with value: -1583.0398757161302.\u001b[0m\n",
      "\u001b[32m[I 2022-06-23 02:00:57,756]\u001b[0m Trial 7 finished with value: -1620.0714105700338 and parameters: {'n_estimators': 2046, 'learning_rate': 0.022269739257669768}. Best is trial 2 with value: -1583.0398757161302.\u001b[0m\n",
      "\u001b[32m[I 2022-06-23 02:03:03,691]\u001b[0m Trial 8 finished with value: -1582.2826694990088 and parameters: {'n_estimators': 3876, 'learning_rate': 0.08654570647968698}. Best is trial 8 with value: -1582.2826694990088.\u001b[0m\n",
      "\u001b[32m[I 2022-06-23 02:04:57,362]\u001b[0m Trial 9 finished with value: -1584.6129091004043 and parameters: {'n_estimators': 3809, 'learning_rate': 0.04882458606884004}. Best is trial 8 with value: -1582.2826694990088.\u001b[0m\n"
     ]
    },
    {
     "name": "stdout",
     "output_type": "stream",
     "text": [
      "Wall time: 15min 43s\n"
     ]
    }
   ],
   "source": [
    "%%time\n",
    "lgb_model = OptunaSearchCV(\n",
    "    estimator=lgb.LGBMRegressor(seed=RS),\n",
    "    param_distributions=lgb_space,\n",
    "    cv=3,\n",
    "    n_trials=10,\n",
    "    scoring='neg_root_mean_squared_error',\n",
    "    random_state=RS,\n",
    ").fit(X_train, y_train)"
   ]
  },
  {
   "cell_type": "code",
   "execution_count": 64,
   "metadata": {
    "tags": []
   },
   "outputs": [
    {
     "data": {
      "text/plain": [
       "LGBMRegressor(learning_rate=0.08654570647968698, n_estimators=3876,\n",
       "              seed=22221111)"
      ]
     },
     "execution_count": 64,
     "metadata": {},
     "output_type": "execute_result"
    }
   ],
   "source": [
    "lgb_model.best_estimator_"
   ]
  },
  {
   "cell_type": "code",
   "execution_count": 69,
   "metadata": {},
   "outputs": [
    {
     "data": {
      "text/plain": [
       "1582.2826694990088"
      ]
     },
     "execution_count": 69,
     "metadata": {},
     "output_type": "execute_result"
    }
   ],
   "source": [
    "-lgb_model.best_score_"
   ]
  },
  {
   "cell_type": "markdown",
   "metadata": {},
   "source": [
    "Средниее значение RMSE на кросс-валидации обучающей выборки втрое ниже константных дамми-предсказаний – хороший результат."
   ]
  },
  {
   "cell_type": "markdown",
   "metadata": {},
   "source": [
    "Посмотрим на значимость признаков по версии LightGBM."
   ]
  },
  {
   "cell_type": "code",
   "execution_count": 70,
   "metadata": {},
   "outputs": [
    {
     "data": {
      "image/png": "[encoded data removed]",
      "text/plain": [
       "<Figure size 432x288 with 1 Axes>"
      ]
     },
     "metadata": {},
     "output_type": "display_data"
    }
   ],
   "source": [
    "impo = lgb_model.best_estimator_.feature_importances_\n",
    "(\n",
    "    (100*pd.Series(impo, X.columns) / impo.max())\n",
    "    .sort_values().plot(kind='barh', alpha=.7, title='Feature Importance')\n",
    ");"
   ]
  },
  {
   "cell_type": "markdown",
   "metadata": {},
   "source": [
    "Самыми значимыми на удивление оказались фичи `postal_code` и `power`."
   ]
  },
  {
   "cell_type": "markdown",
   "metadata": {},
   "source": [
    "Замерим время обучения модели и время расчета предсказаний на обучающей выборке."
   ]
  },
  {
   "cell_type": "code",
   "execution_count": 66,
   "metadata": {},
   "outputs": [
    {
     "name": "stdout",
     "output_type": "stream",
     "text": [
      "Wall time: 19.7 s\n",
      "Wall time: 21.7 s\n"
     ]
    }
   ],
   "source": [
    "%time lgb_model.best_estimator_.fit(X_train, y_train)\n",
    "%time _ = lgb_model.best_estimator_.predict(X_train);"
   ]
  },
  {
   "cell_type": "markdown",
   "metadata": {},
   "source": [
    "### ElasticNet"
   ]
  },
  {
   "cell_type": "markdown",
   "metadata": {},
   "source": [
    "В качестве первой альтернативы градиентному бустингу рассмотрим линейную регрессионную модель ElasticNet, в которой используется микс L1- и L2-регуляризаций. Эта модель не переваривает пропуски и категориальные фичи и чувствительна к масштабу количественных фич. Поэтому обернем ее в пайплайн с предобработкой из импьютера и скейлера для количественных фич (помним, что пропуски есть только в мощности) и прямого кодирования для категориальных."
   ]
  },
  {
   "cell_type": "code",
   "execution_count": 71,
   "metadata": {},
   "outputs": [],
   "source": [
    "num_tformer = Pipeline([\n",
    "    ('imputer', SimpleImputer(strategy='constant', fill_value=0)),\n",
    "    ('scaler', StandardScaler())\n",
    "])\n",
    "\n",
    "cat_tformer = OneHotEncoder(handle_unknown='ignore')\n",
    "\n",
    "preproc = ColumnTransformer([\n",
    "        ('num', num_tformer, make_column_selector(dtype_include='number')),\n",
    "        ('cat', cat_tformer, make_column_selector(dtype_include='category'))\n",
    "])"
   ]
  },
  {
   "cell_type": "code",
   "execution_count": 72,
   "metadata": {},
   "outputs": [],
   "source": [
    "enet_pipe = Pipeline([\n",
    "    ('preproc', preproc), \n",
    "    ('enet', ElasticNet(max_iter=10000, random_state=RS)),\n",
    "])"
   ]
  },
  {
   "cell_type": "markdown",
   "metadata": {},
   "source": [
    "С помощью `optuna` подберем коэффициенты регуляризации `alpha` и `l1_ratio`."
   ]
  },
  {
   "cell_type": "code",
   "execution_count": 73,
   "metadata": {},
   "outputs": [],
   "source": [
    "enet_space = dict(\n",
    "    enet__alpha=UniformDistribution(.01, .1),\n",
    "    enet__l1_ratio=UniformDistribution(.9, 1),\n",
    ")"
   ]
  },
  {
   "cell_type": "code",
   "execution_count": 74,
   "metadata": {
    "tags": []
   },
   "outputs": [
    {
     "name": "stderr",
     "output_type": "stream",
     "text": [
      "C:\\Users\\Victor\\anaconda3\\envs\\praktikum_env_win_new\\lib\\site-packages\\ipykernel_launcher.py:8: ExperimentalWarning:\n",
      "\n",
      "OptunaSearchCV is experimental (supported from v0.17.0). The interface can change in the future.\n",
      "\n",
      "\u001b[32m[I 2022-06-23 02:23:36,909]\u001b[0m A new study created in memory with name: no-name-3237c09c-acf3-405f-9fba-c51ab6ca8608\u001b[0m\n",
      "C:\\Users\\Victor\\anaconda3\\envs\\praktikum_env_win_new\\lib\\site-packages\\optuna\\study\\study.py:397: FutureWarning:\n",
      "\n",
      "`n_jobs` argument has been deprecated in v2.7.0. This feature will be removed in v4.0.0. See https://github.com/optuna/optuna/releases/tag/v2.7.0.\n",
      "\n",
      "\u001b[32m[I 2022-06-23 02:32:08,240]\u001b[0m Trial 6 finished with value: -2913.121791437153 and parameters: {'enet__alpha': 0.09747867757912626, 'enet__l1_ratio': 0.9685595736948618}. Best is trial 6 with value: -2913.121791437153.\u001b[0m\n",
      "\u001b[32m[I 2022-06-23 02:35:27,898]\u001b[0m Trial 7 finished with value: -2897.7324247905835 and parameters: {'enet__alpha': 0.030952665314225025, 'enet__l1_ratio': 0.9259249166114325}. Best is trial 7 with value: -2897.7324247905835.\u001b[0m\n",
      "\u001b[32m[I 2022-06-23 02:36:01,208]\u001b[0m Trial 2 finished with value: -2890.0929805010924 and parameters: {'enet__alpha': 0.0830479449155065, 'enet__l1_ratio': 0.9773986724424873}. Best is trial 2 with value: -2890.0929805010924.\u001b[0m\n",
      "\u001b[32m[I 2022-06-23 02:39:20,551]\u001b[0m Trial 3 finished with value: -2872.197914193013 and parameters: {'enet__alpha': 0.08181712504383121, 'enet__l1_ratio': 0.9853874499659558}. Best is trial 3 with value: -2872.197914193013.\u001b[0m\n",
      "\u001b[32m[I 2022-06-23 02:42:20,447]\u001b[0m Trial 5 finished with value: -2869.8586280275194 and parameters: {'enet__alpha': 0.039569103620448055, 'enet__l1_ratio': 0.970726601704941}. Best is trial 5 with value: -2869.8586280275194.\u001b[0m\n",
      "\u001b[32m[I 2022-06-23 02:45:26,671]\u001b[0m Trial 4 finished with value: -2861.849237739659 and parameters: {'enet__alpha': 0.01659211618138991, 'enet__l1_ratio': 0.9438057369678243}. Best is trial 4 with value: -2861.849237739659.\u001b[0m\n",
      "\u001b[32m[I 2022-06-23 02:45:47,680]\u001b[0m Trial 0 finished with value: -2858.873461939562 and parameters: {'enet__alpha': 0.020954771749918392, 'enet__l1_ratio': 0.9597180918142942}. Best is trial 0 with value: -2858.873461939562.\u001b[0m\n",
      "\u001b[32m[I 2022-06-23 02:46:13,827]\u001b[0m Trial 8 finished with value: -2870.4826855732786 and parameters: {'enet__alpha': 0.018951313899879876, 'enet__l1_ratio': 0.9367987087133287}. Best is trial 0 with value: -2858.873461939562.\u001b[0m\n",
      "\u001b[32m[I 2022-06-23 02:46:40,564]\u001b[0m Trial 9 finished with value: -2868.1557363124375 and parameters: {'enet__alpha': 0.018806888005595886, 'enet__l1_ratio': 0.9403139735991628}. Best is trial 0 with value: -2858.873461939562.\u001b[0m\n",
      "\u001b[32m[I 2022-06-23 02:46:59,168]\u001b[0m Trial 1 finished with value: -2850.399314512208 and parameters: {'enet__alpha': 0.021846401245352122, 'enet__l1_ratio': 0.9715546495787957}. Best is trial 1 with value: -2850.399314512208.\u001b[0m\n"
     ]
    },
    {
     "name": "stdout",
     "output_type": "stream",
     "text": [
      "Wall time: 25min 23s\n"
     ]
    }
   ],
   "source": [
    "%%time\n",
    "enet_model = OptunaSearchCV(\n",
    "    estimator=enet_pipe,\n",
    "    param_distributions=enet_space,\n",
    "    cv=3,\n",
    "    n_trials=10,\n",
    "    n_jobs=-1,\n",
    "    scoring='neg_root_mean_squared_error',\n",
    "    random_state=RS,\n",
    ").fit(X_train, y_train)"
   ]
  },
  {
   "cell_type": "code",
   "execution_count": 75,
   "metadata": {
    "tags": []
   },
   "outputs": [
    {
     "data": {
      "text/plain": [
       "ElasticNet(alpha=0.021846401245352122, l1_ratio=0.9715546495787957,\n",
       "           max_iter=10000, random_state=22221111)"
      ]
     },
     "execution_count": 75,
     "metadata": {},
     "output_type": "execute_result"
    }
   ],
   "source": [
    "enet_model.best_estimator_.get_params()['enet']"
   ]
  },
  {
   "cell_type": "code",
   "execution_count": 77,
   "metadata": {},
   "outputs": [
    {
     "data": {
      "text/plain": [
       "2850.399314512208"
      ]
     },
     "execution_count": 77,
     "metadata": {},
     "output_type": "execute_result"
    }
   ],
   "source": [
    "-enet_model.best_score_"
   ]
  },
  {
   "cell_type": "markdown",
   "metadata": {},
   "source": [
    "RMSE модели в полтора раза ниже, чем у константных дамми-предсказаний, но барьер в 2500 EUR модель не преодолевает."
   ]
  },
  {
   "cell_type": "markdown",
   "metadata": {},
   "source": [
    "Замерим время обучения модели и время расчета предсказаний на обучающей выборке."
   ]
  },
  {
   "cell_type": "code",
   "execution_count": 80,
   "metadata": {},
   "outputs": [
    {
     "name": "stdout",
     "output_type": "stream",
     "text": [
      "Wall time: 1min 57s\n",
      "Wall time: 667 ms\n"
     ]
    }
   ],
   "source": [
    "%time enet_model.best_estimator_.fit(X_train, y_train)\n",
    "%time _ = enet_model.best_estimator_.predict(X_train);"
   ]
  },
  {
   "cell_type": "markdown",
   "metadata": {},
   "source": [
    "Время обучения выбранной модели ElasticNet в несколько раз больше, чем модели LightGBM. Зато время предсказания – в несколько десятков раз меньше. "
   ]
  },
  {
   "cell_type": "markdown",
   "metadata": {},
   "source": [
    "### DecisionTreeRegressor"
   ]
  },
  {
   "cell_type": "markdown",
   "metadata": {},
   "source": [
    "В качестве второй альтернативы градиентному бустингу рассмотрим модель дерева решений DecisionTreeRegressor. Эта модель тоже не переваривает пропуски и категориальные фичи, но она не чувствительна к масштабу количественных фич. Поэтому обернем ее в тот же пайплайн, из которого прежде уберем скейлер."
   ]
  },
  {
   "cell_type": "code",
   "execution_count": 81,
   "metadata": {},
   "outputs": [],
   "source": [
    "num_tformer.steps.pop();  # Remove StandardScaler from the pipe\n",
    "dt_pipe = Pipeline([\n",
    "    ('preproc', preproc), \n",
    "    ('dt', DecisionTreeRegressor(random_state=RS))\n",
    "])"
   ]
  },
  {
   "cell_type": "markdown",
   "metadata": {},
   "source": [
    "С помощью `optuna` подберем максимальную глубину дерева и минимальное число объектов в листьях."
   ]
  },
  {
   "cell_type": "code",
   "execution_count": 82,
   "metadata": {},
   "outputs": [],
   "source": [
    "dt_space = dict(\n",
    "    dt__max_depth=IntUniformDistribution(20, 30),\n",
    "    dt__min_samples_leaf=IntUniformDistribution(10, 20),\n",
    ")"
   ]
  },
  {
   "cell_type": "code",
   "execution_count": 83,
   "metadata": {
    "tags": []
   },
   "outputs": [
    {
     "name": "stderr",
     "output_type": "stream",
     "text": [
      "C:\\Users\\Victor\\anaconda3\\envs\\praktikum_env_win_new\\lib\\site-packages\\ipykernel_launcher.py:8: ExperimentalWarning:\n",
      "\n",
      "OptunaSearchCV is experimental (supported from v0.17.0). The interface can change in the future.\n",
      "\n",
      "\u001b[32m[I 2022-06-23 03:04:43,510]\u001b[0m A new study created in memory with name: no-name-dc45ed40-e81a-4db6-b8db-00e887607d7f\u001b[0m\n",
      "C:\\Users\\Victor\\anaconda3\\envs\\praktikum_env_win_new\\lib\\site-packages\\optuna\\study\\study.py:397: FutureWarning:\n",
      "\n",
      "`n_jobs` argument has been deprecated in v2.7.0. This feature will be removed in v4.0.0. See https://github.com/optuna/optuna/releases/tag/v2.7.0.\n",
      "\n",
      "\u001b[32m[I 2022-06-23 03:06:50,378]\u001b[0m Trial 2 finished with value: -1904.2749635303614 and parameters: {'dt__max_depth': 22, 'dt__min_samples_leaf': 17}. Best is trial 2 with value: -1904.2749635303614.\u001b[0m\n",
      "\u001b[32m[I 2022-06-23 03:06:52,190]\u001b[0m Trial 3 finished with value: -1893.9988445472752 and parameters: {'dt__max_depth': 20, 'dt__min_samples_leaf': 13}. Best is trial 3 with value: -1893.9988445472752.\u001b[0m\n",
      "\u001b[32m[I 2022-06-23 03:06:54,960]\u001b[0m Trial 6 finished with value: -1904.3769717672415 and parameters: {'dt__max_depth': 23, 'dt__min_samples_leaf': 17}. Best is trial 3 with value: -1893.9988445472752.\u001b[0m\n",
      "\u001b[32m[I 2022-06-23 03:06:59,821]\u001b[0m Trial 1 finished with value: -1897.0004537723992 and parameters: {'dt__max_depth': 23, 'dt__min_samples_leaf': 14}. Best is trial 3 with value: -1893.9988445472752.\u001b[0m\n",
      "\u001b[32m[I 2022-06-23 03:07:01,953]\u001b[0m Trial 7 finished with value: -1901.7858173052753 and parameters: {'dt__max_depth': 24, 'dt__min_samples_leaf': 16}. Best is trial 3 with value: -1893.9988445472752.\u001b[0m\n",
      "\u001b[32m[I 2022-06-23 03:07:07,621]\u001b[0m Trial 5 finished with value: -1897.4794858874575 and parameters: {'dt__max_depth': 26, 'dt__min_samples_leaf': 14}. Best is trial 3 with value: -1893.9988445472752.\u001b[0m\n",
      "\u001b[32m[I 2022-06-23 03:07:11,954]\u001b[0m Trial 4 finished with value: -1895.8728932988008 and parameters: {'dt__max_depth': 25, 'dt__min_samples_leaf': 11}. Best is trial 3 with value: -1893.9988445472752.\u001b[0m\n",
      "\u001b[32m[I 2022-06-23 03:07:12,989]\u001b[0m Trial 0 finished with value: -1895.6561343483427 and parameters: {'dt__max_depth': 27, 'dt__min_samples_leaf': 12}. Best is trial 3 with value: -1893.9988445472752.\u001b[0m\n",
      "\u001b[32m[I 2022-06-23 03:07:47,201]\u001b[0m Trial 9 finished with value: -1897.2130816508254 and parameters: {'dt__max_depth': 20, 'dt__min_samples_leaf': 10}. Best is trial 3 with value: -1893.9988445472752.\u001b[0m\n",
      "\u001b[32m[I 2022-06-23 03:07:48,159]\u001b[0m Trial 8 finished with value: -1906.6572503942207 and parameters: {'dt__max_depth': 30, 'dt__min_samples_leaf': 20}. Best is trial 3 with value: -1893.9988445472752.\u001b[0m\n"
     ]
    },
    {
     "name": "stdout",
     "output_type": "stream",
     "text": [
      "Wall time: 3min 29s\n"
     ]
    }
   ],
   "source": [
    "%%time\n",
    "dt_model = OptunaSearchCV(\n",
    "    estimator=dt_pipe,\n",
    "    param_distributions=dt_space,\n",
    "    cv=3,\n",
    "    n_trials=10,\n",
    "    n_jobs=-1,\n",
    "    scoring='neg_root_mean_squared_error',\n",
    "    random_state=RS,\n",
    ").fit(X_train, y_train)"
   ]
  },
  {
   "cell_type": "code",
   "execution_count": 84,
   "metadata": {
    "tags": []
   },
   "outputs": [
    {
     "data": {
      "text/plain": [
       "DecisionTreeRegressor(max_depth=20, min_samples_leaf=13, random_state=22221111)"
      ]
     },
     "execution_count": 84,
     "metadata": {},
     "output_type": "execute_result"
    }
   ],
   "source": [
    "dt_model.best_estimator_.get_params()['dt']"
   ]
  },
  {
   "cell_type": "code",
   "execution_count": 86,
   "metadata": {},
   "outputs": [
    {
     "data": {
      "text/plain": [
       "1893.9988445472752"
      ]
     },
     "execution_count": 86,
     "metadata": {},
     "output_type": "execute_result"
    }
   ],
   "source": [
    "-dt_model.best_score_"
   ]
  },
  {
   "cell_type": "markdown",
   "metadata": {},
   "source": [
    "Эта простая модель показывет на удивление низкое значение RMSE, не сильно уступающее модели LightGBM: метрика в два с половиной раза ниже, чем у константных дамми-предсказаний."
   ]
  },
  {
   "cell_type": "markdown",
   "metadata": {},
   "source": [
    "Замерим время обучения модели, время расчета предсказаний и рассчитаем RMSE на обучающей выборке."
   ]
  },
  {
   "cell_type": "code",
   "execution_count": 87,
   "metadata": {},
   "outputs": [
    {
     "name": "stdout",
     "output_type": "stream",
     "text": [
      "Wall time: 23.1 s\n",
      "Wall time: 718 ms\n"
     ]
    }
   ],
   "source": [
    "%time dt_model.best_estimator_.fit(X_train, y_train)\n",
    "%time _ = dt_model.best_estimator_.predict(X_train);"
   ]
  },
  {
   "cell_type": "markdown",
   "metadata": {},
   "source": [
    "Время обучения выбранной модели DecisionTreeRegressor сравнимо с моделью LightGBM, а время предсказания – в несколько десятков раз меньше. "
   ]
  },
  {
   "cell_type": "markdown",
   "metadata": {},
   "source": [
    "## Тестирование лучшей модели"
   ]
  },
  {
   "cell_type": "markdown",
   "metadata": {},
   "source": [
    "По совокупности трех критериев: RMSE (основной критерий), времени обучения и времени предсказания – побеждает модель LightGBM. Рассчитаем ее RMSE на тестовой выборке. Для сравнения сделаем то же самое для дамми-моделей."
   ]
  },
  {
   "cell_type": "code",
   "execution_count": 88,
   "metadata": {},
   "outputs": [
    {
     "data": {
      "text/plain": [
       "1545.6573165023929"
      ]
     },
     "execution_count": 88,
     "metadata": {},
     "output_type": "execute_result"
    }
   ],
   "source": [
    "rmse(y_test, lgb_model.best_estimator_.predict(X_test))"
   ]
  },
  {
   "cell_type": "code",
   "execution_count": 89,
   "metadata": {},
   "outputs": [
    {
     "name": "stdout",
     "output_type": "stream",
     "text": [
      "4504.201148351215\n",
      "4795.657775490989\n"
     ]
    }
   ],
   "source": [
    "print(rmse(y_test, dummy_mean.predict(X_test)))\n",
    "print(rmse(y_test, dummy_median.predict(X_test)))"
   ]
  },
  {
   "cell_type": "markdown",
   "metadata": {},
   "source": [
    "Результат остался хорошим: в три раза ниже, чем у константных дамми-предсказаний."
   ]
  },
  {
   "cell_type": "markdown",
   "metadata": {},
   "source": [
    "Обучим модель на всем датасете и посчитаем RMSE на нем же."
   ]
  },
  {
   "cell_type": "code",
   "execution_count": 90,
   "metadata": {},
   "outputs": [
    {
     "name": "stdout",
     "output_type": "stream",
     "text": [
      "Wall time: 28.3 s\n"
     ]
    },
    {
     "data": {
      "text/plain": [
       "1199.190875156692"
      ]
     },
     "execution_count": 90,
     "metadata": {},
     "output_type": "execute_result"
    }
   ],
   "source": [
    "%time lgb_model.best_estimator_.fit(X, y)\n",
    "rmse(y, lgb_model.best_estimator_.predict(X))"
   ]
  },
  {
   "cell_type": "markdown",
   "metadata": {},
   "source": [
    "В продакшн! :)"
   ]
  }
 ],
 "metadata": {
  "ExecuteTimeLog": [
   {
    "duration": 12238,
    "start_time": "2022-06-22T10:32:45.778Z"
   },
   {
    "duration": 1602,
    "start_time": "2022-06-22T10:32:58.019Z"
   },
   {
    "duration": 3,
    "start_time": "2022-06-22T10:32:59.622Z"
   },
   {
    "duration": 2741,
    "start_time": "2022-06-22T10:32:59.629Z"
   },
   {
    "duration": 25,
    "start_time": "2022-06-22T10:33:02.372Z"
   },
   {
    "duration": 9,
    "start_time": "2022-06-22T10:33:02.398Z"
   },
   {
    "duration": 131,
    "start_time": "2022-06-22T10:33:02.409Z"
   },
   {
    "duration": 100,
    "start_time": "2022-06-22T10:33:52.453Z"
   },
   {
    "duration": 211,
    "start_time": "2022-06-22T10:33:58.815Z"
   },
   {
    "duration": 33,
    "start_time": "2022-06-22T10:34:21.950Z"
   },
   {
    "duration": 147,
    "start_time": "2022-06-22T10:34:25.309Z"
   },
   {
    "duration": 931,
    "start_time": "2022-06-22T10:34:31.885Z"
   },
   {
    "duration": 7,
    "start_time": "2022-06-22T10:41:51.208Z"
   },
   {
    "duration": 3,
    "start_time": "2022-06-22T10:41:55.851Z"
   },
   {
    "duration": 286,
    "start_time": "2022-06-22T10:41:57.165Z"
   },
   {
    "duration": 84,
    "start_time": "2022-06-22T10:42:10.179Z"
   },
   {
    "duration": 2328,
    "start_time": "2022-06-22T10:43:02.737Z"
   },
   {
    "duration": 41,
    "start_time": "2022-06-22T10:43:17.277Z"
   },
   {
    "duration": 479,
    "start_time": "2022-06-22T10:43:51.150Z"
   },
   {
    "duration": 31,
    "start_time": "2022-06-22T10:44:13.825Z"
   },
   {
    "duration": 19,
    "start_time": "2022-06-22T10:45:19.481Z"
   },
   {
    "duration": 15,
    "start_time": "2022-06-22T10:45:45.721Z"
   },
   {
    "duration": 507,
    "start_time": "2022-06-22T10:45:59.584Z"
   },
   {
    "duration": 23,
    "start_time": "2022-06-22T10:47:55.580Z"
   },
   {
    "duration": 636,
    "start_time": "2022-06-22T10:48:12.526Z"
   },
   {
    "duration": 76,
    "start_time": "2022-06-22T10:50:40.089Z"
   },
   {
    "duration": 5,
    "start_time": "2022-06-22T10:50:52.022Z"
   },
   {
    "duration": 10,
    "start_time": "2022-06-22T10:50:59.070Z"
   },
   {
    "duration": 5,
    "start_time": "2022-06-22T10:51:02.754Z"
   },
   {
    "duration": 137,
    "start_time": "2022-06-22T10:52:11.440Z"
   },
   {
    "duration": 119,
    "start_time": "2022-06-22T10:52:12.641Z"
   },
   {
    "duration": 501,
    "start_time": "2022-06-22T10:52:15.709Z"
   },
   {
    "duration": 1943,
    "start_time": "2022-06-22T10:52:26.971Z"
   },
   {
    "duration": 15,
    "start_time": "2022-06-22T10:52:56.684Z"
   },
   {
    "duration": 152,
    "start_time": "2022-06-22T10:53:00.908Z"
   },
   {
    "duration": 23,
    "start_time": "2022-06-22T10:53:01.291Z"
   },
   {
    "duration": 6,
    "start_time": "2022-06-22T10:54:57.640Z"
   },
   {
    "duration": 43,
    "start_time": "2022-06-22T10:55:02.371Z"
   },
   {
    "duration": 2,
    "start_time": "2022-06-22T10:55:33.489Z"
   },
   {
    "duration": 6,
    "start_time": "2022-06-22T10:55:43.479Z"
   },
   {
    "duration": 6,
    "start_time": "2022-06-22T10:55:44.454Z"
   },
   {
    "duration": 3,
    "start_time": "2022-06-22T11:04:09.770Z"
   },
   {
    "duration": 3,
    "start_time": "2022-06-22T11:04:10.322Z"
   },
   {
    "duration": 3,
    "start_time": "2022-06-22T11:04:27.668Z"
   }
  ],
  "kernelspec": {
   "display_name": "Python 3 (ipykernel)",
   "language": "python",
   "name": "python3"
  },
  "language_info": {
   "codemirror_mode": {
    "name": "ipython",
    "version": 3
   },
   "file_extension": ".py",
   "mimetype": "text/x-python",
   "name": "python",
   "nbconvert_exporter": "python",
   "pygments_lexer": "ipython3",
   "version": "3.9.12"
  },
  "toc": {
   "base_numbering": 1,
   "nav_menu": {},
   "number_sections": true,
   "sideBar": true,
   "skip_h1_title": true,
   "title_cell": "Table of Contents",
   "title_sidebar": "Contents",
   "toc_cell": false,
   "toc_position": {},
   "toc_section_display": true,
   "toc_window_display": false
  },
  "toc-autonumbering": false,
  "toc-showcode": false,
  "toc-showmarkdowntxt": false,
  "toc-showtags": false
 },
 "nbformat": 4,
 "nbformat_minor": 4
}

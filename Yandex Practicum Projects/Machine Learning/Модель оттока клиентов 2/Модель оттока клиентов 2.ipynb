{
 "cells": [
  {
   "cell_type": "markdown",
   "id": "e918a9cb-36fa-4e5e-b622-f0cd385ae143",
   "metadata": {},
   "source": [
    "# Прогнозирование оттока клиентов «Ниединогоразрыва.ком»"
   ]
  },
  {
   "cell_type": "markdown",
   "id": "db8f7b56-f355-472a-b579-1f6e96ddb1e4",
   "metadata": {},
   "source": [
    "Оператор связи «Ниединогоразрыва.ком» хочет научиться прогнозировать отток клиентов. Если выяснится, что пользователь планирует уйти, ему будут предложены промокоды и специальные условия. Команда оператора собрала персональные данные о некоторых клиентах, информацию об их тарифах и договорах.\n",
    "\n",
    "## Описание услуг\n",
    "\n",
    "Оператор предоставляет два основных типа услуг: \n",
    "\n",
    "1. Стационарную телефонную связь. Возможно подключение телефонного аппарата к нескольким линиям одновременно.\n",
    "2. Интернет. Подключение может быть двух типов: через телефонную линию (*DSL*, от англ. *digital subscriber line*, «цифровая абонентская линия») или оптоволоконный кабель (*Fiber optic*).  \n",
    "\n",
    "Также доступны такие услуги:\n",
    "\n",
    "- Интернет-безопасность: антивирус (*DeviceProtection*) и блокировка небезопасных сайтов (*OnlineSecurity*);\n",
    "- Выделенная линия технической поддержки (*TechSupport*);\n",
    "- Облачное хранилище файлов для резервного копирования данных (*OnlineBackup*);\n",
    "- Стриминговое телевидение (*StreamingTV*) и каталог фильмов (*StreamingMovies*).\n",
    "\n",
    "За услуги клиенты могут платить каждый месяц или заключить договор на 1–2 года. Доступны различные способы расчёта и возможность получения электронного чека.\n",
    "\n",
    "## Описание данных\n",
    "\n",
    "Данные состоят из файлов, полученных из разных источников:\n",
    "\n",
    "- `contract.csv` — информация о договоре;\n",
    "- `personal.csv` — персональные данные клиента;\n",
    "- `internet.csv` — информация об интернет-услугах;\n",
    "- `phone.csv` — информация об услугах телефонии.\n",
    "\n",
    "Описание полей данных:\n",
    "- `customerID` – код клиента,\n",
    "- `BeginDate` – дата начала пользования услугами,\n",
    "- `EndDate` – дата окончания пользования услугами,\n",
    "- `Type` – тип оплаты: ежемесячный, годовой и тд,\n",
    "- `PaperlessBilling` – безналичный расчет,\n",
    "- `PaymentMethod` – способ оплаты,\n",
    "- `MonthlyCharges` – ежемесячные траты на услуги,\n",
    "- `TotalCharges` – всего потрачено денег на услуги\n",
    "- `Dependents` – наличие иждивенцев\n",
    "- `Senior Citizen` – наличие пенсионного статуса по возрасту\n",
    "- `Partner` – наличие супруга(и)\n",
    "- `MultipleLines` – наличие возможности ведения параллельных линий во время звонка\n",
    "\n",
    "Информация о договорах актуальна на 1 февраля 2020."
   ]
  },
  {
   "cell_type": "markdown",
   "id": "f57b78e8-012d-455c-a40c-c1416b7e5c8a",
   "metadata": {
    "tags": []
   },
   "source": [
    "# План проекта\n",
    "- Загрузить и проанализировать данные, подготовить их к предобработке\n",
    "- Провести предобработку данных перед использованием в моделях\n",
    "- Обучить несколько моделей, выбрать лучшую\n",
    "- Провести финальное тестирование качества лучшей модели и сформулировать выводы\n",
    "- Подготовить отчет по проекту"
   ]
  },
  {
   "cell_type": "markdown",
   "id": "05813dbe-462b-4241-8ab1-d39637ff6e0d",
   "metadata": {},
   "source": [
    "# Загрузка и анализ данных"
   ]
  },
  {
   "cell_type": "markdown",
   "id": "b737db36-f3fb-4e93-9d6c-09765b6ea89f",
   "metadata": {},
   "source": [
    "Подключим необходимые библиотеки и выставим полезные умолчания."
   ]
  },
  {
   "cell_type": "code",
   "execution_count": 1,
   "id": "a2201e59-3c10-4dad-a17c-dd86f263c1ee",
   "metadata": {},
   "outputs": [],
   "source": [
    "# !pip install optuna catboost -U"
   ]
  },
  {
   "cell_type": "code",
   "execution_count": 1,
   "id": "1bbd500b-8993-44b9-8a2f-9e9a2e2fae6d",
   "metadata": {},
   "outputs": [],
   "source": [
    "import numpy as np\n",
    "import pandas as pd\n",
    "import matplotlib.pyplot as plt\n",
    "import re\n",
    "import math\n",
    "\n",
    "from sklearn.model_selection import train_test_split, GridSearchCV, cross_val_score\n",
    "from sklearn.preprocessing import OneHotEncoder, StandardScaler\n",
    "from sklearn.compose import ColumnTransformer, make_column_selector\n",
    "from sklearn.pipeline import Pipeline\n",
    "from sklearn.dummy import DummyClassifier\n",
    "from sklearn.linear_model import LogisticRegression\n",
    "from sklearn.ensemble import RandomForestClassifier\n",
    "from sklearn.metrics import roc_auc_score, accuracy_score\n",
    "\n",
    "from catboost import CatBoostClassifier, Pool\n",
    "\n",
    "from optuna.integration import OptunaSearchCV\n",
    "from optuna.distributions import IntDistribution\n",
    "\n",
    "from scipy.stats import loguniform\n",
    "\n",
    "plt.style.use('dark_background');            # Dark theme for plots\n",
    "plt.rc('grid', color=(.3, .3, .3));          # Pale grid lines\n",
    "plt.rc('axes', grid=True, axisbelow=True);   # Grid lines behind the plot\n",
    "pd.set_option('display.max_columns', None);  # Display all dataframe columns\n",
    "# pd.set_option('display.max_rows', 100);      # Display 100 dataframe rows"
   ]
  },
  {
   "cell_type": "code",
   "execution_count": 2,
   "id": "c9062057-6722-44ec-9734-aa1fabb7a041",
   "metadata": {},
   "outputs": [],
   "source": [
    "RS = 290822  # Custom random state"
   ]
  },
  {
   "cell_type": "markdown",
   "id": "0df2bc5f-8aa6-49f6-a288-ee52437cc7d3",
   "metadata": {},
   "source": [
    "Напишем функцию для трансформации названий полей из \"верблюжьего\" регистра в  \"змеиный\"."
   ]
  },
  {
   "cell_type": "code",
   "execution_count": 3,
   "id": "a63d8c1f-1dc3-46f5-ba67-3b9805a281ed",
   "metadata": {},
   "outputs": [],
   "source": [
    "def camel_to_snake(string):\n",
    "    '''Converts string from CamelCase to snake_case'''\n",
    "    string = re.sub('(.)([A-Z][a-z]+)', r'\\1_\\2', string)\n",
    "    return re.sub('([a-z0-9])([A-Z])', r'\\1_\\2', string).lower()"
   ]
  },
  {
   "cell_type": "markdown",
   "id": "225fa80a-9399-4f17-bdce-6d3d25a84b28",
   "metadata": {},
   "source": [
    "Напишем функцию, которая выводит гистограммы для каждого поля из датафрейма."
   ]
  },
  {
   "cell_type": "code",
   "execution_count": 4,
   "id": "4de382bb-0354-41ab-9524-cc389b06208b",
   "metadata": {},
   "outputs": [],
   "source": [
    "def plot_hists(df, title=None, ncols=3, exclude=['customer_id']):\n",
    "    '''Plots a histogram for each column in dataframe'''\n",
    "    \n",
    "    nrows = math.ceil(df.shape[1] / ncols)\n",
    "    colors = [x['color'] for x in plt.rcParams['axes.prop_cycle']]\n",
    "\n",
    "    plt.figure(figsize=(6*ncols, 4*nrows), constrained_layout=True)\n",
    "    plt.suptitle(title, fontsize='xx-large');\n",
    "    # plt.subplots_adjust(wspace=.2, hspace=.4);\n",
    "    \n",
    "    for i, col in enumerate(df.drop(columns=exclude, errors='ignore')):\n",
    "        ax = plt.subplot(nrows, ncols, i+1);\n",
    "        ax.set_title(f'{col}');\n",
    "        params = dict(ax=ax, color=colors[i % len(colors)])\n",
    "        if df[col].dtypes in ['object', 'category']:\n",
    "            df[col].value_counts().plot.barh(**params);\n",
    "            ax.set(xlabel='Number of samples', ylabel='Value');\n",
    "        else:\n",
    "            df[col].hist(bins=20, edgecolor='k', **params);\n",
    "            ax.set(xlabel='Value', ylabel='Number of samples');     "
   ]
  },
  {
   "cell_type": "markdown",
   "id": "e7a95657-ab54-42ac-ae66-77b525aa4125",
   "metadata": {},
   "source": [
    "Загрузим данные в датафреймы, названия которых соответствуют источнику, и сразу трансформируем наименования полей в них."
   ]
  },
  {
   "cell_type": "code",
   "execution_count": 5,
   "id": "33b91a1f-68eb-40c5-b9ef-fe19cebc45c2",
   "metadata": {},
   "outputs": [],
   "source": [
    "for df in ['contract', 'internet', 'personal', 'phone']:\n",
    "    globals()[df] = pd.read_csv(f'{df}.csv')"
   ]
  },
  {
   "cell_type": "code",
   "execution_count": 6,
   "id": "7588e1a0-83c8-4e14-a59a-cc36bbc44d2e",
   "metadata": {},
   "outputs": [],
   "source": [
    "for df in [contract, internet, personal, phone]:\n",
    "    df.columns = map(camel_to_snake, df.columns)    "
   ]
  },
  {
   "cell_type": "markdown",
   "id": "ab4b32fd-1f0b-4f9e-92d3-a1a94b67e161",
   "metadata": {},
   "source": [
    "## Договоры"
   ]
  },
  {
   "cell_type": "markdown",
   "id": "65ac324f-0ae0-4a43-8496-08f7dfd94542",
   "metadata": {},
   "source": [
    "Взглянем на информацию о договорах."
   ]
  },
  {
   "cell_type": "code",
   "execution_count": 7,
   "id": "db34647f-5e9c-45f8-a3a2-236ccbec77db",
   "metadata": {},
   "outputs": [
    {
     "data": {
      "text/html": [
       "<div>\n",
       "<style scoped>\n",
       "    .dataframe tbody tr th:only-of-type {\n",
       "        vertical-align: middle;\n",
       "    }\n",
       "\n",
       "    .dataframe tbody tr th {\n",
       "        vertical-align: top;\n",
       "    }\n",
       "\n",
       "    .dataframe thead th {\n",
       "        text-align: right;\n",
       "    }\n",
       "</style>\n",
       "<table border=\"1\" class=\"dataframe\">\n",
       "  <thead>\n",
       "    <tr style=\"text-align: right;\">\n",
       "      <th></th>\n",
       "      <th>customer_id</th>\n",
       "      <th>begin_date</th>\n",
       "      <th>end_date</th>\n",
       "      <th>type</th>\n",
       "      <th>paperless_billing</th>\n",
       "      <th>payment_method</th>\n",
       "      <th>monthly_charges</th>\n",
       "      <th>total_charges</th>\n",
       "    </tr>\n",
       "  </thead>\n",
       "  <tbody>\n",
       "    <tr>\n",
       "      <th>0</th>\n",
       "      <td>7590-VHVEG</td>\n",
       "      <td>2020-01-01</td>\n",
       "      <td>No</td>\n",
       "      <td>Month-to-month</td>\n",
       "      <td>Yes</td>\n",
       "      <td>Electronic check</td>\n",
       "      <td>29.85</td>\n",
       "      <td>29.85</td>\n",
       "    </tr>\n",
       "    <tr>\n",
       "      <th>1</th>\n",
       "      <td>5575-GNVDE</td>\n",
       "      <td>2017-04-01</td>\n",
       "      <td>No</td>\n",
       "      <td>One year</td>\n",
       "      <td>No</td>\n",
       "      <td>Mailed check</td>\n",
       "      <td>56.95</td>\n",
       "      <td>1889.5</td>\n",
       "    </tr>\n",
       "    <tr>\n",
       "      <th>2</th>\n",
       "      <td>3668-QPYBK</td>\n",
       "      <td>2019-10-01</td>\n",
       "      <td>2019-12-01 00:00:00</td>\n",
       "      <td>Month-to-month</td>\n",
       "      <td>Yes</td>\n",
       "      <td>Mailed check</td>\n",
       "      <td>53.85</td>\n",
       "      <td>108.15</td>\n",
       "    </tr>\n",
       "    <tr>\n",
       "      <th>3</th>\n",
       "      <td>7795-CFOCW</td>\n",
       "      <td>2016-05-01</td>\n",
       "      <td>No</td>\n",
       "      <td>One year</td>\n",
       "      <td>No</td>\n",
       "      <td>Bank transfer (automatic)</td>\n",
       "      <td>42.30</td>\n",
       "      <td>1840.75</td>\n",
       "    </tr>\n",
       "    <tr>\n",
       "      <th>4</th>\n",
       "      <td>9237-HQITU</td>\n",
       "      <td>2019-09-01</td>\n",
       "      <td>2019-11-01 00:00:00</td>\n",
       "      <td>Month-to-month</td>\n",
       "      <td>Yes</td>\n",
       "      <td>Electronic check</td>\n",
       "      <td>70.70</td>\n",
       "      <td>151.65</td>\n",
       "    </tr>\n",
       "    <tr>\n",
       "      <th>...</th>\n",
       "      <td>...</td>\n",
       "      <td>...</td>\n",
       "      <td>...</td>\n",
       "      <td>...</td>\n",
       "      <td>...</td>\n",
       "      <td>...</td>\n",
       "      <td>...</td>\n",
       "      <td>...</td>\n",
       "    </tr>\n",
       "    <tr>\n",
       "      <th>7038</th>\n",
       "      <td>6840-RESVB</td>\n",
       "      <td>2018-02-01</td>\n",
       "      <td>No</td>\n",
       "      <td>One year</td>\n",
       "      <td>Yes</td>\n",
       "      <td>Mailed check</td>\n",
       "      <td>84.80</td>\n",
       "      <td>1990.5</td>\n",
       "    </tr>\n",
       "    <tr>\n",
       "      <th>7039</th>\n",
       "      <td>2234-XADUH</td>\n",
       "      <td>2014-02-01</td>\n",
       "      <td>No</td>\n",
       "      <td>One year</td>\n",
       "      <td>Yes</td>\n",
       "      <td>Credit card (automatic)</td>\n",
       "      <td>103.20</td>\n",
       "      <td>7362.9</td>\n",
       "    </tr>\n",
       "    <tr>\n",
       "      <th>7040</th>\n",
       "      <td>4801-JZAZL</td>\n",
       "      <td>2019-03-01</td>\n",
       "      <td>No</td>\n",
       "      <td>Month-to-month</td>\n",
       "      <td>Yes</td>\n",
       "      <td>Electronic check</td>\n",
       "      <td>29.60</td>\n",
       "      <td>346.45</td>\n",
       "    </tr>\n",
       "    <tr>\n",
       "      <th>7041</th>\n",
       "      <td>8361-LTMKD</td>\n",
       "      <td>2019-07-01</td>\n",
       "      <td>2019-11-01 00:00:00</td>\n",
       "      <td>Month-to-month</td>\n",
       "      <td>Yes</td>\n",
       "      <td>Mailed check</td>\n",
       "      <td>74.40</td>\n",
       "      <td>306.6</td>\n",
       "    </tr>\n",
       "    <tr>\n",
       "      <th>7042</th>\n",
       "      <td>3186-AJIEK</td>\n",
       "      <td>2014-08-01</td>\n",
       "      <td>No</td>\n",
       "      <td>Two year</td>\n",
       "      <td>Yes</td>\n",
       "      <td>Bank transfer (automatic)</td>\n",
       "      <td>105.65</td>\n",
       "      <td>6844.5</td>\n",
       "    </tr>\n",
       "  </tbody>\n",
       "</table>\n",
       "<p>7043 rows × 8 columns</p>\n",
       "</div>"
      ],
      "text/plain": [
       "     customer_id  begin_date             end_date            type  \\\n",
       "0     7590-VHVEG  2020-01-01                   No  Month-to-month   \n",
       "1     5575-GNVDE  2017-04-01                   No        One year   \n",
       "2     3668-QPYBK  2019-10-01  2019-12-01 00:00:00  Month-to-month   \n",
       "3     7795-CFOCW  2016-05-01                   No        One year   \n",
       "4     9237-HQITU  2019-09-01  2019-11-01 00:00:00  Month-to-month   \n",
       "...          ...         ...                  ...             ...   \n",
       "7038  6840-RESVB  2018-02-01                   No        One year   \n",
       "7039  2234-XADUH  2014-02-01                   No        One year   \n",
       "7040  4801-JZAZL  2019-03-01                   No  Month-to-month   \n",
       "7041  8361-LTMKD  2019-07-01  2019-11-01 00:00:00  Month-to-month   \n",
       "7042  3186-AJIEK  2014-08-01                   No        Two year   \n",
       "\n",
       "     paperless_billing             payment_method  monthly_charges  \\\n",
       "0                  Yes           Electronic check            29.85   \n",
       "1                   No               Mailed check            56.95   \n",
       "2                  Yes               Mailed check            53.85   \n",
       "3                   No  Bank transfer (automatic)            42.30   \n",
       "4                  Yes           Electronic check            70.70   \n",
       "...                ...                        ...              ...   \n",
       "7038               Yes               Mailed check            84.80   \n",
       "7039               Yes    Credit card (automatic)           103.20   \n",
       "7040               Yes           Electronic check            29.60   \n",
       "7041               Yes               Mailed check            74.40   \n",
       "7042               Yes  Bank transfer (automatic)           105.65   \n",
       "\n",
       "     total_charges  \n",
       "0            29.85  \n",
       "1           1889.5  \n",
       "2           108.15  \n",
       "3          1840.75  \n",
       "4           151.65  \n",
       "...            ...  \n",
       "7038        1990.5  \n",
       "7039        7362.9  \n",
       "7040        346.45  \n",
       "7041         306.6  \n",
       "7042        6844.5  \n",
       "\n",
       "[7043 rows x 8 columns]"
      ]
     },
     "execution_count": 7,
     "metadata": {},
     "output_type": "execute_result"
    }
   ],
   "source": [
    "contract"
   ]
  },
  {
   "cell_type": "code",
   "execution_count": 8,
   "id": "a4e8a1c3-4112-4111-a686-e8ecd073d50b",
   "metadata": {},
   "outputs": [
    {
     "name": "stdout",
     "output_type": "stream",
     "text": [
      "<class 'pandas.core.frame.DataFrame'>\n",
      "RangeIndex: 7043 entries, 0 to 7042\n",
      "Data columns (total 8 columns):\n",
      " #   Column             Non-Null Count  Dtype  \n",
      "---  ------             --------------  -----  \n",
      " 0   customer_id        7043 non-null   object \n",
      " 1   begin_date         7043 non-null   object \n",
      " 2   end_date           7043 non-null   object \n",
      " 3   type               7043 non-null   object \n",
      " 4   paperless_billing  7043 non-null   object \n",
      " 5   payment_method     7043 non-null   object \n",
      " 6   monthly_charges    7043 non-null   float64\n",
      " 7   total_charges      7043 non-null   object \n",
      "dtypes: float64(1), object(7)\n",
      "memory usage: 440.3+ KB\n"
     ]
    }
   ],
   "source": [
    "contract.info()"
   ]
  },
  {
   "cell_type": "code",
   "execution_count": 9,
   "id": "eae2e087-81a5-4d75-9249-6e5bd3dd12d3",
   "metadata": {},
   "outputs": [
    {
     "data": {
      "text/plain": [
       "customer_id          0\n",
       "begin_date           0\n",
       "end_date             0\n",
       "type                 0\n",
       "paperless_billing    0\n",
       "payment_method       0\n",
       "monthly_charges      0\n",
       "total_charges        0\n",
       "dtype: int64"
      ]
     },
     "execution_count": 9,
     "metadata": {},
     "output_type": "execute_result"
    }
   ],
   "source": [
    "contract.isna().sum()"
   ]
  },
  {
   "cell_type": "code",
   "execution_count": 10,
   "id": "d17375ab-f1ed-4c50-bcb3-4491c8614dd3",
   "metadata": {},
   "outputs": [
    {
     "data": {
      "text/plain": [
       "0"
      ]
     },
     "execution_count": 10,
     "metadata": {},
     "output_type": "execute_result"
    }
   ],
   "source": [
    "contract.duplicated().sum()"
   ]
  },
  {
   "cell_type": "markdown",
   "id": "313f7ff7-49a7-44be-87a4-4f577f2ce4d6",
   "metadata": {},
   "source": [
    "Явных пропусков и дублей нет, но типы данных не везде соответствуют содержанию столбцов. Приведем поля с датами к типу datetime."
   ]
  },
  {
   "cell_type": "code",
   "execution_count": 11,
   "id": "fe66afd4-50f6-44d2-9a64-8e1b9d8e10b2",
   "metadata": {},
   "outputs": [],
   "source": [
    "contract['end_date'] = contract['end_date'].replace('No', np.nan)\n",
    "contract[['begin_date', 'end_date']] = contract[['begin_date', 'end_date']].apply(pd.to_datetime, format='%Y-%m-%d')"
   ]
  },
  {
   "cell_type": "markdown",
   "id": "9de52c49-0b29-492e-97c7-398ff9ad6bde",
   "metadata": {},
   "source": [
    "Приведем поле `total_charges` к числовому типу."
   ]
  },
  {
   "cell_type": "code",
   "execution_count": 12,
   "id": "3b2dac04-d7a0-46ec-8dcb-eef096a23adb",
   "metadata": {},
   "outputs": [],
   "source": [
    "contract['total_charges'] = pd.to_numeric(contract['total_charges'], errors='coerce')"
   ]
  },
  {
   "cell_type": "code",
   "execution_count": 13,
   "id": "4ae9f9c3-060c-4ccf-b55a-194fd5a311e3",
   "metadata": {},
   "outputs": [
    {
     "name": "stdout",
     "output_type": "stream",
     "text": [
      "<class 'pandas.core.frame.DataFrame'>\n",
      "RangeIndex: 7043 entries, 0 to 7042\n",
      "Data columns (total 8 columns):\n",
      " #   Column             Non-Null Count  Dtype         \n",
      "---  ------             --------------  -----         \n",
      " 0   customer_id        7043 non-null   object        \n",
      " 1   begin_date         7043 non-null   datetime64[ns]\n",
      " 2   end_date           1869 non-null   datetime64[ns]\n",
      " 3   type               7043 non-null   object        \n",
      " 4   paperless_billing  7043 non-null   object        \n",
      " 5   payment_method     7043 non-null   object        \n",
      " 6   monthly_charges    7043 non-null   float64       \n",
      " 7   total_charges      7032 non-null   float64       \n",
      "dtypes: datetime64[ns](2), float64(2), object(4)\n",
      "memory usage: 440.3+ KB\n"
     ]
    }
   ],
   "source": [
    "contract.info()"
   ]
  },
  {
   "cell_type": "code",
   "execution_count": 14,
   "id": "1d38e71a-aea9-4c70-aadc-c4444d41cbfd",
   "metadata": {},
   "outputs": [
    {
     "data": {
      "text/plain": [
       "customer_id             0\n",
       "begin_date              0\n",
       "end_date             5174\n",
       "type                    0\n",
       "paperless_billing       0\n",
       "payment_method          0\n",
       "monthly_charges         0\n",
       "total_charges          11\n",
       "dtype: int64"
      ]
     },
     "execution_count": 14,
     "metadata": {},
     "output_type": "execute_result"
    }
   ],
   "source": [
    "contract.isna().sum()"
   ]
  },
  {
   "cell_type": "markdown",
   "id": "13cf7ff5-41d5-4676-ab57-e219dffc6422",
   "metadata": {},
   "source": [
    "Появились пропуски в столбце `end_date` – это нормально, так как не все клиенты прекратили пользоваться услугами компании. Взглянем на пропуски в столбце `total_charges`."
   ]
  },
  {
   "cell_type": "code",
   "execution_count": 15,
   "id": "402f8ab4-2bde-465f-9750-234c83473205",
   "metadata": {},
   "outputs": [
    {
     "data": {
      "text/html": [
       "<div>\n",
       "<style scoped>\n",
       "    .dataframe tbody tr th:only-of-type {\n",
       "        vertical-align: middle;\n",
       "    }\n",
       "\n",
       "    .dataframe tbody tr th {\n",
       "        vertical-align: top;\n",
       "    }\n",
       "\n",
       "    .dataframe thead th {\n",
       "        text-align: right;\n",
       "    }\n",
       "</style>\n",
       "<table border=\"1\" class=\"dataframe\">\n",
       "  <thead>\n",
       "    <tr style=\"text-align: right;\">\n",
       "      <th></th>\n",
       "      <th>customer_id</th>\n",
       "      <th>begin_date</th>\n",
       "      <th>end_date</th>\n",
       "      <th>type</th>\n",
       "      <th>paperless_billing</th>\n",
       "      <th>payment_method</th>\n",
       "      <th>monthly_charges</th>\n",
       "      <th>total_charges</th>\n",
       "    </tr>\n",
       "  </thead>\n",
       "  <tbody>\n",
       "    <tr>\n",
       "      <th>488</th>\n",
       "      <td>4472-LVYGI</td>\n",
       "      <td>2020-02-01</td>\n",
       "      <td>NaT</td>\n",
       "      <td>Two year</td>\n",
       "      <td>Yes</td>\n",
       "      <td>Bank transfer (automatic)</td>\n",
       "      <td>52.55</td>\n",
       "      <td>NaN</td>\n",
       "    </tr>\n",
       "    <tr>\n",
       "      <th>753</th>\n",
       "      <td>3115-CZMZD</td>\n",
       "      <td>2020-02-01</td>\n",
       "      <td>NaT</td>\n",
       "      <td>Two year</td>\n",
       "      <td>No</td>\n",
       "      <td>Mailed check</td>\n",
       "      <td>20.25</td>\n",
       "      <td>NaN</td>\n",
       "    </tr>\n",
       "    <tr>\n",
       "      <th>936</th>\n",
       "      <td>5709-LVOEQ</td>\n",
       "      <td>2020-02-01</td>\n",
       "      <td>NaT</td>\n",
       "      <td>Two year</td>\n",
       "      <td>No</td>\n",
       "      <td>Mailed check</td>\n",
       "      <td>80.85</td>\n",
       "      <td>NaN</td>\n",
       "    </tr>\n",
       "    <tr>\n",
       "      <th>1082</th>\n",
       "      <td>4367-NUYAO</td>\n",
       "      <td>2020-02-01</td>\n",
       "      <td>NaT</td>\n",
       "      <td>Two year</td>\n",
       "      <td>No</td>\n",
       "      <td>Mailed check</td>\n",
       "      <td>25.75</td>\n",
       "      <td>NaN</td>\n",
       "    </tr>\n",
       "    <tr>\n",
       "      <th>1340</th>\n",
       "      <td>1371-DWPAZ</td>\n",
       "      <td>2020-02-01</td>\n",
       "      <td>NaT</td>\n",
       "      <td>Two year</td>\n",
       "      <td>No</td>\n",
       "      <td>Credit card (automatic)</td>\n",
       "      <td>56.05</td>\n",
       "      <td>NaN</td>\n",
       "    </tr>\n",
       "    <tr>\n",
       "      <th>3331</th>\n",
       "      <td>7644-OMVMY</td>\n",
       "      <td>2020-02-01</td>\n",
       "      <td>NaT</td>\n",
       "      <td>Two year</td>\n",
       "      <td>No</td>\n",
       "      <td>Mailed check</td>\n",
       "      <td>19.85</td>\n",
       "      <td>NaN</td>\n",
       "    </tr>\n",
       "    <tr>\n",
       "      <th>3826</th>\n",
       "      <td>3213-VVOLG</td>\n",
       "      <td>2020-02-01</td>\n",
       "      <td>NaT</td>\n",
       "      <td>Two year</td>\n",
       "      <td>No</td>\n",
       "      <td>Mailed check</td>\n",
       "      <td>25.35</td>\n",
       "      <td>NaN</td>\n",
       "    </tr>\n",
       "    <tr>\n",
       "      <th>4380</th>\n",
       "      <td>2520-SGTTA</td>\n",
       "      <td>2020-02-01</td>\n",
       "      <td>NaT</td>\n",
       "      <td>Two year</td>\n",
       "      <td>No</td>\n",
       "      <td>Mailed check</td>\n",
       "      <td>20.00</td>\n",
       "      <td>NaN</td>\n",
       "    </tr>\n",
       "    <tr>\n",
       "      <th>5218</th>\n",
       "      <td>2923-ARZLG</td>\n",
       "      <td>2020-02-01</td>\n",
       "      <td>NaT</td>\n",
       "      <td>One year</td>\n",
       "      <td>Yes</td>\n",
       "      <td>Mailed check</td>\n",
       "      <td>19.70</td>\n",
       "      <td>NaN</td>\n",
       "    </tr>\n",
       "    <tr>\n",
       "      <th>6670</th>\n",
       "      <td>4075-WKNIU</td>\n",
       "      <td>2020-02-01</td>\n",
       "      <td>NaT</td>\n",
       "      <td>Two year</td>\n",
       "      <td>No</td>\n",
       "      <td>Mailed check</td>\n",
       "      <td>73.35</td>\n",
       "      <td>NaN</td>\n",
       "    </tr>\n",
       "    <tr>\n",
       "      <th>6754</th>\n",
       "      <td>2775-SEFEE</td>\n",
       "      <td>2020-02-01</td>\n",
       "      <td>NaT</td>\n",
       "      <td>Two year</td>\n",
       "      <td>Yes</td>\n",
       "      <td>Bank transfer (automatic)</td>\n",
       "      <td>61.90</td>\n",
       "      <td>NaN</td>\n",
       "    </tr>\n",
       "  </tbody>\n",
       "</table>\n",
       "</div>"
      ],
      "text/plain": [
       "     customer_id begin_date end_date      type paperless_billing  \\\n",
       "488   4472-LVYGI 2020-02-01      NaT  Two year               Yes   \n",
       "753   3115-CZMZD 2020-02-01      NaT  Two year                No   \n",
       "936   5709-LVOEQ 2020-02-01      NaT  Two year                No   \n",
       "1082  4367-NUYAO 2020-02-01      NaT  Two year                No   \n",
       "1340  1371-DWPAZ 2020-02-01      NaT  Two year                No   \n",
       "3331  7644-OMVMY 2020-02-01      NaT  Two year                No   \n",
       "3826  3213-VVOLG 2020-02-01      NaT  Two year                No   \n",
       "4380  2520-SGTTA 2020-02-01      NaT  Two year                No   \n",
       "5218  2923-ARZLG 2020-02-01      NaT  One year               Yes   \n",
       "6670  4075-WKNIU 2020-02-01      NaT  Two year                No   \n",
       "6754  2775-SEFEE 2020-02-01      NaT  Two year               Yes   \n",
       "\n",
       "                 payment_method  monthly_charges  total_charges  \n",
       "488   Bank transfer (automatic)            52.55            NaN  \n",
       "753                Mailed check            20.25            NaN  \n",
       "936                Mailed check            80.85            NaN  \n",
       "1082               Mailed check            25.75            NaN  \n",
       "1340    Credit card (automatic)            56.05            NaN  \n",
       "3331               Mailed check            19.85            NaN  \n",
       "3826               Mailed check            25.35            NaN  \n",
       "4380               Mailed check            20.00            NaN  \n",
       "5218               Mailed check            19.70            NaN  \n",
       "6670               Mailed check            73.35            NaN  \n",
       "6754  Bank transfer (automatic)            61.90            NaN  "
      ]
     },
     "execution_count": 15,
     "metadata": {},
     "output_type": "execute_result"
    }
   ],
   "source": [
    "contract[contract['total_charges'].isna()]"
   ]
  },
  {
   "cell_type": "markdown",
   "id": "ef973906-89df-4d9c-bd56-4657854708dc",
   "metadata": {},
   "source": [
    "Это 11 клиентов, которые начали пользоваться услугами компании в день выгрузки данных – 1 февраля 2020. Для них еще не рассчитаны общие затраты на услуги. Логичным решением будет заполнить такие пропуски нулями."
   ]
  },
  {
   "cell_type": "code",
   "execution_count": 16,
   "id": "31b4284f-6ce1-4a44-9c64-ca94ffaf26a8",
   "metadata": {},
   "outputs": [],
   "source": [
    "contract['total_charges'] = contract['total_charges'].fillna(0)"
   ]
  },
  {
   "cell_type": "markdown",
   "id": "649ce8d3-9a97-4a93-9f90-d0dcee52e78c",
   "metadata": {},
   "source": [
    "Проверим, нет ли других клиентов, подключившихся 1 февраля 2020."
   ]
  },
  {
   "cell_type": "code",
   "execution_count": 17,
   "id": "e5685bcc-67a1-4896-a6a3-594f81dbab3b",
   "metadata": {},
   "outputs": [
    {
     "data": {
      "text/html": [
       "<div>\n",
       "<style scoped>\n",
       "    .dataframe tbody tr th:only-of-type {\n",
       "        vertical-align: middle;\n",
       "    }\n",
       "\n",
       "    .dataframe tbody tr th {\n",
       "        vertical-align: top;\n",
       "    }\n",
       "\n",
       "    .dataframe thead th {\n",
       "        text-align: right;\n",
       "    }\n",
       "</style>\n",
       "<table border=\"1\" class=\"dataframe\">\n",
       "  <thead>\n",
       "    <tr style=\"text-align: right;\">\n",
       "      <th></th>\n",
       "      <th>customer_id</th>\n",
       "      <th>begin_date</th>\n",
       "      <th>end_date</th>\n",
       "      <th>type</th>\n",
       "      <th>paperless_billing</th>\n",
       "      <th>payment_method</th>\n",
       "      <th>monthly_charges</th>\n",
       "      <th>total_charges</th>\n",
       "    </tr>\n",
       "  </thead>\n",
       "  <tbody>\n",
       "    <tr>\n",
       "      <th>488</th>\n",
       "      <td>4472-LVYGI</td>\n",
       "      <td>2020-02-01</td>\n",
       "      <td>NaT</td>\n",
       "      <td>Two year</td>\n",
       "      <td>Yes</td>\n",
       "      <td>Bank transfer (automatic)</td>\n",
       "      <td>52.55</td>\n",
       "      <td>0.0</td>\n",
       "    </tr>\n",
       "    <tr>\n",
       "      <th>753</th>\n",
       "      <td>3115-CZMZD</td>\n",
       "      <td>2020-02-01</td>\n",
       "      <td>NaT</td>\n",
       "      <td>Two year</td>\n",
       "      <td>No</td>\n",
       "      <td>Mailed check</td>\n",
       "      <td>20.25</td>\n",
       "      <td>0.0</td>\n",
       "    </tr>\n",
       "    <tr>\n",
       "      <th>936</th>\n",
       "      <td>5709-LVOEQ</td>\n",
       "      <td>2020-02-01</td>\n",
       "      <td>NaT</td>\n",
       "      <td>Two year</td>\n",
       "      <td>No</td>\n",
       "      <td>Mailed check</td>\n",
       "      <td>80.85</td>\n",
       "      <td>0.0</td>\n",
       "    </tr>\n",
       "    <tr>\n",
       "      <th>1082</th>\n",
       "      <td>4367-NUYAO</td>\n",
       "      <td>2020-02-01</td>\n",
       "      <td>NaT</td>\n",
       "      <td>Two year</td>\n",
       "      <td>No</td>\n",
       "      <td>Mailed check</td>\n",
       "      <td>25.75</td>\n",
       "      <td>0.0</td>\n",
       "    </tr>\n",
       "    <tr>\n",
       "      <th>1340</th>\n",
       "      <td>1371-DWPAZ</td>\n",
       "      <td>2020-02-01</td>\n",
       "      <td>NaT</td>\n",
       "      <td>Two year</td>\n",
       "      <td>No</td>\n",
       "      <td>Credit card (automatic)</td>\n",
       "      <td>56.05</td>\n",
       "      <td>0.0</td>\n",
       "    </tr>\n",
       "    <tr>\n",
       "      <th>3331</th>\n",
       "      <td>7644-OMVMY</td>\n",
       "      <td>2020-02-01</td>\n",
       "      <td>NaT</td>\n",
       "      <td>Two year</td>\n",
       "      <td>No</td>\n",
       "      <td>Mailed check</td>\n",
       "      <td>19.85</td>\n",
       "      <td>0.0</td>\n",
       "    </tr>\n",
       "    <tr>\n",
       "      <th>3826</th>\n",
       "      <td>3213-VVOLG</td>\n",
       "      <td>2020-02-01</td>\n",
       "      <td>NaT</td>\n",
       "      <td>Two year</td>\n",
       "      <td>No</td>\n",
       "      <td>Mailed check</td>\n",
       "      <td>25.35</td>\n",
       "      <td>0.0</td>\n",
       "    </tr>\n",
       "    <tr>\n",
       "      <th>4380</th>\n",
       "      <td>2520-SGTTA</td>\n",
       "      <td>2020-02-01</td>\n",
       "      <td>NaT</td>\n",
       "      <td>Two year</td>\n",
       "      <td>No</td>\n",
       "      <td>Mailed check</td>\n",
       "      <td>20.00</td>\n",
       "      <td>0.0</td>\n",
       "    </tr>\n",
       "    <tr>\n",
       "      <th>5218</th>\n",
       "      <td>2923-ARZLG</td>\n",
       "      <td>2020-02-01</td>\n",
       "      <td>NaT</td>\n",
       "      <td>One year</td>\n",
       "      <td>Yes</td>\n",
       "      <td>Mailed check</td>\n",
       "      <td>19.70</td>\n",
       "      <td>0.0</td>\n",
       "    </tr>\n",
       "    <tr>\n",
       "      <th>6670</th>\n",
       "      <td>4075-WKNIU</td>\n",
       "      <td>2020-02-01</td>\n",
       "      <td>NaT</td>\n",
       "      <td>Two year</td>\n",
       "      <td>No</td>\n",
       "      <td>Mailed check</td>\n",
       "      <td>73.35</td>\n",
       "      <td>0.0</td>\n",
       "    </tr>\n",
       "    <tr>\n",
       "      <th>6754</th>\n",
       "      <td>2775-SEFEE</td>\n",
       "      <td>2020-02-01</td>\n",
       "      <td>NaT</td>\n",
       "      <td>Two year</td>\n",
       "      <td>Yes</td>\n",
       "      <td>Bank transfer (automatic)</td>\n",
       "      <td>61.90</td>\n",
       "      <td>0.0</td>\n",
       "    </tr>\n",
       "  </tbody>\n",
       "</table>\n",
       "</div>"
      ],
      "text/plain": [
       "     customer_id begin_date end_date      type paperless_billing  \\\n",
       "488   4472-LVYGI 2020-02-01      NaT  Two year               Yes   \n",
       "753   3115-CZMZD 2020-02-01      NaT  Two year                No   \n",
       "936   5709-LVOEQ 2020-02-01      NaT  Two year                No   \n",
       "1082  4367-NUYAO 2020-02-01      NaT  Two year                No   \n",
       "1340  1371-DWPAZ 2020-02-01      NaT  Two year                No   \n",
       "3331  7644-OMVMY 2020-02-01      NaT  Two year                No   \n",
       "3826  3213-VVOLG 2020-02-01      NaT  Two year                No   \n",
       "4380  2520-SGTTA 2020-02-01      NaT  Two year                No   \n",
       "5218  2923-ARZLG 2020-02-01      NaT  One year               Yes   \n",
       "6670  4075-WKNIU 2020-02-01      NaT  Two year                No   \n",
       "6754  2775-SEFEE 2020-02-01      NaT  Two year               Yes   \n",
       "\n",
       "                 payment_method  monthly_charges  total_charges  \n",
       "488   Bank transfer (automatic)            52.55            0.0  \n",
       "753                Mailed check            20.25            0.0  \n",
       "936                Mailed check            80.85            0.0  \n",
       "1082               Mailed check            25.75            0.0  \n",
       "1340    Credit card (automatic)            56.05            0.0  \n",
       "3331               Mailed check            19.85            0.0  \n",
       "3826               Mailed check            25.35            0.0  \n",
       "4380               Mailed check            20.00            0.0  \n",
       "5218               Mailed check            19.70            0.0  \n",
       "6670               Mailed check            73.35            0.0  \n",
       "6754  Bank transfer (automatic)            61.90            0.0  "
      ]
     },
     "execution_count": 17,
     "metadata": {},
     "output_type": "execute_result"
    }
   ],
   "source": [
    "contract[contract['begin_date'] == '2020-02-01']"
   ]
  },
  {
   "cell_type": "markdown",
   "id": "7566091f-ae83-468e-b6ff-9fab566112d4",
   "metadata": {},
   "source": [
    "Других нет."
   ]
  },
  {
   "cell_type": "markdown",
   "id": "f3b96ae5-91bd-40de-9e6e-b2aa34ba28cd",
   "metadata": {},
   "source": [
    "Посмотрим на гистограммы каждого столбца."
   ]
  },
  {
   "cell_type": "code",
   "execution_count": 18,
   "id": "ece5ef75-2417-432c-a0ca-a1be58069849",
   "metadata": {},
   "outputs": [
    {
     "data": {
      "image/png": "[encoded data removed]",
      "text/plain": [
       "<Figure size 1296x864 with 7 Axes>"
      ]
     },
     "metadata": {},
     "output_type": "display_data"
    }
   ],
   "source": [
    "plot_hists(contract, 'contract')"
   ]
  },
  {
   "cell_type": "markdown",
   "id": "c2fa7020-a2bc-402b-8f1c-49552eeb16dc",
   "metadata": {},
   "source": [
    "Ничего необычного, кроме поля `end_date`: пользователи прекращали пользоваться услугами компании всего в 4 разные даты:"
   ]
  },
  {
   "cell_type": "code",
   "execution_count": 19,
   "id": "6c5a2b7a-14f5-4c32-b03e-b0c300247868",
   "metadata": {},
   "outputs": [
    {
     "data": {
      "text/plain": [
       "2019-10-01    458\n",
       "2019-11-01    485\n",
       "2019-12-01    466\n",
       "2020-01-01    460\n",
       "Name: end_date, dtype: int64"
      ]
     },
     "execution_count": 19,
     "metadata": {},
     "output_type": "execute_result"
    }
   ],
   "source": [
    "contract['end_date'].value_counts().sort_index()"
   ]
  },
  {
   "cell_type": "markdown",
   "id": "1fbfbef1-8d78-4196-be6e-c647f934dbf5",
   "metadata": {},
   "source": [
    "Это 1 октября, 1 ноября, 1 декабря 2019 и 1 января 2020, то есть последние четыре месяца перед выгрузкой данных. "
   ]
  },
  {
   "cell_type": "markdown",
   "id": "79be5798-c82b-4628-a905-0d39c967a2e7",
   "metadata": {},
   "source": [
    "Убедимся, что даты *начала* пользования услугами тоже указаны с точностью до месяца."
   ]
  },
  {
   "cell_type": "code",
   "execution_count": 20,
   "id": "18ee1a36-30ab-4938-a4dc-9add3fcf9f00",
   "metadata": {},
   "outputs": [
    {
     "data": {
      "text/plain": [
       "1    7043\n",
       "Name: begin_date, dtype: int64"
      ]
     },
     "execution_count": 20,
     "metadata": {},
     "output_type": "execute_result"
    }
   ],
   "source": [
    "contract['begin_date'].dt.day.value_counts()"
   ]
  },
  {
   "cell_type": "markdown",
   "id": "4a45ae06-b097-46aa-9e34-890405f9b91a",
   "metadata": {},
   "source": [
    "Так и есть."
   ]
  },
  {
   "cell_type": "markdown",
   "id": "ee7ce118-9a94-42aa-8df7-74501f3829ef",
   "metadata": {
    "tags": []
   },
   "source": [
    "## Клиенты"
   ]
  },
  {
   "cell_type": "markdown",
   "id": "1e0b8893-acdb-4d6d-90c7-52e4538a11d2",
   "metadata": {},
   "source": [
    "Взглянем на персональную информацию о клиентах."
   ]
  },
  {
   "cell_type": "code",
   "execution_count": 21,
   "id": "95a90271-5c81-4b65-a027-1f29eb682a16",
   "metadata": {},
   "outputs": [
    {
     "data": {
      "text/html": [
       "<div>\n",
       "<style scoped>\n",
       "    .dataframe tbody tr th:only-of-type {\n",
       "        vertical-align: middle;\n",
       "    }\n",
       "\n",
       "    .dataframe tbody tr th {\n",
       "        vertical-align: top;\n",
       "    }\n",
       "\n",
       "    .dataframe thead th {\n",
       "        text-align: right;\n",
       "    }\n",
       "</style>\n",
       "<table border=\"1\" class=\"dataframe\">\n",
       "  <thead>\n",
       "    <tr style=\"text-align: right;\">\n",
       "      <th></th>\n",
       "      <th>customer_id</th>\n",
       "      <th>gender</th>\n",
       "      <th>senior_citizen</th>\n",
       "      <th>partner</th>\n",
       "      <th>dependents</th>\n",
       "    </tr>\n",
       "  </thead>\n",
       "  <tbody>\n",
       "    <tr>\n",
       "      <th>0</th>\n",
       "      <td>7590-VHVEG</td>\n",
       "      <td>Female</td>\n",
       "      <td>0</td>\n",
       "      <td>Yes</td>\n",
       "      <td>No</td>\n",
       "    </tr>\n",
       "    <tr>\n",
       "      <th>1</th>\n",
       "      <td>5575-GNVDE</td>\n",
       "      <td>Male</td>\n",
       "      <td>0</td>\n",
       "      <td>No</td>\n",
       "      <td>No</td>\n",
       "    </tr>\n",
       "    <tr>\n",
       "      <th>2</th>\n",
       "      <td>3668-QPYBK</td>\n",
       "      <td>Male</td>\n",
       "      <td>0</td>\n",
       "      <td>No</td>\n",
       "      <td>No</td>\n",
       "    </tr>\n",
       "    <tr>\n",
       "      <th>3</th>\n",
       "      <td>7795-CFOCW</td>\n",
       "      <td>Male</td>\n",
       "      <td>0</td>\n",
       "      <td>No</td>\n",
       "      <td>No</td>\n",
       "    </tr>\n",
       "    <tr>\n",
       "      <th>4</th>\n",
       "      <td>9237-HQITU</td>\n",
       "      <td>Female</td>\n",
       "      <td>0</td>\n",
       "      <td>No</td>\n",
       "      <td>No</td>\n",
       "    </tr>\n",
       "    <tr>\n",
       "      <th>...</th>\n",
       "      <td>...</td>\n",
       "      <td>...</td>\n",
       "      <td>...</td>\n",
       "      <td>...</td>\n",
       "      <td>...</td>\n",
       "    </tr>\n",
       "    <tr>\n",
       "      <th>7038</th>\n",
       "      <td>6840-RESVB</td>\n",
       "      <td>Male</td>\n",
       "      <td>0</td>\n",
       "      <td>Yes</td>\n",
       "      <td>Yes</td>\n",
       "    </tr>\n",
       "    <tr>\n",
       "      <th>7039</th>\n",
       "      <td>2234-XADUH</td>\n",
       "      <td>Female</td>\n",
       "      <td>0</td>\n",
       "      <td>Yes</td>\n",
       "      <td>Yes</td>\n",
       "    </tr>\n",
       "    <tr>\n",
       "      <th>7040</th>\n",
       "      <td>4801-JZAZL</td>\n",
       "      <td>Female</td>\n",
       "      <td>0</td>\n",
       "      <td>Yes</td>\n",
       "      <td>Yes</td>\n",
       "    </tr>\n",
       "    <tr>\n",
       "      <th>7041</th>\n",
       "      <td>8361-LTMKD</td>\n",
       "      <td>Male</td>\n",
       "      <td>1</td>\n",
       "      <td>Yes</td>\n",
       "      <td>No</td>\n",
       "    </tr>\n",
       "    <tr>\n",
       "      <th>7042</th>\n",
       "      <td>3186-AJIEK</td>\n",
       "      <td>Male</td>\n",
       "      <td>0</td>\n",
       "      <td>No</td>\n",
       "      <td>No</td>\n",
       "    </tr>\n",
       "  </tbody>\n",
       "</table>\n",
       "<p>7043 rows × 5 columns</p>\n",
       "</div>"
      ],
      "text/plain": [
       "     customer_id  gender  senior_citizen partner dependents\n",
       "0     7590-VHVEG  Female               0     Yes         No\n",
       "1     5575-GNVDE    Male               0      No         No\n",
       "2     3668-QPYBK    Male               0      No         No\n",
       "3     7795-CFOCW    Male               0      No         No\n",
       "4     9237-HQITU  Female               0      No         No\n",
       "...          ...     ...             ...     ...        ...\n",
       "7038  6840-RESVB    Male               0     Yes        Yes\n",
       "7039  2234-XADUH  Female               0     Yes        Yes\n",
       "7040  4801-JZAZL  Female               0     Yes        Yes\n",
       "7041  8361-LTMKD    Male               1     Yes         No\n",
       "7042  3186-AJIEK    Male               0      No         No\n",
       "\n",
       "[7043 rows x 5 columns]"
      ]
     },
     "execution_count": 21,
     "metadata": {},
     "output_type": "execute_result"
    }
   ],
   "source": [
    "personal"
   ]
  },
  {
   "cell_type": "code",
   "execution_count": 22,
   "id": "4867cc73-e716-43bb-8588-16645476cd6b",
   "metadata": {},
   "outputs": [
    {
     "name": "stdout",
     "output_type": "stream",
     "text": [
      "<class 'pandas.core.frame.DataFrame'>\n",
      "RangeIndex: 7043 entries, 0 to 7042\n",
      "Data columns (total 5 columns):\n",
      " #   Column          Non-Null Count  Dtype \n",
      "---  ------          --------------  ----- \n",
      " 0   customer_id     7043 non-null   object\n",
      " 1   gender          7043 non-null   object\n",
      " 2   senior_citizen  7043 non-null   int64 \n",
      " 3   partner         7043 non-null   object\n",
      " 4   dependents      7043 non-null   object\n",
      "dtypes: int64(1), object(4)\n",
      "memory usage: 275.2+ KB\n"
     ]
    }
   ],
   "source": [
    "personal.info()"
   ]
  },
  {
   "cell_type": "code",
   "execution_count": 23,
   "id": "fb0d97d9-3ee8-4b72-827f-ecc7fcef8990",
   "metadata": {},
   "outputs": [
    {
     "data": {
      "text/plain": [
       "customer_id       0\n",
       "gender            0\n",
       "senior_citizen    0\n",
       "partner           0\n",
       "dependents        0\n",
       "dtype: int64"
      ]
     },
     "execution_count": 23,
     "metadata": {},
     "output_type": "execute_result"
    }
   ],
   "source": [
    "personal.isna().sum()"
   ]
  },
  {
   "cell_type": "code",
   "execution_count": 24,
   "id": "61a01140-b97c-489a-be2a-036d7f356e0e",
   "metadata": {},
   "outputs": [
    {
     "data": {
      "text/plain": [
       "0"
      ]
     },
     "execution_count": 24,
     "metadata": {},
     "output_type": "execute_result"
    }
   ],
   "source": [
    "personal.duplicated().sum()"
   ]
  },
  {
   "cell_type": "code",
   "execution_count": 25,
   "id": "c0b26a87-de82-4c22-a9b7-aa57e90d39e3",
   "metadata": {},
   "outputs": [
    {
     "data": {
      "image/png": "[encoded data removed]",
      "text/plain": [
       "<Figure size 1296x576 with 4 Axes>"
      ]
     },
     "metadata": {},
     "output_type": "display_data"
    }
   ],
   "source": [
    "plot_hists(personal, 'personal')"
   ]
  },
  {
   "cell_type": "markdown",
   "id": "18e7659c-28b2-4d92-a540-924cb5dbeff0",
   "metadata": {},
   "source": [
    "Пропусков и дублей нет, гистограммы в норме."
   ]
  },
  {
   "cell_type": "markdown",
   "id": "a2fcaa4b-8301-473e-b94c-d211a703dcc7",
   "metadata": {
    "tags": []
   },
   "source": [
    "## Интернет"
   ]
  },
  {
   "cell_type": "markdown",
   "id": "f782acbc-b2c5-4fa9-b538-cf02a01fb6fd",
   "metadata": {},
   "source": [
    "Взглянем на информацию об интернет-услугах."
   ]
  },
  {
   "cell_type": "code",
   "execution_count": 26,
   "id": "6191bce6-dc5c-40fe-99c3-c134d2ec2c7f",
   "metadata": {},
   "outputs": [
    {
     "data": {
      "text/html": [
       "<div>\n",
       "<style scoped>\n",
       "    .dataframe tbody tr th:only-of-type {\n",
       "        vertical-align: middle;\n",
       "    }\n",
       "\n",
       "    .dataframe tbody tr th {\n",
       "        vertical-align: top;\n",
       "    }\n",
       "\n",
       "    .dataframe thead th {\n",
       "        text-align: right;\n",
       "    }\n",
       "</style>\n",
       "<table border=\"1\" class=\"dataframe\">\n",
       "  <thead>\n",
       "    <tr style=\"text-align: right;\">\n",
       "      <th></th>\n",
       "      <th>customer_id</th>\n",
       "      <th>internet_service</th>\n",
       "      <th>online_security</th>\n",
       "      <th>online_backup</th>\n",
       "      <th>device_protection</th>\n",
       "      <th>tech_support</th>\n",
       "      <th>streaming_tv</th>\n",
       "      <th>streaming_movies</th>\n",
       "    </tr>\n",
       "  </thead>\n",
       "  <tbody>\n",
       "    <tr>\n",
       "      <th>0</th>\n",
       "      <td>7590-VHVEG</td>\n",
       "      <td>DSL</td>\n",
       "      <td>No</td>\n",
       "      <td>Yes</td>\n",
       "      <td>No</td>\n",
       "      <td>No</td>\n",
       "      <td>No</td>\n",
       "      <td>No</td>\n",
       "    </tr>\n",
       "    <tr>\n",
       "      <th>1</th>\n",
       "      <td>5575-GNVDE</td>\n",
       "      <td>DSL</td>\n",
       "      <td>Yes</td>\n",
       "      <td>No</td>\n",
       "      <td>Yes</td>\n",
       "      <td>No</td>\n",
       "      <td>No</td>\n",
       "      <td>No</td>\n",
       "    </tr>\n",
       "    <tr>\n",
       "      <th>2</th>\n",
       "      <td>3668-QPYBK</td>\n",
       "      <td>DSL</td>\n",
       "      <td>Yes</td>\n",
       "      <td>Yes</td>\n",
       "      <td>No</td>\n",
       "      <td>No</td>\n",
       "      <td>No</td>\n",
       "      <td>No</td>\n",
       "    </tr>\n",
       "    <tr>\n",
       "      <th>3</th>\n",
       "      <td>7795-CFOCW</td>\n",
       "      <td>DSL</td>\n",
       "      <td>Yes</td>\n",
       "      <td>No</td>\n",
       "      <td>Yes</td>\n",
       "      <td>Yes</td>\n",
       "      <td>No</td>\n",
       "      <td>No</td>\n",
       "    </tr>\n",
       "    <tr>\n",
       "      <th>4</th>\n",
       "      <td>9237-HQITU</td>\n",
       "      <td>Fiber optic</td>\n",
       "      <td>No</td>\n",
       "      <td>No</td>\n",
       "      <td>No</td>\n",
       "      <td>No</td>\n",
       "      <td>No</td>\n",
       "      <td>No</td>\n",
       "    </tr>\n",
       "    <tr>\n",
       "      <th>...</th>\n",
       "      <td>...</td>\n",
       "      <td>...</td>\n",
       "      <td>...</td>\n",
       "      <td>...</td>\n",
       "      <td>...</td>\n",
       "      <td>...</td>\n",
       "      <td>...</td>\n",
       "      <td>...</td>\n",
       "    </tr>\n",
       "    <tr>\n",
       "      <th>5512</th>\n",
       "      <td>6840-RESVB</td>\n",
       "      <td>DSL</td>\n",
       "      <td>Yes</td>\n",
       "      <td>No</td>\n",
       "      <td>Yes</td>\n",
       "      <td>Yes</td>\n",
       "      <td>Yes</td>\n",
       "      <td>Yes</td>\n",
       "    </tr>\n",
       "    <tr>\n",
       "      <th>5513</th>\n",
       "      <td>2234-XADUH</td>\n",
       "      <td>Fiber optic</td>\n",
       "      <td>No</td>\n",
       "      <td>Yes</td>\n",
       "      <td>Yes</td>\n",
       "      <td>No</td>\n",
       "      <td>Yes</td>\n",
       "      <td>Yes</td>\n",
       "    </tr>\n",
       "    <tr>\n",
       "      <th>5514</th>\n",
       "      <td>4801-JZAZL</td>\n",
       "      <td>DSL</td>\n",
       "      <td>Yes</td>\n",
       "      <td>No</td>\n",
       "      <td>No</td>\n",
       "      <td>No</td>\n",
       "      <td>No</td>\n",
       "      <td>No</td>\n",
       "    </tr>\n",
       "    <tr>\n",
       "      <th>5515</th>\n",
       "      <td>8361-LTMKD</td>\n",
       "      <td>Fiber optic</td>\n",
       "      <td>No</td>\n",
       "      <td>No</td>\n",
       "      <td>No</td>\n",
       "      <td>No</td>\n",
       "      <td>No</td>\n",
       "      <td>No</td>\n",
       "    </tr>\n",
       "    <tr>\n",
       "      <th>5516</th>\n",
       "      <td>3186-AJIEK</td>\n",
       "      <td>Fiber optic</td>\n",
       "      <td>Yes</td>\n",
       "      <td>No</td>\n",
       "      <td>Yes</td>\n",
       "      <td>Yes</td>\n",
       "      <td>Yes</td>\n",
       "      <td>Yes</td>\n",
       "    </tr>\n",
       "  </tbody>\n",
       "</table>\n",
       "<p>5517 rows × 8 columns</p>\n",
       "</div>"
      ],
      "text/plain": [
       "     customer_id internet_service online_security online_backup  \\\n",
       "0     7590-VHVEG              DSL              No           Yes   \n",
       "1     5575-GNVDE              DSL             Yes            No   \n",
       "2     3668-QPYBK              DSL             Yes           Yes   \n",
       "3     7795-CFOCW              DSL             Yes            No   \n",
       "4     9237-HQITU      Fiber optic              No            No   \n",
       "...          ...              ...             ...           ...   \n",
       "5512  6840-RESVB              DSL             Yes            No   \n",
       "5513  2234-XADUH      Fiber optic              No           Yes   \n",
       "5514  4801-JZAZL              DSL             Yes            No   \n",
       "5515  8361-LTMKD      Fiber optic              No            No   \n",
       "5516  3186-AJIEK      Fiber optic             Yes            No   \n",
       "\n",
       "     device_protection tech_support streaming_tv streaming_movies  \n",
       "0                   No           No           No               No  \n",
       "1                  Yes           No           No               No  \n",
       "2                   No           No           No               No  \n",
       "3                  Yes          Yes           No               No  \n",
       "4                   No           No           No               No  \n",
       "...                ...          ...          ...              ...  \n",
       "5512               Yes          Yes          Yes              Yes  \n",
       "5513               Yes           No          Yes              Yes  \n",
       "5514                No           No           No               No  \n",
       "5515                No           No           No               No  \n",
       "5516               Yes          Yes          Yes              Yes  \n",
       "\n",
       "[5517 rows x 8 columns]"
      ]
     },
     "execution_count": 26,
     "metadata": {},
     "output_type": "execute_result"
    }
   ],
   "source": [
    "internet"
   ]
  },
  {
   "cell_type": "code",
   "execution_count": 27,
   "id": "fb111a20-cb81-4f3e-8de9-8b9f127539da",
   "metadata": {},
   "outputs": [
    {
     "name": "stdout",
     "output_type": "stream",
     "text": [
      "<class 'pandas.core.frame.DataFrame'>\n",
      "RangeIndex: 5517 entries, 0 to 5516\n",
      "Data columns (total 8 columns):\n",
      " #   Column             Non-Null Count  Dtype \n",
      "---  ------             --------------  ----- \n",
      " 0   customer_id        5517 non-null   object\n",
      " 1   internet_service   5517 non-null   object\n",
      " 2   online_security    5517 non-null   object\n",
      " 3   online_backup      5517 non-null   object\n",
      " 4   device_protection  5517 non-null   object\n",
      " 5   tech_support       5517 non-null   object\n",
      " 6   streaming_tv       5517 non-null   object\n",
      " 7   streaming_movies   5517 non-null   object\n",
      "dtypes: object(8)\n",
      "memory usage: 344.9+ KB\n"
     ]
    }
   ],
   "source": [
    "internet.info()"
   ]
  },
  {
   "cell_type": "code",
   "execution_count": 28,
   "id": "09da1393-9a89-480e-aab1-3b77a3767811",
   "metadata": {},
   "outputs": [
    {
     "data": {
      "text/plain": [
       "customer_id          0\n",
       "internet_service     0\n",
       "online_security      0\n",
       "online_backup        0\n",
       "device_protection    0\n",
       "tech_support         0\n",
       "streaming_tv         0\n",
       "streaming_movies     0\n",
       "dtype: int64"
      ]
     },
     "execution_count": 28,
     "metadata": {},
     "output_type": "execute_result"
    }
   ],
   "source": [
    "internet.isna().sum()"
   ]
  },
  {
   "cell_type": "code",
   "execution_count": 29,
   "id": "95ea396b-944a-4f61-85fa-4cc555c96473",
   "metadata": {},
   "outputs": [
    {
     "data": {
      "text/plain": [
       "0"
      ]
     },
     "execution_count": 29,
     "metadata": {},
     "output_type": "execute_result"
    }
   ],
   "source": [
    "internet.duplicated().sum()"
   ]
  },
  {
   "cell_type": "code",
   "execution_count": 30,
   "id": "db9f923e-4d53-4355-8a02-2dfad4a09174",
   "metadata": {},
   "outputs": [
    {
     "data": {
      "image/png": "[encoded data removed]",
      "text/plain": [
       "<Figure size 1296x864 with 7 Axes>"
      ]
     },
     "metadata": {},
     "output_type": "display_data"
    }
   ],
   "source": [
    "plot_hists(internet, 'internet')"
   ]
  },
  {
   "cell_type": "markdown",
   "id": "91517772-ae12-4c08-84da-bf8cc14b293e",
   "metadata": {},
   "source": [
    "Пропусков и дублей нет, гистограммы не вызывают вопросов."
   ]
  },
  {
   "cell_type": "markdown",
   "id": "10dfa196-d811-4fee-8c66-46d6250dfc6b",
   "metadata": {},
   "source": [
    "## Телефония"
   ]
  },
  {
   "cell_type": "markdown",
   "id": "676b64b5-016b-4e99-86de-6a764441e2e7",
   "metadata": {},
   "source": [
    "Наконец, взглянем на услуги телефонии."
   ]
  },
  {
   "cell_type": "code",
   "execution_count": 31,
   "id": "e52b9a9e-1c89-4a11-b041-47408c38259a",
   "metadata": {},
   "outputs": [
    {
     "data": {
      "text/html": [
       "<div>\n",
       "<style scoped>\n",
       "    .dataframe tbody tr th:only-of-type {\n",
       "        vertical-align: middle;\n",
       "    }\n",
       "\n",
       "    .dataframe tbody tr th {\n",
       "        vertical-align: top;\n",
       "    }\n",
       "\n",
       "    .dataframe thead th {\n",
       "        text-align: right;\n",
       "    }\n",
       "</style>\n",
       "<table border=\"1\" class=\"dataframe\">\n",
       "  <thead>\n",
       "    <tr style=\"text-align: right;\">\n",
       "      <th></th>\n",
       "      <th>customer_id</th>\n",
       "      <th>multiple_lines</th>\n",
       "    </tr>\n",
       "  </thead>\n",
       "  <tbody>\n",
       "    <tr>\n",
       "      <th>0</th>\n",
       "      <td>5575-GNVDE</td>\n",
       "      <td>No</td>\n",
       "    </tr>\n",
       "    <tr>\n",
       "      <th>1</th>\n",
       "      <td>3668-QPYBK</td>\n",
       "      <td>No</td>\n",
       "    </tr>\n",
       "    <tr>\n",
       "      <th>2</th>\n",
       "      <td>9237-HQITU</td>\n",
       "      <td>No</td>\n",
       "    </tr>\n",
       "    <tr>\n",
       "      <th>3</th>\n",
       "      <td>9305-CDSKC</td>\n",
       "      <td>Yes</td>\n",
       "    </tr>\n",
       "    <tr>\n",
       "      <th>4</th>\n",
       "      <td>1452-KIOVK</td>\n",
       "      <td>Yes</td>\n",
       "    </tr>\n",
       "    <tr>\n",
       "      <th>...</th>\n",
       "      <td>...</td>\n",
       "      <td>...</td>\n",
       "    </tr>\n",
       "    <tr>\n",
       "      <th>6356</th>\n",
       "      <td>2569-WGERO</td>\n",
       "      <td>No</td>\n",
       "    </tr>\n",
       "    <tr>\n",
       "      <th>6357</th>\n",
       "      <td>6840-RESVB</td>\n",
       "      <td>Yes</td>\n",
       "    </tr>\n",
       "    <tr>\n",
       "      <th>6358</th>\n",
       "      <td>2234-XADUH</td>\n",
       "      <td>Yes</td>\n",
       "    </tr>\n",
       "    <tr>\n",
       "      <th>6359</th>\n",
       "      <td>8361-LTMKD</td>\n",
       "      <td>Yes</td>\n",
       "    </tr>\n",
       "    <tr>\n",
       "      <th>6360</th>\n",
       "      <td>3186-AJIEK</td>\n",
       "      <td>No</td>\n",
       "    </tr>\n",
       "  </tbody>\n",
       "</table>\n",
       "<p>6361 rows × 2 columns</p>\n",
       "</div>"
      ],
      "text/plain": [
       "     customer_id multiple_lines\n",
       "0     5575-GNVDE             No\n",
       "1     3668-QPYBK             No\n",
       "2     9237-HQITU             No\n",
       "3     9305-CDSKC            Yes\n",
       "4     1452-KIOVK            Yes\n",
       "...          ...            ...\n",
       "6356  2569-WGERO             No\n",
       "6357  6840-RESVB            Yes\n",
       "6358  2234-XADUH            Yes\n",
       "6359  8361-LTMKD            Yes\n",
       "6360  3186-AJIEK             No\n",
       "\n",
       "[6361 rows x 2 columns]"
      ]
     },
     "execution_count": 31,
     "metadata": {},
     "output_type": "execute_result"
    }
   ],
   "source": [
    "phone"
   ]
  },
  {
   "cell_type": "code",
   "execution_count": 32,
   "id": "20687fb7-aa37-4fb8-98e6-c449de936b48",
   "metadata": {},
   "outputs": [
    {
     "name": "stdout",
     "output_type": "stream",
     "text": [
      "<class 'pandas.core.frame.DataFrame'>\n",
      "RangeIndex: 6361 entries, 0 to 6360\n",
      "Data columns (total 2 columns):\n",
      " #   Column          Non-Null Count  Dtype \n",
      "---  ------          --------------  ----- \n",
      " 0   customer_id     6361 non-null   object\n",
      " 1   multiple_lines  6361 non-null   object\n",
      "dtypes: object(2)\n",
      "memory usage: 99.5+ KB\n"
     ]
    }
   ],
   "source": [
    "phone.info()"
   ]
  },
  {
   "cell_type": "code",
   "execution_count": 33,
   "id": "9f741c13-0579-4476-b19c-8b32cef65de7",
   "metadata": {},
   "outputs": [
    {
     "data": {
      "text/plain": [
       "customer_id       0\n",
       "multiple_lines    0\n",
       "dtype: int64"
      ]
     },
     "execution_count": 33,
     "metadata": {},
     "output_type": "execute_result"
    }
   ],
   "source": [
    "phone.isna().sum()"
   ]
  },
  {
   "cell_type": "code",
   "execution_count": 34,
   "id": "7721dd50-5781-427d-b710-05e13636bfd6",
   "metadata": {},
   "outputs": [
    {
     "data": {
      "text/plain": [
       "0"
      ]
     },
     "execution_count": 34,
     "metadata": {},
     "output_type": "execute_result"
    }
   ],
   "source": [
    "phone.duplicated().sum()"
   ]
  },
  {
   "cell_type": "code",
   "execution_count": 35,
   "id": "f48dffaa-a74a-4c2f-8133-1aa0934f89a7",
   "metadata": {},
   "outputs": [
    {
     "data": {
      "image/png": "[encoded data removed]",
      "text/plain": [
       "<Figure size 432x576 with 1 Axes>"
      ]
     },
     "metadata": {},
     "output_type": "display_data"
    }
   ],
   "source": [
    "plot_hists(phone, 'phone', ncols=1)"
   ]
  },
  {
   "cell_type": "markdown",
   "id": "03feb5de-9958-432f-98c3-530ae4d6b008",
   "metadata": {},
   "source": [
    "Ни пропусков, ни дублей, гистограмма ок."
   ]
  },
  {
   "cell_type": "markdown",
   "id": "3a529545-6bd1-4bf6-b7b4-a9e00d5ea2bd",
   "metadata": {},
   "source": [
    "## Объединение данных"
   ]
  },
  {
   "cell_type": "markdown",
   "id": "956c9991-a2ee-4226-8fcb-2f35420a2480",
   "metadata": {},
   "source": [
    "Объединим все данные в один датафрейм."
   ]
  },
  {
   "cell_type": "code",
   "execution_count": 36,
   "id": "c857849f-5a9f-4276-ba79-c932b3c3f8b5",
   "metadata": {},
   "outputs": [],
   "source": [
    "df = (\n",
    "    contract\n",
    "    .merge(personal, how='left', on='customer_id')\n",
    "    .merge(internet, how='left', on='customer_id')\n",
    "    .merge(phone, how='left', on='customer_id')\n",
    ")"
   ]
  },
  {
   "cell_type": "code",
   "execution_count": 37,
   "id": "b89cbbe6-0603-4a21-b061-7163a3f4fe72",
   "metadata": {},
   "outputs": [
    {
     "data": {
      "text/html": [
       "<div>\n",
       "<style scoped>\n",
       "    .dataframe tbody tr th:only-of-type {\n",
       "        vertical-align: middle;\n",
       "    }\n",
       "\n",
       "    .dataframe tbody tr th {\n",
       "        vertical-align: top;\n",
       "    }\n",
       "\n",
       "    .dataframe thead th {\n",
       "        text-align: right;\n",
       "    }\n",
       "</style>\n",
       "<table border=\"1\" class=\"dataframe\">\n",
       "  <thead>\n",
       "    <tr style=\"text-align: right;\">\n",
       "      <th></th>\n",
       "      <th>customer_id</th>\n",
       "      <th>begin_date</th>\n",
       "      <th>end_date</th>\n",
       "      <th>type</th>\n",
       "      <th>paperless_billing</th>\n",
       "      <th>payment_method</th>\n",
       "      <th>monthly_charges</th>\n",
       "      <th>total_charges</th>\n",
       "      <th>gender</th>\n",
       "      <th>senior_citizen</th>\n",
       "      <th>partner</th>\n",
       "      <th>dependents</th>\n",
       "      <th>internet_service</th>\n",
       "      <th>online_security</th>\n",
       "      <th>online_backup</th>\n",
       "      <th>device_protection</th>\n",
       "      <th>tech_support</th>\n",
       "      <th>streaming_tv</th>\n",
       "      <th>streaming_movies</th>\n",
       "      <th>multiple_lines</th>\n",
       "    </tr>\n",
       "  </thead>\n",
       "  <tbody>\n",
       "    <tr>\n",
       "      <th>0</th>\n",
       "      <td>7590-VHVEG</td>\n",
       "      <td>2020-01-01</td>\n",
       "      <td>NaT</td>\n",
       "      <td>Month-to-month</td>\n",
       "      <td>Yes</td>\n",
       "      <td>Electronic check</td>\n",
       "      <td>29.85</td>\n",
       "      <td>29.85</td>\n",
       "      <td>Female</td>\n",
       "      <td>0</td>\n",
       "      <td>Yes</td>\n",
       "      <td>No</td>\n",
       "      <td>DSL</td>\n",
       "      <td>No</td>\n",
       "      <td>Yes</td>\n",
       "      <td>No</td>\n",
       "      <td>No</td>\n",
       "      <td>No</td>\n",
       "      <td>No</td>\n",
       "      <td>NaN</td>\n",
       "    </tr>\n",
       "    <tr>\n",
       "      <th>1</th>\n",
       "      <td>5575-GNVDE</td>\n",
       "      <td>2017-04-01</td>\n",
       "      <td>NaT</td>\n",
       "      <td>One year</td>\n",
       "      <td>No</td>\n",
       "      <td>Mailed check</td>\n",
       "      <td>56.95</td>\n",
       "      <td>1889.50</td>\n",
       "      <td>Male</td>\n",
       "      <td>0</td>\n",
       "      <td>No</td>\n",
       "      <td>No</td>\n",
       "      <td>DSL</td>\n",
       "      <td>Yes</td>\n",
       "      <td>No</td>\n",
       "      <td>Yes</td>\n",
       "      <td>No</td>\n",
       "      <td>No</td>\n",
       "      <td>No</td>\n",
       "      <td>No</td>\n",
       "    </tr>\n",
       "    <tr>\n",
       "      <th>2</th>\n",
       "      <td>3668-QPYBK</td>\n",
       "      <td>2019-10-01</td>\n",
       "      <td>2019-12-01</td>\n",
       "      <td>Month-to-month</td>\n",
       "      <td>Yes</td>\n",
       "      <td>Mailed check</td>\n",
       "      <td>53.85</td>\n",
       "      <td>108.15</td>\n",
       "      <td>Male</td>\n",
       "      <td>0</td>\n",
       "      <td>No</td>\n",
       "      <td>No</td>\n",
       "      <td>DSL</td>\n",
       "      <td>Yes</td>\n",
       "      <td>Yes</td>\n",
       "      <td>No</td>\n",
       "      <td>No</td>\n",
       "      <td>No</td>\n",
       "      <td>No</td>\n",
       "      <td>No</td>\n",
       "    </tr>\n",
       "    <tr>\n",
       "      <th>3</th>\n",
       "      <td>7795-CFOCW</td>\n",
       "      <td>2016-05-01</td>\n",
       "      <td>NaT</td>\n",
       "      <td>One year</td>\n",
       "      <td>No</td>\n",
       "      <td>Bank transfer (automatic)</td>\n",
       "      <td>42.30</td>\n",
       "      <td>1840.75</td>\n",
       "      <td>Male</td>\n",
       "      <td>0</td>\n",
       "      <td>No</td>\n",
       "      <td>No</td>\n",
       "      <td>DSL</td>\n",
       "      <td>Yes</td>\n",
       "      <td>No</td>\n",
       "      <td>Yes</td>\n",
       "      <td>Yes</td>\n",
       "      <td>No</td>\n",
       "      <td>No</td>\n",
       "      <td>NaN</td>\n",
       "    </tr>\n",
       "    <tr>\n",
       "      <th>4</th>\n",
       "      <td>9237-HQITU</td>\n",
       "      <td>2019-09-01</td>\n",
       "      <td>2019-11-01</td>\n",
       "      <td>Month-to-month</td>\n",
       "      <td>Yes</td>\n",
       "      <td>Electronic check</td>\n",
       "      <td>70.70</td>\n",
       "      <td>151.65</td>\n",
       "      <td>Female</td>\n",
       "      <td>0</td>\n",
       "      <td>No</td>\n",
       "      <td>No</td>\n",
       "      <td>Fiber optic</td>\n",
       "      <td>No</td>\n",
       "      <td>No</td>\n",
       "      <td>No</td>\n",
       "      <td>No</td>\n",
       "      <td>No</td>\n",
       "      <td>No</td>\n",
       "      <td>No</td>\n",
       "    </tr>\n",
       "    <tr>\n",
       "      <th>...</th>\n",
       "      <td>...</td>\n",
       "      <td>...</td>\n",
       "      <td>...</td>\n",
       "      <td>...</td>\n",
       "      <td>...</td>\n",
       "      <td>...</td>\n",
       "      <td>...</td>\n",
       "      <td>...</td>\n",
       "      <td>...</td>\n",
       "      <td>...</td>\n",
       "      <td>...</td>\n",
       "      <td>...</td>\n",
       "      <td>...</td>\n",
       "      <td>...</td>\n",
       "      <td>...</td>\n",
       "      <td>...</td>\n",
       "      <td>...</td>\n",
       "      <td>...</td>\n",
       "      <td>...</td>\n",
       "      <td>...</td>\n",
       "    </tr>\n",
       "    <tr>\n",
       "      <th>7038</th>\n",
       "      <td>6840-RESVB</td>\n",
       "      <td>2018-02-01</td>\n",
       "      <td>NaT</td>\n",
       "      <td>One year</td>\n",
       "      <td>Yes</td>\n",
       "      <td>Mailed check</td>\n",
       "      <td>84.80</td>\n",
       "      <td>1990.50</td>\n",
       "      <td>Male</td>\n",
       "      <td>0</td>\n",
       "      <td>Yes</td>\n",
       "      <td>Yes</td>\n",
       "      <td>DSL</td>\n",
       "      <td>Yes</td>\n",
       "      <td>No</td>\n",
       "      <td>Yes</td>\n",
       "      <td>Yes</td>\n",
       "      <td>Yes</td>\n",
       "      <td>Yes</td>\n",
       "      <td>Yes</td>\n",
       "    </tr>\n",
       "    <tr>\n",
       "      <th>7039</th>\n",
       "      <td>2234-XADUH</td>\n",
       "      <td>2014-02-01</td>\n",
       "      <td>NaT</td>\n",
       "      <td>One year</td>\n",
       "      <td>Yes</td>\n",
       "      <td>Credit card (automatic)</td>\n",
       "      <td>103.20</td>\n",
       "      <td>7362.90</td>\n",
       "      <td>Female</td>\n",
       "      <td>0</td>\n",
       "      <td>Yes</td>\n",
       "      <td>Yes</td>\n",
       "      <td>Fiber optic</td>\n",
       "      <td>No</td>\n",
       "      <td>Yes</td>\n",
       "      <td>Yes</td>\n",
       "      <td>No</td>\n",
       "      <td>Yes</td>\n",
       "      <td>Yes</td>\n",
       "      <td>Yes</td>\n",
       "    </tr>\n",
       "    <tr>\n",
       "      <th>7040</th>\n",
       "      <td>4801-JZAZL</td>\n",
       "      <td>2019-03-01</td>\n",
       "      <td>NaT</td>\n",
       "      <td>Month-to-month</td>\n",
       "      <td>Yes</td>\n",
       "      <td>Electronic check</td>\n",
       "      <td>29.60</td>\n",
       "      <td>346.45</td>\n",
       "      <td>Female</td>\n",
       "      <td>0</td>\n",
       "      <td>Yes</td>\n",
       "      <td>Yes</td>\n",
       "      <td>DSL</td>\n",
       "      <td>Yes</td>\n",
       "      <td>No</td>\n",
       "      <td>No</td>\n",
       "      <td>No</td>\n",
       "      <td>No</td>\n",
       "      <td>No</td>\n",
       "      <td>NaN</td>\n",
       "    </tr>\n",
       "    <tr>\n",
       "      <th>7041</th>\n",
       "      <td>8361-LTMKD</td>\n",
       "      <td>2019-07-01</td>\n",
       "      <td>2019-11-01</td>\n",
       "      <td>Month-to-month</td>\n",
       "      <td>Yes</td>\n",
       "      <td>Mailed check</td>\n",
       "      <td>74.40</td>\n",
       "      <td>306.60</td>\n",
       "      <td>Male</td>\n",
       "      <td>1</td>\n",
       "      <td>Yes</td>\n",
       "      <td>No</td>\n",
       "      <td>Fiber optic</td>\n",
       "      <td>No</td>\n",
       "      <td>No</td>\n",
       "      <td>No</td>\n",
       "      <td>No</td>\n",
       "      <td>No</td>\n",
       "      <td>No</td>\n",
       "      <td>Yes</td>\n",
       "    </tr>\n",
       "    <tr>\n",
       "      <th>7042</th>\n",
       "      <td>3186-AJIEK</td>\n",
       "      <td>2014-08-01</td>\n",
       "      <td>NaT</td>\n",
       "      <td>Two year</td>\n",
       "      <td>Yes</td>\n",
       "      <td>Bank transfer (automatic)</td>\n",
       "      <td>105.65</td>\n",
       "      <td>6844.50</td>\n",
       "      <td>Male</td>\n",
       "      <td>0</td>\n",
       "      <td>No</td>\n",
       "      <td>No</td>\n",
       "      <td>Fiber optic</td>\n",
       "      <td>Yes</td>\n",
       "      <td>No</td>\n",
       "      <td>Yes</td>\n",
       "      <td>Yes</td>\n",
       "      <td>Yes</td>\n",
       "      <td>Yes</td>\n",
       "      <td>No</td>\n",
       "    </tr>\n",
       "  </tbody>\n",
       "</table>\n",
       "<p>7043 rows × 20 columns</p>\n",
       "</div>"
      ],
      "text/plain": [
       "     customer_id begin_date   end_date            type paperless_billing  \\\n",
       "0     7590-VHVEG 2020-01-01        NaT  Month-to-month               Yes   \n",
       "1     5575-GNVDE 2017-04-01        NaT        One year                No   \n",
       "2     3668-QPYBK 2019-10-01 2019-12-01  Month-to-month               Yes   \n",
       "3     7795-CFOCW 2016-05-01        NaT        One year                No   \n",
       "4     9237-HQITU 2019-09-01 2019-11-01  Month-to-month               Yes   \n",
       "...          ...        ...        ...             ...               ...   \n",
       "7038  6840-RESVB 2018-02-01        NaT        One year               Yes   \n",
       "7039  2234-XADUH 2014-02-01        NaT        One year               Yes   \n",
       "7040  4801-JZAZL 2019-03-01        NaT  Month-to-month               Yes   \n",
       "7041  8361-LTMKD 2019-07-01 2019-11-01  Month-to-month               Yes   \n",
       "7042  3186-AJIEK 2014-08-01        NaT        Two year               Yes   \n",
       "\n",
       "                 payment_method  monthly_charges  total_charges  gender  \\\n",
       "0              Electronic check            29.85          29.85  Female   \n",
       "1                  Mailed check            56.95        1889.50    Male   \n",
       "2                  Mailed check            53.85         108.15    Male   \n",
       "3     Bank transfer (automatic)            42.30        1840.75    Male   \n",
       "4              Electronic check            70.70         151.65  Female   \n",
       "...                         ...              ...            ...     ...   \n",
       "7038               Mailed check            84.80        1990.50    Male   \n",
       "7039    Credit card (automatic)           103.20        7362.90  Female   \n",
       "7040           Electronic check            29.60         346.45  Female   \n",
       "7041               Mailed check            74.40         306.60    Male   \n",
       "7042  Bank transfer (automatic)           105.65        6844.50    Male   \n",
       "\n",
       "      senior_citizen partner dependents internet_service online_security  \\\n",
       "0                  0     Yes         No              DSL              No   \n",
       "1                  0      No         No              DSL             Yes   \n",
       "2                  0      No         No              DSL             Yes   \n",
       "3                  0      No         No              DSL             Yes   \n",
       "4                  0      No         No      Fiber optic              No   \n",
       "...              ...     ...        ...              ...             ...   \n",
       "7038               0     Yes        Yes              DSL             Yes   \n",
       "7039               0     Yes        Yes      Fiber optic              No   \n",
       "7040               0     Yes        Yes              DSL             Yes   \n",
       "7041               1     Yes         No      Fiber optic              No   \n",
       "7042               0      No         No      Fiber optic             Yes   \n",
       "\n",
       "     online_backup device_protection tech_support streaming_tv  \\\n",
       "0              Yes                No           No           No   \n",
       "1               No               Yes           No           No   \n",
       "2              Yes                No           No           No   \n",
       "3               No               Yes          Yes           No   \n",
       "4               No                No           No           No   \n",
       "...            ...               ...          ...          ...   \n",
       "7038            No               Yes          Yes          Yes   \n",
       "7039           Yes               Yes           No          Yes   \n",
       "7040            No                No           No           No   \n",
       "7041            No                No           No           No   \n",
       "7042            No               Yes          Yes          Yes   \n",
       "\n",
       "     streaming_movies multiple_lines  \n",
       "0                  No            NaN  \n",
       "1                  No             No  \n",
       "2                  No             No  \n",
       "3                  No            NaN  \n",
       "4                  No             No  \n",
       "...               ...            ...  \n",
       "7038              Yes            Yes  \n",
       "7039              Yes            Yes  \n",
       "7040               No            NaN  \n",
       "7041               No            Yes  \n",
       "7042              Yes             No  \n",
       "\n",
       "[7043 rows x 20 columns]"
      ]
     },
     "execution_count": 37,
     "metadata": {},
     "output_type": "execute_result"
    }
   ],
   "source": [
    "df"
   ]
  },
  {
   "cell_type": "code",
   "execution_count": 38,
   "id": "8287e0c3-b703-42ba-8d77-4ae0b2f0047a",
   "metadata": {},
   "outputs": [
    {
     "name": "stdout",
     "output_type": "stream",
     "text": [
      "<class 'pandas.core.frame.DataFrame'>\n",
      "Int64Index: 7043 entries, 0 to 7042\n",
      "Data columns (total 20 columns):\n",
      " #   Column             Non-Null Count  Dtype         \n",
      "---  ------             --------------  -----         \n",
      " 0   customer_id        7043 non-null   object        \n",
      " 1   begin_date         7043 non-null   datetime64[ns]\n",
      " 2   end_date           1869 non-null   datetime64[ns]\n",
      " 3   type               7043 non-null   object        \n",
      " 4   paperless_billing  7043 non-null   object        \n",
      " 5   payment_method     7043 non-null   object        \n",
      " 6   monthly_charges    7043 non-null   float64       \n",
      " 7   total_charges      7043 non-null   float64       \n",
      " 8   gender             7043 non-null   object        \n",
      " 9   senior_citizen     7043 non-null   int64         \n",
      " 10  partner            7043 non-null   object        \n",
      " 11  dependents         7043 non-null   object        \n",
      " 12  internet_service   5517 non-null   object        \n",
      " 13  online_security    5517 non-null   object        \n",
      " 14  online_backup      5517 non-null   object        \n",
      " 15  device_protection  5517 non-null   object        \n",
      " 16  tech_support       5517 non-null   object        \n",
      " 17  streaming_tv       5517 non-null   object        \n",
      " 18  streaming_movies   5517 non-null   object        \n",
      " 19  multiple_lines     6361 non-null   object        \n",
      "dtypes: datetime64[ns](2), float64(2), int64(1), object(15)\n",
      "memory usage: 1.1+ MB\n"
     ]
    }
   ],
   "source": [
    "df.info()"
   ]
  },
  {
   "cell_type": "code",
   "execution_count": 39,
   "id": "195ad42a-b7e7-4d22-921d-76dba6d45207",
   "metadata": {},
   "outputs": [
    {
     "data": {
      "text/plain": [
       "customer_id             0\n",
       "begin_date              0\n",
       "end_date             5174\n",
       "type                    0\n",
       "paperless_billing       0\n",
       "payment_method          0\n",
       "monthly_charges         0\n",
       "total_charges           0\n",
       "gender                  0\n",
       "senior_citizen          0\n",
       "partner                 0\n",
       "dependents              0\n",
       "internet_service     1526\n",
       "online_security      1526\n",
       "online_backup        1526\n",
       "device_protection    1526\n",
       "tech_support         1526\n",
       "streaming_tv         1526\n",
       "streaming_movies     1526\n",
       "multiple_lines        682\n",
       "dtype: int64"
      ]
     },
     "execution_count": 39,
     "metadata": {},
     "output_type": "execute_result"
    }
   ],
   "source": [
    "df.isna().sum()"
   ]
  },
  {
   "cell_type": "markdown",
   "id": "b42a2883-54dd-4391-bc9e-5f6830f2c6a6",
   "metadata": {},
   "source": [
    "1526 клиентов не пользуются услугами интернета, а 682 клиента – услугами телефонии. Проверим, нет ли клиентов, не пользующихся ни интернетом, ни телефонией."
   ]
  },
  {
   "cell_type": "code",
   "execution_count": 40,
   "id": "20f25c4f-a4b9-4a99-8d4e-c0c48e53e2b0",
   "metadata": {},
   "outputs": [
    {
     "data": {
      "text/plain": [
       "(0, 20)"
      ]
     },
     "execution_count": 40,
     "metadata": {},
     "output_type": "execute_result"
    }
   ],
   "source": [
    "df[df['internet_service'].isna() & df['multiple_lines'].isna()].shape"
   ]
  },
  {
   "cell_type": "markdown",
   "id": "eb0d0619-a92b-4e89-8caf-c2481308518c",
   "metadata": {},
   "source": [
    "Таких нет – это хорошо."
   ]
  },
  {
   "cell_type": "markdown",
   "id": "98c2ca4d-98a9-4f8b-a5aa-bc5cff9ca1bd",
   "metadata": {},
   "source": [
    "Пропуски в полях `internet_service` и `multiple_lines` заполним прочерком, чтобы пометить клиентов, у которых не подключена услуга интернета, и отделить клиентов без телефонии от клиентов с одной телефонной линией."
   ]
  },
  {
   "cell_type": "code",
   "execution_count": 41,
   "id": "1f45448b-0e1c-4d3a-8788-e06f839fb4f1",
   "metadata": {},
   "outputs": [],
   "source": [
    "columns = ['internet_service', 'multiple_lines']\n",
    "df[columns] = df[columns].fillna('-')"
   ]
  },
  {
   "cell_type": "markdown",
   "id": "39084f64-877f-4972-8f4c-2d20c4384574",
   "metadata": {},
   "source": [
    "Пропуски в столбцах `online_security`, `online_backup`, `device_protection`, `tech_support`, `streaming_tv` и `streaming_movies` заменим на `No` как отсутствие услуги."
   ]
  },
  {
   "cell_type": "code",
   "execution_count": 42,
   "id": "1283006c-e5bf-48c9-8a7b-55f250036acb",
   "metadata": {},
   "outputs": [],
   "source": [
    "columns = [\n",
    "    'online_security', \n",
    "    'online_backup', \n",
    "    'device_protection', \n",
    "    'tech_support', \n",
    "    'streaming_tv', \n",
    "    'streaming_movies',\n",
    "]\n",
    "df[columns] = df[columns].fillna('No')"
   ]
  },
  {
   "cell_type": "markdown",
   "id": "0238cb75-a52c-44f7-bcdc-567bcb0075c3",
   "metadata": {},
   "source": [
    "Наконец, взглянем на гистограммы столбцов в итоговом датафрейме."
   ]
  },
  {
   "cell_type": "code",
   "execution_count": 43,
   "id": "f741df75-6923-4add-bab1-ca0b299ba8d7",
   "metadata": {},
   "outputs": [
    {
     "data": {
      "image/png": "[encoded data removed]",
      "text/plain": [
       "<Figure size 1296x2016 with 19 Axes>"
      ]
     },
     "metadata": {},
     "output_type": "display_data"
    }
   ],
   "source": [
    "plot_hists(df, 'df')"
   ]
  },
  {
   "cell_type": "markdown",
   "id": "82bc4c91-0c5c-42e8-a4e9-33e673273712",
   "metadata": {},
   "source": [
    "## Выводы"
   ]
  },
  {
   "cell_type": "markdown",
   "id": "d9b15efa-04aa-43e9-99aa-fa527a167df9",
   "metadata": {},
   "source": [
    "Данные чистые, непротиворечивые, с большим количеством категориальных фичей. Потребуется предобработка."
   ]
  },
  {
   "cell_type": "markdown",
   "id": "069f658d-4014-4e0b-bb87-1802cf010a86",
   "metadata": {},
   "source": [
    "# Предобработка данных"
   ]
  },
  {
   "cell_type": "markdown",
   "id": "e35bfc3a-22f6-408f-b5fc-628417ac33d7",
   "metadata": {},
   "source": [
    "Заменим поле `begin_date` столбцом `duration`, в который запишем число месяцев, прошедшее с момента подписания контракта до даты выгрузки данных – 1 февраля 2020. Информацию мы при этом не потеряем, зато сможем использовать модели, которые работают только с числами в качестве фичей. "
   ]
  },
  {
   "cell_type": "code",
   "execution_count": 56,
   "id": "a8dd9cf6-428c-4d1d-886e-33356299b3f0",
   "metadata": {},
   "outputs": [],
   "source": [
    "today = pd.to_datetime('2020-02-01')\n",
    "df['duration'] = (\n",
    "    today \n",
    "    # df['end_date'].fillna(today) \n",
    "    - df['begin_date']\n",
    ").astype('timedelta64[M]').astype('uint16')"
   ]
  },
  {
   "cell_type": "code",
   "execution_count": 57,
   "id": "b378e3da-01f2-409c-a5dd-da5bf76cfd01",
   "metadata": {},
   "outputs": [],
   "source": [
    "df = df.drop(columns='begin_date')"
   ]
  },
  {
   "cell_type": "markdown",
   "id": "ed9e82cb-3514-4a08-ba10-1addcad74ad9",
   "metadata": {},
   "source": [
    "Создадим таргет – поле `quit`, принимающее значение 1, если клиент ушел, и 0, если нет. После этого удалим поле `end_date`, которое больше не нужно."
   ]
  },
  {
   "cell_type": "code",
   "execution_count": 58,
   "id": "be93c8c1-3c03-4fb7-993a-5e1df1b89b5c",
   "metadata": {},
   "outputs": [],
   "source": [
    "df['quit'] = df['end_date'].notna().astype('uint8')"
   ]
  },
  {
   "cell_type": "code",
   "execution_count": 59,
   "id": "91e7c86d-cb08-4eec-bf33-af6a71382f44",
   "metadata": {},
   "outputs": [],
   "source": [
    "df = df.drop(columns='end_date')"
   ]
  },
  {
   "cell_type": "markdown",
   "id": "97dc1326-758e-45d3-98e0-0a6913b7c9a7",
   "metadata": {},
   "source": [
    "Удалим также поле `customer_id` как неинформативное."
   ]
  },
  {
   "cell_type": "code",
   "execution_count": 60,
   "id": "d0e5d61c-1aa1-4d8e-9e1a-13ca6a9899fc",
   "metadata": {},
   "outputs": [],
   "source": [
    "df = df.drop(columns='customer_id')"
   ]
  },
  {
   "cell_type": "markdown",
   "id": "29e59382-f9d9-4880-9688-f15b8aa15625",
   "metadata": {},
   "source": [
    "Посмотрим на результат."
   ]
  },
  {
   "cell_type": "code",
   "execution_count": 61,
   "id": "8f635519-02bb-4e6e-80bf-93e7c195ddc3",
   "metadata": {},
   "outputs": [
    {
     "name": "stdout",
     "output_type": "stream",
     "text": [
      "<class 'pandas.core.frame.DataFrame'>\n",
      "Int64Index: 7043 entries, 0 to 7042\n",
      "Data columns (total 19 columns):\n",
      " #   Column             Non-Null Count  Dtype  \n",
      "---  ------             --------------  -----  \n",
      " 0   type               7043 non-null   object \n",
      " 1   paperless_billing  7043 non-null   object \n",
      " 2   payment_method     7043 non-null   object \n",
      " 3   monthly_charges    7043 non-null   float64\n",
      " 4   total_charges      7043 non-null   float64\n",
      " 5   gender             7043 non-null   object \n",
      " 6   senior_citizen     7043 non-null   int64  \n",
      " 7   partner            7043 non-null   object \n",
      " 8   dependents         7043 non-null   object \n",
      " 9   internet_service   7043 non-null   object \n",
      " 10  online_security    7043 non-null   object \n",
      " 11  online_backup      7043 non-null   object \n",
      " 12  device_protection  7043 non-null   object \n",
      " 13  tech_support       7043 non-null   object \n",
      " 14  streaming_tv       7043 non-null   object \n",
      " 15  streaming_movies   7043 non-null   object \n",
      " 16  multiple_lines     7043 non-null   object \n",
      " 17  duration           7043 non-null   uint16 \n",
      " 18  quit               7043 non-null   uint8  \n",
      "dtypes: float64(2), int64(1), object(14), uint16(1), uint8(1)\n",
      "memory usage: 1011.1+ KB\n"
     ]
    }
   ],
   "source": [
    "df.info()"
   ]
  },
  {
   "cell_type": "code",
   "execution_count": 62,
   "id": "e519c300-b4c9-4b4a-a75f-652f9030b93d",
   "metadata": {},
   "outputs": [
    {
     "data": {
      "text/html": [
       "<div>\n",
       "<style scoped>\n",
       "    .dataframe tbody tr th:only-of-type {\n",
       "        vertical-align: middle;\n",
       "    }\n",
       "\n",
       "    .dataframe tbody tr th {\n",
       "        vertical-align: top;\n",
       "    }\n",
       "\n",
       "    .dataframe thead th {\n",
       "        text-align: right;\n",
       "    }\n",
       "</style>\n",
       "<table border=\"1\" class=\"dataframe\">\n",
       "  <thead>\n",
       "    <tr style=\"text-align: right;\">\n",
       "      <th></th>\n",
       "      <th>type</th>\n",
       "      <th>paperless_billing</th>\n",
       "      <th>payment_method</th>\n",
       "      <th>monthly_charges</th>\n",
       "      <th>total_charges</th>\n",
       "      <th>gender</th>\n",
       "      <th>senior_citizen</th>\n",
       "      <th>partner</th>\n",
       "      <th>dependents</th>\n",
       "      <th>internet_service</th>\n",
       "      <th>online_security</th>\n",
       "      <th>online_backup</th>\n",
       "      <th>device_protection</th>\n",
       "      <th>tech_support</th>\n",
       "      <th>streaming_tv</th>\n",
       "      <th>streaming_movies</th>\n",
       "      <th>multiple_lines</th>\n",
       "      <th>duration</th>\n",
       "      <th>quit</th>\n",
       "    </tr>\n",
       "  </thead>\n",
       "  <tbody>\n",
       "    <tr>\n",
       "      <th>0</th>\n",
       "      <td>Month-to-month</td>\n",
       "      <td>Yes</td>\n",
       "      <td>Electronic check</td>\n",
       "      <td>29.85</td>\n",
       "      <td>29.85</td>\n",
       "      <td>Female</td>\n",
       "      <td>0</td>\n",
       "      <td>Yes</td>\n",
       "      <td>No</td>\n",
       "      <td>DSL</td>\n",
       "      <td>No</td>\n",
       "      <td>Yes</td>\n",
       "      <td>No</td>\n",
       "      <td>No</td>\n",
       "      <td>No</td>\n",
       "      <td>No</td>\n",
       "      <td>-</td>\n",
       "      <td>1</td>\n",
       "      <td>0</td>\n",
       "    </tr>\n",
       "    <tr>\n",
       "      <th>1</th>\n",
       "      <td>One year</td>\n",
       "      <td>No</td>\n",
       "      <td>Mailed check</td>\n",
       "      <td>56.95</td>\n",
       "      <td>1889.50</td>\n",
       "      <td>Male</td>\n",
       "      <td>0</td>\n",
       "      <td>No</td>\n",
       "      <td>No</td>\n",
       "      <td>DSL</td>\n",
       "      <td>Yes</td>\n",
       "      <td>No</td>\n",
       "      <td>Yes</td>\n",
       "      <td>No</td>\n",
       "      <td>No</td>\n",
       "      <td>No</td>\n",
       "      <td>No</td>\n",
       "      <td>34</td>\n",
       "      <td>0</td>\n",
       "    </tr>\n",
       "    <tr>\n",
       "      <th>2</th>\n",
       "      <td>Month-to-month</td>\n",
       "      <td>Yes</td>\n",
       "      <td>Mailed check</td>\n",
       "      <td>53.85</td>\n",
       "      <td>108.15</td>\n",
       "      <td>Male</td>\n",
       "      <td>0</td>\n",
       "      <td>No</td>\n",
       "      <td>No</td>\n",
       "      <td>DSL</td>\n",
       "      <td>Yes</td>\n",
       "      <td>Yes</td>\n",
       "      <td>No</td>\n",
       "      <td>No</td>\n",
       "      <td>No</td>\n",
       "      <td>No</td>\n",
       "      <td>No</td>\n",
       "      <td>4</td>\n",
       "      <td>1</td>\n",
       "    </tr>\n",
       "    <tr>\n",
       "      <th>3</th>\n",
       "      <td>One year</td>\n",
       "      <td>No</td>\n",
       "      <td>Bank transfer (automatic)</td>\n",
       "      <td>42.30</td>\n",
       "      <td>1840.75</td>\n",
       "      <td>Male</td>\n",
       "      <td>0</td>\n",
       "      <td>No</td>\n",
       "      <td>No</td>\n",
       "      <td>DSL</td>\n",
       "      <td>Yes</td>\n",
       "      <td>No</td>\n",
       "      <td>Yes</td>\n",
       "      <td>Yes</td>\n",
       "      <td>No</td>\n",
       "      <td>No</td>\n",
       "      <td>-</td>\n",
       "      <td>45</td>\n",
       "      <td>0</td>\n",
       "    </tr>\n",
       "    <tr>\n",
       "      <th>4</th>\n",
       "      <td>Month-to-month</td>\n",
       "      <td>Yes</td>\n",
       "      <td>Electronic check</td>\n",
       "      <td>70.70</td>\n",
       "      <td>151.65</td>\n",
       "      <td>Female</td>\n",
       "      <td>0</td>\n",
       "      <td>No</td>\n",
       "      <td>No</td>\n",
       "      <td>Fiber optic</td>\n",
       "      <td>No</td>\n",
       "      <td>No</td>\n",
       "      <td>No</td>\n",
       "      <td>No</td>\n",
       "      <td>No</td>\n",
       "      <td>No</td>\n",
       "      <td>No</td>\n",
       "      <td>5</td>\n",
       "      <td>1</td>\n",
       "    </tr>\n",
       "  </tbody>\n",
       "</table>\n",
       "</div>"
      ],
      "text/plain": [
       "             type paperless_billing             payment_method  \\\n",
       "0  Month-to-month               Yes           Electronic check   \n",
       "1        One year                No               Mailed check   \n",
       "2  Month-to-month               Yes               Mailed check   \n",
       "3        One year                No  Bank transfer (automatic)   \n",
       "4  Month-to-month               Yes           Electronic check   \n",
       "\n",
       "   monthly_charges  total_charges  gender  senior_citizen partner dependents  \\\n",
       "0            29.85          29.85  Female               0     Yes         No   \n",
       "1            56.95        1889.50    Male               0      No         No   \n",
       "2            53.85         108.15    Male               0      No         No   \n",
       "3            42.30        1840.75    Male               0      No         No   \n",
       "4            70.70         151.65  Female               0      No         No   \n",
       "\n",
       "  internet_service online_security online_backup device_protection  \\\n",
       "0              DSL              No           Yes                No   \n",
       "1              DSL             Yes            No               Yes   \n",
       "2              DSL             Yes           Yes                No   \n",
       "3              DSL             Yes            No               Yes   \n",
       "4      Fiber optic              No            No                No   \n",
       "\n",
       "  tech_support streaming_tv streaming_movies multiple_lines  duration  quit  \n",
       "0           No           No               No              -         1     0  \n",
       "1           No           No               No             No        34     0  \n",
       "2           No           No               No             No         4     1  \n",
       "3          Yes           No               No              -        45     0  \n",
       "4           No           No               No             No         5     1  "
      ]
     },
     "execution_count": 62,
     "metadata": {},
     "output_type": "execute_result"
    }
   ],
   "source": [
    "df.head()"
   ]
  },
  {
   "cell_type": "markdown",
   "id": "095f6194-64ca-407f-a31c-f59bac37a813",
   "metadata": {},
   "source": [
    "Отделим таргет от фичей."
   ]
  },
  {
   "cell_type": "code",
   "execution_count": 63,
   "id": "127aa2c1-7b2f-4f3e-b547-0d7511e181fa",
   "metadata": {},
   "outputs": [],
   "source": [
    "x = df.drop(columns='quit')\n",
    "y = df['quit']"
   ]
  },
  {
   "cell_type": "markdown",
   "id": "54fd14b6-3093-4fc2-bc7d-d62cf7ce3d34",
   "metadata": {},
   "source": [
    "Приведем все категориальные фичи к категориальному типу данных, чтобы создаваемый ниже трансформер-предобработчик фич смог их автоматически идентифицировать."
   ]
  },
  {
   "cell_type": "code",
   "execution_count": 64,
   "id": "50f4cab4-0682-448a-97e9-fd5d444d5dee",
   "metadata": {},
   "outputs": [],
   "source": [
    "cat_x = x.select_dtypes('object').columns.to_list() + ['senior_citizen']\n",
    "# num_x = [col for col in x.columns if col not in cat_x]\n",
    "\n",
    "x[cat_x] = x[cat_x].astype('category')"
   ]
  },
  {
   "cell_type": "markdown",
   "id": "127c64cf-5f65-4aa7-9cac-9e5ba3f0c18a",
   "metadata": {},
   "source": [
    "Разделим датасет на обучающую и тестовую выборки."
   ]
  },
  {
   "cell_type": "code",
   "execution_count": 65,
   "id": "4d7cf181-ab96-492c-8297-8173a2201b58",
   "metadata": {},
   "outputs": [
    {
     "name": "stdout",
     "output_type": "stream",
     "text": [
      "(5282, 18) (1761, 18)\n",
      "(5282,) (1761,)\n",
      "0.2654, 0.2654, 0.2652\n"
     ]
    }
   ],
   "source": [
    "x_train, x_test, y_train, y_test = train_test_split(\n",
    "    x, y, test_size=.25, stratify=y, random_state=RS)\n",
    "print(x_train.shape, x_test.shape)\n",
    "print(y_train.shape, y_test.shape)\n",
    "print(f'{y.mean():.4f}, {y_train.mean():.4f}, {y_test.mean():.4f}')"
   ]
  },
  {
   "cell_type": "markdown",
   "id": "65e19a13-a2bb-472e-a14d-7714a406c5d2",
   "metadata": {},
   "source": [
    "# Обучение моделей"
   ]
  },
  {
   "cell_type": "markdown",
   "id": "98344c85-d8c4-4db8-8e1c-c3ccc0ad8d3d",
   "metadata": {},
   "source": [
    "Создадим трансформер-предобработчик фич, чтобы далее использовать его в пайплайнах с моделями: числовые фичи он будет скейлить, а категориальные – ванхотэнкодить."
   ]
  },
  {
   "cell_type": "code",
   "execution_count": 66,
   "id": "641739e1-8e7b-47c3-9f6c-8d3e7d4b19be",
   "metadata": {},
   "outputs": [],
   "source": [
    "num_tformer = StandardScaler()\n",
    "cat_tformer = OneHotEncoder(drop='first', handle_unknown='ignore')\n",
    "\n",
    "preproc = ColumnTransformer([\n",
    "        ('num', num_tformer, make_column_selector(dtype_include='number')),\n",
    "        ('cat', cat_tformer, make_column_selector(dtype_include='category')),\n",
    "], remainder='passthrough')"
   ]
  },
  {
   "cell_type": "markdown",
   "id": "c112fac2-5454-430e-8cfb-7ae84837358d",
   "metadata": {},
   "source": [
    "## Dummy"
   ]
  },
  {
   "cell_type": "markdown",
   "id": "48fb44ed-35da-4a1f-9b17-7f179c81def3",
   "metadata": {},
   "source": [
    "Сначала проверим качество dummy-модели, которая возвращает случайные предсказания, стратифицированные по таргету."
   ]
  },
  {
   "cell_type": "code",
   "execution_count": 67,
   "id": "c4fd126d-9652-408f-b8b5-42168fee8291",
   "metadata": {},
   "outputs": [
    {
     "name": "stdout",
     "output_type": "stream",
     "text": [
      "Dummy mean CV scores:\n",
      "    roc_auc: 0.498\n",
      "    accuracy: 0.602\n"
     ]
    }
   ],
   "source": [
    "print('Dummy mean CV scores:')\n",
    "for scoring in ['roc_auc', 'accuracy']:\n",
    "    score = cross_val_score(\n",
    "        DummyClassifier(strategy='stratified', random_state=RS),\n",
    "        x_train, y_train,\n",
    "        scoring=scoring,\n",
    "        cv=5,\n",
    "    ).mean()\n",
    "    print(f\"    {scoring}: {score:.3f}\")"
   ]
  },
  {
   "cell_type": "markdown",
   "id": "50da3108-2a2e-45f4-8f5d-3ed6f139d671",
   "metadata": {},
   "source": [
    "ROC AUC, ожидаемо, около 0,5, Accuracy немного выше из-за дисбаланса классов."
   ]
  },
  {
   "cell_type": "markdown",
   "id": "4b8dfb70-e3f0-4a84-8a42-9442fb8e610b",
   "metadata": {},
   "source": [
    "## Logit"
   ]
  },
  {
   "cell_type": "markdown",
   "id": "62931b04-b1ad-4564-a149-5dfe55867d65",
   "metadata": {},
   "source": [
    "Теперь обучим модель логистической регрессии. Для этого поставим ее в пайплайн после трансформера-предобработчика фич и подберем гиперпараметры с помощью `GridSearchCV`."
   ]
  },
  {
   "cell_type": "code",
   "execution_count": 68,
   "id": "deac5036-ef82-43ba-8bdd-92bb402ebd6e",
   "metadata": {},
   "outputs": [],
   "source": [
    "logit_pipe = Pipeline([\n",
    "    ('preproc', preproc), \n",
    "    ('logit', LogisticRegression(max_iter=10000, random_state=RS)),\n",
    "])"
   ]
  },
  {
   "cell_type": "code",
   "execution_count": 69,
   "id": "885241b9-9c86-4bac-a7d4-a11c97fb402b",
   "metadata": {
    "tags": []
   },
   "outputs": [
    {
     "name": "stdout",
     "output_type": "stream",
     "text": [
      "Number of Candidates: 79\n"
     ]
    }
   ],
   "source": [
    "c_grid = np.logspace(-3, 0, 7)\n",
    "l1_ratio_grid = [.1, .5, .7, .9, .95, .99, 1]\n",
    "logit_grid = [\n",
    "    dict(\n",
    "        logit__penalty=['l1'], \n",
    "        logit__solver=['liblinear'], #'saga'],\n",
    "        logit__C=c_grid,\n",
    "    ),\n",
    "    dict(\n",
    "        logit__penalty=['l2'], \n",
    "        logit__solver=['newton-cg', 'lbfgs', 'liblinear'], #'sag', 'saga'],\n",
    "        logit__C=c_grid,\n",
    "    ),\n",
    "    dict(\n",
    "        logit__penalty=['none'],\n",
    "        logit__solver=['newton-cg', 'lbfgs'], #'sag', 'saga'],\n",
    "    ),\n",
    "    dict(\n",
    "        logit__penalty=['elasticnet'], \n",
    "        logit__solver=['saga'],\n",
    "        logit__C=c_grid,\n",
    "        logit__l1_ratio=l1_ratio_grid,\n",
    "    ),\n",
    "]\n",
    "print('Number of Candidates:',\n",
    "      sum([np.prod([len(lst) for lst in dct.values()]) for dct in logit_grid]))"
   ]
  },
  {
   "cell_type": "code",
   "execution_count": 70,
   "id": "aefae1b9-ac82-4640-baee-09c98aaf6133",
   "metadata": {},
   "outputs": [
    {
     "name": "stdout",
     "output_type": "stream",
     "text": [
      "Fitting 5 folds for each of 79 candidates, totalling 395 fits\n",
      "\n",
      "Logit estimator:\n",
      "{'logit__penalty': 'none', 'logit__solver': 'lbfgs'}\n",
      "\n",
      "CPU times: total: 2.67 s\n",
      "Wall time: 21 s\n"
     ]
    }
   ],
   "source": [
    "%%time\n",
    "logit = GridSearchCV(\n",
    "    estimator=logit_pipe, \n",
    "    param_grid=logit_grid,   \n",
    "    scoring='roc_auc', \n",
    "    cv=5,\n",
    "    verbose=10,\n",
    "    n_jobs=-1,\n",
    ").fit(x_train, y_train);\n",
    "\n",
    "print()\n",
    "print('Logit estimator:')\n",
    "print(logit.cv_results_['params'][logit.cv_results_['rank_test_score'].argmin()])\n",
    "print()"
   ]
  },
  {
   "cell_type": "markdown",
   "id": "4d7e3a3d-5f00-46a3-9f0a-747a107ddd8d",
   "metadata": {},
   "source": [
    "Проверим качество модели на кросс-валидации обучающей выборки."
   ]
  },
  {
   "cell_type": "code",
   "execution_count": 71,
   "id": "c14988e5-e0b4-49f4-94c3-867e460d913b",
   "metadata": {},
   "outputs": [
    {
     "name": "stdout",
     "output_type": "stream",
     "text": [
      "Logit mean CV scores:\n",
      "    ROC AUC: 0.840\n",
      "    Accuracy: 0.800\n"
     ]
    }
   ],
   "source": [
    "print('Logit mean CV scores:')\n",
    "print(f'    ROC AUC: {logit.best_score_:.3f}')\n",
    "accuracy = cross_val_score(\n",
    "    logit.best_estimator_,\n",
    "    x_train, y_train,\n",
    "    scoring='accuracy',\n",
    "    cv=5,\n",
    "    n_jobs=-1,\n",
    ").mean()\n",
    "print(f'    Accuracy: {accuracy:.3f}')     "
   ]
  },
  {
   "cell_type": "markdown",
   "id": "972898b1-c22a-44e9-9a06-53c90ea27e81",
   "metadata": {},
   "source": [
    "Обе метрики у логита выше, чем у dummy-модели – это хорошо."
   ]
  },
  {
   "cell_type": "markdown",
   "id": "9f8f314f-dc2d-4c68-89f1-03c34494c39c",
   "metadata": {},
   "source": [
    "## Forest"
   ]
  },
  {
   "cell_type": "markdown",
   "id": "f508f5e6-72e7-4bda-afaf-5102d4ac5aab",
   "metadata": {},
   "source": [
    "Следующей моделью будет случайный лес. Эта модель нечувствительна к масштабу числовых фич, поэтому скейлер из трансформера-предобработчика можно убрать. Подбирать гиперпараметры будем с помощью `Optuna`."
   ]
  },
  {
   "cell_type": "code",
   "execution_count": 72,
   "id": "bca71cad-4161-441a-b273-719406516985",
   "metadata": {},
   "outputs": [],
   "source": [
    "preproc.set_params(num='passthrough')  # Remove StandardScaler from the pipe\n",
    "rf_pipe = Pipeline([\n",
    "    ('preproc', preproc), \n",
    "    ('rf', RandomForestClassifier(random_state=RS, n_jobs=-1))\n",
    "])"
   ]
  },
  {
   "cell_type": "code",
   "execution_count": 73,
   "id": "6084eb70-cc71-4e8c-8ce0-e8b2a6757e51",
   "metadata": {},
   "outputs": [],
   "source": [
    "rf_space = dict(\n",
    "    rf__n_estimators=IntDistribution(2, 1000),\n",
    "    rf__max_depth=IntDistribution(2, 30),\n",
    ")"
   ]
  },
  {
   "cell_type": "code",
   "execution_count": 74,
   "id": "f4570572-0fed-4831-a772-23ef67302645",
   "metadata": {
    "tags": []
   },
   "outputs": [
    {
     "name": "stderr",
     "output_type": "stream",
     "text": [
      "<timed exec>:1: ExperimentalWarning: OptunaSearchCV is experimental (supported from v0.17.0). The interface can change in the future.\n",
      "\u001b[32m[I 2022-09-18 23:19:40,115]\u001b[0m A new study created in memory with name: no-name-47fd77c3-a685-43fd-b5b9-5afe9045e90e\u001b[0m\n",
      "\u001b[32m[I 2022-09-18 23:19:47,934]\u001b[0m Trial 0 finished with value: 0.8739773662335757 and parameters: {'rf__n_estimators': 796, 'rf__max_depth': 11}. Best is trial 0 with value: 0.8739773662335757.\u001b[0m\n",
      "\u001b[32m[I 2022-09-18 23:19:56,073]\u001b[0m Trial 1 finished with value: 0.8761299079790774 and parameters: {'rf__n_estimators': 783, 'rf__max_depth': 29}. Best is trial 1 with value: 0.8761299079790774.\u001b[0m\n",
      "\u001b[32m[I 2022-09-18 23:20:03,401]\u001b[0m Trial 2 finished with value: 0.8759251719086578 and parameters: {'rf__n_estimators': 680, 'rf__max_depth': 26}. Best is trial 1 with value: 0.8761299079790774.\u001b[0m\n",
      "\u001b[32m[I 2022-09-18 23:20:11,452]\u001b[0m Trial 3 finished with value: 0.8701902263638699 and parameters: {'rf__n_estimators': 982, 'rf__max_depth': 9}. Best is trial 1 with value: 0.8761299079790774.\u001b[0m\n",
      "\u001b[32m[I 2022-09-18 23:20:14,371]\u001b[0m Trial 4 finished with value: 0.8730067374566952 and parameters: {'rf__n_estimators': 290, 'rf__max_depth': 11}. Best is trial 1 with value: 0.8761299079790774.\u001b[0m\n",
      "\u001b[32m[I 2022-09-18 23:20:25,307]\u001b[0m Trial 5 finished with value: 0.8758898795329115 and parameters: {'rf__n_estimators': 938, 'rf__max_depth': 26}. Best is trial 1 with value: 0.8761299079790774.\u001b[0m\n",
      "\u001b[32m[I 2022-09-18 23:20:30,248]\u001b[0m Trial 6 finished with value: 0.8752197813536758 and parameters: {'rf__n_estimators': 455, 'rf__max_depth': 28}. Best is trial 1 with value: 0.8761299079790774.\u001b[0m\n",
      "\u001b[32m[I 2022-09-18 23:20:35,522]\u001b[0m Trial 7 finished with value: 0.8751590302491105 and parameters: {'rf__n_estimators': 506, 'rf__max_depth': 26}. Best is trial 1 with value: 0.8761299079790774.\u001b[0m\n",
      "\u001b[32m[I 2022-09-18 23:20:42,415]\u001b[0m Trial 8 finished with value: 0.8637956501344346 and parameters: {'rf__n_estimators': 854, 'rf__max_depth': 7}. Best is trial 1 with value: 0.8761299079790774.\u001b[0m\n",
      "\u001b[32m[I 2022-09-18 23:20:47,750]\u001b[0m Trial 9 finished with value: 0.8756193789013569 and parameters: {'rf__n_estimators': 530, 'rf__max_depth': 28}. Best is trial 1 with value: 0.8761299079790774.\u001b[0m\n",
      "\u001b[32m[I 2022-09-18 23:20:48,868]\u001b[0m Trial 10 finished with value: 0.8704882936362349 and parameters: {'rf__n_estimators': 72, 'rf__max_depth': 17}. Best is trial 1 with value: 0.8761299079790774.\u001b[0m\n",
      "\u001b[32m[I 2022-09-18 23:20:55,811]\u001b[0m Trial 11 finished with value: 0.8757353648341972 and parameters: {'rf__n_estimators': 693, 'rf__max_depth': 20}. Best is trial 1 with value: 0.8761299079790774.\u001b[0m\n",
      "\u001b[32m[I 2022-09-18 23:21:02,670]\u001b[0m Trial 12 finished with value: 0.8755022808688725 and parameters: {'rf__n_estimators': 682, 'rf__max_depth': 21}. Best is trial 1 with value: 0.8761299079790774.\u001b[0m\n",
      "\u001b[32m[I 2022-09-18 23:21:09,621]\u001b[0m Trial 13 finished with value: 0.8760850800449689 and parameters: {'rf__n_estimators': 696, 'rf__max_depth': 30}. Best is trial 1 with value: 0.8761299079790774.\u001b[0m\n",
      "\u001b[32m[I 2022-09-18 23:21:14,805]\u001b[0m Trial 14 finished with value: 0.8379553384713756 and parameters: {'rf__n_estimators': 790, 'rf__max_depth': 2}. Best is trial 1 with value: 0.8761299079790774.\u001b[0m\n",
      "\u001b[32m[I 2022-09-18 23:21:18,855]\u001b[0m Trial 15 finished with value: 0.8742065832368094 and parameters: {'rf__n_estimators': 362, 'rf__max_depth': 22}. Best is trial 1 with value: 0.8761299079790774.\u001b[0m\n",
      "\u001b[32m[I 2022-09-18 23:21:25,277]\u001b[0m Trial 16 finished with value: 0.8759068935109724 and parameters: {'rf__n_estimators': 612, 'rf__max_depth': 30}. Best is trial 1 with value: 0.8761299079790774.\u001b[0m\n",
      "\u001b[32m[I 2022-09-18 23:21:33,844]\u001b[0m Trial 17 finished with value: 0.8759764709851728 and parameters: {'rf__n_estimators': 857, 'rf__max_depth': 30}. Best is trial 1 with value: 0.8761299079790774.\u001b[0m\n",
      "\u001b[32m[I 2022-09-18 23:21:36,399]\u001b[0m Trial 18 finished with value: 0.8744746369215772 and parameters: {'rf__n_estimators': 224, 'rf__max_depth': 23}. Best is trial 1 with value: 0.8761299079790774.\u001b[0m\n",
      "\u001b[32m[I 2022-09-18 23:21:42,818]\u001b[0m Trial 19 finished with value: 0.875375509698688 and parameters: {'rf__n_estimators': 634, 'rf__max_depth': 18}. Best is trial 1 with value: 0.8761299079790774.\u001b[0m\n",
      "\u001b[32m[I 2022-09-18 23:21:49,824]\u001b[0m Trial 20 finished with value: 0.8762242235284251 and parameters: {'rf__n_estimators': 764, 'rf__max_depth': 14}. Best is trial 20 with value: 0.8762242235284251.\u001b[0m\n",
      "\u001b[32m[I 2022-09-18 23:21:56,781]\u001b[0m Trial 21 finished with value: 0.8762637644851388 and parameters: {'rf__n_estimators': 756, 'rf__max_depth': 14}. Best is trial 21 with value: 0.8762637644851388.\u001b[0m\n",
      "\u001b[32m[I 2022-09-18 23:22:04,598]\u001b[0m Trial 22 finished with value: 0.8762652336359207 and parameters: {'rf__n_estimators': 791, 'rf__max_depth': 14}. Best is trial 22 with value: 0.8762652336359207.\u001b[0m\n",
      "\u001b[32m[I 2022-09-18 23:22:15,489]\u001b[0m Trial 23 finished with value: 0.8762039535060456 and parameters: {'rf__n_estimators': 887, 'rf__max_depth': 14}. Best is trial 22 with value: 0.8762652336359207.\u001b[0m\n",
      "\u001b[32m[I 2022-09-18 23:22:22,751]\u001b[0m Trial 24 finished with value: 0.8760719526831903 and parameters: {'rf__n_estimators': 594, 'rf__max_depth': 14}. Best is trial 22 with value: 0.8762652336359207.\u001b[0m\n",
      "\u001b[32m[I 2022-09-18 23:22:31,250]\u001b[0m Trial 25 finished with value: 0.8762619268182746 and parameters: {'rf__n_estimators': 759, 'rf__max_depth': 14}. Best is trial 22 with value: 0.8762652336359207.\u001b[0m\n",
      "\u001b[32m[I 2022-09-18 23:22:42,456]\u001b[0m Trial 26 finished with value: 0.8595444518839196 and parameters: {'rf__n_estimators': 931, 'rf__max_depth': 6}. Best is trial 22 with value: 0.8762652336359207.\u001b[0m\n",
      "\u001b[32m[I 2022-09-18 23:22:49,392]\u001b[0m Trial 27 finished with value: 0.8749750883128318 and parameters: {'rf__n_estimators': 740, 'rf__max_depth': 12}. Best is trial 22 with value: 0.8762652336359207.\u001b[0m\n",
      "\u001b[32m[I 2022-09-18 23:22:56,044]\u001b[0m Trial 28 finished with value: 0.8758590928804658 and parameters: {'rf__n_estimators': 572, 'rf__max_depth': 16}. Best is trial 22 with value: 0.8762652336359207.\u001b[0m\n",
      "\u001b[32m[I 2022-09-18 23:23:02,859]\u001b[0m Trial 29 finished with value: 0.8748953971194819 and parameters: {'rf__n_estimators': 447, 'rf__max_depth': 19}. Best is trial 22 with value: 0.8762652336359207.\u001b[0m\n",
      "\u001b[32m[I 2022-09-18 23:23:10,095]\u001b[0m Trial 30 finished with value: 0.867631394818631 and parameters: {'rf__n_estimators': 866, 'rf__max_depth': 8}. Best is trial 22 with value: 0.8762652336359207.\u001b[0m\n",
      "\u001b[32m[I 2022-09-18 23:23:17,463]\u001b[0m Trial 31 finished with value: 0.8762491155614024 and parameters: {'rf__n_estimators': 786, 'rf__max_depth': 14}. Best is trial 22 with value: 0.8762652336359207.\u001b[0m\n",
      "\u001b[32m[I 2022-09-18 23:23:25,328]\u001b[0m Trial 32 finished with value: 0.8762164568472581 and parameters: {'rf__n_estimators': 814, 'rf__max_depth': 16}. Best is trial 22 with value: 0.8762652336359207.\u001b[0m\n",
      "\u001b[32m[I 2022-09-18 23:23:32,194]\u001b[0m Trial 33 finished with value: 0.8751617212354363 and parameters: {'rf__n_estimators': 781, 'rf__max_depth': 12}. Best is trial 22 with value: 0.8762652336359207.\u001b[0m\n",
      "\u001b[32m[I 2022-09-18 23:23:38,680]\u001b[0m Trial 34 finished with value: 0.8728252080723692 and parameters: {'rf__n_estimators': 747, 'rf__max_depth': 10}. Best is trial 22 with value: 0.8762652336359207.\u001b[0m\n",
      "\u001b[32m[I 2022-09-18 23:23:47,630]\u001b[0m Trial 35 finished with value: 0.8758392503367419 and parameters: {'rf__n_estimators': 1000, 'rf__max_depth': 13}. Best is trial 22 with value: 0.8762652336359207.\u001b[0m\n",
      "\u001b[32m[I 2022-09-18 23:23:56,601]\u001b[0m Trial 36 finished with value: 0.8758848562492465 and parameters: {'rf__n_estimators': 950, 'rf__max_depth': 15}. Best is trial 22 with value: 0.8762652336359207.\u001b[0m\n",
      "\u001b[32m[I 2022-09-18 23:24:03,803]\u001b[0m Trial 37 finished with value: 0.8739387850565254 and parameters: {'rf__n_estimators': 824, 'rf__max_depth': 11}. Best is trial 22 with value: 0.8762652336359207.\u001b[0m\n",
      "\u001b[32m[I 2022-09-18 23:24:09,795]\u001b[0m Trial 38 finished with value: 0.8706882439111316 and parameters: {'rf__n_estimators': 652, 'rf__max_depth': 9}. Best is trial 22 with value: 0.8762652336359207.\u001b[0m\n",
      "\u001b[32m[I 2022-09-18 23:24:16,760]\u001b[0m Trial 39 finished with value: 0.8758896092877846 and parameters: {'rf__n_estimators': 721, 'rf__max_depth': 17}. Best is trial 22 with value: 0.8762652336359207.\u001b[0m\n",
      "\u001b[32m[I 2022-09-18 23:24:23,345]\u001b[0m Trial 40 finished with value: 0.8544365208937152 and parameters: {'rf__n_estimators': 928, 'rf__max_depth': 5}. Best is trial 22 with value: 0.8762652336359207.\u001b[0m\n",
      "\u001b[32m[I 2022-09-18 23:24:30,399]\u001b[0m Trial 41 finished with value: 0.8762234144308932 and parameters: {'rf__n_estimators': 769, 'rf__max_depth': 14}. Best is trial 22 with value: 0.8762652336359207.\u001b[0m\n",
      "\u001b[32m[I 2022-09-18 23:24:37,647]\u001b[0m Trial 42 finished with value: 0.8749762249802148 and parameters: {'rf__n_estimators': 817, 'rf__max_depth': 12}. Best is trial 22 with value: 0.8762652336359207.\u001b[0m\n",
      "\u001b[32m[I 2022-09-18 23:24:46,802]\u001b[0m Trial 43 finished with value: 0.8758088141840366 and parameters: {'rf__n_estimators': 902, 'rf__max_depth': 15}. Best is trial 22 with value: 0.8762652336359207.\u001b[0m\n",
      "\u001b[32m[I 2022-09-18 23:24:54,761]\u001b[0m Trial 44 finished with value: 0.8755755156604594 and parameters: {'rf__n_estimators': 725, 'rf__max_depth': 18}. Best is trial 22 with value: 0.8762652336359207.\u001b[0m\n",
      "\u001b[32m[I 2022-09-18 23:25:01,001]\u001b[0m Trial 45 finished with value: 0.8727729672325326 and parameters: {'rf__n_estimators': 644, 'rf__max_depth': 10}. Best is trial 22 with value: 0.8762652336359207.\u001b[0m\n",
      "\u001b[32m[I 2022-09-18 23:25:06,068]\u001b[0m Trial 46 finished with value: 0.8757247368303818 and parameters: {'rf__n_estimators': 528, 'rf__max_depth': 13}. Best is trial 22 with value: 0.8762652336359207.\u001b[0m\n",
      "\u001b[32m[I 2022-09-18 23:25:17,258]\u001b[0m Trial 47 finished with value: 0.8758556468456333 and parameters: {'rf__n_estimators': 839, 'rf__max_depth': 15}. Best is trial 22 with value: 0.8762652336359207.\u001b[0m\n",
      "\u001b[32m[I 2022-09-18 23:25:24,790]\u001b[0m Trial 48 finished with value: 0.8758338028501198 and parameters: {'rf__n_estimators': 773, 'rf__max_depth': 17}. Best is trial 22 with value: 0.8762652336359207.\u001b[0m\n",
      "\u001b[32m[I 2022-09-18 23:25:25,270]\u001b[0m Trial 49 finished with value: 0.8414910340856083 and parameters: {'rf__n_estimators': 10, 'rf__max_depth': 20}. Best is trial 22 with value: 0.8762652336359207.\u001b[0m\n",
      "\u001b[32m[I 2022-09-18 23:25:32,754]\u001b[0m Trial 50 finished with value: 0.8741701967777609 and parameters: {'rf__n_estimators': 693, 'rf__max_depth': 11}. Best is trial 22 with value: 0.8762652336359207.\u001b[0m\n",
      "\u001b[32m[I 2022-09-18 23:25:40,379]\u001b[0m Trial 51 finished with value: 0.8761837817546214 and parameters: {'rf__n_estimators': 766, 'rf__max_depth': 14}. Best is trial 22 with value: 0.8762652336359207.\u001b[0m\n",
      "\u001b[32m[I 2022-09-18 23:25:49,962]\u001b[0m Trial 52 finished with value: 0.876249652775958 and parameters: {'rf__n_estimators': 795, 'rf__max_depth': 16}. Best is trial 22 with value: 0.8762652336359207.\u001b[0m\n",
      "\u001b[32m[I 2022-09-18 23:25:59,971]\u001b[0m Trial 53 finished with value: 0.8762836807320793 and parameters: {'rf__n_estimators': 880, 'rf__max_depth': 16}. Best is trial 53 with value: 0.8762836807320793.\u001b[0m\n",
      "\u001b[32m[I 2022-09-18 23:26:09,487]\u001b[0m Trial 54 finished with value: 0.8762836807320793 and parameters: {'rf__n_estimators': 880, 'rf__max_depth': 16}. Best is trial 53 with value: 0.8762836807320793.\u001b[0m\n",
      "\u001b[32m[I 2022-09-18 23:26:20,403]\u001b[0m Trial 55 finished with value: 0.8763318859113518 and parameters: {'rf__n_estimators': 897, 'rf__max_depth': 16}. Best is trial 55 with value: 0.8763318859113518.\u001b[0m\n",
      "\u001b[32m[I 2022-09-18 23:26:29,641]\u001b[0m Trial 56 finished with value: 0.8753909120330821 and parameters: {'rf__n_estimators': 953, 'rf__max_depth': 18}. Best is trial 55 with value: 0.8763318859113518.\u001b[0m\n",
      "\u001b[32m[I 2022-09-18 23:26:41,172]\u001b[0m Trial 57 finished with value: 0.8756039225179378 and parameters: {'rf__n_estimators': 882, 'rf__max_depth': 23}. Best is trial 55 with value: 0.8763318859113518.\u001b[0m\n",
      "\u001b[32m[I 2022-09-18 23:26:51,075]\u001b[0m Trial 58 finished with value: 0.8758302421658394 and parameters: {'rf__n_estimators': 907, 'rf__max_depth': 19}. Best is trial 55 with value: 0.8763318859113518.\u001b[0m\n",
      "\u001b[32m[I 2022-09-18 23:27:00,621]\u001b[0m Trial 59 finished with value: 0.8756391248119748 and parameters: {'rf__n_estimators': 973, 'rf__max_depth': 17}. Best is trial 55 with value: 0.8763318859113518.\u001b[0m\n",
      "\u001b[32m[I 2022-09-18 23:27:10,423]\u001b[0m Trial 60 finished with value: 0.8755837949884434 and parameters: {'rf__n_estimators': 844, 'rf__max_depth': 21}. Best is trial 55 with value: 0.8763318859113518.\u001b[0m\n",
      "\u001b[32m[I 2022-09-18 23:27:20,466]\u001b[0m Trial 61 finished with value: 0.8762170546622361 and parameters: {'rf__n_estimators': 853, 'rf__max_depth': 16}. Best is trial 55 with value: 0.8763318859113518.\u001b[0m\n",
      "\u001b[32m[I 2022-09-18 23:27:29,334]\u001b[0m Trial 62 finished with value: 0.8763347079256182 and parameters: {'rf__n_estimators': 901, 'rf__max_depth': 16}. Best is trial 62 with value: 0.8763347079256182.\u001b[0m\n",
      "\u001b[32m[I 2022-09-18 23:27:37,956]\u001b[0m Trial 63 finished with value: 0.8756095337894851 and parameters: {'rf__n_estimators': 909, 'rf__max_depth': 13}. Best is trial 62 with value: 0.8763347079256182.\u001b[0m\n",
      "\u001b[32m[I 2022-09-18 23:27:46,694]\u001b[0m Trial 64 finished with value: 0.8758675114256365 and parameters: {'rf__n_estimators': 879, 'rf__max_depth': 15}. Best is trial 62 with value: 0.8763347079256182.\u001b[0m\n",
      "\u001b[32m[I 2022-09-18 23:27:59,035]\u001b[0m Trial 65 finished with value: 0.8754001183837442 and parameters: {'rf__n_estimators': 972, 'rf__max_depth': 18}. Best is trial 62 with value: 0.8763347079256182.\u001b[0m\n",
      "\u001b[32m[I 2022-09-18 23:28:03,506]\u001b[0m Trial 66 finished with value: 0.8752530640883862 and parameters: {'rf__n_estimators': 441, 'rf__max_depth': 13}. Best is trial 62 with value: 0.8763347079256182.\u001b[0m\n",
      "\u001b[32m[I 2022-09-18 23:28:05,949]\u001b[0m Trial 67 finished with value: 0.8742603980497803 and parameters: {'rf__n_estimators': 212, 'rf__max_depth': 19}. Best is trial 62 with value: 0.8763347079256182.\u001b[0m\n",
      "\u001b[32m[I 2022-09-18 23:28:18,662]\u001b[0m Trial 68 finished with value: 0.8762821935649558 and parameters: {'rf__n_estimators': 998, 'rf__max_depth': 16}. Best is trial 62 with value: 0.8763347079256182.\u001b[0m\n",
      "\u001b[32m[I 2022-09-18 23:28:28,675]\u001b[0m Trial 69 finished with value: 0.8762588132668411 and parameters: {'rf__n_estimators': 988, 'rf__max_depth': 16}. Best is trial 62 with value: 0.8763347079256182.\u001b[0m\n",
      "\u001b[32m[I 2022-09-18 23:28:37,488]\u001b[0m Trial 70 finished with value: 0.8755361401265205 and parameters: {'rf__n_estimators': 928, 'rf__max_depth': 20}. Best is trial 62 with value: 0.8763347079256182.\u001b[0m\n",
      "\u001b[32m[I 2022-09-18 23:28:46,917]\u001b[0m Trial 71 finished with value: 0.875887126308314 and parameters: {'rf__n_estimators': 955, 'rf__max_depth': 15}. Best is trial 62 with value: 0.8763347079256182.\u001b[0m\n",
      "\u001b[32m[I 2022-09-18 23:28:55,513]\u001b[0m Trial 72 finished with value: 0.8756457384472665 and parameters: {'rf__n_estimators': 871, 'rf__max_depth': 17}. Best is trial 62 with value: 0.8763347079256182.\u001b[0m\n",
      "\u001b[32m[I 2022-09-18 23:29:02,735]\u001b[0m Trial 73 finished with value: 0.8749954140220861 and parameters: {'rf__n_estimators': 821, 'rf__max_depth': 12}. Best is trial 62 with value: 0.8763347079256182.\u001b[0m\n",
      "\u001b[32m[I 2022-09-18 23:29:14,031]\u001b[0m Trial 74 finished with value: 0.8763347079256182 and parameters: {'rf__n_estimators': 901, 'rf__max_depth': 16}. Best is trial 62 with value: 0.8763347079256182.\u001b[0m\n",
      "\u001b[32m[I 2022-09-18 23:29:24,394]\u001b[0m Trial 75 finished with value: 0.876337141769611 and parameters: {'rf__n_estimators': 912, 'rf__max_depth': 16}. Best is trial 75 with value: 0.876337141769611.\u001b[0m\n",
      "\u001b[32m[I 2022-09-18 23:29:33,189]\u001b[0m Trial 76 finished with value: 0.8763238227794696 and parameters: {'rf__n_estimators': 918, 'rf__max_depth': 16}. Best is trial 75 with value: 0.876337141769611.\u001b[0m\n",
      "\u001b[32m[I 2022-09-18 23:29:43,935]\u001b[0m Trial 77 finished with value: 0.8753089818998003 and parameters: {'rf__n_estimators': 916, 'rf__max_depth': 18}. Best is trial 75 with value: 0.876337141769611.\u001b[0m\n",
      "\u001b[32m[I 2022-09-18 23:29:57,281]\u001b[0m Trial 78 finished with value: 0.8755765737110781 and parameters: {'rf__n_estimators': 992, 'rf__max_depth': 17}. Best is trial 75 with value: 0.876337141769611.\u001b[0m\n",
      "\u001b[32m[I 2022-09-18 23:30:12,294]\u001b[0m Trial 79 finished with value: 0.8763011811513687 and parameters: {'rf__n_estimators': 944, 'rf__max_depth': 16}. Best is trial 75 with value: 0.876337141769611.\u001b[0m\n",
      "\u001b[32m[I 2022-09-18 23:30:21,806]\u001b[0m Trial 80 finished with value: 0.8755252156719899 and parameters: {'rf__n_estimators': 948, 'rf__max_depth': 21}. Best is trial 75 with value: 0.876337141769611.\u001b[0m\n",
      "\u001b[32m[I 2022-09-18 23:30:30,608]\u001b[0m Trial 81 finished with value: 0.8763599406312401 and parameters: {'rf__n_estimators': 890, 'rf__max_depth': 16}. Best is trial 81 with value: 0.8763599406312401.\u001b[0m\n",
      "\u001b[32m[I 2022-09-18 23:30:39,029]\u001b[0m Trial 82 finished with value: 0.8758721105063444 and parameters: {'rf__n_estimators': 890, 'rf__max_depth': 15}. Best is trial 81 with value: 0.8763599406312401.\u001b[0m\n",
      "\u001b[32m[I 2022-09-18 23:30:48,095]\u001b[0m Trial 83 finished with value: 0.8759615223350228 and parameters: {'rf__n_estimators': 856, 'rf__max_depth': 19}. Best is trial 81 with value: 0.8763599406312401.\u001b[0m\n",
      "\u001b[32m[I 2022-09-18 23:31:00,252]\u001b[0m Trial 84 finished with value: 0.8762934685192271 and parameters: {'rf__n_estimators': 933, 'rf__max_depth': 16}. Best is trial 81 with value: 0.8763599406312401.\u001b[0m\n",
      "\u001b[32m[I 2022-09-18 23:31:09,914]\u001b[0m Trial 85 finished with value: 0.875698549258644 and parameters: {'rf__n_estimators': 931, 'rf__max_depth': 17}. Best is trial 81 with value: 0.8763599406312401.\u001b[0m\n",
      "\u001b[32m[I 2022-09-18 23:31:22,336]\u001b[0m Trial 86 finished with value: 0.8758139406522046 and parameters: {'rf__n_estimators': 966, 'rf__max_depth': 15}. Best is trial 81 with value: 0.8763599406312401.\u001b[0m\n",
      "\u001b[32m[I 2022-09-18 23:31:31,606]\u001b[0m Trial 87 finished with value: 0.8753168124570884 and parameters: {'rf__n_estimators': 940, 'rf__max_depth': 18}. Best is trial 81 with value: 0.8763599406312401.\u001b[0m\n",
      "\u001b[32m[I 2022-09-18 23:31:43,392]\u001b[0m Trial 88 finished with value: 0.8756887369037575 and parameters: {'rf__n_estimators': 908, 'rf__max_depth': 17}. Best is trial 81 with value: 0.8763599406312401.\u001b[0m\n",
      "\u001b[32m[I 2022-09-18 23:31:51,572]\u001b[0m Trial 89 finished with value: 0.8762018586968485 and parameters: {'rf__n_estimators': 834, 'rf__max_depth': 16}. Best is trial 81 with value: 0.8763599406312401.\u001b[0m\n",
      "\u001b[32m[I 2022-09-18 23:32:02,129]\u001b[0m Trial 90 finished with value: 0.8757643957122416 and parameters: {'rf__n_estimators': 868, 'rf__max_depth': 13}. Best is trial 81 with value: 0.8763599406312401.\u001b[0m\n",
      "\u001b[32m[I 2022-09-18 23:32:11,855]\u001b[0m Trial 91 finished with value: 0.8763727830072485 and parameters: {'rf__n_estimators': 892, 'rf__max_depth': 16}. Best is trial 91 with value: 0.8763727830072485.\u001b[0m\n",
      "\u001b[32m[I 2022-09-18 23:32:20,454]\u001b[0m Trial 92 finished with value: 0.8757876629987578 and parameters: {'rf__n_estimators': 900, 'rf__max_depth': 15}. Best is trial 91 with value: 0.8763727830072485.\u001b[0m\n",
      "\u001b[32m[I 2022-09-18 23:32:29,582]\u001b[0m Trial 93 finished with value: 0.8762308813856465 and parameters: {'rf__n_estimators': 926, 'rf__max_depth': 14}. Best is trial 91 with value: 0.8763727830072485.\u001b[0m\n",
      "\u001b[32m[I 2022-09-18 23:32:40,938]\u001b[0m Trial 94 finished with value: 0.8753996319425154 and parameters: {'rf__n_estimators': 973, 'rf__max_depth': 18}. Best is trial 91 with value: 0.8763727830072485.\u001b[0m\n",
      "\u001b[32m[I 2022-09-18 23:32:52,251]\u001b[0m Trial 95 finished with value: 0.8756888843101903 and parameters: {'rf__n_estimators': 896, 'rf__max_depth': 17}. Best is trial 91 with value: 0.8763727830072485.\u001b[0m\n",
      "\u001b[32m[I 2022-09-18 23:33:02,326]\u001b[0m Trial 96 finished with value: 0.8762532069088411 and parameters: {'rf__n_estimators': 812, 'rf__max_depth': 16}. Best is trial 91 with value: 0.8763727830072485.\u001b[0m\n",
      "\u001b[32m[I 2022-09-18 23:33:13,089]\u001b[0m Trial 97 finished with value: 0.8758354210451837 and parameters: {'rf__n_estimators': 844, 'rf__max_depth': 15}. Best is trial 91 with value: 0.8763727830072485.\u001b[0m\n",
      "\u001b[32m[I 2022-09-18 23:33:22,527]\u001b[0m Trial 98 finished with value: 0.875844275258256 and parameters: {'rf__n_estimators': 954, 'rf__max_depth': 19}. Best is trial 91 with value: 0.8763727830072485.\u001b[0m\n",
      "\u001b[32m[I 2022-09-18 23:33:31,751]\u001b[0m Trial 99 finished with value: 0.8762281183339535 and parameters: {'rf__n_estimators': 868, 'rf__max_depth': 16}. Best is trial 91 with value: 0.8763727830072485.\u001b[0m\n"
     ]
    },
    {
     "name": "stdout",
     "output_type": "stream",
     "text": [
      "\n",
      "Forest estimator:\n",
      "{'rf__n_estimators': 892, 'rf__max_depth': 16}\n",
      "\n",
      "CPU times: total: 12min 13s\n",
      "Wall time: 13min 55s\n"
     ]
    }
   ],
   "source": [
    "%%time\n",
    "forest = OptunaSearchCV(\n",
    "    estimator=rf_pipe,\n",
    "    param_distributions=rf_space,\n",
    "    cv=5,\n",
    "    n_trials=100,\n",
    "    scoring='roc_auc',\n",
    "    random_state=RS,\n",
    ").fit(x_train, y_train)\n",
    "\n",
    "print()\n",
    "print('Forest estimator:')\n",
    "print(forest.best_params_)\n",
    "print()"
   ]
  },
  {
   "cell_type": "markdown",
   "id": "ed59b077-2b99-40b2-b850-e0dc1e66dca3",
   "metadata": {},
   "source": [
    "Проверим качество модели."
   ]
  },
  {
   "cell_type": "code",
   "execution_count": 75,
   "id": "36bee2b5-8c90-4dd5-a7e5-2565d757c797",
   "metadata": {},
   "outputs": [
    {
     "name": "stdout",
     "output_type": "stream",
     "text": [
      "Forest mean CV scores:\n",
      "    ROC AUC: 0.876\n",
      "    Accuracy: 0.837\n"
     ]
    }
   ],
   "source": [
    "print('Forest mean CV scores:')\n",
    "print(f'    ROC AUC: {forest.best_score_:.3f}')\n",
    "accuracy = cross_val_score(\n",
    "    forest.best_estimator_,\n",
    "    x_train, y_train,\n",
    "    scoring='accuracy',\n",
    "    cv=5,\n",
    "    n_jobs=-1,\n",
    ").mean()\n",
    "print(f'    Accuracy: {accuracy:.3f}')     "
   ]
  },
  {
   "cell_type": "markdown",
   "id": "07b16d3a-f357-4b6e-b382-31ac7eda7eaa",
   "metadata": {},
   "source": [
    "Обе метрики у леса выше, чем у логита – лес пока лидирует."
   ]
  },
  {
   "cell_type": "markdown",
   "id": "e2b662c3-60c0-494a-b193-1a427c26fe17",
   "metadata": {},
   "source": [
    "## CatBoost"
   ]
  },
  {
   "cell_type": "markdown",
   "id": "07a9be51-8e7b-474d-b564-bf7e25b57e6c",
   "metadata": {},
   "source": [
    "Наконец, обучим отраслевой стандарт – модель градиентного бустинга `CatBoost`. Эта модель нечувствительна к масштабу числовых фич и умеет обрабатывать категориальные фичи, поэтому предобработчик фич для нее не нужен. Подбирать `learning_rate` будем с помощью метода `randomized_search`."
   ]
  },
  {
   "cell_type": "code",
   "execution_count": 76,
   "id": "7045319a-3c3c-4ce6-bad9-79b6ec24e441",
   "metadata": {},
   "outputs": [
    {
     "name": "stdout",
     "output_type": "stream",
     "text": [
      "Learning rates: [0.2313 0.0564 0.0341 0.0772 0.0360 0.0323 0.3579 0.4516 0.0314 0.0115]\n",
      "\n"
     ]
    },
    {
     "data": {
      "application/vnd.jupyter.widget-view+json": {
       "model_id": "a385b592b0ea43ffa34908f6346d16ce",
       "version_major": 2,
       "version_minor": 0
      },
      "text/plain": [
       "MetricVisualizer(layout=Layout(align_self='stretch', height='500px'))"
      ]
     },
     "metadata": {},
     "output_type": "display_data"
    },
    {
     "name": "stdout",
     "output_type": "stream",
     "text": [
      "Metric AUC is not calculated on train by default. To calculate this metric on train, add hints=skip_train~false to metric parameters.\n",
      "Metric AUC is not calculated on train by default. To calculate this metric on train, add hints=skip_train~false to metric parameters.\n",
      "Metric AUC is not calculated on train by default. To calculate this metric on train, add hints=skip_train~false to metric parameters.\n",
      "Metric AUC is not calculated on train by default. To calculate this metric on train, add hints=skip_train~false to metric parameters.\n",
      "Metric AUC is not calculated on train by default. To calculate this metric on train, add hints=skip_train~false to metric parameters.\n",
      "Metric AUC is not calculated on train by default. To calculate this metric on train, add hints=skip_train~false to metric parameters.\n",
      "Metric AUC is not calculated on train by default. To calculate this metric on train, add hints=skip_train~false to metric parameters.\n",
      "Metric AUC is not calculated on train by default. To calculate this metric on train, add hints=skip_train~false to metric parameters.\n",
      "Metric AUC is not calculated on train by default. To calculate this metric on train, add hints=skip_train~false to metric parameters.\n",
      "Metric AUC is not calculated on train by default. To calculate this metric on train, add hints=skip_train~false to metric parameters.\n",
      "\n",
      "CatBoost estimator:\n",
      "{'learning_rate': 0.07716269873767213}\n",
      "\n",
      "CPU times: total: 1h 5min 56s\n",
      "Wall time: 19min 33s\n"
     ]
    }
   ],
   "source": [
    "%%time\n",
    "\n",
    "n_iter = 10  # The number of parameter settings sampled with randomized_search \n",
    "\n",
    "np.set_printoptions(formatter={'float_kind': '{:.4f}'.format})\n",
    "np.random.seed(RS)\n",
    "cat_space = dict(learning_rate=loguniform(.01, 1))\n",
    "print('Learning rates:', cat_space['learning_rate'].rvs(size=n_iter))\n",
    "print()\n",
    "\n",
    "cat_params = dict(\n",
    "    iterations=1000,\n",
    "    loss_function='Logloss',\n",
    "    eval_metric='AUC',\n",
    "    custom_metric=['Accuracy'], \n",
    "    random_seed=RS,\n",
    "    logging_level='Silent',\n",
    ")\n",
    "\n",
    "cat = CatBoostClassifier(**cat_params)\n",
    "\n",
    "np.random.seed(RS)\n",
    "cat_cv = cat.randomized_search(\n",
    "    cat_space,\n",
    "    Pool(x_train, y_train, cat_features=cat_x),\n",
    "    cv=5, \n",
    "    n_iter=n_iter,\n",
    "    search_by_train_test_split=False,\n",
    "    stratified=True,\n",
    "    refit=True,\n",
    "    partition_random_seed=RS,\n",
    "    plot=True,\n",
    "    verbose=False,\n",
    ")\n",
    "\n",
    "print()\n",
    "print('CatBoost estimator:')\n",
    "print(cat_cv['params'])\n",
    "print()"
   ]
  },
  {
   "cell_type": "markdown",
   "id": "b1626e56-8f93-4d9a-aa5d-962e778d875f",
   "metadata": {},
   "source": [
    "Проверяем качество модели на кросс-валидации."
   ]
  },
  {
   "cell_type": "code",
   "execution_count": 77,
   "id": "fa617ac5-4a66-4791-9083-6e77e2bc510a",
   "metadata": {},
   "outputs": [
    {
     "name": "stdout",
     "output_type": "stream",
     "text": [
      "CatBoost best iteration: 990\n",
      "CatBoost mean CV scores:\n",
      "    ROC AUC: 0.934\n",
      "    Accuracy: 0.896\n"
     ]
    }
   ],
   "source": [
    "cat_cv = pd.DataFrame(cat_cv['cv_results'])\n",
    "best_iter = cat_cv['test-AUC-mean'].idxmax()\n",
    "print('CatBoost best iteration:', best_iter)\n",
    "print('CatBoost mean CV scores:')\n",
    "print(f\"    ROC AUC: {cat_cv.loc[best_iter, 'test-AUC-mean']:.3f}\")\n",
    "print(f\"    Accuracy: {cat_cv.loc[best_iter, 'test-Accuracy-mean']:.3f}\")   "
   ]
  },
  {
   "cell_type": "markdown",
   "id": "1c75c855-2d81-4e5d-8295-ab7b75f5f884",
   "metadata": {},
   "source": [
    " `CatBoost` опережает случайный лес по обеим метрикам и выходит в финал."
   ]
  },
  {
   "cell_type": "markdown",
   "id": "9509024d-11d2-4dfd-bbfe-04427bb5536b",
   "metadata": {},
   "source": [
    "# Тестирование лучшей модели"
   ]
  },
  {
   "cell_type": "markdown",
   "id": "0df69587-ae38-41f2-ab37-1d8cc03ff29e",
   "metadata": {},
   "source": [
    "Обрежем модель `CatBoost` до оптимального числа деревьев."
   ]
  },
  {
   "cell_type": "code",
   "execution_count": 78,
   "id": "08be0966-58e4-46f9-bcc1-6827fb29f605",
   "metadata": {
    "tags": []
   },
   "outputs": [],
   "source": [
    "cat.shrink(best_iter+1)"
   ]
  },
  {
   "cell_type": "markdown",
   "id": "af18f455-ffde-49a7-a9a0-a3b8eb86da7b",
   "metadata": {},
   "source": [
    "Теперь протестируем модель на тестовой выборке."
   ]
  },
  {
   "cell_type": "code",
   "execution_count": 79,
   "id": "4590da2f-d086-42b6-9608-6846d0351faf",
   "metadata": {},
   "outputs": [],
   "source": [
    "y_proba = cat.predict_proba(Pool(x_test, y_test, cat_features=cat_x))[:, 1]\n",
    "y_pred = 1*(y_proba >= .5)"
   ]
  },
  {
   "cell_type": "code",
   "execution_count": 80,
   "id": "f6df6a86-f459-4591-b1c2-bcf73a681ca5",
   "metadata": {},
   "outputs": [
    {
     "name": "stdout",
     "output_type": "stream",
     "text": [
      "CatBoost test scores:\n",
      "    ROC AUC: 0.938\n",
      "    Accuracy: 0.900\n"
     ]
    }
   ],
   "source": [
    "print('CatBoost test scores:')\n",
    "print(f\"    ROC AUC: {roc_auc_score(y_test, y_proba):.3f}\")\n",
    "print(f\"    Accuracy: {accuracy_score(y_test, y_pred):.3f}\")"
   ]
  },
  {
   "cell_type": "markdown",
   "id": "4e9c542c-a2c5-4055-9e02-ed199d36b9c9",
   "metadata": {},
   "source": [
    "Качество модели на тестовой выборке почти не отличается от качества на кросс-валидации обучающей выборки."
   ]
  },
  {
   "cell_type": "markdown",
   "id": "608278ee-0dfe-473e-a616-1ec14f1a4bb7",
   "metadata": {},
   "source": [
    "# Выводы"
   ]
  },
  {
   "cell_type": "markdown",
   "id": "737e6492-acc9-4e22-a496-c4d39b9f22ae",
   "metadata": {},
   "source": [
    "- Были обучены четыре модели: dummy, логистическая регрессия, случайный лес и градиентный бустинг `CatBoost`\n",
    "- Наилучшее качество на кросс-валидации обучающей выборки показала модель `CatBoost`: ROC AUC = 0.934, Accuracy = 0.896\n",
    "- Качество модели `CatBoost` на тестовой выборке практически идентично качеству на кросс-валидации обучающей: ROC AUC = 0.938, Accuracy = 0.900"
   ]
  }
 ],
 "metadata": {
  "kernelspec": {
   "display_name": "Python 3 (ipykernel)",
   "language": "python",
   "name": "python3"
  },
  "language_info": {
   "codemirror_mode": {
    "name": "ipython",
    "version": 3
   },
   "file_extension": ".py",
   "mimetype": "text/x-python",
   "name": "python",
   "nbconvert_exporter": "python",
   "pygments_lexer": "ipython3",
   "version": "3.9.12"
  }
 },
 "nbformat": 4,
 "nbformat_minor": 5
}

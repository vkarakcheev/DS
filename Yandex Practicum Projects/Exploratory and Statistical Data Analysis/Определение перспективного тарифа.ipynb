{
 "cells": [
  {
   "cell_type": "markdown",
   "metadata": {},
   "source": [
    "# Цель проекта"
   ]
  },
  {
   "cell_type": "markdown",
   "metadata": {},
   "source": [
    "Проанализировать выручку от тарифов компании «Мегалайн» за 2018 год на выборке из 500 клиентов и протестировать две гипотезы:\n",
    "- средняя выручка от пользователей тарифов Ultra и Smart различается;\n",
    "- средняя выручка от пользователей из Москвы отличается от выручки от пользователей из других регионов."
   ]
  },
  {
   "cell_type": "markdown",
   "metadata": {
    "toc": true
   },
   "source": [
    "<h1>Содержание<span class=\"tocSkip\"></span></h1>\n",
    "<div class=\"toc\">\n",
    "    <ul class=\"toc-item\">\n",
    "        <li><span><a href=\"#Предобработка-данных\" data-toc-modified-id=\"Предобработка-данных-1\"><span class=\"toc-item-num\">1&nbsp;&nbsp;</span>Предобработка данных</a></span>\n",
    "            <ul class=\"toc-item\">\n",
    "                <li><span><a href=\"#Тарифы\" data-toc-modified-id=\"Тарифы-1.1\"><span class=\"toc-item-num\">1.1&nbsp;&nbsp;</span>Тарифы</a></span></li>\n",
    "                <li><span><a href=\"#Пользователи\" data-toc-modified-id=\"Пользователи-1.2\"><span class=\"toc-item-num\">1.2&nbsp;&nbsp;</span>Пользователи</a></span></li>\n",
    "                <li><span><a href=\"#Звонки\" data-toc-modified-id=\"Звонки-1.3\"><span class=\"toc-item-num\">1.3&nbsp;&nbsp;</span>Звонки</a></span></li>\n",
    "                <li><span><a href=\"#Сообщения\" data-toc-modified-id=\"Сообщения-1.4\"><span class=\"toc-item-num\">1.4&nbsp;&nbsp;</span>Сообщения</a></span></li>\n",
    "                <li><span><a href=\"#Интернет\" data-toc-modified-id=\"Интернет-1.5\"><span class=\"toc-item-num\">1.5&nbsp;&nbsp;</span>Интернет</a></span></li>\n",
    "            </ul></li>\n",
    "        <li><span><a href=\"#Агрегация-по-пользователям-и-месяцам\" data-toc-modified-id=\"Агрегация-по-пользователям-и-месяцам-2\"><span class=\"toc-item-num\">2&nbsp;&nbsp;</span>Агрегация по пользователям и месяцам</a></span></li>\n",
    "        <li><span><a href=\"#Анализ-данных\" data-toc-modified-id=\"Анализ-данных-3\"><span class=\"toc-item-num\">3&nbsp;&nbsp;</span>Анализ данных</a></span>\n",
    "            <ul class=\"toc-item\">\n",
    "                <li><span><a href=\"#Звонки\" data-toc-modified-id=\"Звонки-3.1\"><span class=\"toc-item-num\">3.1&nbsp;&nbsp;</span>Звонки</a></span></li>\n",
    "                <li><span><a href=\"#СМС\" data-toc-modified-id=\"СМС-3.2\"><span class=\"toc-item-num\">3.2&nbsp;&nbsp;</span>СМС</a></span></li>\n",
    "                <li><span><a href=\"#Интернет\" data-toc-modified-id=\"Интернет-3.3\"><span class=\"toc-item-num\">3.3&nbsp;&nbsp;</span>Интернет</a></span></li>\n",
    "                <li><span><a href=\"#Расходы\" data-toc-modified-id=\"Расходы-3.4\"><span class=\"toc-item-num\">3.4&nbsp;&nbsp;</span>Расходы</a></span></li>\n",
    "            </ul>\n",
    "        </li>\n",
    "        <li><span><a href=\"#Проверка-гипотез\" data-toc-modified-id=\"Проверка-гипотез-4\"><span class=\"toc-item-num\">4&nbsp;&nbsp;</span>Проверка гипотез</a></span>\n",
    "            <ul class=\"toc-item\">\n",
    "                <li><span><a href=\"#Smart-vs.-Ultra\" data-toc-modified-id=\"Smart-vs.-Ultra-4.1\"><span class=\"toc-item-num\">4.1&nbsp;&nbsp;</span>Smart vs. Ultra</a></span></li>\n",
    "                <li><span><a href=\"#Moscow-vs.-Rest\" data-toc-modified-id=\"Moscow-vs.-Rest-4.2\"><span class=\"toc-item-num\">4.2&nbsp;&nbsp;</span>Moscow vs. Rest</a></span></li>\n",
    "            </ul>\n",
    "        </li>\n",
    "        <li><span><a href=\"#Выводы\" data-toc-modified-id=\"Выводы-5\"><span class=\"toc-item-num\">5&nbsp;&nbsp;</span>Выводы</a></span></li>\n",
    "    </ul>\n",
    "</div>"
   ]
  },
  {
   "cell_type": "markdown",
   "metadata": {},
   "source": [
    "## Предобработка данных"
   ]
  },
  {
   "cell_type": "markdown",
   "metadata": {},
   "source": [
    "Подключим необходимые модули и выставим полезные умолчания."
   ]
  },
  {
   "cell_type": "code",
   "execution_count": 1,
   "metadata": {},
   "outputs": [],
   "source": [
    "import pandas as pd\n",
    "import numpy as np\n",
    "import seaborn as sns\n",
    "import matplotlib.pyplot as plt\n",
    "import math as mt\n",
    "import scipy.stats as st\n",
    "\n",
    "pd.set_option('display.max_columns', None); # снятие ограничения на число выводимых столбцов\n",
    "plt.style.use('dark_background'); # темный фон графиков\n",
    "plt.rc('axes', grid=True, axisbelow=True); # линии сетки позади графика"
   ]
  },
  {
   "cell_type": "code",
   "execution_count": 2,
   "metadata": {},
   "outputs": [],
   "source": [
    "import warnings\n",
    "\n",
    "warnings.simplefilter(action='ignore', category=FutureWarning)"
   ]
  },
  {
   "cell_type": "markdown",
   "metadata": {},
   "source": [
    "Загрузим каждую таблицу в отдельный датафрейм."
   ]
  },
  {
   "cell_type": "code",
   "execution_count": 3,
   "metadata": {},
   "outputs": [],
   "source": [
    "trf = pd.read_csv('/datasets/tariffs.csv')"
   ]
  },
  {
   "cell_type": "code",
   "execution_count": 4,
   "metadata": {},
   "outputs": [],
   "source": [
    "usr = pd.read_csv('/datasets/users.csv')"
   ]
  },
  {
   "cell_type": "code",
   "execution_count": 5,
   "metadata": {},
   "outputs": [],
   "source": [
    "cls = pd.read_csv('/datasets/calls.csv')"
   ]
  },
  {
   "cell_type": "code",
   "execution_count": 6,
   "metadata": {},
   "outputs": [],
   "source": [
    "msg = pd.read_csv('/datasets/messages.csv')"
   ]
  },
  {
   "cell_type": "code",
   "execution_count": 7,
   "metadata": {},
   "outputs": [],
   "source": [
    "www = pd.read_csv('/datasets/internet.csv')"
   ]
  },
  {
   "cell_type": "markdown",
   "metadata": {},
   "source": [
    "Проанализируем какждую таблицу отдельно."
   ]
  },
  {
   "cell_type": "markdown",
   "metadata": {},
   "source": [
    "### Тарифы"
   ]
  },
  {
   "cell_type": "code",
   "execution_count": 8,
   "metadata": {},
   "outputs": [
    {
     "data": {
      "text/html": [
       "<div>\n",
       "<style scoped>\n",
       "    .dataframe tbody tr th:only-of-type {\n",
       "        vertical-align: middle;\n",
       "    }\n",
       "\n",
       "    .dataframe tbody tr th {\n",
       "        vertical-align: top;\n",
       "    }\n",
       "\n",
       "    .dataframe thead th {\n",
       "        text-align: right;\n",
       "    }\n",
       "</style>\n",
       "<table border=\"1\" class=\"dataframe\">\n",
       "  <thead>\n",
       "    <tr style=\"text-align: right;\">\n",
       "      <th></th>\n",
       "      <th>messages_included</th>\n",
       "      <th>mb_per_month_included</th>\n",
       "      <th>minutes_included</th>\n",
       "      <th>rub_monthly_fee</th>\n",
       "      <th>rub_per_gb</th>\n",
       "      <th>rub_per_message</th>\n",
       "      <th>rub_per_minute</th>\n",
       "      <th>tariff_name</th>\n",
       "    </tr>\n",
       "  </thead>\n",
       "  <tbody>\n",
       "    <tr>\n",
       "      <th>0</th>\n",
       "      <td>50</td>\n",
       "      <td>15360</td>\n",
       "      <td>500</td>\n",
       "      <td>550</td>\n",
       "      <td>200</td>\n",
       "      <td>3</td>\n",
       "      <td>3</td>\n",
       "      <td>smart</td>\n",
       "    </tr>\n",
       "    <tr>\n",
       "      <th>1</th>\n",
       "      <td>1000</td>\n",
       "      <td>30720</td>\n",
       "      <td>3000</td>\n",
       "      <td>1950</td>\n",
       "      <td>150</td>\n",
       "      <td>1</td>\n",
       "      <td>1</td>\n",
       "      <td>ultra</td>\n",
       "    </tr>\n",
       "  </tbody>\n",
       "</table>\n",
       "</div>"
      ],
      "text/plain": [
       "   messages_included  mb_per_month_included  minutes_included  \\\n",
       "0                 50                  15360               500   \n",
       "1               1000                  30720              3000   \n",
       "\n",
       "   rub_monthly_fee  rub_per_gb  rub_per_message  rub_per_minute tariff_name  \n",
       "0              550         200                3               3       smart  \n",
       "1             1950         150                1               1       ultra  "
      ]
     },
     "execution_count": 8,
     "metadata": {},
     "output_type": "execute_result"
    }
   ],
   "source": [
    "trf"
   ]
  },
  {
   "cell_type": "code",
   "execution_count": 9,
   "metadata": {},
   "outputs": [
    {
     "name": "stdout",
     "output_type": "stream",
     "text": [
      "<class 'pandas.core.frame.DataFrame'>\n",
      "RangeIndex: 2 entries, 0 to 1\n",
      "Data columns (total 8 columns):\n",
      " #   Column                 Non-Null Count  Dtype \n",
      "---  ------                 --------------  ----- \n",
      " 0   messages_included      2 non-null      int64 \n",
      " 1   mb_per_month_included  2 non-null      int64 \n",
      " 2   minutes_included       2 non-null      int64 \n",
      " 3   rub_monthly_fee        2 non-null      int64 \n",
      " 4   rub_per_gb             2 non-null      int64 \n",
      " 5   rub_per_message        2 non-null      int64 \n",
      " 6   rub_per_minute         2 non-null      int64 \n",
      " 7   tariff_name            2 non-null      object\n",
      "dtypes: int64(7), object(1)\n",
      "memory usage: 256.0+ bytes\n"
     ]
    }
   ],
   "source": [
    "trf.info()"
   ]
  },
  {
   "cell_type": "markdown",
   "metadata": {},
   "source": [
    "Даункастим все числовые столбцы в беззнаковые целочисленные, а столбец с названием тарифа преобразуем к категориальному типу."
   ]
  },
  {
   "cell_type": "code",
   "execution_count": 10,
   "metadata": {},
   "outputs": [],
   "source": [
    "ints = trf.select_dtypes(include=['int']).apply(pd.to_numeric, downcast='unsigned') \n",
    "trf[ints.columns] = ints\n",
    "trf['tariff_name'] = trf['tariff_name'].astype('category')"
   ]
  },
  {
   "cell_type": "code",
   "execution_count": 11,
   "metadata": {},
   "outputs": [
    {
     "name": "stdout",
     "output_type": "stream",
     "text": [
      "<class 'pandas.core.frame.DataFrame'>\n",
      "RangeIndex: 2 entries, 0 to 1\n",
      "Data columns (total 8 columns):\n",
      " #   Column                 Non-Null Count  Dtype   \n",
      "---  ------                 --------------  -----   \n",
      " 0   messages_included      2 non-null      uint16  \n",
      " 1   mb_per_month_included  2 non-null      uint16  \n",
      " 2   minutes_included       2 non-null      uint16  \n",
      " 3   rub_monthly_fee        2 non-null      uint16  \n",
      " 4   rub_per_gb             2 non-null      uint8   \n",
      " 5   rub_per_message        2 non-null      uint8   \n",
      " 6   rub_per_minute         2 non-null      uint8   \n",
      " 7   tariff_name            2 non-null      category\n",
      "dtypes: category(1), uint16(4), uint8(3)\n",
      "memory usage: 276.0 bytes\n"
     ]
    }
   ],
   "source": [
    "trf.info()"
   ]
  },
  {
   "cell_type": "markdown",
   "metadata": {},
   "source": [
    "### Пользователи"
   ]
  },
  {
   "cell_type": "code",
   "execution_count": 12,
   "metadata": {},
   "outputs": [
    {
     "data": {
      "text/html": [
       "<div>\n",
       "<style scoped>\n",
       "    .dataframe tbody tr th:only-of-type {\n",
       "        vertical-align: middle;\n",
       "    }\n",
       "\n",
       "    .dataframe tbody tr th {\n",
       "        vertical-align: top;\n",
       "    }\n",
       "\n",
       "    .dataframe thead th {\n",
       "        text-align: right;\n",
       "    }\n",
       "</style>\n",
       "<table border=\"1\" class=\"dataframe\">\n",
       "  <thead>\n",
       "    <tr style=\"text-align: right;\">\n",
       "      <th></th>\n",
       "      <th>user_id</th>\n",
       "      <th>age</th>\n",
       "      <th>churn_date</th>\n",
       "      <th>city</th>\n",
       "      <th>first_name</th>\n",
       "      <th>last_name</th>\n",
       "      <th>reg_date</th>\n",
       "      <th>tariff</th>\n",
       "    </tr>\n",
       "  </thead>\n",
       "  <tbody>\n",
       "    <tr>\n",
       "      <th>0</th>\n",
       "      <td>1000</td>\n",
       "      <td>52</td>\n",
       "      <td>NaN</td>\n",
       "      <td>Краснодар</td>\n",
       "      <td>Рафаил</td>\n",
       "      <td>Верещагин</td>\n",
       "      <td>2018-05-25</td>\n",
       "      <td>ultra</td>\n",
       "    </tr>\n",
       "    <tr>\n",
       "      <th>1</th>\n",
       "      <td>1001</td>\n",
       "      <td>41</td>\n",
       "      <td>NaN</td>\n",
       "      <td>Москва</td>\n",
       "      <td>Иван</td>\n",
       "      <td>Ежов</td>\n",
       "      <td>2018-11-01</td>\n",
       "      <td>smart</td>\n",
       "    </tr>\n",
       "    <tr>\n",
       "      <th>2</th>\n",
       "      <td>1002</td>\n",
       "      <td>59</td>\n",
       "      <td>NaN</td>\n",
       "      <td>Стерлитамак</td>\n",
       "      <td>Евгений</td>\n",
       "      <td>Абрамович</td>\n",
       "      <td>2018-06-17</td>\n",
       "      <td>smart</td>\n",
       "    </tr>\n",
       "    <tr>\n",
       "      <th>3</th>\n",
       "      <td>1003</td>\n",
       "      <td>23</td>\n",
       "      <td>NaN</td>\n",
       "      <td>Москва</td>\n",
       "      <td>Белла</td>\n",
       "      <td>Белякова</td>\n",
       "      <td>2018-08-17</td>\n",
       "      <td>ultra</td>\n",
       "    </tr>\n",
       "    <tr>\n",
       "      <th>4</th>\n",
       "      <td>1004</td>\n",
       "      <td>68</td>\n",
       "      <td>NaN</td>\n",
       "      <td>Новокузнецк</td>\n",
       "      <td>Татьяна</td>\n",
       "      <td>Авдеенко</td>\n",
       "      <td>2018-05-14</td>\n",
       "      <td>ultra</td>\n",
       "    </tr>\n",
       "    <tr>\n",
       "      <th>...</th>\n",
       "      <td>...</td>\n",
       "      <td>...</td>\n",
       "      <td>...</td>\n",
       "      <td>...</td>\n",
       "      <td>...</td>\n",
       "      <td>...</td>\n",
       "      <td>...</td>\n",
       "      <td>...</td>\n",
       "    </tr>\n",
       "    <tr>\n",
       "      <th>495</th>\n",
       "      <td>1495</td>\n",
       "      <td>65</td>\n",
       "      <td>NaN</td>\n",
       "      <td>Иркутск</td>\n",
       "      <td>Авксентий</td>\n",
       "      <td>Фокин</td>\n",
       "      <td>2018-08-28</td>\n",
       "      <td>ultra</td>\n",
       "    </tr>\n",
       "    <tr>\n",
       "      <th>496</th>\n",
       "      <td>1496</td>\n",
       "      <td>36</td>\n",
       "      <td>NaN</td>\n",
       "      <td>Вологда</td>\n",
       "      <td>Трифон</td>\n",
       "      <td>Блохин</td>\n",
       "      <td>2018-01-27</td>\n",
       "      <td>smart</td>\n",
       "    </tr>\n",
       "    <tr>\n",
       "      <th>497</th>\n",
       "      <td>1497</td>\n",
       "      <td>32</td>\n",
       "      <td>NaN</td>\n",
       "      <td>Челябинск</td>\n",
       "      <td>Каролина</td>\n",
       "      <td>Агеева</td>\n",
       "      <td>2018-10-09</td>\n",
       "      <td>smart</td>\n",
       "    </tr>\n",
       "    <tr>\n",
       "      <th>498</th>\n",
       "      <td>1498</td>\n",
       "      <td>68</td>\n",
       "      <td>2018-10-25</td>\n",
       "      <td>Владикавказ</td>\n",
       "      <td>Всеволод</td>\n",
       "      <td>Акимчин</td>\n",
       "      <td>2018-07-19</td>\n",
       "      <td>smart</td>\n",
       "    </tr>\n",
       "    <tr>\n",
       "      <th>499</th>\n",
       "      <td>1499</td>\n",
       "      <td>35</td>\n",
       "      <td>NaN</td>\n",
       "      <td>Пермь</td>\n",
       "      <td>Гектор</td>\n",
       "      <td>Корнилов</td>\n",
       "      <td>2018-09-27</td>\n",
       "      <td>smart</td>\n",
       "    </tr>\n",
       "  </tbody>\n",
       "</table>\n",
       "<p>500 rows × 8 columns</p>\n",
       "</div>"
      ],
      "text/plain": [
       "     user_id  age  churn_date         city first_name  last_name    reg_date  \\\n",
       "0       1000   52         NaN    Краснодар     Рафаил  Верещагин  2018-05-25   \n",
       "1       1001   41         NaN       Москва       Иван       Ежов  2018-11-01   \n",
       "2       1002   59         NaN  Стерлитамак    Евгений  Абрамович  2018-06-17   \n",
       "3       1003   23         NaN       Москва      Белла   Белякова  2018-08-17   \n",
       "4       1004   68         NaN  Новокузнецк    Татьяна   Авдеенко  2018-05-14   \n",
       "..       ...  ...         ...          ...        ...        ...         ...   \n",
       "495     1495   65         NaN      Иркутск  Авксентий      Фокин  2018-08-28   \n",
       "496     1496   36         NaN      Вологда     Трифон     Блохин  2018-01-27   \n",
       "497     1497   32         NaN    Челябинск   Каролина     Агеева  2018-10-09   \n",
       "498     1498   68  2018-10-25  Владикавказ   Всеволод    Акимчин  2018-07-19   \n",
       "499     1499   35         NaN        Пермь     Гектор   Корнилов  2018-09-27   \n",
       "\n",
       "    tariff  \n",
       "0    ultra  \n",
       "1    smart  \n",
       "2    smart  \n",
       "3    ultra  \n",
       "4    ultra  \n",
       "..     ...  \n",
       "495  ultra  \n",
       "496  smart  \n",
       "497  smart  \n",
       "498  smart  \n",
       "499  smart  \n",
       "\n",
       "[500 rows x 8 columns]"
      ]
     },
     "execution_count": 12,
     "metadata": {},
     "output_type": "execute_result"
    }
   ],
   "source": [
    "usr"
   ]
  },
  {
   "cell_type": "code",
   "execution_count": 13,
   "metadata": {},
   "outputs": [
    {
     "name": "stdout",
     "output_type": "stream",
     "text": [
      "<class 'pandas.core.frame.DataFrame'>\n",
      "RangeIndex: 500 entries, 0 to 499\n",
      "Data columns (total 8 columns):\n",
      " #   Column      Non-Null Count  Dtype \n",
      "---  ------      --------------  ----- \n",
      " 0   user_id     500 non-null    int64 \n",
      " 1   age         500 non-null    int64 \n",
      " 2   churn_date  38 non-null     object\n",
      " 3   city        500 non-null    object\n",
      " 4   first_name  500 non-null    object\n",
      " 5   last_name   500 non-null    object\n",
      " 6   reg_date    500 non-null    object\n",
      " 7   tariff      500 non-null    object\n",
      "dtypes: int64(2), object(6)\n",
      "memory usage: 31.4+ KB\n"
     ]
    }
   ],
   "source": [
    "usr.info()"
   ]
  },
  {
   "cell_type": "markdown",
   "metadata": {},
   "source": [
    "Пользователей, действительно, пятьсот. Проверим, что в таблице нет полных дублей."
   ]
  },
  {
   "cell_type": "code",
   "execution_count": 14,
   "metadata": {},
   "outputs": [
    {
     "data": {
      "text/plain": [
       "0"
      ]
     },
     "execution_count": 14,
     "metadata": {},
     "output_type": "execute_result"
    }
   ],
   "source": [
    "usr.duplicated(usr.columns[1:]).sum()"
   ]
  },
  {
   "cell_type": "markdown",
   "metadata": {},
   "source": [
    "Дублей нет.\n",
    "\n",
    "Посмотрим на распределение возрастов."
   ]
  },
  {
   "cell_type": "code",
   "execution_count": 15,
   "metadata": {},
   "outputs": [
    {
     "data": {
      "text/html": [
       "<div>\n",
       "<style scoped>\n",
       "    .dataframe tbody tr th:only-of-type {\n",
       "        vertical-align: middle;\n",
       "    }\n",
       "\n",
       "    .dataframe tbody tr th {\n",
       "        vertical-align: top;\n",
       "    }\n",
       "\n",
       "    .dataframe thead th {\n",
       "        text-align: right;\n",
       "    }\n",
       "</style>\n",
       "<table border=\"1\" class=\"dataframe\">\n",
       "  <thead>\n",
       "    <tr style=\"text-align: right;\">\n",
       "      <th></th>\n",
       "      <th>user_id</th>\n",
       "      <th>age</th>\n",
       "    </tr>\n",
       "  </thead>\n",
       "  <tbody>\n",
       "    <tr>\n",
       "      <th>count</th>\n",
       "      <td>500.000000</td>\n",
       "      <td>500.00000</td>\n",
       "    </tr>\n",
       "    <tr>\n",
       "      <th>mean</th>\n",
       "      <td>1249.500000</td>\n",
       "      <td>46.58800</td>\n",
       "    </tr>\n",
       "    <tr>\n",
       "      <th>std</th>\n",
       "      <td>144.481833</td>\n",
       "      <td>16.66763</td>\n",
       "    </tr>\n",
       "    <tr>\n",
       "      <th>min</th>\n",
       "      <td>1000.000000</td>\n",
       "      <td>18.00000</td>\n",
       "    </tr>\n",
       "    <tr>\n",
       "      <th>25%</th>\n",
       "      <td>1124.750000</td>\n",
       "      <td>32.00000</td>\n",
       "    </tr>\n",
       "    <tr>\n",
       "      <th>50%</th>\n",
       "      <td>1249.500000</td>\n",
       "      <td>46.00000</td>\n",
       "    </tr>\n",
       "    <tr>\n",
       "      <th>75%</th>\n",
       "      <td>1374.250000</td>\n",
       "      <td>62.00000</td>\n",
       "    </tr>\n",
       "    <tr>\n",
       "      <th>max</th>\n",
       "      <td>1499.000000</td>\n",
       "      <td>75.00000</td>\n",
       "    </tr>\n",
       "  </tbody>\n",
       "</table>\n",
       "</div>"
      ],
      "text/plain": [
       "           user_id        age\n",
       "count   500.000000  500.00000\n",
       "mean   1249.500000   46.58800\n",
       "std     144.481833   16.66763\n",
       "min    1000.000000   18.00000\n",
       "25%    1124.750000   32.00000\n",
       "50%    1249.500000   46.00000\n",
       "75%    1374.250000   62.00000\n",
       "max    1499.000000   75.00000"
      ]
     },
     "execution_count": 15,
     "metadata": {},
     "output_type": "execute_result"
    }
   ],
   "source": [
    "usr.describe()"
   ]
  },
  {
   "cell_type": "code",
   "execution_count": 16,
   "metadata": {},
   "outputs": [
    {
     "data": {
      "image/png": "[encoded data removed]",
      "text/plain": [
       "<Figure size 432x288 with 1 Axes>"
      ]
     },
     "metadata": {},
     "output_type": "display_data"
    }
   ],
   "source": [
    "usr['age'].hist(bins=10, edgecolor='k');"
   ]
  },
  {
   "cell_type": "markdown",
   "metadata": {},
   "source": [
    "Диапазон адекватный, распределение более-менее равномерное, что не очень реалистично.\n",
    "\n",
    "Приведем столбец с датой подключения к типу `datetime` и посмотрим на распределение числа подключений по месяцам."
   ]
  },
  {
   "cell_type": "code",
   "execution_count": 17,
   "metadata": {},
   "outputs": [],
   "source": [
    "usr['reg_date'] = pd.to_datetime(usr['reg_date'])"
   ]
  },
  {
   "cell_type": "code",
   "execution_count": 18,
   "metadata": {},
   "outputs": [
    {
     "data": {
      "image/png": "[encoded data removed]",
      "text/plain": [
       "<Figure size 864x288 with 1 Axes>"
      ]
     },
     "metadata": {},
     "output_type": "display_data"
    }
   ],
   "source": [
    "plt.figure(figsize=(12, 4))\n",
    "sns.countplot(100*usr['reg_date'].dt.year + usr['reg_date'].dt.month);"
   ]
  },
  {
   "cell_type": "markdown",
   "metadata": {},
   "source": [
    "Распределение более-менее равномерное в течение всего 2018 года. Похоже, анализировать придется поведение за 2018 год пользователей, подключившихся *в этом же году*. Выборка становится все более странной.\n",
    "\n",
    "Повторим проделанное с датой отключения."
   ]
  },
  {
   "cell_type": "code",
   "execution_count": 19,
   "metadata": {},
   "outputs": [],
   "source": [
    "usr['churn_date'] = pd.to_datetime(usr['churn_date'])"
   ]
  },
  {
   "cell_type": "code",
   "execution_count": 20,
   "metadata": {},
   "outputs": [
    {
     "data": {
      "image/png": "[encoded data removed]",
      "text/plain": [
       "<Figure size 432x288 with 1 Axes>"
      ]
     },
     "metadata": {},
     "output_type": "display_data"
    }
   ],
   "source": [
    "plt.figure(figsize=(6, 4))\n",
    "sns.countplot(100*usr['churn_date'].dt.year + usr['churn_date'].dt.month);"
   ]
  },
  {
   "cell_type": "markdown",
   "metadata": {},
   "source": [
    "Отключаться пользователи начали в августе. До декабря число отключений сильно росло, по всей видимости, просто из-за роста числа самих пользователей.\n",
    "\n",
    "Проверим, везде ли дата отключения превышает дату подключения."
   ]
  },
  {
   "cell_type": "code",
   "execution_count": 21,
   "metadata": {},
   "outputs": [
    {
     "data": {
      "text/html": [
       "<div>\n",
       "<style scoped>\n",
       "    .dataframe tbody tr th:only-of-type {\n",
       "        vertical-align: middle;\n",
       "    }\n",
       "\n",
       "    .dataframe tbody tr th {\n",
       "        vertical-align: top;\n",
       "    }\n",
       "\n",
       "    .dataframe thead th {\n",
       "        text-align: right;\n",
       "    }\n",
       "</style>\n",
       "<table border=\"1\" class=\"dataframe\">\n",
       "  <thead>\n",
       "    <tr style=\"text-align: right;\">\n",
       "      <th></th>\n",
       "      <th>user_id</th>\n",
       "      <th>age</th>\n",
       "      <th>churn_date</th>\n",
       "      <th>city</th>\n",
       "      <th>first_name</th>\n",
       "      <th>last_name</th>\n",
       "      <th>reg_date</th>\n",
       "      <th>tariff</th>\n",
       "    </tr>\n",
       "  </thead>\n",
       "  <tbody>\n",
       "  </tbody>\n",
       "</table>\n",
       "</div>"
      ],
      "text/plain": [
       "Empty DataFrame\n",
       "Columns: [user_id, age, churn_date, city, first_name, last_name, reg_date, tariff]\n",
       "Index: []"
      ]
     },
     "execution_count": 21,
     "metadata": {},
     "output_type": "execute_result"
    }
   ],
   "source": [
    "usr.query(\"churn_date <= reg_date\")"
   ]
  },
  {
   "cell_type": "markdown",
   "metadata": {},
   "source": [
    "Здесь несостыковок нет.\n",
    "\n",
    "Наконец, посмотрим на динамику числа активных пользователей.\n",
    "<a id='active_users'></a>"
   ]
  },
  {
   "cell_type": "code",
   "execution_count": 22,
   "metadata": {},
   "outputs": [
    {
     "data": {
      "image/png": "[encoded data removed]",
      "text/plain": [
       "<Figure size 432x288 with 1 Axes>"
      ]
     },
     "metadata": {},
     "output_type": "display_data"
    }
   ],
   "source": [
    "(\n",
    "    # из числа подключившихся пользователей по месяцам\n",
    "    usr.groupby(usr['reg_date'].dt.month)['reg_date'].count() \n",
    "    # вычитаем число отключившихся\n",
    "    .add(-usr.groupby(usr['churn_date'].dt.month)['churn_date'].count(), fill_value=0) \n",
    "    # и выводим накопленным итогом\n",
    "    .cumsum().plot(kind='bar') \n",
    ");"
   ]
  },
  {
   "cell_type": "markdown",
   "metadata": {},
   "source": [
    "Как и ожидалось, число активных пользователей стремительно растет в течение года. Необходимо будет учитывать это при дальнейшем анализе.\n",
    "\n",
    "Посмотрим на распределение пользоватетей по тарифам."
   ]
  },
  {
   "cell_type": "code",
   "execution_count": 23,
   "metadata": {},
   "outputs": [
    {
     "data": {
      "text/plain": [
       "smart    351\n",
       "ultra    149\n",
       "Name: tariff, dtype: int64"
      ]
     },
     "execution_count": 23,
     "metadata": {},
     "output_type": "execute_result"
    }
   ],
   "source": [
    "usr['tariff'].value_counts(dropna=False)"
   ]
  },
  {
   "cell_type": "markdown",
   "metadata": {},
   "source": [
    "Пользователей тарифа Smart вдвое больше, чем пользователей тарифа Ultra, что ожидаемо, учитывая премиальность последнего.\n",
    "\n",
    "Посмотрим на распределение пользователей по городам."
   ]
  },
  {
   "cell_type": "code",
   "execution_count": 24,
   "metadata": {},
   "outputs": [
    {
     "data": {
      "text/plain": [
       "Москва             99\n",
       "Санкт-Петербург    39\n",
       "Новосибирск        16\n",
       "Омск               14\n",
       "Казань             14\n",
       "                   ..\n",
       "Архангельск         1\n",
       "Подольск            1\n",
       "Химки               1\n",
       "Нижневартовск       1\n",
       "Иваново             1\n",
       "Name: city, Length: 76, dtype: int64"
      ]
     },
     "execution_count": 24,
     "metadata": {},
     "output_type": "execute_result"
    }
   ],
   "source": [
    "usr['city'].value_counts(dropna=False)"
   ]
  },
  {
   "cell_type": "markdown",
   "metadata": {},
   "source": [
    "Никаких сюрпризов: почти треть пользователей из Москвы и Санкт-Петербурга.\n",
    "\n",
    "Посмотрим на распределение по именам и фамилиям."
   ]
  },
  {
   "cell_type": "code",
   "execution_count": 25,
   "metadata": {},
   "outputs": [
    {
     "data": {
      "text/plain": [
       "Радим      6\n",
       "Пётр       5\n",
       "Леонид     5\n",
       "Артём      4\n",
       "Клавдия    4\n",
       "          ..\n",
       "Максим     1\n",
       "Камилла    1\n",
       "Мадина     1\n",
       "Сабина     1\n",
       "Анита      1\n",
       "Name: first_name, Length: 246, dtype: int64"
      ]
     },
     "execution_count": 25,
     "metadata": {},
     "output_type": "execute_result"
    }
   ],
   "source": [
    "usr['first_name'].value_counts(dropna=False)"
   ]
  },
  {
   "cell_type": "code",
   "execution_count": 26,
   "metadata": {},
   "outputs": [
    {
     "data": {
      "text/plain": [
       "Андреенко     5\n",
       "Озерова       3\n",
       "Анищенко      3\n",
       "Аркадьев      3\n",
       "Березина      3\n",
       "             ..\n",
       "Алексеичев    1\n",
       "Устинова      1\n",
       "Карташова     1\n",
       "Измайлова     1\n",
       "Ковалева      1\n",
       "Name: last_name, Length: 419, dtype: int64"
      ]
     },
     "execution_count": 26,
     "metadata": {},
     "output_type": "execute_result"
    }
   ],
   "source": [
    "usr['last_name'].value_counts(dropna=False)"
   ]
  },
  {
   "cell_type": "markdown",
   "metadata": {},
   "source": [
    "Подозрительно высокая вариативность имен. Их частотность тоже странная (слишком равномерная). Спишем это на не очень реалистичную генерацию имен для проекта.\n",
    "\n",
    "Даункастим все числовые столбцы в беззнаковые целочисленные, столбцы с названием тарифа и города преобразуем к категориальному типу."
   ]
  },
  {
   "cell_type": "code",
   "execution_count": 27,
   "metadata": {},
   "outputs": [],
   "source": [
    "ints = usr.select_dtypes(include=['int']).apply(pd.to_numeric, downcast='unsigned') \n",
    "usr[ints.columns] = ints\n",
    "usr['tariff'] = usr['tariff'].astype('category')\n",
    "usr['city'] = usr['city'].astype('category')"
   ]
  },
  {
   "cell_type": "code",
   "execution_count": 28,
   "metadata": {},
   "outputs": [
    {
     "name": "stdout",
     "output_type": "stream",
     "text": [
      "<class 'pandas.core.frame.DataFrame'>\n",
      "RangeIndex: 500 entries, 0 to 499\n",
      "Data columns (total 8 columns):\n",
      " #   Column      Non-Null Count  Dtype         \n",
      "---  ------      --------------  -----         \n",
      " 0   user_id     500 non-null    uint16        \n",
      " 1   age         500 non-null    uint8         \n",
      " 2   churn_date  38 non-null     datetime64[ns]\n",
      " 3   city        500 non-null    category      \n",
      " 4   first_name  500 non-null    object        \n",
      " 5   last_name   500 non-null    object        \n",
      " 6   reg_date    500 non-null    datetime64[ns]\n",
      " 7   tariff      500 non-null    category      \n",
      "dtypes: category(2), datetime64[ns](2), object(2), uint16(1), uint8(1)\n",
      "memory usage: 21.0+ KB\n"
     ]
    }
   ],
   "source": [
    "usr.info()"
   ]
  },
  {
   "cell_type": "markdown",
   "metadata": {},
   "source": [
    "### Звонки"
   ]
  },
  {
   "cell_type": "code",
   "execution_count": 29,
   "metadata": {},
   "outputs": [
    {
     "data": {
      "text/html": [
       "<div>\n",
       "<style scoped>\n",
       "    .dataframe tbody tr th:only-of-type {\n",
       "        vertical-align: middle;\n",
       "    }\n",
       "\n",
       "    .dataframe tbody tr th {\n",
       "        vertical-align: top;\n",
       "    }\n",
       "\n",
       "    .dataframe thead th {\n",
       "        text-align: right;\n",
       "    }\n",
       "</style>\n",
       "<table border=\"1\" class=\"dataframe\">\n",
       "  <thead>\n",
       "    <tr style=\"text-align: right;\">\n",
       "      <th></th>\n",
       "      <th>id</th>\n",
       "      <th>call_date</th>\n",
       "      <th>duration</th>\n",
       "      <th>user_id</th>\n",
       "    </tr>\n",
       "  </thead>\n",
       "  <tbody>\n",
       "    <tr>\n",
       "      <th>0</th>\n",
       "      <td>1000_0</td>\n",
       "      <td>2018-07-25</td>\n",
       "      <td>0.00</td>\n",
       "      <td>1000</td>\n",
       "    </tr>\n",
       "    <tr>\n",
       "      <th>1</th>\n",
       "      <td>1000_1</td>\n",
       "      <td>2018-08-17</td>\n",
       "      <td>0.00</td>\n",
       "      <td>1000</td>\n",
       "    </tr>\n",
       "    <tr>\n",
       "      <th>2</th>\n",
       "      <td>1000_2</td>\n",
       "      <td>2018-06-11</td>\n",
       "      <td>2.85</td>\n",
       "      <td>1000</td>\n",
       "    </tr>\n",
       "    <tr>\n",
       "      <th>3</th>\n",
       "      <td>1000_3</td>\n",
       "      <td>2018-09-21</td>\n",
       "      <td>13.80</td>\n",
       "      <td>1000</td>\n",
       "    </tr>\n",
       "    <tr>\n",
       "      <th>4</th>\n",
       "      <td>1000_4</td>\n",
       "      <td>2018-12-15</td>\n",
       "      <td>5.18</td>\n",
       "      <td>1000</td>\n",
       "    </tr>\n",
       "    <tr>\n",
       "      <th>...</th>\n",
       "      <td>...</td>\n",
       "      <td>...</td>\n",
       "      <td>...</td>\n",
       "      <td>...</td>\n",
       "    </tr>\n",
       "    <tr>\n",
       "      <th>202602</th>\n",
       "      <td>1499_215</td>\n",
       "      <td>2018-12-26</td>\n",
       "      <td>0.76</td>\n",
       "      <td>1499</td>\n",
       "    </tr>\n",
       "    <tr>\n",
       "      <th>202603</th>\n",
       "      <td>1499_216</td>\n",
       "      <td>2018-10-18</td>\n",
       "      <td>18.83</td>\n",
       "      <td>1499</td>\n",
       "    </tr>\n",
       "    <tr>\n",
       "      <th>202604</th>\n",
       "      <td>1499_217</td>\n",
       "      <td>2018-11-10</td>\n",
       "      <td>10.81</td>\n",
       "      <td>1499</td>\n",
       "    </tr>\n",
       "    <tr>\n",
       "      <th>202605</th>\n",
       "      <td>1499_218</td>\n",
       "      <td>2018-10-06</td>\n",
       "      <td>4.27</td>\n",
       "      <td>1499</td>\n",
       "    </tr>\n",
       "    <tr>\n",
       "      <th>202606</th>\n",
       "      <td>1499_219</td>\n",
       "      <td>2018-12-14</td>\n",
       "      <td>19.62</td>\n",
       "      <td>1499</td>\n",
       "    </tr>\n",
       "  </tbody>\n",
       "</table>\n",
       "<p>202607 rows × 4 columns</p>\n",
       "</div>"
      ],
      "text/plain": [
       "              id   call_date  duration  user_id\n",
       "0         1000_0  2018-07-25      0.00     1000\n",
       "1         1000_1  2018-08-17      0.00     1000\n",
       "2         1000_2  2018-06-11      2.85     1000\n",
       "3         1000_3  2018-09-21     13.80     1000\n",
       "4         1000_4  2018-12-15      5.18     1000\n",
       "...          ...         ...       ...      ...\n",
       "202602  1499_215  2018-12-26      0.76     1499\n",
       "202603  1499_216  2018-10-18     18.83     1499\n",
       "202604  1499_217  2018-11-10     10.81     1499\n",
       "202605  1499_218  2018-10-06      4.27     1499\n",
       "202606  1499_219  2018-12-14     19.62     1499\n",
       "\n",
       "[202607 rows x 4 columns]"
      ]
     },
     "execution_count": 29,
     "metadata": {},
     "output_type": "execute_result"
    }
   ],
   "source": [
    "cls"
   ]
  },
  {
   "cell_type": "code",
   "execution_count": 30,
   "metadata": {},
   "outputs": [
    {
     "name": "stdout",
     "output_type": "stream",
     "text": [
      "<class 'pandas.core.frame.DataFrame'>\n",
      "RangeIndex: 202607 entries, 0 to 202606\n",
      "Data columns (total 4 columns):\n",
      " #   Column     Non-Null Count   Dtype  \n",
      "---  ------     --------------   -----  \n",
      " 0   id         202607 non-null  object \n",
      " 1   call_date  202607 non-null  object \n",
      " 2   duration   202607 non-null  float64\n",
      " 3   user_id    202607 non-null  int64  \n",
      "dtypes: float64(1), int64(1), object(2)\n",
      "memory usage: 6.2+ MB\n"
     ]
    }
   ],
   "source": [
    "cls.info()"
   ]
  },
  {
   "cell_type": "markdown",
   "metadata": {},
   "source": [
    "Проверим таблицу на наличие полных дублей."
   ]
  },
  {
   "cell_type": "code",
   "execution_count": 31,
   "metadata": {},
   "outputs": [
    {
     "data": {
      "text/plain": [
       "0"
      ]
     },
     "execution_count": 31,
     "metadata": {},
     "output_type": "execute_result"
    }
   ],
   "source": [
    "cls.duplicated().sum()"
   ]
  },
  {
   "cell_type": "markdown",
   "metadata": {},
   "source": [
    "Дублей нет.\n",
    "\n",
    "Приведем дату звонка к типу `datetime`, продолжительность звонка – к минимальному типу `float`, а id пользователя – к минимальному беззнаковому целочисленному типу."
   ]
  },
  {
   "cell_type": "code",
   "execution_count": 32,
   "metadata": {},
   "outputs": [],
   "source": [
    "cls['call_date'] = pd.to_datetime(cls['call_date'])"
   ]
  },
  {
   "cell_type": "code",
   "execution_count": 33,
   "metadata": {},
   "outputs": [],
   "source": [
    "cls['duration'] = pd.to_numeric(cls['duration'], downcast='float')"
   ]
  },
  {
   "cell_type": "code",
   "execution_count": 34,
   "metadata": {},
   "outputs": [],
   "source": [
    "cls['user_id'] = pd.to_numeric(cls['user_id'], downcast='unsigned')"
   ]
  },
  {
   "cell_type": "markdown",
   "metadata": {},
   "source": [
    "Посмотрим, все ли 500 пользователей из таблицы `usr` есть в таблице `cls`."
   ]
  },
  {
   "cell_type": "code",
   "execution_count": 35,
   "metadata": {},
   "outputs": [
    {
     "data": {
      "text/plain": [
       "0      1000\n",
       "1      1001\n",
       "2      1002\n",
       "3      1003\n",
       "4      1004\n",
       "       ... \n",
       "487    1495\n",
       "488    1496\n",
       "489    1497\n",
       "490    1498\n",
       "491    1499\n",
       "Length: 492, dtype: uint16"
      ]
     },
     "execution_count": 35,
     "metadata": {},
     "output_type": "execute_result"
    }
   ],
   "source": [
    "pd.Series(cls['user_id'].unique())"
   ]
  },
  {
   "cell_type": "markdown",
   "metadata": {},
   "source": [
    "Восьмерых нет. Видимо, они не звонят.\n",
    "\n",
    "Проверим таблицы `cls` и `usr` на согласованность: нет ли звонков в дни, когда пользователь был неактивен."
   ]
  },
  {
   "cell_type": "code",
   "execution_count": 36,
   "metadata": {},
   "outputs": [
    {
     "data": {
      "text/html": [
       "<div>\n",
       "<style scoped>\n",
       "    .dataframe tbody tr th:only-of-type {\n",
       "        vertical-align: middle;\n",
       "    }\n",
       "\n",
       "    .dataframe tbody tr th {\n",
       "        vertical-align: top;\n",
       "    }\n",
       "\n",
       "    .dataframe thead th {\n",
       "        text-align: right;\n",
       "    }\n",
       "</style>\n",
       "<table border=\"1\" class=\"dataframe\">\n",
       "  <thead>\n",
       "    <tr style=\"text-align: right;\">\n",
       "      <th></th>\n",
       "      <th>min_date</th>\n",
       "      <th>max_date</th>\n",
       "      <th>age</th>\n",
       "      <th>churn_date</th>\n",
       "      <th>city</th>\n",
       "      <th>first_name</th>\n",
       "      <th>last_name</th>\n",
       "      <th>reg_date</th>\n",
       "      <th>tariff</th>\n",
       "    </tr>\n",
       "    <tr>\n",
       "      <th>user_id</th>\n",
       "      <th></th>\n",
       "      <th></th>\n",
       "      <th></th>\n",
       "      <th></th>\n",
       "      <th></th>\n",
       "      <th></th>\n",
       "      <th></th>\n",
       "      <th></th>\n",
       "      <th></th>\n",
       "    </tr>\n",
       "  </thead>\n",
       "  <tbody>\n",
       "  </tbody>\n",
       "</table>\n",
       "</div>"
      ],
      "text/plain": [
       "Empty DataFrame\n",
       "Columns: [min_date, max_date, age, churn_date, city, first_name, last_name, reg_date, tariff]\n",
       "Index: []"
      ]
     },
     "execution_count": 36,
     "metadata": {},
     "output_type": "execute_result"
    }
   ],
   "source": [
    "(\n",
    "    # для каждого пользователя считаем даты первого и последнего звонка\n",
    "    cls.groupby('user_id').agg(min_date=('call_date', 'min'), max_date=('call_date', 'max'))\n",
    "    # джойним таблицу пользователей\n",
    "    .join(usr.set_index('user_id'))\n",
    "    # выводим пользователей, которые звонили, будучи неподключенными\n",
    "    .query(\"min_date < reg_date or max_date < reg_date or min_date > churn_date or max_date > churn_date\")\n",
    ")"
   ]
  },
  {
   "cell_type": "markdown",
   "metadata": {},
   "source": [
    "Несогласованностей нет.\n",
    "\n",
    "Посмотрим, как по месяцам распределено число звонков."
   ]
  },
  {
   "cell_type": "code",
   "execution_count": 37,
   "metadata": {},
   "outputs": [
    {
     "data": {
      "image/png": "[encoded data removed]",
      "text/plain": [
       "<Figure size 864x288 with 1 Axes>"
      ]
     },
     "metadata": {},
     "output_type": "display_data"
    }
   ],
   "source": [
    "plt.figure(figsize=(12, 4))\n",
    "sns.countplot(100*cls['call_date'].dt.year + cls['call_date'].dt.month);"
   ]
  },
  {
   "cell_type": "markdown",
   "metadata": {},
   "source": [
    "Число звонков стремительно растет. Но, помня, что не менее стремительно растет и [число активных пользоватетей](#active_users), посмотрим на динамику среднего числа звонков на одного пользователя."
   ]
  },
  {
   "cell_type": "code",
   "execution_count": 38,
   "metadata": {},
   "outputs": [
    {
     "data": {
      "image/png": "[encoded data removed]",
      "text/plain": [
       "<Figure size 432x288 with 1 Axes>"
      ]
     },
     "metadata": {},
     "output_type": "display_data"
    }
   ],
   "source": [
    "(\n",
    "    cls.groupby(cls['call_date'].dt.month)['id'].count() # число звонков помесячно\n",
    "    / cls.groupby(cls['call_date'].dt.month)['user_id'].nunique() # делим на число звонивших пользователей\n",
    ").plot(kind='bar');"
   ]
  },
  {
   "cell_type": "markdown",
   "metadata": {},
   "source": [
    "В среднем два звонка в день б*о*льшую часть года с небольшой положительной динамикой – реалистично. \n",
    "\n",
    "Посмотрим на распределение продолжительности звонка."
   ]
  },
  {
   "cell_type": "code",
   "execution_count": 39,
   "metadata": {},
   "outputs": [
    {
     "data": {
      "image/png": "[encoded data removed]",
      "text/plain": [
       "<Figure size 432x288 with 1 Axes>"
      ]
     },
     "metadata": {},
     "output_type": "display_data"
    }
   ],
   "source": [
    "cls['duration'].hist(bins=40, edgecolor='k');"
   ]
  },
  {
   "cell_type": "code",
   "execution_count": 40,
   "metadata": {},
   "outputs": [
    {
     "data": {
      "image/png": "[encoded data removed]",
      "text/plain": [
       "<Figure size 432x288 with 1 Axes>"
      ]
     },
     "metadata": {},
     "output_type": "display_data"
    }
   ],
   "source": [
    "cls.query(\"duration != 0\")['duration'].hist(bins=40, edgecolor='k');"
   ]
  },
  {
   "cell_type": "code",
   "execution_count": 41,
   "metadata": {},
   "outputs": [
    {
     "data": {
      "text/plain": [
       "count    202607.000000\n",
       "mean          6.755887\n",
       "std           5.843365\n",
       "min           0.000000\n",
       "25%           1.300000\n",
       "50%           6.000000\n",
       "75%          10.700000\n",
       "max          38.000000\n",
       "Name: duration, dtype: float64"
      ]
     },
     "execution_count": 41,
     "metadata": {},
     "output_type": "execute_result"
    }
   ],
   "source": [
    "cls['duration'].describe()"
   ]
  },
  {
   "cell_type": "markdown",
   "metadata": {},
   "source": [
    "Если не считать звонков с нулевой продолжительностью (пропущенные), распределение очень похоже на обрезанное нормальное с модой около шести минут. Вместе с пропущенными звонками средняя продолжительность около семи минут. Многовато, но будем считать, что похоже на правду.\n",
    "\n",
    "Посчитаем среднюю продолжительность звонка по месяцам."
   ]
  },
  {
   "cell_type": "code",
   "execution_count": 42,
   "metadata": {
    "scrolled": true
   },
   "outputs": [
    {
     "data": {
      "image/png": "[encoded data removed]",
      "text/plain": [
       "<Figure size 432x288 with 1 Axes>"
      ]
     },
     "metadata": {},
     "output_type": "display_data"
    }
   ],
   "source": [
    "(\n",
    "    cls.groupby(cls['call_date'].dt.month)['duration'].sum() # суммарную продолжительность помесячно\n",
    "    / cls.groupby(cls['call_date'].dt.month)['id'].count() # делим на число звонков \n",
    ").plot(kind='bar');"
   ]
  },
  {
   "cell_type": "markdown",
   "metadata": {},
   "source": [
    "Просто нечеловеческая стабильность. "
   ]
  },
  {
   "cell_type": "markdown",
   "metadata": {},
   "source": [
    "### Сообщения"
   ]
  },
  {
   "cell_type": "code",
   "execution_count": 43,
   "metadata": {},
   "outputs": [
    {
     "data": {
      "text/html": [
       "<div>\n",
       "<style scoped>\n",
       "    .dataframe tbody tr th:only-of-type {\n",
       "        vertical-align: middle;\n",
       "    }\n",
       "\n",
       "    .dataframe tbody tr th {\n",
       "        vertical-align: top;\n",
       "    }\n",
       "\n",
       "    .dataframe thead th {\n",
       "        text-align: right;\n",
       "    }\n",
       "</style>\n",
       "<table border=\"1\" class=\"dataframe\">\n",
       "  <thead>\n",
       "    <tr style=\"text-align: right;\">\n",
       "      <th></th>\n",
       "      <th>id</th>\n",
       "      <th>message_date</th>\n",
       "      <th>user_id</th>\n",
       "    </tr>\n",
       "  </thead>\n",
       "  <tbody>\n",
       "    <tr>\n",
       "      <th>0</th>\n",
       "      <td>1000_0</td>\n",
       "      <td>2018-06-27</td>\n",
       "      <td>1000</td>\n",
       "    </tr>\n",
       "    <tr>\n",
       "      <th>1</th>\n",
       "      <td>1000_1</td>\n",
       "      <td>2018-10-08</td>\n",
       "      <td>1000</td>\n",
       "    </tr>\n",
       "    <tr>\n",
       "      <th>2</th>\n",
       "      <td>1000_2</td>\n",
       "      <td>2018-08-04</td>\n",
       "      <td>1000</td>\n",
       "    </tr>\n",
       "    <tr>\n",
       "      <th>3</th>\n",
       "      <td>1000_3</td>\n",
       "      <td>2018-06-16</td>\n",
       "      <td>1000</td>\n",
       "    </tr>\n",
       "    <tr>\n",
       "      <th>4</th>\n",
       "      <td>1000_4</td>\n",
       "      <td>2018-12-05</td>\n",
       "      <td>1000</td>\n",
       "    </tr>\n",
       "    <tr>\n",
       "      <th>...</th>\n",
       "      <td>...</td>\n",
       "      <td>...</td>\n",
       "      <td>...</td>\n",
       "    </tr>\n",
       "    <tr>\n",
       "      <th>123031</th>\n",
       "      <td>1499_179</td>\n",
       "      <td>2018-12-12</td>\n",
       "      <td>1499</td>\n",
       "    </tr>\n",
       "    <tr>\n",
       "      <th>123032</th>\n",
       "      <td>1499_180</td>\n",
       "      <td>2018-09-28</td>\n",
       "      <td>1499</td>\n",
       "    </tr>\n",
       "    <tr>\n",
       "      <th>123033</th>\n",
       "      <td>1499_181</td>\n",
       "      <td>2018-09-27</td>\n",
       "      <td>1499</td>\n",
       "    </tr>\n",
       "    <tr>\n",
       "      <th>123034</th>\n",
       "      <td>1499_182</td>\n",
       "      <td>2018-11-15</td>\n",
       "      <td>1499</td>\n",
       "    </tr>\n",
       "    <tr>\n",
       "      <th>123035</th>\n",
       "      <td>1499_183</td>\n",
       "      <td>2018-11-16</td>\n",
       "      <td>1499</td>\n",
       "    </tr>\n",
       "  </tbody>\n",
       "</table>\n",
       "<p>123036 rows × 3 columns</p>\n",
       "</div>"
      ],
      "text/plain": [
       "              id message_date  user_id\n",
       "0         1000_0   2018-06-27     1000\n",
       "1         1000_1   2018-10-08     1000\n",
       "2         1000_2   2018-08-04     1000\n",
       "3         1000_3   2018-06-16     1000\n",
       "4         1000_4   2018-12-05     1000\n",
       "...          ...          ...      ...\n",
       "123031  1499_179   2018-12-12     1499\n",
       "123032  1499_180   2018-09-28     1499\n",
       "123033  1499_181   2018-09-27     1499\n",
       "123034  1499_182   2018-11-15     1499\n",
       "123035  1499_183   2018-11-16     1499\n",
       "\n",
       "[123036 rows x 3 columns]"
      ]
     },
     "execution_count": 43,
     "metadata": {},
     "output_type": "execute_result"
    }
   ],
   "source": [
    "msg"
   ]
  },
  {
   "cell_type": "code",
   "execution_count": 44,
   "metadata": {},
   "outputs": [
    {
     "name": "stdout",
     "output_type": "stream",
     "text": [
      "<class 'pandas.core.frame.DataFrame'>\n",
      "RangeIndex: 123036 entries, 0 to 123035\n",
      "Data columns (total 3 columns):\n",
      " #   Column        Non-Null Count   Dtype \n",
      "---  ------        --------------   ----- \n",
      " 0   id            123036 non-null  object\n",
      " 1   message_date  123036 non-null  object\n",
      " 2   user_id       123036 non-null  int64 \n",
      "dtypes: int64(1), object(2)\n",
      "memory usage: 2.8+ MB\n"
     ]
    }
   ],
   "source": [
    "msg.info()"
   ]
  },
  {
   "cell_type": "markdown",
   "metadata": {},
   "source": [
    "Проверим таблицу на наличие полных дублей."
   ]
  },
  {
   "cell_type": "code",
   "execution_count": 45,
   "metadata": {},
   "outputs": [
    {
     "data": {
      "text/plain": [
       "0"
      ]
     },
     "execution_count": 45,
     "metadata": {},
     "output_type": "execute_result"
    }
   ],
   "source": [
    "msg.duplicated().sum()"
   ]
  },
  {
   "cell_type": "markdown",
   "metadata": {},
   "source": [
    "Дублей нет.\n",
    "\n",
    "Приведем дату сообщения к типу `datetime`, а id пользователя – к минимальному беззнаковому целочисленному типу."
   ]
  },
  {
   "cell_type": "code",
   "execution_count": 46,
   "metadata": {},
   "outputs": [],
   "source": [
    "msg['message_date'] = pd.to_datetime(msg['message_date'])"
   ]
  },
  {
   "cell_type": "code",
   "execution_count": 47,
   "metadata": {},
   "outputs": [],
   "source": [
    "msg['user_id'] = pd.to_numeric(msg['user_id'], downcast='unsigned')"
   ]
  },
  {
   "cell_type": "markdown",
   "metadata": {},
   "source": [
    "Посмотрим, все ли 500 пользователей из таблицы `usr` есть в таблице `msg`."
   ]
  },
  {
   "cell_type": "code",
   "execution_count": 48,
   "metadata": {},
   "outputs": [
    {
     "data": {
      "text/plain": [
       "0      1000\n",
       "1      1002\n",
       "2      1003\n",
       "3      1004\n",
       "4      1005\n",
       "       ... \n",
       "421    1495\n",
       "422    1496\n",
       "423    1497\n",
       "424    1498\n",
       "425    1499\n",
       "Length: 426, dtype: uint16"
      ]
     },
     "execution_count": 48,
     "metadata": {},
     "output_type": "execute_result"
    }
   ],
   "source": [
    "pd.Series(msg['user_id'].unique())"
   ]
  },
  {
   "cell_type": "markdown",
   "metadata": {},
   "source": [
    "Похоже, что 74 пользователя не пишут СМС.\n",
    "\n",
    "Проверим таблицы `msg` и `usr` на согласованность: нет ли СМС в дни, когда пользователь был неактивен."
   ]
  },
  {
   "cell_type": "code",
   "execution_count": 49,
   "metadata": {},
   "outputs": [
    {
     "data": {
      "text/html": [
       "<div>\n",
       "<style scoped>\n",
       "    .dataframe tbody tr th:only-of-type {\n",
       "        vertical-align: middle;\n",
       "    }\n",
       "\n",
       "    .dataframe tbody tr th {\n",
       "        vertical-align: top;\n",
       "    }\n",
       "\n",
       "    .dataframe thead th {\n",
       "        text-align: right;\n",
       "    }\n",
       "</style>\n",
       "<table border=\"1\" class=\"dataframe\">\n",
       "  <thead>\n",
       "    <tr style=\"text-align: right;\">\n",
       "      <th></th>\n",
       "      <th>min_date</th>\n",
       "      <th>max_date</th>\n",
       "      <th>age</th>\n",
       "      <th>churn_date</th>\n",
       "      <th>city</th>\n",
       "      <th>first_name</th>\n",
       "      <th>last_name</th>\n",
       "      <th>reg_date</th>\n",
       "      <th>tariff</th>\n",
       "    </tr>\n",
       "    <tr>\n",
       "      <th>user_id</th>\n",
       "      <th></th>\n",
       "      <th></th>\n",
       "      <th></th>\n",
       "      <th></th>\n",
       "      <th></th>\n",
       "      <th></th>\n",
       "      <th></th>\n",
       "      <th></th>\n",
       "      <th></th>\n",
       "    </tr>\n",
       "  </thead>\n",
       "  <tbody>\n",
       "  </tbody>\n",
       "</table>\n",
       "</div>"
      ],
      "text/plain": [
       "Empty DataFrame\n",
       "Columns: [min_date, max_date, age, churn_date, city, first_name, last_name, reg_date, tariff]\n",
       "Index: []"
      ]
     },
     "execution_count": 49,
     "metadata": {},
     "output_type": "execute_result"
    }
   ],
   "source": [
    "(\n",
    "    # для каждого пользователя считаем даты первой и последней СМС\n",
    "    msg.groupby('user_id').agg(min_date=('message_date', 'min'), max_date=('message_date', 'max'))\n",
    "    # джойним таблицу пользователей\n",
    "    .join(usr.set_index('user_id'))\n",
    "    # выводим пользователей, которые СМСили, будучи неподключенными\n",
    "    .query(\"min_date < reg_date or max_date < reg_date or min_date > churn_date or max_date > churn_date\")\n",
    ")"
   ]
  },
  {
   "cell_type": "markdown",
   "metadata": {},
   "source": [
    "Несогласованностей нет.\n",
    "\n",
    "Посмотрим, как по месяцам распределено число сообщений."
   ]
  },
  {
   "cell_type": "code",
   "execution_count": 50,
   "metadata": {},
   "outputs": [
    {
     "data": {
      "image/png": "[encoded data removed]",
      "text/plain": [
       "<Figure size 864x288 with 1 Axes>"
      ]
     },
     "metadata": {},
     "output_type": "display_data"
    }
   ],
   "source": [
    "plt.figure(figsize=(12, 4))\n",
    "sns.countplot(100*msg['message_date'].dt.year + msg['message_date'].dt.month);"
   ]
  },
  {
   "cell_type": "markdown",
   "metadata": {},
   "source": [
    "Число СМС стремительно растет. Но, снова вспомнив [динамику числа активных пользоватетей](#active_users), посмотрим лучше на динамику среднего числа СМС на одного пользователя."
   ]
  },
  {
   "cell_type": "code",
   "execution_count": 51,
   "metadata": {},
   "outputs": [
    {
     "data": {
      "image/png": "[encoded data removed]",
      "text/plain": [
       "<Figure size 432x288 with 1 Axes>"
      ]
     },
     "metadata": {},
     "output_type": "display_data"
    }
   ],
   "source": [
    "(\n",
    "    msg.groupby(msg['message_date'].dt.month)['id'].count() # число СМС помесячно\n",
    "    / msg.groupby(msg['message_date'].dt.month)['user_id'].nunique() # делим на число СМСящих пользователей\n",
    ").plot(kind='bar');"
   ]
  },
  {
   "cell_type": "markdown",
   "metadata": {},
   "source": [
    "В среднем полтора сообщения в день с небольшой положительной динамикой в течение года – снова реалистично."
   ]
  },
  {
   "cell_type": "markdown",
   "metadata": {},
   "source": [
    "### Интернет"
   ]
  },
  {
   "cell_type": "code",
   "execution_count": 52,
   "metadata": {},
   "outputs": [
    {
     "data": {
      "text/html": [
       "<div>\n",
       "<style scoped>\n",
       "    .dataframe tbody tr th:only-of-type {\n",
       "        vertical-align: middle;\n",
       "    }\n",
       "\n",
       "    .dataframe tbody tr th {\n",
       "        vertical-align: top;\n",
       "    }\n",
       "\n",
       "    .dataframe thead th {\n",
       "        text-align: right;\n",
       "    }\n",
       "</style>\n",
       "<table border=\"1\" class=\"dataframe\">\n",
       "  <thead>\n",
       "    <tr style=\"text-align: right;\">\n",
       "      <th></th>\n",
       "      <th>Unnamed: 0</th>\n",
       "      <th>id</th>\n",
       "      <th>mb_used</th>\n",
       "      <th>session_date</th>\n",
       "      <th>user_id</th>\n",
       "    </tr>\n",
       "  </thead>\n",
       "  <tbody>\n",
       "    <tr>\n",
       "      <th>0</th>\n",
       "      <td>0</td>\n",
       "      <td>1000_0</td>\n",
       "      <td>112.95</td>\n",
       "      <td>2018-11-25</td>\n",
       "      <td>1000</td>\n",
       "    </tr>\n",
       "    <tr>\n",
       "      <th>1</th>\n",
       "      <td>1</td>\n",
       "      <td>1000_1</td>\n",
       "      <td>1052.81</td>\n",
       "      <td>2018-09-07</td>\n",
       "      <td>1000</td>\n",
       "    </tr>\n",
       "    <tr>\n",
       "      <th>2</th>\n",
       "      <td>2</td>\n",
       "      <td>1000_2</td>\n",
       "      <td>1197.26</td>\n",
       "      <td>2018-06-25</td>\n",
       "      <td>1000</td>\n",
       "    </tr>\n",
       "    <tr>\n",
       "      <th>3</th>\n",
       "      <td>3</td>\n",
       "      <td>1000_3</td>\n",
       "      <td>550.27</td>\n",
       "      <td>2018-08-22</td>\n",
       "      <td>1000</td>\n",
       "    </tr>\n",
       "    <tr>\n",
       "      <th>4</th>\n",
       "      <td>4</td>\n",
       "      <td>1000_4</td>\n",
       "      <td>302.56</td>\n",
       "      <td>2018-09-24</td>\n",
       "      <td>1000</td>\n",
       "    </tr>\n",
       "    <tr>\n",
       "      <th>...</th>\n",
       "      <td>...</td>\n",
       "      <td>...</td>\n",
       "      <td>...</td>\n",
       "      <td>...</td>\n",
       "      <td>...</td>\n",
       "    </tr>\n",
       "    <tr>\n",
       "      <th>149391</th>\n",
       "      <td>149391</td>\n",
       "      <td>1499_152</td>\n",
       "      <td>318.90</td>\n",
       "      <td>2018-10-03</td>\n",
       "      <td>1499</td>\n",
       "    </tr>\n",
       "    <tr>\n",
       "      <th>149392</th>\n",
       "      <td>149392</td>\n",
       "      <td>1499_153</td>\n",
       "      <td>490.13</td>\n",
       "      <td>2018-12-14</td>\n",
       "      <td>1499</td>\n",
       "    </tr>\n",
       "    <tr>\n",
       "      <th>149393</th>\n",
       "      <td>149393</td>\n",
       "      <td>1499_154</td>\n",
       "      <td>0.00</td>\n",
       "      <td>2018-10-27</td>\n",
       "      <td>1499</td>\n",
       "    </tr>\n",
       "    <tr>\n",
       "      <th>149394</th>\n",
       "      <td>149394</td>\n",
       "      <td>1499_155</td>\n",
       "      <td>1246.32</td>\n",
       "      <td>2018-11-26</td>\n",
       "      <td>1499</td>\n",
       "    </tr>\n",
       "    <tr>\n",
       "      <th>149395</th>\n",
       "      <td>149395</td>\n",
       "      <td>1499_156</td>\n",
       "      <td>544.37</td>\n",
       "      <td>2018-10-26</td>\n",
       "      <td>1499</td>\n",
       "    </tr>\n",
       "  </tbody>\n",
       "</table>\n",
       "<p>149396 rows × 5 columns</p>\n",
       "</div>"
      ],
      "text/plain": [
       "        Unnamed: 0        id  mb_used session_date  user_id\n",
       "0                0    1000_0   112.95   2018-11-25     1000\n",
       "1                1    1000_1  1052.81   2018-09-07     1000\n",
       "2                2    1000_2  1197.26   2018-06-25     1000\n",
       "3                3    1000_3   550.27   2018-08-22     1000\n",
       "4                4    1000_4   302.56   2018-09-24     1000\n",
       "...            ...       ...      ...          ...      ...\n",
       "149391      149391  1499_152   318.90   2018-10-03     1499\n",
       "149392      149392  1499_153   490.13   2018-12-14     1499\n",
       "149393      149393  1499_154     0.00   2018-10-27     1499\n",
       "149394      149394  1499_155  1246.32   2018-11-26     1499\n",
       "149395      149395  1499_156   544.37   2018-10-26     1499\n",
       "\n",
       "[149396 rows x 5 columns]"
      ]
     },
     "execution_count": 52,
     "metadata": {},
     "output_type": "execute_result"
    }
   ],
   "source": [
    "www"
   ]
  },
  {
   "cell_type": "code",
   "execution_count": 53,
   "metadata": {},
   "outputs": [
    {
     "name": "stdout",
     "output_type": "stream",
     "text": [
      "<class 'pandas.core.frame.DataFrame'>\n",
      "RangeIndex: 149396 entries, 0 to 149395\n",
      "Data columns (total 5 columns):\n",
      " #   Column        Non-Null Count   Dtype  \n",
      "---  ------        --------------   -----  \n",
      " 0   Unnamed: 0    149396 non-null  int64  \n",
      " 1   id            149396 non-null  object \n",
      " 2   mb_used       149396 non-null  float64\n",
      " 3   session_date  149396 non-null  object \n",
      " 4   user_id       149396 non-null  int64  \n",
      "dtypes: float64(1), int64(2), object(2)\n",
      "memory usage: 5.7+ MB\n"
     ]
    }
   ],
   "source": [
    "www.info()"
   ]
  },
  {
   "cell_type": "markdown",
   "metadata": {},
   "source": [
    "Удалим дублирующий индекс столбец."
   ]
  },
  {
   "cell_type": "code",
   "execution_count": 54,
   "metadata": {},
   "outputs": [],
   "source": [
    "www = www.drop('Unnamed: 0', axis=1)"
   ]
  },
  {
   "cell_type": "markdown",
   "metadata": {},
   "source": [
    "Проверим таблицу на наличие полных дублей."
   ]
  },
  {
   "cell_type": "code",
   "execution_count": 55,
   "metadata": {},
   "outputs": [
    {
     "data": {
      "text/plain": [
       "0"
      ]
     },
     "execution_count": 55,
     "metadata": {},
     "output_type": "execute_result"
    }
   ],
   "source": [
    "www.duplicated().sum()"
   ]
  },
  {
   "cell_type": "markdown",
   "metadata": {},
   "source": [
    "Дублей нет.\n",
    "\n",
    "Приведем дату сессии к типу `datetime`, объем трафика – к минимальному типу `float`, а id пользователя – к минимальному беззнаковому целочисленному типу."
   ]
  },
  {
   "cell_type": "code",
   "execution_count": 56,
   "metadata": {},
   "outputs": [],
   "source": [
    "www['session_date'] = pd.to_datetime(www['session_date'])"
   ]
  },
  {
   "cell_type": "code",
   "execution_count": 57,
   "metadata": {},
   "outputs": [],
   "source": [
    "www['mb_used'] = pd.to_numeric(www['mb_used'], downcast='float')"
   ]
  },
  {
   "cell_type": "code",
   "execution_count": 58,
   "metadata": {},
   "outputs": [],
   "source": [
    "www['user_id'] = pd.to_numeric(www['user_id'], downcast='unsigned')"
   ]
  },
  {
   "cell_type": "markdown",
   "metadata": {},
   "source": [
    "Посмотрим, все ли 500 пользователей из таблицы `usr` есть в таблице `www`."
   ]
  },
  {
   "cell_type": "code",
   "execution_count": 59,
   "metadata": {},
   "outputs": [
    {
     "data": {
      "text/plain": [
       "0      1000\n",
       "1      1001\n",
       "2      1002\n",
       "3      1003\n",
       "4      1004\n",
       "       ... \n",
       "492    1495\n",
       "493    1496\n",
       "494    1497\n",
       "495    1498\n",
       "496    1499\n",
       "Length: 497, dtype: uint16"
      ]
     },
     "execution_count": 59,
     "metadata": {},
     "output_type": "execute_result"
    }
   ],
   "source": [
    "pd.Series(www['user_id'].unique())"
   ]
  },
  {
   "cell_type": "markdown",
   "metadata": {},
   "source": [
    "Не хватает всего троих, не пользующихся мобильным интернетом.\n",
    "\n",
    "Проверим таблицы `www` и `usr` на согласованность: нет ли сессий в дни, когда пользователь был неактивен."
   ]
  },
  {
   "cell_type": "code",
   "execution_count": 60,
   "metadata": {},
   "outputs": [
    {
     "data": {
      "text/html": [
       "<div>\n",
       "<style scoped>\n",
       "    .dataframe tbody tr th:only-of-type {\n",
       "        vertical-align: middle;\n",
       "    }\n",
       "\n",
       "    .dataframe tbody tr th {\n",
       "        vertical-align: top;\n",
       "    }\n",
       "\n",
       "    .dataframe thead th {\n",
       "        text-align: right;\n",
       "    }\n",
       "</style>\n",
       "<table border=\"1\" class=\"dataframe\">\n",
       "  <thead>\n",
       "    <tr style=\"text-align: right;\">\n",
       "      <th></th>\n",
       "      <th>min_date</th>\n",
       "      <th>max_date</th>\n",
       "      <th>age</th>\n",
       "      <th>churn_date</th>\n",
       "      <th>city</th>\n",
       "      <th>first_name</th>\n",
       "      <th>last_name</th>\n",
       "      <th>reg_date</th>\n",
       "      <th>tariff</th>\n",
       "    </tr>\n",
       "    <tr>\n",
       "      <th>user_id</th>\n",
       "      <th></th>\n",
       "      <th></th>\n",
       "      <th></th>\n",
       "      <th></th>\n",
       "      <th></th>\n",
       "      <th></th>\n",
       "      <th></th>\n",
       "      <th></th>\n",
       "      <th></th>\n",
       "    </tr>\n",
       "  </thead>\n",
       "  <tbody>\n",
       "  </tbody>\n",
       "</table>\n",
       "</div>"
      ],
      "text/plain": [
       "Empty DataFrame\n",
       "Columns: [min_date, max_date, age, churn_date, city, first_name, last_name, reg_date, tariff]\n",
       "Index: []"
      ]
     },
     "execution_count": 60,
     "metadata": {},
     "output_type": "execute_result"
    }
   ],
   "source": [
    "(\n",
    "    # для каждого пользователя считаем даты первой и последней сессии\n",
    "    www.groupby('user_id').agg(min_date=('session_date', 'min'), max_date=('session_date', 'max'))\n",
    "    # джойним таблицу пользователей\n",
    "    .join(usr.set_index('user_id'))\n",
    "    # выводим пользователей, которые серфили, будучи неподключенными\n",
    "    .query(\"min_date < reg_date or max_date < reg_date or min_date > churn_date or max_date > churn_date\")\n",
    ")"
   ]
  },
  {
   "cell_type": "markdown",
   "metadata": {},
   "source": [
    "Несогласованностей нет.\n",
    "\n",
    "Посмотрим, как по месяцам распределено число сессий."
   ]
  },
  {
   "cell_type": "code",
   "execution_count": 61,
   "metadata": {},
   "outputs": [
    {
     "data": {
      "image/png": "[encoded data removed]",
      "text/plain": [
       "<Figure size 864x288 with 1 Axes>"
      ]
     },
     "metadata": {},
     "output_type": "display_data"
    }
   ],
   "source": [
    "plt.figure(figsize=(12, 4))\n",
    "sns.countplot(100*www['session_date'].dt.year + www['session_date'].dt.month);"
   ]
  },
  {
   "cell_type": "markdown",
   "metadata": {},
   "source": [
    "Число сессий, ожидаемо, бодро растет из-за роста [числа активных пользоватетей](#active_users). Посмотрим на динамику среднего числа сессий на одного пользователя."
   ]
  },
  {
   "cell_type": "code",
   "execution_count": 62,
   "metadata": {},
   "outputs": [
    {
     "data": {
      "image/png": "[encoded data removed]",
      "text/plain": [
       "<Figure size 432x288 with 1 Axes>"
      ]
     },
     "metadata": {},
     "output_type": "display_data"
    }
   ],
   "source": [
    "(\n",
    "    www.groupby(www['session_date'].dt.month)['id'].count() # число сессий помесячно\n",
    "    / www.groupby(www['session_date'].dt.month)['user_id'].nunique() # делим на число выходивших в интернет пользователей\n",
    ").plot(kind='bar');"
   ]
  },
  {
   "cell_type": "markdown",
   "metadata": {},
   "source": [
    "До боли знакомый график: в среднем полторы сессии в день с небольшой положительной динамикой в течение года, ровно как и у числа СМС – не очень реалистично. \n",
    "\n",
    "Посмотрим на распределение объема трафика."
   ]
  },
  {
   "cell_type": "code",
   "execution_count": 63,
   "metadata": {},
   "outputs": [
    {
     "data": {
      "image/png": "[encoded data removed]",
      "text/plain": [
       "<Figure size 432x288 with 1 Axes>"
      ]
     },
     "metadata": {},
     "output_type": "display_data"
    }
   ],
   "source": [
    "www['mb_used'].hist(bins=40, edgecolor='k');"
   ]
  },
  {
   "cell_type": "code",
   "execution_count": 64,
   "metadata": {},
   "outputs": [
    {
     "data": {
      "image/png": "[encoded data removed]",
      "text/plain": [
       "<Figure size 432x288 with 1 Axes>"
      ]
     },
     "metadata": {},
     "output_type": "display_data"
    }
   ],
   "source": [
    "www.query(\"mb_used != 0\")['mb_used'].hist(bins=40, edgecolor='k');"
   ]
  },
  {
   "cell_type": "code",
   "execution_count": 65,
   "metadata": {},
   "outputs": [
    {
     "data": {
      "text/plain": [
       "count    149396.000000\n",
       "mean        370.192444\n",
       "std         278.300964\n",
       "min           0.000000\n",
       "25%         138.187496\n",
       "50%         348.014999\n",
       "75%         559.552490\n",
       "max        1724.829956\n",
       "Name: mb_used, dtype: float64"
      ]
     },
     "execution_count": 65,
     "metadata": {},
     "output_type": "execute_result"
    }
   ],
   "source": [
    "www['mb_used'].describe()"
   ]
  },
  {
   "cell_type": "markdown",
   "metadata": {},
   "source": [
    "И снова знакомый график (привет авторам проекта :) Если не считать сессий с нулевым трафиком (неудачные подключения?), распределение, как и в случае длительности звонков, очень похоже на обрезанное нормальное, но на этот раз с модой около трехсот мегабайт. Вместе с нулевыми сессиями средний трафик сессии около 370 Мб. Опять многовато.\n",
    "\n",
    "Посчитаем средний трафик сессии по месяцам."
   ]
  },
  {
   "cell_type": "code",
   "execution_count": 66,
   "metadata": {
    "scrolled": true
   },
   "outputs": [
    {
     "data": {
      "image/png": "[encoded data removed]",
      "text/plain": [
       "<Figure size 432x288 with 1 Axes>"
      ]
     },
     "metadata": {},
     "output_type": "display_data"
    }
   ],
   "source": [
    "(\n",
    "    www.groupby(www['session_date'].dt.month)['mb_used'].sum() # суммарный трафик помесячно\n",
    "    / www.groupby(www['session_date'].dt.month)['id'].count() # делим на число сессий \n",
    ").plot(kind='bar');"
   ]
  },
  {
   "cell_type": "markdown",
   "metadata": {},
   "source": [
    "И снова просто нечеловеческая стабильность :). "
   ]
  },
  {
   "cell_type": "markdown",
   "metadata": {},
   "source": [
    "## Агрегация по пользователям и месяцам"
   ]
  },
  {
   "cell_type": "markdown",
   "metadata": {},
   "source": [
    "Для каждого пользователя посчитаем ежемесячное число звонков и количество израсходованных минут."
   ]
  },
  {
   "cell_type": "code",
   "execution_count": 67,
   "metadata": {},
   "outputs": [
    {
     "data": {
      "text/html": [
       "<div>\n",
       "<style scoped>\n",
       "    .dataframe tbody tr th:only-of-type {\n",
       "        vertical-align: middle;\n",
       "    }\n",
       "\n",
       "    .dataframe tbody tr th {\n",
       "        vertical-align: top;\n",
       "    }\n",
       "\n",
       "    .dataframe thead th {\n",
       "        text-align: right;\n",
       "    }\n",
       "</style>\n",
       "<table border=\"1\" class=\"dataframe\">\n",
       "  <thead>\n",
       "    <tr style=\"text-align: right;\">\n",
       "      <th></th>\n",
       "      <th></th>\n",
       "      <th>calls</th>\n",
       "      <th>minutes</th>\n",
       "    </tr>\n",
       "    <tr>\n",
       "      <th>user_id</th>\n",
       "      <th>month</th>\n",
       "      <th></th>\n",
       "      <th></th>\n",
       "    </tr>\n",
       "  </thead>\n",
       "  <tbody>\n",
       "    <tr>\n",
       "      <th rowspan=\"5\" valign=\"top\">1000</th>\n",
       "      <th>5</th>\n",
       "      <td>22</td>\n",
       "      <td>159</td>\n",
       "    </tr>\n",
       "    <tr>\n",
       "      <th>6</th>\n",
       "      <td>43</td>\n",
       "      <td>172</td>\n",
       "    </tr>\n",
       "    <tr>\n",
       "      <th>7</th>\n",
       "      <td>47</td>\n",
       "      <td>340</td>\n",
       "    </tr>\n",
       "    <tr>\n",
       "      <th>8</th>\n",
       "      <td>52</td>\n",
       "      <td>408</td>\n",
       "    </tr>\n",
       "    <tr>\n",
       "      <th>9</th>\n",
       "      <td>58</td>\n",
       "      <td>466</td>\n",
       "    </tr>\n",
       "    <tr>\n",
       "      <th>...</th>\n",
       "      <th>...</th>\n",
       "      <td>...</td>\n",
       "      <td>...</td>\n",
       "    </tr>\n",
       "    <tr>\n",
       "      <th>1498</th>\n",
       "      <th>10</th>\n",
       "      <td>41</td>\n",
       "      <td>247</td>\n",
       "    </tr>\n",
       "    <tr>\n",
       "      <th rowspan=\"4\" valign=\"top\">1499</th>\n",
       "      <th>9</th>\n",
       "      <td>9</td>\n",
       "      <td>70</td>\n",
       "    </tr>\n",
       "    <tr>\n",
       "      <th>10</th>\n",
       "      <td>68</td>\n",
       "      <td>449</td>\n",
       "    </tr>\n",
       "    <tr>\n",
       "      <th>11</th>\n",
       "      <td>74</td>\n",
       "      <td>612</td>\n",
       "    </tr>\n",
       "    <tr>\n",
       "      <th>12</th>\n",
       "      <td>69</td>\n",
       "      <td>492</td>\n",
       "    </tr>\n",
       "  </tbody>\n",
       "</table>\n",
       "<p>3174 rows × 2 columns</p>\n",
       "</div>"
      ],
      "text/plain": [
       "               calls  minutes\n",
       "user_id month                \n",
       "1000    5         22      159\n",
       "        6         43      172\n",
       "        7         47      340\n",
       "        8         52      408\n",
       "        9         58      466\n",
       "...              ...      ...\n",
       "1498    10        41      247\n",
       "1499    9          9       70\n",
       "        10        68      449\n",
       "        11        74      612\n",
       "        12        69      492\n",
       "\n",
       "[3174 rows x 2 columns]"
      ]
     },
     "execution_count": 67,
     "metadata": {},
     "output_type": "execute_result"
    }
   ],
   "source": [
    "cls_um = ( # um = by user and month  \n",
    "    cls.groupby(['user_id', cls['call_date'].dt.month]) # группируем по пользователю и месяцу\n",
    "    .agg(calls=('id', 'count'), # считаем число звонков\n",
    "         minutes=('duration', lambda x: x.apply(np.ceil).sum())) # и количество округленных вверх минут\n",
    "    .rename_axis(index={'call_date': 'month'}) # переименовываем индекс\n",
    "    .apply(pd.to_numeric, downcast='unsigned') # даункастим результат\n",
    ")\n",
    "cls_um"
   ]
  },
  {
   "cell_type": "markdown",
   "metadata": {},
   "source": [
    "Теперь посчитаем ежемесячное число СМС для каждого пользователя."
   ]
  },
  {
   "cell_type": "code",
   "execution_count": 68,
   "metadata": {},
   "outputs": [
    {
     "data": {
      "text/html": [
       "<div>\n",
       "<style scoped>\n",
       "    .dataframe tbody tr th:only-of-type {\n",
       "        vertical-align: middle;\n",
       "    }\n",
       "\n",
       "    .dataframe tbody tr th {\n",
       "        vertical-align: top;\n",
       "    }\n",
       "\n",
       "    .dataframe thead th {\n",
       "        text-align: right;\n",
       "    }\n",
       "</style>\n",
       "<table border=\"1\" class=\"dataframe\">\n",
       "  <thead>\n",
       "    <tr style=\"text-align: right;\">\n",
       "      <th></th>\n",
       "      <th></th>\n",
       "      <th>messages</th>\n",
       "    </tr>\n",
       "    <tr>\n",
       "      <th>user_id</th>\n",
       "      <th>month</th>\n",
       "      <th></th>\n",
       "    </tr>\n",
       "  </thead>\n",
       "  <tbody>\n",
       "    <tr>\n",
       "      <th rowspan=\"5\" valign=\"top\">1000</th>\n",
       "      <th>5</th>\n",
       "      <td>22</td>\n",
       "    </tr>\n",
       "    <tr>\n",
       "      <th>6</th>\n",
       "      <td>60</td>\n",
       "    </tr>\n",
       "    <tr>\n",
       "      <th>7</th>\n",
       "      <td>75</td>\n",
       "    </tr>\n",
       "    <tr>\n",
       "      <th>8</th>\n",
       "      <td>81</td>\n",
       "    </tr>\n",
       "    <tr>\n",
       "      <th>9</th>\n",
       "      <td>57</td>\n",
       "    </tr>\n",
       "    <tr>\n",
       "      <th>...</th>\n",
       "      <th>...</th>\n",
       "      <td>...</td>\n",
       "    </tr>\n",
       "    <tr>\n",
       "      <th>1498</th>\n",
       "      <th>10</th>\n",
       "      <td>42</td>\n",
       "    </tr>\n",
       "    <tr>\n",
       "      <th rowspan=\"4\" valign=\"top\">1499</th>\n",
       "      <th>9</th>\n",
       "      <td>11</td>\n",
       "    </tr>\n",
       "    <tr>\n",
       "      <th>10</th>\n",
       "      <td>48</td>\n",
       "    </tr>\n",
       "    <tr>\n",
       "      <th>11</th>\n",
       "      <td>59</td>\n",
       "    </tr>\n",
       "    <tr>\n",
       "      <th>12</th>\n",
       "      <td>66</td>\n",
       "    </tr>\n",
       "  </tbody>\n",
       "</table>\n",
       "<p>2717 rows × 1 columns</p>\n",
       "</div>"
      ],
      "text/plain": [
       "               messages\n",
       "user_id month          \n",
       "1000    5            22\n",
       "        6            60\n",
       "        7            75\n",
       "        8            81\n",
       "        9            57\n",
       "...                 ...\n",
       "1498    10           42\n",
       "1499    9            11\n",
       "        10           48\n",
       "        11           59\n",
       "        12           66\n",
       "\n",
       "[2717 rows x 1 columns]"
      ]
     },
     "execution_count": 68,
     "metadata": {},
     "output_type": "execute_result"
    }
   ],
   "source": [
    "msg_um = (\n",
    "    msg.groupby(['user_id', msg['message_date'].dt.month]) # группируем по пользователю и месяцу\n",
    "    .agg(messages=('id', 'count')) # считаем количество СМС\n",
    "    .rename_axis(index={'message_date': 'month'}) # переименовываем индекс\n",
    "    .apply(pd.to_numeric, downcast='unsigned') # даункастим результат\n",
    ")\n",
    "msg_um"
   ]
  },
  {
   "cell_type": "markdown",
   "metadata": {},
   "source": [
    "Наконец, для каждого пользователя посчитаем объем израсходованного трафика в месяц."
   ]
  },
  {
   "cell_type": "code",
   "execution_count": 69,
   "metadata": {},
   "outputs": [
    {
     "data": {
      "text/html": [
       "<div>\n",
       "<style scoped>\n",
       "    .dataframe tbody tr th:only-of-type {\n",
       "        vertical-align: middle;\n",
       "    }\n",
       "\n",
       "    .dataframe tbody tr th {\n",
       "        vertical-align: top;\n",
       "    }\n",
       "\n",
       "    .dataframe thead th {\n",
       "        text-align: right;\n",
       "    }\n",
       "</style>\n",
       "<table border=\"1\" class=\"dataframe\">\n",
       "  <thead>\n",
       "    <tr style=\"text-align: right;\">\n",
       "      <th></th>\n",
       "      <th></th>\n",
       "      <th>gb</th>\n",
       "    </tr>\n",
       "    <tr>\n",
       "      <th>user_id</th>\n",
       "      <th>month</th>\n",
       "      <th></th>\n",
       "    </tr>\n",
       "  </thead>\n",
       "  <tbody>\n",
       "    <tr>\n",
       "      <th rowspan=\"5\" valign=\"top\">1000</th>\n",
       "      <th>5</th>\n",
       "      <td>3</td>\n",
       "    </tr>\n",
       "    <tr>\n",
       "      <th>6</th>\n",
       "      <td>23</td>\n",
       "    </tr>\n",
       "    <tr>\n",
       "      <th>7</th>\n",
       "      <td>14</td>\n",
       "    </tr>\n",
       "    <tr>\n",
       "      <th>8</th>\n",
       "      <td>14</td>\n",
       "    </tr>\n",
       "    <tr>\n",
       "      <th>9</th>\n",
       "      <td>15</td>\n",
       "    </tr>\n",
       "    <tr>\n",
       "      <th>...</th>\n",
       "      <th>...</th>\n",
       "      <td>...</td>\n",
       "    </tr>\n",
       "    <tr>\n",
       "      <th>1498</th>\n",
       "      <th>10</th>\n",
       "      <td>21</td>\n",
       "    </tr>\n",
       "    <tr>\n",
       "      <th rowspan=\"4\" valign=\"top\">1499</th>\n",
       "      <th>9</th>\n",
       "      <td>2</td>\n",
       "    </tr>\n",
       "    <tr>\n",
       "      <th>10</th>\n",
       "      <td>18</td>\n",
       "    </tr>\n",
       "    <tr>\n",
       "      <th>11</th>\n",
       "      <td>18</td>\n",
       "    </tr>\n",
       "    <tr>\n",
       "      <th>12</th>\n",
       "      <td>13</td>\n",
       "    </tr>\n",
       "  </tbody>\n",
       "</table>\n",
       "<p>3203 rows × 1 columns</p>\n",
       "</div>"
      ],
      "text/plain": [
       "               gb\n",
       "user_id month    \n",
       "1000    5       3\n",
       "        6      23\n",
       "        7      14\n",
       "        8      14\n",
       "        9      15\n",
       "...            ..\n",
       "1498    10     21\n",
       "1499    9       2\n",
       "        10     18\n",
       "        11     18\n",
       "        12     13\n",
       "\n",
       "[3203 rows x 1 columns]"
      ]
     },
     "execution_count": 69,
     "metadata": {},
     "output_type": "execute_result"
    }
   ],
   "source": [
    "www_um = (\n",
    "    www.groupby(['user_id', www['session_date'].dt.month]) # группируем по пользователю и месяцу\n",
    "    .agg(gb=('mb_used', lambda x: np.ceil(x.sum()/1024))) # округляем суммарный трафик вверх до Гб\n",
    "    .rename_axis(index={'session_date': 'month'}) # переименовываем индекс\n",
    "    .apply(pd.to_numeric, downcast='unsigned') # даункастим результат\n",
    ")\n",
    "www_um"
   ]
  },
  {
   "cell_type": "markdown",
   "metadata": {},
   "source": [
    "Теперь соберем все три промежуточные таблицы в одну."
   ]
  },
  {
   "cell_type": "code",
   "execution_count": 70,
   "metadata": {},
   "outputs": [],
   "source": [
    "um = ( # um = user_month\n",
    "    cls_um.join([msg_um, www_um], how='outer') # соединяем три таблицы внешним джойном \n",
    "    .fillna(0) # пропуски заполняем нулями (месяцы, в которых не пользовались звонками, СМС или интернетом)\n",
    "    .reset_index() # превращаем индекс в столбцы\n",
    "    .apply(pd.to_numeric, downcast='unsigned') # даункастим результат\n",
    ")"
   ]
  },
  {
   "cell_type": "code",
   "execution_count": 71,
   "metadata": {},
   "outputs": [
    {
     "data": {
      "text/html": [
       "<div>\n",
       "<style scoped>\n",
       "    .dataframe tbody tr th:only-of-type {\n",
       "        vertical-align: middle;\n",
       "    }\n",
       "\n",
       "    .dataframe tbody tr th {\n",
       "        vertical-align: top;\n",
       "    }\n",
       "\n",
       "    .dataframe thead th {\n",
       "        text-align: right;\n",
       "    }\n",
       "</style>\n",
       "<table border=\"1\" class=\"dataframe\">\n",
       "  <thead>\n",
       "    <tr style=\"text-align: right;\">\n",
       "      <th></th>\n",
       "      <th>user_id</th>\n",
       "      <th>month</th>\n",
       "      <th>calls</th>\n",
       "      <th>minutes</th>\n",
       "      <th>messages</th>\n",
       "      <th>gb</th>\n",
       "    </tr>\n",
       "  </thead>\n",
       "  <tbody>\n",
       "    <tr>\n",
       "      <th>0</th>\n",
       "      <td>1000</td>\n",
       "      <td>5</td>\n",
       "      <td>22</td>\n",
       "      <td>159</td>\n",
       "      <td>22</td>\n",
       "      <td>3</td>\n",
       "    </tr>\n",
       "    <tr>\n",
       "      <th>1</th>\n",
       "      <td>1000</td>\n",
       "      <td>6</td>\n",
       "      <td>43</td>\n",
       "      <td>172</td>\n",
       "      <td>60</td>\n",
       "      <td>23</td>\n",
       "    </tr>\n",
       "    <tr>\n",
       "      <th>2</th>\n",
       "      <td>1000</td>\n",
       "      <td>7</td>\n",
       "      <td>47</td>\n",
       "      <td>340</td>\n",
       "      <td>75</td>\n",
       "      <td>14</td>\n",
       "    </tr>\n",
       "    <tr>\n",
       "      <th>3</th>\n",
       "      <td>1000</td>\n",
       "      <td>8</td>\n",
       "      <td>52</td>\n",
       "      <td>408</td>\n",
       "      <td>81</td>\n",
       "      <td>14</td>\n",
       "    </tr>\n",
       "    <tr>\n",
       "      <th>4</th>\n",
       "      <td>1000</td>\n",
       "      <td>9</td>\n",
       "      <td>58</td>\n",
       "      <td>466</td>\n",
       "      <td>57</td>\n",
       "      <td>15</td>\n",
       "    </tr>\n",
       "    <tr>\n",
       "      <th>...</th>\n",
       "      <td>...</td>\n",
       "      <td>...</td>\n",
       "      <td>...</td>\n",
       "      <td>...</td>\n",
       "      <td>...</td>\n",
       "      <td>...</td>\n",
       "    </tr>\n",
       "    <tr>\n",
       "      <th>3209</th>\n",
       "      <td>1498</td>\n",
       "      <td>10</td>\n",
       "      <td>41</td>\n",
       "      <td>247</td>\n",
       "      <td>42</td>\n",
       "      <td>21</td>\n",
       "    </tr>\n",
       "    <tr>\n",
       "      <th>3210</th>\n",
       "      <td>1499</td>\n",
       "      <td>9</td>\n",
       "      <td>9</td>\n",
       "      <td>70</td>\n",
       "      <td>11</td>\n",
       "      <td>2</td>\n",
       "    </tr>\n",
       "    <tr>\n",
       "      <th>3211</th>\n",
       "      <td>1499</td>\n",
       "      <td>10</td>\n",
       "      <td>68</td>\n",
       "      <td>449</td>\n",
       "      <td>48</td>\n",
       "      <td>18</td>\n",
       "    </tr>\n",
       "    <tr>\n",
       "      <th>3212</th>\n",
       "      <td>1499</td>\n",
       "      <td>11</td>\n",
       "      <td>74</td>\n",
       "      <td>612</td>\n",
       "      <td>59</td>\n",
       "      <td>18</td>\n",
       "    </tr>\n",
       "    <tr>\n",
       "      <th>3213</th>\n",
       "      <td>1499</td>\n",
       "      <td>12</td>\n",
       "      <td>69</td>\n",
       "      <td>492</td>\n",
       "      <td>66</td>\n",
       "      <td>13</td>\n",
       "    </tr>\n",
       "  </tbody>\n",
       "</table>\n",
       "<p>3214 rows × 6 columns</p>\n",
       "</div>"
      ],
      "text/plain": [
       "      user_id  month  calls  minutes  messages  gb\n",
       "0        1000      5     22      159        22   3\n",
       "1        1000      6     43      172        60  23\n",
       "2        1000      7     47      340        75  14\n",
       "3        1000      8     52      408        81  14\n",
       "4        1000      9     58      466        57  15\n",
       "...       ...    ...    ...      ...       ...  ..\n",
       "3209     1498     10     41      247        42  21\n",
       "3210     1499      9      9       70        11   2\n",
       "3211     1499     10     68      449        48  18\n",
       "3212     1499     11     74      612        59  18\n",
       "3213     1499     12     69      492        66  13\n",
       "\n",
       "[3214 rows x 6 columns]"
      ]
     },
     "execution_count": 71,
     "metadata": {},
     "output_type": "execute_result"
    }
   ],
   "source": [
    "um"
   ]
  },
  {
   "cell_type": "markdown",
   "metadata": {},
   "source": [
    "Для проверки одним глазком взглянем на распределения."
   ]
  },
  {
   "cell_type": "code",
   "execution_count": 72,
   "metadata": {},
   "outputs": [
    {
     "data": {
      "image/png": "[encoded data removed]",
      "text/plain": [
       "<Figure size 864x864 with 6 Axes>"
      ]
     },
     "metadata": {},
     "output_type": "display_data"
    }
   ],
   "source": [
    "um.hist(bins=15, edgecolor='k', figsize=(12, 12));"
   ]
  },
  {
   "cell_type": "markdown",
   "metadata": {},
   "source": [
    "Вроде бы ничего криминального.\n",
    "\n",
    "Теперь добавим к последней таблице параметры тарифа из `trf` для расчета выручки и город из `usr` для последующего анализа."
   ]
  },
  {
   "cell_type": "code",
   "execution_count": 73,
   "metadata": {},
   "outputs": [],
   "source": [
    "um = (um\n",
    "      .merge(usr, on='user_id', how='left')[list(um.columns) + ['tariff', 'city']] # джойним тариф и город из usr\n",
    "      .merge(trf.rename(columns={'tariff_name': 'tariff'}), on='tariff', how='left') # джойним параметры тарифа из trf\n",
    ")"
   ]
  },
  {
   "cell_type": "code",
   "execution_count": 74,
   "metadata": {},
   "outputs": [
    {
     "data": {
      "text/html": [
       "<div>\n",
       "<style scoped>\n",
       "    .dataframe tbody tr th:only-of-type {\n",
       "        vertical-align: middle;\n",
       "    }\n",
       "\n",
       "    .dataframe tbody tr th {\n",
       "        vertical-align: top;\n",
       "    }\n",
       "\n",
       "    .dataframe thead th {\n",
       "        text-align: right;\n",
       "    }\n",
       "</style>\n",
       "<table border=\"1\" class=\"dataframe\">\n",
       "  <thead>\n",
       "    <tr style=\"text-align: right;\">\n",
       "      <th></th>\n",
       "      <th>user_id</th>\n",
       "      <th>month</th>\n",
       "      <th>calls</th>\n",
       "      <th>minutes</th>\n",
       "      <th>messages</th>\n",
       "      <th>gb</th>\n",
       "      <th>tariff</th>\n",
       "      <th>city</th>\n",
       "      <th>messages_included</th>\n",
       "      <th>mb_per_month_included</th>\n",
       "      <th>minutes_included</th>\n",
       "      <th>rub_monthly_fee</th>\n",
       "      <th>rub_per_gb</th>\n",
       "      <th>rub_per_message</th>\n",
       "      <th>rub_per_minute</th>\n",
       "    </tr>\n",
       "  </thead>\n",
       "  <tbody>\n",
       "    <tr>\n",
       "      <th>0</th>\n",
       "      <td>1000</td>\n",
       "      <td>5</td>\n",
       "      <td>22</td>\n",
       "      <td>159</td>\n",
       "      <td>22</td>\n",
       "      <td>3</td>\n",
       "      <td>ultra</td>\n",
       "      <td>Краснодар</td>\n",
       "      <td>1000</td>\n",
       "      <td>30720</td>\n",
       "      <td>3000</td>\n",
       "      <td>1950</td>\n",
       "      <td>150</td>\n",
       "      <td>1</td>\n",
       "      <td>1</td>\n",
       "    </tr>\n",
       "    <tr>\n",
       "      <th>1</th>\n",
       "      <td>1000</td>\n",
       "      <td>6</td>\n",
       "      <td>43</td>\n",
       "      <td>172</td>\n",
       "      <td>60</td>\n",
       "      <td>23</td>\n",
       "      <td>ultra</td>\n",
       "      <td>Краснодар</td>\n",
       "      <td>1000</td>\n",
       "      <td>30720</td>\n",
       "      <td>3000</td>\n",
       "      <td>1950</td>\n",
       "      <td>150</td>\n",
       "      <td>1</td>\n",
       "      <td>1</td>\n",
       "    </tr>\n",
       "    <tr>\n",
       "      <th>2</th>\n",
       "      <td>1000</td>\n",
       "      <td>7</td>\n",
       "      <td>47</td>\n",
       "      <td>340</td>\n",
       "      <td>75</td>\n",
       "      <td>14</td>\n",
       "      <td>ultra</td>\n",
       "      <td>Краснодар</td>\n",
       "      <td>1000</td>\n",
       "      <td>30720</td>\n",
       "      <td>3000</td>\n",
       "      <td>1950</td>\n",
       "      <td>150</td>\n",
       "      <td>1</td>\n",
       "      <td>1</td>\n",
       "    </tr>\n",
       "    <tr>\n",
       "      <th>3</th>\n",
       "      <td>1000</td>\n",
       "      <td>8</td>\n",
       "      <td>52</td>\n",
       "      <td>408</td>\n",
       "      <td>81</td>\n",
       "      <td>14</td>\n",
       "      <td>ultra</td>\n",
       "      <td>Краснодар</td>\n",
       "      <td>1000</td>\n",
       "      <td>30720</td>\n",
       "      <td>3000</td>\n",
       "      <td>1950</td>\n",
       "      <td>150</td>\n",
       "      <td>1</td>\n",
       "      <td>1</td>\n",
       "    </tr>\n",
       "    <tr>\n",
       "      <th>4</th>\n",
       "      <td>1000</td>\n",
       "      <td>9</td>\n",
       "      <td>58</td>\n",
       "      <td>466</td>\n",
       "      <td>57</td>\n",
       "      <td>15</td>\n",
       "      <td>ultra</td>\n",
       "      <td>Краснодар</td>\n",
       "      <td>1000</td>\n",
       "      <td>30720</td>\n",
       "      <td>3000</td>\n",
       "      <td>1950</td>\n",
       "      <td>150</td>\n",
       "      <td>1</td>\n",
       "      <td>1</td>\n",
       "    </tr>\n",
       "    <tr>\n",
       "      <th>...</th>\n",
       "      <td>...</td>\n",
       "      <td>...</td>\n",
       "      <td>...</td>\n",
       "      <td>...</td>\n",
       "      <td>...</td>\n",
       "      <td>...</td>\n",
       "      <td>...</td>\n",
       "      <td>...</td>\n",
       "      <td>...</td>\n",
       "      <td>...</td>\n",
       "      <td>...</td>\n",
       "      <td>...</td>\n",
       "      <td>...</td>\n",
       "      <td>...</td>\n",
       "      <td>...</td>\n",
       "    </tr>\n",
       "    <tr>\n",
       "      <th>3209</th>\n",
       "      <td>1498</td>\n",
       "      <td>10</td>\n",
       "      <td>41</td>\n",
       "      <td>247</td>\n",
       "      <td>42</td>\n",
       "      <td>21</td>\n",
       "      <td>smart</td>\n",
       "      <td>Владикавказ</td>\n",
       "      <td>50</td>\n",
       "      <td>15360</td>\n",
       "      <td>500</td>\n",
       "      <td>550</td>\n",
       "      <td>200</td>\n",
       "      <td>3</td>\n",
       "      <td>3</td>\n",
       "    </tr>\n",
       "    <tr>\n",
       "      <th>3210</th>\n",
       "      <td>1499</td>\n",
       "      <td>9</td>\n",
       "      <td>9</td>\n",
       "      <td>70</td>\n",
       "      <td>11</td>\n",
       "      <td>2</td>\n",
       "      <td>smart</td>\n",
       "      <td>Пермь</td>\n",
       "      <td>50</td>\n",
       "      <td>15360</td>\n",
       "      <td>500</td>\n",
       "      <td>550</td>\n",
       "      <td>200</td>\n",
       "      <td>3</td>\n",
       "      <td>3</td>\n",
       "    </tr>\n",
       "    <tr>\n",
       "      <th>3211</th>\n",
       "      <td>1499</td>\n",
       "      <td>10</td>\n",
       "      <td>68</td>\n",
       "      <td>449</td>\n",
       "      <td>48</td>\n",
       "      <td>18</td>\n",
       "      <td>smart</td>\n",
       "      <td>Пермь</td>\n",
       "      <td>50</td>\n",
       "      <td>15360</td>\n",
       "      <td>500</td>\n",
       "      <td>550</td>\n",
       "      <td>200</td>\n",
       "      <td>3</td>\n",
       "      <td>3</td>\n",
       "    </tr>\n",
       "    <tr>\n",
       "      <th>3212</th>\n",
       "      <td>1499</td>\n",
       "      <td>11</td>\n",
       "      <td>74</td>\n",
       "      <td>612</td>\n",
       "      <td>59</td>\n",
       "      <td>18</td>\n",
       "      <td>smart</td>\n",
       "      <td>Пермь</td>\n",
       "      <td>50</td>\n",
       "      <td>15360</td>\n",
       "      <td>500</td>\n",
       "      <td>550</td>\n",
       "      <td>200</td>\n",
       "      <td>3</td>\n",
       "      <td>3</td>\n",
       "    </tr>\n",
       "    <tr>\n",
       "      <th>3213</th>\n",
       "      <td>1499</td>\n",
       "      <td>12</td>\n",
       "      <td>69</td>\n",
       "      <td>492</td>\n",
       "      <td>66</td>\n",
       "      <td>13</td>\n",
       "      <td>smart</td>\n",
       "      <td>Пермь</td>\n",
       "      <td>50</td>\n",
       "      <td>15360</td>\n",
       "      <td>500</td>\n",
       "      <td>550</td>\n",
       "      <td>200</td>\n",
       "      <td>3</td>\n",
       "      <td>3</td>\n",
       "    </tr>\n",
       "  </tbody>\n",
       "</table>\n",
       "<p>3214 rows × 15 columns</p>\n",
       "</div>"
      ],
      "text/plain": [
       "      user_id  month  calls  minutes  messages  gb tariff         city  \\\n",
       "0        1000      5     22      159        22   3  ultra    Краснодар   \n",
       "1        1000      6     43      172        60  23  ultra    Краснодар   \n",
       "2        1000      7     47      340        75  14  ultra    Краснодар   \n",
       "3        1000      8     52      408        81  14  ultra    Краснодар   \n",
       "4        1000      9     58      466        57  15  ultra    Краснодар   \n",
       "...       ...    ...    ...      ...       ...  ..    ...          ...   \n",
       "3209     1498     10     41      247        42  21  smart  Владикавказ   \n",
       "3210     1499      9      9       70        11   2  smart        Пермь   \n",
       "3211     1499     10     68      449        48  18  smart        Пермь   \n",
       "3212     1499     11     74      612        59  18  smart        Пермь   \n",
       "3213     1499     12     69      492        66  13  smart        Пермь   \n",
       "\n",
       "      messages_included  mb_per_month_included  minutes_included  \\\n",
       "0                  1000                  30720              3000   \n",
       "1                  1000                  30720              3000   \n",
       "2                  1000                  30720              3000   \n",
       "3                  1000                  30720              3000   \n",
       "4                  1000                  30720              3000   \n",
       "...                 ...                    ...               ...   \n",
       "3209                 50                  15360               500   \n",
       "3210                 50                  15360               500   \n",
       "3211                 50                  15360               500   \n",
       "3212                 50                  15360               500   \n",
       "3213                 50                  15360               500   \n",
       "\n",
       "      rub_monthly_fee  rub_per_gb  rub_per_message  rub_per_minute  \n",
       "0                1950         150                1               1  \n",
       "1                1950         150                1               1  \n",
       "2                1950         150                1               1  \n",
       "3                1950         150                1               1  \n",
       "4                1950         150                1               1  \n",
       "...               ...         ...              ...             ...  \n",
       "3209              550         200                3               3  \n",
       "3210              550         200                3               3  \n",
       "3211              550         200                3               3  \n",
       "3212              550         200                3               3  \n",
       "3213              550         200                3               3  \n",
       "\n",
       "[3214 rows x 15 columns]"
      ]
     },
     "execution_count": 74,
     "metadata": {},
     "output_type": "execute_result"
    }
   ],
   "source": [
    "um"
   ]
  },
  {
   "cell_type": "markdown",
   "metadata": {},
   "source": [
    "Все готово для расчета выручки."
   ]
  },
  {
   "cell_type": "code",
   "execution_count": 75,
   "metadata": {},
   "outputs": [],
   "source": [
    "um['rub'] = pd.to_numeric(\n",
    "    um['rub_monthly_fee'] # абонентская плата\n",
    "    + um['rub_per_minute'] * (0.0 + um['minutes'] - um['minutes_included']).clip(0) # стоимость минут сверх пакета\n",
    "    + um['rub_per_message'] * (0.0 + um['messages'] - um['messages_included']).clip(0) # стоимость СМС сверх пакета\n",
    "    + um['rub_per_gb'] * (0.0 + um['gb'] - um['mb_per_month_included'] // 1024).clip(0), # стоимость Гб сверх пакета\n",
    "    downcast='unsigned') # даункаст результата"
   ]
  },
  {
   "cell_type": "markdown",
   "metadata": {},
   "source": [
    "Удалим не нужные больше параметры тарифа."
   ]
  },
  {
   "cell_type": "code",
   "execution_count": 76,
   "metadata": {
    "scrolled": true
   },
   "outputs": [],
   "source": [
    "um = um.drop(columns=trf.columns, errors='ignore')"
   ]
  },
  {
   "cell_type": "code",
   "execution_count": 77,
   "metadata": {},
   "outputs": [
    {
     "data": {
      "text/html": [
       "<div>\n",
       "<style scoped>\n",
       "    .dataframe tbody tr th:only-of-type {\n",
       "        vertical-align: middle;\n",
       "    }\n",
       "\n",
       "    .dataframe tbody tr th {\n",
       "        vertical-align: top;\n",
       "    }\n",
       "\n",
       "    .dataframe thead th {\n",
       "        text-align: right;\n",
       "    }\n",
       "</style>\n",
       "<table border=\"1\" class=\"dataframe\">\n",
       "  <thead>\n",
       "    <tr style=\"text-align: right;\">\n",
       "      <th></th>\n",
       "      <th>user_id</th>\n",
       "      <th>month</th>\n",
       "      <th>calls</th>\n",
       "      <th>minutes</th>\n",
       "      <th>messages</th>\n",
       "      <th>gb</th>\n",
       "      <th>tariff</th>\n",
       "      <th>city</th>\n",
       "      <th>rub</th>\n",
       "    </tr>\n",
       "  </thead>\n",
       "  <tbody>\n",
       "    <tr>\n",
       "      <th>0</th>\n",
       "      <td>1000</td>\n",
       "      <td>5</td>\n",
       "      <td>22</td>\n",
       "      <td>159</td>\n",
       "      <td>22</td>\n",
       "      <td>3</td>\n",
       "      <td>ultra</td>\n",
       "      <td>Краснодар</td>\n",
       "      <td>1950</td>\n",
       "    </tr>\n",
       "    <tr>\n",
       "      <th>1</th>\n",
       "      <td>1000</td>\n",
       "      <td>6</td>\n",
       "      <td>43</td>\n",
       "      <td>172</td>\n",
       "      <td>60</td>\n",
       "      <td>23</td>\n",
       "      <td>ultra</td>\n",
       "      <td>Краснодар</td>\n",
       "      <td>1950</td>\n",
       "    </tr>\n",
       "    <tr>\n",
       "      <th>2</th>\n",
       "      <td>1000</td>\n",
       "      <td>7</td>\n",
       "      <td>47</td>\n",
       "      <td>340</td>\n",
       "      <td>75</td>\n",
       "      <td>14</td>\n",
       "      <td>ultra</td>\n",
       "      <td>Краснодар</td>\n",
       "      <td>1950</td>\n",
       "    </tr>\n",
       "    <tr>\n",
       "      <th>3</th>\n",
       "      <td>1000</td>\n",
       "      <td>8</td>\n",
       "      <td>52</td>\n",
       "      <td>408</td>\n",
       "      <td>81</td>\n",
       "      <td>14</td>\n",
       "      <td>ultra</td>\n",
       "      <td>Краснодар</td>\n",
       "      <td>1950</td>\n",
       "    </tr>\n",
       "    <tr>\n",
       "      <th>4</th>\n",
       "      <td>1000</td>\n",
       "      <td>9</td>\n",
       "      <td>58</td>\n",
       "      <td>466</td>\n",
       "      <td>57</td>\n",
       "      <td>15</td>\n",
       "      <td>ultra</td>\n",
       "      <td>Краснодар</td>\n",
       "      <td>1950</td>\n",
       "    </tr>\n",
       "    <tr>\n",
       "      <th>...</th>\n",
       "      <td>...</td>\n",
       "      <td>...</td>\n",
       "      <td>...</td>\n",
       "      <td>...</td>\n",
       "      <td>...</td>\n",
       "      <td>...</td>\n",
       "      <td>...</td>\n",
       "      <td>...</td>\n",
       "      <td>...</td>\n",
       "    </tr>\n",
       "    <tr>\n",
       "      <th>3209</th>\n",
       "      <td>1498</td>\n",
       "      <td>10</td>\n",
       "      <td>41</td>\n",
       "      <td>247</td>\n",
       "      <td>42</td>\n",
       "      <td>21</td>\n",
       "      <td>smart</td>\n",
       "      <td>Владикавказ</td>\n",
       "      <td>1750</td>\n",
       "    </tr>\n",
       "    <tr>\n",
       "      <th>3210</th>\n",
       "      <td>1499</td>\n",
       "      <td>9</td>\n",
       "      <td>9</td>\n",
       "      <td>70</td>\n",
       "      <td>11</td>\n",
       "      <td>2</td>\n",
       "      <td>smart</td>\n",
       "      <td>Пермь</td>\n",
       "      <td>550</td>\n",
       "    </tr>\n",
       "    <tr>\n",
       "      <th>3211</th>\n",
       "      <td>1499</td>\n",
       "      <td>10</td>\n",
       "      <td>68</td>\n",
       "      <td>449</td>\n",
       "      <td>48</td>\n",
       "      <td>18</td>\n",
       "      <td>smart</td>\n",
       "      <td>Пермь</td>\n",
       "      <td>1150</td>\n",
       "    </tr>\n",
       "    <tr>\n",
       "      <th>3212</th>\n",
       "      <td>1499</td>\n",
       "      <td>11</td>\n",
       "      <td>74</td>\n",
       "      <td>612</td>\n",
       "      <td>59</td>\n",
       "      <td>18</td>\n",
       "      <td>smart</td>\n",
       "      <td>Пермь</td>\n",
       "      <td>1513</td>\n",
       "    </tr>\n",
       "    <tr>\n",
       "      <th>3213</th>\n",
       "      <td>1499</td>\n",
       "      <td>12</td>\n",
       "      <td>69</td>\n",
       "      <td>492</td>\n",
       "      <td>66</td>\n",
       "      <td>13</td>\n",
       "      <td>smart</td>\n",
       "      <td>Пермь</td>\n",
       "      <td>598</td>\n",
       "    </tr>\n",
       "  </tbody>\n",
       "</table>\n",
       "<p>3214 rows × 9 columns</p>\n",
       "</div>"
      ],
      "text/plain": [
       "      user_id  month  calls  minutes  messages  gb tariff         city   rub\n",
       "0        1000      5     22      159        22   3  ultra    Краснодар  1950\n",
       "1        1000      6     43      172        60  23  ultra    Краснодар  1950\n",
       "2        1000      7     47      340        75  14  ultra    Краснодар  1950\n",
       "3        1000      8     52      408        81  14  ultra    Краснодар  1950\n",
       "4        1000      9     58      466        57  15  ultra    Краснодар  1950\n",
       "...       ...    ...    ...      ...       ...  ..    ...          ...   ...\n",
       "3209     1498     10     41      247        42  21  smart  Владикавказ  1750\n",
       "3210     1499      9      9       70        11   2  smart        Пермь   550\n",
       "3211     1499     10     68      449        48  18  smart        Пермь  1150\n",
       "3212     1499     11     74      612        59  18  smart        Пермь  1513\n",
       "3213     1499     12     69      492        66  13  smart        Пермь   598\n",
       "\n",
       "[3214 rows x 9 columns]"
      ]
     },
     "execution_count": 77,
     "metadata": {},
     "output_type": "execute_result"
    }
   ],
   "source": [
    "um"
   ]
  },
  {
   "cell_type": "code",
   "execution_count": 78,
   "metadata": {},
   "outputs": [
    {
     "name": "stdout",
     "output_type": "stream",
     "text": [
      "<class 'pandas.core.frame.DataFrame'>\n",
      "Int64Index: 3214 entries, 0 to 3213\n",
      "Data columns (total 9 columns):\n",
      " #   Column    Non-Null Count  Dtype   \n",
      "---  ------    --------------  -----   \n",
      " 0   user_id   3214 non-null   uint16  \n",
      " 1   month     3214 non-null   uint8   \n",
      " 2   calls     3214 non-null   uint8   \n",
      " 3   minutes   3214 non-null   uint16  \n",
      " 4   messages  3214 non-null   uint8   \n",
      " 5   gb        3214 non-null   uint8   \n",
      " 6   tariff    3214 non-null   category\n",
      " 7   city      3214 non-null   category\n",
      " 8   rub       3214 non-null   uint16  \n",
      "dtypes: category(2), uint16(3), uint8(4)\n",
      "memory usage: 65.5 KB\n"
     ]
    }
   ],
   "source": [
    "um.info()"
   ]
  },
  {
   "cell_type": "markdown",
   "metadata": {},
   "source": [
    "## Анализ данных"
   ]
  },
  {
   "cell_type": "markdown",
   "metadata": {},
   "source": [
    "Сохраним в отдельные датафреймы агрегированные результаты по каждому тарифу."
   ]
  },
  {
   "cell_type": "code",
   "execution_count": 79,
   "metadata": {},
   "outputs": [],
   "source": [
    "um_smart = um.query(\"tariff == 'smart'\")\n",
    "um_ultra = um.query(\"tariff == 'ultra'\")"
   ]
  },
  {
   "cell_type": "markdown",
   "metadata": {},
   "source": [
    "Сравним распределение значений и статистические характеристики показателей каждого тарифа."
   ]
  },
  {
   "cell_type": "code",
   "execution_count": 80,
   "metadata": {},
   "outputs": [
    {
     "data": {
      "image/png": "[encoded data removed]",
      "text/plain": [
       "<Figure size 1296x864 with 9 Axes>"
      ]
     },
     "metadata": {},
     "output_type": "display_data"
    }
   ],
   "source": [
    "um_smart.hist(bins=12, edgecolor='k', figsize=(18, 12));"
   ]
  },
  {
   "cell_type": "code",
   "execution_count": 81,
   "metadata": {},
   "outputs": [
    {
     "data": {
      "text/html": [
       "<div>\n",
       "<style scoped>\n",
       "    .dataframe tbody tr th:only-of-type {\n",
       "        vertical-align: middle;\n",
       "    }\n",
       "\n",
       "    .dataframe tbody tr th {\n",
       "        vertical-align: top;\n",
       "    }\n",
       "\n",
       "    .dataframe thead th {\n",
       "        text-align: right;\n",
       "    }\n",
       "</style>\n",
       "<table border=\"1\" class=\"dataframe\">\n",
       "  <thead>\n",
       "    <tr style=\"text-align: right;\">\n",
       "      <th></th>\n",
       "      <th>user_id</th>\n",
       "      <th>month</th>\n",
       "      <th>calls</th>\n",
       "      <th>minutes</th>\n",
       "      <th>messages</th>\n",
       "      <th>gb</th>\n",
       "      <th>rub</th>\n",
       "    </tr>\n",
       "  </thead>\n",
       "  <tbody>\n",
       "    <tr>\n",
       "      <th>count</th>\n",
       "      <td>2229.000000</td>\n",
       "      <td>2229.000000</td>\n",
       "      <td>2229.000000</td>\n",
       "      <td>2229.000000</td>\n",
       "      <td>2229.000000</td>\n",
       "      <td>2229.000000</td>\n",
       "      <td>2229.000000</td>\n",
       "    </tr>\n",
       "    <tr>\n",
       "      <th>mean</th>\n",
       "      <td>1246.506505</td>\n",
       "      <td>8.346792</td>\n",
       "      <td>58.463437</td>\n",
       "      <td>417.934948</td>\n",
       "      <td>33.384029</td>\n",
       "      <td>16.328847</td>\n",
       "      <td>1289.973531</td>\n",
       "    </tr>\n",
       "    <tr>\n",
       "      <th>std</th>\n",
       "      <td>146.119496</td>\n",
       "      <td>2.920316</td>\n",
       "      <td>25.939858</td>\n",
       "      <td>190.313730</td>\n",
       "      <td>28.227876</td>\n",
       "      <td>5.747061</td>\n",
       "      <td>818.404367</td>\n",
       "    </tr>\n",
       "    <tr>\n",
       "      <th>min</th>\n",
       "      <td>1001.000000</td>\n",
       "      <td>1.000000</td>\n",
       "      <td>0.000000</td>\n",
       "      <td>0.000000</td>\n",
       "      <td>0.000000</td>\n",
       "      <td>0.000000</td>\n",
       "      <td>550.000000</td>\n",
       "    </tr>\n",
       "    <tr>\n",
       "      <th>25%</th>\n",
       "      <td>1121.000000</td>\n",
       "      <td>6.000000</td>\n",
       "      <td>40.000000</td>\n",
       "      <td>282.000000</td>\n",
       "      <td>10.000000</td>\n",
       "      <td>13.000000</td>\n",
       "      <td>550.000000</td>\n",
       "    </tr>\n",
       "    <tr>\n",
       "      <th>50%</th>\n",
       "      <td>1239.000000</td>\n",
       "      <td>9.000000</td>\n",
       "      <td>60.000000</td>\n",
       "      <td>422.000000</td>\n",
       "      <td>28.000000</td>\n",
       "      <td>17.000000</td>\n",
       "      <td>1023.000000</td>\n",
       "    </tr>\n",
       "    <tr>\n",
       "      <th>75%</th>\n",
       "      <td>1376.000000</td>\n",
       "      <td>11.000000</td>\n",
       "      <td>76.000000</td>\n",
       "      <td>545.000000</td>\n",
       "      <td>51.000000</td>\n",
       "      <td>20.000000</td>\n",
       "      <td>1750.000000</td>\n",
       "    </tr>\n",
       "    <tr>\n",
       "      <th>max</th>\n",
       "      <td>1499.000000</td>\n",
       "      <td>12.000000</td>\n",
       "      <td>198.000000</td>\n",
       "      <td>1435.000000</td>\n",
       "      <td>143.000000</td>\n",
       "      <td>38.000000</td>\n",
       "      <td>6770.000000</td>\n",
       "    </tr>\n",
       "  </tbody>\n",
       "</table>\n",
       "</div>"
      ],
      "text/plain": [
       "           user_id        month        calls      minutes     messages  \\\n",
       "count  2229.000000  2229.000000  2229.000000  2229.000000  2229.000000   \n",
       "mean   1246.506505     8.346792    58.463437   417.934948    33.384029   \n",
       "std     146.119496     2.920316    25.939858   190.313730    28.227876   \n",
       "min    1001.000000     1.000000     0.000000     0.000000     0.000000   \n",
       "25%    1121.000000     6.000000    40.000000   282.000000    10.000000   \n",
       "50%    1239.000000     9.000000    60.000000   422.000000    28.000000   \n",
       "75%    1376.000000    11.000000    76.000000   545.000000    51.000000   \n",
       "max    1499.000000    12.000000   198.000000  1435.000000   143.000000   \n",
       "\n",
       "                gb          rub  \n",
       "count  2229.000000  2229.000000  \n",
       "mean     16.328847  1289.973531  \n",
       "std       5.747061   818.404367  \n",
       "min       0.000000   550.000000  \n",
       "25%      13.000000   550.000000  \n",
       "50%      17.000000  1023.000000  \n",
       "75%      20.000000  1750.000000  \n",
       "max      38.000000  6770.000000  "
      ]
     },
     "execution_count": 81,
     "metadata": {},
     "output_type": "execute_result"
    }
   ],
   "source": [
    "um_smart.describe()"
   ]
  },
  {
   "cell_type": "code",
   "execution_count": 82,
   "metadata": {},
   "outputs": [
    {
     "data": {
      "image/png": "[encoded data removed]",
      "text/plain": [
       "<Figure size 1296x864 with 9 Axes>"
      ]
     },
     "metadata": {},
     "output_type": "display_data"
    }
   ],
   "source": [
    "um_ultra.hist(bins=12, edgecolor='k', figsize=(18, 12));"
   ]
  },
  {
   "cell_type": "code",
   "execution_count": 83,
   "metadata": {},
   "outputs": [
    {
     "data": {
      "text/html": [
       "<div>\n",
       "<style scoped>\n",
       "    .dataframe tbody tr th:only-of-type {\n",
       "        vertical-align: middle;\n",
       "    }\n",
       "\n",
       "    .dataframe tbody tr th {\n",
       "        vertical-align: top;\n",
       "    }\n",
       "\n",
       "    .dataframe thead th {\n",
       "        text-align: right;\n",
       "    }\n",
       "</style>\n",
       "<table border=\"1\" class=\"dataframe\">\n",
       "  <thead>\n",
       "    <tr style=\"text-align: right;\">\n",
       "      <th></th>\n",
       "      <th>user_id</th>\n",
       "      <th>month</th>\n",
       "      <th>calls</th>\n",
       "      <th>minutes</th>\n",
       "      <th>messages</th>\n",
       "      <th>gb</th>\n",
       "      <th>rub</th>\n",
       "    </tr>\n",
       "  </thead>\n",
       "  <tbody>\n",
       "    <tr>\n",
       "      <th>count</th>\n",
       "      <td>985.000000</td>\n",
       "      <td>985.000000</td>\n",
       "      <td>985.000000</td>\n",
       "      <td>985.000000</td>\n",
       "      <td>985.000000</td>\n",
       "      <td>985.000000</td>\n",
       "      <td>985.000000</td>\n",
       "    </tr>\n",
       "    <tr>\n",
       "      <th>mean</th>\n",
       "      <td>1263.094416</td>\n",
       "      <td>8.250761</td>\n",
       "      <td>73.392893</td>\n",
       "      <td>526.623350</td>\n",
       "      <td>49.363452</td>\n",
       "      <td>19.494416</td>\n",
       "      <td>2070.152284</td>\n",
       "    </tr>\n",
       "    <tr>\n",
       "      <th>std</th>\n",
       "      <td>140.694908</td>\n",
       "      <td>2.871762</td>\n",
       "      <td>43.916853</td>\n",
       "      <td>317.606098</td>\n",
       "      <td>47.804457</td>\n",
       "      <td>9.853511</td>\n",
       "      <td>376.187114</td>\n",
       "    </tr>\n",
       "    <tr>\n",
       "      <th>min</th>\n",
       "      <td>1000.000000</td>\n",
       "      <td>1.000000</td>\n",
       "      <td>0.000000</td>\n",
       "      <td>0.000000</td>\n",
       "      <td>0.000000</td>\n",
       "      <td>0.000000</td>\n",
       "      <td>1950.000000</td>\n",
       "    </tr>\n",
       "    <tr>\n",
       "      <th>25%</th>\n",
       "      <td>1143.000000</td>\n",
       "      <td>6.000000</td>\n",
       "      <td>41.000000</td>\n",
       "      <td>284.000000</td>\n",
       "      <td>6.000000</td>\n",
       "      <td>12.000000</td>\n",
       "      <td>1950.000000</td>\n",
       "    </tr>\n",
       "    <tr>\n",
       "      <th>50%</th>\n",
       "      <td>1277.000000</td>\n",
       "      <td>9.000000</td>\n",
       "      <td>74.000000</td>\n",
       "      <td>518.000000</td>\n",
       "      <td>38.000000</td>\n",
       "      <td>19.000000</td>\n",
       "      <td>1950.000000</td>\n",
       "    </tr>\n",
       "    <tr>\n",
       "      <th>75%</th>\n",
       "      <td>1381.000000</td>\n",
       "      <td>11.000000</td>\n",
       "      <td>104.000000</td>\n",
       "      <td>752.000000</td>\n",
       "      <td>79.000000</td>\n",
       "      <td>27.000000</td>\n",
       "      <td>1950.000000</td>\n",
       "    </tr>\n",
       "    <tr>\n",
       "      <th>max</th>\n",
       "      <td>1495.000000</td>\n",
       "      <td>12.000000</td>\n",
       "      <td>244.000000</td>\n",
       "      <td>1673.000000</td>\n",
       "      <td>224.000000</td>\n",
       "      <td>49.000000</td>\n",
       "      <td>4800.000000</td>\n",
       "    </tr>\n",
       "  </tbody>\n",
       "</table>\n",
       "</div>"
      ],
      "text/plain": [
       "           user_id       month       calls      minutes    messages  \\\n",
       "count   985.000000  985.000000  985.000000   985.000000  985.000000   \n",
       "mean   1263.094416    8.250761   73.392893   526.623350   49.363452   \n",
       "std     140.694908    2.871762   43.916853   317.606098   47.804457   \n",
       "min    1000.000000    1.000000    0.000000     0.000000    0.000000   \n",
       "25%    1143.000000    6.000000   41.000000   284.000000    6.000000   \n",
       "50%    1277.000000    9.000000   74.000000   518.000000   38.000000   \n",
       "75%    1381.000000   11.000000  104.000000   752.000000   79.000000   \n",
       "max    1495.000000   12.000000  244.000000  1673.000000  224.000000   \n",
       "\n",
       "               gb          rub  \n",
       "count  985.000000   985.000000  \n",
       "mean    19.494416  2070.152284  \n",
       "std      9.853511   376.187114  \n",
       "min      0.000000  1950.000000  \n",
       "25%     12.000000  1950.000000  \n",
       "50%     19.000000  1950.000000  \n",
       "75%     27.000000  1950.000000  \n",
       "max     49.000000  4800.000000  "
      ]
     },
     "execution_count": 83,
     "metadata": {},
     "output_type": "execute_result"
    }
   ],
   "source": [
    "um_ultra.describe()"
   ]
  },
  {
   "cell_type": "markdown",
   "metadata": {},
   "source": [
    "<div class=\"alert alert-warning\" style=\"border-radius: 15px; box-shadow: 4px 4px 4px; border: 1px solid \">\n",
    "<b> Комментарий ревьюера  ⚠️</b>\n",
    "    \n",
    "Желательно выводить нужные строки, чтобы заказчику не пришлось искать средние и отклонения. </div>\n",
    "<div class=\"alert alert-danger\" style=\"border-radius: 15px; box-shadow: 4px 4px 4px; border: 1px solid\">\n",
    "<b> Комментарий ревьюера  ❌</b>\n",
    "    \n",
    "Не хватает дисперсий для минут, смс и трафика.</div>"
   ]
  },
  {
   "cell_type": "code",
   "execution_count": 104,
   "metadata": {},
   "outputs": [
    {
     "data": {
      "text/html": [
       "<div>\n",
       "<style scoped>\n",
       "    .dataframe tbody tr th:only-of-type {\n",
       "        vertical-align: middle;\n",
       "    }\n",
       "\n",
       "    .dataframe tbody tr th {\n",
       "        vertical-align: top;\n",
       "    }\n",
       "\n",
       "    .dataframe thead th {\n",
       "        text-align: right;\n",
       "    }\n",
       "</style>\n",
       "<table border=\"1\" class=\"dataframe\">\n",
       "  <thead>\n",
       "    <tr style=\"text-align: right;\">\n",
       "      <th></th>\n",
       "      <th>calls</th>\n",
       "      <th>minutes</th>\n",
       "      <th>messages</th>\n",
       "      <th>gb</th>\n",
       "      <th>rub</th>\n",
       "    </tr>\n",
       "  </thead>\n",
       "  <tbody>\n",
       "    <tr>\n",
       "      <th>mean</th>\n",
       "      <td>58.463437</td>\n",
       "      <td>417.934948</td>\n",
       "      <td>33.384029</td>\n",
       "      <td>16.328847</td>\n",
       "      <td>1289.973531</td>\n",
       "    </tr>\n",
       "    <tr>\n",
       "      <th>var</th>\n",
       "      <td>672.876243</td>\n",
       "      <td>36219.315784</td>\n",
       "      <td>796.812958</td>\n",
       "      <td>33.028705</td>\n",
       "      <td>669785.708006</td>\n",
       "    </tr>\n",
       "    <tr>\n",
       "      <th>std</th>\n",
       "      <td>25.939858</td>\n",
       "      <td>190.313730</td>\n",
       "      <td>28.227876</td>\n",
       "      <td>5.747061</td>\n",
       "      <td>818.404367</td>\n",
       "    </tr>\n",
       "  </tbody>\n",
       "</table>\n",
       "</div>"
      ],
      "text/plain": [
       "           calls       minutes    messages         gb            rub\n",
       "mean   58.463437    417.934948   33.384029  16.328847    1289.973531\n",
       "var   672.876243  36219.315784  796.812958  33.028705  669785.708006\n",
       "std    25.939858    190.313730   28.227876   5.747061     818.404367"
      ]
     },
     "execution_count": 104,
     "metadata": {},
     "output_type": "execute_result"
    }
   ],
   "source": [
    "um_smart.loc[:, 'calls':'rub'].agg(['mean', 'var', 'std'])"
   ]
  },
  {
   "cell_type": "code",
   "execution_count": 105,
   "metadata": {},
   "outputs": [
    {
     "data": {
      "text/html": [
       "<div>\n",
       "<style scoped>\n",
       "    .dataframe tbody tr th:only-of-type {\n",
       "        vertical-align: middle;\n",
       "    }\n",
       "\n",
       "    .dataframe tbody tr th {\n",
       "        vertical-align: top;\n",
       "    }\n",
       "\n",
       "    .dataframe thead th {\n",
       "        text-align: right;\n",
       "    }\n",
       "</style>\n",
       "<table border=\"1\" class=\"dataframe\">\n",
       "  <thead>\n",
       "    <tr style=\"text-align: right;\">\n",
       "      <th></th>\n",
       "      <th>calls</th>\n",
       "      <th>minutes</th>\n",
       "      <th>messages</th>\n",
       "      <th>gb</th>\n",
       "      <th>rub</th>\n",
       "    </tr>\n",
       "  </thead>\n",
       "  <tbody>\n",
       "    <tr>\n",
       "      <th>mean</th>\n",
       "      <td>73.392893</td>\n",
       "      <td>526.623350</td>\n",
       "      <td>49.363452</td>\n",
       "      <td>19.494416</td>\n",
       "      <td>2070.152284</td>\n",
       "    </tr>\n",
       "    <tr>\n",
       "      <th>var</th>\n",
       "      <td>1928.689990</td>\n",
       "      <td>100873.633397</td>\n",
       "      <td>2285.266143</td>\n",
       "      <td>97.091686</td>\n",
       "      <td>141516.745079</td>\n",
       "    </tr>\n",
       "    <tr>\n",
       "      <th>std</th>\n",
       "      <td>43.916853</td>\n",
       "      <td>317.606098</td>\n",
       "      <td>47.804457</td>\n",
       "      <td>9.853511</td>\n",
       "      <td>376.187114</td>\n",
       "    </tr>\n",
       "  </tbody>\n",
       "</table>\n",
       "</div>"
      ],
      "text/plain": [
       "            calls        minutes     messages         gb            rub\n",
       "mean    73.392893     526.623350    49.363452  19.494416    2070.152284\n",
       "var   1928.689990  100873.633397  2285.266143  97.091686  141516.745079\n",
       "std     43.916853     317.606098    47.804457   9.853511     376.187114"
      ]
     },
     "execution_count": 105,
     "metadata": {},
     "output_type": "execute_result"
    }
   ],
   "source": [
    "um_ultra.loc[:, 'calls':'rub'].agg(['mean', 'var', 'std'])"
   ]
  },
  {
   "cell_type": "markdown",
   "metadata": {},
   "source": [
    "<div class=\"alert alert-success\" style=\"border-radius: 15px; box-shadow: 4px 4px 4px; border: 1px solid \">\n",
    "<h2>Комментарий ревьюера 2 ✔️</h2>\n",
    "    \n",
    "Отлично. \n",
    "\n",
    "</div>"
   ]
  },
  {
   "cell_type": "code",
   "execution_count": 86,
   "metadata": {},
   "outputs": [
    {
     "data": {
      "image/png": "[encoded data removed]",
      "text/plain": [
       "<Figure size 720x576 with 1 Axes>"
      ]
     },
     "metadata": {},
     "output_type": "display_data"
    }
   ],
   "source": [
    "# КОД РЕВЬЮЕРА\n",
    "\n",
    "\n",
    "um.groupby('tariff')['minutes'].plot.hist(alpha=0.5, legend=True, bins=25, figsize=(10,8))\n",
    "\n",
    "plt.legend(['Смарт', 'Ультра'])\n",
    "plt.title('Заголовок')\n",
    "plt.xlabel('Подпись')\n",
    "plt.ylabel('Подпись')\n",
    "\n",
    "plt.show()"
   ]
  },
  {
   "cell_type": "markdown",
   "metadata": {},
   "source": [
    "### Звонки"
   ]
  },
  {
   "cell_type": "markdown",
   "metadata": {},
   "source": [
    "Число звонков в тарифе Smart имеет близкое к нормальному распределение со средним 58 (1,9 звонка в день) и стандартным отклонением 26. Аналогичное распределение в тарифе Ultra имеет повышенную частотность вблизи нуля, среднее 73 (2,4 звонка в день), стандартное отклонение 44.\n",
    "\n",
    "Количество израсходованных минут в тарифе Smart имеет близкое к нормальному распределение со средним 418 (14 минут в день) и стандартным отклонением 190. Аналогичное распределение в тарифе Ultra имеет повышенную частотность вблизи нуля, среднее 527 (18 минут в день), стандартное отклонение 318.\n",
    "\n",
    "Похоже, что среди пользователей тарифа Ultra больше тех, кто не пользуется звонками, но те, кто ими пользуется, в среднем звонят больше, чем пользователи тарифа Smart."
   ]
  },
  {
   "cell_type": "markdown",
   "metadata": {},
   "source": [
    "### СМС"
   ]
  },
  {
   "cell_type": "markdown",
   "metadata": {},
   "source": [
    "Число СМС в тарифе Smart имеет распределение, плотность которого монотонно убывает с пиком вблизи нуля, со средним 33 (1,1 СМС в день) и стандартным отклонением 28. Аналогичное распределение в тарифе Ultra имеет больший пик вблизи нуля, более длинный «хвост», среднее 49 (1,6 СМС в день) и стандартное отклонение 48.\n",
    "\n",
    "Видим, что с СМС ситуация аналогична звонкам: среди пользователей тарифа Ultra больше тех, кто не пользуется СМС, но те, кто ими пользуется, в среднем делают это чаще, чем пользователи тарифа Smart."
   ]
  },
  {
   "cell_type": "markdown",
   "metadata": {},
   "source": [
    "### Интернет"
   ]
  },
  {
   "cell_type": "markdown",
   "metadata": {},
   "source": [
    "Число использованных Гб в тарифе Smart имеет близкое к нормальному немного скошенное влево распределение со средним 16 и стандартным отклонением 6. Аналогичное распределение в тарифе Ultra более широкое, обрезано нулем, имеет среднее 19 и стандартное отклонение 10.\n",
    "\n",
    "Пользователи тарифа Ultra в среднем используют несколько больше Гб, чем пользователи тарифа Smart, но разброс значений у них значительно выше."
   ]
  },
  {
   "cell_type": "markdown",
   "metadata": {},
   "source": [
    "### Расходы"
   ]
  },
  {
   "cell_type": "markdown",
   "metadata": {},
   "source": [
    "Распределения ежемесячных расходов сильно отличаются у пользователей двух тарифов. У Smartовцев монотонно убывающее распределение с высоким пиком в районе абонентской платы 550 ₽, средним 1290 ₽ и стандартным отклонением 818 ₽. У Ultraвцев же распределение практически полностью состоит из пика в районе абонентской платы 1950 ₽ и небольшого числа выбросов в более высокие значения со средним 2070 ₽ и стандартным отклонением 376 ₽.\n",
    "\n",
    "Получается, что подавляющему большинству пользователей тарифа Ultra *хватает* включенных в пакет минут, СМС и Гб, в то время как значительному числу пользователей тарифа Smart включенного в абонентскую плату пакета *не* хватает. "
   ]
  },
  {
   "cell_type": "markdown",
   "metadata": {},
   "source": [
    "## Проверка гипотез"
   ]
  },
  {
   "cell_type": "markdown",
   "metadata": {},
   "source": [
    "Наконец, мы подошли к главной задаче проекта – проверке гипотез."
   ]
  },
  {
   "cell_type": "markdown",
   "metadata": {},
   "source": [
    "### Smart vs. Ultra"
   ]
  },
  {
   "cell_type": "markdown",
   "metadata": {},
   "source": [
    "Сформулируем *двустороннюю* альтернативную гипотезу:\n",
    ">средняя выручка от пользователей тарифов Ultra и Smart *различается*.\n",
    "\n",
    "Тестируемая нулевая гипотеза будет звучать так: \n",
    ">средняя выручка от пользователей тарифов Ultra и Smart *не различается*.\n",
    "\n",
    "Уровень значимости выберем стандартным: 5%. \n",
    "\n",
    "Выборки для каждого тарифа качественно отличаются и не зависят друг от друга, поэтому для тестирования используем t-тест для двух независимых выборок `scipy.stats.ttest_ind()`.\n",
    "\n",
    "Выборки также отличаются размером и стандартным отклонением, поэтому параметру `equal_var` присваиваем значение `False`."
   ]
  },
  {
   "cell_type": "code",
   "execution_count": 87,
   "metadata": {},
   "outputs": [
    {
     "data": {
      "text/plain": [
       "Ttest_indResult(statistic=-37.019021231454644, pvalue=4.2606313931076085e-250)"
      ]
     },
     "execution_count": 87,
     "metadata": {},
     "output_type": "execute_result"
    }
   ],
   "source": [
    "st.ttest_ind(um_smart['rub'], um_ultra['rub'], equal_var=False)"
   ]
  },
  {
   "cell_type": "markdown",
   "metadata": {},
   "source": [
    "Мы получили фактически нулевое p-value. Это значит, что нулевую гипотезу можно смело отвергнуть в пользу альтернативной и с уверенностью сказать, что средняя выручка от пользователей тарифов Ultra и Smart *различается* при практически любом уровне значимости.\n",
    "\n",
    "Более того, средняя выручка от пользователей тарифа Ultra *больше* средней выручки от пользователей тарифа Smart при практически любом уровне значимости. Это *односторонняя* альтернативная гипотеза, которую также нужно принять, отвергнув нулевую гипотезу, потому что для нее p-value будет вдвое ниже полученного."
   ]
  },
  {
   "cell_type": "markdown",
   "metadata": {},
   "source": [
    "### Moscow vs. Rest"
   ]
  },
  {
   "cell_type": "markdown",
   "metadata": {},
   "source": [
    "Сохраним в отдельные датафреймы агрегированные результаты по Москве и всем остальным городам."
   ]
  },
  {
   "cell_type": "code",
   "execution_count": 88,
   "metadata": {},
   "outputs": [],
   "source": [
    "um_moscow = um.query(\"city == 'Москва'\")\n",
    "um_not_moscow = um.query(\"city != 'Москва'\")"
   ]
  },
  {
   "cell_type": "code",
   "execution_count": 89,
   "metadata": {},
   "outputs": [
    {
     "data": {
      "image/png": "[encoded data removed]",
      "text/plain": [
       "<Figure size 432x288 with 1 Axes>"
      ]
     },
     "metadata": {},
     "output_type": "display_data"
    }
   ],
   "source": [
    "um_moscow['rub'].hist(bins=20, edgecolor='k');"
   ]
  },
  {
   "cell_type": "code",
   "execution_count": 90,
   "metadata": {},
   "outputs": [
    {
     "data": {
      "text/html": [
       "<div>\n",
       "<style scoped>\n",
       "    .dataframe tbody tr th:only-of-type {\n",
       "        vertical-align: middle;\n",
       "    }\n",
       "\n",
       "    .dataframe tbody tr th {\n",
       "        vertical-align: top;\n",
       "    }\n",
       "\n",
       "    .dataframe thead th {\n",
       "        text-align: right;\n",
       "    }\n",
       "</style>\n",
       "<table border=\"1\" class=\"dataframe\">\n",
       "  <thead>\n",
       "    <tr style=\"text-align: right;\">\n",
       "      <th></th>\n",
       "      <th>user_id</th>\n",
       "      <th>month</th>\n",
       "      <th>calls</th>\n",
       "      <th>minutes</th>\n",
       "      <th>messages</th>\n",
       "      <th>gb</th>\n",
       "      <th>rub</th>\n",
       "    </tr>\n",
       "  </thead>\n",
       "  <tbody>\n",
       "    <tr>\n",
       "      <th>count</th>\n",
       "      <td>611.000000</td>\n",
       "      <td>611.000000</td>\n",
       "      <td>611.000000</td>\n",
       "      <td>611.000000</td>\n",
       "      <td>611.000000</td>\n",
       "      <td>611.000000</td>\n",
       "      <td>611.000000</td>\n",
       "    </tr>\n",
       "    <tr>\n",
       "      <th>mean</th>\n",
       "      <td>1268.872340</td>\n",
       "      <td>8.432079</td>\n",
       "      <td>65.436989</td>\n",
       "      <td>469.150573</td>\n",
       "      <td>37.877250</td>\n",
       "      <td>18.050736</td>\n",
       "      <td>1546.713584</td>\n",
       "    </tr>\n",
       "    <tr>\n",
       "      <th>std</th>\n",
       "      <td>137.530432</td>\n",
       "      <td>2.888057</td>\n",
       "      <td>33.186021</td>\n",
       "      <td>241.535044</td>\n",
       "      <td>37.160304</td>\n",
       "      <td>7.645788</td>\n",
       "      <td>752.088071</td>\n",
       "    </tr>\n",
       "    <tr>\n",
       "      <th>min</th>\n",
       "      <td>1001.000000</td>\n",
       "      <td>1.000000</td>\n",
       "      <td>0.000000</td>\n",
       "      <td>0.000000</td>\n",
       "      <td>0.000000</td>\n",
       "      <td>1.000000</td>\n",
       "      <td>550.000000</td>\n",
       "    </tr>\n",
       "    <tr>\n",
       "      <th>25%</th>\n",
       "      <td>1171.000000</td>\n",
       "      <td>6.000000</td>\n",
       "      <td>42.000000</td>\n",
       "      <td>304.000000</td>\n",
       "      <td>6.500000</td>\n",
       "      <td>13.000000</td>\n",
       "      <td>780.500000</td>\n",
       "    </tr>\n",
       "    <tr>\n",
       "      <th>50%</th>\n",
       "      <td>1291.000000</td>\n",
       "      <td>9.000000</td>\n",
       "      <td>64.000000</td>\n",
       "      <td>453.000000</td>\n",
       "      <td>29.000000</td>\n",
       "      <td>18.000000</td>\n",
       "      <td>1750.000000</td>\n",
       "    </tr>\n",
       "    <tr>\n",
       "      <th>75%</th>\n",
       "      <td>1385.000000</td>\n",
       "      <td>11.000000</td>\n",
       "      <td>85.500000</td>\n",
       "      <td>620.500000</td>\n",
       "      <td>57.000000</td>\n",
       "      <td>22.000000</td>\n",
       "      <td>1950.000000</td>\n",
       "    </tr>\n",
       "    <tr>\n",
       "      <th>max</th>\n",
       "      <td>1490.000000</td>\n",
       "      <td>12.000000</td>\n",
       "      <td>188.000000</td>\n",
       "      <td>1321.000000</td>\n",
       "      <td>191.000000</td>\n",
       "      <td>44.000000</td>\n",
       "      <td>5321.000000</td>\n",
       "    </tr>\n",
       "  </tbody>\n",
       "</table>\n",
       "</div>"
      ],
      "text/plain": [
       "           user_id       month       calls      minutes    messages  \\\n",
       "count   611.000000  611.000000  611.000000   611.000000  611.000000   \n",
       "mean   1268.872340    8.432079   65.436989   469.150573   37.877250   \n",
       "std     137.530432    2.888057   33.186021   241.535044   37.160304   \n",
       "min    1001.000000    1.000000    0.000000     0.000000    0.000000   \n",
       "25%    1171.000000    6.000000   42.000000   304.000000    6.500000   \n",
       "50%    1291.000000    9.000000   64.000000   453.000000   29.000000   \n",
       "75%    1385.000000   11.000000   85.500000   620.500000   57.000000   \n",
       "max    1490.000000   12.000000  188.000000  1321.000000  191.000000   \n",
       "\n",
       "               gb          rub  \n",
       "count  611.000000   611.000000  \n",
       "mean    18.050736  1546.713584  \n",
       "std      7.645788   752.088071  \n",
       "min      1.000000   550.000000  \n",
       "25%     13.000000   780.500000  \n",
       "50%     18.000000  1750.000000  \n",
       "75%     22.000000  1950.000000  \n",
       "max     44.000000  5321.000000  "
      ]
     },
     "execution_count": 90,
     "metadata": {},
     "output_type": "execute_result"
    }
   ],
   "source": [
    "um_moscow.describe()"
   ]
  },
  {
   "cell_type": "code",
   "execution_count": 91,
   "metadata": {},
   "outputs": [
    {
     "data": {
      "image/png": "[encoded data removed]",
      "text/plain": [
       "<Figure size 432x288 with 1 Axes>"
      ]
     },
     "metadata": {},
     "output_type": "display_data"
    }
   ],
   "source": [
    "um_not_moscow['rub'].hist(bins=20, edgecolor='k');"
   ]
  },
  {
   "cell_type": "code",
   "execution_count": 92,
   "metadata": {},
   "outputs": [
    {
     "data": {
      "text/html": [
       "<div>\n",
       "<style scoped>\n",
       "    .dataframe tbody tr th:only-of-type {\n",
       "        vertical-align: middle;\n",
       "    }\n",
       "\n",
       "    .dataframe tbody tr th {\n",
       "        vertical-align: top;\n",
       "    }\n",
       "\n",
       "    .dataframe thead th {\n",
       "        text-align: right;\n",
       "    }\n",
       "</style>\n",
       "<table border=\"1\" class=\"dataframe\">\n",
       "  <thead>\n",
       "    <tr style=\"text-align: right;\">\n",
       "      <th></th>\n",
       "      <th>user_id</th>\n",
       "      <th>month</th>\n",
       "      <th>calls</th>\n",
       "      <th>minutes</th>\n",
       "      <th>messages</th>\n",
       "      <th>gb</th>\n",
       "      <th>rub</th>\n",
       "    </tr>\n",
       "  </thead>\n",
       "  <tbody>\n",
       "    <tr>\n",
       "      <th>count</th>\n",
       "      <td>2603.000000</td>\n",
       "      <td>2603.000000</td>\n",
       "      <td>2603.000000</td>\n",
       "      <td>2603.000000</td>\n",
       "      <td>2603.000000</td>\n",
       "      <td>2603.000000</td>\n",
       "      <td>2603.000000</td>\n",
       "    </tr>\n",
       "    <tr>\n",
       "      <th>mean</th>\n",
       "      <td>1247.533615</td>\n",
       "      <td>8.290434</td>\n",
       "      <td>62.475989</td>\n",
       "      <td>447.041875</td>\n",
       "      <td>38.376104</td>\n",
       "      <td>17.122551</td>\n",
       "      <td>1524.936227</td>\n",
       "    </tr>\n",
       "    <tr>\n",
       "      <th>std</th>\n",
       "      <td>146.011387</td>\n",
       "      <td>2.909368</td>\n",
       "      <td>33.229464</td>\n",
       "      <td>241.852152</td>\n",
       "      <td>35.913289</td>\n",
       "      <td>7.332184</td>\n",
       "      <td>808.787752</td>\n",
       "    </tr>\n",
       "    <tr>\n",
       "      <th>min</th>\n",
       "      <td>1000.000000</td>\n",
       "      <td>1.000000</td>\n",
       "      <td>0.000000</td>\n",
       "      <td>0.000000</td>\n",
       "      <td>0.000000</td>\n",
       "      <td>0.000000</td>\n",
       "      <td>550.000000</td>\n",
       "    </tr>\n",
       "    <tr>\n",
       "      <th>25%</th>\n",
       "      <td>1120.000000</td>\n",
       "      <td>6.000000</td>\n",
       "      <td>40.000000</td>\n",
       "      <td>280.500000</td>\n",
       "      <td>9.500000</td>\n",
       "      <td>13.000000</td>\n",
       "      <td>750.000000</td>\n",
       "    </tr>\n",
       "    <tr>\n",
       "      <th>50%</th>\n",
       "      <td>1241.000000</td>\n",
       "      <td>9.000000</td>\n",
       "      <td>62.000000</td>\n",
       "      <td>440.000000</td>\n",
       "      <td>30.000000</td>\n",
       "      <td>17.000000</td>\n",
       "      <td>1583.000000</td>\n",
       "    </tr>\n",
       "    <tr>\n",
       "      <th>75%</th>\n",
       "      <td>1377.000000</td>\n",
       "      <td>11.000000</td>\n",
       "      <td>82.000000</td>\n",
       "      <td>584.000000</td>\n",
       "      <td>57.000000</td>\n",
       "      <td>21.000000</td>\n",
       "      <td>1950.000000</td>\n",
       "    </tr>\n",
       "    <tr>\n",
       "      <th>max</th>\n",
       "      <td>1499.000000</td>\n",
       "      <td>12.000000</td>\n",
       "      <td>244.000000</td>\n",
       "      <td>1673.000000</td>\n",
       "      <td>224.000000</td>\n",
       "      <td>49.000000</td>\n",
       "      <td>6770.000000</td>\n",
       "    </tr>\n",
       "  </tbody>\n",
       "</table>\n",
       "</div>"
      ],
      "text/plain": [
       "           user_id        month        calls      minutes     messages  \\\n",
       "count  2603.000000  2603.000000  2603.000000  2603.000000  2603.000000   \n",
       "mean   1247.533615     8.290434    62.475989   447.041875    38.376104   \n",
       "std     146.011387     2.909368    33.229464   241.852152    35.913289   \n",
       "min    1000.000000     1.000000     0.000000     0.000000     0.000000   \n",
       "25%    1120.000000     6.000000    40.000000   280.500000     9.500000   \n",
       "50%    1241.000000     9.000000    62.000000   440.000000    30.000000   \n",
       "75%    1377.000000    11.000000    82.000000   584.000000    57.000000   \n",
       "max    1499.000000    12.000000   244.000000  1673.000000   224.000000   \n",
       "\n",
       "                gb          rub  \n",
       "count  2603.000000  2603.000000  \n",
       "mean     17.122551  1524.936227  \n",
       "std       7.332184   808.787752  \n",
       "min       0.000000   550.000000  \n",
       "25%      13.000000   750.000000  \n",
       "50%      17.000000  1583.000000  \n",
       "75%      21.000000  1950.000000  \n",
       "max      49.000000  6770.000000  "
      ]
     },
     "execution_count": 92,
     "metadata": {},
     "output_type": "execute_result"
    }
   ],
   "source": [
    "um_not_moscow.describe()"
   ]
  },
  {
   "cell_type": "markdown",
   "metadata": {},
   "source": [
    "В распределениях расходов видим характерные пики вблизи значений абонентской платы двух тарифов: 550 и 1950 ₽. Распределения далеки от нормального, но их средние значения и стандартные отклонения отличаются несильно."
   ]
  },
  {
   "cell_type": "markdown",
   "metadata": {},
   "source": [
    "Сформулируем *двустороннюю* альтернативную гипотезу:\n",
    ">средняя выручка от пользователей из Москвы *отличается* от выручки от пользователей из других регионов.\n",
    "\n",
    "Тестируемая нулевая гипотеза при этом будет звучать так: \n",
    ">средняя выручка от пользователей из Москвы *не отличается* от выручки от пользователей из других регионов.\n",
    "\n",
    "Уровень значимости снова выберем стандартным: 5%. \n",
    "\n",
    "Две выборки отличаются по сути и не зависят друг от друга, поэтому для тестирования снова используем t-тест для двух независимых выборок `scipy.stats.ttest_ind()`.\n",
    "\n",
    "Выборки также отличаются размером, поэтому параметру `equal_var` снова присваиваем значение `False`."
   ]
  },
  {
   "cell_type": "code",
   "execution_count": 93,
   "metadata": {},
   "outputs": [
    {
     "data": {
      "text/plain": [
       "Ttest_indResult(statistic=0.6347555055229303, pvalue=0.5257376663729298)"
      ]
     },
     "execution_count": 93,
     "metadata": {},
     "output_type": "execute_result"
    }
   ],
   "source": [
    "st.ttest_ind(um_moscow['rub'], um_not_moscow['rub'], equal_var=False)"
   ]
  },
  {
   "cell_type": "markdown",
   "metadata": {},
   "source": [
    "Полученное p-value 0,53 значительно превышает выбранный уровень значимости 0,05. Это значит, что мы *не можем* отвергнуть нулевую гипотезу в пользу альтернативной, т.е. средняя выручка от пользователей из Москвы *не отличается* от выручки от пользователей из других регионов при уровне значимости 5% или ниже. Рассчитаем среднюю выручку по всей выборке."
   ]
  },
  {
   "cell_type": "code",
   "execution_count": 94,
   "metadata": {},
   "outputs": [
    {
     "data": {
      "text/plain": [
       "1529.0762289981333"
      ]
     },
     "execution_count": 94,
     "metadata": {},
     "output_type": "execute_result"
    }
   ],
   "source": [
    "um['rub'].mean()"
   ]
  },
  {
   "cell_type": "markdown",
   "metadata": {},
   "source": [
    "Мы также *не можем* отвергнуть нулевую гипотезу в пользу *односторонней* альтернативной гипотезы: \n",
    ">средняя выручка от пользователей из Москвы *больше* выручки от пользователей из других регионов,\n",
    "\n",
    "потому что для нее p-value будет вдвое ниже полученного – 0,26, но все равно выше выбранного уровня значимости 0,05."
   ]
  },
  {
   "cell_type": "markdown",
   "metadata": {},
   "source": [
    "## Выводы"
   ]
  },
  {
   "cell_type": "markdown",
   "metadata": {},
   "source": [
    "- Выбока данных для анализа имеет явные признаки рукотворно сгенерированной, хоть и похожа на реальную в некоторых аспектах\n",
    "- Среди пользователей тарифа Ultra больше тех, кто не пользуется звонками или СМС, но те, кто ими пользуется, в среднем делают это чаще, чем пользователи тарифа Smart\n",
    "- Пользователи тарифа Ultra в среднем используют несколько больше Гб, чем пользователи тарифа Smart, но разброс значений у них значительно выше\n",
    "- Подавляющему большинству пользователей тарифа Ultra *хватает* включенных в пакет минут, СМС и Гб, в то время как значительному числу пользователей тарифа Smart *не хватает* включенного в абонентскую плату пакета\n",
    "- Средняя выручка от пользователей тарифа Ultra – 2070 ₽ – больше средней выручки от пользователей тарифа Smart – 1290 ₽ – при практически любом уровне значимости\n",
    "- Средняя выручка от пользователей из Москвы *не отличается* от выручки от пользователей из других регионов при уровне значимости 5% или ниже и составляет 1529 ₽"
   ]
  }
 ],
 "metadata": {
  "ExecuteTimeLog": [
   {
    "duration": 1066,
    "start_time": "2022-03-07T16:31:18.254Z"
   },
   {
    "duration": 6,
    "start_time": "2022-03-07T16:31:31.652Z"
   },
   {
    "duration": 386,
    "start_time": "2022-03-07T16:31:38.854Z"
   },
   {
    "duration": 3,
    "start_time": "2022-03-07T16:31:46.936Z"
   },
   {
    "duration": 1473,
    "start_time": "2022-03-07T22:06:22.597Z"
   },
   {
    "duration": 210,
    "start_time": "2022-03-07T22:07:40.346Z"
   },
   {
    "duration": 22,
    "start_time": "2022-03-07T22:07:49.884Z"
   },
   {
    "duration": 13,
    "start_time": "2022-03-07T22:10:37.814Z"
   },
   {
    "duration": 29,
    "start_time": "2022-03-07T22:10:37.829Z"
   },
   {
    "duration": 212,
    "start_time": "2022-03-07T22:10:37.862Z"
   },
   {
    "duration": 120,
    "start_time": "2022-03-07T22:10:38.076Z"
   },
   {
    "duration": 177,
    "start_time": "2022-03-07T22:10:38.199Z"
   },
   {
    "duration": 12,
    "start_time": "2022-03-07T22:12:00.188Z"
   },
   {
    "duration": 18,
    "start_time": "2022-03-07T22:12:00.207Z"
   },
   {
    "duration": 17,
    "start_time": "2022-03-07T22:12:00.227Z"
   },
   {
    "duration": 29,
    "start_time": "2022-03-07T22:12:00.247Z"
   },
   {
    "duration": 29,
    "start_time": "2022-03-07T22:12:00.278Z"
   },
   {
    "duration": 10,
    "start_time": "2022-03-07T22:23:38.844Z"
   },
   {
    "duration": 9,
    "start_time": "2022-03-07T22:25:41.728Z"
   },
   {
    "duration": 21,
    "start_time": "2022-03-07T22:34:14.401Z"
   },
   {
    "duration": 10,
    "start_time": "2022-03-07T22:34:17.640Z"
   },
   {
    "duration": 5,
    "start_time": "2022-03-07T22:34:56.700Z"
   },
   {
    "duration": 9,
    "start_time": "2022-03-07T22:35:00.274Z"
   },
   {
    "duration": 9,
    "start_time": "2022-03-07T22:38:31.448Z"
   },
   {
    "duration": 14,
    "start_time": "2022-03-07T22:38:38.693Z"
   },
   {
    "duration": 10,
    "start_time": "2022-03-07T22:38:41.032Z"
   },
   {
    "duration": 282,
    "start_time": "2022-03-07T22:39:51.233Z"
   },
   {
    "duration": 276,
    "start_time": "2022-03-07T22:40:13.596Z"
   },
   {
    "duration": 705,
    "start_time": "2022-03-07T22:40:27.796Z"
   },
   {
    "duration": 306,
    "start_time": "2022-03-07T22:40:41.095Z"
   },
   {
    "duration": 310,
    "start_time": "2022-03-07T22:43:13.226Z"
   },
   {
    "duration": 448,
    "start_time": "2022-03-07T22:43:27.619Z"
   },
   {
    "duration": 391,
    "start_time": "2022-03-07T22:44:11.571Z"
   },
   {
    "duration": 291,
    "start_time": "2022-03-07T22:44:28.527Z"
   },
   {
    "duration": 312,
    "start_time": "2022-03-07T22:44:29.461Z"
   },
   {
    "duration": 413,
    "start_time": "2022-03-07T22:45:13.643Z"
   },
   {
    "duration": 285,
    "start_time": "2022-03-07T22:45:43.248Z"
   },
   {
    "duration": 22,
    "start_time": "2022-03-07T22:46:07.008Z"
   },
   {
    "duration": 9,
    "start_time": "2022-03-07T22:49:36.498Z"
   },
   {
    "duration": 8,
    "start_time": "2022-03-07T22:51:20.293Z"
   },
   {
    "duration": 10,
    "start_time": "2022-03-07T22:51:51.428Z"
   },
   {
    "duration": 10,
    "start_time": "2022-03-07T22:52:07.374Z"
   },
   {
    "duration": 11,
    "start_time": "2022-03-07T22:52:38.554Z"
   },
   {
    "duration": 276,
    "start_time": "2022-03-07T23:00:17.267Z"
   },
   {
    "duration": 6,
    "start_time": "2022-03-07T23:00:27.555Z"
   },
   {
    "duration": 10,
    "start_time": "2022-03-07T23:00:36.126Z"
   },
   {
    "duration": 11,
    "start_time": "2022-03-07T23:00:42.314Z"
   },
   {
    "duration": 8582,
    "start_time": "2022-03-07T23:04:48.302Z"
   },
   {
    "duration": 188,
    "start_time": "2022-03-07T23:05:06.153Z"
   },
   {
    "duration": 290,
    "start_time": "2022-03-07T23:05:36.866Z"
   },
   {
    "duration": 301,
    "start_time": "2022-03-07T23:07:14.045Z"
   },
   {
    "duration": 333,
    "start_time": "2022-03-07T23:07:19.015Z"
   },
   {
    "duration": 7,
    "start_time": "2022-03-07T23:11:40.543Z"
   },
   {
    "duration": 10,
    "start_time": "2022-03-07T23:11:48.842Z"
   },
   {
    "duration": 279,
    "start_time": "2022-03-07T23:12:45.342Z"
   },
   {
    "duration": 269,
    "start_time": "2022-03-07T23:14:09.798Z"
   },
   {
    "duration": 291,
    "start_time": "2022-03-07T23:14:36.989Z"
   },
   {
    "duration": 352,
    "start_time": "2022-03-07T23:15:12.855Z"
   },
   {
    "duration": 269,
    "start_time": "2022-03-07T23:15:30.877Z"
   },
   {
    "duration": 7,
    "start_time": "2022-03-07T23:16:15.726Z"
   },
   {
    "duration": 8,
    "start_time": "2022-03-07T23:16:27.234Z"
   },
   {
    "duration": 8,
    "start_time": "2022-03-07T23:16:42.244Z"
   },
   {
    "duration": 10,
    "start_time": "2022-03-07T23:17:21.398Z"
   },
   {
    "duration": 9,
    "start_time": "2022-03-07T23:19:31.766Z"
   },
   {
    "duration": 10,
    "start_time": "2022-03-07T23:19:47.043Z"
   },
   {
    "duration": 17,
    "start_time": "2022-03-07T23:24:16.395Z"
   },
   {
    "duration": 11,
    "start_time": "2022-03-07T23:24:23.010Z"
   },
   {
    "duration": 33,
    "start_time": "2022-03-07T23:24:44.725Z"
   },
   {
    "duration": 338,
    "start_time": "2022-03-08T00:28:45.540Z"
   },
   {
    "duration": 1471,
    "start_time": "2022-03-08T00:28:52.302Z"
   },
   {
    "duration": 14,
    "start_time": "2022-03-08T00:28:53.776Z"
   },
   {
    "duration": 20,
    "start_time": "2022-03-08T00:28:53.795Z"
   },
   {
    "duration": 222,
    "start_time": "2022-03-08T00:28:53.818Z"
   },
   {
    "duration": 135,
    "start_time": "2022-03-08T00:28:54.042Z"
   },
   {
    "duration": 191,
    "start_time": "2022-03-08T00:28:54.180Z"
   },
   {
    "duration": 19,
    "start_time": "2022-03-08T00:28:54.374Z"
   },
   {
    "duration": 12,
    "start_time": "2022-03-08T00:28:54.396Z"
   },
   {
    "duration": 23,
    "start_time": "2022-03-08T00:28:54.414Z"
   },
   {
    "duration": 11,
    "start_time": "2022-03-08T00:28:54.476Z"
   },
   {
    "duration": 22,
    "start_time": "2022-03-08T00:28:54.491Z"
   },
   {
    "duration": 14,
    "start_time": "2022-03-08T00:28:54.515Z"
   },
   {
    "duration": 58,
    "start_time": "2022-03-08T00:28:54.531Z"
   },
   {
    "duration": 309,
    "start_time": "2022-03-08T00:28:54.592Z"
   },
   {
    "duration": 6,
    "start_time": "2022-03-08T00:28:54.903Z"
   },
   {
    "duration": 349,
    "start_time": "2022-03-08T00:28:54.911Z"
   },
   {
    "duration": 12,
    "start_time": "2022-03-08T00:28:55.262Z"
   },
   {
    "duration": 258,
    "start_time": "2022-03-08T00:28:55.277Z"
   },
   {
    "duration": 7,
    "start_time": "2022-03-08T00:28:55.538Z"
   },
   {
    "duration": 28,
    "start_time": "2022-03-08T00:28:55.547Z"
   },
   {
    "duration": 12,
    "start_time": "2022-03-08T00:28:55.577Z"
   },
   {
    "duration": 9,
    "start_time": "2022-03-08T00:28:55.591Z"
   },
   {
    "duration": 19,
    "start_time": "2022-03-08T00:28:55.603Z"
   },
   {
    "duration": 54,
    "start_time": "2022-03-08T00:28:55.625Z"
   },
   {
    "duration": 18,
    "start_time": "2022-03-08T00:28:55.682Z"
   },
   {
    "duration": 25,
    "start_time": "2022-03-08T00:28:55.703Z"
   },
   {
    "duration": 1453,
    "start_time": "2022-03-08T20:03:44.930Z"
   },
   {
    "duration": 19,
    "start_time": "2022-03-08T20:03:46.387Z"
   },
   {
    "duration": 22,
    "start_time": "2022-03-08T20:03:46.408Z"
   },
   {
    "duration": 201,
    "start_time": "2022-03-08T20:03:46.433Z"
   },
   {
    "duration": 122,
    "start_time": "2022-03-08T20:03:46.637Z"
   },
   {
    "duration": 174,
    "start_time": "2022-03-08T20:03:46.761Z"
   },
   {
    "duration": 15,
    "start_time": "2022-03-08T20:03:46.937Z"
   },
   {
    "duration": 31,
    "start_time": "2022-03-08T20:03:46.956Z"
   },
   {
    "duration": 24,
    "start_time": "2022-03-08T20:03:46.990Z"
   },
   {
    "duration": 11,
    "start_time": "2022-03-08T20:03:47.016Z"
   },
   {
    "duration": 21,
    "start_time": "2022-03-08T20:03:47.029Z"
   },
   {
    "duration": 42,
    "start_time": "2022-03-08T20:03:47.053Z"
   },
   {
    "duration": 26,
    "start_time": "2022-03-08T20:03:47.098Z"
   },
   {
    "duration": 308,
    "start_time": "2022-03-08T20:03:47.128Z"
   },
   {
    "duration": 6,
    "start_time": "2022-03-08T20:03:47.438Z"
   },
   {
    "duration": 344,
    "start_time": "2022-03-08T20:03:47.446Z"
   },
   {
    "duration": 7,
    "start_time": "2022-03-08T20:03:47.792Z"
   },
   {
    "duration": 260,
    "start_time": "2022-03-08T20:03:47.801Z"
   },
   {
    "duration": 8,
    "start_time": "2022-03-08T20:03:48.063Z"
   },
   {
    "duration": 9,
    "start_time": "2022-03-08T20:03:48.087Z"
   },
   {
    "duration": 11,
    "start_time": "2022-03-08T20:03:48.098Z"
   },
   {
    "duration": 9,
    "start_time": "2022-03-08T20:03:48.111Z"
   },
   {
    "duration": 17,
    "start_time": "2022-03-08T20:03:48.124Z"
   },
   {
    "duration": 54,
    "start_time": "2022-03-08T20:03:48.143Z"
   },
   {
    "duration": 13,
    "start_time": "2022-03-08T20:03:48.199Z"
   },
   {
    "duration": 20,
    "start_time": "2022-03-08T20:03:48.215Z"
   },
   {
    "duration": 26,
    "start_time": "2022-03-08T20:04:06.842Z"
   },
   {
    "duration": 46,
    "start_time": "2022-03-08T20:05:10.880Z"
   },
   {
    "duration": 378,
    "start_time": "2022-03-08T20:05:57.118Z"
   },
   {
    "duration": 394,
    "start_time": "2022-03-08T20:06:03.937Z"
   },
   {
    "duration": 322,
    "start_time": "2022-03-08T20:07:22.373Z"
   },
   {
    "duration": 377,
    "start_time": "2022-03-08T20:07:36.772Z"
   },
   {
    "duration": 316,
    "start_time": "2022-03-08T20:07:47.954Z"
   },
   {
    "duration": 345,
    "start_time": "2022-03-08T20:07:52.928Z"
   },
   {
    "duration": 354,
    "start_time": "2022-03-08T20:07:58.915Z"
   },
   {
    "duration": 37,
    "start_time": "2022-03-08T20:08:30.952Z"
   },
   {
    "duration": 386,
    "start_time": "2022-03-08T20:09:48.554Z"
   },
   {
    "duration": 353,
    "start_time": "2022-03-08T20:10:09.890Z"
   },
   {
    "duration": 378,
    "start_time": "2022-03-08T20:10:58.195Z"
   },
   {
    "duration": 386,
    "start_time": "2022-03-08T20:11:47.241Z"
   },
   {
    "duration": 362,
    "start_time": "2022-03-08T20:11:59.167Z"
   },
   {
    "duration": 40,
    "start_time": "2022-03-08T20:16:55.762Z"
   },
   {
    "duration": 294,
    "start_time": "2022-03-08T20:17:06.750Z"
   },
   {
    "duration": 288,
    "start_time": "2022-03-08T20:17:15.792Z"
   },
   {
    "duration": 417,
    "start_time": "2022-03-08T20:21:12.322Z"
   },
   {
    "duration": 81,
    "start_time": "2022-03-08T20:21:30.524Z"
   },
   {
    "duration": 85,
    "start_time": "2022-03-08T20:21:51.171Z"
   },
   {
    "duration": 78,
    "start_time": "2022-03-08T20:22:34.716Z"
   },
   {
    "duration": 84,
    "start_time": "2022-03-08T20:22:52.177Z"
   },
   {
    "duration": 243,
    "start_time": "2022-03-08T20:23:40.094Z"
   },
   {
    "duration": 76,
    "start_time": "2022-03-08T20:23:49.038Z"
   },
   {
    "duration": 79,
    "start_time": "2022-03-08T20:24:24.947Z"
   },
   {
    "duration": 419,
    "start_time": "2022-03-08T20:24:31.424Z"
   },
   {
    "duration": 316,
    "start_time": "2022-03-08T20:24:43.688Z"
   },
   {
    "duration": 337,
    "start_time": "2022-03-08T20:24:55.233Z"
   },
   {
    "duration": 291,
    "start_time": "2022-03-08T20:25:16.042Z"
   },
   {
    "duration": 346,
    "start_time": "2022-03-08T20:25:24.576Z"
   },
   {
    "duration": 309,
    "start_time": "2022-03-08T20:25:36.904Z"
   },
   {
    "duration": 146,
    "start_time": "2022-03-08T20:27:10.902Z"
   },
   {
    "duration": 52,
    "start_time": "2022-03-08T20:27:56.926Z"
   },
   {
    "duration": 57,
    "start_time": "2022-03-08T20:30:46.991Z"
   },
   {
    "duration": 308,
    "start_time": "2022-03-08T20:30:55.127Z"
   },
   {
    "duration": 65,
    "start_time": "2022-03-08T20:43:03.992Z"
   },
   {
    "duration": 65,
    "start_time": "2022-03-08T20:45:17.316Z"
   },
   {
    "duration": 352,
    "start_time": "2022-03-08T20:45:31.853Z"
   },
   {
    "duration": 341,
    "start_time": "2022-03-08T20:45:46.029Z"
   },
   {
    "duration": 19,
    "start_time": "2022-03-08T21:07:41.469Z"
   },
   {
    "duration": 18,
    "start_time": "2022-03-08T21:07:54.320Z"
   },
   {
    "duration": 5,
    "start_time": "2022-03-08T21:09:14.355Z"
   },
   {
    "duration": 19,
    "start_time": "2022-03-08T21:09:20.540Z"
   },
   {
    "duration": 8,
    "start_time": "2022-03-08T21:09:48.554Z"
   },
   {
    "duration": 19,
    "start_time": "2022-03-08T21:09:51.995Z"
   },
   {
    "duration": 6,
    "start_time": "2022-03-08T21:10:25.437Z"
   },
   {
    "duration": 17,
    "start_time": "2022-03-08T21:10:25.446Z"
   },
   {
    "duration": 21,
    "start_time": "2022-03-08T21:10:25.467Z"
   },
   {
    "duration": 208,
    "start_time": "2022-03-08T21:10:25.491Z"
   },
   {
    "duration": 121,
    "start_time": "2022-03-08T21:10:25.701Z"
   },
   {
    "duration": 182,
    "start_time": "2022-03-08T21:10:25.825Z"
   },
   {
    "duration": 12,
    "start_time": "2022-03-08T21:10:26.009Z"
   },
   {
    "duration": 10,
    "start_time": "2022-03-08T21:10:26.024Z"
   },
   {
    "duration": 52,
    "start_time": "2022-03-08T21:10:26.037Z"
   },
   {
    "duration": 24,
    "start_time": "2022-03-08T21:10:26.092Z"
   },
   {
    "duration": 30,
    "start_time": "2022-03-08T21:10:26.119Z"
   },
   {
    "duration": 13,
    "start_time": "2022-03-08T21:10:26.152Z"
   },
   {
    "duration": 25,
    "start_time": "2022-03-08T21:10:26.168Z"
   },
   {
    "duration": 311,
    "start_time": "2022-03-08T21:10:26.195Z"
   },
   {
    "duration": 6,
    "start_time": "2022-03-08T21:10:26.508Z"
   },
   {
    "duration": 350,
    "start_time": "2022-03-08T21:10:26.516Z"
   },
   {
    "duration": 7,
    "start_time": "2022-03-08T21:10:26.869Z"
   },
   {
    "duration": 252,
    "start_time": "2022-03-08T21:10:26.887Z"
   },
   {
    "duration": 10,
    "start_time": "2022-03-08T21:10:27.142Z"
   },
   {
    "duration": 34,
    "start_time": "2022-03-08T21:10:27.155Z"
   },
   {
    "duration": 33,
    "start_time": "2022-03-08T21:10:27.192Z"
   },
   {
    "duration": 17,
    "start_time": "2022-03-08T21:10:27.228Z"
   },
   {
    "duration": 26,
    "start_time": "2022-03-08T21:10:27.251Z"
   },
   {
    "duration": 36,
    "start_time": "2022-03-08T21:10:27.280Z"
   },
   {
    "duration": 37,
    "start_time": "2022-03-08T21:10:27.319Z"
   },
   {
    "duration": 35,
    "start_time": "2022-03-08T21:10:27.359Z"
   },
   {
    "duration": 39,
    "start_time": "2022-03-08T21:10:27.397Z"
   },
   {
    "duration": 5,
    "start_time": "2022-03-08T21:10:27.438Z"
   },
   {
    "duration": 36,
    "start_time": "2022-03-08T21:10:27.445Z"
   },
   {
    "duration": 516,
    "start_time": "2022-03-08T21:10:27.483Z"
   },
   {
    "duration": 389,
    "start_time": "2022-03-08T21:10:28.001Z"
   },
   {
    "duration": 391,
    "start_time": "2022-03-08T21:10:28.392Z"
   },
   {
    "duration": 322,
    "start_time": "2022-03-08T21:10:28.786Z"
   },
   {
    "duration": 327,
    "start_time": "2022-03-08T21:10:29.111Z"
   },
   {
    "duration": 353,
    "start_time": "2022-03-08T21:10:29.441Z"
   },
   {
    "duration": 15,
    "start_time": "2022-03-08T21:10:29.796Z"
   },
   {
    "duration": 22,
    "start_time": "2022-03-08T21:10:29.813Z"
   },
   {
    "duration": 49,
    "start_time": "2022-03-08T21:10:29.838Z"
   },
   {
    "duration": 20,
    "start_time": "2022-03-08T21:10:49.532Z"
   },
   {
    "duration": 19,
    "start_time": "2022-03-08T21:13:49.518Z"
   },
   {
    "duration": 25,
    "start_time": "2022-03-08T21:15:14.348Z"
   },
   {
    "duration": 7,
    "start_time": "2022-03-08T21:15:57.515Z"
   },
   {
    "duration": 15,
    "start_time": "2022-03-08T21:16:06.295Z"
   },
   {
    "duration": 403,
    "start_time": "2022-03-08T21:17:02.803Z"
   },
   {
    "duration": 315,
    "start_time": "2022-03-08T21:18:34.332Z"
   },
   {
    "duration": 310,
    "start_time": "2022-03-08T21:18:59.346Z"
   },
   {
    "duration": 32,
    "start_time": "2022-03-08T21:20:33.626Z"
   },
   {
    "duration": 37,
    "start_time": "2022-03-08T21:21:05.932Z"
   },
   {
    "duration": 24,
    "start_time": "2022-03-08T21:21:31.130Z"
   },
   {
    "duration": 40,
    "start_time": "2022-03-08T21:21:39.097Z"
   },
   {
    "duration": 10,
    "start_time": "2022-03-08T21:21:49.245Z"
   },
   {
    "duration": 33,
    "start_time": "2022-03-08T22:23:05.344Z"
   },
   {
    "duration": 31,
    "start_time": "2022-03-08T22:25:08.207Z"
   },
   {
    "duration": 6,
    "start_time": "2022-03-08T22:25:26.348Z"
   },
   {
    "duration": 7,
    "start_time": "2022-03-08T22:25:33.164Z"
   },
   {
    "duration": 17,
    "start_time": "2022-03-08T22:25:35.549Z"
   },
   {
    "duration": 380,
    "start_time": "2022-03-08T22:26:08.353Z"
   },
   {
    "duration": 5543,
    "start_time": "2022-03-08T22:26:21.905Z"
   },
   {
    "duration": 365,
    "start_time": "2022-03-08T22:26:32.662Z"
   },
   {
    "duration": 496,
    "start_time": "2022-03-08T22:27:31.350Z"
   },
   {
    "duration": 262,
    "start_time": "2022-03-08T22:27:56.877Z"
   },
   {
    "duration": 290,
    "start_time": "2022-03-08T22:28:03.800Z"
   },
   {
    "duration": 309,
    "start_time": "2022-03-08T22:28:19.916Z"
   },
   {
    "duration": 318,
    "start_time": "2022-03-08T22:28:38.906Z"
   },
   {
    "duration": 6,
    "start_time": "2022-03-08T22:33:36.223Z"
   },
   {
    "duration": 6,
    "start_time": "2022-03-08T22:33:51.852Z"
   },
   {
    "duration": 35,
    "start_time": "2022-03-08T22:34:31.523Z"
   },
   {
    "duration": 34,
    "start_time": "2022-03-08T22:35:51.209Z"
   },
   {
    "duration": 143,
    "start_time": "2022-03-08T22:36:51.519Z"
   },
   {
    "duration": 70,
    "start_time": "2022-03-08T22:38:15.076Z"
   },
   {
    "duration": 76,
    "start_time": "2022-03-08T22:39:13.206Z"
   },
   {
    "duration": 16,
    "start_time": "2022-03-08T22:48:35.436Z"
   },
   {
    "duration": 81,
    "start_time": "2022-03-08T22:56:09.095Z"
   },
   {
    "duration": 80,
    "start_time": "2022-03-08T22:56:25.579Z"
   },
   {
    "duration": 33,
    "start_time": "2022-03-08T22:57:05.420Z"
   },
   {
    "duration": 5,
    "start_time": "2022-03-08T23:03:09.388Z"
   },
   {
    "duration": 20,
    "start_time": "2022-03-08T23:03:14.807Z"
   },
   {
    "duration": 6,
    "start_time": "2022-03-08T23:03:35.373Z"
   },
   {
    "duration": 17,
    "start_time": "2022-03-08T23:03:39.601Z"
   },
   {
    "duration": 20,
    "start_time": "2022-03-08T23:03:52.260Z"
   },
   {
    "duration": 6,
    "start_time": "2022-03-08T23:04:07.484Z"
   },
   {
    "duration": 20,
    "start_time": "2022-03-08T23:04:13.376Z"
   },
   {
    "duration": 18,
    "start_time": "2022-03-08T23:04:20.599Z"
   },
   {
    "duration": 224,
    "start_time": "2022-03-08T23:06:50.004Z"
   },
   {
    "duration": 33,
    "start_time": "2022-03-08T23:07:09.932Z"
   },
   {
    "duration": 87,
    "start_time": "2022-03-08T23:08:09.517Z"
   },
   {
    "duration": 300,
    "start_time": "2022-03-08T23:10:06.502Z"
   },
   {
    "duration": 80,
    "start_time": "2022-03-08T23:13:33.984Z"
   },
   {
    "duration": 324,
    "start_time": "2022-03-08T23:14:24.347Z"
   },
   {
    "duration": 103,
    "start_time": "2022-03-08T23:16:59.302Z"
   },
   {
    "duration": 93,
    "start_time": "2022-03-08T23:20:46.373Z"
   },
   {
    "duration": 77,
    "start_time": "2022-03-08T23:23:00.095Z"
   },
   {
    "duration": 14,
    "start_time": "2022-03-08T23:23:35.092Z"
   },
   {
    "duration": 47,
    "start_time": "2022-03-08T23:25:34.229Z"
   },
   {
    "duration": 18,
    "start_time": "2022-03-08T23:25:41.653Z"
   },
   {
    "duration": 16,
    "start_time": "2022-03-08T23:25:53.837Z"
   },
   {
    "duration": 5570,
    "start_time": "2022-03-08T23:31:03.308Z"
   },
   {
    "duration": 5382,
    "start_time": "2022-03-08T23:31:40.859Z"
   },
   {
    "duration": 475,
    "start_time": "2022-03-08T23:33:09.159Z"
   },
   {
    "duration": 77,
    "start_time": "2022-03-08T23:33:24.580Z"
   },
   {
    "duration": 49,
    "start_time": "2022-03-08T23:33:31.715Z"
   },
   {
    "duration": 18,
    "start_time": "2022-03-08T23:34:29.665Z"
   },
   {
    "duration": 481,
    "start_time": "2022-03-08T23:35:26.285Z"
   },
   {
    "duration": 18,
    "start_time": "2022-03-08T23:35:37.201Z"
   },
   {
    "duration": 513,
    "start_time": "2022-03-08T23:36:26.590Z"
   },
   {
    "duration": 19,
    "start_time": "2022-03-08T23:36:36.328Z"
   },
   {
    "duration": 530,
    "start_time": "2022-03-08T23:37:14.851Z"
   },
   {
    "duration": 20,
    "start_time": "2022-03-08T23:37:19.910Z"
   },
   {
    "duration": 9,
    "start_time": "2022-03-08T23:38:00.523Z"
   },
   {
    "duration": 537,
    "start_time": "2022-03-08T23:39:34.125Z"
   },
   {
    "duration": 9,
    "start_time": "2022-03-08T23:39:40.224Z"
   },
   {
    "duration": 20,
    "start_time": "2022-03-08T23:39:52.657Z"
   },
   {
    "duration": 507,
    "start_time": "2022-03-08T23:40:11.680Z"
   },
   {
    "duration": 20,
    "start_time": "2022-03-08T23:40:13.949Z"
   },
   {
    "duration": 33,
    "start_time": "2022-03-08T23:43:02.325Z"
   },
   {
    "duration": 25,
    "start_time": "2022-03-08T23:43:09.883Z"
   },
   {
    "duration": 10,
    "start_time": "2022-03-08T23:43:38.069Z"
   },
   {
    "duration": 511,
    "start_time": "2022-03-08T23:43:56.859Z"
   },
   {
    "duration": 29,
    "start_time": "2022-03-08T23:43:58.392Z"
   },
   {
    "duration": 10,
    "start_time": "2022-03-08T23:43:59.944Z"
   },
   {
    "duration": 239,
    "start_time": "2022-03-08T23:44:49.721Z"
   },
   {
    "duration": 377,
    "start_time": "2022-03-08T23:47:09.535Z"
   },
   {
    "duration": 1513,
    "start_time": "2022-03-08T23:47:18.417Z"
   },
   {
    "duration": 31,
    "start_time": "2022-03-08T23:48:01.750Z"
   },
   {
    "duration": 11,
    "start_time": "2022-03-08T23:48:03.934Z"
   },
   {
    "duration": 24,
    "start_time": "2022-03-08T23:48:32.601Z"
   },
   {
    "duration": 21,
    "start_time": "2022-03-08T23:49:44.962Z"
   },
   {
    "duration": 23,
    "start_time": "2022-03-08T23:50:53.898Z"
   },
   {
    "duration": 15,
    "start_time": "2022-03-08T23:51:11.165Z"
   },
   {
    "duration": 5,
    "start_time": "2022-03-08T23:51:38.112Z"
   },
   {
    "duration": 26,
    "start_time": "2022-03-08T23:52:11.174Z"
   },
   {
    "duration": 24,
    "start_time": "2022-03-08T23:52:40.378Z"
   },
   {
    "duration": 11,
    "start_time": "2022-03-08T23:53:08.706Z"
   },
   {
    "duration": 34,
    "start_time": "2022-03-08T23:53:28.662Z"
   },
   {
    "duration": 22,
    "start_time": "2022-03-08T23:53:40.333Z"
   },
   {
    "duration": 25,
    "start_time": "2022-03-08T23:54:13.823Z"
   },
   {
    "duration": 212,
    "start_time": "2022-03-08T23:54:35.601Z"
   },
   {
    "duration": 90,
    "start_time": "2022-03-08T23:55:39.177Z"
   },
   {
    "duration": 104,
    "start_time": "2022-03-08T23:56:18.568Z"
   },
   {
    "duration": 61,
    "start_time": "2022-03-08T23:56:38.546Z"
   },
   {
    "duration": 530,
    "start_time": "2022-03-08T23:56:50.133Z"
   },
   {
    "duration": 53,
    "start_time": "2022-03-08T23:57:12.175Z"
   },
   {
    "duration": 5,
    "start_time": "2022-03-08T23:57:25.966Z"
   },
   {
    "duration": 11,
    "start_time": "2022-03-08T23:57:27.007Z"
   },
   {
    "duration": 52,
    "start_time": "2022-03-08T23:57:36.618Z"
   },
   {
    "duration": 11,
    "start_time": "2022-03-08T23:57:41.274Z"
   },
   {
    "duration": 5,
    "start_time": "2022-03-08T23:57:56.058Z"
   },
   {
    "duration": 8,
    "start_time": "2022-03-08T23:57:56.810Z"
   },
   {
    "duration": 12,
    "start_time": "2022-03-08T23:58:49.171Z"
   },
   {
    "duration": 8,
    "start_time": "2022-03-08T23:58:51.770Z"
   },
   {
    "duration": 21,
    "start_time": "2022-03-08T23:59:17.750Z"
   },
   {
    "duration": 1193,
    "start_time": "2022-03-09T00:04:43.843Z"
   },
   {
    "duration": 53,
    "start_time": "2022-03-09T00:08:38.725Z"
   },
   {
    "duration": 10,
    "start_time": "2022-03-09T00:09:24.025Z"
   },
   {
    "duration": 782,
    "start_time": "2022-03-09T00:09:52.260Z"
   },
   {
    "duration": 1128,
    "start_time": "2022-03-09T00:10:29.572Z"
   },
   {
    "duration": 1126,
    "start_time": "2022-03-09T00:10:46.794Z"
   },
   {
    "duration": 1080,
    "start_time": "2022-03-09T00:11:58.201Z"
   },
   {
    "duration": 6,
    "start_time": "2022-03-09T00:13:34.063Z"
   },
   {
    "duration": 1103,
    "start_time": "2022-03-09T00:13:45.028Z"
   },
   {
    "duration": 1165,
    "start_time": "2022-03-10T19:24:21.652Z"
   },
   {
    "duration": 25,
    "start_time": "2022-03-10T19:24:22.819Z"
   },
   {
    "duration": 43,
    "start_time": "2022-03-10T19:24:22.846Z"
   },
   {
    "duration": 159,
    "start_time": "2022-03-10T19:24:22.891Z"
   },
   {
    "duration": 96,
    "start_time": "2022-03-10T19:24:23.052Z"
   },
   {
    "duration": 131,
    "start_time": "2022-03-10T19:24:23.150Z"
   },
   {
    "duration": 11,
    "start_time": "2022-03-10T19:24:23.283Z"
   },
   {
    "duration": 33,
    "start_time": "2022-03-10T19:24:23.295Z"
   },
   {
    "duration": 39,
    "start_time": "2022-03-10T19:24:23.331Z"
   },
   {
    "duration": 16,
    "start_time": "2022-03-10T19:24:23.372Z"
   },
   {
    "duration": 31,
    "start_time": "2022-03-10T19:24:23.390Z"
   },
   {
    "duration": 26,
    "start_time": "2022-03-10T19:24:23.422Z"
   },
   {
    "duration": 42,
    "start_time": "2022-03-10T19:24:23.450Z"
   },
   {
    "duration": 18,
    "start_time": "2022-03-10T19:24:23.494Z"
   },
   {
    "duration": 211,
    "start_time": "2022-03-10T19:24:23.514Z"
   },
   {
    "duration": 5,
    "start_time": "2022-03-10T19:24:23.726Z"
   },
   {
    "duration": 249,
    "start_time": "2022-03-10T19:24:23.732Z"
   },
   {
    "duration": 5,
    "start_time": "2022-03-10T19:24:23.983Z"
   },
   {
    "duration": 197,
    "start_time": "2022-03-10T19:24:23.989Z"
   },
   {
    "duration": 6,
    "start_time": "2022-03-10T19:24:24.188Z"
   },
   {
    "duration": 13,
    "start_time": "2022-03-10T19:24:24.197Z"
   },
   {
    "duration": 21,
    "start_time": "2022-03-10T19:24:24.212Z"
   },
   {
    "duration": 8,
    "start_time": "2022-03-10T19:24:24.235Z"
   },
   {
    "duration": 24,
    "start_time": "2022-03-10T19:24:24.245Z"
   },
   {
    "duration": 29,
    "start_time": "2022-03-10T19:24:24.271Z"
   },
   {
    "duration": 33,
    "start_time": "2022-03-10T19:24:24.301Z"
   },
   {
    "duration": 33,
    "start_time": "2022-03-10T19:24:24.338Z"
   },
   {
    "duration": 113,
    "start_time": "2022-03-10T19:24:24.374Z"
   },
   {
    "duration": 32,
    "start_time": "2022-03-10T19:24:24.490Z"
   },
   {
    "duration": 5,
    "start_time": "2022-03-10T19:24:24.524Z"
   },
   {
    "duration": 34,
    "start_time": "2022-03-10T19:24:24.531Z"
   },
   {
    "duration": 311,
    "start_time": "2022-03-10T19:24:24.567Z"
   },
   {
    "duration": 272,
    "start_time": "2022-03-10T19:24:24.880Z"
   },
   {
    "duration": 285,
    "start_time": "2022-03-10T19:24:25.154Z"
   },
   {
    "duration": 280,
    "start_time": "2022-03-10T19:24:25.440Z"
   },
   {
    "duration": 227,
    "start_time": "2022-03-10T19:24:25.722Z"
   },
   {
    "duration": 257,
    "start_time": "2022-03-10T19:24:25.951Z"
   },
   {
    "duration": 9,
    "start_time": "2022-03-10T19:24:26.209Z"
   },
   {
    "duration": 16,
    "start_time": "2022-03-10T19:24:26.220Z"
   },
   {
    "duration": 72,
    "start_time": "2022-03-10T19:24:26.238Z"
   },
   {
    "duration": 18,
    "start_time": "2022-03-10T19:24:26.312Z"
   },
   {
    "duration": 6,
    "start_time": "2022-03-10T19:24:26.331Z"
   },
   {
    "duration": 311,
    "start_time": "2022-03-10T19:24:26.338Z"
   },
   {
    "duration": 234,
    "start_time": "2022-03-10T19:24:26.651Z"
   },
   {
    "duration": 237,
    "start_time": "2022-03-10T19:24:26.887Z"
   },
   {
    "duration": 13,
    "start_time": "2022-03-10T19:24:27.126Z"
   },
   {
    "duration": 36,
    "start_time": "2022-03-10T19:24:27.141Z"
   },
   {
    "duration": 30,
    "start_time": "2022-03-10T19:24:27.179Z"
   },
   {
    "duration": 6,
    "start_time": "2022-03-10T19:24:27.211Z"
   },
   {
    "duration": 83,
    "start_time": "2022-03-10T19:24:27.219Z"
   },
   {
    "duration": 25,
    "start_time": "2022-03-10T19:24:27.303Z"
   },
   {
    "duration": 4,
    "start_time": "2022-03-10T19:24:27.330Z"
   },
   {
    "duration": 9,
    "start_time": "2022-03-10T19:24:27.335Z"
   },
   {
    "duration": 293,
    "start_time": "2022-03-10T19:24:27.345Z"
   },
   {
    "duration": 274,
    "start_time": "2022-03-10T19:24:27.640Z"
   },
   {
    "duration": 297,
    "start_time": "2022-03-10T19:24:27.916Z"
   },
   {
    "duration": 227,
    "start_time": "2022-03-10T19:24:28.214Z"
   },
   {
    "duration": 229,
    "start_time": "2022-03-10T19:24:28.442Z"
   },
   {
    "duration": 302,
    "start_time": "2022-03-10T19:24:28.676Z"
   },
   {
    "duration": 2,
    "start_time": "2022-03-10T19:24:28.980Z"
   },
   {
    "duration": 791,
    "start_time": "2022-03-10T19:24:28.984Z"
   },
   {
    "duration": 44,
    "start_time": "2022-03-10T19:24:29.777Z"
   },
   {
    "duration": 338,
    "start_time": "2022-03-10T19:24:29.823Z"
   },
   {
    "duration": 46,
    "start_time": "2022-03-10T19:24:30.163Z"
   },
   {
    "duration": 868,
    "start_time": "2022-03-10T19:24:30.211Z"
   },
   {
    "duration": 24,
    "start_time": "2022-03-10T19:30:21.068Z"
   },
   {
    "duration": 11,
    "start_time": "2022-03-10T19:30:46.657Z"
   },
   {
    "duration": 10,
    "start_time": "2022-03-10T19:30:57.326Z"
   },
   {
    "duration": 11,
    "start_time": "2022-03-10T19:31:05.090Z"
   },
   {
    "duration": 9,
    "start_time": "2022-03-10T19:31:41.740Z"
   },
   {
    "duration": 9,
    "start_time": "2022-03-10T19:31:54.768Z"
   },
   {
    "duration": 9,
    "start_time": "2022-03-10T19:32:04.357Z"
   },
   {
    "duration": 10,
    "start_time": "2022-03-10T19:32:08.179Z"
   },
   {
    "duration": 8,
    "start_time": "2022-03-10T19:32:12.635Z"
   },
   {
    "duration": 9,
    "start_time": "2022-03-10T19:32:16.344Z"
   },
   {
    "duration": 9,
    "start_time": "2022-03-10T19:32:19.894Z"
   },
   {
    "duration": 9,
    "start_time": "2022-03-10T19:32:23.032Z"
   },
   {
    "duration": 8,
    "start_time": "2022-03-10T19:32:35.312Z"
   },
   {
    "duration": 8,
    "start_time": "2022-03-10T19:32:57.839Z"
   },
   {
    "duration": 7,
    "start_time": "2022-03-10T19:33:11.894Z"
   },
   {
    "duration": 8,
    "start_time": "2022-03-10T19:33:29.644Z"
   },
   {
    "duration": 7,
    "start_time": "2022-03-10T19:33:45.069Z"
   },
   {
    "duration": 8,
    "start_time": "2022-03-10T19:33:49.184Z"
   },
   {
    "duration": 8,
    "start_time": "2022-03-10T19:34:06.800Z"
   },
   {
    "duration": 8,
    "start_time": "2022-03-10T19:37:49.083Z"
   },
   {
    "duration": 30,
    "start_time": "2022-03-10T19:41:51.314Z"
   },
   {
    "duration": 28,
    "start_time": "2022-03-10T19:44:53.873Z"
   },
   {
    "duration": 12,
    "start_time": "2022-03-10T19:44:54.677Z"
   },
   {
    "duration": 88,
    "start_time": "2022-03-10T19:45:03.380Z"
   },
   {
    "duration": 14,
    "start_time": "2022-03-10T19:45:03.971Z"
   },
   {
    "duration": 1102,
    "start_time": "2022-03-10T19:45:30.715Z"
   },
   {
    "duration": 1125,
    "start_time": "2022-03-10T19:46:22.851Z"
   },
   {
    "duration": 30,
    "start_time": "2022-03-10T19:46:36.153Z"
   },
   {
    "duration": 421,
    "start_time": "2022-03-10T19:47:22.527Z"
   },
   {
    "duration": 20,
    "start_time": "2022-03-10T19:47:37.151Z"
   },
   {
    "duration": 272,
    "start_time": "2022-03-10T19:47:54.230Z"
   },
   {
    "duration": 269,
    "start_time": "2022-03-10T19:49:15.619Z"
   },
   {
    "duration": 4,
    "start_time": "2022-03-10T19:49:45.176Z"
   },
   {
    "duration": 23,
    "start_time": "2022-03-10T19:50:12.114Z"
   },
   {
    "duration": 21,
    "start_time": "2022-03-10T19:51:48.332Z"
   },
   {
    "duration": 278,
    "start_time": "2022-03-10T19:53:37.983Z"
   },
   {
    "duration": 31,
    "start_time": "2022-03-10T19:57:46.726Z"
   },
   {
    "duration": 32,
    "start_time": "2022-03-10T20:01:02.768Z"
   },
   {
    "duration": 13,
    "start_time": "2022-03-10T20:01:04.172Z"
   },
   {
    "duration": 1200,
    "start_time": "2022-03-10T20:01:12.124Z"
   },
   {
    "duration": 32,
    "start_time": "2022-03-10T20:01:37.730Z"
   },
   {
    "duration": 16,
    "start_time": "2022-03-10T20:01:44.049Z"
   },
   {
    "duration": 20,
    "start_time": "2022-03-10T20:01:52.028Z"
   },
   {
    "duration": 6380,
    "start_time": "2022-03-10T20:04:35.951Z"
   },
   {
    "duration": -62,
    "start_time": "2022-03-10T20:04:42.396Z"
   },
   {
    "duration": 4,
    "start_time": "2022-03-10T20:05:25.559Z"
   },
   {
    "duration": 4,
    "start_time": "2022-03-10T20:05:34.805Z"
   },
   {
    "duration": 4,
    "start_time": "2022-03-10T20:06:37.922Z"
   },
   {
    "duration": 7,
    "start_time": "2022-03-10T20:06:44.741Z"
   },
   {
    "duration": 22,
    "start_time": "2022-03-10T20:06:51.666Z"
   },
   {
    "duration": 8,
    "start_time": "2022-03-10T20:11:50.065Z"
   },
   {
    "duration": 21,
    "start_time": "2022-03-10T20:12:28.765Z"
   },
   {
    "duration": 272,
    "start_time": "2022-03-10T20:14:43.350Z"
   },
   {
    "duration": 13,
    "start_time": "2022-03-10T20:16:06.308Z"
   },
   {
    "duration": 8,
    "start_time": "2022-03-10T20:16:13.162Z"
   },
   {
    "duration": 88,
    "start_time": "2022-03-10T20:16:37.247Z"
   },
   {
    "duration": 8,
    "start_time": "2022-03-10T20:16:45.612Z"
   },
   {
    "duration": 31,
    "start_time": "2022-03-10T20:21:41.978Z"
   },
   {
    "duration": 7,
    "start_time": "2022-03-10T20:21:44.509Z"
   },
   {
    "duration": 15,
    "start_time": "2022-03-10T20:22:41.902Z"
   },
   {
    "duration": 1212,
    "start_time": "2022-03-10T20:23:21.569Z"
   },
   {
    "duration": 18,
    "start_time": "2022-03-10T20:23:33.985Z"
   },
   {
    "duration": 21,
    "start_time": "2022-03-10T20:23:36.698Z"
   },
   {
    "duration": 281,
    "start_time": "2022-03-10T20:25:52.231Z"
   },
   {
    "duration": 7,
    "start_time": "2022-03-10T20:26:30.162Z"
   },
   {
    "duration": 23,
    "start_time": "2022-03-10T20:26:36.883Z"
   },
   {
    "duration": 6,
    "start_time": "2022-03-10T20:29:31.727Z"
   },
   {
    "duration": 22,
    "start_time": "2022-03-10T20:29:34.116Z"
   },
   {
    "duration": 7,
    "start_time": "2022-03-10T20:29:54.430Z"
   },
   {
    "duration": 23,
    "start_time": "2022-03-10T20:29:56.861Z"
   },
   {
    "duration": 6,
    "start_time": "2022-03-10T20:36:59.344Z"
   },
   {
    "duration": 22,
    "start_time": "2022-03-10T20:36:59.994Z"
   },
   {
    "duration": 10,
    "start_time": "2022-03-10T20:37:12.656Z"
   },
   {
    "duration": 7,
    "start_time": "2022-03-10T20:37:55.989Z"
   },
   {
    "duration": 7,
    "start_time": "2022-03-10T20:37:58.684Z"
   },
   {
    "duration": 23,
    "start_time": "2022-03-10T20:38:04.895Z"
   },
   {
    "duration": 7,
    "start_time": "2022-03-10T20:38:30.028Z"
   },
   {
    "duration": 22,
    "start_time": "2022-03-10T20:38:31.992Z"
   },
   {
    "duration": 7,
    "start_time": "2022-03-10T20:39:37.600Z"
   },
   {
    "duration": 22,
    "start_time": "2022-03-10T20:39:38.038Z"
   },
   {
    "duration": 1155,
    "start_time": "2022-03-10T20:40:20.220Z"
   },
   {
    "duration": 4,
    "start_time": "2022-03-10T20:41:18.921Z"
   },
   {
    "duration": 4,
    "start_time": "2022-03-10T20:41:28.727Z"
   },
   {
    "duration": 271,
    "start_time": "2022-03-10T20:42:26.422Z"
   },
   {
    "duration": 258,
    "start_time": "2022-03-10T20:42:33.049Z"
   },
   {
    "duration": 4,
    "start_time": "2022-03-10T20:42:36.519Z"
   },
   {
    "duration": 23,
    "start_time": "2022-03-10T20:42:39.880Z"
   },
   {
    "duration": 257,
    "start_time": "2022-03-10T20:43:08.902Z"
   },
   {
    "duration": 276,
    "start_time": "2022-03-10T20:44:29.535Z"
   },
   {
    "duration": 265,
    "start_time": "2022-03-10T21:00:29.236Z"
   },
   {
    "duration": 118,
    "start_time": "2022-03-10T21:00:49.425Z"
   },
   {
    "duration": 19,
    "start_time": "2022-03-10T21:00:53.906Z"
   },
   {
    "duration": 254,
    "start_time": "2022-03-10T21:03:20.289Z"
   },
   {
    "duration": 279,
    "start_time": "2022-03-10T21:03:52.850Z"
   },
   {
    "duration": 10,
    "start_time": "2022-03-10T21:05:20.883Z"
   },
   {
    "duration": 308,
    "start_time": "2022-03-10T21:05:50.914Z"
   },
   {
    "duration": 6,
    "start_time": "2022-03-10T21:06:19.456Z"
   },
   {
    "duration": 21,
    "start_time": "2022-03-10T21:06:21.740Z"
   },
   {
    "duration": 433,
    "start_time": "2022-03-10T21:09:57.738Z"
   },
   {
    "duration": 22,
    "start_time": "2022-03-10T21:10:04.695Z"
   },
   {
    "duration": 444,
    "start_time": "2022-03-10T21:10:45.260Z"
   },
   {
    "duration": 22,
    "start_time": "2022-03-10T21:10:46.641Z"
   },
   {
    "duration": 437,
    "start_time": "2022-03-10T21:11:07.404Z"
   },
   {
    "duration": 23,
    "start_time": "2022-03-10T21:11:10.271Z"
   },
   {
    "duration": 434,
    "start_time": "2022-03-10T21:14:39.401Z"
   },
   {
    "duration": 23,
    "start_time": "2022-03-10T21:14:40.234Z"
   },
   {
    "duration": 500,
    "start_time": "2022-03-10T21:15:45.600Z"
   },
   {
    "duration": 21,
    "start_time": "2022-03-10T21:15:47.219Z"
   },
   {
    "duration": 9,
    "start_time": "2022-03-10T21:16:16.774Z"
   },
   {
    "duration": 429,
    "start_time": "2022-03-10T21:16:44.619Z"
   },
   {
    "duration": 23,
    "start_time": "2022-03-10T21:16:46.392Z"
   },
   {
    "duration": 79,
    "start_time": "2022-03-10T21:16:53.631Z"
   },
   {
    "duration": 8,
    "start_time": "2022-03-10T21:16:56.876Z"
   },
   {
    "duration": 21,
    "start_time": "2022-03-10T21:18:25.184Z"
   },
   {
    "duration": 283,
    "start_time": "2022-03-10T21:19:11.973Z"
   },
   {
    "duration": 18,
    "start_time": "2022-03-10T21:20:11.675Z"
   },
   {
    "duration": 31,
    "start_time": "2022-03-10T21:21:46.236Z"
   },
   {
    "duration": 30,
    "start_time": "2022-03-10T21:23:35.277Z"
   },
   {
    "duration": 11,
    "start_time": "2022-03-10T21:23:35.309Z"
   },
   {
    "duration": 1164,
    "start_time": "2022-03-10T21:23:35.323Z"
   },
   {
    "duration": 17,
    "start_time": "2022-03-10T21:23:36.489Z"
   },
   {
    "duration": 23,
    "start_time": "2022-03-10T21:23:36.508Z"
   },
   {
    "duration": 456,
    "start_time": "2022-03-10T21:23:36.533Z"
   },
   {
    "duration": 30,
    "start_time": "2022-03-10T21:23:36.991Z"
   },
   {
    "duration": 296,
    "start_time": "2022-03-10T21:23:51.478Z"
   },
   {
    "duration": 107,
    "start_time": "2022-03-10T21:23:51.777Z"
   },
   {
    "duration": 13,
    "start_time": "2022-03-10T21:23:51.886Z"
   },
   {
    "duration": 1151,
    "start_time": "2022-03-10T21:23:51.901Z"
   },
   {
    "duration": 27,
    "start_time": "2022-03-10T21:23:53.054Z"
   },
   {
    "duration": 23,
    "start_time": "2022-03-10T21:23:53.083Z"
   },
   {
    "duration": 451,
    "start_time": "2022-03-10T21:23:53.108Z"
   },
   {
    "duration": 41,
    "start_time": "2022-03-10T21:23:53.560Z"
   },
   {
    "duration": 4,
    "start_time": "2022-03-10T21:24:19.180Z"
   },
   {
    "duration": 19,
    "start_time": "2022-03-10T21:24:19.187Z"
   },
   {
    "duration": 28,
    "start_time": "2022-03-10T21:24:19.208Z"
   },
   {
    "duration": 167,
    "start_time": "2022-03-10T21:24:19.238Z"
   },
   {
    "duration": 99,
    "start_time": "2022-03-10T21:24:19.407Z"
   },
   {
    "duration": 139,
    "start_time": "2022-03-10T21:24:19.508Z"
   },
   {
    "duration": 7,
    "start_time": "2022-03-10T21:24:19.650Z"
   },
   {
    "duration": 7,
    "start_time": "2022-03-10T21:24:19.676Z"
   },
   {
    "duration": 17,
    "start_time": "2022-03-10T21:24:19.685Z"
   },
   {
    "duration": 9,
    "start_time": "2022-03-10T21:24:19.703Z"
   },
   {
    "duration": 14,
    "start_time": "2022-03-10T21:24:19.714Z"
   },
   {
    "duration": 7,
    "start_time": "2022-03-10T21:24:19.730Z"
   },
   {
    "duration": 47,
    "start_time": "2022-03-10T21:24:19.739Z"
   },
   {
    "duration": 16,
    "start_time": "2022-03-10T21:24:19.787Z"
   },
   {
    "duration": 227,
    "start_time": "2022-03-10T21:24:19.805Z"
   },
   {
    "duration": 4,
    "start_time": "2022-03-10T21:24:20.034Z"
   },
   {
    "duration": 239,
    "start_time": "2022-03-10T21:24:20.040Z"
   },
   {
    "duration": 5,
    "start_time": "2022-03-10T21:24:20.281Z"
   },
   {
    "duration": 192,
    "start_time": "2022-03-10T21:24:20.290Z"
   },
   {
    "duration": 11,
    "start_time": "2022-03-10T21:24:20.484Z"
   },
   {
    "duration": 10,
    "start_time": "2022-03-10T21:24:20.497Z"
   },
   {
    "duration": 9,
    "start_time": "2022-03-10T21:24:20.509Z"
   },
   {
    "duration": 8,
    "start_time": "2022-03-10T21:24:20.520Z"
   },
   {
    "duration": 8,
    "start_time": "2022-03-10T21:24:20.530Z"
   },
   {
    "duration": 50,
    "start_time": "2022-03-10T21:24:20.540Z"
   },
   {
    "duration": 13,
    "start_time": "2022-03-10T21:24:20.592Z"
   },
   {
    "duration": 23,
    "start_time": "2022-03-10T21:24:20.607Z"
   },
   {
    "duration": 61,
    "start_time": "2022-03-10T21:24:20.633Z"
   },
   {
    "duration": 132,
    "start_time": "2022-03-10T21:24:20.696Z"
   },
   {
    "duration": 34,
    "start_time": "2022-03-10T21:24:20.830Z"
   },
   {
    "duration": 12,
    "start_time": "2022-03-10T21:24:20.866Z"
   },
   {
    "duration": 10,
    "start_time": "2022-03-10T21:24:20.880Z"
   },
   {
    "duration": 313,
    "start_time": "2022-03-10T21:24:20.892Z"
   },
   {
    "duration": 273,
    "start_time": "2022-03-10T21:24:21.206Z"
   },
   {
    "duration": 358,
    "start_time": "2022-03-10T21:24:21.481Z"
   },
   {
    "duration": 224,
    "start_time": "2022-03-10T21:24:21.840Z"
   },
   {
    "duration": 229,
    "start_time": "2022-03-10T21:24:22.065Z"
   },
   {
    "duration": 263,
    "start_time": "2022-03-10T21:24:22.295Z"
   },
   {
    "duration": 10,
    "start_time": "2022-03-10T21:24:22.560Z"
   },
   {
    "duration": 34,
    "start_time": "2022-03-10T21:24:22.577Z"
   },
   {
    "duration": 68,
    "start_time": "2022-03-10T21:24:22.613Z"
   },
   {
    "duration": 20,
    "start_time": "2022-03-10T21:24:22.683Z"
   },
   {
    "duration": 5,
    "start_time": "2022-03-10T21:24:22.705Z"
   },
   {
    "duration": 294,
    "start_time": "2022-03-10T21:24:22.712Z"
   },
   {
    "duration": 238,
    "start_time": "2022-03-10T21:24:23.008Z"
   },
   {
    "duration": 234,
    "start_time": "2022-03-10T21:24:23.247Z"
   },
   {
    "duration": 16,
    "start_time": "2022-03-10T21:24:23.482Z"
   },
   {
    "duration": 17,
    "start_time": "2022-03-10T21:24:23.499Z"
   },
   {
    "duration": 29,
    "start_time": "2022-03-10T21:24:23.518Z"
   },
   {
    "duration": 31,
    "start_time": "2022-03-10T21:24:23.549Z"
   },
   {
    "duration": 69,
    "start_time": "2022-03-10T21:24:23.582Z"
   },
   {
    "duration": 37,
    "start_time": "2022-03-10T21:24:23.653Z"
   },
   {
    "duration": 3,
    "start_time": "2022-03-10T21:24:23.692Z"
   },
   {
    "duration": 9,
    "start_time": "2022-03-10T21:24:23.697Z"
   },
   {
    "duration": 281,
    "start_time": "2022-03-10T21:24:23.711Z"
   },
   {
    "duration": 272,
    "start_time": "2022-03-10T21:24:23.994Z"
   },
   {
    "duration": 297,
    "start_time": "2022-03-10T21:24:24.267Z"
   },
   {
    "duration": 232,
    "start_time": "2022-03-10T21:24:24.566Z"
   },
   {
    "duration": 312,
    "start_time": "2022-03-10T21:24:24.800Z"
   },
   {
    "duration": 244,
    "start_time": "2022-03-10T21:24:25.114Z"
   },
   {
    "duration": 2,
    "start_time": "2022-03-10T21:24:25.360Z"
   },
   {
    "duration": 804,
    "start_time": "2022-03-10T21:24:25.364Z"
   },
   {
    "duration": 49,
    "start_time": "2022-03-10T21:24:26.170Z"
   },
   {
    "duration": 314,
    "start_time": "2022-03-10T21:24:26.220Z"
   },
   {
    "duration": 41,
    "start_time": "2022-03-10T21:24:26.536Z"
   },
   {
    "duration": 13,
    "start_time": "2022-03-10T21:24:26.578Z"
   },
   {
    "duration": 1179,
    "start_time": "2022-03-10T21:24:26.593Z"
   },
   {
    "duration": 18,
    "start_time": "2022-03-10T21:24:27.774Z"
   },
   {
    "duration": 27,
    "start_time": "2022-03-10T21:24:27.794Z"
   },
   {
    "duration": 442,
    "start_time": "2022-03-10T21:24:27.823Z"
   },
   {
    "duration": 35,
    "start_time": "2022-03-10T21:24:28.267Z"
   },
   {
    "duration": 5,
    "start_time": "2022-03-10T21:25:40.273Z"
   },
   {
    "duration": 23,
    "start_time": "2022-03-10T21:25:47.368Z"
   },
   {
    "duration": 7,
    "start_time": "2022-03-10T21:26:10.807Z"
   },
   {
    "duration": 20,
    "start_time": "2022-03-10T21:26:24.065Z"
   },
   {
    "duration": 22,
    "start_time": "2022-03-10T21:26:49.424Z"
   },
   {
    "duration": 1037,
    "start_time": "2022-03-10T21:27:05.190Z"
   },
   {
    "duration": 1568,
    "start_time": "2022-03-10T21:27:41.976Z"
   },
   {
    "duration": 9,
    "start_time": "2022-03-10T21:29:37.043Z"
   },
   {
    "duration": 1630,
    "start_time": "2022-03-10T21:29:43.219Z"
   },
   {
    "duration": 1592,
    "start_time": "2022-03-10T21:30:05.534Z"
   },
   {
    "duration": 2200,
    "start_time": "2022-03-10T21:37:29.318Z"
   },
   {
    "duration": 1690,
    "start_time": "2022-03-10T21:38:00.246Z"
   },
   {
    "duration": 3474,
    "start_time": "2022-03-10T21:39:36.571Z"
   },
   {
    "duration": 1757,
    "start_time": "2022-03-10T21:39:58.627Z"
   },
   {
    "duration": 1644,
    "start_time": "2022-03-10T21:40:45.154Z"
   },
   {
    "duration": 1794,
    "start_time": "2022-03-10T21:43:21.213Z"
   },
   {
    "duration": 1520,
    "start_time": "2022-03-10T21:43:39.921Z"
   },
   {
    "duration": 1699,
    "start_time": "2022-03-10T21:44:13.951Z"
   },
   {
    "duration": 1470,
    "start_time": "2022-03-10T21:44:28.249Z"
   },
   {
    "duration": 1446,
    "start_time": "2022-03-10T21:44:53.607Z"
   },
   {
    "duration": 2108,
    "start_time": "2022-03-10T21:45:23.853Z"
   },
   {
    "duration": 2176,
    "start_time": "2022-03-10T21:46:28.558Z"
   },
   {
    "duration": 1958,
    "start_time": "2022-03-10T21:48:17.091Z"
   },
   {
    "duration": 2145,
    "start_time": "2022-03-10T21:48:36.138Z"
   },
   {
    "duration": 2137,
    "start_time": "2022-03-10T21:48:59.802Z"
   },
   {
    "duration": 1487,
    "start_time": "2022-03-10T21:49:30.714Z"
   },
   {
    "duration": 1585,
    "start_time": "2022-03-10T21:50:22.689Z"
   },
   {
    "duration": 1525,
    "start_time": "2022-03-10T21:51:39.041Z"
   },
   {
    "duration": 305,
    "start_time": "2022-03-11T11:30:17.826Z"
   },
   {
    "duration": 1285,
    "start_time": "2022-03-11T11:30:24.024Z"
   },
   {
    "duration": 17,
    "start_time": "2022-03-11T11:30:25.311Z"
   },
   {
    "duration": 55,
    "start_time": "2022-03-11T11:30:25.331Z"
   },
   {
    "duration": 194,
    "start_time": "2022-03-11T11:30:25.388Z"
   },
   {
    "duration": 107,
    "start_time": "2022-03-11T11:30:25.584Z"
   },
   {
    "duration": 156,
    "start_time": "2022-03-11T11:30:25.693Z"
   },
   {
    "duration": 12,
    "start_time": "2022-03-11T11:30:25.851Z"
   },
   {
    "duration": 12,
    "start_time": "2022-03-11T11:30:25.865Z"
   },
   {
    "duration": 38,
    "start_time": "2022-03-11T11:30:25.881Z"
   },
   {
    "duration": 23,
    "start_time": "2022-03-11T11:30:25.922Z"
   },
   {
    "duration": 58,
    "start_time": "2022-03-11T11:30:25.947Z"
   },
   {
    "duration": 19,
    "start_time": "2022-03-11T11:30:26.008Z"
   },
   {
    "duration": 43,
    "start_time": "2022-03-11T11:30:26.029Z"
   },
   {
    "duration": 20,
    "start_time": "2022-03-11T11:30:26.074Z"
   },
   {
    "duration": 220,
    "start_time": "2022-03-11T11:30:26.096Z"
   },
   {
    "duration": 5,
    "start_time": "2022-03-11T11:30:26.318Z"
   },
   {
    "duration": 273,
    "start_time": "2022-03-11T11:30:26.325Z"
   },
   {
    "duration": 6,
    "start_time": "2022-03-11T11:30:26.600Z"
   },
   {
    "duration": 206,
    "start_time": "2022-03-11T11:30:26.609Z"
   },
   {
    "duration": 13,
    "start_time": "2022-03-11T11:30:26.817Z"
   },
   {
    "duration": 25,
    "start_time": "2022-03-11T11:30:26.832Z"
   },
   {
    "duration": 31,
    "start_time": "2022-03-11T11:30:26.859Z"
   },
   {
    "duration": 20,
    "start_time": "2022-03-11T11:30:26.892Z"
   },
   {
    "duration": 21,
    "start_time": "2022-03-11T11:30:26.914Z"
   },
   {
    "duration": 28,
    "start_time": "2022-03-11T11:30:26.938Z"
   },
   {
    "duration": 32,
    "start_time": "2022-03-11T11:30:26.968Z"
   },
   {
    "duration": 46,
    "start_time": "2022-03-11T11:30:27.006Z"
   },
   {
    "duration": 31,
    "start_time": "2022-03-11T11:30:27.055Z"
   },
   {
    "duration": 141,
    "start_time": "2022-03-11T11:30:27.088Z"
   },
   {
    "duration": 47,
    "start_time": "2022-03-11T11:30:27.231Z"
   },
   {
    "duration": 5,
    "start_time": "2022-03-11T11:30:27.279Z"
   },
   {
    "duration": 15,
    "start_time": "2022-03-11T11:30:27.285Z"
   },
   {
    "duration": 341,
    "start_time": "2022-03-11T11:30:27.302Z"
   },
   {
    "duration": 289,
    "start_time": "2022-03-11T11:30:27.644Z"
   },
   {
    "duration": 310,
    "start_time": "2022-03-11T11:30:27.934Z"
   },
   {
    "duration": 311,
    "start_time": "2022-03-11T11:30:28.246Z"
   },
   {
    "duration": 243,
    "start_time": "2022-03-11T11:30:28.558Z"
   },
   {
    "duration": 275,
    "start_time": "2022-03-11T11:30:28.802Z"
   },
   {
    "duration": 11,
    "start_time": "2022-03-11T11:30:29.078Z"
   },
   {
    "duration": 24,
    "start_time": "2022-03-11T11:30:29.090Z"
   },
   {
    "duration": 74,
    "start_time": "2022-03-11T11:30:29.116Z"
   },
   {
    "duration": 20,
    "start_time": "2022-03-11T11:30:29.192Z"
   },
   {
    "duration": 6,
    "start_time": "2022-03-11T11:30:29.213Z"
   },
   {
    "duration": 314,
    "start_time": "2022-03-11T11:30:29.220Z"
   },
   {
    "duration": 250,
    "start_time": "2022-03-11T11:30:29.535Z"
   },
   {
    "duration": 240,
    "start_time": "2022-03-11T11:30:29.787Z"
   },
   {
    "duration": 15,
    "start_time": "2022-03-11T11:30:30.029Z"
   },
   {
    "duration": 35,
    "start_time": "2022-03-11T11:30:30.045Z"
   },
   {
    "duration": 34,
    "start_time": "2022-03-11T11:30:30.082Z"
   },
   {
    "duration": 7,
    "start_time": "2022-03-11T11:30:30.118Z"
   },
   {
    "duration": 89,
    "start_time": "2022-03-11T11:30:30.127Z"
   },
   {
    "duration": 24,
    "start_time": "2022-03-11T11:30:30.218Z"
   },
   {
    "duration": 4,
    "start_time": "2022-03-11T11:30:30.243Z"
   },
   {
    "duration": 14,
    "start_time": "2022-03-11T11:30:30.249Z"
   },
   {
    "duration": 297,
    "start_time": "2022-03-11T11:30:30.265Z"
   },
   {
    "duration": 308,
    "start_time": "2022-03-11T11:30:30.563Z"
   },
   {
    "duration": 315,
    "start_time": "2022-03-11T11:30:30.877Z"
   },
   {
    "duration": 222,
    "start_time": "2022-03-11T11:30:31.193Z"
   },
   {
    "duration": 230,
    "start_time": "2022-03-11T11:30:31.417Z"
   },
   {
    "duration": 330,
    "start_time": "2022-03-11T11:30:31.649Z"
   },
   {
    "duration": 764,
    "start_time": "2022-03-11T11:30:31.980Z"
   },
   {
    "duration": 51,
    "start_time": "2022-03-11T11:30:32.746Z"
   },
   {
    "duration": 311,
    "start_time": "2022-03-11T11:30:32.798Z"
   },
   {
    "duration": 34,
    "start_time": "2022-03-11T11:30:33.111Z"
   },
   {
    "duration": 32,
    "start_time": "2022-03-11T11:30:33.146Z"
   },
   {
    "duration": 1227,
    "start_time": "2022-03-11T11:30:33.180Z"
   },
   {
    "duration": 18,
    "start_time": "2022-03-11T11:30:34.409Z"
   },
   {
    "duration": 25,
    "start_time": "2022-03-11T11:30:34.429Z"
   },
   {
    "duration": 464,
    "start_time": "2022-03-11T11:30:34.456Z"
   },
   {
    "duration": 4,
    "start_time": "2022-03-11T11:30:34.922Z"
   },
   {
    "duration": 24,
    "start_time": "2022-03-11T11:30:34.928Z"
   },
   {
    "duration": 23,
    "start_time": "2022-03-11T11:30:34.954Z"
   },
   {
    "duration": 1650,
    "start_time": "2022-03-11T11:30:34.979Z"
   },
   {
    "duration": 31,
    "start_time": "2022-03-11T11:30:36.631Z"
   },
   {
    "duration": 31,
    "start_time": "2022-03-11T11:34:05.613Z"
   },
   {
    "duration": 302,
    "start_time": "2022-03-11T11:48:27.668Z"
   },
   {
    "duration": 5,
    "start_time": "2022-03-11T11:48:41.312Z"
   },
   {
    "duration": 6,
    "start_time": "2022-03-11T11:49:54.547Z"
   },
   {
    "duration": 6,
    "start_time": "2022-03-11T11:50:06.169Z"
   },
   {
    "duration": 6,
    "start_time": "2022-03-11T11:50:12.006Z"
   },
   {
    "duration": 5,
    "start_time": "2022-03-11T11:50:18.760Z"
   },
   {
    "duration": 7,
    "start_time": "2022-03-11T11:57:42.056Z"
   },
   {
    "duration": 21,
    "start_time": "2022-03-11T11:57:48.728Z"
   },
   {
    "duration": 6,
    "start_time": "2022-03-11T11:58:06.907Z"
   },
   {
    "duration": 282,
    "start_time": "2022-03-11T11:58:56.401Z"
   },
   {
    "duration": 7,
    "start_time": "2022-03-11T11:59:10.047Z"
   },
   {
    "duration": 26,
    "start_time": "2022-03-11T11:59:15.970Z"
   },
   {
    "duration": 20,
    "start_time": "2022-03-11T11:59:24.953Z"
   },
   {
    "duration": 197,
    "start_time": "2022-03-11T12:00:28.697Z"
   },
   {
    "duration": 199,
    "start_time": "2022-03-11T12:00:33.940Z"
   },
   {
    "duration": 195,
    "start_time": "2022-03-11T12:00:47.939Z"
   },
   {
    "duration": 202,
    "start_time": "2022-03-11T12:00:58.602Z"
   },
   {
    "duration": 33,
    "start_time": "2022-03-11T12:01:30.116Z"
   },
   {
    "duration": 232,
    "start_time": "2022-03-11T12:01:58.267Z"
   },
   {
    "duration": 31,
    "start_time": "2022-03-11T12:02:24.705Z"
   },
   {
    "duration": 6,
    "start_time": "2022-03-11T12:03:18.893Z"
   },
   {
    "duration": 6,
    "start_time": "2022-03-11T12:03:47.871Z"
   },
   {
    "duration": 5,
    "start_time": "2022-03-11T12:03:55.454Z"
   },
   {
    "duration": 1452,
    "start_time": "2022-03-14T21:02:41.041Z"
   },
   {
    "duration": 19,
    "start_time": "2022-03-14T21:02:42.495Z"
   },
   {
    "duration": 26,
    "start_time": "2022-03-14T21:02:42.517Z"
   },
   {
    "duration": 195,
    "start_time": "2022-03-14T21:02:42.546Z"
   },
   {
    "duration": 121,
    "start_time": "2022-03-14T21:02:42.744Z"
   },
   {
    "duration": 177,
    "start_time": "2022-03-14T21:02:42.868Z"
   },
   {
    "duration": 15,
    "start_time": "2022-03-14T21:02:43.048Z"
   },
   {
    "duration": 27,
    "start_time": "2022-03-14T21:02:43.068Z"
   },
   {
    "duration": 24,
    "start_time": "2022-03-14T21:02:43.099Z"
   },
   {
    "duration": 10,
    "start_time": "2022-03-14T21:02:43.125Z"
   },
   {
    "duration": 51,
    "start_time": "2022-03-14T21:02:43.138Z"
   },
   {
    "duration": 9,
    "start_time": "2022-03-14T21:02:43.192Z"
   },
   {
    "duration": 24,
    "start_time": "2022-03-14T21:02:43.204Z"
   },
   {
    "duration": 23,
    "start_time": "2022-03-14T21:02:43.230Z"
   },
   {
    "duration": 298,
    "start_time": "2022-03-14T21:02:43.289Z"
   },
   {
    "duration": 6,
    "start_time": "2022-03-14T21:02:43.589Z"
   },
   {
    "duration": 347,
    "start_time": "2022-03-14T21:02:43.597Z"
   },
   {
    "duration": 7,
    "start_time": "2022-03-14T21:02:43.946Z"
   },
   {
    "duration": 263,
    "start_time": "2022-03-14T21:02:43.955Z"
   },
   {
    "duration": 15,
    "start_time": "2022-03-14T21:02:44.221Z"
   },
   {
    "duration": 12,
    "start_time": "2022-03-14T21:02:44.239Z"
   },
   {
    "duration": 37,
    "start_time": "2022-03-14T21:02:44.254Z"
   },
   {
    "duration": 9,
    "start_time": "2022-03-14T21:02:44.296Z"
   },
   {
    "duration": 9,
    "start_time": "2022-03-14T21:02:44.307Z"
   },
   {
    "duration": 17,
    "start_time": "2022-03-14T21:02:49.614Z"
   },
   {
    "duration": 11,
    "start_time": "2022-03-14T21:02:56.727Z"
   },
   {
    "duration": 137,
    "start_time": "2022-03-14T21:34:25.548Z"
   },
   {
    "duration": 9,
    "start_time": "2022-03-14T21:35:04.831Z"
   },
   {
    "duration": 8,
    "start_time": "2022-03-14T21:41:13.103Z"
   },
   {
    "duration": 10,
    "start_time": "2022-03-14T21:41:47.088Z"
   },
   {
    "duration": 15,
    "start_time": "2022-03-14T21:51:14.336Z"
   },
   {
    "duration": 255,
    "start_time": "2022-03-14T21:52:35.195Z"
   },
   {
    "duration": 244,
    "start_time": "2022-03-14T21:52:46.140Z"
   },
   {
    "duration": 14,
    "start_time": "2022-03-14T21:54:16.675Z"
   },
   {
    "duration": 10,
    "start_time": "2022-03-14T21:55:00.424Z"
   },
   {
    "duration": 7,
    "start_time": "2022-03-14T21:57:30.096Z"
   },
   {
    "duration": 13,
    "start_time": "2022-03-14T21:57:51.033Z"
   },
   {
    "duration": 8,
    "start_time": "2022-03-14T21:58:17.545Z"
   },
   {
    "duration": 31,
    "start_time": "2022-03-14T21:59:04.648Z"
   },
   {
    "duration": 6,
    "start_time": "2022-03-14T21:59:14.311Z"
   },
   {
    "duration": 10,
    "start_time": "2022-03-14T21:59:45.220Z"
   },
   {
    "duration": 10,
    "start_time": "2022-03-14T22:00:23.355Z"
   },
   {
    "duration": 466,
    "start_time": "2022-03-14T22:01:00.970Z"
   },
   {
    "duration": 11,
    "start_time": "2022-03-14T22:01:36.508Z"
   },
   {
    "duration": 17,
    "start_time": "2022-03-14T22:02:14.651Z"
   },
   {
    "duration": 29,
    "start_time": "2022-03-14T22:02:33.208Z"
   },
   {
    "duration": 10,
    "start_time": "2022-03-14T22:03:01.386Z"
   },
   {
    "duration": 16,
    "start_time": "2022-03-14T22:03:27.094Z"
   },
   {
    "duration": 16,
    "start_time": "2022-03-14T22:03:54.702Z"
   },
   {
    "duration": 18,
    "start_time": "2022-03-14T22:04:01.658Z"
   },
   {
    "duration": 22,
    "start_time": "2022-03-14T22:04:32.986Z"
   },
   {
    "duration": 83,
    "start_time": "2022-03-14T22:04:51.065Z"
   },
   {
    "duration": 10,
    "start_time": "2022-03-14T22:04:54.863Z"
   },
   {
    "duration": 333,
    "start_time": "2022-03-14T22:05:40.365Z"
   },
   {
    "duration": 18,
    "start_time": "2022-03-14T22:06:37.599Z"
   },
   {
    "duration": 24,
    "start_time": "2022-03-14T22:27:48.249Z"
   },
   {
    "duration": 26,
    "start_time": "2022-03-14T22:28:06.452Z"
   },
   {
    "duration": 23,
    "start_time": "2022-03-14T22:30:08.998Z"
   },
   {
    "duration": 258,
    "start_time": "2022-03-14T22:30:25.819Z"
   },
   {
    "duration": 270,
    "start_time": "2022-03-14T22:30:38.748Z"
   },
   {
    "duration": 348,
    "start_time": "2022-03-14T22:30:52.967Z"
   },
   {
    "duration": 287,
    "start_time": "2022-03-14T22:32:13.953Z"
   },
   {
    "duration": 16,
    "start_time": "2022-03-14T22:32:22.306Z"
   },
   {
    "duration": 17,
    "start_time": "2022-03-14T22:32:30.034Z"
   },
   {
    "duration": 17,
    "start_time": "2022-03-14T22:32:45.504Z"
   },
   {
    "duration": 296,
    "start_time": "2022-03-14T22:32:57.268Z"
   },
   {
    "duration": 91,
    "start_time": "2022-03-14T22:34:43.487Z"
   },
   {
    "duration": 290,
    "start_time": "2022-03-14T22:35:01.183Z"
   },
   {
    "duration": 267,
    "start_time": "2022-03-14T22:40:00.818Z"
   },
   {
    "duration": 235,
    "start_time": "2022-03-14T22:40:10.764Z"
   },
   {
    "duration": 262,
    "start_time": "2022-03-14T22:50:12.266Z"
   },
   {
    "duration": 7,
    "start_time": "2022-03-14T22:51:03.272Z"
   },
   {
    "duration": 16,
    "start_time": "2022-03-14T22:51:03.281Z"
   },
   {
    "duration": 19,
    "start_time": "2022-03-14T22:51:03.300Z"
   },
   {
    "duration": 217,
    "start_time": "2022-03-14T22:51:03.322Z"
   },
   {
    "duration": 114,
    "start_time": "2022-03-14T22:51:03.541Z"
   },
   {
    "duration": 172,
    "start_time": "2022-03-14T22:51:03.657Z"
   },
   {
    "duration": 12,
    "start_time": "2022-03-14T22:51:03.832Z"
   },
   {
    "duration": 10,
    "start_time": "2022-03-14T22:51:03.847Z"
   },
   {
    "duration": 46,
    "start_time": "2022-03-14T22:51:03.860Z"
   },
   {
    "duration": 10,
    "start_time": "2022-03-14T22:51:03.909Z"
   },
   {
    "duration": 23,
    "start_time": "2022-03-14T22:51:03.921Z"
   },
   {
    "duration": 41,
    "start_time": "2022-03-14T22:51:03.946Z"
   },
   {
    "duration": 9,
    "start_time": "2022-03-14T22:51:03.989Z"
   },
   {
    "duration": 26,
    "start_time": "2022-03-14T22:51:04.001Z"
   },
   {
    "duration": 291,
    "start_time": "2022-03-14T22:51:04.029Z"
   },
   {
    "duration": 6,
    "start_time": "2022-03-14T22:51:04.323Z"
   },
   {
    "duration": 332,
    "start_time": "2022-03-14T22:51:04.331Z"
   },
   {
    "duration": 6,
    "start_time": "2022-03-14T22:51:04.666Z"
   },
   {
    "duration": 260,
    "start_time": "2022-03-14T22:51:04.674Z"
   },
   {
    "duration": 13,
    "start_time": "2022-03-14T22:51:04.936Z"
   },
   {
    "duration": 296,
    "start_time": "2022-03-14T22:51:04.951Z"
   },
   {
    "duration": 8,
    "start_time": "2022-03-14T22:51:05.249Z"
   },
   {
    "duration": 29,
    "start_time": "2022-03-14T22:51:05.262Z"
   },
   {
    "duration": 9,
    "start_time": "2022-03-14T22:51:05.294Z"
   },
   {
    "duration": 15,
    "start_time": "2022-03-14T22:51:05.305Z"
   },
   {
    "duration": 31,
    "start_time": "2022-03-14T22:51:05.322Z"
   },
   {
    "duration": 16,
    "start_time": "2022-03-14T22:51:05.355Z"
   },
   {
    "duration": 15,
    "start_time": "2022-03-14T22:51:05.387Z"
   },
   {
    "duration": 26,
    "start_time": "2022-03-14T22:51:05.405Z"
   },
   {
    "duration": 154,
    "start_time": "2022-03-14T22:51:05.434Z"
   },
   {
    "duration": 38,
    "start_time": "2022-03-14T22:51:05.590Z"
   },
   {
    "duration": 5,
    "start_time": "2022-03-14T22:51:05.630Z"
   },
   {
    "duration": 9,
    "start_time": "2022-03-14T22:51:05.638Z"
   },
   {
    "duration": 42,
    "start_time": "2022-03-14T22:51:05.649Z"
   },
   {
    "duration": 440,
    "start_time": "2022-03-14T22:51:05.693Z"
   },
   {
    "duration": 49,
    "start_time": "2022-03-14T22:51:13.872Z"
   },
   {
    "duration": 93,
    "start_time": "2022-03-14T22:52:14.122Z"
   },
   {
    "duration": 93,
    "start_time": "2022-03-14T22:52:33.820Z"
   },
   {
    "duration": 458,
    "start_time": "2022-03-14T22:53:05.496Z"
   },
   {
    "duration": 377,
    "start_time": "2022-03-14T22:54:10.089Z"
   },
   {
    "duration": 568,
    "start_time": "2022-03-14T22:54:12.653Z"
   },
   {
    "duration": 355,
    "start_time": "2022-03-14T23:02:21.850Z"
   },
   {
    "duration": 34,
    "start_time": "2022-03-14T23:03:16.354Z"
   },
   {
    "duration": 19,
    "start_time": "2022-03-14T23:03:56.132Z"
   },
   {
    "duration": 30,
    "start_time": "2022-03-14T23:13:56.653Z"
   },
   {
    "duration": 56,
    "start_time": "2022-03-14T23:14:55.214Z"
   },
   {
    "duration": 310,
    "start_time": "2022-03-14T23:19:24.470Z"
   },
   {
    "duration": 59,
    "start_time": "2022-03-14T23:19:30.087Z"
   },
   {
    "duration": 59,
    "start_time": "2022-03-14T23:19:50.779Z"
   },
   {
    "duration": 52,
    "start_time": "2022-03-14T23:20:21.823Z"
   },
   {
    "duration": 31,
    "start_time": "2022-03-14T23:20:47.948Z"
   },
   {
    "duration": 36,
    "start_time": "2022-03-14T23:21:21.584Z"
   },
   {
    "duration": 38,
    "start_time": "2022-03-14T23:21:55.952Z"
   },
   {
    "duration": 57,
    "start_time": "2022-03-14T23:26:29.239Z"
   },
   {
    "duration": 8,
    "start_time": "2022-03-14T23:28:12.921Z"
   },
   {
    "duration": 1113,
    "start_time": "2022-03-14T23:30:41.632Z"
   },
   {
    "duration": 27,
    "start_time": "2022-03-14T23:31:48.344Z"
   },
   {
    "duration": 7,
    "start_time": "2022-03-14T23:31:48.959Z"
   },
   {
    "duration": 38,
    "start_time": "2022-03-14T23:31:53.299Z"
   },
   {
    "duration": 49,
    "start_time": "2022-03-14T23:32:03.156Z"
   },
   {
    "duration": 40,
    "start_time": "2022-03-14T23:32:42.190Z"
   },
   {
    "duration": 322,
    "start_time": "2022-03-14T23:39:43.115Z"
   },
   {
    "duration": 108,
    "start_time": "2022-03-14T23:45:00.479Z"
   },
   {
    "duration": 19,
    "start_time": "2022-03-14T23:47:53.794Z"
   },
   {
    "duration": 8,
    "start_time": "2022-03-14T23:49:13.301Z"
   },
   {
    "duration": 1175,
    "start_time": "2022-03-14T23:50:46.724Z"
   },
   {
    "duration": 30,
    "start_time": "2022-03-14T23:50:51.843Z"
   },
   {
    "duration": 4,
    "start_time": "2022-03-14T23:50:52.338Z"
   },
   {
    "duration": 8,
    "start_time": "2022-03-14T23:50:52.789Z"
   },
   {
    "duration": 39,
    "start_time": "2022-03-14T23:50:55.507Z"
   },
   {
    "duration": 337,
    "start_time": "2022-03-14T23:54:31.811Z"
   },
   {
    "duration": 18,
    "start_time": "2022-03-14T23:57:51.767Z"
   },
   {
    "duration": 355,
    "start_time": "2022-03-14T23:59:42.060Z"
   },
   {
    "duration": 29,
    "start_time": "2022-03-15T00:06:09.252Z"
   },
   {
    "duration": 17,
    "start_time": "2022-03-15T00:06:21.610Z"
   },
   {
    "duration": 275,
    "start_time": "2022-03-15T00:08:30.568Z"
   },
   {
    "duration": 338,
    "start_time": "2022-03-15T00:08:37.845Z"
   },
   {
    "duration": 459,
    "start_time": "2022-03-15T00:09:52.433Z"
   },
   {
    "duration": 338,
    "start_time": "2022-03-15T00:10:42.095Z"
   },
   {
    "duration": 251,
    "start_time": "2022-03-15T19:08:31.246Z"
   },
   {
    "duration": 1652,
    "start_time": "2022-03-15T19:08:38.155Z"
   },
   {
    "duration": 15,
    "start_time": "2022-03-15T19:08:39.810Z"
   },
   {
    "duration": 108,
    "start_time": "2022-03-15T19:08:39.828Z"
   },
   {
    "duration": 316,
    "start_time": "2022-03-15T19:08:39.939Z"
   },
   {
    "duration": 140,
    "start_time": "2022-03-15T19:08:40.257Z"
   },
   {
    "duration": 192,
    "start_time": "2022-03-15T19:08:40.400Z"
   },
   {
    "duration": 19,
    "start_time": "2022-03-15T19:08:40.594Z"
   },
   {
    "duration": 196,
    "start_time": "2022-03-15T19:08:40.619Z"
   },
   {
    "duration": 145,
    "start_time": "2022-03-15T19:08:40.819Z"
   },
   {
    "duration": 82,
    "start_time": "2022-03-15T19:08:40.967Z"
   },
   {
    "duration": 123,
    "start_time": "2022-03-15T19:08:41.052Z"
   },
   {
    "duration": 82,
    "start_time": "2022-03-15T19:08:41.178Z"
   },
   {
    "duration": 109,
    "start_time": "2022-03-15T19:08:41.263Z"
   },
   {
    "duration": 115,
    "start_time": "2022-03-15T19:08:41.375Z"
   },
   {
    "duration": 447,
    "start_time": "2022-03-15T19:08:41.493Z"
   },
   {
    "duration": 6,
    "start_time": "2022-03-15T19:08:41.942Z"
   },
   {
    "duration": 1003,
    "start_time": "2022-03-15T19:08:41.950Z"
   },
   {
    "duration": 7,
    "start_time": "2022-03-15T19:08:42.955Z"
   },
   {
    "duration": 311,
    "start_time": "2022-03-15T19:08:42.974Z"
   },
   {
    "duration": 17,
    "start_time": "2022-03-15T19:08:43.288Z"
   },
   {
    "duration": 461,
    "start_time": "2022-03-15T19:08:43.308Z"
   },
   {
    "duration": 10,
    "start_time": "2022-03-15T19:08:43.773Z"
   },
   {
    "duration": 52,
    "start_time": "2022-03-15T19:08:43.792Z"
   },
   {
    "duration": 61,
    "start_time": "2022-03-15T19:08:43.849Z"
   },
   {
    "duration": 57,
    "start_time": "2022-03-15T19:08:43.913Z"
   },
   {
    "duration": 148,
    "start_time": "2022-03-15T19:08:43.973Z"
   },
   {
    "duration": 133,
    "start_time": "2022-03-15T19:08:44.124Z"
   },
   {
    "duration": 82,
    "start_time": "2022-03-15T19:08:44.259Z"
   },
   {
    "duration": 125,
    "start_time": "2022-03-15T19:08:44.344Z"
   },
   {
    "duration": 371,
    "start_time": "2022-03-15T19:08:44.472Z"
   },
   {
    "duration": 127,
    "start_time": "2022-03-15T19:08:44.845Z"
   },
   {
    "duration": 205,
    "start_time": "2022-03-15T19:08:44.974Z"
   },
   {
    "duration": 87,
    "start_time": "2022-03-15T19:08:45.181Z"
   },
   {
    "duration": 241,
    "start_time": "2022-03-15T19:08:45.271Z"
   },
   {
    "duration": 294,
    "start_time": "2022-03-15T19:08:45.515Z"
   },
   {
    "duration": 697,
    "start_time": "2022-03-15T19:08:45.812Z"
   },
   {
    "duration": 547,
    "start_time": "2022-03-15T19:08:46.512Z"
   },
   {
    "duration": 575,
    "start_time": "2022-03-15T19:08:47.062Z"
   },
   {
    "duration": 577,
    "start_time": "2022-03-15T19:08:47.639Z"
   },
   {
    "duration": 26,
    "start_time": "2022-03-15T19:08:48.220Z"
   },
   {
    "duration": 891,
    "start_time": "2022-03-15T19:08:48.250Z"
   },
   {
    "duration": 30,
    "start_time": "2022-03-15T19:08:49.143Z"
   },
   {
    "duration": 226,
    "start_time": "2022-03-15T19:08:49.176Z"
   },
   {
    "duration": 346,
    "start_time": "2022-03-15T19:08:49.405Z"
   },
   {
    "duration": 400,
    "start_time": "2022-03-15T19:08:49.754Z"
   },
   {
    "duration": 164,
    "start_time": "2022-03-15T19:08:50.157Z"
   },
   {
    "duration": 218,
    "start_time": "2022-03-15T19:08:50.324Z"
   },
   {
    "duration": 288,
    "start_time": "2022-03-15T19:08:50.545Z"
   },
   {
    "duration": 515,
    "start_time": "2022-03-15T19:08:50.836Z"
   },
   {
    "duration": 361,
    "start_time": "2022-03-15T19:08:51.353Z"
   },
   {
    "duration": 20,
    "start_time": "2022-03-15T19:08:51.717Z"
   },
   {
    "duration": 121,
    "start_time": "2022-03-15T19:08:51.740Z"
   },
   {
    "duration": 117,
    "start_time": "2022-03-15T19:08:51.863Z"
   },
   {
    "duration": 198,
    "start_time": "2022-03-15T19:08:51.983Z"
   },
   {
    "duration": 82,
    "start_time": "2022-03-15T19:08:52.184Z"
   },
   {
    "duration": 101,
    "start_time": "2022-03-15T19:08:52.269Z"
   },
   {
    "duration": 118,
    "start_time": "2022-03-15T19:08:52.372Z"
   },
   {
    "duration": 70,
    "start_time": "2022-03-15T19:08:52.492Z"
   },
   {
    "duration": 75,
    "start_time": "2022-03-15T19:08:52.566Z"
   },
   {
    "duration": 418,
    "start_time": "2022-03-15T19:08:52.644Z"
   },
   {
    "duration": 370,
    "start_time": "2022-03-15T19:08:53.065Z"
   },
   {
    "duration": 513,
    "start_time": "2022-03-15T19:08:53.438Z"
   },
   {
    "duration": 436,
    "start_time": "2022-03-15T19:08:53.954Z"
   },
   {
    "duration": 18,
    "start_time": "2022-03-15T19:08:54.392Z"
   },
   {
    "duration": 431,
    "start_time": "2022-03-15T19:08:54.412Z"
   },
   {
    "duration": 1368,
    "start_time": "2022-03-15T19:08:54.846Z"
   },
   {
    "duration": 81,
    "start_time": "2022-03-15T19:08:56.216Z"
   },
   {
    "duration": 621,
    "start_time": "2022-03-15T19:08:56.307Z"
   },
   {
    "duration": 168,
    "start_time": "2022-03-15T19:08:56.932Z"
   },
   {
    "duration": 20,
    "start_time": "2022-03-15T19:08:57.103Z"
   },
   {
    "duration": 1834,
    "start_time": "2022-03-15T19:08:57.126Z"
   },
   {
    "duration": 35,
    "start_time": "2022-03-15T19:08:58.963Z"
   },
   {
    "duration": 114,
    "start_time": "2022-03-15T19:08:59.001Z"
   },
   {
    "duration": 878,
    "start_time": "2022-03-15T19:08:59.118Z"
   },
   {
    "duration": 10,
    "start_time": "2022-03-15T19:08:59.999Z"
   },
   {
    "duration": 164,
    "start_time": "2022-03-15T19:09:00.013Z"
   },
   {
    "duration": 73,
    "start_time": "2022-03-15T19:09:00.180Z"
   },
   {
    "duration": 2342,
    "start_time": "2022-03-15T19:09:00.256Z"
   },
   {
    "duration": 48,
    "start_time": "2022-03-15T19:09:02.601Z"
   },
   {
    "duration": 2888,
    "start_time": "2022-03-15T19:09:02.674Z"
   },
   {
    "duration": 51,
    "start_time": "2022-03-15T19:09:05.565Z"
   },
   {
    "duration": 104,
    "start_time": "2022-03-15T19:09:05.618Z"
   },
   {
    "duration": 222,
    "start_time": "2022-03-15T19:09:05.725Z"
   },
   {
    "duration": 429,
    "start_time": "2022-03-15T19:09:05.950Z"
   },
   {
    "duration": 45,
    "start_time": "2022-03-15T19:09:06.381Z"
   },
   {
    "duration": 430,
    "start_time": "2022-03-15T19:09:06.428Z"
   },
   {
    "duration": 51,
    "start_time": "2022-03-15T19:09:06.861Z"
   },
   {
    "duration": 145,
    "start_time": "2022-03-15T19:09:06.914Z"
   },
   {
    "duration": 282,
    "start_time": "2022-03-15T20:13:43.173Z"
   },
   {
    "duration": 6,
    "start_time": "2022-03-15T20:13:49.290Z"
   },
   {
    "duration": 393,
    "start_time": "2022-03-15T20:13:49.299Z"
   },
   {
    "duration": 566,
    "start_time": "2022-03-15T20:13:49.695Z"
   },
   {
    "duration": 986,
    "start_time": "2022-03-15T20:13:50.264Z"
   },
   {
    "duration": 819,
    "start_time": "2022-03-15T20:13:51.252Z"
   },
   {
    "duration": 752,
    "start_time": "2022-03-15T20:13:52.073Z"
   },
   {
    "duration": 309,
    "start_time": "2022-03-15T20:13:52.828Z"
   },
   {
    "duration": 897,
    "start_time": "2022-03-15T20:13:53.141Z"
   },
   {
    "duration": 960,
    "start_time": "2022-03-15T20:13:54.041Z"
   },
   {
    "duration": 629,
    "start_time": "2022-03-15T20:13:55.004Z"
   },
   {
    "duration": 788,
    "start_time": "2022-03-15T20:13:55.635Z"
   },
   {
    "duration": 686,
    "start_time": "2022-03-15T20:13:56.426Z"
   },
   {
    "duration": 823,
    "start_time": "2022-03-15T20:13:57.115Z"
   },
   {
    "duration": 456,
    "start_time": "2022-03-15T20:13:57.940Z"
   },
   {
    "duration": 710,
    "start_time": "2022-03-15T20:13:58.399Z"
   },
   {
    "duration": 169,
    "start_time": "2022-03-15T20:13:59.112Z"
   },
   {
    "duration": 625,
    "start_time": "2022-03-15T20:13:59.283Z"
   },
   {
    "duration": 122,
    "start_time": "2022-03-15T20:13:59.911Z"
   },
   {
    "duration": 976,
    "start_time": "2022-03-15T20:14:00.035Z"
   },
   {
    "duration": 196,
    "start_time": "2022-03-15T20:14:01.013Z"
   },
   {
    "duration": 814,
    "start_time": "2022-03-15T20:14:01.212Z"
   },
   {
    "duration": 265,
    "start_time": "2022-03-15T20:14:02.029Z"
   },
   {
    "duration": 150,
    "start_time": "2022-03-15T20:14:02.302Z"
   },
   {
    "duration": 404,
    "start_time": "2022-03-15T20:14:02.456Z"
   },
   {
    "duration": 814,
    "start_time": "2022-03-15T20:14:02.862Z"
   },
   {
    "duration": 629,
    "start_time": "2022-03-15T20:14:03.679Z"
   },
   {
    "duration": 918,
    "start_time": "2022-03-15T20:14:04.313Z"
   },
   {
    "duration": 899,
    "start_time": "2022-03-15T20:14:05.234Z"
   },
   {
    "duration": 376,
    "start_time": "2022-03-15T20:14:06.135Z"
   },
   {
    "duration": 844,
    "start_time": "2022-03-15T20:14:06.513Z"
   },
   {
    "duration": 272,
    "start_time": "2022-03-15T20:14:07.359Z"
   },
   {
    "duration": 179,
    "start_time": "2022-03-15T20:14:07.634Z"
   },
   {
    "duration": 702,
    "start_time": "2022-03-15T20:14:07.816Z"
   },
   {
    "duration": 424,
    "start_time": "2022-03-15T20:14:08.521Z"
   },
   {
    "duration": 458,
    "start_time": "2022-03-15T20:14:08.947Z"
   },
   {
    "duration": 937,
    "start_time": "2022-03-15T20:14:09.407Z"
   },
   {
    "duration": 495,
    "start_time": "2022-03-15T20:14:10.347Z"
   },
   {
    "duration": 512,
    "start_time": "2022-03-15T20:14:10.844Z"
   },
   {
    "duration": 1071,
    "start_time": "2022-03-15T20:14:11.359Z"
   },
   {
    "duration": 274,
    "start_time": "2022-03-15T20:14:12.433Z"
   },
   {
    "duration": 1471,
    "start_time": "2022-03-15T20:14:12.711Z"
   },
   {
    "duration": 14,
    "start_time": "2022-03-15T20:14:14.185Z"
   },
   {
    "duration": 384,
    "start_time": "2022-03-15T20:14:14.201Z"
   },
   {
    "duration": 456,
    "start_time": "2022-03-15T20:14:14.588Z"
   },
   {
    "duration": 377,
    "start_time": "2022-03-15T20:14:15.046Z"
   },
   {
    "duration": 256,
    "start_time": "2022-03-15T20:14:15.425Z"
   },
   {
    "duration": 689,
    "start_time": "2022-03-15T20:14:15.683Z"
   },
   {
    "duration": 507,
    "start_time": "2022-03-15T20:14:16.374Z"
   },
   {
    "duration": 1036,
    "start_time": "2022-03-15T20:14:16.883Z"
   },
   {
    "duration": 683,
    "start_time": "2022-03-15T20:14:17.922Z"
   },
   {
    "duration": 193,
    "start_time": "2022-03-15T20:14:18.608Z"
   },
   {
    "duration": 911,
    "start_time": "2022-03-15T20:14:18.804Z"
   },
   {
    "duration": 1016,
    "start_time": "2022-03-15T20:14:19.719Z"
   },
   {
    "duration": 1001,
    "start_time": "2022-03-15T20:14:20.738Z"
   },
   {
    "duration": 754,
    "start_time": "2022-03-15T20:14:21.743Z"
   },
   {
    "duration": 863,
    "start_time": "2022-03-15T20:14:22.499Z"
   },
   {
    "duration": 359,
    "start_time": "2022-03-15T20:14:23.365Z"
   },
   {
    "duration": 662,
    "start_time": "2022-03-15T20:14:23.727Z"
   },
   {
    "duration": 1010,
    "start_time": "2022-03-15T20:14:24.391Z"
   },
   {
    "duration": 836,
    "start_time": "2022-03-15T20:14:25.405Z"
   },
   {
    "duration": 404,
    "start_time": "2022-03-15T20:14:26.245Z"
   },
   {
    "duration": 443,
    "start_time": "2022-03-15T20:14:26.652Z"
   },
   {
    "duration": 588,
    "start_time": "2022-03-15T20:14:27.098Z"
   },
   {
    "duration": 400,
    "start_time": "2022-03-15T20:14:27.689Z"
   },
   {
    "duration": 1385,
    "start_time": "2022-03-15T20:14:28.092Z"
   },
   {
    "duration": 1615,
    "start_time": "2022-03-15T20:14:29.479Z"
   },
   {
    "duration": 86,
    "start_time": "2022-03-15T20:14:31.096Z"
   },
   {
    "duration": 1160,
    "start_time": "2022-03-15T20:14:31.190Z"
   },
   {
    "duration": 621,
    "start_time": "2022-03-15T20:14:32.354Z"
   },
   {
    "duration": 622,
    "start_time": "2022-03-15T20:14:32.978Z"
   },
   {
    "duration": 2313,
    "start_time": "2022-03-15T20:14:33.603Z"
   },
   {
    "duration": 36,
    "start_time": "2022-03-15T20:14:35.920Z"
   },
   {
    "duration": 853,
    "start_time": "2022-03-15T20:14:35.973Z"
   },
   {
    "duration": 1363,
    "start_time": "2022-03-15T20:14:36.829Z"
   },
   {
    "duration": 8,
    "start_time": "2022-03-15T20:14:38.195Z"
   },
   {
    "duration": 571,
    "start_time": "2022-03-15T20:14:38.206Z"
   },
   {
    "duration": 671,
    "start_time": "2022-03-15T20:14:38.780Z"
   },
   {
    "duration": 3626,
    "start_time": "2022-03-15T20:14:39.454Z"
   },
   {
    "duration": 48,
    "start_time": "2022-03-15T20:14:43.084Z"
   },
   {
    "duration": 3299,
    "start_time": "2022-03-15T20:14:43.134Z"
   },
   {
    "duration": 46,
    "start_time": "2022-03-15T20:14:46.436Z"
   },
   {
    "duration": 1240,
    "start_time": "2022-03-15T20:14:46.485Z"
   },
   {
    "duration": 805,
    "start_time": "2022-03-15T20:14:47.727Z"
   },
   {
    "duration": 1028,
    "start_time": "2022-03-15T20:14:48.535Z"
   },
   {
    "duration": 415,
    "start_time": "2022-03-15T20:14:49.567Z"
   },
   {
    "duration": 829,
    "start_time": "2022-03-15T20:14:49.984Z"
   },
   {
    "duration": 115,
    "start_time": "2022-03-15T20:14:50.815Z"
   },
   {
    "duration": 299,
    "start_time": "2022-03-15T20:14:50.932Z"
   },
   {
    "duration": 4624,
    "start_time": "2022-03-15T20:22:04.090Z"
   },
   {
    "duration": 6,
    "start_time": "2022-03-15T20:23:23.029Z"
   },
   {
    "duration": 741,
    "start_time": "2022-03-15T20:23:23.039Z"
   },
   {
    "duration": 433,
    "start_time": "2022-03-15T20:23:23.784Z"
   },
   {
    "duration": 645,
    "start_time": "2022-03-15T20:23:24.221Z"
   },
   {
    "duration": 124,
    "start_time": "2022-03-15T20:23:24.872Z"
   },
   {
    "duration": 193,
    "start_time": "2022-03-15T20:23:24.999Z"
   },
   {
    "duration": 154,
    "start_time": "2022-03-15T20:23:25.195Z"
   },
   {
    "duration": 164,
    "start_time": "2022-03-15T20:23:25.353Z"
   },
   {
    "duration": 513,
    "start_time": "2022-03-15T20:23:25.522Z"
   },
   {
    "duration": 613,
    "start_time": "2022-03-15T20:23:26.037Z"
   },
   {
    "duration": 1102,
    "start_time": "2022-03-15T20:23:26.653Z"
   },
   {
    "duration": 1008,
    "start_time": "2022-03-15T20:23:27.757Z"
   },
   {
    "duration": 1067,
    "start_time": "2022-03-15T20:23:28.767Z"
   },
   {
    "duration": 923,
    "start_time": "2022-03-15T20:23:29.837Z"
   },
   {
    "duration": 1179,
    "start_time": "2022-03-15T20:23:30.763Z"
   },
   {
    "duration": 425,
    "start_time": "2022-03-15T20:23:31.945Z"
   },
   {
    "duration": 841,
    "start_time": "2022-03-15T20:23:32.373Z"
   },
   {
    "duration": 174,
    "start_time": "2022-03-15T20:23:33.217Z"
   },
   {
    "duration": 969,
    "start_time": "2022-03-15T20:23:33.394Z"
   },
   {
    "duration": 137,
    "start_time": "2022-03-15T20:23:34.366Z"
   },
   {
    "duration": 606,
    "start_time": "2022-03-15T20:23:34.506Z"
   },
   {
    "duration": 92,
    "start_time": "2022-03-15T20:23:35.115Z"
   },
   {
    "duration": 280,
    "start_time": "2022-03-15T20:23:35.215Z"
   },
   {
    "duration": 406,
    "start_time": "2022-03-15T20:23:35.499Z"
   },
   {
    "duration": 500,
    "start_time": "2022-03-15T20:23:35.907Z"
   },
   {
    "duration": 725,
    "start_time": "2022-03-15T20:23:36.409Z"
   },
   {
    "duration": 727,
    "start_time": "2022-03-15T20:23:37.137Z"
   },
   {
    "duration": 950,
    "start_time": "2022-03-15T20:23:37.867Z"
   },
   {
    "duration": 569,
    "start_time": "2022-03-15T20:23:38.820Z"
   },
   {
    "duration": 822,
    "start_time": "2022-03-15T20:23:39.392Z"
   },
   {
    "duration": 987,
    "start_time": "2022-03-15T20:23:40.216Z"
   },
   {
    "duration": 858,
    "start_time": "2022-03-15T20:23:41.206Z"
   },
   {
    "duration": 507,
    "start_time": "2022-03-15T20:23:42.067Z"
   },
   {
    "duration": 283,
    "start_time": "2022-03-15T20:23:42.576Z"
   },
   {
    "duration": 316,
    "start_time": "2022-03-15T20:23:42.861Z"
   },
   {
    "duration": 730,
    "start_time": "2022-03-15T20:23:43.179Z"
   },
   {
    "duration": 448,
    "start_time": "2022-03-15T20:23:43.912Z"
   },
   {
    "duration": 749,
    "start_time": "2022-03-15T20:23:44.362Z"
   },
   {
    "duration": 422,
    "start_time": "2022-03-15T20:23:45.114Z"
   },
   {
    "duration": 19,
    "start_time": "2022-03-15T20:23:45.539Z"
   },
   {
    "duration": 1331,
    "start_time": "2022-03-15T20:23:45.574Z"
   },
   {
    "duration": 253,
    "start_time": "2022-03-15T20:23:46.907Z"
   },
   {
    "duration": 488,
    "start_time": "2022-03-15T20:23:47.162Z"
   },
   {
    "duration": 521,
    "start_time": "2022-03-15T20:23:47.653Z"
   },
   {
    "duration": 262,
    "start_time": "2022-03-15T20:23:48.176Z"
   },
   {
    "duration": 543,
    "start_time": "2022-03-15T20:23:48.441Z"
   },
   {
    "duration": 921,
    "start_time": "2022-03-15T20:23:48.987Z"
   },
   {
    "duration": 663,
    "start_time": "2022-03-15T20:23:49.911Z"
   },
   {
    "duration": 753,
    "start_time": "2022-03-15T20:23:50.577Z"
   },
   {
    "duration": 492,
    "start_time": "2022-03-15T20:23:51.333Z"
   },
   {
    "duration": 20,
    "start_time": "2022-03-15T20:23:51.827Z"
   },
   {
    "duration": 370,
    "start_time": "2022-03-15T20:23:51.849Z"
   },
   {
    "duration": 246,
    "start_time": "2022-03-15T20:23:52.222Z"
   },
   {
    "duration": 370,
    "start_time": "2022-03-15T20:23:52.470Z"
   },
   {
    "duration": 321,
    "start_time": "2022-03-15T20:23:52.843Z"
   },
   {
    "duration": 368,
    "start_time": "2022-03-15T20:23:53.166Z"
   },
   {
    "duration": 475,
    "start_time": "2022-03-15T20:23:53.537Z"
   },
   {
    "duration": 615,
    "start_time": "2022-03-15T20:23:54.014Z"
   },
   {
    "duration": 666,
    "start_time": "2022-03-15T20:23:54.631Z"
   },
   {
    "duration": 1267,
    "start_time": "2022-03-15T20:23:55.299Z"
   },
   {
    "duration": 748,
    "start_time": "2022-03-15T20:23:56.568Z"
   },
   {
    "duration": 757,
    "start_time": "2022-03-15T20:23:57.319Z"
   },
   {
    "duration": 1138,
    "start_time": "2022-03-15T20:23:58.079Z"
   },
   {
    "duration": 425,
    "start_time": "2022-03-15T20:23:59.219Z"
   },
   {
    "duration": 1187,
    "start_time": "2022-03-15T20:23:59.647Z"
   },
   {
    "duration": 1816,
    "start_time": "2022-03-15T20:24:00.837Z"
   },
   {
    "duration": 73,
    "start_time": "2022-03-15T20:24:02.656Z"
   },
   {
    "duration": 800,
    "start_time": "2022-03-15T20:24:02.739Z"
   },
   {
    "duration": 90,
    "start_time": "2022-03-15T20:24:03.542Z"
   },
   {
    "duration": 473,
    "start_time": "2022-03-15T20:24:03.635Z"
   },
   {
    "duration": 2489,
    "start_time": "2022-03-15T20:24:04.110Z"
   },
   {
    "duration": 24,
    "start_time": "2022-03-15T20:24:06.602Z"
   },
   {
    "duration": 410,
    "start_time": "2022-03-15T20:24:06.629Z"
   },
   {
    "duration": 14,
    "start_time": "2022-03-15T20:24:13.310Z"
   },
   {
    "duration": 39,
    "start_time": "2022-03-15T20:24:27.396Z"
   },
   {
    "duration": 15,
    "start_time": "2022-03-15T20:24:52.631Z"
   },
   {
    "duration": 39,
    "start_time": "2022-03-15T20:24:54.743Z"
   },
   {
    "duration": 6,
    "start_time": "2022-03-15T20:25:38.593Z"
   },
   {
    "duration": 34,
    "start_time": "2022-03-15T20:25:39.907Z"
   },
   {
    "duration": 11,
    "start_time": "2022-03-15T20:26:34.068Z"
   },
   {
    "duration": 2854,
    "start_time": "2022-03-15T20:53:44.562Z"
   },
   {
    "duration": 2391,
    "start_time": "2022-03-15T20:54:07.695Z"
   },
   {
    "duration": 2647,
    "start_time": "2022-03-15T21:16:17.302Z"
   },
   {
    "duration": 2349,
    "start_time": "2022-03-15T21:17:03.765Z"
   },
   {
    "duration": 2556,
    "start_time": "2022-03-15T21:18:09.303Z"
   },
   {
    "duration": 2301,
    "start_time": "2022-03-15T21:18:19.361Z"
   },
   {
    "duration": 162,
    "start_time": "2022-03-15T21:44:40.590Z"
   },
   {
    "duration": 8,
    "start_time": "2022-03-15T21:44:54.567Z"
   },
   {
    "duration": 8,
    "start_time": "2022-03-15T22:16:33.132Z"
   },
   {
    "duration": 7,
    "start_time": "2022-03-15T22:16:38.866Z"
   },
   {
    "duration": 42,
    "start_time": "2022-03-15T22:34:28.556Z"
   },
   {
    "duration": 6,
    "start_time": "2022-03-15T22:36:38.850Z"
   },
   {
    "duration": 6,
    "start_time": "2022-03-15T22:39:03.434Z"
   },
   {
    "duration": 22,
    "start_time": "2022-03-15T22:39:03.443Z"
   },
   {
    "duration": 26,
    "start_time": "2022-03-15T22:39:03.468Z"
   },
   {
    "duration": 253,
    "start_time": "2022-03-15T22:39:03.497Z"
   },
   {
    "duration": 143,
    "start_time": "2022-03-15T22:39:03.753Z"
   },
   {
    "duration": 208,
    "start_time": "2022-03-15T22:39:03.898Z"
   },
   {
    "duration": 11,
    "start_time": "2022-03-15T22:39:04.109Z"
   },
   {
    "duration": 9,
    "start_time": "2022-03-15T22:39:04.125Z"
   },
   {
    "duration": 53,
    "start_time": "2022-03-15T22:39:04.139Z"
   },
   {
    "duration": 14,
    "start_time": "2022-03-15T22:39:04.194Z"
   },
   {
    "duration": 23,
    "start_time": "2022-03-15T22:39:04.211Z"
   },
   {
    "duration": 43,
    "start_time": "2022-03-15T22:39:04.237Z"
   },
   {
    "duration": 12,
    "start_time": "2022-03-15T22:39:04.283Z"
   },
   {
    "duration": 23,
    "start_time": "2022-03-15T22:39:04.297Z"
   },
   {
    "duration": 329,
    "start_time": "2022-03-15T22:39:04.323Z"
   },
   {
    "duration": 7,
    "start_time": "2022-03-15T22:39:04.656Z"
   },
   {
    "duration": 358,
    "start_time": "2022-03-15T22:39:04.675Z"
   },
   {
    "duration": 8,
    "start_time": "2022-03-15T22:39:05.036Z"
   },
   {
    "duration": 436,
    "start_time": "2022-03-15T22:39:05.048Z"
   },
   {
    "duration": 15,
    "start_time": "2022-03-15T22:39:05.488Z"
   },
   {
    "duration": 322,
    "start_time": "2022-03-15T22:39:05.505Z"
   },
   {
    "duration": 8,
    "start_time": "2022-03-15T22:39:05.830Z"
   },
   {
    "duration": 31,
    "start_time": "2022-03-15T22:39:05.844Z"
   },
   {
    "duration": 10,
    "start_time": "2022-03-15T22:39:05.878Z"
   },
   {
    "duration": 18,
    "start_time": "2022-03-15T22:39:05.892Z"
   },
   {
    "duration": 19,
    "start_time": "2022-03-15T22:39:05.913Z"
   },
   {
    "duration": 39,
    "start_time": "2022-03-15T22:39:05.935Z"
   },
   {
    "duration": 20,
    "start_time": "2022-03-15T22:39:05.977Z"
   },
   {
    "duration": 34,
    "start_time": "2022-03-15T22:39:06.000Z"
   },
   {
    "duration": 151,
    "start_time": "2022-03-15T22:39:06.037Z"
   },
   {
    "duration": 40,
    "start_time": "2022-03-15T22:39:06.190Z"
   },
   {
    "duration": 5,
    "start_time": "2022-03-15T22:39:06.233Z"
   },
   {
    "duration": 35,
    "start_time": "2022-03-15T22:39:06.240Z"
   },
   {
    "duration": 9,
    "start_time": "2022-03-15T22:39:06.278Z"
   },
   {
    "duration": 41,
    "start_time": "2022-03-15T22:39:06.289Z"
   },
   {
    "duration": 462,
    "start_time": "2022-03-15T22:39:06.332Z"
   },
   {
    "duration": 390,
    "start_time": "2022-03-15T22:39:06.796Z"
   },
   {
    "duration": 494,
    "start_time": "2022-03-15T22:39:07.188Z"
   },
   {
    "duration": 414,
    "start_time": "2022-03-15T22:39:07.684Z"
   },
   {
    "duration": 21,
    "start_time": "2022-03-15T22:39:08.100Z"
   },
   {
    "duration": 399,
    "start_time": "2022-03-15T22:39:08.123Z"
   },
   {
    "duration": 15,
    "start_time": "2022-03-15T22:39:08.525Z"
   },
   {
    "duration": 38,
    "start_time": "2022-03-15T22:39:08.542Z"
   },
   {
    "duration": 71,
    "start_time": "2022-03-15T22:39:08.582Z"
   },
   {
    "duration": 34,
    "start_time": "2022-03-15T22:39:08.655Z"
   },
   {
    "duration": 8,
    "start_time": "2022-03-15T22:39:08.691Z"
   },
   {
    "duration": 27,
    "start_time": "2022-03-15T22:39:08.702Z"
   },
   {
    "duration": 71,
    "start_time": "2022-03-15T22:39:08.732Z"
   },
   {
    "duration": 409,
    "start_time": "2022-03-15T22:39:08.806Z"
   },
   {
    "duration": 344,
    "start_time": "2022-03-15T22:39:09.217Z"
   },
   {
    "duration": 28,
    "start_time": "2022-03-15T22:39:09.564Z"
   },
   {
    "duration": 25,
    "start_time": "2022-03-15T22:39:09.595Z"
   },
   {
    "duration": 10,
    "start_time": "2022-03-15T22:39:09.623Z"
   },
   {
    "duration": 102,
    "start_time": "2022-03-15T22:39:09.636Z"
   },
   {
    "duration": 54,
    "start_time": "2022-03-15T22:39:09.741Z"
   },
   {
    "duration": 6,
    "start_time": "2022-03-15T22:39:09.797Z"
   },
   {
    "duration": 12,
    "start_time": "2022-03-15T22:39:09.805Z"
   },
   {
    "duration": 9,
    "start_time": "2022-03-15T22:39:09.820Z"
   },
   {
    "duration": 73,
    "start_time": "2022-03-15T22:39:09.832Z"
   },
   {
    "duration": 416,
    "start_time": "2022-03-15T22:39:09.907Z"
   },
   {
    "duration": 368,
    "start_time": "2022-03-15T22:39:10.325Z"
   },
   {
    "duration": 512,
    "start_time": "2022-03-15T22:39:10.697Z"
   },
   {
    "duration": 431,
    "start_time": "2022-03-15T22:39:11.212Z"
   },
   {
    "duration": 29,
    "start_time": "2022-03-15T22:39:11.646Z"
   },
   {
    "duration": 363,
    "start_time": "2022-03-15T22:39:11.677Z"
   },
   {
    "duration": 1215,
    "start_time": "2022-03-15T22:39:12.042Z"
   },
   {
    "duration": 69,
    "start_time": "2022-03-15T22:39:13.260Z"
   },
   {
    "duration": 556,
    "start_time": "2022-03-15T22:39:13.338Z"
   },
   {
    "duration": 48,
    "start_time": "2022-03-15T22:39:13.897Z"
   },
   {
    "duration": 43,
    "start_time": "2022-03-15T22:39:13.947Z"
   },
   {
    "duration": 1837,
    "start_time": "2022-03-15T22:39:13.993Z"
   },
   {
    "duration": 26,
    "start_time": "2022-03-15T22:39:15.832Z"
   },
   {
    "duration": 37,
    "start_time": "2022-03-15T22:39:15.874Z"
   },
   {
    "duration": 3,
    "start_time": "2022-03-15T22:39:15.913Z"
   },
   {
    "duration": 15,
    "start_time": "2022-03-15T22:39:15.918Z"
   },
   {
    "duration": 39,
    "start_time": "2022-03-15T22:39:15.935Z"
   },
   {
    "duration": 29,
    "start_time": "2022-03-15T22:39:15.976Z"
   },
   {
    "duration": 9,
    "start_time": "2022-03-15T22:39:16.008Z"
   },
   {
    "duration": 14,
    "start_time": "2022-03-15T22:39:16.020Z"
   },
   {
    "duration": 2412,
    "start_time": "2022-03-15T22:39:16.074Z"
   },
   {
    "duration": 46,
    "start_time": "2022-03-15T22:39:18.489Z"
   },
   {
    "duration": 2173,
    "start_time": "2022-03-15T22:39:18.538Z"
   },
   {
    "duration": 66,
    "start_time": "2022-03-15T22:39:20.714Z"
   },
   {
    "duration": 7,
    "start_time": "2022-03-15T22:39:20.783Z"
   },
   {
    "duration": 17,
    "start_time": "2022-03-15T22:39:20.792Z"
   },
   {
    "duration": 318,
    "start_time": "2022-03-15T22:39:20.812Z"
   },
   {
    "duration": 55,
    "start_time": "2022-03-15T22:39:21.133Z"
   },
   {
    "duration": 347,
    "start_time": "2022-03-15T22:39:21.191Z"
   },
   {
    "duration": 67,
    "start_time": "2022-03-15T22:39:21.541Z"
   },
   {
    "duration": 7,
    "start_time": "2022-03-15T22:39:21.611Z"
   },
   {
    "duration": 11,
    "start_time": "2022-03-15T22:39:21.620Z"
   },
   {
    "duration": 5,
    "start_time": "2022-03-15T23:20:57.623Z"
   },
   {
    "duration": 21,
    "start_time": "2022-03-15T23:20:57.631Z"
   },
   {
    "duration": 21,
    "start_time": "2022-03-15T23:20:57.655Z"
   },
   {
    "duration": 257,
    "start_time": "2022-03-15T23:20:57.679Z"
   },
   {
    "duration": 128,
    "start_time": "2022-03-15T23:20:57.938Z"
   },
   {
    "duration": 190,
    "start_time": "2022-03-15T23:20:58.068Z"
   },
   {
    "duration": 20,
    "start_time": "2022-03-15T23:20:58.261Z"
   },
   {
    "duration": 11,
    "start_time": "2022-03-15T23:20:58.284Z"
   },
   {
    "duration": 178,
    "start_time": "2022-03-15T23:20:58.299Z"
   },
   {
    "duration": 20,
    "start_time": "2022-03-15T23:20:58.480Z"
   },
   {
    "duration": 23,
    "start_time": "2022-03-15T23:20:58.503Z"
   },
   {
    "duration": 11,
    "start_time": "2022-03-15T23:20:58.529Z"
   },
   {
    "duration": 10,
    "start_time": "2022-03-15T23:20:58.574Z"
   },
   {
    "duration": 23,
    "start_time": "2022-03-15T23:20:58.587Z"
   },
   {
    "duration": 323,
    "start_time": "2022-03-15T23:20:58.612Z"
   },
   {
    "duration": 7,
    "start_time": "2022-03-15T23:20:58.938Z"
   },
   {
    "duration": 377,
    "start_time": "2022-03-15T23:20:58.948Z"
   },
   {
    "duration": 7,
    "start_time": "2022-03-15T23:20:59.327Z"
   },
   {
    "duration": 272,
    "start_time": "2022-03-15T23:20:59.337Z"
   },
   {
    "duration": 15,
    "start_time": "2022-03-15T23:20:59.611Z"
   },
   {
    "duration": 315,
    "start_time": "2022-03-15T23:20:59.628Z"
   },
   {
    "duration": 8,
    "start_time": "2022-03-15T23:20:59.946Z"
   },
   {
    "duration": 18,
    "start_time": "2022-03-15T23:20:59.957Z"
   },
   {
    "duration": 11,
    "start_time": "2022-03-15T23:20:59.978Z"
   },
   {
    "duration": 9,
    "start_time": "2022-03-15T23:20:59.992Z"
   },
   {
    "duration": 70,
    "start_time": "2022-03-15T23:21:00.003Z"
   },
   {
    "duration": 11,
    "start_time": "2022-03-15T23:21:00.081Z"
   },
   {
    "duration": 17,
    "start_time": "2022-03-15T23:21:00.098Z"
   },
   {
    "duration": 78,
    "start_time": "2022-03-15T23:21:00.118Z"
   },
   {
    "duration": 144,
    "start_time": "2022-03-15T23:21:00.198Z"
   },
   {
    "duration": 53,
    "start_time": "2022-03-15T23:21:00.344Z"
   },
   {
    "duration": 5,
    "start_time": "2022-03-15T23:21:00.400Z"
   },
   {
    "duration": 12,
    "start_time": "2022-03-15T23:21:00.407Z"
   },
   {
    "duration": 10,
    "start_time": "2022-03-15T23:21:00.422Z"
   },
   {
    "duration": 79,
    "start_time": "2022-03-15T23:21:00.434Z"
   },
   {
    "duration": 458,
    "start_time": "2022-03-15T23:21:00.515Z"
   },
   {
    "duration": 394,
    "start_time": "2022-03-15T23:21:00.976Z"
   },
   {
    "duration": 402,
    "start_time": "2022-03-15T23:21:01.374Z"
   },
   {
    "duration": 397,
    "start_time": "2022-03-15T23:21:01.779Z"
   },
   {
    "duration": 19,
    "start_time": "2022-03-15T23:21:02.179Z"
   },
   {
    "duration": 401,
    "start_time": "2022-03-15T23:21:02.201Z"
   },
   {
    "duration": 14,
    "start_time": "2022-03-15T23:21:02.605Z"
   },
   {
    "duration": 21,
    "start_time": "2022-03-15T23:21:02.622Z"
   },
   {
    "duration": 66,
    "start_time": "2022-03-15T23:21:02.674Z"
   },
   {
    "duration": 51,
    "start_time": "2022-03-15T23:21:02.743Z"
   },
   {
    "duration": 7,
    "start_time": "2022-03-15T23:21:02.797Z"
   },
   {
    "duration": 12,
    "start_time": "2022-03-15T23:21:02.806Z"
   },
   {
    "duration": 78,
    "start_time": "2022-03-15T23:21:02.820Z"
   },
   {
    "duration": 422,
    "start_time": "2022-03-15T23:21:02.900Z"
   },
   {
    "duration": 418,
    "start_time": "2022-03-15T23:21:03.325Z"
   },
   {
    "duration": 35,
    "start_time": "2022-03-15T23:21:03.746Z"
   },
   {
    "duration": 27,
    "start_time": "2022-03-15T23:21:03.784Z"
   },
   {
    "duration": 15,
    "start_time": "2022-03-15T23:21:03.814Z"
   },
   {
    "duration": 114,
    "start_time": "2022-03-15T23:21:03.832Z"
   },
   {
    "duration": 55,
    "start_time": "2022-03-15T23:21:03.949Z"
   },
   {
    "duration": 6,
    "start_time": "2022-03-15T23:21:04.006Z"
   },
   {
    "duration": 13,
    "start_time": "2022-03-15T23:21:04.014Z"
   },
   {
    "duration": 164,
    "start_time": "2022-03-15T23:21:04.030Z"
   },
   {
    "duration": 43,
    "start_time": "2022-03-15T23:21:04.197Z"
   },
   {
    "duration": 437,
    "start_time": "2022-03-15T23:21:04.242Z"
   },
   {
    "duration": 369,
    "start_time": "2022-03-15T23:21:04.682Z"
   },
   {
    "duration": 422,
    "start_time": "2022-03-15T23:21:05.054Z"
   },
   {
    "duration": 436,
    "start_time": "2022-03-15T23:21:05.479Z"
   },
   {
    "duration": 17,
    "start_time": "2022-03-15T23:21:05.918Z"
   },
   {
    "duration": 379,
    "start_time": "2022-03-15T23:21:05.938Z"
   },
   {
    "duration": 1259,
    "start_time": "2022-03-15T23:21:06.319Z"
   },
   {
    "duration": 62,
    "start_time": "2022-03-15T23:21:07.580Z"
   },
   {
    "duration": 580,
    "start_time": "2022-03-15T23:21:07.645Z"
   },
   {
    "duration": 62,
    "start_time": "2022-03-15T23:21:08.228Z"
   },
   {
    "duration": 19,
    "start_time": "2022-03-15T23:21:08.292Z"
   },
   {
    "duration": 1898,
    "start_time": "2022-03-15T23:21:08.314Z"
   },
   {
    "duration": 26,
    "start_time": "2022-03-15T23:21:10.215Z"
   },
   {
    "duration": 63,
    "start_time": "2022-03-15T23:21:10.243Z"
   },
   {
    "duration": 16,
    "start_time": "2022-03-15T23:21:10.308Z"
   },
   {
    "duration": 46,
    "start_time": "2022-03-15T23:21:10.327Z"
   },
   {
    "duration": 33,
    "start_time": "2022-03-15T23:21:10.376Z"
   },
   {
    "duration": 9,
    "start_time": "2022-03-15T23:21:10.412Z"
   },
   {
    "duration": 51,
    "start_time": "2022-03-15T23:21:10.424Z"
   },
   {
    "duration": 2389,
    "start_time": "2022-03-15T23:21:10.477Z"
   },
   {
    "duration": 47,
    "start_time": "2022-03-15T23:21:12.873Z"
   },
   {
    "duration": 2209,
    "start_time": "2022-03-15T23:21:12.928Z"
   },
   {
    "duration": 66,
    "start_time": "2022-03-15T23:21:15.139Z"
   },
   {
    "duration": 8,
    "start_time": "2022-03-15T23:21:15.207Z"
   },
   {
    "duration": 16,
    "start_time": "2022-03-15T23:21:15.217Z"
   },
   {
    "duration": 491,
    "start_time": "2022-03-15T23:21:15.235Z"
   },
   {
    "duration": 55,
    "start_time": "2022-03-15T23:21:15.729Z"
   },
   {
    "duration": 461,
    "start_time": "2022-03-15T23:21:15.787Z"
   },
   {
    "duration": 59,
    "start_time": "2022-03-15T23:21:16.250Z"
   },
   {
    "duration": 8,
    "start_time": "2022-03-15T23:21:16.312Z"
   },
   {
    "duration": 10,
    "start_time": "2022-03-15T23:21:16.322Z"
   },
   {
    "duration": 1837,
    "start_time": "2022-03-26T15:07:29.720Z"
   },
   {
    "duration": 19,
    "start_time": "2022-03-26T15:07:31.560Z"
   },
   {
    "duration": 39,
    "start_time": "2022-03-26T15:07:31.581Z"
   },
   {
    "duration": 221,
    "start_time": "2022-03-26T15:07:31.623Z"
   },
   {
    "duration": 129,
    "start_time": "2022-03-26T15:07:31.847Z"
   },
   {
    "duration": 190,
    "start_time": "2022-03-26T15:07:31.979Z"
   },
   {
    "duration": 19,
    "start_time": "2022-03-26T15:07:32.171Z"
   },
   {
    "duration": 17,
    "start_time": "2022-03-26T15:07:32.193Z"
   },
   {
    "duration": 18,
    "start_time": "2022-03-26T15:07:32.212Z"
   },
   {
    "duration": 59,
    "start_time": "2022-03-26T15:07:32.232Z"
   },
   {
    "duration": 21,
    "start_time": "2022-03-26T15:07:32.293Z"
   },
   {
    "duration": 16,
    "start_time": "2022-03-26T15:07:32.316Z"
   },
   {
    "duration": 36,
    "start_time": "2022-03-26T15:07:32.335Z"
   },
   {
    "duration": 23,
    "start_time": "2022-03-26T15:07:32.377Z"
   },
   {
    "duration": 234,
    "start_time": "2022-03-26T15:07:32.402Z"
   },
   {
    "duration": 6,
    "start_time": "2022-03-26T15:07:32.638Z"
   },
   {
    "duration": 299,
    "start_time": "2022-03-26T15:07:32.646Z"
   },
   {
    "duration": 7,
    "start_time": "2022-03-26T15:07:32.947Z"
   },
   {
    "duration": 242,
    "start_time": "2022-03-26T15:07:32.957Z"
   },
   {
    "duration": 15,
    "start_time": "2022-03-26T15:07:33.202Z"
   },
   {
    "duration": 257,
    "start_time": "2022-03-26T15:07:33.220Z"
   },
   {
    "duration": 11,
    "start_time": "2022-03-26T15:07:33.480Z"
   },
   {
    "duration": 19,
    "start_time": "2022-03-26T15:07:33.493Z"
   },
   {
    "duration": 10,
    "start_time": "2022-03-26T15:07:33.514Z"
   },
   {
    "duration": 51,
    "start_time": "2022-03-26T15:07:33.527Z"
   },
   {
    "duration": 17,
    "start_time": "2022-03-26T15:07:33.581Z"
   },
   {
    "duration": 24,
    "start_time": "2022-03-26T15:07:33.601Z"
   },
   {
    "duration": 18,
    "start_time": "2022-03-26T15:07:33.627Z"
   },
   {
    "duration": 52,
    "start_time": "2022-03-26T15:07:33.647Z"
   },
   {
    "duration": 211,
    "start_time": "2022-03-26T15:07:33.701Z"
   },
   {
    "duration": 64,
    "start_time": "2022-03-26T15:07:33.914Z"
   },
   {
    "duration": 7,
    "start_time": "2022-03-26T15:07:33.981Z"
   },
   {
    "duration": 15,
    "start_time": "2022-03-26T15:07:33.991Z"
   },
   {
    "duration": 10,
    "start_time": "2022-03-26T15:07:34.008Z"
   },
   {
    "duration": 71,
    "start_time": "2022-03-26T15:07:34.020Z"
   },
   {
    "duration": 393,
    "start_time": "2022-03-26T15:07:34.093Z"
   },
   {
    "duration": 348,
    "start_time": "2022-03-26T15:07:34.489Z"
   },
   {
    "duration": 284,
    "start_time": "2022-03-26T15:07:34.839Z"
   },
   {
    "duration": 296,
    "start_time": "2022-03-26T15:07:35.126Z"
   },
   {
    "duration": 20,
    "start_time": "2022-03-26T15:07:35.425Z"
   },
   {
    "duration": 326,
    "start_time": "2022-03-26T15:07:35.472Z"
   },
   {
    "duration": 16,
    "start_time": "2022-03-26T15:07:35.801Z"
   },
   {
    "duration": 53,
    "start_time": "2022-03-26T15:07:35.820Z"
   },
   {
    "duration": 66,
    "start_time": "2022-03-26T15:07:35.879Z"
   },
   {
    "duration": 48,
    "start_time": "2022-03-26T15:07:35.947Z"
   },
   {
    "duration": 7,
    "start_time": "2022-03-26T15:07:35.997Z"
   },
   {
    "duration": 11,
    "start_time": "2022-03-26T15:07:36.006Z"
   },
   {
    "duration": 71,
    "start_time": "2022-03-26T15:07:36.019Z"
   },
   {
    "duration": 426,
    "start_time": "2022-03-26T15:07:36.093Z"
   },
   {
    "duration": 290,
    "start_time": "2022-03-26T15:07:36.522Z"
   },
   {
    "duration": 22,
    "start_time": "2022-03-26T15:07:36.815Z"
   },
   {
    "duration": 58,
    "start_time": "2022-03-26T15:07:36.840Z"
   },
   {
    "duration": 17,
    "start_time": "2022-03-26T15:07:36.901Z"
   },
   {
    "duration": 104,
    "start_time": "2022-03-26T15:07:36.921Z"
   },
   {
    "duration": 53,
    "start_time": "2022-03-26T15:07:37.028Z"
   },
   {
    "duration": 6,
    "start_time": "2022-03-26T15:07:37.083Z"
   },
   {
    "duration": 13,
    "start_time": "2022-03-26T15:07:37.091Z"
   },
   {
    "duration": 12,
    "start_time": "2022-03-26T15:07:37.106Z"
   },
   {
    "duration": 58,
    "start_time": "2022-03-26T15:07:37.120Z"
   },
   {
    "duration": 322,
    "start_time": "2022-03-26T15:07:37.180Z"
   },
   {
    "duration": 302,
    "start_time": "2022-03-26T15:07:37.504Z"
   },
   {
    "duration": 285,
    "start_time": "2022-03-26T15:07:37.809Z"
   },
   {
    "duration": 301,
    "start_time": "2022-03-26T15:07:38.097Z"
   },
   {
    "duration": 16,
    "start_time": "2022-03-26T15:07:38.400Z"
   },
   {
    "duration": 323,
    "start_time": "2022-03-26T15:07:38.418Z"
   },
   {
    "duration": 1198,
    "start_time": "2022-03-26T15:07:38.743Z"
   },
   {
    "duration": 82,
    "start_time": "2022-03-26T15:07:39.944Z"
   },
   {
    "duration": 567,
    "start_time": "2022-03-26T15:07:40.029Z"
   },
   {
    "duration": 71,
    "start_time": "2022-03-26T15:07:40.599Z"
   },
   {
    "duration": 24,
    "start_time": "2022-03-26T15:07:40.672Z"
   },
   {
    "duration": 1280,
    "start_time": "2022-03-26T15:07:40.699Z"
   },
   {
    "duration": 26,
    "start_time": "2022-03-26T15:07:41.982Z"
   },
   {
    "duration": 67,
    "start_time": "2022-03-26T15:07:42.010Z"
   },
   {
    "duration": 16,
    "start_time": "2022-03-26T15:07:42.081Z"
   },
   {
    "duration": 7,
    "start_time": "2022-03-26T15:07:42.099Z"
   },
   {
    "duration": 28,
    "start_time": "2022-03-26T15:07:42.108Z"
   },
   {
    "duration": 26,
    "start_time": "2022-03-26T15:07:42.172Z"
   },
   {
    "duration": 19,
    "start_time": "2022-03-26T15:07:42.201Z"
   },
   {
    "duration": 1763,
    "start_time": "2022-03-26T15:07:42.223Z"
   },
   {
    "duration": 43,
    "start_time": "2022-03-26T15:07:43.988Z"
   },
   {
    "duration": 1760,
    "start_time": "2022-03-26T15:07:44.033Z"
   },
   {
    "duration": 42,
    "start_time": "2022-03-26T15:07:45.796Z"
   },
   {
    "duration": 33,
    "start_time": "2022-03-26T15:07:45.841Z"
   },
   {
    "duration": 21,
    "start_time": "2022-03-26T15:07:45.877Z"
   },
   {
    "duration": 210,
    "start_time": "2022-03-26T15:07:45.900Z"
   },
   {
    "duration": 57,
    "start_time": "2022-03-26T15:07:46.112Z"
   },
   {
    "duration": 246,
    "start_time": "2022-03-26T15:07:46.172Z"
   },
   {
    "duration": 64,
    "start_time": "2022-03-26T15:07:46.421Z"
   },
   {
    "duration": 8,
    "start_time": "2022-03-26T15:07:46.487Z"
   },
   {
    "duration": 8,
    "start_time": "2022-03-26T15:07:46.497Z"
   },
   {
    "duration": 8,
    "start_time": "2022-03-26T15:12:04.590Z"
   },
   {
    "duration": 9,
    "start_time": "2022-03-26T15:12:59.256Z"
   },
   {
    "duration": 8,
    "start_time": "2022-03-26T15:13:06.339Z"
   },
   {
    "duration": 10,
    "start_time": "2022-03-26T15:13:11.528Z"
   },
   {
    "duration": 177,
    "start_time": "2022-03-26T15:13:15.292Z"
   },
   {
    "duration": 12,
    "start_time": "2022-03-26T15:13:32.823Z"
   },
   {
    "duration": 8,
    "start_time": "2022-03-26T15:13:40.803Z"
   },
   {
    "duration": 413,
    "start_time": "2022-03-26T15:36:08.756Z"
   },
   {
    "duration": 428,
    "start_time": "2022-03-26T15:36:34.997Z"
   },
   {
    "duration": 7,
    "start_time": "2022-03-28T19:08:44.300Z"
   },
   {
    "duration": 1355,
    "start_time": "2022-03-28T19:31:19.658Z"
   },
   {
    "duration": 16,
    "start_time": "2022-03-28T19:31:21.015Z"
   },
   {
    "duration": 40,
    "start_time": "2022-03-28T19:31:21.033Z"
   },
   {
    "duration": 142,
    "start_time": "2022-03-28T19:31:21.075Z"
   },
   {
    "duration": 81,
    "start_time": "2022-03-28T19:31:21.218Z"
   },
   {
    "duration": 125,
    "start_time": "2022-03-28T19:31:21.300Z"
   },
   {
    "duration": 13,
    "start_time": "2022-03-28T19:31:21.427Z"
   },
   {
    "duration": 18,
    "start_time": "2022-03-28T19:31:21.442Z"
   },
   {
    "duration": 14,
    "start_time": "2022-03-28T19:31:21.462Z"
   },
   {
    "duration": 13,
    "start_time": "2022-03-28T19:31:21.478Z"
   },
   {
    "duration": 13,
    "start_time": "2022-03-28T19:31:21.492Z"
   },
   {
    "duration": 34,
    "start_time": "2022-03-28T19:31:21.507Z"
   },
   {
    "duration": 9,
    "start_time": "2022-03-28T19:31:21.542Z"
   },
   {
    "duration": 14,
    "start_time": "2022-03-28T19:31:21.552Z"
   },
   {
    "duration": 138,
    "start_time": "2022-03-28T19:31:21.568Z"
   },
   {
    "duration": 5,
    "start_time": "2022-03-28T19:31:21.707Z"
   },
   {
    "duration": 157,
    "start_time": "2022-03-28T19:31:21.714Z"
   },
   {
    "duration": 6,
    "start_time": "2022-03-28T19:31:21.873Z"
   },
   {
    "duration": 123,
    "start_time": "2022-03-28T19:31:21.880Z"
   },
   {
    "duration": 11,
    "start_time": "2022-03-28T19:31:22.005Z"
   },
   {
    "duration": 137,
    "start_time": "2022-03-28T19:31:22.033Z"
   },
   {
    "duration": 6,
    "start_time": "2022-03-28T19:31:22.171Z"
   },
   {
    "duration": 10,
    "start_time": "2022-03-28T19:31:22.178Z"
   },
   {
    "duration": 7,
    "start_time": "2022-03-28T19:31:22.190Z"
   },
   {
    "duration": 9,
    "start_time": "2022-03-28T19:31:22.198Z"
   },
   {
    "duration": 29,
    "start_time": "2022-03-28T19:31:22.208Z"
   },
   {
    "duration": 22,
    "start_time": "2022-03-28T19:31:22.238Z"
   },
   {
    "duration": 16,
    "start_time": "2022-03-28T19:31:22.265Z"
   },
   {
    "duration": 33,
    "start_time": "2022-03-28T19:31:22.282Z"
   },
   {
    "duration": 120,
    "start_time": "2022-03-28T19:31:22.317Z"
   },
   {
    "duration": 34,
    "start_time": "2022-03-28T19:31:22.439Z"
   },
   {
    "duration": 4,
    "start_time": "2022-03-28T19:31:22.475Z"
   },
   {
    "duration": 17,
    "start_time": "2022-03-28T19:31:22.481Z"
   },
   {
    "duration": 6,
    "start_time": "2022-03-28T19:31:22.500Z"
   },
   {
    "duration": 45,
    "start_time": "2022-03-28T19:31:22.508Z"
   },
   {
    "duration": 206,
    "start_time": "2022-03-28T19:31:22.554Z"
   },
   {
    "duration": 205,
    "start_time": "2022-03-28T19:31:22.762Z"
   },
   {
    "duration": 153,
    "start_time": "2022-03-28T19:31:22.968Z"
   },
   {
    "duration": 169,
    "start_time": "2022-03-28T19:31:23.123Z"
   },
   {
    "duration": 14,
    "start_time": "2022-03-28T19:31:23.294Z"
   },
   {
    "duration": 196,
    "start_time": "2022-03-28T19:31:23.310Z"
   },
   {
    "duration": 9,
    "start_time": "2022-03-28T19:31:23.508Z"
   },
   {
    "duration": 29,
    "start_time": "2022-03-28T19:31:23.519Z"
   },
   {
    "duration": 48,
    "start_time": "2022-03-28T19:31:23.549Z"
   },
   {
    "duration": 37,
    "start_time": "2022-03-28T19:31:23.599Z"
   },
   {
    "duration": 5,
    "start_time": "2022-03-28T19:31:23.638Z"
   },
   {
    "duration": 7,
    "start_time": "2022-03-28T19:31:23.645Z"
   },
   {
    "duration": 111,
    "start_time": "2022-03-28T19:31:23.654Z"
   },
   {
    "duration": 189,
    "start_time": "2022-03-28T19:31:23.766Z"
   },
   {
    "duration": 165,
    "start_time": "2022-03-28T19:31:23.957Z"
   },
   {
    "duration": 18,
    "start_time": "2022-03-28T19:31:24.123Z"
   },
   {
    "duration": 25,
    "start_time": "2022-03-28T19:31:24.142Z"
   },
   {
    "duration": 6,
    "start_time": "2022-03-28T19:31:24.169Z"
   },
   {
    "duration": 66,
    "start_time": "2022-03-28T19:31:24.177Z"
   },
   {
    "duration": 24,
    "start_time": "2022-03-28T19:31:24.245Z"
   },
   {
    "duration": 4,
    "start_time": "2022-03-28T19:31:24.271Z"
   },
   {
    "duration": 11,
    "start_time": "2022-03-28T19:31:24.276Z"
   },
   {
    "duration": 6,
    "start_time": "2022-03-28T19:31:24.289Z"
   },
   {
    "duration": 47,
    "start_time": "2022-03-28T19:31:24.296Z"
   },
   {
    "duration": 191,
    "start_time": "2022-03-28T19:31:24.344Z"
   },
   {
    "duration": 179,
    "start_time": "2022-03-28T19:31:24.536Z"
   },
   {
    "duration": 150,
    "start_time": "2022-03-28T19:31:24.717Z"
   },
   {
    "duration": 171,
    "start_time": "2022-03-28T19:31:24.868Z"
   },
   {
    "duration": 12,
    "start_time": "2022-03-28T19:31:25.041Z"
   },
   {
    "duration": 179,
    "start_time": "2022-03-28T19:31:25.055Z"
   },
   {
    "duration": 524,
    "start_time": "2022-03-28T19:31:25.236Z"
   },
   {
    "duration": 38,
    "start_time": "2022-03-28T19:31:25.761Z"
   },
   {
    "duration": 210,
    "start_time": "2022-03-28T19:31:25.800Z"
   },
   {
    "duration": 35,
    "start_time": "2022-03-28T19:31:26.011Z"
   },
   {
    "duration": 12,
    "start_time": "2022-03-28T19:31:26.047Z"
   },
   {
    "duration": 677,
    "start_time": "2022-03-28T19:31:26.060Z"
   },
   {
    "duration": 13,
    "start_time": "2022-03-28T19:31:26.739Z"
   },
   {
    "duration": 19,
    "start_time": "2022-03-28T19:31:26.754Z"
   },
   {
    "duration": 10,
    "start_time": "2022-03-28T19:31:26.774Z"
   },
   {
    "duration": 5,
    "start_time": "2022-03-28T19:31:26.785Z"
   },
   {
    "duration": 49,
    "start_time": "2022-03-28T19:31:26.791Z"
   },
   {
    "duration": 14,
    "start_time": "2022-03-28T19:31:26.841Z"
   },
   {
    "duration": 11,
    "start_time": "2022-03-28T19:31:26.856Z"
   },
   {
    "duration": 872,
    "start_time": "2022-03-28T19:31:26.869Z"
   },
   {
    "duration": 27,
    "start_time": "2022-03-28T19:31:27.742Z"
   },
   {
    "duration": 925,
    "start_time": "2022-03-28T19:31:27.771Z"
   },
   {
    "duration": 35,
    "start_time": "2022-03-28T19:31:28.702Z"
   },
   {
    "duration": 235,
    "start_time": "2022-03-28T19:31:28.739Z"
   },
   {
    "duration": 5,
    "start_time": "2022-03-28T19:31:28.975Z"
   },
   {
    "duration": 13,
    "start_time": "2022-03-28T19:31:28.982Z"
   },
   {
    "duration": 125,
    "start_time": "2022-03-28T19:31:28.997Z"
   },
   {
    "duration": 32,
    "start_time": "2022-03-28T19:31:29.124Z"
   },
   {
    "duration": 151,
    "start_time": "2022-03-28T19:31:29.157Z"
   },
   {
    "duration": 35,
    "start_time": "2022-03-28T19:31:29.310Z"
   },
   {
    "duration": 5,
    "start_time": "2022-03-28T19:31:29.347Z"
   },
   {
    "duration": 10,
    "start_time": "2022-03-28T19:31:29.353Z"
   },
   {
    "duration": 28,
    "start_time": "2022-03-28T19:41:31.563Z"
   },
   {
    "duration": 21,
    "start_time": "2022-03-28T19:41:46.076Z"
   },
   {
    "duration": 25,
    "start_time": "2022-03-28T19:42:03.263Z"
   },
   {
    "duration": 26,
    "start_time": "2022-03-28T19:44:16.388Z"
   },
   {
    "duration": 26,
    "start_time": "2022-03-28T19:44:43.291Z"
   },
   {
    "duration": 1978,
    "start_time": "2022-03-28T19:48:19.732Z"
   },
   {
    "duration": 1343,
    "start_time": "2022-03-28T19:48:27.555Z"
   },
   {
    "duration": 10,
    "start_time": "2022-03-28T19:48:32.651Z"
   },
   {
    "duration": 1035,
    "start_time": "2022-03-28T19:48:52.577Z"
   },
   {
    "duration": 1352,
    "start_time": "2022-03-28T19:49:01.393Z"
   },
   {
    "duration": 8,
    "start_time": "2022-03-28T19:49:33.857Z"
   },
   {
    "duration": 1858,
    "start_time": "2022-03-28T19:49:41.136Z"
   },
   {
    "duration": 22,
    "start_time": "2022-03-28T19:50:00.453Z"
   },
   {
    "duration": 43,
    "start_time": "2022-03-28T19:50:37.745Z"
   },
   {
    "duration": 42,
    "start_time": "2022-03-28T19:51:20.087Z"
   },
   {
    "duration": 44,
    "start_time": "2022-03-28T19:51:35.707Z"
   },
   {
    "duration": 43,
    "start_time": "2022-03-28T19:51:54.254Z"
   },
   {
    "duration": 43,
    "start_time": "2022-03-28T19:52:20.040Z"
   },
   {
    "duration": 41,
    "start_time": "2022-03-28T19:52:37.714Z"
   },
   {
    "duration": 48,
    "start_time": "2022-03-28T19:53:09.792Z"
   },
   {
    "duration": 26,
    "start_time": "2022-03-28T19:54:04.587Z"
   },
   {
    "duration": 26,
    "start_time": "2022-03-28T19:56:05.613Z"
   },
   {
    "duration": 40,
    "start_time": "2022-03-28T19:56:31.375Z"
   },
   {
    "duration": 38,
    "start_time": "2022-03-28T19:58:53.313Z"
   },
   {
    "duration": 40,
    "start_time": "2022-03-28T20:01:22.058Z"
   },
   {
    "duration": 39,
    "start_time": "2022-03-28T20:01:32.923Z"
   },
   {
    "duration": 42,
    "start_time": "2022-03-28T20:03:25.581Z"
   },
   {
    "duration": 40,
    "start_time": "2022-03-28T20:03:33.930Z"
   },
   {
    "duration": 116,
    "start_time": "2022-03-28T20:31:22.521Z"
   },
   {
    "duration": 2,
    "start_time": "2022-03-28T20:50:05.974Z"
   },
   {
    "duration": 1187,
    "start_time": "2022-03-28T20:50:24.768Z"
   },
   {
    "duration": 2,
    "start_time": "2022-03-28T20:50:25.957Z"
   },
   {
    "duration": 20,
    "start_time": "2022-03-28T20:50:25.963Z"
   },
   {
    "duration": 20,
    "start_time": "2022-03-28T20:50:25.984Z"
   },
   {
    "duration": 149,
    "start_time": "2022-03-28T20:50:26.006Z"
   },
   {
    "duration": 94,
    "start_time": "2022-03-28T20:50:26.156Z"
   },
   {
    "duration": 132,
    "start_time": "2022-03-28T20:50:26.251Z"
   },
   {
    "duration": 13,
    "start_time": "2022-03-28T20:50:26.385Z"
   },
   {
    "duration": 11,
    "start_time": "2022-03-28T20:50:26.401Z"
   },
   {
    "duration": 29,
    "start_time": "2022-03-28T20:50:26.414Z"
   },
   {
    "duration": 16,
    "start_time": "2022-03-28T20:50:26.444Z"
   },
   {
    "duration": 15,
    "start_time": "2022-03-28T20:50:26.462Z"
   },
   {
    "duration": 14,
    "start_time": "2022-03-28T20:50:26.478Z"
   },
   {
    "duration": 8,
    "start_time": "2022-03-28T20:50:26.494Z"
   },
   {
    "duration": 32,
    "start_time": "2022-03-28T20:50:26.504Z"
   },
   {
    "duration": 126,
    "start_time": "2022-03-28T20:50:26.537Z"
   },
   {
    "duration": 4,
    "start_time": "2022-03-28T20:50:26.665Z"
   },
   {
    "duration": 155,
    "start_time": "2022-03-28T20:50:26.670Z"
   },
   {
    "duration": 5,
    "start_time": "2022-03-28T20:50:26.832Z"
   },
   {
    "duration": 119,
    "start_time": "2022-03-28T20:50:26.839Z"
   },
   {
    "duration": 11,
    "start_time": "2022-03-28T20:50:26.959Z"
   },
   {
    "duration": 145,
    "start_time": "2022-03-28T20:50:26.971Z"
   },
   {
    "duration": 6,
    "start_time": "2022-03-28T20:50:27.117Z"
   },
   {
    "duration": 13,
    "start_time": "2022-03-28T20:50:27.124Z"
   },
   {
    "duration": 14,
    "start_time": "2022-03-28T20:50:27.139Z"
   },
   {
    "duration": 10,
    "start_time": "2022-03-28T20:50:27.154Z"
   },
   {
    "duration": 12,
    "start_time": "2022-03-28T20:50:27.168Z"
   },
   {
    "duration": 17,
    "start_time": "2022-03-28T20:50:27.181Z"
   },
   {
    "duration": 33,
    "start_time": "2022-03-28T20:50:27.200Z"
   },
   {
    "duration": 25,
    "start_time": "2022-03-28T20:50:27.234Z"
   },
   {
    "duration": 132,
    "start_time": "2022-03-28T20:50:27.260Z"
   },
   {
    "duration": 42,
    "start_time": "2022-03-28T20:50:27.393Z"
   },
   {
    "duration": 4,
    "start_time": "2022-03-28T20:50:27.437Z"
   },
   {
    "duration": 11,
    "start_time": "2022-03-28T20:50:27.443Z"
   },
   {
    "duration": 7,
    "start_time": "2022-03-28T20:50:27.455Z"
   },
   {
    "duration": 24,
    "start_time": "2022-03-28T20:50:27.464Z"
   },
   {
    "duration": 231,
    "start_time": "2022-03-28T20:50:27.489Z"
   },
   {
    "duration": 202,
    "start_time": "2022-03-28T20:50:27.722Z"
   },
   {
    "duration": 150,
    "start_time": "2022-03-28T20:50:27.932Z"
   },
   {
    "duration": 172,
    "start_time": "2022-03-28T20:50:28.084Z"
   },
   {
    "duration": 14,
    "start_time": "2022-03-28T20:50:28.258Z"
   },
   {
    "duration": 196,
    "start_time": "2022-03-28T20:50:28.274Z"
   },
   {
    "duration": 11,
    "start_time": "2022-03-28T20:50:28.471Z"
   },
   {
    "duration": 21,
    "start_time": "2022-03-28T20:50:28.483Z"
   },
   {
    "duration": 69,
    "start_time": "2022-03-28T20:50:28.506Z"
   },
   {
    "duration": 21,
    "start_time": "2022-03-28T20:50:28.576Z"
   },
   {
    "duration": 5,
    "start_time": "2022-03-28T20:50:28.599Z"
   },
   {
    "duration": 28,
    "start_time": "2022-03-28T20:50:28.605Z"
   },
   {
    "duration": 117,
    "start_time": "2022-03-28T20:50:28.635Z"
   },
   {
    "duration": 188,
    "start_time": "2022-03-28T20:50:28.754Z"
   },
   {
    "duration": 175,
    "start_time": "2022-03-28T20:50:28.943Z"
   },
   {
    "duration": 24,
    "start_time": "2022-03-28T20:50:29.120Z"
   },
   {
    "duration": 23,
    "start_time": "2022-03-28T20:50:29.146Z"
   },
   {
    "duration": 8,
    "start_time": "2022-03-28T20:50:29.171Z"
   },
   {
    "duration": 84,
    "start_time": "2022-03-28T20:50:29.180Z"
   },
   {
    "duration": 28,
    "start_time": "2022-03-28T20:50:29.266Z"
   },
   {
    "duration": 3,
    "start_time": "2022-03-28T20:50:29.296Z"
   },
   {
    "duration": 22,
    "start_time": "2022-03-28T20:50:29.301Z"
   },
   {
    "duration": 13,
    "start_time": "2022-03-28T20:50:29.324Z"
   },
   {
    "duration": 29,
    "start_time": "2022-03-28T20:50:29.339Z"
   },
   {
    "duration": 190,
    "start_time": "2022-03-28T20:50:29.370Z"
   },
   {
    "duration": 188,
    "start_time": "2022-03-28T20:50:29.561Z"
   },
   {
    "duration": 157,
    "start_time": "2022-03-28T20:50:29.751Z"
   },
   {
    "duration": 169,
    "start_time": "2022-03-28T20:50:29.910Z"
   },
   {
    "duration": 13,
    "start_time": "2022-03-28T20:50:30.081Z"
   },
   {
    "duration": 192,
    "start_time": "2022-03-28T20:50:30.096Z"
   },
   {
    "duration": 544,
    "start_time": "2022-03-28T20:50:30.290Z"
   },
   {
    "duration": 40,
    "start_time": "2022-03-28T20:50:30.836Z"
   },
   {
    "duration": 232,
    "start_time": "2022-03-28T20:50:30.877Z"
   },
   {
    "duration": 34,
    "start_time": "2022-03-28T20:50:31.111Z"
   },
   {
    "duration": 11,
    "start_time": "2022-03-28T20:50:31.147Z"
   },
   {
    "duration": 688,
    "start_time": "2022-03-28T20:50:31.160Z"
   },
   {
    "duration": 15,
    "start_time": "2022-03-28T20:50:31.850Z"
   },
   {
    "duration": 19,
    "start_time": "2022-03-28T20:50:31.866Z"
   },
   {
    "duration": 10,
    "start_time": "2022-03-28T20:50:31.886Z"
   },
   {
    "duration": 6,
    "start_time": "2022-03-28T20:50:31.897Z"
   },
   {
    "duration": 47,
    "start_time": "2022-03-28T20:50:31.904Z"
   },
   {
    "duration": 19,
    "start_time": "2022-03-28T20:50:31.953Z"
   },
   {
    "duration": 13,
    "start_time": "2022-03-28T20:50:31.974Z"
   },
   {
    "duration": 881,
    "start_time": "2022-03-28T20:50:31.989Z"
   },
   {
    "duration": 26,
    "start_time": "2022-03-28T20:50:32.876Z"
   },
   {
    "duration": 903,
    "start_time": "2022-03-28T20:50:32.903Z"
   },
   {
    "duration": 40,
    "start_time": "2022-03-28T20:50:33.807Z"
   },
   {
    "duration": 41,
    "start_time": "2022-03-28T20:50:33.848Z"
   },
   {
    "duration": 57,
    "start_time": "2022-03-28T20:50:33.890Z"
   },
   {
    "duration": 233,
    "start_time": "2022-03-28T20:50:33.949Z"
   },
   {
    "duration": 5,
    "start_time": "2022-03-28T20:50:34.183Z"
   },
   {
    "duration": 11,
    "start_time": "2022-03-28T20:50:34.190Z"
   },
   {
    "duration": 122,
    "start_time": "2022-03-28T20:50:34.203Z"
   },
   {
    "duration": 32,
    "start_time": "2022-03-28T20:50:34.327Z"
   },
   {
    "duration": 146,
    "start_time": "2022-03-28T20:50:34.360Z"
   },
   {
    "duration": 37,
    "start_time": "2022-03-28T20:50:34.508Z"
   },
   {
    "duration": 4,
    "start_time": "2022-03-28T20:50:34.547Z"
   },
   {
    "duration": 6,
    "start_time": "2022-03-28T20:50:34.553Z"
   },
   {
    "duration": 101,
    "start_time": "2022-03-28T20:55:56.770Z"
   },
   {
    "duration": 9,
    "start_time": "2022-03-28T20:56:01.112Z"
   },
   {
    "duration": 16,
    "start_time": "2022-03-28T20:56:20.834Z"
   },
   {
    "duration": 8,
    "start_time": "2022-03-28T20:56:30.667Z"
   },
   {
    "duration": 10,
    "start_time": "2022-03-28T20:56:43.806Z"
   },
   {
    "duration": 7,
    "start_time": "2022-03-28T20:56:56.887Z"
   },
   {
    "duration": 17,
    "start_time": "2022-03-28T20:57:11.374Z"
   },
   {
    "duration": 15,
    "start_time": "2022-03-28T20:57:23.892Z"
   },
   {
    "duration": 16,
    "start_time": "2022-03-28T20:57:33.363Z"
   },
   {
    "duration": 17,
    "start_time": "2022-03-28T20:58:03.757Z"
   },
   {
    "duration": 17,
    "start_time": "2022-03-28T20:58:12.726Z"
   }
  ],
  "kernelspec": {
   "display_name": "Python 3 (ipykernel)",
   "language": "python",
   "name": "python3"
  },
  "language_info": {
   "codemirror_mode": {
    "name": "ipython",
    "version": 3
   },
   "file_extension": ".py",
   "mimetype": "text/x-python",
   "name": "python",
   "nbconvert_exporter": "python",
   "pygments_lexer": "ipython3",
   "version": "3.9.12"
  },
  "toc": {
   "base_numbering": 1,
   "nav_menu": {},
   "number_sections": true,
   "sideBar": true,
   "skip_h1_title": true,
   "title_cell": "Table of Contents",
   "title_sidebar": "Contents",
   "toc_cell": true,
   "toc_position": {
    "height": "calc(100% - 180px)",
    "left": "10px",
    "top": "150px",
    "width": "333px"
   },
   "toc_section_display": true,
   "toc_window_display": false
  }
 },
 "nbformat": 4,
 "nbformat_minor": 4
}

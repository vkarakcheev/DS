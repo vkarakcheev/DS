{
 "cells": [
  {
   "cell_type": "markdown",
   "id": "f9ddd481",
   "metadata": {},
   "source": [
    "# Исследование надежности заемщиков"
   ]
  },
  {
   "cell_type": "markdown",
   "id": "da23bc6d-aa93-479c-a12f-db9a388215d5",
   "metadata": {},
   "source": [
    "Заказчик — кредитный отдел банка. Нужно разобраться, влияет ли семейное положение и количество детей клиента на факт погашения кредита в срок. Входные данные от банка — статистика о платёжеспособности клиентов.\n",
    "Результаты исследования будут учтены при построении модели кредитного скоринга — специальной системы, которая оценивает способность потенциального заёмщика вернуть кредит банку."
   ]
  },
  {
   "cell_type": "markdown",
   "id": "6f7d7c78",
   "metadata": {},
   "source": [
    "## Обзор данных"
   ]
  },
  {
   "cell_type": "markdown",
   "id": "519e6ec7",
   "metadata": {},
   "source": [
    "### First Glance\n",
    "Загрузим данные и посмотрим, что внутри. "
   ]
  },
  {
   "cell_type": "code",
   "execution_count": 1,
   "id": "42c00d66",
   "metadata": {},
   "outputs": [],
   "source": [
    "# Импортируем сразу все, что может понадобиться\n",
    "import pandas as pd\n",
    "import seaborn as sns\n",
    "import math\n",
    "import numpy as np\n",
    "\n",
    "df = pd.read_csv('/datasets/data.csv')"
   ]
  },
  {
   "cell_type": "code",
   "execution_count": 2,
   "id": "3d02752d",
   "metadata": {},
   "outputs": [
    {
     "data": {
      "text/html": [
       "<div>\n",
       "<style scoped>\n",
       "    .dataframe tbody tr th:only-of-type {\n",
       "        vertical-align: middle;\n",
       "    }\n",
       "\n",
       "    .dataframe tbody tr th {\n",
       "        vertical-align: top;\n",
       "    }\n",
       "\n",
       "    .dataframe thead th {\n",
       "        text-align: right;\n",
       "    }\n",
       "</style>\n",
       "<table border=\"1\" class=\"dataframe\">\n",
       "  <thead>\n",
       "    <tr style=\"text-align: right;\">\n",
       "      <th></th>\n",
       "      <th>children</th>\n",
       "      <th>days_employed</th>\n",
       "      <th>dob_years</th>\n",
       "      <th>education</th>\n",
       "      <th>education_id</th>\n",
       "      <th>family_status</th>\n",
       "      <th>family_status_id</th>\n",
       "      <th>gender</th>\n",
       "      <th>income_type</th>\n",
       "      <th>debt</th>\n",
       "      <th>total_income</th>\n",
       "      <th>purpose</th>\n",
       "    </tr>\n",
       "  </thead>\n",
       "  <tbody>\n",
       "    <tr>\n",
       "      <td>0</td>\n",
       "      <td>1</td>\n",
       "      <td>-8437.673028</td>\n",
       "      <td>42</td>\n",
       "      <td>высшее</td>\n",
       "      <td>0</td>\n",
       "      <td>женат / замужем</td>\n",
       "      <td>0</td>\n",
       "      <td>F</td>\n",
       "      <td>сотрудник</td>\n",
       "      <td>0</td>\n",
       "      <td>253875.639453</td>\n",
       "      <td>покупка жилья</td>\n",
       "    </tr>\n",
       "    <tr>\n",
       "      <td>1</td>\n",
       "      <td>1</td>\n",
       "      <td>-4024.803754</td>\n",
       "      <td>36</td>\n",
       "      <td>среднее</td>\n",
       "      <td>1</td>\n",
       "      <td>женат / замужем</td>\n",
       "      <td>0</td>\n",
       "      <td>F</td>\n",
       "      <td>сотрудник</td>\n",
       "      <td>0</td>\n",
       "      <td>112080.014102</td>\n",
       "      <td>приобретение автомобиля</td>\n",
       "    </tr>\n",
       "    <tr>\n",
       "      <td>2</td>\n",
       "      <td>0</td>\n",
       "      <td>-5623.422610</td>\n",
       "      <td>33</td>\n",
       "      <td>Среднее</td>\n",
       "      <td>1</td>\n",
       "      <td>женат / замужем</td>\n",
       "      <td>0</td>\n",
       "      <td>M</td>\n",
       "      <td>сотрудник</td>\n",
       "      <td>0</td>\n",
       "      <td>145885.952297</td>\n",
       "      <td>покупка жилья</td>\n",
       "    </tr>\n",
       "    <tr>\n",
       "      <td>3</td>\n",
       "      <td>3</td>\n",
       "      <td>-4124.747207</td>\n",
       "      <td>32</td>\n",
       "      <td>среднее</td>\n",
       "      <td>1</td>\n",
       "      <td>женат / замужем</td>\n",
       "      <td>0</td>\n",
       "      <td>M</td>\n",
       "      <td>сотрудник</td>\n",
       "      <td>0</td>\n",
       "      <td>267628.550329</td>\n",
       "      <td>дополнительное образование</td>\n",
       "    </tr>\n",
       "    <tr>\n",
       "      <td>4</td>\n",
       "      <td>0</td>\n",
       "      <td>340266.072047</td>\n",
       "      <td>53</td>\n",
       "      <td>среднее</td>\n",
       "      <td>1</td>\n",
       "      <td>гражданский брак</td>\n",
       "      <td>1</td>\n",
       "      <td>F</td>\n",
       "      <td>пенсионер</td>\n",
       "      <td>0</td>\n",
       "      <td>158616.077870</td>\n",
       "      <td>сыграть свадьбу</td>\n",
       "    </tr>\n",
       "    <tr>\n",
       "      <td>5</td>\n",
       "      <td>0</td>\n",
       "      <td>-926.185831</td>\n",
       "      <td>27</td>\n",
       "      <td>высшее</td>\n",
       "      <td>0</td>\n",
       "      <td>гражданский брак</td>\n",
       "      <td>1</td>\n",
       "      <td>M</td>\n",
       "      <td>компаньон</td>\n",
       "      <td>0</td>\n",
       "      <td>255763.565419</td>\n",
       "      <td>покупка жилья</td>\n",
       "    </tr>\n",
       "    <tr>\n",
       "      <td>6</td>\n",
       "      <td>0</td>\n",
       "      <td>-2879.202052</td>\n",
       "      <td>43</td>\n",
       "      <td>высшее</td>\n",
       "      <td>0</td>\n",
       "      <td>женат / замужем</td>\n",
       "      <td>0</td>\n",
       "      <td>F</td>\n",
       "      <td>компаньон</td>\n",
       "      <td>0</td>\n",
       "      <td>240525.971920</td>\n",
       "      <td>операции с жильем</td>\n",
       "    </tr>\n",
       "    <tr>\n",
       "      <td>7</td>\n",
       "      <td>0</td>\n",
       "      <td>-152.779569</td>\n",
       "      <td>50</td>\n",
       "      <td>СРЕДНЕЕ</td>\n",
       "      <td>1</td>\n",
       "      <td>женат / замужем</td>\n",
       "      <td>0</td>\n",
       "      <td>M</td>\n",
       "      <td>сотрудник</td>\n",
       "      <td>0</td>\n",
       "      <td>135823.934197</td>\n",
       "      <td>образование</td>\n",
       "    </tr>\n",
       "    <tr>\n",
       "      <td>8</td>\n",
       "      <td>2</td>\n",
       "      <td>-6929.865299</td>\n",
       "      <td>35</td>\n",
       "      <td>ВЫСШЕЕ</td>\n",
       "      <td>0</td>\n",
       "      <td>гражданский брак</td>\n",
       "      <td>1</td>\n",
       "      <td>F</td>\n",
       "      <td>сотрудник</td>\n",
       "      <td>0</td>\n",
       "      <td>95856.832424</td>\n",
       "      <td>на проведение свадьбы</td>\n",
       "    </tr>\n",
       "    <tr>\n",
       "      <td>9</td>\n",
       "      <td>0</td>\n",
       "      <td>-2188.756445</td>\n",
       "      <td>41</td>\n",
       "      <td>среднее</td>\n",
       "      <td>1</td>\n",
       "      <td>женат / замужем</td>\n",
       "      <td>0</td>\n",
       "      <td>M</td>\n",
       "      <td>сотрудник</td>\n",
       "      <td>0</td>\n",
       "      <td>144425.938277</td>\n",
       "      <td>покупка жилья для семьи</td>\n",
       "    </tr>\n",
       "  </tbody>\n",
       "</table>\n",
       "</div>"
      ],
      "text/plain": [
       "   children  days_employed  dob_years education  education_id  \\\n",
       "0         1   -8437.673028         42    высшее             0   \n",
       "1         1   -4024.803754         36   среднее             1   \n",
       "2         0   -5623.422610         33   Среднее             1   \n",
       "3         3   -4124.747207         32   среднее             1   \n",
       "4         0  340266.072047         53   среднее             1   \n",
       "5         0    -926.185831         27    высшее             0   \n",
       "6         0   -2879.202052         43    высшее             0   \n",
       "7         0    -152.779569         50   СРЕДНЕЕ             1   \n",
       "8         2   -6929.865299         35    ВЫСШЕЕ             0   \n",
       "9         0   -2188.756445         41   среднее             1   \n",
       "\n",
       "      family_status  family_status_id gender income_type  debt   total_income  \\\n",
       "0   женат / замужем                 0      F   сотрудник     0  253875.639453   \n",
       "1   женат / замужем                 0      F   сотрудник     0  112080.014102   \n",
       "2   женат / замужем                 0      M   сотрудник     0  145885.952297   \n",
       "3   женат / замужем                 0      M   сотрудник     0  267628.550329   \n",
       "4  гражданский брак                 1      F   пенсионер     0  158616.077870   \n",
       "5  гражданский брак                 1      M   компаньон     0  255763.565419   \n",
       "6   женат / замужем                 0      F   компаньон     0  240525.971920   \n",
       "7   женат / замужем                 0      M   сотрудник     0  135823.934197   \n",
       "8  гражданский брак                 1      F   сотрудник     0   95856.832424   \n",
       "9   женат / замужем                 0      M   сотрудник     0  144425.938277   \n",
       "\n",
       "                      purpose  \n",
       "0               покупка жилья  \n",
       "1     приобретение автомобиля  \n",
       "2               покупка жилья  \n",
       "3  дополнительное образование  \n",
       "4             сыграть свадьбу  \n",
       "5               покупка жилья  \n",
       "6           операции с жильем  \n",
       "7                 образование  \n",
       "8       на проведение свадьбы  \n",
       "9     покупка жилья для семьи  "
      ]
     },
     "execution_count": 2,
     "metadata": {},
     "output_type": "execute_result"
    }
   ],
   "source": [
    "df.head(10)"
   ]
  },
  {
   "cell_type": "markdown",
   "id": "b8695a8d",
   "metadata": {},
   "source": [
    "Из необычного пока только дробный отрицательный стаж в днях `days_employed`.\n",
    "\n",
    "Посмотрим на типы данных и долю пропусков в столбцах."
   ]
  },
  {
   "cell_type": "code",
   "execution_count": 3,
   "id": "630f1ab9",
   "metadata": {},
   "outputs": [
    {
     "name": "stdout",
     "output_type": "stream",
     "text": [
      "<class 'pandas.core.frame.DataFrame'>\n",
      "RangeIndex: 21525 entries, 0 to 21524\n",
      "Data columns (total 12 columns):\n",
      "children            21525 non-null int64\n",
      "days_employed       19351 non-null float64\n",
      "dob_years           21525 non-null int64\n",
      "education           21525 non-null object\n",
      "education_id        21525 non-null int64\n",
      "family_status       21525 non-null object\n",
      "family_status_id    21525 non-null int64\n",
      "gender              21525 non-null object\n",
      "income_type         21525 non-null object\n",
      "debt                21525 non-null int64\n",
      "total_income        19351 non-null float64\n",
      "purpose             21525 non-null object\n",
      "dtypes: float64(2), int64(5), object(5)\n",
      "memory usage: 2.0+ MB\n"
     ]
    }
   ],
   "source": [
    "df.info()"
   ]
  },
  {
   "cell_type": "code",
   "execution_count": 4,
   "id": "fb0c66d7",
   "metadata": {},
   "outputs": [
    {
     "data": {
      "text/plain": [
       "children             0.000000\n",
       "days_employed       10.099884\n",
       "dob_years            0.000000\n",
       "education            0.000000\n",
       "education_id         0.000000\n",
       "family_status        0.000000\n",
       "family_status_id     0.000000\n",
       "gender               0.000000\n",
       "income_type          0.000000\n",
       "debt                 0.000000\n",
       "total_income        10.099884\n",
       "purpose              0.000000\n",
       "dtype: float64"
      ]
     },
     "execution_count": 4,
     "metadata": {},
     "output_type": "execute_result"
    }
   ],
   "source": [
    "# доля пропусков в процентах\n",
    "df.isna().mean() * 100"
   ]
  },
  {
   "cell_type": "markdown",
   "id": "3957fd99",
   "metadata": {},
   "source": [
    "<a id='first_glance'></a>Явные пропуски есть только в столбцах `days_employed` и `total_income`, составляют около 10% и, судя по их количеству, находятся в одних и тех же строках.\n",
    "\n",
    "Типы данных соответствуют содержимому столбцов. Но для представленных данных хватит и более экономичных подтипов – оптимизируем память после предобработки.\n",
    "\n",
    "Пройдемся по всем столбцам и посмотрим на распределение значений в них."
   ]
  },
  {
   "cell_type": "markdown",
   "id": "6ed5fa1c",
   "metadata": {},
   "source": [
    "### `children` – количество детей в семье"
   ]
  },
  {
   "cell_type": "code",
   "execution_count": 5,
   "id": "b837e001",
   "metadata": {},
   "outputs": [
    {
     "data": {
      "text/plain": [
       "-1        47\n",
       " 0     14149\n",
       " 1      4818\n",
       " 2      2055\n",
       " 3       330\n",
       " 4        41\n",
       " 5         9\n",
       " 20       76\n",
       "Name: children, dtype: int64"
      ]
     },
     "execution_count": 5,
     "metadata": {},
     "output_type": "execute_result"
    }
   ],
   "source": [
    "df['children'].value_counts().sort_index()"
   ]
  },
  {
   "cell_type": "markdown",
   "id": "1adf60cf",
   "metadata": {},
   "source": [
    "В столбце `children` две аномалии: значения `-1` (возможно, неявный пропуск) и `20` (возможно, синоним «<i>больше 5</i>») – вернемся к ним [позже](#children_anomalies). \n",
    ">Две трети заемщиков не имеют детей."
   ]
  },
  {
   "cell_type": "markdown",
   "id": "5b37b16a",
   "metadata": {},
   "source": [
    "### `days_employed` – общий трудовой стаж в днях"
   ]
  },
  {
   "cell_type": "code",
   "execution_count": 6,
   "id": "d0424cd8",
   "metadata": {},
   "outputs": [
    {
     "data": {
      "text/plain": [
       "<matplotlib.axes._subplots.AxesSubplot at 0x7fbb4598bd10>"
      ]
     },
     "execution_count": 6,
     "metadata": {},
     "output_type": "execute_result"
    },
    {
     "data": {
      "image/png": "[encoded data removed]",
      "text/plain": [
       "<Figure size 432x288 with 1 Axes>"
      ]
     },
     "metadata": {
      "needs_background": "light"
     },
     "output_type": "display_data"
    }
   ],
   "source": [
    "#sns.distplot(a=df['days_employed'], kde=False, bins=50) # alternative method\n",
    "df['days_employed'].hist(bins=20)"
   ]
  },
  {
   "cell_type": "markdown",
   "id": "918289a4",
   "metadata": {},
   "source": [
    "Значения в столбце `days_employed` разделились на две группы: слева от нуля и в районе 300–400 тысяч. Разберемся с этим [позже](#days_employed_anomalies). <br><br>"
   ]
  },
  {
   "cell_type": "markdown",
   "id": "1bc7093f",
   "metadata": {},
   "source": [
    "### `dob_years` – возраст клиента в годах"
   ]
  },
  {
   "cell_type": "code",
   "execution_count": 7,
   "id": "7c95dd42",
   "metadata": {
    "scrolled": true
   },
   "outputs": [
    {
     "data": {
      "text/plain": [
       "<matplotlib.axes._subplots.AxesSubplot at 0x7fbb3d1cde10>"
      ]
     },
     "execution_count": 7,
     "metadata": {},
     "output_type": "execute_result"
    },
    {
     "data": {
      "image/png": "[encoded data removed]",
      "text/plain": [
       "<Figure size 432x288 with 1 Axes>"
      ]
     },
     "metadata": {
      "needs_background": "light"
     },
     "output_type": "display_data"
    }
   ],
   "source": [
    "#sns.distplot(a=df['dob_years'], kde=False, bins=15) # alternative method\n",
    "df['dob_years'].hist(bins=15)"
   ]
  },
  {
   "cell_type": "markdown",
   "id": "66d4ed11",
   "metadata": {},
   "source": [
    "В столбце `dob_years` есть небольшое число нулевых значений (неявных пропусков). \n",
    ">Распределение по возрастам адекватное с модой около 40 лет."
   ]
  },
  {
   "cell_type": "markdown",
   "id": "294d8189",
   "metadata": {},
   "source": [
    "### `education_id`, `education` –  уровень образования клиента"
   ]
  },
  {
   "cell_type": "code",
   "execution_count": 8,
   "id": "7ff912f0",
   "metadata": {},
   "outputs": [
    {
     "data": {
      "text/plain": [
       "education_id  education          \n",
       "0             ВЫСШЕЕ                   274\n",
       "              Высшее                   268\n",
       "              высшее                  4718\n",
       "1             СРЕДНЕЕ                  772\n",
       "              Среднее                  711\n",
       "              среднее                13750\n",
       "2             НЕОКОНЧЕННОЕ ВЫСШЕЕ       29\n",
       "              Неоконченное высшее       47\n",
       "              неоконченное высшее      668\n",
       "3             НАЧАЛЬНОЕ                 17\n",
       "              Начальное                 15\n",
       "              начальное                250\n",
       "4             УЧЕНАЯ СТЕПЕНЬ             1\n",
       "              Ученая степень             1\n",
       "              ученая степень             4\n",
       "Name: children, dtype: int64"
      ]
     },
     "execution_count": 8,
     "metadata": {},
     "output_type": "execute_result"
    }
   ],
   "source": [
    "#(df.groupby(['education_id', 'education'])\n",
    "# .agg(count=pd.NamedAgg(column='children', aggfunc='count'))\n",
    "# .sort_values(by='education_id'))  # alternative method\n",
    "df.groupby(['education_id', 'education'])['children'].count().sort_index()"
   ]
  },
  {
   "cell_type": "markdown",
   "id": "802349b2",
   "metadata": {},
   "source": [
    "В столбце `education` есть неявные дубли из-за разного регистра написания. При этом `id` в столбце `education_id` проставлен корректно, без учета регистра в написании `education`. Удалим дубли позже. \n",
    ">Около 70% заемщиков имеют среднее образование."
   ]
  },
  {
   "cell_type": "markdown",
   "id": "0b175766",
   "metadata": {},
   "source": [
    "### `family_status_id`, `family_status` –  семейное положение"
   ]
  },
  {
   "cell_type": "code",
   "execution_count": 9,
   "id": "96dda9e7",
   "metadata": {},
   "outputs": [
    {
     "data": {
      "text/plain": [
       "family_status_id  family_status        \n",
       "0                 женат / замужем          12380\n",
       "1                 гражданский брак          4177\n",
       "2                 вдовец / вдова             960\n",
       "3                 в разводе                 1195\n",
       "4                 Не женат / не замужем     2813\n",
       "Name: children, dtype: int64"
      ]
     },
     "execution_count": 9,
     "metadata": {},
     "output_type": "execute_result"
    }
   ],
   "source": [
    "#(df.groupby(['family_status_id', 'family_status'])\n",
    "# .agg(count=pd.NamedAgg(column='children', aggfunc='count'))\n",
    "# .sort_values(by='family_status_id')) # alternative method\n",
    "df.groupby(['family_status_id', 'family_status'])['children'].count().sort_index()"
   ]
  },
  {
   "cell_type": "markdown",
   "id": "6b4c6164",
   "metadata": {},
   "source": [
    "Со столбцами `family_status_id` и `family_status`, похоже, все в порядке, если не считать единственную прописную букву в последнем статусе.\n",
    ">Больше половины заемщиков состоят в браке."
   ]
  },
  {
   "cell_type": "markdown",
   "id": "0c701d1b",
   "metadata": {},
   "source": [
    "### `gender` – пол клиента"
   ]
  },
  {
   "cell_type": "code",
   "execution_count": 10,
   "id": "986b35d3",
   "metadata": {},
   "outputs": [
    {
     "data": {
      "text/plain": [
       "F      14236\n",
       "M       7288\n",
       "XNA        1\n",
       "Name: gender, dtype: int64"
      ]
     },
     "execution_count": 10,
     "metadata": {},
     "output_type": "execute_result"
    }
   ],
   "source": [
    "df['gender'].value_counts().sort_index()"
   ]
  },
  {
   "cell_type": "markdown",
   "id": "297f16e9",
   "metadata": {},
   "source": [
    "Один неявный пропуск в столбце `gender` – значение `XNA`. Разберемся с ним [позже](#gender_anomalies).\n",
    ">Женщины берут кредиты вдвое чаще, чем мужчины."
   ]
  },
  {
   "cell_type": "markdown",
   "id": "bbacb589",
   "metadata": {},
   "source": [
    "### `income_type` – тип занятости"
   ]
  },
  {
   "cell_type": "code",
   "execution_count": 11,
   "id": "60102e08",
   "metadata": {},
   "outputs": [
    {
     "data": {
      "text/plain": [
       "сотрудник          11119\n",
       "компаньон           5085\n",
       "пенсионер           3856\n",
       "госслужащий         1459\n",
       "предприниматель        2\n",
       "безработный            2\n",
       "студент                1\n",
       "в декрете              1\n",
       "Name: income_type, dtype: int64"
      ]
     },
     "execution_count": 11,
     "metadata": {},
     "output_type": "execute_result"
    }
   ],
   "source": [
    "df['income_type'].value_counts().sort_values(ascending=False)"
   ]
  },
  {
   "cell_type": "markdown",
   "id": "47dae121",
   "metadata": {},
   "source": [
    "В столбце `income_type` нет ни дублей, ни пропусков.\n",
    ">Половина заемщиков – сотрудники."
   ]
  },
  {
   "cell_type": "markdown",
   "id": "b8cf7114",
   "metadata": {},
   "source": [
    "### `debt` – имел ли задолженность по возврату кредитов"
   ]
  },
  {
   "cell_type": "code",
   "execution_count": 12,
   "id": "d44974a0",
   "metadata": {},
   "outputs": [
    {
     "data": {
      "text/plain": [
       "0    19784\n",
       "1     1741\n",
       "Name: debt, dtype: int64"
      ]
     },
     "execution_count": 12,
     "metadata": {},
     "output_type": "execute_result"
    }
   ],
   "source": [
    "df['debt'].value_counts().sort_index()"
   ]
  },
  {
   "cell_type": "markdown",
   "id": "139d63e3",
   "metadata": {},
   "source": [
    "Столбец `debt` без пропусков.\n",
    ">Должников около 8%."
   ]
  },
  {
   "cell_type": "markdown",
   "id": "517e9a3d",
   "metadata": {},
   "source": [
    "### `total_income` – ежемесячный доход"
   ]
  },
  {
   "cell_type": "code",
   "execution_count": 13,
   "id": "57080500",
   "metadata": {
    "scrolled": true
   },
   "outputs": [
    {
     "data": {
      "text/plain": [
       "<matplotlib.axes._subplots.AxesSubplot at 0x7fbb3d0f54d0>"
      ]
     },
     "execution_count": 13,
     "metadata": {},
     "output_type": "execute_result"
    },
    {
     "data": {
      "image/png": "[encoded data removed]",
      "text/plain": [
       "<Figure size 432x288 with 1 Axes>"
      ]
     },
     "metadata": {
      "needs_background": "light"
     },
     "output_type": "display_data"
    }
   ],
   "source": [
    "#sns.distplot(a=df['total_income'].fillna(1000000)\n",
    "#             .apply(math.log10), kde=False, bins=50) # alternative method\n",
    "df['total_income'].apply(math.log10).hist(bins=50)"
   ]
  },
  {
   "cell_type": "code",
   "execution_count": 14,
   "id": "fa4777c7",
   "metadata": {},
   "outputs": [
    {
     "name": "stdout",
     "output_type": "stream",
     "text": [
      "Медианный доход: 145018\n"
     ]
    }
   ],
   "source": [
    "print(f\"Медианный доход: {df['total_income'].median():.0f}\")"
   ]
  },
  {
   "cell_type": "markdown",
   "id": "8d2fbe52",
   "metadata": {},
   "source": [
    "Распределение доходов из столбца `total_income` удобнее анализировать в логарифмическом масштабе. \n",
    ">Не считая пропусков, распределение доходов близко к гауссовому (что не может не радовать) с медианой в 145 тысяч рублей."
   ]
  },
  {
   "cell_type": "markdown",
   "id": "c651ff2c",
   "metadata": {},
   "source": [
    "### `purpose` – цель получения кредита"
   ]
  },
  {
   "cell_type": "code",
   "execution_count": 15,
   "id": "c8d62916",
   "metadata": {},
   "outputs": [
    {
     "data": {
      "text/plain": [
       "автомобили                                478\n",
       "автомобиль                                495\n",
       "высшее образование                        453\n",
       "дополнительное образование                462\n",
       "жилье                                     647\n",
       "заняться высшим образованием              496\n",
       "заняться образованием                     412\n",
       "на покупку автомобиля                     472\n",
       "на покупку подержанного автомобиля        479\n",
       "на покупку своего автомобиля              505\n",
       "на проведение свадьбы                     777\n",
       "недвижимость                              634\n",
       "образование                               447\n",
       "операции с жильем                         653\n",
       "операции с коммерческой недвижимостью     651\n",
       "операции с недвижимостью                  676\n",
       "операции со своей недвижимостью           630\n",
       "покупка жилой недвижимости                607\n",
       "покупка жилья                             647\n",
       "покупка жилья для сдачи                   653\n",
       "покупка жилья для семьи                   641\n",
       "покупка коммерческой недвижимости         664\n",
       "покупка недвижимости                      624\n",
       "покупка своего жилья                      620\n",
       "получение высшего образования             426\n",
       "получение дополнительного образования     447\n",
       "получение образования                     443\n",
       "приобретение автомобиля                   462\n",
       "профильное образование                    436\n",
       "ремонт жилью                              612\n",
       "свадьба                                   797\n",
       "свой автомобиль                           480\n",
       "сделка с автомобилем                      455\n",
       "сделка с подержанным автомобилем          489\n",
       "строительство жилой недвижимости          626\n",
       "строительство недвижимости                620\n",
       "строительство собственной недвижимости    635\n",
       "сыграть свадьбу                           774\n",
       "Name: purpose, dtype: int64"
      ]
     },
     "execution_count": 15,
     "metadata": {},
     "output_type": "execute_result"
    }
   ],
   "source": [
    "#sns.countplot(data=df, y='purpose') # alternative method\n",
    "df['purpose'].value_counts().sort_index()"
   ]
  },
  {
   "cell_type": "markdown",
   "id": "50948637",
   "metadata": {},
   "source": [
    "Столбец `purpose` без пропусков, но требует категоризации, т.к. содержит множество сходных целей получения кредита.\n",
    ">Лидер среди некатегоризированных целей – «свадьба». Горько!\n",
    "\n",
    "<br><br>"
   ]
  },
  {
   "cell_type": "markdown",
   "id": "c38c1c9a",
   "metadata": {},
   "source": [
    "## Предобработка данных"
   ]
  },
  {
   "cell_type": "markdown",
   "id": "b7860ce6",
   "metadata": {},
   "source": [
    "### Проверка данных на аномалии и исправления"
   ]
  },
  {
   "cell_type": "markdown",
   "id": "c9eef3d1",
   "metadata": {},
   "source": [
    "#### `children` – количество детей в семье"
   ]
  },
  {
   "cell_type": "markdown",
   "id": "ef427899",
   "metadata": {},
   "source": [
    "Вспомним распределение значений в столбце `children`.\n",
    "<a id='children_anomalies'></a>"
   ]
  },
  {
   "cell_type": "code",
   "execution_count": 16,
   "id": "6e18a2f1",
   "metadata": {
    "scrolled": true
   },
   "outputs": [
    {
     "data": {
      "text/plain": [
       "-1      0.218351\n",
       " 0     65.732869\n",
       " 1     22.383275\n",
       " 2      9.547038\n",
       " 3      1.533101\n",
       " 4      0.190476\n",
       " 5      0.041812\n",
       " 20     0.353078\n",
       "Name: children, dtype: float64"
      ]
     },
     "execution_count": 16,
     "metadata": {},
     "output_type": "execute_result"
    }
   ],
   "source": [
    "# распределение в процентах\n",
    "df['children'].value_counts().sort_index() / len(df) * 100"
   ]
  },
  {
   "cell_type": "code",
   "execution_count": 17,
   "id": "40c4217d",
   "metadata": {},
   "outputs": [
    {
     "data": {
      "text/plain": [
       "97.66318234610918"
      ]
     },
     "execution_count": 17,
     "metadata": {},
     "output_type": "execute_result"
    }
   ],
   "source": [
    "# сумма трех основных групп\n",
    "df['children'].value_counts().sort_index().loc[0:2].sum() / len(df) * 100"
   ]
  },
  {
   "cell_type": "markdown",
   "id": "b0f532f8",
   "metadata": {},
   "source": [
    "Около 98% клиентов имеют от 0 до 2 детей.\n",
    "\n",
    "Аномальное значение `-1` может означать отсутствие данных или опечатку в значении `1`, а `20` может быть синонимом «<i>больше 5</i>» или опечаткой в значении `2`. Обе аномалии составляют малую долю от любой из трех основных групп клиентов по числу детей.\n",
    "\n",
    "В «боевых» условиях необходимо было бы обратиться за разъяснениями к владельцу данных. Мы же просто оставим все, как есть. При этом мы не лишимся других данных этих клиентов (по сравнению с вариантом удалить строки целиком) и не внесем искажения в статистику (по сравнению с вариантом заменить аномалии на их предполагаемые правильные значения)."
   ]
  },
  {
   "cell_type": "markdown",
   "id": "42568109",
   "metadata": {},
   "source": [
    "#### `days_employed` – общий трудовой стаж в днях"
   ]
  },
  {
   "cell_type": "markdown",
   "id": "146367b9",
   "metadata": {},
   "source": [
    "Взглянем еще раз на данные.\n",
    "<a id='days_employed_anomalies'></a>"
   ]
  },
  {
   "cell_type": "code",
   "execution_count": 18,
   "id": "978c787f",
   "metadata": {},
   "outputs": [
    {
     "data": {
      "text/html": [
       "<div>\n",
       "<style scoped>\n",
       "    .dataframe tbody tr th:only-of-type {\n",
       "        vertical-align: middle;\n",
       "    }\n",
       "\n",
       "    .dataframe tbody tr th {\n",
       "        vertical-align: top;\n",
       "    }\n",
       "\n",
       "    .dataframe thead th {\n",
       "        text-align: right;\n",
       "    }\n",
       "</style>\n",
       "<table border=\"1\" class=\"dataframe\">\n",
       "  <thead>\n",
       "    <tr style=\"text-align: right;\">\n",
       "      <th></th>\n",
       "      <th>children</th>\n",
       "      <th>days_employed</th>\n",
       "      <th>dob_years</th>\n",
       "      <th>education</th>\n",
       "      <th>education_id</th>\n",
       "      <th>family_status</th>\n",
       "      <th>family_status_id</th>\n",
       "      <th>gender</th>\n",
       "      <th>income_type</th>\n",
       "      <th>debt</th>\n",
       "      <th>total_income</th>\n",
       "      <th>purpose</th>\n",
       "    </tr>\n",
       "  </thead>\n",
       "  <tbody>\n",
       "    <tr>\n",
       "      <td>0</td>\n",
       "      <td>1</td>\n",
       "      <td>-8437.673028</td>\n",
       "      <td>42</td>\n",
       "      <td>высшее</td>\n",
       "      <td>0</td>\n",
       "      <td>женат / замужем</td>\n",
       "      <td>0</td>\n",
       "      <td>F</td>\n",
       "      <td>сотрудник</td>\n",
       "      <td>0</td>\n",
       "      <td>253875.639453</td>\n",
       "      <td>покупка жилья</td>\n",
       "    </tr>\n",
       "    <tr>\n",
       "      <td>1</td>\n",
       "      <td>1</td>\n",
       "      <td>-4024.803754</td>\n",
       "      <td>36</td>\n",
       "      <td>среднее</td>\n",
       "      <td>1</td>\n",
       "      <td>женат / замужем</td>\n",
       "      <td>0</td>\n",
       "      <td>F</td>\n",
       "      <td>сотрудник</td>\n",
       "      <td>0</td>\n",
       "      <td>112080.014102</td>\n",
       "      <td>приобретение автомобиля</td>\n",
       "    </tr>\n",
       "    <tr>\n",
       "      <td>2</td>\n",
       "      <td>0</td>\n",
       "      <td>-5623.422610</td>\n",
       "      <td>33</td>\n",
       "      <td>Среднее</td>\n",
       "      <td>1</td>\n",
       "      <td>женат / замужем</td>\n",
       "      <td>0</td>\n",
       "      <td>M</td>\n",
       "      <td>сотрудник</td>\n",
       "      <td>0</td>\n",
       "      <td>145885.952297</td>\n",
       "      <td>покупка жилья</td>\n",
       "    </tr>\n",
       "    <tr>\n",
       "      <td>3</td>\n",
       "      <td>3</td>\n",
       "      <td>-4124.747207</td>\n",
       "      <td>32</td>\n",
       "      <td>среднее</td>\n",
       "      <td>1</td>\n",
       "      <td>женат / замужем</td>\n",
       "      <td>0</td>\n",
       "      <td>M</td>\n",
       "      <td>сотрудник</td>\n",
       "      <td>0</td>\n",
       "      <td>267628.550329</td>\n",
       "      <td>дополнительное образование</td>\n",
       "    </tr>\n",
       "    <tr>\n",
       "      <td>4</td>\n",
       "      <td>0</td>\n",
       "      <td>340266.072047</td>\n",
       "      <td>53</td>\n",
       "      <td>среднее</td>\n",
       "      <td>1</td>\n",
       "      <td>гражданский брак</td>\n",
       "      <td>1</td>\n",
       "      <td>F</td>\n",
       "      <td>пенсионер</td>\n",
       "      <td>0</td>\n",
       "      <td>158616.077870</td>\n",
       "      <td>сыграть свадьбу</td>\n",
       "    </tr>\n",
       "    <tr>\n",
       "      <td>...</td>\n",
       "      <td>...</td>\n",
       "      <td>...</td>\n",
       "      <td>...</td>\n",
       "      <td>...</td>\n",
       "      <td>...</td>\n",
       "      <td>...</td>\n",
       "      <td>...</td>\n",
       "      <td>...</td>\n",
       "      <td>...</td>\n",
       "      <td>...</td>\n",
       "      <td>...</td>\n",
       "      <td>...</td>\n",
       "    </tr>\n",
       "    <tr>\n",
       "      <td>21520</td>\n",
       "      <td>1</td>\n",
       "      <td>-4529.316663</td>\n",
       "      <td>43</td>\n",
       "      <td>среднее</td>\n",
       "      <td>1</td>\n",
       "      <td>гражданский брак</td>\n",
       "      <td>1</td>\n",
       "      <td>F</td>\n",
       "      <td>компаньон</td>\n",
       "      <td>0</td>\n",
       "      <td>224791.862382</td>\n",
       "      <td>операции с жильем</td>\n",
       "    </tr>\n",
       "    <tr>\n",
       "      <td>21521</td>\n",
       "      <td>0</td>\n",
       "      <td>343937.404131</td>\n",
       "      <td>67</td>\n",
       "      <td>среднее</td>\n",
       "      <td>1</td>\n",
       "      <td>женат / замужем</td>\n",
       "      <td>0</td>\n",
       "      <td>F</td>\n",
       "      <td>пенсионер</td>\n",
       "      <td>0</td>\n",
       "      <td>155999.806512</td>\n",
       "      <td>сделка с автомобилем</td>\n",
       "    </tr>\n",
       "    <tr>\n",
       "      <td>21522</td>\n",
       "      <td>1</td>\n",
       "      <td>-2113.346888</td>\n",
       "      <td>38</td>\n",
       "      <td>среднее</td>\n",
       "      <td>1</td>\n",
       "      <td>гражданский брак</td>\n",
       "      <td>1</td>\n",
       "      <td>M</td>\n",
       "      <td>сотрудник</td>\n",
       "      <td>1</td>\n",
       "      <td>89672.561153</td>\n",
       "      <td>недвижимость</td>\n",
       "    </tr>\n",
       "    <tr>\n",
       "      <td>21523</td>\n",
       "      <td>3</td>\n",
       "      <td>-3112.481705</td>\n",
       "      <td>38</td>\n",
       "      <td>среднее</td>\n",
       "      <td>1</td>\n",
       "      <td>женат / замужем</td>\n",
       "      <td>0</td>\n",
       "      <td>M</td>\n",
       "      <td>сотрудник</td>\n",
       "      <td>1</td>\n",
       "      <td>244093.050500</td>\n",
       "      <td>на покупку своего автомобиля</td>\n",
       "    </tr>\n",
       "    <tr>\n",
       "      <td>21524</td>\n",
       "      <td>2</td>\n",
       "      <td>-1984.507589</td>\n",
       "      <td>40</td>\n",
       "      <td>среднее</td>\n",
       "      <td>1</td>\n",
       "      <td>женат / замужем</td>\n",
       "      <td>0</td>\n",
       "      <td>F</td>\n",
       "      <td>сотрудник</td>\n",
       "      <td>0</td>\n",
       "      <td>82047.418899</td>\n",
       "      <td>на покупку автомобиля</td>\n",
       "    </tr>\n",
       "  </tbody>\n",
       "</table>\n",
       "<p>21525 rows × 12 columns</p>\n",
       "</div>"
      ],
      "text/plain": [
       "       children  days_employed  dob_years education  education_id  \\\n",
       "0             1   -8437.673028         42    высшее             0   \n",
       "1             1   -4024.803754         36   среднее             1   \n",
       "2             0   -5623.422610         33   Среднее             1   \n",
       "3             3   -4124.747207         32   среднее             1   \n",
       "4             0  340266.072047         53   среднее             1   \n",
       "...         ...            ...        ...       ...           ...   \n",
       "21520         1   -4529.316663         43   среднее             1   \n",
       "21521         0  343937.404131         67   среднее             1   \n",
       "21522         1   -2113.346888         38   среднее             1   \n",
       "21523         3   -3112.481705         38   среднее             1   \n",
       "21524         2   -1984.507589         40   среднее             1   \n",
       "\n",
       "          family_status  family_status_id gender income_type  debt  \\\n",
       "0       женат / замужем                 0      F   сотрудник     0   \n",
       "1       женат / замужем                 0      F   сотрудник     0   \n",
       "2       женат / замужем                 0      M   сотрудник     0   \n",
       "3       женат / замужем                 0      M   сотрудник     0   \n",
       "4      гражданский брак                 1      F   пенсионер     0   \n",
       "...                 ...               ...    ...         ...   ...   \n",
       "21520  гражданский брак                 1      F   компаньон     0   \n",
       "21521   женат / замужем                 0      F   пенсионер     0   \n",
       "21522  гражданский брак                 1      M   сотрудник     1   \n",
       "21523   женат / замужем                 0      M   сотрудник     1   \n",
       "21524   женат / замужем                 0      F   сотрудник     0   \n",
       "\n",
       "        total_income                       purpose  \n",
       "0      253875.639453                 покупка жилья  \n",
       "1      112080.014102       приобретение автомобиля  \n",
       "2      145885.952297                 покупка жилья  \n",
       "3      267628.550329    дополнительное образование  \n",
       "4      158616.077870               сыграть свадьбу  \n",
       "...              ...                           ...  \n",
       "21520  224791.862382             операции с жильем  \n",
       "21521  155999.806512          сделка с автомобилем  \n",
       "21522   89672.561153                  недвижимость  \n",
       "21523  244093.050500  на покупку своего автомобиля  \n",
       "21524   82047.418899         на покупку автомобиля  \n",
       "\n",
       "[21525 rows x 12 columns]"
      ]
     },
     "execution_count": 18,
     "metadata": {},
     "output_type": "execute_result"
    }
   ],
   "source": [
    "df"
   ]
  },
  {
   "cell_type": "markdown",
   "id": "0450a428",
   "metadata": {},
   "source": [
    "Похоже, что значения в столбце `days_employed` связаны с содержимым столбца `income_type`. Здравый смысл подсказывает также, что `days_employed` должен быть связан с `dob_years`. Посмотрим, как именно. Но сначала временно добавим столбец `years_employed`, в котором рассчитаем количество <i>лет</i> стажа, чтобы было удобнее сравнивать стаж с возрастом."
   ]
  },
  {
   "cell_type": "code",
   "execution_count": 19,
   "id": "12b4f613",
   "metadata": {},
   "outputs": [],
   "source": [
    "# делим число дней на среднюю продолжительность григорианского года\n",
    "df['years_employed'] = df['days_employed'] / 365.2425 "
   ]
  },
  {
   "cell_type": "code",
   "execution_count": 20,
   "id": "4327c025",
   "metadata": {
    "scrolled": true
   },
   "outputs": [
    {
     "data": {
      "text/plain": [
       "<matplotlib.axes._subplots.AxesSubplot at 0x7fbb3d0a9950>"
      ]
     },
     "execution_count": 20,
     "metadata": {},
     "output_type": "execute_result"
    },
    {
     "data": {
      "image/png": "[encoded data removed]",
      "text/plain": [
       "<Figure size 432x288 with 1 Axes>"
      ]
     },
     "metadata": {
      "needs_background": "light"
     },
     "output_type": "display_data"
    }
   ],
   "source": [
    "# строим зависимость стажа от возраста клиента\n",
    "sns.scatterplot(data=df, \n",
    "                x='dob_years', \n",
    "                y='years_employed', \n",
    "                hue='income_type')"
   ]
  },
  {
   "cell_type": "code",
   "execution_count": 21,
   "id": "88ac185d",
   "metadata": {},
   "outputs": [
    {
     "data": {
      "text/html": [
       "<div>\n",
       "<style scoped>\n",
       "    .dataframe tbody tr th:only-of-type {\n",
       "        vertical-align: middle;\n",
       "    }\n",
       "\n",
       "    .dataframe tbody tr th {\n",
       "        vertical-align: top;\n",
       "    }\n",
       "\n",
       "    .dataframe thead tr th {\n",
       "        text-align: left;\n",
       "    }\n",
       "\n",
       "    .dataframe thead tr:last-of-type th {\n",
       "        text-align: right;\n",
       "    }\n",
       "</style>\n",
       "<table border=\"1\" class=\"dataframe\">\n",
       "  <thead>\n",
       "    <tr>\n",
       "      <th></th>\n",
       "      <th colspan=\"4\" halign=\"left\">dob_years</th>\n",
       "      <th colspan=\"4\" halign=\"left\">years_employed</th>\n",
       "    </tr>\n",
       "    <tr>\n",
       "      <th></th>\n",
       "      <th>count</th>\n",
       "      <th>min</th>\n",
       "      <th>median</th>\n",
       "      <th>max</th>\n",
       "      <th>count</th>\n",
       "      <th>min</th>\n",
       "      <th>median</th>\n",
       "      <th>max</th>\n",
       "    </tr>\n",
       "    <tr>\n",
       "      <th>income_type</th>\n",
       "      <th></th>\n",
       "      <th></th>\n",
       "      <th></th>\n",
       "      <th></th>\n",
       "      <th></th>\n",
       "      <th></th>\n",
       "      <th></th>\n",
       "      <th></th>\n",
       "    </tr>\n",
       "  </thead>\n",
       "  <tbody>\n",
       "    <tr>\n",
       "      <td>сотрудник</td>\n",
       "      <td>11119</td>\n",
       "      <td>0</td>\n",
       "      <td>39.0</td>\n",
       "      <td>74</td>\n",
       "      <td>10014</td>\n",
       "      <td>-50.347235</td>\n",
       "      <td>-4.310021</td>\n",
       "      <td>-0.066098</td>\n",
       "    </tr>\n",
       "    <tr>\n",
       "      <td>компаньон</td>\n",
       "      <td>5085</td>\n",
       "      <td>0</td>\n",
       "      <td>39.0</td>\n",
       "      <td>74</td>\n",
       "      <td>4577</td>\n",
       "      <td>-48.229774</td>\n",
       "      <td>-4.236589</td>\n",
       "      <td>-0.082672</td>\n",
       "    </tr>\n",
       "    <tr>\n",
       "      <td>пенсионер</td>\n",
       "      <td>3856</td>\n",
       "      <td>0</td>\n",
       "      <td>60.0</td>\n",
       "      <td>74</td>\n",
       "      <td>3443</td>\n",
       "      <td>900.028668</td>\n",
       "      <td>999.920070</td>\n",
       "      <td>1099.968926</td>\n",
       "    </tr>\n",
       "    <tr>\n",
       "      <td>госслужащий</td>\n",
       "      <td>1459</td>\n",
       "      <td>0</td>\n",
       "      <td>40.0</td>\n",
       "      <td>75</td>\n",
       "      <td>1312</td>\n",
       "      <td>-41.597109</td>\n",
       "      <td>-7.363240</td>\n",
       "      <td>-0.109391</td>\n",
       "    </tr>\n",
       "    <tr>\n",
       "      <td>безработный</td>\n",
       "      <td>2</td>\n",
       "      <td>31</td>\n",
       "      <td>38.0</td>\n",
       "      <td>45</td>\n",
       "      <td>2</td>\n",
       "      <td>924.110603</td>\n",
       "      <td>1003.206507</td>\n",
       "      <td>1082.302412</td>\n",
       "    </tr>\n",
       "    <tr>\n",
       "      <td>предприниматель</td>\n",
       "      <td>2</td>\n",
       "      <td>27</td>\n",
       "      <td>42.5</td>\n",
       "      <td>58</td>\n",
       "      <td>1</td>\n",
       "      <td>-1.426034</td>\n",
       "      <td>-1.426034</td>\n",
       "      <td>-1.426034</td>\n",
       "    </tr>\n",
       "    <tr>\n",
       "      <td>в декрете</td>\n",
       "      <td>1</td>\n",
       "      <td>39</td>\n",
       "      <td>39.0</td>\n",
       "      <td>39</td>\n",
       "      <td>1</td>\n",
       "      <td>-9.026222</td>\n",
       "      <td>-9.026222</td>\n",
       "      <td>-9.026222</td>\n",
       "    </tr>\n",
       "    <tr>\n",
       "      <td>студент</td>\n",
       "      <td>1</td>\n",
       "      <td>22</td>\n",
       "      <td>22.0</td>\n",
       "      <td>22</td>\n",
       "      <td>1</td>\n",
       "      <td>-1.584568</td>\n",
       "      <td>-1.584568</td>\n",
       "      <td>-1.584568</td>\n",
       "    </tr>\n",
       "  </tbody>\n",
       "</table>\n",
       "</div>"
      ],
      "text/plain": [
       "                dob_years                years_employed              \\\n",
       "                    count min median max          count         min   \n",
       "income_type                                                           \n",
       "сотрудник           11119   0   39.0  74          10014  -50.347235   \n",
       "компаньон            5085   0   39.0  74           4577  -48.229774   \n",
       "пенсионер            3856   0   60.0  74           3443  900.028668   \n",
       "госслужащий          1459   0   40.0  75           1312  -41.597109   \n",
       "безработный             2  31   38.0  45              2  924.110603   \n",
       "предприниматель         2  27   42.5  58              1   -1.426034   \n",
       "в декрете               1  39   39.0  39              1   -9.026222   \n",
       "студент                 1  22   22.0  22              1   -1.584568   \n",
       "\n",
       "                                           \n",
       "                      median          max  \n",
       "income_type                                \n",
       "сотрудник          -4.310021    -0.066098  \n",
       "компаньон          -4.236589    -0.082672  \n",
       "пенсионер         999.920070  1099.968926  \n",
       "госслужащий        -7.363240    -0.109391  \n",
       "безработный      1003.206507  1082.302412  \n",
       "предприниматель    -1.426034    -1.426034  \n",
       "в декрете          -9.026222    -9.026222  \n",
       "студент            -1.584568    -1.584568  "
      ]
     },
     "execution_count": 21,
     "metadata": {},
     "output_type": "execute_result"
    }
   ],
   "source": [
    "# выводим статистику по возрасту и стажу в разрезе типов занятости\n",
    "(df.groupby('income_type')[['dob_years', 'years_employed']]\n",
    " .agg(['count', 'min', 'median', 'max'])\n",
    " .sort_values(by=('dob_years', 'count'), ascending=False))"
   ]
  },
  {
   "cell_type": "markdown",
   "id": "375c0aea",
   "metadata": {},
   "source": [
    "Похоже, что для всех типов занятости, кроме `пенсионер` и `безработный`, стаж в днях указан с обратным знаком. Такое могло произойти, если стаж рассчитывался как разница между датой начала трудовой деятельности и датой-временем расчета. Это также объясняет дробность значений в этом столбце (даты могли быть представлены в формате unix time, потом преобразованы в дни делением на 86400).\n",
    "\n",
    "Проверим реалистичность стажа: вычтем его из возраста клиента и посмотрим на распределение значений результата – приблизительного возраста начала трудовой деятельности – и его зависимость от возраста клиента."
   ]
  },
  {
   "cell_type": "code",
   "execution_count": 22,
   "id": "56af7ac3",
   "metadata": {},
   "outputs": [],
   "source": [
    "# сохраняем в отдельный датафрейм всех клиентов с ненулевым возрастом,\n",
    "# кроме пенсионеров и безработных\n",
    "df_filtered = df[~df['income_type'].isin(['пенсионер', 'безработный']) \n",
    "                 & df['dob_years'] != 0] "
   ]
  },
  {
   "cell_type": "code",
   "execution_count": 23,
   "id": "9cf4a80e",
   "metadata": {},
   "outputs": [
    {
     "data": {
      "text/plain": [
       "<matplotlib.axes._subplots.AxesSubplot at 0x7fbb3d0dbf90>"
      ]
     },
     "execution_count": 23,
     "metadata": {},
     "output_type": "execute_result"
    },
    {
     "data": {
      "image/png": "[encoded data removed]",
      "text/plain": [
       "<Figure size 432x288 with 1 Axes>"
      ]
     },
     "metadata": {
      "needs_background": "light"
     },
     "output_type": "display_data"
    }
   ],
   "source": [
    "# строим распределение приблизительного возраста начала трудовой деятельности\n",
    "(df_filtered['dob_years'] + df_filtered['years_employed']).hist(bins=20) "
   ]
  },
  {
   "cell_type": "code",
   "execution_count": 24,
   "id": "8f3b1c10",
   "metadata": {},
   "outputs": [
    {
     "data": {
      "text/plain": [
       "<matplotlib.axes._subplots.AxesSubplot at 0x7fbb3cf25610>"
      ]
     },
     "execution_count": 24,
     "metadata": {},
     "output_type": "execute_result"
    },
    {
     "data": {
      "image/png": "[encoded data removed]",
      "text/plain": [
       "<Figure size 432x288 with 1 Axes>"
      ]
     },
     "metadata": {
      "needs_background": "light"
     },
     "output_type": "display_data"
    }
   ],
   "source": [
    "# строим зависимость приблизительного возраста начала трудовой деятельности от возраста клиента\n",
    "sns.scatterplot(x=df_filtered['dob_years'],\n",
    "                y=df_filtered['dob_years']+df_filtered['years_employed'], \n",
    "                hue=df_filtered['income_type'])"
   ]
  },
  {
   "cell_type": "markdown",
   "id": "75adaf1d",
   "metadata": {},
   "source": [
    "Распределение приблизительного возраста начала трудовой деятельности адекватное с модой около 24 и минимальным значением 10 лет (для возраста клиента 60+, на котором оно достигается, это, наверное, нормально)."
   ]
  },
  {
   "cell_type": "markdown",
   "id": "117cd3a6",
   "metadata": {},
   "source": [
    "Для типов занятости `пенсионер` и `безработный` стаж в днях положительный и нереалистично большой: 900–1100 лет. Возможно, для этих типов стаж указан не в днях, а в часах. Такое возможно, если данные о стаже импортировались, например, из базы данных пенсионного фонда, где этот показатель мог быть рассчитан или просто храниться в часах. Проверим: поделим стаж в годах на 24 и снова посмотрим на распределение приблизительного возраста начала трудовой деятельности и его зависимость от возраста клиента."
   ]
  },
  {
   "cell_type": "code",
   "execution_count": 25,
   "id": "14f7748e",
   "metadata": {},
   "outputs": [],
   "source": [
    "# сохраняем в отдельный датафрейм всех пенсионеров и безработных с ненулевым возрастом\n",
    "df_filtered = df[df['income_type'].isin(['пенсионер', 'безработный']) \n",
    "                 & df['dob_years'] != 0] "
   ]
  },
  {
   "cell_type": "code",
   "execution_count": 26,
   "id": "62236b97",
   "metadata": {},
   "outputs": [
    {
     "name": "stderr",
     "output_type": "stream",
     "text": [
      "/opt/conda/lib/python3.7/site-packages/pandas/core/indexing.py:494: SettingWithCopyWarning: \n",
      "A value is trying to be set on a copy of a slice from a DataFrame.\n",
      "Try using .loc[row_indexer,col_indexer] = value instead\n",
      "\n",
      "See the caveats in the documentation: http://pandas.pydata.org/pandas-docs/stable/user_guide/indexing.html#returning-a-view-versus-a-copy\n",
      "  self.obj[item] = s\n"
     ]
    }
   ],
   "source": [
    "# делим стаж на 24\n",
    "df_filtered.loc[:, 'years_employed'] /= 24"
   ]
  },
  {
   "cell_type": "code",
   "execution_count": 27,
   "id": "8ab48615",
   "metadata": {},
   "outputs": [
    {
     "data": {
      "text/plain": [
       "<matplotlib.axes._subplots.AxesSubplot at 0x7fbb3c577450>"
      ]
     },
     "execution_count": 27,
     "metadata": {},
     "output_type": "execute_result"
    },
    {
     "data": {
      "image/png": "[encoded data removed]",
      "text/plain": [
       "<Figure size 432x288 with 1 Axes>"
      ]
     },
     "metadata": {
      "needs_background": "light"
     },
     "output_type": "display_data"
    }
   ],
   "source": [
    "# строим распределение приблизительного возраста начала трудовой деятельности\n",
    "(df_filtered['dob_years'] - df_filtered['years_employed']).hist(bins=20) "
   ]
  },
  {
   "cell_type": "code",
   "execution_count": 28,
   "id": "89c4039c",
   "metadata": {},
   "outputs": [
    {
     "data": {
      "text/plain": [
       "<matplotlib.axes._subplots.AxesSubplot at 0x7fbb3c50df90>"
      ]
     },
     "execution_count": 28,
     "metadata": {},
     "output_type": "execute_result"
    },
    {
     "data": {
      "image/png": "[encoded data removed]",
      "text/plain": [
       "<Figure size 432x288 with 1 Axes>"
      ]
     },
     "metadata": {
      "needs_background": "light"
     },
     "output_type": "display_data"
    }
   ],
   "source": [
    "# строим зависимость приблизительного возраста начала трудовой деятельности от возраста клиента\n",
    "sns.scatterplot(x=df_filtered['dob_years'], \n",
    "                y=df_filtered['dob_years']-df_filtered['years_employed'], \n",
    "                hue=df_filtered['income_type'])"
   ]
  },
  {
   "cell_type": "markdown",
   "id": "62d96a0b",
   "metadata": {},
   "source": [
    "Гипотеза не подтвердилась: если верить гипотезе, то есть клиенты, которые начали работать до своего рождения.\n",
    "\n",
    "Настораживает также то, что разброс значений стажа пенсионеров и безработных, в отличие других типов занятости, совсем не зависит от возраста: это фиксированный диапазон, значения в котором распределены равномерно. Очень напоминает равномерное случайное распределение, сгенерированное в диапазоне 900–1100 лет."
   ]
  },
  {
   "cell_type": "code",
   "execution_count": 29,
   "id": "f513f9db",
   "metadata": {},
   "outputs": [
    {
     "data": {
      "text/plain": [
       "<matplotlib.axes._subplots.AxesSubplot at 0x7fbb3c487790>"
      ]
     },
     "execution_count": 29,
     "metadata": {},
     "output_type": "execute_result"
    },
    {
     "data": {
      "image/png": "[encoded data removed]",
      "text/plain": [
       "<Figure size 432x288 with 1 Axes>"
      ]
     },
     "metadata": {
      "needs_background": "light"
     },
     "output_type": "display_data"
    }
   ],
   "source": [
    "# строим зависимость стажа от возраста клиента\n",
    "sns.scatterplot(x=df_filtered['dob_years'], \n",
    "                y=df_filtered['years_employed'], \n",
    "                hue=df_filtered['income_type'])"
   ]
  },
  {
   "cell_type": "code",
   "execution_count": 30,
   "id": "058bffb6",
   "metadata": {},
   "outputs": [
    {
     "data": {
      "text/plain": [
       "<matplotlib.axes._subplots.AxesSubplot at 0x7fbb3c430510>"
      ]
     },
     "execution_count": 30,
     "metadata": {},
     "output_type": "execute_result"
    },
    {
     "data": {
      "image/png": "[encoded data removed]",
      "text/plain": [
       "<Figure size 432x288 with 1 Axes>"
      ]
     },
     "metadata": {
      "needs_background": "light"
     },
     "output_type": "display_data"
    }
   ],
   "source": [
    "# строим распределение значений стажа\n",
    "df_filtered['years_employed'].hist()"
   ]
  },
  {
   "cell_type": "markdown",
   "id": "7062d91c",
   "metadata": {},
   "source": [
    "В «боевых» условиях нужно было бы обратиться за разъяснениями к владельцам данных. Но учитывая, что информация о стаже не потребуется для ответа на вопросы проекта, ограничимся конвертацией часов в дни для пенсионеров и безработных и сменой знака стажа для всех остальных типов занятости, чтобы привести столбец к плюс-минус сопоставимым величинам."
   ]
  },
  {
   "cell_type": "code",
   "execution_count": 31,
   "id": "972bd907",
   "metadata": {},
   "outputs": [],
   "source": [
    "# конвертируем часы в дни для положительных значений days_employed\n",
    "df.loc[df['days_employed'] > 0, 'days_employed'] /= 24"
   ]
  },
  {
   "cell_type": "code",
   "execution_count": 32,
   "id": "dfc5fcdd",
   "metadata": {},
   "outputs": [
    {
     "data": {
      "text/plain": [
       "4        14177.753002\n",
       "18       16678.380705\n",
       "24       14106.331371\n",
       "25       15147.853723\n",
       "30       13982.569521\n",
       "             ...     \n",
       "21505    14121.036100\n",
       "21508    16104.071420\n",
       "21509    15090.043922\n",
       "21518    15583.154618\n",
       "21521    14330.725172\n",
       "Name: days_employed, Length: 3445, dtype: float64"
      ]
     },
     "execution_count": 32,
     "metadata": {},
     "output_type": "execute_result"
    }
   ],
   "source": [
    "# проверяем результат\n",
    "df.loc[df['days_employed'] > 0, 'days_employed']"
   ]
  },
  {
   "cell_type": "code",
   "execution_count": 33,
   "id": "03d86fc6",
   "metadata": {},
   "outputs": [],
   "source": [
    "# меняем знак у отрицательных days_employed\n",
    "df.loc[df['days_employed'] < 0, 'days_employed'] *= -1"
   ]
  },
  {
   "cell_type": "code",
   "execution_count": 34,
   "id": "de7a4528",
   "metadata": {},
   "outputs": [],
   "source": [
    "# удаляем временно созданный столбец years_employed\n",
    "df = df.drop('years_employed', axis=1)"
   ]
  },
  {
   "cell_type": "code",
   "execution_count": 35,
   "id": "b3d528cb",
   "metadata": {},
   "outputs": [
    {
     "data": {
      "text/html": [
       "<div>\n",
       "<style scoped>\n",
       "    .dataframe tbody tr th:only-of-type {\n",
       "        vertical-align: middle;\n",
       "    }\n",
       "\n",
       "    .dataframe tbody tr th {\n",
       "        vertical-align: top;\n",
       "    }\n",
       "\n",
       "    .dataframe thead th {\n",
       "        text-align: right;\n",
       "    }\n",
       "</style>\n",
       "<table border=\"1\" class=\"dataframe\">\n",
       "  <thead>\n",
       "    <tr style=\"text-align: right;\">\n",
       "      <th></th>\n",
       "      <th>children</th>\n",
       "      <th>days_employed</th>\n",
       "      <th>dob_years</th>\n",
       "      <th>education</th>\n",
       "      <th>education_id</th>\n",
       "      <th>family_status</th>\n",
       "      <th>family_status_id</th>\n",
       "      <th>gender</th>\n",
       "      <th>income_type</th>\n",
       "      <th>debt</th>\n",
       "      <th>total_income</th>\n",
       "      <th>purpose</th>\n",
       "    </tr>\n",
       "  </thead>\n",
       "  <tbody>\n",
       "    <tr>\n",
       "      <td>0</td>\n",
       "      <td>1</td>\n",
       "      <td>8437.673028</td>\n",
       "      <td>42</td>\n",
       "      <td>высшее</td>\n",
       "      <td>0</td>\n",
       "      <td>женат / замужем</td>\n",
       "      <td>0</td>\n",
       "      <td>F</td>\n",
       "      <td>сотрудник</td>\n",
       "      <td>0</td>\n",
       "      <td>253875.639453</td>\n",
       "      <td>покупка жилья</td>\n",
       "    </tr>\n",
       "    <tr>\n",
       "      <td>1</td>\n",
       "      <td>1</td>\n",
       "      <td>4024.803754</td>\n",
       "      <td>36</td>\n",
       "      <td>среднее</td>\n",
       "      <td>1</td>\n",
       "      <td>женат / замужем</td>\n",
       "      <td>0</td>\n",
       "      <td>F</td>\n",
       "      <td>сотрудник</td>\n",
       "      <td>0</td>\n",
       "      <td>112080.014102</td>\n",
       "      <td>приобретение автомобиля</td>\n",
       "    </tr>\n",
       "    <tr>\n",
       "      <td>2</td>\n",
       "      <td>0</td>\n",
       "      <td>5623.422610</td>\n",
       "      <td>33</td>\n",
       "      <td>Среднее</td>\n",
       "      <td>1</td>\n",
       "      <td>женат / замужем</td>\n",
       "      <td>0</td>\n",
       "      <td>M</td>\n",
       "      <td>сотрудник</td>\n",
       "      <td>0</td>\n",
       "      <td>145885.952297</td>\n",
       "      <td>покупка жилья</td>\n",
       "    </tr>\n",
       "    <tr>\n",
       "      <td>3</td>\n",
       "      <td>3</td>\n",
       "      <td>4124.747207</td>\n",
       "      <td>32</td>\n",
       "      <td>среднее</td>\n",
       "      <td>1</td>\n",
       "      <td>женат / замужем</td>\n",
       "      <td>0</td>\n",
       "      <td>M</td>\n",
       "      <td>сотрудник</td>\n",
       "      <td>0</td>\n",
       "      <td>267628.550329</td>\n",
       "      <td>дополнительное образование</td>\n",
       "    </tr>\n",
       "    <tr>\n",
       "      <td>4</td>\n",
       "      <td>0</td>\n",
       "      <td>14177.753002</td>\n",
       "      <td>53</td>\n",
       "      <td>среднее</td>\n",
       "      <td>1</td>\n",
       "      <td>гражданский брак</td>\n",
       "      <td>1</td>\n",
       "      <td>F</td>\n",
       "      <td>пенсионер</td>\n",
       "      <td>0</td>\n",
       "      <td>158616.077870</td>\n",
       "      <td>сыграть свадьбу</td>\n",
       "    </tr>\n",
       "    <tr>\n",
       "      <td>...</td>\n",
       "      <td>...</td>\n",
       "      <td>...</td>\n",
       "      <td>...</td>\n",
       "      <td>...</td>\n",
       "      <td>...</td>\n",
       "      <td>...</td>\n",
       "      <td>...</td>\n",
       "      <td>...</td>\n",
       "      <td>...</td>\n",
       "      <td>...</td>\n",
       "      <td>...</td>\n",
       "      <td>...</td>\n",
       "    </tr>\n",
       "    <tr>\n",
       "      <td>21520</td>\n",
       "      <td>1</td>\n",
       "      <td>4529.316663</td>\n",
       "      <td>43</td>\n",
       "      <td>среднее</td>\n",
       "      <td>1</td>\n",
       "      <td>гражданский брак</td>\n",
       "      <td>1</td>\n",
       "      <td>F</td>\n",
       "      <td>компаньон</td>\n",
       "      <td>0</td>\n",
       "      <td>224791.862382</td>\n",
       "      <td>операции с жильем</td>\n",
       "    </tr>\n",
       "    <tr>\n",
       "      <td>21521</td>\n",
       "      <td>0</td>\n",
       "      <td>14330.725172</td>\n",
       "      <td>67</td>\n",
       "      <td>среднее</td>\n",
       "      <td>1</td>\n",
       "      <td>женат / замужем</td>\n",
       "      <td>0</td>\n",
       "      <td>F</td>\n",
       "      <td>пенсионер</td>\n",
       "      <td>0</td>\n",
       "      <td>155999.806512</td>\n",
       "      <td>сделка с автомобилем</td>\n",
       "    </tr>\n",
       "    <tr>\n",
       "      <td>21522</td>\n",
       "      <td>1</td>\n",
       "      <td>2113.346888</td>\n",
       "      <td>38</td>\n",
       "      <td>среднее</td>\n",
       "      <td>1</td>\n",
       "      <td>гражданский брак</td>\n",
       "      <td>1</td>\n",
       "      <td>M</td>\n",
       "      <td>сотрудник</td>\n",
       "      <td>1</td>\n",
       "      <td>89672.561153</td>\n",
       "      <td>недвижимость</td>\n",
       "    </tr>\n",
       "    <tr>\n",
       "      <td>21523</td>\n",
       "      <td>3</td>\n",
       "      <td>3112.481705</td>\n",
       "      <td>38</td>\n",
       "      <td>среднее</td>\n",
       "      <td>1</td>\n",
       "      <td>женат / замужем</td>\n",
       "      <td>0</td>\n",
       "      <td>M</td>\n",
       "      <td>сотрудник</td>\n",
       "      <td>1</td>\n",
       "      <td>244093.050500</td>\n",
       "      <td>на покупку своего автомобиля</td>\n",
       "    </tr>\n",
       "    <tr>\n",
       "      <td>21524</td>\n",
       "      <td>2</td>\n",
       "      <td>1984.507589</td>\n",
       "      <td>40</td>\n",
       "      <td>среднее</td>\n",
       "      <td>1</td>\n",
       "      <td>женат / замужем</td>\n",
       "      <td>0</td>\n",
       "      <td>F</td>\n",
       "      <td>сотрудник</td>\n",
       "      <td>0</td>\n",
       "      <td>82047.418899</td>\n",
       "      <td>на покупку автомобиля</td>\n",
       "    </tr>\n",
       "  </tbody>\n",
       "</table>\n",
       "<p>21525 rows × 12 columns</p>\n",
       "</div>"
      ],
      "text/plain": [
       "       children  days_employed  dob_years education  education_id  \\\n",
       "0             1    8437.673028         42    высшее             0   \n",
       "1             1    4024.803754         36   среднее             1   \n",
       "2             0    5623.422610         33   Среднее             1   \n",
       "3             3    4124.747207         32   среднее             1   \n",
       "4             0   14177.753002         53   среднее             1   \n",
       "...         ...            ...        ...       ...           ...   \n",
       "21520         1    4529.316663         43   среднее             1   \n",
       "21521         0   14330.725172         67   среднее             1   \n",
       "21522         1    2113.346888         38   среднее             1   \n",
       "21523         3    3112.481705         38   среднее             1   \n",
       "21524         2    1984.507589         40   среднее             1   \n",
       "\n",
       "          family_status  family_status_id gender income_type  debt  \\\n",
       "0       женат / замужем                 0      F   сотрудник     0   \n",
       "1       женат / замужем                 0      F   сотрудник     0   \n",
       "2       женат / замужем                 0      M   сотрудник     0   \n",
       "3       женат / замужем                 0      M   сотрудник     0   \n",
       "4      гражданский брак                 1      F   пенсионер     0   \n",
       "...                 ...               ...    ...         ...   ...   \n",
       "21520  гражданский брак                 1      F   компаньон     0   \n",
       "21521   женат / замужем                 0      F   пенсионер     0   \n",
       "21522  гражданский брак                 1      M   сотрудник     1   \n",
       "21523   женат / замужем                 0      M   сотрудник     1   \n",
       "21524   женат / замужем                 0      F   сотрудник     0   \n",
       "\n",
       "        total_income                       purpose  \n",
       "0      253875.639453                 покупка жилья  \n",
       "1      112080.014102       приобретение автомобиля  \n",
       "2      145885.952297                 покупка жилья  \n",
       "3      267628.550329    дополнительное образование  \n",
       "4      158616.077870               сыграть свадьбу  \n",
       "...              ...                           ...  \n",
       "21520  224791.862382             операции с жильем  \n",
       "21521  155999.806512          сделка с автомобилем  \n",
       "21522   89672.561153                  недвижимость  \n",
       "21523  244093.050500  на покупку своего автомобиля  \n",
       "21524   82047.418899         на покупку автомобиля  \n",
       "\n",
       "[21525 rows x 12 columns]"
      ]
     },
     "execution_count": 35,
     "metadata": {},
     "output_type": "execute_result"
    }
   ],
   "source": [
    "# проверяем результат\n",
    "df"
   ]
  },
  {
   "cell_type": "code",
   "execution_count": 36,
   "id": "b57dbf4b",
   "metadata": {},
   "outputs": [
    {
     "data": {
      "text/plain": [
       "<matplotlib.axes._subplots.AxesSubplot at 0x7fbb3c3e3350>"
      ]
     },
     "execution_count": 36,
     "metadata": {},
     "output_type": "execute_result"
    },
    {
     "data": {
      "image/png": "[encoded data removed]",
      "text/plain": [
       "<Figure size 432x288 with 1 Axes>"
      ]
     },
     "metadata": {
      "needs_background": "light"
     },
     "output_type": "display_data"
    }
   ],
   "source": [
    "# строим зависимость стажа от возраста клиента\n",
    "sns.scatterplot(x=df['dob_years'], \n",
    "                y=df['days_employed'], \n",
    "                hue=df['income_type'])"
   ]
  },
  {
   "cell_type": "markdown",
   "id": "e774feb4",
   "metadata": {},
   "source": [
    "#### `gender` – пол клиента"
   ]
  },
  {
   "cell_type": "markdown",
   "id": "b5ad9f46",
   "metadata": {},
   "source": [
    "Как мы помним, у одного клиента не был указан пол.\n",
    "<a id='gender_anomalies'></a>"
   ]
  },
  {
   "cell_type": "code",
   "execution_count": 37,
   "id": "33188c01",
   "metadata": {},
   "outputs": [
    {
     "data": {
      "text/plain": [
       "F      14236\n",
       "M       7288\n",
       "XNA        1\n",
       "Name: gender, dtype: int64"
      ]
     },
     "execution_count": 37,
     "metadata": {},
     "output_type": "execute_result"
    }
   ],
   "source": [
    "df['gender'].value_counts()"
   ]
  },
  {
   "cell_type": "markdown",
   "id": "58d8ef8b",
   "metadata": {},
   "source": [
    "В этом случае доля аномалии в общем числе записей еще меньше, чем в столбце `children`. По аналогии со столбцом `children` оставим `gender` в покое."
   ]
  },
  {
   "cell_type": "markdown",
   "id": "070cb2e2",
   "metadata": {},
   "source": [
    "### Заполнение пропусков"
   ]
  },
  {
   "cell_type": "markdown",
   "id": "ee2a3334",
   "metadata": {},
   "source": [
    "Как мы [помним](#first_glance), явные пропуски в исходных данных были только в столбцах `days_employed` и `total_income`. Проверим, что они находятся в одних и тех же строках."
   ]
  },
  {
   "cell_type": "code",
   "execution_count": 38,
   "id": "8c28068a",
   "metadata": {},
   "outputs": [
    {
     "data": {
      "text/html": [
       "<div>\n",
       "<style scoped>\n",
       "    .dataframe tbody tr th:only-of-type {\n",
       "        vertical-align: middle;\n",
       "    }\n",
       "\n",
       "    .dataframe tbody tr th {\n",
       "        vertical-align: top;\n",
       "    }\n",
       "\n",
       "    .dataframe thead th {\n",
       "        text-align: right;\n",
       "    }\n",
       "</style>\n",
       "<table border=\"1\" class=\"dataframe\">\n",
       "  <thead>\n",
       "    <tr style=\"text-align: right;\">\n",
       "      <th></th>\n",
       "      <th>children</th>\n",
       "      <th>days_employed</th>\n",
       "      <th>dob_years</th>\n",
       "      <th>education</th>\n",
       "      <th>education_id</th>\n",
       "      <th>family_status</th>\n",
       "      <th>family_status_id</th>\n",
       "      <th>gender</th>\n",
       "      <th>income_type</th>\n",
       "      <th>debt</th>\n",
       "      <th>total_income</th>\n",
       "      <th>purpose</th>\n",
       "    </tr>\n",
       "  </thead>\n",
       "  <tbody>\n",
       "  </tbody>\n",
       "</table>\n",
       "</div>"
      ],
      "text/plain": [
       "Empty DataFrame\n",
       "Columns: [children, days_employed, dob_years, education, education_id, family_status, family_status_id, gender, income_type, debt, total_income, purpose]\n",
       "Index: []"
      ]
     },
     "execution_count": 38,
     "metadata": {},
     "output_type": "execute_result"
    }
   ],
   "source": [
    "df[df['days_employed'].isna() ^ df['total_income'].isna()]"
   ]
  },
  {
   "cell_type": "markdown",
   "id": "a1f7108f",
   "metadata": {},
   "source": [
    "Гипотеза подтвердилась: в данных нет строк, где значение в одном из этих столбцов пусто, а в другом не пусто.\n",
    "\n",
    "Такие пропуски в данных могли появиться у клиентов, которые не предоставили подтвержденной информации с места работы: трудовой стаж и оклад. Тип занятости `income_type` при этом мог быть записан со слов клиента.\n",
    "\n",
    "Так как данные об окладе и стаже не нужны для ответа на <i>основные</i> вопросы проекта, мы можем позволить себе заполнить пропуски в них характерными значениями. При этом представляется разумным использовать тип занятости как параметр.\n",
    "\n",
    "В общем же случае заполнение пропусков характерными значениями не лучшее решение, потому что оно искажает распределение соответствующих величин (повышает плотность характерного значения), что не очень хорошо для моделирования. Менее искажающим решением будет использование стохастической линейной регрессии.\n",
    "\n",
    "Сохраним строки с пропусками в отдельный датафрейм `df_na` и взглянем на него."
   ]
  },
  {
   "cell_type": "code",
   "execution_count": 39,
   "id": "c645bfd6",
   "metadata": {},
   "outputs": [
    {
     "data": {
      "text/html": [
       "<div>\n",
       "<style scoped>\n",
       "    .dataframe tbody tr th:only-of-type {\n",
       "        vertical-align: middle;\n",
       "    }\n",
       "\n",
       "    .dataframe tbody tr th {\n",
       "        vertical-align: top;\n",
       "    }\n",
       "\n",
       "    .dataframe thead th {\n",
       "        text-align: right;\n",
       "    }\n",
       "</style>\n",
       "<table border=\"1\" class=\"dataframe\">\n",
       "  <thead>\n",
       "    <tr style=\"text-align: right;\">\n",
       "      <th></th>\n",
       "      <th>children</th>\n",
       "      <th>days_employed</th>\n",
       "      <th>dob_years</th>\n",
       "      <th>education</th>\n",
       "      <th>education_id</th>\n",
       "      <th>family_status</th>\n",
       "      <th>family_status_id</th>\n",
       "      <th>gender</th>\n",
       "      <th>income_type</th>\n",
       "      <th>debt</th>\n",
       "      <th>total_income</th>\n",
       "      <th>purpose</th>\n",
       "    </tr>\n",
       "  </thead>\n",
       "  <tbody>\n",
       "    <tr>\n",
       "      <td>12</td>\n",
       "      <td>0</td>\n",
       "      <td>NaN</td>\n",
       "      <td>65</td>\n",
       "      <td>среднее</td>\n",
       "      <td>1</td>\n",
       "      <td>гражданский брак</td>\n",
       "      <td>1</td>\n",
       "      <td>M</td>\n",
       "      <td>пенсионер</td>\n",
       "      <td>0</td>\n",
       "      <td>NaN</td>\n",
       "      <td>сыграть свадьбу</td>\n",
       "    </tr>\n",
       "    <tr>\n",
       "      <td>26</td>\n",
       "      <td>0</td>\n",
       "      <td>NaN</td>\n",
       "      <td>41</td>\n",
       "      <td>среднее</td>\n",
       "      <td>1</td>\n",
       "      <td>женат / замужем</td>\n",
       "      <td>0</td>\n",
       "      <td>M</td>\n",
       "      <td>госслужащий</td>\n",
       "      <td>0</td>\n",
       "      <td>NaN</td>\n",
       "      <td>образование</td>\n",
       "    </tr>\n",
       "    <tr>\n",
       "      <td>29</td>\n",
       "      <td>0</td>\n",
       "      <td>NaN</td>\n",
       "      <td>63</td>\n",
       "      <td>среднее</td>\n",
       "      <td>1</td>\n",
       "      <td>Не женат / не замужем</td>\n",
       "      <td>4</td>\n",
       "      <td>F</td>\n",
       "      <td>пенсионер</td>\n",
       "      <td>0</td>\n",
       "      <td>NaN</td>\n",
       "      <td>строительство жилой недвижимости</td>\n",
       "    </tr>\n",
       "    <tr>\n",
       "      <td>41</td>\n",
       "      <td>0</td>\n",
       "      <td>NaN</td>\n",
       "      <td>50</td>\n",
       "      <td>среднее</td>\n",
       "      <td>1</td>\n",
       "      <td>женат / замужем</td>\n",
       "      <td>0</td>\n",
       "      <td>F</td>\n",
       "      <td>госслужащий</td>\n",
       "      <td>0</td>\n",
       "      <td>NaN</td>\n",
       "      <td>сделка с подержанным автомобилем</td>\n",
       "    </tr>\n",
       "    <tr>\n",
       "      <td>55</td>\n",
       "      <td>0</td>\n",
       "      <td>NaN</td>\n",
       "      <td>54</td>\n",
       "      <td>среднее</td>\n",
       "      <td>1</td>\n",
       "      <td>гражданский брак</td>\n",
       "      <td>1</td>\n",
       "      <td>F</td>\n",
       "      <td>пенсионер</td>\n",
       "      <td>1</td>\n",
       "      <td>NaN</td>\n",
       "      <td>сыграть свадьбу</td>\n",
       "    </tr>\n",
       "    <tr>\n",
       "      <td>...</td>\n",
       "      <td>...</td>\n",
       "      <td>...</td>\n",
       "      <td>...</td>\n",
       "      <td>...</td>\n",
       "      <td>...</td>\n",
       "      <td>...</td>\n",
       "      <td>...</td>\n",
       "      <td>...</td>\n",
       "      <td>...</td>\n",
       "      <td>...</td>\n",
       "      <td>...</td>\n",
       "      <td>...</td>\n",
       "    </tr>\n",
       "    <tr>\n",
       "      <td>21489</td>\n",
       "      <td>2</td>\n",
       "      <td>NaN</td>\n",
       "      <td>47</td>\n",
       "      <td>Среднее</td>\n",
       "      <td>1</td>\n",
       "      <td>женат / замужем</td>\n",
       "      <td>0</td>\n",
       "      <td>M</td>\n",
       "      <td>компаньон</td>\n",
       "      <td>0</td>\n",
       "      <td>NaN</td>\n",
       "      <td>сделка с автомобилем</td>\n",
       "    </tr>\n",
       "    <tr>\n",
       "      <td>21495</td>\n",
       "      <td>1</td>\n",
       "      <td>NaN</td>\n",
       "      <td>50</td>\n",
       "      <td>среднее</td>\n",
       "      <td>1</td>\n",
       "      <td>гражданский брак</td>\n",
       "      <td>1</td>\n",
       "      <td>F</td>\n",
       "      <td>сотрудник</td>\n",
       "      <td>0</td>\n",
       "      <td>NaN</td>\n",
       "      <td>свадьба</td>\n",
       "    </tr>\n",
       "    <tr>\n",
       "      <td>21497</td>\n",
       "      <td>0</td>\n",
       "      <td>NaN</td>\n",
       "      <td>48</td>\n",
       "      <td>ВЫСШЕЕ</td>\n",
       "      <td>0</td>\n",
       "      <td>женат / замужем</td>\n",
       "      <td>0</td>\n",
       "      <td>F</td>\n",
       "      <td>компаньон</td>\n",
       "      <td>0</td>\n",
       "      <td>NaN</td>\n",
       "      <td>строительство недвижимости</td>\n",
       "    </tr>\n",
       "    <tr>\n",
       "      <td>21502</td>\n",
       "      <td>1</td>\n",
       "      <td>NaN</td>\n",
       "      <td>42</td>\n",
       "      <td>среднее</td>\n",
       "      <td>1</td>\n",
       "      <td>женат / замужем</td>\n",
       "      <td>0</td>\n",
       "      <td>F</td>\n",
       "      <td>сотрудник</td>\n",
       "      <td>0</td>\n",
       "      <td>NaN</td>\n",
       "      <td>строительство жилой недвижимости</td>\n",
       "    </tr>\n",
       "    <tr>\n",
       "      <td>21510</td>\n",
       "      <td>2</td>\n",
       "      <td>NaN</td>\n",
       "      <td>28</td>\n",
       "      <td>среднее</td>\n",
       "      <td>1</td>\n",
       "      <td>женат / замужем</td>\n",
       "      <td>0</td>\n",
       "      <td>F</td>\n",
       "      <td>сотрудник</td>\n",
       "      <td>0</td>\n",
       "      <td>NaN</td>\n",
       "      <td>приобретение автомобиля</td>\n",
       "    </tr>\n",
       "  </tbody>\n",
       "</table>\n",
       "<p>2174 rows × 12 columns</p>\n",
       "</div>"
      ],
      "text/plain": [
       "       children  days_employed  dob_years education  education_id  \\\n",
       "12            0            NaN         65   среднее             1   \n",
       "26            0            NaN         41   среднее             1   \n",
       "29            0            NaN         63   среднее             1   \n",
       "41            0            NaN         50   среднее             1   \n",
       "55            0            NaN         54   среднее             1   \n",
       "...         ...            ...        ...       ...           ...   \n",
       "21489         2            NaN         47   Среднее             1   \n",
       "21495         1            NaN         50   среднее             1   \n",
       "21497         0            NaN         48    ВЫСШЕЕ             0   \n",
       "21502         1            NaN         42   среднее             1   \n",
       "21510         2            NaN         28   среднее             1   \n",
       "\n",
       "               family_status  family_status_id gender  income_type  debt  \\\n",
       "12          гражданский брак                 1      M    пенсионер     0   \n",
       "26           женат / замужем                 0      M  госслужащий     0   \n",
       "29     Не женат / не замужем                 4      F    пенсионер     0   \n",
       "41           женат / замужем                 0      F  госслужащий     0   \n",
       "55          гражданский брак                 1      F    пенсионер     1   \n",
       "...                      ...               ...    ...          ...   ...   \n",
       "21489        женат / замужем                 0      M    компаньон     0   \n",
       "21495       гражданский брак                 1      F    сотрудник     0   \n",
       "21497        женат / замужем                 0      F    компаньон     0   \n",
       "21502        женат / замужем                 0      F    сотрудник     0   \n",
       "21510        женат / замужем                 0      F    сотрудник     0   \n",
       "\n",
       "       total_income                           purpose  \n",
       "12              NaN                   сыграть свадьбу  \n",
       "26              NaN                       образование  \n",
       "29              NaN  строительство жилой недвижимости  \n",
       "41              NaN  сделка с подержанным автомобилем  \n",
       "55              NaN                   сыграть свадьбу  \n",
       "...             ...                               ...  \n",
       "21489           NaN              сделка с автомобилем  \n",
       "21495           NaN                           свадьба  \n",
       "21497           NaN        строительство недвижимости  \n",
       "21502           NaN  строительство жилой недвижимости  \n",
       "21510           NaN           приобретение автомобиля  \n",
       "\n",
       "[2174 rows x 12 columns]"
      ]
     },
     "execution_count": 39,
     "metadata": {},
     "output_type": "execute_result"
    }
   ],
   "source": [
    "df_na = df[df['days_employed'].isna()]\n",
    "df_na"
   ]
  },
  {
   "cell_type": "markdown",
   "id": "0741fdf7",
   "metadata": {},
   "source": [
    "Посмотрим, как клиенты в нем распределены по типу занятости."
   ]
  },
  {
   "cell_type": "code",
   "execution_count": 40,
   "id": "25549a18",
   "metadata": {},
   "outputs": [
    {
     "data": {
      "text/plain": [
       "сотрудник          1105\n",
       "компаньон           508\n",
       "пенсионер           413\n",
       "госслужащий         147\n",
       "предприниматель       1\n",
       "Name: income_type, dtype: int64"
      ]
     },
     "execution_count": 40,
     "metadata": {},
     "output_type": "execute_result"
    }
   ],
   "source": [
    "df_na['income_type'].value_counts().sort_values(ascending=False)"
   ]
  },
  {
   "cell_type": "markdown",
   "id": "04467da1",
   "metadata": {},
   "source": [
    "Вспомним, как по типу занятости распределены все клиенты."
   ]
  },
  {
   "cell_type": "code",
   "execution_count": 41,
   "id": "fca4c3d3",
   "metadata": {},
   "outputs": [
    {
     "data": {
      "text/plain": [
       "сотрудник          11119\n",
       "компаньон           5085\n",
       "пенсионер           3856\n",
       "госслужащий         1459\n",
       "предприниматель        2\n",
       "безработный            2\n",
       "студент                1\n",
       "в декрете              1\n",
       "Name: income_type, dtype: int64"
      ]
     },
     "execution_count": 41,
     "metadata": {},
     "output_type": "execute_result"
    }
   ],
   "source": [
    "df['income_type'].value_counts().sort_values(ascending=False)"
   ]
  },
  {
   "cell_type": "markdown",
   "id": "1af07ac2",
   "metadata": {},
   "source": [
    "Для каждого типа занятости из датафрейма с пропусками найдется хотя бы одно непустое значение из исходного датафрейма – прекрасно.\n",
    "\n",
    "Сохраним медианы по столбцам `days_employed` и `total_income` в `medians`."
   ]
  },
  {
   "cell_type": "code",
   "execution_count": 42,
   "id": "57c8b3ee",
   "metadata": {},
   "outputs": [
    {
     "data": {
      "text/html": [
       "<div>\n",
       "<style scoped>\n",
       "    .dataframe tbody tr th:only-of-type {\n",
       "        vertical-align: middle;\n",
       "    }\n",
       "\n",
       "    .dataframe tbody tr th {\n",
       "        vertical-align: top;\n",
       "    }\n",
       "\n",
       "    .dataframe thead th {\n",
       "        text-align: right;\n",
       "    }\n",
       "</style>\n",
       "<table border=\"1\" class=\"dataframe\">\n",
       "  <thead>\n",
       "    <tr style=\"text-align: right;\">\n",
       "      <th></th>\n",
       "      <th>income_type</th>\n",
       "      <th>days_employed</th>\n",
       "      <th>total_income</th>\n",
       "    </tr>\n",
       "  </thead>\n",
       "  <tbody>\n",
       "    <tr>\n",
       "      <td>0</td>\n",
       "      <td>безработный</td>\n",
       "      <td>15267.235531</td>\n",
       "      <td>131339.751676</td>\n",
       "    </tr>\n",
       "    <tr>\n",
       "      <td>1</td>\n",
       "      <td>в декрете</td>\n",
       "      <td>3296.759962</td>\n",
       "      <td>53829.130729</td>\n",
       "    </tr>\n",
       "    <tr>\n",
       "      <td>2</td>\n",
       "      <td>госслужащий</td>\n",
       "      <td>2689.368353</td>\n",
       "      <td>150447.935283</td>\n",
       "    </tr>\n",
       "    <tr>\n",
       "      <td>3</td>\n",
       "      <td>компаньон</td>\n",
       "      <td>1547.382223</td>\n",
       "      <td>172357.950966</td>\n",
       "    </tr>\n",
       "    <tr>\n",
       "      <td>4</td>\n",
       "      <td>пенсионер</td>\n",
       "      <td>15217.221094</td>\n",
       "      <td>118514.486412</td>\n",
       "    </tr>\n",
       "    <tr>\n",
       "      <td>5</td>\n",
       "      <td>предприниматель</td>\n",
       "      <td>520.848083</td>\n",
       "      <td>499163.144947</td>\n",
       "    </tr>\n",
       "    <tr>\n",
       "      <td>6</td>\n",
       "      <td>сотрудник</td>\n",
       "      <td>1574.202821</td>\n",
       "      <td>142594.396847</td>\n",
       "    </tr>\n",
       "    <tr>\n",
       "      <td>7</td>\n",
       "      <td>студент</td>\n",
       "      <td>578.751554</td>\n",
       "      <td>98201.625314</td>\n",
       "    </tr>\n",
       "  </tbody>\n",
       "</table>\n",
       "</div>"
      ],
      "text/plain": [
       "       income_type  days_employed   total_income\n",
       "0      безработный   15267.235531  131339.751676\n",
       "1        в декрете    3296.759962   53829.130729\n",
       "2      госслужащий    2689.368353  150447.935283\n",
       "3        компаньон    1547.382223  172357.950966\n",
       "4        пенсионер   15217.221094  118514.486412\n",
       "5  предприниматель     520.848083  499163.144947\n",
       "6        сотрудник    1574.202821  142594.396847\n",
       "7          студент     578.751554   98201.625314"
      ]
     },
     "execution_count": 42,
     "metadata": {},
     "output_type": "execute_result"
    }
   ],
   "source": [
    "medians = (df.groupby('income_type')[['days_employed', 'total_income']]\n",
    "           .median().reset_index())\n",
    "medians"
   ]
  },
  {
   "cell_type": "markdown",
   "id": "74b34bc8",
   "metadata": {},
   "source": [
    "Приджойним медианные значения к `df_na`, сохранив оригинальные индексы."
   ]
  },
  {
   "cell_type": "code",
   "execution_count": 43,
   "id": "688f19d6",
   "metadata": {},
   "outputs": [
    {
     "data": {
      "text/html": [
       "<div>\n",
       "<style scoped>\n",
       "    .dataframe tbody tr th:only-of-type {\n",
       "        vertical-align: middle;\n",
       "    }\n",
       "\n",
       "    .dataframe tbody tr th {\n",
       "        vertical-align: top;\n",
       "    }\n",
       "\n",
       "    .dataframe thead th {\n",
       "        text-align: right;\n",
       "    }\n",
       "</style>\n",
       "<table border=\"1\" class=\"dataframe\">\n",
       "  <thead>\n",
       "    <tr style=\"text-align: right;\">\n",
       "      <th></th>\n",
       "      <th>children</th>\n",
       "      <th>days_employed_na</th>\n",
       "      <th>dob_years</th>\n",
       "      <th>education</th>\n",
       "      <th>education_id</th>\n",
       "      <th>family_status</th>\n",
       "      <th>family_status_id</th>\n",
       "      <th>gender</th>\n",
       "      <th>income_type</th>\n",
       "      <th>debt</th>\n",
       "      <th>total_income_na</th>\n",
       "      <th>purpose</th>\n",
       "      <th>days_employed</th>\n",
       "      <th>total_income</th>\n",
       "    </tr>\n",
       "    <tr>\n",
       "      <th>index</th>\n",
       "      <th></th>\n",
       "      <th></th>\n",
       "      <th></th>\n",
       "      <th></th>\n",
       "      <th></th>\n",
       "      <th></th>\n",
       "      <th></th>\n",
       "      <th></th>\n",
       "      <th></th>\n",
       "      <th></th>\n",
       "      <th></th>\n",
       "      <th></th>\n",
       "      <th></th>\n",
       "      <th></th>\n",
       "    </tr>\n",
       "  </thead>\n",
       "  <tbody>\n",
       "    <tr>\n",
       "      <td>12</td>\n",
       "      <td>0</td>\n",
       "      <td>NaN</td>\n",
       "      <td>65</td>\n",
       "      <td>среднее</td>\n",
       "      <td>1</td>\n",
       "      <td>гражданский брак</td>\n",
       "      <td>1</td>\n",
       "      <td>M</td>\n",
       "      <td>пенсионер</td>\n",
       "      <td>0</td>\n",
       "      <td>NaN</td>\n",
       "      <td>сыграть свадьбу</td>\n",
       "      <td>15217.221094</td>\n",
       "      <td>118514.486412</td>\n",
       "    </tr>\n",
       "    <tr>\n",
       "      <td>26</td>\n",
       "      <td>0</td>\n",
       "      <td>NaN</td>\n",
       "      <td>41</td>\n",
       "      <td>среднее</td>\n",
       "      <td>1</td>\n",
       "      <td>женат / замужем</td>\n",
       "      <td>0</td>\n",
       "      <td>M</td>\n",
       "      <td>госслужащий</td>\n",
       "      <td>0</td>\n",
       "      <td>NaN</td>\n",
       "      <td>образование</td>\n",
       "      <td>2689.368353</td>\n",
       "      <td>150447.935283</td>\n",
       "    </tr>\n",
       "    <tr>\n",
       "      <td>29</td>\n",
       "      <td>0</td>\n",
       "      <td>NaN</td>\n",
       "      <td>63</td>\n",
       "      <td>среднее</td>\n",
       "      <td>1</td>\n",
       "      <td>Не женат / не замужем</td>\n",
       "      <td>4</td>\n",
       "      <td>F</td>\n",
       "      <td>пенсионер</td>\n",
       "      <td>0</td>\n",
       "      <td>NaN</td>\n",
       "      <td>строительство жилой недвижимости</td>\n",
       "      <td>15217.221094</td>\n",
       "      <td>118514.486412</td>\n",
       "    </tr>\n",
       "    <tr>\n",
       "      <td>41</td>\n",
       "      <td>0</td>\n",
       "      <td>NaN</td>\n",
       "      <td>50</td>\n",
       "      <td>среднее</td>\n",
       "      <td>1</td>\n",
       "      <td>женат / замужем</td>\n",
       "      <td>0</td>\n",
       "      <td>F</td>\n",
       "      <td>госслужащий</td>\n",
       "      <td>0</td>\n",
       "      <td>NaN</td>\n",
       "      <td>сделка с подержанным автомобилем</td>\n",
       "      <td>2689.368353</td>\n",
       "      <td>150447.935283</td>\n",
       "    </tr>\n",
       "    <tr>\n",
       "      <td>55</td>\n",
       "      <td>0</td>\n",
       "      <td>NaN</td>\n",
       "      <td>54</td>\n",
       "      <td>среднее</td>\n",
       "      <td>1</td>\n",
       "      <td>гражданский брак</td>\n",
       "      <td>1</td>\n",
       "      <td>F</td>\n",
       "      <td>пенсионер</td>\n",
       "      <td>1</td>\n",
       "      <td>NaN</td>\n",
       "      <td>сыграть свадьбу</td>\n",
       "      <td>15217.221094</td>\n",
       "      <td>118514.486412</td>\n",
       "    </tr>\n",
       "    <tr>\n",
       "      <td>...</td>\n",
       "      <td>...</td>\n",
       "      <td>...</td>\n",
       "      <td>...</td>\n",
       "      <td>...</td>\n",
       "      <td>...</td>\n",
       "      <td>...</td>\n",
       "      <td>...</td>\n",
       "      <td>...</td>\n",
       "      <td>...</td>\n",
       "      <td>...</td>\n",
       "      <td>...</td>\n",
       "      <td>...</td>\n",
       "      <td>...</td>\n",
       "      <td>...</td>\n",
       "    </tr>\n",
       "    <tr>\n",
       "      <td>21489</td>\n",
       "      <td>2</td>\n",
       "      <td>NaN</td>\n",
       "      <td>47</td>\n",
       "      <td>Среднее</td>\n",
       "      <td>1</td>\n",
       "      <td>женат / замужем</td>\n",
       "      <td>0</td>\n",
       "      <td>M</td>\n",
       "      <td>компаньон</td>\n",
       "      <td>0</td>\n",
       "      <td>NaN</td>\n",
       "      <td>сделка с автомобилем</td>\n",
       "      <td>1547.382223</td>\n",
       "      <td>172357.950966</td>\n",
       "    </tr>\n",
       "    <tr>\n",
       "      <td>21495</td>\n",
       "      <td>1</td>\n",
       "      <td>NaN</td>\n",
       "      <td>50</td>\n",
       "      <td>среднее</td>\n",
       "      <td>1</td>\n",
       "      <td>гражданский брак</td>\n",
       "      <td>1</td>\n",
       "      <td>F</td>\n",
       "      <td>сотрудник</td>\n",
       "      <td>0</td>\n",
       "      <td>NaN</td>\n",
       "      <td>свадьба</td>\n",
       "      <td>1574.202821</td>\n",
       "      <td>142594.396847</td>\n",
       "    </tr>\n",
       "    <tr>\n",
       "      <td>21497</td>\n",
       "      <td>0</td>\n",
       "      <td>NaN</td>\n",
       "      <td>48</td>\n",
       "      <td>ВЫСШЕЕ</td>\n",
       "      <td>0</td>\n",
       "      <td>женат / замужем</td>\n",
       "      <td>0</td>\n",
       "      <td>F</td>\n",
       "      <td>компаньон</td>\n",
       "      <td>0</td>\n",
       "      <td>NaN</td>\n",
       "      <td>строительство недвижимости</td>\n",
       "      <td>1547.382223</td>\n",
       "      <td>172357.950966</td>\n",
       "    </tr>\n",
       "    <tr>\n",
       "      <td>21502</td>\n",
       "      <td>1</td>\n",
       "      <td>NaN</td>\n",
       "      <td>42</td>\n",
       "      <td>среднее</td>\n",
       "      <td>1</td>\n",
       "      <td>женат / замужем</td>\n",
       "      <td>0</td>\n",
       "      <td>F</td>\n",
       "      <td>сотрудник</td>\n",
       "      <td>0</td>\n",
       "      <td>NaN</td>\n",
       "      <td>строительство жилой недвижимости</td>\n",
       "      <td>1574.202821</td>\n",
       "      <td>142594.396847</td>\n",
       "    </tr>\n",
       "    <tr>\n",
       "      <td>21510</td>\n",
       "      <td>2</td>\n",
       "      <td>NaN</td>\n",
       "      <td>28</td>\n",
       "      <td>среднее</td>\n",
       "      <td>1</td>\n",
       "      <td>женат / замужем</td>\n",
       "      <td>0</td>\n",
       "      <td>F</td>\n",
       "      <td>сотрудник</td>\n",
       "      <td>0</td>\n",
       "      <td>NaN</td>\n",
       "      <td>приобретение автомобиля</td>\n",
       "      <td>1574.202821</td>\n",
       "      <td>142594.396847</td>\n",
       "    </tr>\n",
       "  </tbody>\n",
       "</table>\n",
       "<p>2174 rows × 14 columns</p>\n",
       "</div>"
      ],
      "text/plain": [
       "       children  days_employed_na  dob_years education  education_id  \\\n",
       "index                                                                  \n",
       "12            0               NaN         65   среднее             1   \n",
       "26            0               NaN         41   среднее             1   \n",
       "29            0               NaN         63   среднее             1   \n",
       "41            0               NaN         50   среднее             1   \n",
       "55            0               NaN         54   среднее             1   \n",
       "...         ...               ...        ...       ...           ...   \n",
       "21489         2               NaN         47   Среднее             1   \n",
       "21495         1               NaN         50   среднее             1   \n",
       "21497         0               NaN         48    ВЫСШЕЕ             0   \n",
       "21502         1               NaN         42   среднее             1   \n",
       "21510         2               NaN         28   среднее             1   \n",
       "\n",
       "               family_status  family_status_id gender  income_type  debt  \\\n",
       "index                                                                      \n",
       "12          гражданский брак                 1      M    пенсионер     0   \n",
       "26           женат / замужем                 0      M  госслужащий     0   \n",
       "29     Не женат / не замужем                 4      F    пенсионер     0   \n",
       "41           женат / замужем                 0      F  госслужащий     0   \n",
       "55          гражданский брак                 1      F    пенсионер     1   \n",
       "...                      ...               ...    ...          ...   ...   \n",
       "21489        женат / замужем                 0      M    компаньон     0   \n",
       "21495       гражданский брак                 1      F    сотрудник     0   \n",
       "21497        женат / замужем                 0      F    компаньон     0   \n",
       "21502        женат / замужем                 0      F    сотрудник     0   \n",
       "21510        женат / замужем                 0      F    сотрудник     0   \n",
       "\n",
       "       total_income_na                           purpose  days_employed  \\\n",
       "index                                                                     \n",
       "12                 NaN                   сыграть свадьбу   15217.221094   \n",
       "26                 NaN                       образование    2689.368353   \n",
       "29                 NaN  строительство жилой недвижимости   15217.221094   \n",
       "41                 NaN  сделка с подержанным автомобилем    2689.368353   \n",
       "55                 NaN                   сыграть свадьбу   15217.221094   \n",
       "...                ...                               ...            ...   \n",
       "21489              NaN              сделка с автомобилем    1547.382223   \n",
       "21495              NaN                           свадьба    1574.202821   \n",
       "21497              NaN        строительство недвижимости    1547.382223   \n",
       "21502              NaN  строительство жилой недвижимости    1574.202821   \n",
       "21510              NaN           приобретение автомобиля    1574.202821   \n",
       "\n",
       "        total_income  \n",
       "index                 \n",
       "12     118514.486412  \n",
       "26     150447.935283  \n",
       "29     118514.486412  \n",
       "41     150447.935283  \n",
       "55     118514.486412  \n",
       "...              ...  \n",
       "21489  172357.950966  \n",
       "21495  142594.396847  \n",
       "21497  172357.950966  \n",
       "21502  142594.396847  \n",
       "21510  142594.396847  \n",
       "\n",
       "[2174 rows x 14 columns]"
      ]
     },
     "execution_count": 43,
     "metadata": {},
     "output_type": "execute_result"
    }
   ],
   "source": [
    "df_na = (df_na.reset_index().merge(medians, on='income_type', \n",
    "                                  how='left', suffixes=('_na', None))\n",
    "         .set_index('index'))\n",
    "df_na"
   ]
  },
  {
   "cell_type": "markdown",
   "id": "1644379c",
   "metadata": {},
   "source": [
    "Заполним пропуски в исходном датафрейме медианными значениями из `df_na`."
   ]
  },
  {
   "cell_type": "code",
   "execution_count": 44,
   "id": "0cacecdd",
   "metadata": {},
   "outputs": [],
   "source": [
    "df[['days_employed','total_income']] = (df[['days_employed','total_income']]\n",
    "                                        .fillna(df_na[['days_employed','total_income']]))"
   ]
  },
  {
   "cell_type": "code",
   "execution_count": 45,
   "id": "d6e37b9f",
   "metadata": {},
   "outputs": [],
   "source": [
    "# alternative method\n",
    "#df['days_employed'] = df['days_employed'].fillna(df_na['days_employed'])\n",
    "#df['total_income'] = df['total_income'].fillna(df_na['total_income'])"
   ]
  },
  {
   "cell_type": "code",
   "execution_count": 46,
   "id": "30b159e2",
   "metadata": {},
   "outputs": [],
   "source": [
    "# alternative method\n",
    "#df.loc[df['days_employed'].isna(), ['days_employed','total_income']] \\\n",
    "#= df_na[['days_employed','total_income']].values"
   ]
  },
  {
   "cell_type": "markdown",
   "id": "7046bdfc",
   "metadata": {},
   "source": [
    "Проверим результат."
   ]
  },
  {
   "cell_type": "code",
   "execution_count": 47,
   "id": "09f915e9",
   "metadata": {},
   "outputs": [
    {
     "data": {
      "text/plain": [
       "children            0.0\n",
       "days_employed       0.0\n",
       "dob_years           0.0\n",
       "education           0.0\n",
       "education_id        0.0\n",
       "family_status       0.0\n",
       "family_status_id    0.0\n",
       "gender              0.0\n",
       "income_type         0.0\n",
       "debt                0.0\n",
       "total_income        0.0\n",
       "purpose             0.0\n",
       "dtype: float64"
      ]
     },
     "execution_count": 47,
     "metadata": {},
     "output_type": "execute_result"
    }
   ],
   "source": [
    "# доля пропусков в процентах\n",
    "df.isna().mean() * 100 "
   ]
  },
  {
   "cell_type": "code",
   "execution_count": 48,
   "id": "edfa388a",
   "metadata": {},
   "outputs": [
    {
     "data": {
      "text/html": [
       "<div>\n",
       "<style scoped>\n",
       "    .dataframe tbody tr th:only-of-type {\n",
       "        vertical-align: middle;\n",
       "    }\n",
       "\n",
       "    .dataframe tbody tr th {\n",
       "        vertical-align: top;\n",
       "    }\n",
       "\n",
       "    .dataframe thead th {\n",
       "        text-align: right;\n",
       "    }\n",
       "</style>\n",
       "<table border=\"1\" class=\"dataframe\">\n",
       "  <thead>\n",
       "    <tr style=\"text-align: right;\">\n",
       "      <th></th>\n",
       "      <th>income_type</th>\n",
       "      <th>days_employed</th>\n",
       "      <th>total_income</th>\n",
       "    </tr>\n",
       "    <tr>\n",
       "      <th>index</th>\n",
       "      <th></th>\n",
       "      <th></th>\n",
       "      <th></th>\n",
       "    </tr>\n",
       "  </thead>\n",
       "  <tbody>\n",
       "    <tr>\n",
       "      <td>12</td>\n",
       "      <td>пенсионер</td>\n",
       "      <td>15217.221094</td>\n",
       "      <td>118514.486412</td>\n",
       "    </tr>\n",
       "    <tr>\n",
       "      <td>26</td>\n",
       "      <td>госслужащий</td>\n",
       "      <td>2689.368353</td>\n",
       "      <td>150447.935283</td>\n",
       "    </tr>\n",
       "    <tr>\n",
       "      <td>29</td>\n",
       "      <td>пенсионер</td>\n",
       "      <td>15217.221094</td>\n",
       "      <td>118514.486412</td>\n",
       "    </tr>\n",
       "    <tr>\n",
       "      <td>41</td>\n",
       "      <td>госслужащий</td>\n",
       "      <td>2689.368353</td>\n",
       "      <td>150447.935283</td>\n",
       "    </tr>\n",
       "    <tr>\n",
       "      <td>55</td>\n",
       "      <td>пенсионер</td>\n",
       "      <td>15217.221094</td>\n",
       "      <td>118514.486412</td>\n",
       "    </tr>\n",
       "    <tr>\n",
       "      <td>...</td>\n",
       "      <td>...</td>\n",
       "      <td>...</td>\n",
       "      <td>...</td>\n",
       "    </tr>\n",
       "    <tr>\n",
       "      <td>21489</td>\n",
       "      <td>компаньон</td>\n",
       "      <td>1547.382223</td>\n",
       "      <td>172357.950966</td>\n",
       "    </tr>\n",
       "    <tr>\n",
       "      <td>21495</td>\n",
       "      <td>сотрудник</td>\n",
       "      <td>1574.202821</td>\n",
       "      <td>142594.396847</td>\n",
       "    </tr>\n",
       "    <tr>\n",
       "      <td>21497</td>\n",
       "      <td>компаньон</td>\n",
       "      <td>1547.382223</td>\n",
       "      <td>172357.950966</td>\n",
       "    </tr>\n",
       "    <tr>\n",
       "      <td>21502</td>\n",
       "      <td>сотрудник</td>\n",
       "      <td>1574.202821</td>\n",
       "      <td>142594.396847</td>\n",
       "    </tr>\n",
       "    <tr>\n",
       "      <td>21510</td>\n",
       "      <td>сотрудник</td>\n",
       "      <td>1574.202821</td>\n",
       "      <td>142594.396847</td>\n",
       "    </tr>\n",
       "  </tbody>\n",
       "</table>\n",
       "<p>2174 rows × 3 columns</p>\n",
       "</div>"
      ],
      "text/plain": [
       "       income_type  days_employed   total_income\n",
       "index                                           \n",
       "12       пенсионер   15217.221094  118514.486412\n",
       "26     госслужащий    2689.368353  150447.935283\n",
       "29       пенсионер   15217.221094  118514.486412\n",
       "41     госслужащий    2689.368353  150447.935283\n",
       "55       пенсионер   15217.221094  118514.486412\n",
       "...            ...            ...            ...\n",
       "21489    компаньон    1547.382223  172357.950966\n",
       "21495    сотрудник    1574.202821  142594.396847\n",
       "21497    компаньон    1547.382223  172357.950966\n",
       "21502    сотрудник    1574.202821  142594.396847\n",
       "21510    сотрудник    1574.202821  142594.396847\n",
       "\n",
       "[2174 rows x 3 columns]"
      ]
     },
     "execution_count": 48,
     "metadata": {},
     "output_type": "execute_result"
    }
   ],
   "source": [
    "# значения на месте пропущенных\n",
    "df.loc[df_na.index, ['income_type', 'days_employed', 'total_income']] "
   ]
  },
  {
   "cell_type": "markdown",
   "id": "0a1bc2d3",
   "metadata": {},
   "source": [
    "Пропуски успешно заменены медианными значениями по соответствующему типу занятости."
   ]
  },
  {
   "cell_type": "markdown",
   "id": "7861b213",
   "metadata": {},
   "source": [
    "### Изменение типов данных"
   ]
  },
  {
   "cell_type": "markdown",
   "id": "5c527305",
   "metadata": {},
   "source": [
    "Заменим типы столбцов `days_employed` и `total_income` на int, т.к. знаки после запятой в них вряд ли когда-то кому-то потребуются, а память не резиновая да и, вообще, производительность."
   ]
  },
  {
   "cell_type": "code",
   "execution_count": 49,
   "id": "b5e3f732",
   "metadata": {},
   "outputs": [],
   "source": [
    "df['days_employed'] = df['days_employed'].astype('int')\n",
    "df['total_income'] = df['total_income'].astype('int')"
   ]
  },
  {
   "cell_type": "code",
   "execution_count": 50,
   "id": "2cf147da",
   "metadata": {},
   "outputs": [
    {
     "data": {
      "text/html": [
       "<div>\n",
       "<style scoped>\n",
       "    .dataframe tbody tr th:only-of-type {\n",
       "        vertical-align: middle;\n",
       "    }\n",
       "\n",
       "    .dataframe tbody tr th {\n",
       "        vertical-align: top;\n",
       "    }\n",
       "\n",
       "    .dataframe thead th {\n",
       "        text-align: right;\n",
       "    }\n",
       "</style>\n",
       "<table border=\"1\" class=\"dataframe\">\n",
       "  <thead>\n",
       "    <tr style=\"text-align: right;\">\n",
       "      <th></th>\n",
       "      <th>children</th>\n",
       "      <th>days_employed</th>\n",
       "      <th>dob_years</th>\n",
       "      <th>education</th>\n",
       "      <th>education_id</th>\n",
       "      <th>family_status</th>\n",
       "      <th>family_status_id</th>\n",
       "      <th>gender</th>\n",
       "      <th>income_type</th>\n",
       "      <th>debt</th>\n",
       "      <th>total_income</th>\n",
       "      <th>purpose</th>\n",
       "    </tr>\n",
       "  </thead>\n",
       "  <tbody>\n",
       "    <tr>\n",
       "      <td>0</td>\n",
       "      <td>1</td>\n",
       "      <td>8437</td>\n",
       "      <td>42</td>\n",
       "      <td>высшее</td>\n",
       "      <td>0</td>\n",
       "      <td>женат / замужем</td>\n",
       "      <td>0</td>\n",
       "      <td>F</td>\n",
       "      <td>сотрудник</td>\n",
       "      <td>0</td>\n",
       "      <td>253875</td>\n",
       "      <td>покупка жилья</td>\n",
       "    </tr>\n",
       "    <tr>\n",
       "      <td>1</td>\n",
       "      <td>1</td>\n",
       "      <td>4024</td>\n",
       "      <td>36</td>\n",
       "      <td>среднее</td>\n",
       "      <td>1</td>\n",
       "      <td>женат / замужем</td>\n",
       "      <td>0</td>\n",
       "      <td>F</td>\n",
       "      <td>сотрудник</td>\n",
       "      <td>0</td>\n",
       "      <td>112080</td>\n",
       "      <td>приобретение автомобиля</td>\n",
       "    </tr>\n",
       "    <tr>\n",
       "      <td>2</td>\n",
       "      <td>0</td>\n",
       "      <td>5623</td>\n",
       "      <td>33</td>\n",
       "      <td>Среднее</td>\n",
       "      <td>1</td>\n",
       "      <td>женат / замужем</td>\n",
       "      <td>0</td>\n",
       "      <td>M</td>\n",
       "      <td>сотрудник</td>\n",
       "      <td>0</td>\n",
       "      <td>145885</td>\n",
       "      <td>покупка жилья</td>\n",
       "    </tr>\n",
       "    <tr>\n",
       "      <td>3</td>\n",
       "      <td>3</td>\n",
       "      <td>4124</td>\n",
       "      <td>32</td>\n",
       "      <td>среднее</td>\n",
       "      <td>1</td>\n",
       "      <td>женат / замужем</td>\n",
       "      <td>0</td>\n",
       "      <td>M</td>\n",
       "      <td>сотрудник</td>\n",
       "      <td>0</td>\n",
       "      <td>267628</td>\n",
       "      <td>дополнительное образование</td>\n",
       "    </tr>\n",
       "    <tr>\n",
       "      <td>4</td>\n",
       "      <td>0</td>\n",
       "      <td>14177</td>\n",
       "      <td>53</td>\n",
       "      <td>среднее</td>\n",
       "      <td>1</td>\n",
       "      <td>гражданский брак</td>\n",
       "      <td>1</td>\n",
       "      <td>F</td>\n",
       "      <td>пенсионер</td>\n",
       "      <td>0</td>\n",
       "      <td>158616</td>\n",
       "      <td>сыграть свадьбу</td>\n",
       "    </tr>\n",
       "    <tr>\n",
       "      <td>...</td>\n",
       "      <td>...</td>\n",
       "      <td>...</td>\n",
       "      <td>...</td>\n",
       "      <td>...</td>\n",
       "      <td>...</td>\n",
       "      <td>...</td>\n",
       "      <td>...</td>\n",
       "      <td>...</td>\n",
       "      <td>...</td>\n",
       "      <td>...</td>\n",
       "      <td>...</td>\n",
       "      <td>...</td>\n",
       "    </tr>\n",
       "    <tr>\n",
       "      <td>21520</td>\n",
       "      <td>1</td>\n",
       "      <td>4529</td>\n",
       "      <td>43</td>\n",
       "      <td>среднее</td>\n",
       "      <td>1</td>\n",
       "      <td>гражданский брак</td>\n",
       "      <td>1</td>\n",
       "      <td>F</td>\n",
       "      <td>компаньон</td>\n",
       "      <td>0</td>\n",
       "      <td>224791</td>\n",
       "      <td>операции с жильем</td>\n",
       "    </tr>\n",
       "    <tr>\n",
       "      <td>21521</td>\n",
       "      <td>0</td>\n",
       "      <td>14330</td>\n",
       "      <td>67</td>\n",
       "      <td>среднее</td>\n",
       "      <td>1</td>\n",
       "      <td>женат / замужем</td>\n",
       "      <td>0</td>\n",
       "      <td>F</td>\n",
       "      <td>пенсионер</td>\n",
       "      <td>0</td>\n",
       "      <td>155999</td>\n",
       "      <td>сделка с автомобилем</td>\n",
       "    </tr>\n",
       "    <tr>\n",
       "      <td>21522</td>\n",
       "      <td>1</td>\n",
       "      <td>2113</td>\n",
       "      <td>38</td>\n",
       "      <td>среднее</td>\n",
       "      <td>1</td>\n",
       "      <td>гражданский брак</td>\n",
       "      <td>1</td>\n",
       "      <td>M</td>\n",
       "      <td>сотрудник</td>\n",
       "      <td>1</td>\n",
       "      <td>89672</td>\n",
       "      <td>недвижимость</td>\n",
       "    </tr>\n",
       "    <tr>\n",
       "      <td>21523</td>\n",
       "      <td>3</td>\n",
       "      <td>3112</td>\n",
       "      <td>38</td>\n",
       "      <td>среднее</td>\n",
       "      <td>1</td>\n",
       "      <td>женат / замужем</td>\n",
       "      <td>0</td>\n",
       "      <td>M</td>\n",
       "      <td>сотрудник</td>\n",
       "      <td>1</td>\n",
       "      <td>244093</td>\n",
       "      <td>на покупку своего автомобиля</td>\n",
       "    </tr>\n",
       "    <tr>\n",
       "      <td>21524</td>\n",
       "      <td>2</td>\n",
       "      <td>1984</td>\n",
       "      <td>40</td>\n",
       "      <td>среднее</td>\n",
       "      <td>1</td>\n",
       "      <td>женат / замужем</td>\n",
       "      <td>0</td>\n",
       "      <td>F</td>\n",
       "      <td>сотрудник</td>\n",
       "      <td>0</td>\n",
       "      <td>82047</td>\n",
       "      <td>на покупку автомобиля</td>\n",
       "    </tr>\n",
       "  </tbody>\n",
       "</table>\n",
       "<p>21525 rows × 12 columns</p>\n",
       "</div>"
      ],
      "text/plain": [
       "       children  days_employed  dob_years education  education_id  \\\n",
       "0             1           8437         42    высшее             0   \n",
       "1             1           4024         36   среднее             1   \n",
       "2             0           5623         33   Среднее             1   \n",
       "3             3           4124         32   среднее             1   \n",
       "4             0          14177         53   среднее             1   \n",
       "...         ...            ...        ...       ...           ...   \n",
       "21520         1           4529         43   среднее             1   \n",
       "21521         0          14330         67   среднее             1   \n",
       "21522         1           2113         38   среднее             1   \n",
       "21523         3           3112         38   среднее             1   \n",
       "21524         2           1984         40   среднее             1   \n",
       "\n",
       "          family_status  family_status_id gender income_type  debt  \\\n",
       "0       женат / замужем                 0      F   сотрудник     0   \n",
       "1       женат / замужем                 0      F   сотрудник     0   \n",
       "2       женат / замужем                 0      M   сотрудник     0   \n",
       "3       женат / замужем                 0      M   сотрудник     0   \n",
       "4      гражданский брак                 1      F   пенсионер     0   \n",
       "...                 ...               ...    ...         ...   ...   \n",
       "21520  гражданский брак                 1      F   компаньон     0   \n",
       "21521   женат / замужем                 0      F   пенсионер     0   \n",
       "21522  гражданский брак                 1      M   сотрудник     1   \n",
       "21523   женат / замужем                 0      M   сотрудник     1   \n",
       "21524   женат / замужем                 0      F   сотрудник     0   \n",
       "\n",
       "       total_income                       purpose  \n",
       "0            253875                 покупка жилья  \n",
       "1            112080       приобретение автомобиля  \n",
       "2            145885                 покупка жилья  \n",
       "3            267628    дополнительное образование  \n",
       "4            158616               сыграть свадьбу  \n",
       "...             ...                           ...  \n",
       "21520        224791             операции с жильем  \n",
       "21521        155999          сделка с автомобилем  \n",
       "21522         89672                  недвижимость  \n",
       "21523        244093  на покупку своего автомобиля  \n",
       "21524         82047         на покупку автомобиля  \n",
       "\n",
       "[21525 rows x 12 columns]"
      ]
     },
     "execution_count": 50,
     "metadata": {},
     "output_type": "execute_result"
    }
   ],
   "source": [
    "df"
   ]
  },
  {
   "cell_type": "markdown",
   "id": "db8368be",
   "metadata": {},
   "source": [
    "Посмотрим еще раз на типы данных в столбцах."
   ]
  },
  {
   "cell_type": "code",
   "execution_count": 51,
   "id": "84084657",
   "metadata": {},
   "outputs": [
    {
     "name": "stdout",
     "output_type": "stream",
     "text": [
      "<class 'pandas.core.frame.DataFrame'>\n",
      "RangeIndex: 21525 entries, 0 to 21524\n",
      "Data columns (total 12 columns):\n",
      "children            21525 non-null int64\n",
      "days_employed       21525 non-null int64\n",
      "dob_years           21525 non-null int64\n",
      "education           21525 non-null object\n",
      "education_id        21525 non-null int64\n",
      "family_status       21525 non-null object\n",
      "family_status_id    21525 non-null int64\n",
      "gender              21525 non-null object\n",
      "income_type         21525 non-null object\n",
      "debt                21525 non-null int64\n",
      "total_income        21525 non-null int64\n",
      "purpose             21525 non-null object\n",
      "dtypes: int64(7), object(5)\n",
      "memory usage: 2.0+ MB\n"
     ]
    }
   ],
   "source": [
    "df.info()"
   ]
  },
  {
   "cell_type": "markdown",
   "id": "c5e7eac2",
   "metadata": {},
   "source": [
    "Для всех числовых столбцов теперь используется подтип данных `int64`, для всех строковых – тип `object`. Числа в столбцах не настолько большие, чтобы выделять под каждое 8 байт, а строковые столбцы на самом деле содержат категориальные данные с небольшими словарями. Поэтому для экономии памяти и повышения производительности поменяем типы столбцов на более экономичные."
   ]
  },
  {
   "cell_type": "code",
   "execution_count": 52,
   "id": "5faa2c28",
   "metadata": {},
   "outputs": [],
   "source": [
    "# даункастим числа до минимально допустимого целого подтипа\n",
    "df_int = df.select_dtypes(include='int').apply(pd.to_numeric, downcast='signed') \n",
    "df_int = df_int.apply(pd.to_numeric, downcast='unsigned') "
   ]
  },
  {
   "cell_type": "code",
   "execution_count": 53,
   "id": "df8267c3",
   "metadata": {},
   "outputs": [],
   "source": [
    "# преобразуем строковые столбцы в категориальные\n",
    "df_object = df.select_dtypes(include='object').apply(pd.DataFrame.astype, \n",
    "                                                     dtype='category')"
   ]
  },
  {
   "cell_type": "code",
   "execution_count": 54,
   "id": "05f19c4c",
   "metadata": {},
   "outputs": [],
   "source": [
    "# перезаписываем исходный датафрейм\n",
    "df[df_int.columns] = df_int\n",
    "df[df_object.columns] = df_object"
   ]
  },
  {
   "cell_type": "code",
   "execution_count": 55,
   "id": "583c0f54",
   "metadata": {},
   "outputs": [
    {
     "name": "stdout",
     "output_type": "stream",
     "text": [
      "<class 'pandas.core.frame.DataFrame'>\n",
      "RangeIndex: 21525 entries, 0 to 21524\n",
      "Data columns (total 12 columns):\n",
      "children            21525 non-null int8\n",
      "days_employed       21525 non-null uint16\n",
      "dob_years           21525 non-null uint8\n",
      "education           21525 non-null category\n",
      "education_id        21525 non-null uint8\n",
      "family_status       21525 non-null category\n",
      "family_status_id    21525 non-null uint8\n",
      "gender              21525 non-null category\n",
      "income_type         21525 non-null category\n",
      "debt                21525 non-null uint8\n",
      "total_income        21525 non-null uint32\n",
      "purpose             21525 non-null category\n",
      "dtypes: category(5), int8(1), uint16(1), uint32(1), uint8(4)\n",
      "memory usage: 339.4 KB\n"
     ]
    }
   ],
   "source": [
    "# проверяем\n",
    "df.info()"
   ]
  },
  {
   "cell_type": "code",
   "execution_count": 56,
   "id": "249ff9b3",
   "metadata": {},
   "outputs": [
    {
     "data": {
      "text/html": [
       "<div>\n",
       "<style scoped>\n",
       "    .dataframe tbody tr th:only-of-type {\n",
       "        vertical-align: middle;\n",
       "    }\n",
       "\n",
       "    .dataframe tbody tr th {\n",
       "        vertical-align: top;\n",
       "    }\n",
       "\n",
       "    .dataframe thead th {\n",
       "        text-align: right;\n",
       "    }\n",
       "</style>\n",
       "<table border=\"1\" class=\"dataframe\">\n",
       "  <thead>\n",
       "    <tr style=\"text-align: right;\">\n",
       "      <th></th>\n",
       "      <th>children</th>\n",
       "      <th>days_employed</th>\n",
       "      <th>dob_years</th>\n",
       "      <th>education</th>\n",
       "      <th>education_id</th>\n",
       "      <th>family_status</th>\n",
       "      <th>family_status_id</th>\n",
       "      <th>gender</th>\n",
       "      <th>income_type</th>\n",
       "      <th>debt</th>\n",
       "      <th>total_income</th>\n",
       "      <th>purpose</th>\n",
       "    </tr>\n",
       "  </thead>\n",
       "  <tbody>\n",
       "    <tr>\n",
       "      <td>0</td>\n",
       "      <td>1</td>\n",
       "      <td>8437</td>\n",
       "      <td>42</td>\n",
       "      <td>высшее</td>\n",
       "      <td>0</td>\n",
       "      <td>женат / замужем</td>\n",
       "      <td>0</td>\n",
       "      <td>F</td>\n",
       "      <td>сотрудник</td>\n",
       "      <td>0</td>\n",
       "      <td>253875</td>\n",
       "      <td>покупка жилья</td>\n",
       "    </tr>\n",
       "    <tr>\n",
       "      <td>1</td>\n",
       "      <td>1</td>\n",
       "      <td>4024</td>\n",
       "      <td>36</td>\n",
       "      <td>среднее</td>\n",
       "      <td>1</td>\n",
       "      <td>женат / замужем</td>\n",
       "      <td>0</td>\n",
       "      <td>F</td>\n",
       "      <td>сотрудник</td>\n",
       "      <td>0</td>\n",
       "      <td>112080</td>\n",
       "      <td>приобретение автомобиля</td>\n",
       "    </tr>\n",
       "    <tr>\n",
       "      <td>2</td>\n",
       "      <td>0</td>\n",
       "      <td>5623</td>\n",
       "      <td>33</td>\n",
       "      <td>Среднее</td>\n",
       "      <td>1</td>\n",
       "      <td>женат / замужем</td>\n",
       "      <td>0</td>\n",
       "      <td>M</td>\n",
       "      <td>сотрудник</td>\n",
       "      <td>0</td>\n",
       "      <td>145885</td>\n",
       "      <td>покупка жилья</td>\n",
       "    </tr>\n",
       "    <tr>\n",
       "      <td>3</td>\n",
       "      <td>3</td>\n",
       "      <td>4124</td>\n",
       "      <td>32</td>\n",
       "      <td>среднее</td>\n",
       "      <td>1</td>\n",
       "      <td>женат / замужем</td>\n",
       "      <td>0</td>\n",
       "      <td>M</td>\n",
       "      <td>сотрудник</td>\n",
       "      <td>0</td>\n",
       "      <td>267628</td>\n",
       "      <td>дополнительное образование</td>\n",
       "    </tr>\n",
       "    <tr>\n",
       "      <td>4</td>\n",
       "      <td>0</td>\n",
       "      <td>14177</td>\n",
       "      <td>53</td>\n",
       "      <td>среднее</td>\n",
       "      <td>1</td>\n",
       "      <td>гражданский брак</td>\n",
       "      <td>1</td>\n",
       "      <td>F</td>\n",
       "      <td>пенсионер</td>\n",
       "      <td>0</td>\n",
       "      <td>158616</td>\n",
       "      <td>сыграть свадьбу</td>\n",
       "    </tr>\n",
       "    <tr>\n",
       "      <td>...</td>\n",
       "      <td>...</td>\n",
       "      <td>...</td>\n",
       "      <td>...</td>\n",
       "      <td>...</td>\n",
       "      <td>...</td>\n",
       "      <td>...</td>\n",
       "      <td>...</td>\n",
       "      <td>...</td>\n",
       "      <td>...</td>\n",
       "      <td>...</td>\n",
       "      <td>...</td>\n",
       "      <td>...</td>\n",
       "    </tr>\n",
       "    <tr>\n",
       "      <td>21520</td>\n",
       "      <td>1</td>\n",
       "      <td>4529</td>\n",
       "      <td>43</td>\n",
       "      <td>среднее</td>\n",
       "      <td>1</td>\n",
       "      <td>гражданский брак</td>\n",
       "      <td>1</td>\n",
       "      <td>F</td>\n",
       "      <td>компаньон</td>\n",
       "      <td>0</td>\n",
       "      <td>224791</td>\n",
       "      <td>операции с жильем</td>\n",
       "    </tr>\n",
       "    <tr>\n",
       "      <td>21521</td>\n",
       "      <td>0</td>\n",
       "      <td>14330</td>\n",
       "      <td>67</td>\n",
       "      <td>среднее</td>\n",
       "      <td>1</td>\n",
       "      <td>женат / замужем</td>\n",
       "      <td>0</td>\n",
       "      <td>F</td>\n",
       "      <td>пенсионер</td>\n",
       "      <td>0</td>\n",
       "      <td>155999</td>\n",
       "      <td>сделка с автомобилем</td>\n",
       "    </tr>\n",
       "    <tr>\n",
       "      <td>21522</td>\n",
       "      <td>1</td>\n",
       "      <td>2113</td>\n",
       "      <td>38</td>\n",
       "      <td>среднее</td>\n",
       "      <td>1</td>\n",
       "      <td>гражданский брак</td>\n",
       "      <td>1</td>\n",
       "      <td>M</td>\n",
       "      <td>сотрудник</td>\n",
       "      <td>1</td>\n",
       "      <td>89672</td>\n",
       "      <td>недвижимость</td>\n",
       "    </tr>\n",
       "    <tr>\n",
       "      <td>21523</td>\n",
       "      <td>3</td>\n",
       "      <td>3112</td>\n",
       "      <td>38</td>\n",
       "      <td>среднее</td>\n",
       "      <td>1</td>\n",
       "      <td>женат / замужем</td>\n",
       "      <td>0</td>\n",
       "      <td>M</td>\n",
       "      <td>сотрудник</td>\n",
       "      <td>1</td>\n",
       "      <td>244093</td>\n",
       "      <td>на покупку своего автомобиля</td>\n",
       "    </tr>\n",
       "    <tr>\n",
       "      <td>21524</td>\n",
       "      <td>2</td>\n",
       "      <td>1984</td>\n",
       "      <td>40</td>\n",
       "      <td>среднее</td>\n",
       "      <td>1</td>\n",
       "      <td>женат / замужем</td>\n",
       "      <td>0</td>\n",
       "      <td>F</td>\n",
       "      <td>сотрудник</td>\n",
       "      <td>0</td>\n",
       "      <td>82047</td>\n",
       "      <td>на покупку автомобиля</td>\n",
       "    </tr>\n",
       "  </tbody>\n",
       "</table>\n",
       "<p>21525 rows × 12 columns</p>\n",
       "</div>"
      ],
      "text/plain": [
       "       children  days_employed  dob_years education  education_id  \\\n",
       "0             1           8437         42    высшее             0   \n",
       "1             1           4024         36   среднее             1   \n",
       "2             0           5623         33   Среднее             1   \n",
       "3             3           4124         32   среднее             1   \n",
       "4             0          14177         53   среднее             1   \n",
       "...         ...            ...        ...       ...           ...   \n",
       "21520         1           4529         43   среднее             1   \n",
       "21521         0          14330         67   среднее             1   \n",
       "21522         1           2113         38   среднее             1   \n",
       "21523         3           3112         38   среднее             1   \n",
       "21524         2           1984         40   среднее             1   \n",
       "\n",
       "          family_status  family_status_id gender income_type  debt  \\\n",
       "0       женат / замужем                 0      F   сотрудник     0   \n",
       "1       женат / замужем                 0      F   сотрудник     0   \n",
       "2       женат / замужем                 0      M   сотрудник     0   \n",
       "3       женат / замужем                 0      M   сотрудник     0   \n",
       "4      гражданский брак                 1      F   пенсионер     0   \n",
       "...                 ...               ...    ...         ...   ...   \n",
       "21520  гражданский брак                 1      F   компаньон     0   \n",
       "21521   женат / замужем                 0      F   пенсионер     0   \n",
       "21522  гражданский брак                 1      M   сотрудник     1   \n",
       "21523   женат / замужем                 0      M   сотрудник     1   \n",
       "21524   женат / замужем                 0      F   сотрудник     0   \n",
       "\n",
       "       total_income                       purpose  \n",
       "0            253875                 покупка жилья  \n",
       "1            112080       приобретение автомобиля  \n",
       "2            145885                 покупка жилья  \n",
       "3            267628    дополнительное образование  \n",
       "4            158616               сыграть свадьбу  \n",
       "...             ...                           ...  \n",
       "21520        224791             операции с жильем  \n",
       "21521        155999          сделка с автомобилем  \n",
       "21522         89672                  недвижимость  \n",
       "21523        244093  на покупку своего автомобиля  \n",
       "21524         82047         на покупку автомобиля  \n",
       "\n",
       "[21525 rows x 12 columns]"
      ]
     },
     "execution_count": 56,
     "metadata": {},
     "output_type": "execute_result"
    }
   ],
   "source": [
    "df"
   ]
  },
  {
   "cell_type": "markdown",
   "id": "022f7ce6",
   "metadata": {},
   "source": [
    "Память, занимаемая датафреймом, уменьшилась в 6 раз."
   ]
  },
  {
   "cell_type": "markdown",
   "id": "8d2683ec",
   "metadata": {},
   "source": [
    "### Удаление дубликатов"
   ]
  },
  {
   "cell_type": "markdown",
   "id": "bbd053b6",
   "metadata": {},
   "source": [
    "#### Явные дубликаты"
   ]
  },
  {
   "cell_type": "markdown",
   "id": "d1d92791",
   "metadata": {},
   "source": [
    "Проверим, есть ли в данных строки – полные дубликаты."
   ]
  },
  {
   "cell_type": "code",
   "execution_count": 57,
   "id": "eb1e45a0",
   "metadata": {},
   "outputs": [
    {
     "data": {
      "text/plain": [
       "54"
      ]
     },
     "execution_count": 57,
     "metadata": {},
     "output_type": "execute_result"
    }
   ],
   "source": [
    "df.duplicated().sum()"
   ]
  },
  {
   "cell_type": "markdown",
   "id": "7c9a79e1",
   "metadata": {},
   "source": [
    "Нашлось 54 строки-дубля. Они могли появиться, например, при не совсем корректном (забыли `distinct`) запросе к базе данных, из которой выгружалась информация о клиентах. Удалим их стандартным методом, специально предназначенным для удаления явных дубликатов, не забыв сбросить индекс."
   ]
  },
  {
   "cell_type": "code",
   "execution_count": 58,
   "id": "a56e08bd",
   "metadata": {},
   "outputs": [],
   "source": [
    "# удаляем\n",
    "df = df.drop_duplicates().reset_index(drop=True)"
   ]
  },
  {
   "cell_type": "code",
   "execution_count": 59,
   "id": "d12355c1",
   "metadata": {},
   "outputs": [
    {
     "data": {
      "text/plain": [
       "0"
      ]
     },
     "execution_count": 59,
     "metadata": {},
     "output_type": "execute_result"
    }
   ],
   "source": [
    "# проверяем\n",
    "df.duplicated().sum()"
   ]
  },
  {
   "cell_type": "code",
   "execution_count": 60,
   "id": "24804511",
   "metadata": {},
   "outputs": [
    {
     "data": {
      "text/html": [
       "<div>\n",
       "<style scoped>\n",
       "    .dataframe tbody tr th:only-of-type {\n",
       "        vertical-align: middle;\n",
       "    }\n",
       "\n",
       "    .dataframe tbody tr th {\n",
       "        vertical-align: top;\n",
       "    }\n",
       "\n",
       "    .dataframe thead th {\n",
       "        text-align: right;\n",
       "    }\n",
       "</style>\n",
       "<table border=\"1\" class=\"dataframe\">\n",
       "  <thead>\n",
       "    <tr style=\"text-align: right;\">\n",
       "      <th></th>\n",
       "      <th>children</th>\n",
       "      <th>days_employed</th>\n",
       "      <th>dob_years</th>\n",
       "      <th>education</th>\n",
       "      <th>education_id</th>\n",
       "      <th>family_status</th>\n",
       "      <th>family_status_id</th>\n",
       "      <th>gender</th>\n",
       "      <th>income_type</th>\n",
       "      <th>debt</th>\n",
       "      <th>total_income</th>\n",
       "      <th>purpose</th>\n",
       "    </tr>\n",
       "  </thead>\n",
       "  <tbody>\n",
       "    <tr>\n",
       "      <td>0</td>\n",
       "      <td>1</td>\n",
       "      <td>8437</td>\n",
       "      <td>42</td>\n",
       "      <td>высшее</td>\n",
       "      <td>0</td>\n",
       "      <td>женат / замужем</td>\n",
       "      <td>0</td>\n",
       "      <td>F</td>\n",
       "      <td>сотрудник</td>\n",
       "      <td>0</td>\n",
       "      <td>253875</td>\n",
       "      <td>покупка жилья</td>\n",
       "    </tr>\n",
       "    <tr>\n",
       "      <td>1</td>\n",
       "      <td>1</td>\n",
       "      <td>4024</td>\n",
       "      <td>36</td>\n",
       "      <td>среднее</td>\n",
       "      <td>1</td>\n",
       "      <td>женат / замужем</td>\n",
       "      <td>0</td>\n",
       "      <td>F</td>\n",
       "      <td>сотрудник</td>\n",
       "      <td>0</td>\n",
       "      <td>112080</td>\n",
       "      <td>приобретение автомобиля</td>\n",
       "    </tr>\n",
       "    <tr>\n",
       "      <td>2</td>\n",
       "      <td>0</td>\n",
       "      <td>5623</td>\n",
       "      <td>33</td>\n",
       "      <td>Среднее</td>\n",
       "      <td>1</td>\n",
       "      <td>женат / замужем</td>\n",
       "      <td>0</td>\n",
       "      <td>M</td>\n",
       "      <td>сотрудник</td>\n",
       "      <td>0</td>\n",
       "      <td>145885</td>\n",
       "      <td>покупка жилья</td>\n",
       "    </tr>\n",
       "    <tr>\n",
       "      <td>3</td>\n",
       "      <td>3</td>\n",
       "      <td>4124</td>\n",
       "      <td>32</td>\n",
       "      <td>среднее</td>\n",
       "      <td>1</td>\n",
       "      <td>женат / замужем</td>\n",
       "      <td>0</td>\n",
       "      <td>M</td>\n",
       "      <td>сотрудник</td>\n",
       "      <td>0</td>\n",
       "      <td>267628</td>\n",
       "      <td>дополнительное образование</td>\n",
       "    </tr>\n",
       "    <tr>\n",
       "      <td>4</td>\n",
       "      <td>0</td>\n",
       "      <td>14177</td>\n",
       "      <td>53</td>\n",
       "      <td>среднее</td>\n",
       "      <td>1</td>\n",
       "      <td>гражданский брак</td>\n",
       "      <td>1</td>\n",
       "      <td>F</td>\n",
       "      <td>пенсионер</td>\n",
       "      <td>0</td>\n",
       "      <td>158616</td>\n",
       "      <td>сыграть свадьбу</td>\n",
       "    </tr>\n",
       "    <tr>\n",
       "      <td>...</td>\n",
       "      <td>...</td>\n",
       "      <td>...</td>\n",
       "      <td>...</td>\n",
       "      <td>...</td>\n",
       "      <td>...</td>\n",
       "      <td>...</td>\n",
       "      <td>...</td>\n",
       "      <td>...</td>\n",
       "      <td>...</td>\n",
       "      <td>...</td>\n",
       "      <td>...</td>\n",
       "      <td>...</td>\n",
       "    </tr>\n",
       "    <tr>\n",
       "      <td>21466</td>\n",
       "      <td>1</td>\n",
       "      <td>4529</td>\n",
       "      <td>43</td>\n",
       "      <td>среднее</td>\n",
       "      <td>1</td>\n",
       "      <td>гражданский брак</td>\n",
       "      <td>1</td>\n",
       "      <td>F</td>\n",
       "      <td>компаньон</td>\n",
       "      <td>0</td>\n",
       "      <td>224791</td>\n",
       "      <td>операции с жильем</td>\n",
       "    </tr>\n",
       "    <tr>\n",
       "      <td>21467</td>\n",
       "      <td>0</td>\n",
       "      <td>14330</td>\n",
       "      <td>67</td>\n",
       "      <td>среднее</td>\n",
       "      <td>1</td>\n",
       "      <td>женат / замужем</td>\n",
       "      <td>0</td>\n",
       "      <td>F</td>\n",
       "      <td>пенсионер</td>\n",
       "      <td>0</td>\n",
       "      <td>155999</td>\n",
       "      <td>сделка с автомобилем</td>\n",
       "    </tr>\n",
       "    <tr>\n",
       "      <td>21468</td>\n",
       "      <td>1</td>\n",
       "      <td>2113</td>\n",
       "      <td>38</td>\n",
       "      <td>среднее</td>\n",
       "      <td>1</td>\n",
       "      <td>гражданский брак</td>\n",
       "      <td>1</td>\n",
       "      <td>M</td>\n",
       "      <td>сотрудник</td>\n",
       "      <td>1</td>\n",
       "      <td>89672</td>\n",
       "      <td>недвижимость</td>\n",
       "    </tr>\n",
       "    <tr>\n",
       "      <td>21469</td>\n",
       "      <td>3</td>\n",
       "      <td>3112</td>\n",
       "      <td>38</td>\n",
       "      <td>среднее</td>\n",
       "      <td>1</td>\n",
       "      <td>женат / замужем</td>\n",
       "      <td>0</td>\n",
       "      <td>M</td>\n",
       "      <td>сотрудник</td>\n",
       "      <td>1</td>\n",
       "      <td>244093</td>\n",
       "      <td>на покупку своего автомобиля</td>\n",
       "    </tr>\n",
       "    <tr>\n",
       "      <td>21470</td>\n",
       "      <td>2</td>\n",
       "      <td>1984</td>\n",
       "      <td>40</td>\n",
       "      <td>среднее</td>\n",
       "      <td>1</td>\n",
       "      <td>женат / замужем</td>\n",
       "      <td>0</td>\n",
       "      <td>F</td>\n",
       "      <td>сотрудник</td>\n",
       "      <td>0</td>\n",
       "      <td>82047</td>\n",
       "      <td>на покупку автомобиля</td>\n",
       "    </tr>\n",
       "  </tbody>\n",
       "</table>\n",
       "<p>21471 rows × 12 columns</p>\n",
       "</div>"
      ],
      "text/plain": [
       "       children  days_employed  dob_years education  education_id  \\\n",
       "0             1           8437         42    высшее             0   \n",
       "1             1           4024         36   среднее             1   \n",
       "2             0           5623         33   Среднее             1   \n",
       "3             3           4124         32   среднее             1   \n",
       "4             0          14177         53   среднее             1   \n",
       "...         ...            ...        ...       ...           ...   \n",
       "21466         1           4529         43   среднее             1   \n",
       "21467         0          14330         67   среднее             1   \n",
       "21468         1           2113         38   среднее             1   \n",
       "21469         3           3112         38   среднее             1   \n",
       "21470         2           1984         40   среднее             1   \n",
       "\n",
       "          family_status  family_status_id gender income_type  debt  \\\n",
       "0       женат / замужем                 0      F   сотрудник     0   \n",
       "1       женат / замужем                 0      F   сотрудник     0   \n",
       "2       женат / замужем                 0      M   сотрудник     0   \n",
       "3       женат / замужем                 0      M   сотрудник     0   \n",
       "4      гражданский брак                 1      F   пенсионер     0   \n",
       "...                 ...               ...    ...         ...   ...   \n",
       "21466  гражданский брак                 1      F   компаньон     0   \n",
       "21467   женат / замужем                 0      F   пенсионер     0   \n",
       "21468  гражданский брак                 1      M   сотрудник     1   \n",
       "21469   женат / замужем                 0      M   сотрудник     1   \n",
       "21470   женат / замужем                 0      F   сотрудник     0   \n",
       "\n",
       "       total_income                       purpose  \n",
       "0            253875                 покупка жилья  \n",
       "1            112080       приобретение автомобиля  \n",
       "2            145885                 покупка жилья  \n",
       "3            267628    дополнительное образование  \n",
       "4            158616               сыграть свадьбу  \n",
       "...             ...                           ...  \n",
       "21466        224791             операции с жильем  \n",
       "21467        155999          сделка с автомобилем  \n",
       "21468         89672                  недвижимость  \n",
       "21469        244093  на покупку своего автомобиля  \n",
       "21470         82047         на покупку автомобиля  \n",
       "\n",
       "[21471 rows x 12 columns]"
      ]
     },
     "execution_count": 60,
     "metadata": {},
     "output_type": "execute_result"
    }
   ],
   "source": [
    "df"
   ]
  },
  {
   "cell_type": "markdown",
   "id": "c94a0cdf",
   "metadata": {},
   "source": [
    "#### Неявные дубликаты"
   ]
  },
  {
   "cell_type": "markdown",
   "id": "652bfec5",
   "metadata": {},
   "source": [
    "В столбце `education`, как мы помним, есть неявные дубли из-за разного регистра написания. Каждое значение повторяется три раза: все буквы прописные, первая буква прописная, все буквы строчные. При этом `id` в столбце `education_id` проставлен корректно, без учета регистра в написании `education`."
   ]
  },
  {
   "cell_type": "code",
   "execution_count": 61,
   "id": "c2efbad6",
   "metadata": {},
   "outputs": [
    {
     "data": {
      "text/plain": [
       "education_id  education          \n",
       "0             ВЫСШЕЕ                   273\n",
       "              Высшее                   268\n",
       "              высшее                  4710\n",
       "1             СРЕДНЕЕ                  772\n",
       "              Среднее                  711\n",
       "              среднее                13705\n",
       "2             НЕОКОНЧЕННОЕ ВЫСШЕЕ       29\n",
       "              Неоконченное высшее       47\n",
       "              неоконченное высшее      668\n",
       "3             НАЧАЛЬНОЕ                 17\n",
       "              Начальное                 15\n",
       "              начальное                250\n",
       "4             УЧЕНАЯ СТЕПЕНЬ             1\n",
       "              Ученая степень             1\n",
       "              ученая степень             4\n",
       "Name: children, dtype: int64"
      ]
     },
     "execution_count": 61,
     "metadata": {},
     "output_type": "execute_result"
    }
   ],
   "source": [
    "df.groupby(['education_id', 'education'])['children'].count().sort_index()"
   ]
  },
  {
   "cell_type": "markdown",
   "id": "7d42b3aa",
   "metadata": {},
   "source": [
    "Такие «недодубли» могли появиться при объединении информации о клиентах из трех разных источников, у которых тем не менее был синхронизирован `id` в словарях `education`.\n",
    "\n",
    "Устраним дубликаты, приведя столбец `education` к нижнему регистру специальной строковой функцией."
   ]
  },
  {
   "cell_type": "code",
   "execution_count": 62,
   "id": "18e02771",
   "metadata": {},
   "outputs": [],
   "source": [
    "df['education'] = df['education'].str.lower()"
   ]
  },
  {
   "cell_type": "code",
   "execution_count": 63,
   "id": "d6eb984d",
   "metadata": {},
   "outputs": [
    {
     "data": {
      "text/plain": [
       "среднее                15188\n",
       "высшее                  5251\n",
       "неоконченное высшее      744\n",
       "начальное                282\n",
       "ученая степень             6\n",
       "Name: education, dtype: int64"
      ]
     },
     "execution_count": 63,
     "metadata": {},
     "output_type": "execute_result"
    }
   ],
   "source": [
    "df['education'].value_counts()"
   ]
  },
  {
   "cell_type": "markdown",
   "id": "8a25e0e4",
   "metadata": {},
   "source": [
    "Вернем столбцу тип `category`."
   ]
  },
  {
   "cell_type": "code",
   "execution_count": 64,
   "id": "4a1dcba7",
   "metadata": {},
   "outputs": [],
   "source": [
    "df['education'] = df['education'].astype('category')"
   ]
  },
  {
   "cell_type": "code",
   "execution_count": 65,
   "id": "b12539c9",
   "metadata": {
    "scrolled": true
   },
   "outputs": [
    {
     "data": {
      "text/plain": [
       "0         высшее\n",
       "1        среднее\n",
       "2        среднее\n",
       "3        среднее\n",
       "4        среднее\n",
       "          ...   \n",
       "21466    среднее\n",
       "21467    среднее\n",
       "21468    среднее\n",
       "21469    среднее\n",
       "21470    среднее\n",
       "Name: education, Length: 21471, dtype: category\n",
       "Categories (5, object): [высшее, начальное, неоконченное высшее, среднее, ученая степень]"
      ]
     },
     "execution_count": 65,
     "metadata": {},
     "output_type": "execute_result"
    }
   ],
   "source": [
    "df['education']"
   ]
  },
  {
   "cell_type": "markdown",
   "id": "9d5362eb",
   "metadata": {},
   "source": [
    "Посмотрим, как теперь выглядит связка `education_id`–`education`."
   ]
  },
  {
   "cell_type": "code",
   "execution_count": 66,
   "id": "1eca7ec0",
   "metadata": {},
   "outputs": [
    {
     "data": {
      "text/plain": [
       "education_id  education          \n",
       "0             высшее                  5251\n",
       "1             среднее                15188\n",
       "2             неоконченное высшее      744\n",
       "3             начальное                282\n",
       "4             ученая степень             6\n",
       "Name: children, dtype: int64"
      ]
     },
     "execution_count": 66,
     "metadata": {},
     "output_type": "execute_result"
    }
   ],
   "source": [
    "df.groupby(['education_id', 'education'])['children'].count().sort_index()"
   ]
  },
  {
   "cell_type": "markdown",
   "id": "fd5b4c51",
   "metadata": {},
   "source": [
    "### Формирование дополнительных датафреймов словарей, декомпозиция исходного датафрейма"
   ]
  },
  {
   "cell_type": "markdown",
   "id": "d4c258ee",
   "metadata": {},
   "source": [
    "Выделим из исходного датафрейма три словаря: `education`, `family_status` и `income_type`. Для этого в новые датафреймы скопируем соответствующие данные из исходного."
   ]
  },
  {
   "cell_type": "code",
   "execution_count": 67,
   "id": "920ee559",
   "metadata": {},
   "outputs": [],
   "source": [
    "education_dict = (df[['education_id', 'education']]\n",
    "                  .drop_duplicates()\n",
    "                  .sort_values('education_id')\n",
    "                  .reset_index(drop=True))"
   ]
  },
  {
   "cell_type": "code",
   "execution_count": 68,
   "id": "1d34229c",
   "metadata": {},
   "outputs": [
    {
     "data": {
      "text/html": [
       "<div>\n",
       "<style scoped>\n",
       "    .dataframe tbody tr th:only-of-type {\n",
       "        vertical-align: middle;\n",
       "    }\n",
       "\n",
       "    .dataframe tbody tr th {\n",
       "        vertical-align: top;\n",
       "    }\n",
       "\n",
       "    .dataframe thead th {\n",
       "        text-align: right;\n",
       "    }\n",
       "</style>\n",
       "<table border=\"1\" class=\"dataframe\">\n",
       "  <thead>\n",
       "    <tr style=\"text-align: right;\">\n",
       "      <th></th>\n",
       "      <th>education_id</th>\n",
       "      <th>education</th>\n",
       "    </tr>\n",
       "  </thead>\n",
       "  <tbody>\n",
       "    <tr>\n",
       "      <td>0</td>\n",
       "      <td>0</td>\n",
       "      <td>высшее</td>\n",
       "    </tr>\n",
       "    <tr>\n",
       "      <td>1</td>\n",
       "      <td>1</td>\n",
       "      <td>среднее</td>\n",
       "    </tr>\n",
       "    <tr>\n",
       "      <td>2</td>\n",
       "      <td>2</td>\n",
       "      <td>неоконченное высшее</td>\n",
       "    </tr>\n",
       "    <tr>\n",
       "      <td>3</td>\n",
       "      <td>3</td>\n",
       "      <td>начальное</td>\n",
       "    </tr>\n",
       "    <tr>\n",
       "      <td>4</td>\n",
       "      <td>4</td>\n",
       "      <td>ученая степень</td>\n",
       "    </tr>\n",
       "  </tbody>\n",
       "</table>\n",
       "</div>"
      ],
      "text/plain": [
       "   education_id            education\n",
       "0             0               высшее\n",
       "1             1              среднее\n",
       "2             2  неоконченное высшее\n",
       "3             3            начальное\n",
       "4             4       ученая степень"
      ]
     },
     "execution_count": 68,
     "metadata": {},
     "output_type": "execute_result"
    }
   ],
   "source": [
    "education_dict"
   ]
  },
  {
   "cell_type": "code",
   "execution_count": 69,
   "id": "730cb092",
   "metadata": {},
   "outputs": [],
   "source": [
    "family_status_dict = (df[['family_status_id', 'family_status']]\n",
    "                      .drop_duplicates()\n",
    "                      .sort_values('family_status_id')\n",
    "                      .reset_index(drop=True))"
   ]
  },
  {
   "cell_type": "code",
   "execution_count": 70,
   "id": "9ec60d19",
   "metadata": {},
   "outputs": [
    {
     "data": {
      "text/html": [
       "<div>\n",
       "<style scoped>\n",
       "    .dataframe tbody tr th:only-of-type {\n",
       "        vertical-align: middle;\n",
       "    }\n",
       "\n",
       "    .dataframe tbody tr th {\n",
       "        vertical-align: top;\n",
       "    }\n",
       "\n",
       "    .dataframe thead th {\n",
       "        text-align: right;\n",
       "    }\n",
       "</style>\n",
       "<table border=\"1\" class=\"dataframe\">\n",
       "  <thead>\n",
       "    <tr style=\"text-align: right;\">\n",
       "      <th></th>\n",
       "      <th>family_status_id</th>\n",
       "      <th>family_status</th>\n",
       "    </tr>\n",
       "  </thead>\n",
       "  <tbody>\n",
       "    <tr>\n",
       "      <td>0</td>\n",
       "      <td>0</td>\n",
       "      <td>женат / замужем</td>\n",
       "    </tr>\n",
       "    <tr>\n",
       "      <td>1</td>\n",
       "      <td>1</td>\n",
       "      <td>гражданский брак</td>\n",
       "    </tr>\n",
       "    <tr>\n",
       "      <td>2</td>\n",
       "      <td>2</td>\n",
       "      <td>вдовец / вдова</td>\n",
       "    </tr>\n",
       "    <tr>\n",
       "      <td>3</td>\n",
       "      <td>3</td>\n",
       "      <td>в разводе</td>\n",
       "    </tr>\n",
       "    <tr>\n",
       "      <td>4</td>\n",
       "      <td>4</td>\n",
       "      <td>Не женат / не замужем</td>\n",
       "    </tr>\n",
       "  </tbody>\n",
       "</table>\n",
       "</div>"
      ],
      "text/plain": [
       "   family_status_id          family_status\n",
       "0                 0        женат / замужем\n",
       "1                 1       гражданский брак\n",
       "2                 2         вдовец / вдова\n",
       "3                 3              в разводе\n",
       "4                 4  Не женат / не замужем"
      ]
     },
     "execution_count": 70,
     "metadata": {},
     "output_type": "execute_result"
    }
   ],
   "source": [
    "family_status_dict"
   ]
  },
  {
   "cell_type": "code",
   "execution_count": 71,
   "id": "c1a69ea1",
   "metadata": {},
   "outputs": [],
   "source": [
    "# уникальные значения из столбца income_type\n",
    "itu = df['income_type'].drop_duplicates()"
   ]
  },
  {
   "cell_type": "code",
   "execution_count": 72,
   "id": "90be6603",
   "metadata": {},
   "outputs": [],
   "source": [
    "# создаем словарь для столбца income_type (категорийного типа),\n",
    "# в котором индекcами будут исходные коды категорий столбца\n",
    "income_type_dict = pd.DataFrame({'income_type_id': itu.cat.codes.values, \n",
    "                                 'income_type': itu.values})\n",
    "income_type_dict = (income_type_dict\n",
    "                    .sort_values('income_type_id')\n",
    "                    .reset_index(drop=True))"
   ]
  },
  {
   "cell_type": "code",
   "execution_count": 73,
   "id": "6d6cd816",
   "metadata": {
    "scrolled": true
   },
   "outputs": [
    {
     "data": {
      "text/html": [
       "<div>\n",
       "<style scoped>\n",
       "    .dataframe tbody tr th:only-of-type {\n",
       "        vertical-align: middle;\n",
       "    }\n",
       "\n",
       "    .dataframe tbody tr th {\n",
       "        vertical-align: top;\n",
       "    }\n",
       "\n",
       "    .dataframe thead th {\n",
       "        text-align: right;\n",
       "    }\n",
       "</style>\n",
       "<table border=\"1\" class=\"dataframe\">\n",
       "  <thead>\n",
       "    <tr style=\"text-align: right;\">\n",
       "      <th></th>\n",
       "      <th>income_type_id</th>\n",
       "      <th>income_type</th>\n",
       "    </tr>\n",
       "  </thead>\n",
       "  <tbody>\n",
       "    <tr>\n",
       "      <td>0</td>\n",
       "      <td>0</td>\n",
       "      <td>безработный</td>\n",
       "    </tr>\n",
       "    <tr>\n",
       "      <td>1</td>\n",
       "      <td>1</td>\n",
       "      <td>в декрете</td>\n",
       "    </tr>\n",
       "    <tr>\n",
       "      <td>2</td>\n",
       "      <td>2</td>\n",
       "      <td>госслужащий</td>\n",
       "    </tr>\n",
       "    <tr>\n",
       "      <td>3</td>\n",
       "      <td>3</td>\n",
       "      <td>компаньон</td>\n",
       "    </tr>\n",
       "    <tr>\n",
       "      <td>4</td>\n",
       "      <td>4</td>\n",
       "      <td>пенсионер</td>\n",
       "    </tr>\n",
       "    <tr>\n",
       "      <td>5</td>\n",
       "      <td>5</td>\n",
       "      <td>предприниматель</td>\n",
       "    </tr>\n",
       "    <tr>\n",
       "      <td>6</td>\n",
       "      <td>6</td>\n",
       "      <td>сотрудник</td>\n",
       "    </tr>\n",
       "    <tr>\n",
       "      <td>7</td>\n",
       "      <td>7</td>\n",
       "      <td>студент</td>\n",
       "    </tr>\n",
       "  </tbody>\n",
       "</table>\n",
       "</div>"
      ],
      "text/plain": [
       "   income_type_id      income_type\n",
       "0               0      безработный\n",
       "1               1        в декрете\n",
       "2               2      госслужащий\n",
       "3               3        компаньон\n",
       "4               4        пенсионер\n",
       "5               5  предприниматель\n",
       "6               6        сотрудник\n",
       "7               7          студент"
      ]
     },
     "execution_count": 73,
     "metadata": {},
     "output_type": "execute_result"
    }
   ],
   "source": [
    "income_type_dict"
   ]
  },
  {
   "cell_type": "markdown",
   "id": "8ce7c857",
   "metadata": {},
   "source": [
    "Добавим в исходный датафрейм столбец `income_type_id` и удалим теперь уже лишние `education`, `family_status` и `income_type`. Находившиеся в них текстовые значения можно будет притянуть из соответствующих словарей."
   ]
  },
  {
   "cell_type": "code",
   "execution_count": 74,
   "id": "1dd1971f",
   "metadata": {},
   "outputs": [],
   "source": [
    "# индексами значений из столбца income_type будут коды их категорий \n",
    "df['income_type_id'] = df['income_type'].cat.codes"
   ]
  },
  {
   "cell_type": "code",
   "execution_count": 75,
   "id": "5080c387",
   "metadata": {},
   "outputs": [],
   "source": [
    "# удаляем лишние столбцы\n",
    "df = df.drop(['education', 'family_status', 'income_type'], axis=1)"
   ]
  },
  {
   "cell_type": "code",
   "execution_count": 76,
   "id": "777a45cc",
   "metadata": {},
   "outputs": [
    {
     "data": {
      "text/html": [
       "<div>\n",
       "<style scoped>\n",
       "    .dataframe tbody tr th:only-of-type {\n",
       "        vertical-align: middle;\n",
       "    }\n",
       "\n",
       "    .dataframe tbody tr th {\n",
       "        vertical-align: top;\n",
       "    }\n",
       "\n",
       "    .dataframe thead th {\n",
       "        text-align: right;\n",
       "    }\n",
       "</style>\n",
       "<table border=\"1\" class=\"dataframe\">\n",
       "  <thead>\n",
       "    <tr style=\"text-align: right;\">\n",
       "      <th></th>\n",
       "      <th>children</th>\n",
       "      <th>days_employed</th>\n",
       "      <th>dob_years</th>\n",
       "      <th>education_id</th>\n",
       "      <th>family_status_id</th>\n",
       "      <th>gender</th>\n",
       "      <th>debt</th>\n",
       "      <th>total_income</th>\n",
       "      <th>purpose</th>\n",
       "      <th>income_type_id</th>\n",
       "    </tr>\n",
       "  </thead>\n",
       "  <tbody>\n",
       "    <tr>\n",
       "      <td>0</td>\n",
       "      <td>1</td>\n",
       "      <td>8437</td>\n",
       "      <td>42</td>\n",
       "      <td>0</td>\n",
       "      <td>0</td>\n",
       "      <td>F</td>\n",
       "      <td>0</td>\n",
       "      <td>253875</td>\n",
       "      <td>покупка жилья</td>\n",
       "      <td>6</td>\n",
       "    </tr>\n",
       "    <tr>\n",
       "      <td>1</td>\n",
       "      <td>1</td>\n",
       "      <td>4024</td>\n",
       "      <td>36</td>\n",
       "      <td>1</td>\n",
       "      <td>0</td>\n",
       "      <td>F</td>\n",
       "      <td>0</td>\n",
       "      <td>112080</td>\n",
       "      <td>приобретение автомобиля</td>\n",
       "      <td>6</td>\n",
       "    </tr>\n",
       "    <tr>\n",
       "      <td>2</td>\n",
       "      <td>0</td>\n",
       "      <td>5623</td>\n",
       "      <td>33</td>\n",
       "      <td>1</td>\n",
       "      <td>0</td>\n",
       "      <td>M</td>\n",
       "      <td>0</td>\n",
       "      <td>145885</td>\n",
       "      <td>покупка жилья</td>\n",
       "      <td>6</td>\n",
       "    </tr>\n",
       "    <tr>\n",
       "      <td>3</td>\n",
       "      <td>3</td>\n",
       "      <td>4124</td>\n",
       "      <td>32</td>\n",
       "      <td>1</td>\n",
       "      <td>0</td>\n",
       "      <td>M</td>\n",
       "      <td>0</td>\n",
       "      <td>267628</td>\n",
       "      <td>дополнительное образование</td>\n",
       "      <td>6</td>\n",
       "    </tr>\n",
       "    <tr>\n",
       "      <td>4</td>\n",
       "      <td>0</td>\n",
       "      <td>14177</td>\n",
       "      <td>53</td>\n",
       "      <td>1</td>\n",
       "      <td>1</td>\n",
       "      <td>F</td>\n",
       "      <td>0</td>\n",
       "      <td>158616</td>\n",
       "      <td>сыграть свадьбу</td>\n",
       "      <td>4</td>\n",
       "    </tr>\n",
       "    <tr>\n",
       "      <td>...</td>\n",
       "      <td>...</td>\n",
       "      <td>...</td>\n",
       "      <td>...</td>\n",
       "      <td>...</td>\n",
       "      <td>...</td>\n",
       "      <td>...</td>\n",
       "      <td>...</td>\n",
       "      <td>...</td>\n",
       "      <td>...</td>\n",
       "      <td>...</td>\n",
       "    </tr>\n",
       "    <tr>\n",
       "      <td>21466</td>\n",
       "      <td>1</td>\n",
       "      <td>4529</td>\n",
       "      <td>43</td>\n",
       "      <td>1</td>\n",
       "      <td>1</td>\n",
       "      <td>F</td>\n",
       "      <td>0</td>\n",
       "      <td>224791</td>\n",
       "      <td>операции с жильем</td>\n",
       "      <td>3</td>\n",
       "    </tr>\n",
       "    <tr>\n",
       "      <td>21467</td>\n",
       "      <td>0</td>\n",
       "      <td>14330</td>\n",
       "      <td>67</td>\n",
       "      <td>1</td>\n",
       "      <td>0</td>\n",
       "      <td>F</td>\n",
       "      <td>0</td>\n",
       "      <td>155999</td>\n",
       "      <td>сделка с автомобилем</td>\n",
       "      <td>4</td>\n",
       "    </tr>\n",
       "    <tr>\n",
       "      <td>21468</td>\n",
       "      <td>1</td>\n",
       "      <td>2113</td>\n",
       "      <td>38</td>\n",
       "      <td>1</td>\n",
       "      <td>1</td>\n",
       "      <td>M</td>\n",
       "      <td>1</td>\n",
       "      <td>89672</td>\n",
       "      <td>недвижимость</td>\n",
       "      <td>6</td>\n",
       "    </tr>\n",
       "    <tr>\n",
       "      <td>21469</td>\n",
       "      <td>3</td>\n",
       "      <td>3112</td>\n",
       "      <td>38</td>\n",
       "      <td>1</td>\n",
       "      <td>0</td>\n",
       "      <td>M</td>\n",
       "      <td>1</td>\n",
       "      <td>244093</td>\n",
       "      <td>на покупку своего автомобиля</td>\n",
       "      <td>6</td>\n",
       "    </tr>\n",
       "    <tr>\n",
       "      <td>21470</td>\n",
       "      <td>2</td>\n",
       "      <td>1984</td>\n",
       "      <td>40</td>\n",
       "      <td>1</td>\n",
       "      <td>0</td>\n",
       "      <td>F</td>\n",
       "      <td>0</td>\n",
       "      <td>82047</td>\n",
       "      <td>на покупку автомобиля</td>\n",
       "      <td>6</td>\n",
       "    </tr>\n",
       "  </tbody>\n",
       "</table>\n",
       "<p>21471 rows × 10 columns</p>\n",
       "</div>"
      ],
      "text/plain": [
       "       children  days_employed  dob_years  education_id  family_status_id  \\\n",
       "0             1           8437         42             0                 0   \n",
       "1             1           4024         36             1                 0   \n",
       "2             0           5623         33             1                 0   \n",
       "3             3           4124         32             1                 0   \n",
       "4             0          14177         53             1                 1   \n",
       "...         ...            ...        ...           ...               ...   \n",
       "21466         1           4529         43             1                 1   \n",
       "21467         0          14330         67             1                 0   \n",
       "21468         1           2113         38             1                 1   \n",
       "21469         3           3112         38             1                 0   \n",
       "21470         2           1984         40             1                 0   \n",
       "\n",
       "      gender  debt  total_income                       purpose  income_type_id  \n",
       "0          F     0        253875                 покупка жилья               6  \n",
       "1          F     0        112080       приобретение автомобиля               6  \n",
       "2          M     0        145885                 покупка жилья               6  \n",
       "3          M     0        267628    дополнительное образование               6  \n",
       "4          F     0        158616               сыграть свадьбу               4  \n",
       "...      ...   ...           ...                           ...             ...  \n",
       "21466      F     0        224791             операции с жильем               3  \n",
       "21467      F     0        155999          сделка с автомобилем               4  \n",
       "21468      M     1         89672                  недвижимость               6  \n",
       "21469      M     1        244093  на покупку своего автомобиля               6  \n",
       "21470      F     0         82047         на покупку автомобиля               6  \n",
       "\n",
       "[21471 rows x 10 columns]"
      ]
     },
     "execution_count": 76,
     "metadata": {},
     "output_type": "execute_result"
    }
   ],
   "source": [
    "df"
   ]
  },
  {
   "cell_type": "markdown",
   "id": "50029ed5",
   "metadata": {},
   "source": [
    "### Категоризация дохода"
   ]
  },
  {
   "cell_type": "markdown",
   "id": "12322b6d",
   "metadata": {},
   "source": [
    "Откатегоризируем доходы клиентов в столбце `total_income_category`, используя специальный метод `cut`."
   ]
  },
  {
   "cell_type": "code",
   "execution_count": 77,
   "id": "38ea4e2b",
   "metadata": {},
   "outputs": [],
   "source": [
    "df['total_income_category'] = pd.cut(df['total_income'], \n",
    "                                     [0, 30000, 50000, 200000, 1000000, float('inf')], \n",
    "                                     labels=['E', 'D', 'C', 'B', 'A'], \n",
    "                                     include_lowest=True)"
   ]
  },
  {
   "cell_type": "code",
   "execution_count": 78,
   "id": "604b9f9f",
   "metadata": {},
   "outputs": [
    {
     "data": {
      "text/html": [
       "<div>\n",
       "<style scoped>\n",
       "    .dataframe tbody tr th:only-of-type {\n",
       "        vertical-align: middle;\n",
       "    }\n",
       "\n",
       "    .dataframe tbody tr th {\n",
       "        vertical-align: top;\n",
       "    }\n",
       "\n",
       "    .dataframe thead th {\n",
       "        text-align: right;\n",
       "    }\n",
       "</style>\n",
       "<table border=\"1\" class=\"dataframe\">\n",
       "  <thead>\n",
       "    <tr style=\"text-align: right;\">\n",
       "      <th></th>\n",
       "      <th>children</th>\n",
       "      <th>days_employed</th>\n",
       "      <th>dob_years</th>\n",
       "      <th>education_id</th>\n",
       "      <th>family_status_id</th>\n",
       "      <th>gender</th>\n",
       "      <th>debt</th>\n",
       "      <th>total_income</th>\n",
       "      <th>purpose</th>\n",
       "      <th>income_type_id</th>\n",
       "      <th>total_income_category</th>\n",
       "    </tr>\n",
       "  </thead>\n",
       "  <tbody>\n",
       "    <tr>\n",
       "      <td>0</td>\n",
       "      <td>1</td>\n",
       "      <td>8437</td>\n",
       "      <td>42</td>\n",
       "      <td>0</td>\n",
       "      <td>0</td>\n",
       "      <td>F</td>\n",
       "      <td>0</td>\n",
       "      <td>253875</td>\n",
       "      <td>покупка жилья</td>\n",
       "      <td>6</td>\n",
       "      <td>B</td>\n",
       "    </tr>\n",
       "    <tr>\n",
       "      <td>1</td>\n",
       "      <td>1</td>\n",
       "      <td>4024</td>\n",
       "      <td>36</td>\n",
       "      <td>1</td>\n",
       "      <td>0</td>\n",
       "      <td>F</td>\n",
       "      <td>0</td>\n",
       "      <td>112080</td>\n",
       "      <td>приобретение автомобиля</td>\n",
       "      <td>6</td>\n",
       "      <td>C</td>\n",
       "    </tr>\n",
       "    <tr>\n",
       "      <td>2</td>\n",
       "      <td>0</td>\n",
       "      <td>5623</td>\n",
       "      <td>33</td>\n",
       "      <td>1</td>\n",
       "      <td>0</td>\n",
       "      <td>M</td>\n",
       "      <td>0</td>\n",
       "      <td>145885</td>\n",
       "      <td>покупка жилья</td>\n",
       "      <td>6</td>\n",
       "      <td>C</td>\n",
       "    </tr>\n",
       "    <tr>\n",
       "      <td>3</td>\n",
       "      <td>3</td>\n",
       "      <td>4124</td>\n",
       "      <td>32</td>\n",
       "      <td>1</td>\n",
       "      <td>0</td>\n",
       "      <td>M</td>\n",
       "      <td>0</td>\n",
       "      <td>267628</td>\n",
       "      <td>дополнительное образование</td>\n",
       "      <td>6</td>\n",
       "      <td>B</td>\n",
       "    </tr>\n",
       "    <tr>\n",
       "      <td>4</td>\n",
       "      <td>0</td>\n",
       "      <td>14177</td>\n",
       "      <td>53</td>\n",
       "      <td>1</td>\n",
       "      <td>1</td>\n",
       "      <td>F</td>\n",
       "      <td>0</td>\n",
       "      <td>158616</td>\n",
       "      <td>сыграть свадьбу</td>\n",
       "      <td>4</td>\n",
       "      <td>C</td>\n",
       "    </tr>\n",
       "    <tr>\n",
       "      <td>...</td>\n",
       "      <td>...</td>\n",
       "      <td>...</td>\n",
       "      <td>...</td>\n",
       "      <td>...</td>\n",
       "      <td>...</td>\n",
       "      <td>...</td>\n",
       "      <td>...</td>\n",
       "      <td>...</td>\n",
       "      <td>...</td>\n",
       "      <td>...</td>\n",
       "      <td>...</td>\n",
       "    </tr>\n",
       "    <tr>\n",
       "      <td>21466</td>\n",
       "      <td>1</td>\n",
       "      <td>4529</td>\n",
       "      <td>43</td>\n",
       "      <td>1</td>\n",
       "      <td>1</td>\n",
       "      <td>F</td>\n",
       "      <td>0</td>\n",
       "      <td>224791</td>\n",
       "      <td>операции с жильем</td>\n",
       "      <td>3</td>\n",
       "      <td>B</td>\n",
       "    </tr>\n",
       "    <tr>\n",
       "      <td>21467</td>\n",
       "      <td>0</td>\n",
       "      <td>14330</td>\n",
       "      <td>67</td>\n",
       "      <td>1</td>\n",
       "      <td>0</td>\n",
       "      <td>F</td>\n",
       "      <td>0</td>\n",
       "      <td>155999</td>\n",
       "      <td>сделка с автомобилем</td>\n",
       "      <td>4</td>\n",
       "      <td>C</td>\n",
       "    </tr>\n",
       "    <tr>\n",
       "      <td>21468</td>\n",
       "      <td>1</td>\n",
       "      <td>2113</td>\n",
       "      <td>38</td>\n",
       "      <td>1</td>\n",
       "      <td>1</td>\n",
       "      <td>M</td>\n",
       "      <td>1</td>\n",
       "      <td>89672</td>\n",
       "      <td>недвижимость</td>\n",
       "      <td>6</td>\n",
       "      <td>C</td>\n",
       "    </tr>\n",
       "    <tr>\n",
       "      <td>21469</td>\n",
       "      <td>3</td>\n",
       "      <td>3112</td>\n",
       "      <td>38</td>\n",
       "      <td>1</td>\n",
       "      <td>0</td>\n",
       "      <td>M</td>\n",
       "      <td>1</td>\n",
       "      <td>244093</td>\n",
       "      <td>на покупку своего автомобиля</td>\n",
       "      <td>6</td>\n",
       "      <td>B</td>\n",
       "    </tr>\n",
       "    <tr>\n",
       "      <td>21470</td>\n",
       "      <td>2</td>\n",
       "      <td>1984</td>\n",
       "      <td>40</td>\n",
       "      <td>1</td>\n",
       "      <td>0</td>\n",
       "      <td>F</td>\n",
       "      <td>0</td>\n",
       "      <td>82047</td>\n",
       "      <td>на покупку автомобиля</td>\n",
       "      <td>6</td>\n",
       "      <td>C</td>\n",
       "    </tr>\n",
       "  </tbody>\n",
       "</table>\n",
       "<p>21471 rows × 11 columns</p>\n",
       "</div>"
      ],
      "text/plain": [
       "       children  days_employed  dob_years  education_id  family_status_id  \\\n",
       "0             1           8437         42             0                 0   \n",
       "1             1           4024         36             1                 0   \n",
       "2             0           5623         33             1                 0   \n",
       "3             3           4124         32             1                 0   \n",
       "4             0          14177         53             1                 1   \n",
       "...         ...            ...        ...           ...               ...   \n",
       "21466         1           4529         43             1                 1   \n",
       "21467         0          14330         67             1                 0   \n",
       "21468         1           2113         38             1                 1   \n",
       "21469         3           3112         38             1                 0   \n",
       "21470         2           1984         40             1                 0   \n",
       "\n",
       "      gender  debt  total_income                       purpose  \\\n",
       "0          F     0        253875                 покупка жилья   \n",
       "1          F     0        112080       приобретение автомобиля   \n",
       "2          M     0        145885                 покупка жилья   \n",
       "3          M     0        267628    дополнительное образование   \n",
       "4          F     0        158616               сыграть свадьбу   \n",
       "...      ...   ...           ...                           ...   \n",
       "21466      F     0        224791             операции с жильем   \n",
       "21467      F     0        155999          сделка с автомобилем   \n",
       "21468      M     1         89672                  недвижимость   \n",
       "21469      M     1        244093  на покупку своего автомобиля   \n",
       "21470      F     0         82047         на покупку автомобиля   \n",
       "\n",
       "       income_type_id total_income_category  \n",
       "0                   6                     B  \n",
       "1                   6                     C  \n",
       "2                   6                     C  \n",
       "3                   6                     B  \n",
       "4                   4                     C  \n",
       "...               ...                   ...  \n",
       "21466               3                     B  \n",
       "21467               4                     C  \n",
       "21468               6                     C  \n",
       "21469               6                     B  \n",
       "21470               6                     C  \n",
       "\n",
       "[21471 rows x 11 columns]"
      ]
     },
     "execution_count": 78,
     "metadata": {},
     "output_type": "execute_result"
    }
   ],
   "source": [
    "df"
   ]
  },
  {
   "cell_type": "markdown",
   "id": "58ae388a",
   "metadata": {},
   "source": [
    "Новый столбец уже имеет тип `category`. Проверим результат."
   ]
  },
  {
   "cell_type": "code",
   "execution_count": 79,
   "id": "fd60bc5a",
   "metadata": {
    "scrolled": true
   },
   "outputs": [
    {
     "data": {
      "text/html": [
       "<div>\n",
       "<style scoped>\n",
       "    .dataframe tbody tr th:only-of-type {\n",
       "        vertical-align: middle;\n",
       "    }\n",
       "\n",
       "    .dataframe tbody tr th {\n",
       "        vertical-align: top;\n",
       "    }\n",
       "\n",
       "    .dataframe thead th {\n",
       "        text-align: right;\n",
       "    }\n",
       "</style>\n",
       "<table border=\"1\" class=\"dataframe\">\n",
       "  <thead>\n",
       "    <tr style=\"text-align: right;\">\n",
       "      <th></th>\n",
       "      <th>count</th>\n",
       "      <th>min</th>\n",
       "      <th>median</th>\n",
       "      <th>max</th>\n",
       "    </tr>\n",
       "    <tr>\n",
       "      <th>total_income_category</th>\n",
       "      <th></th>\n",
       "      <th></th>\n",
       "      <th></th>\n",
       "      <th></th>\n",
       "    </tr>\n",
       "  </thead>\n",
       "  <tbody>\n",
       "    <tr>\n",
       "      <td>E</td>\n",
       "      <td>22</td>\n",
       "      <td>20667</td>\n",
       "      <td>26431.0</td>\n",
       "      <td>29749</td>\n",
       "    </tr>\n",
       "    <tr>\n",
       "      <td>D</td>\n",
       "      <td>350</td>\n",
       "      <td>30075</td>\n",
       "      <td>43857.5</td>\n",
       "      <td>49996</td>\n",
       "    </tr>\n",
       "    <tr>\n",
       "      <td>C</td>\n",
       "      <td>16032</td>\n",
       "      <td>50025</td>\n",
       "      <td>130397.0</td>\n",
       "      <td>199980</td>\n",
       "    </tr>\n",
       "    <tr>\n",
       "      <td>B</td>\n",
       "      <td>5042</td>\n",
       "      <td>200001</td>\n",
       "      <td>257685.5</td>\n",
       "      <td>997014</td>\n",
       "    </tr>\n",
       "    <tr>\n",
       "      <td>A</td>\n",
       "      <td>25</td>\n",
       "      <td>1004476</td>\n",
       "      <td>1223042.0</td>\n",
       "      <td>2265604</td>\n",
       "    </tr>\n",
       "  </tbody>\n",
       "</table>\n",
       "</div>"
      ],
      "text/plain": [
       "                       count      min     median      max\n",
       "total_income_category                                    \n",
       "E                         22    20667    26431.0    29749\n",
       "D                        350    30075    43857.5    49996\n",
       "C                      16032    50025   130397.0   199980\n",
       "B                       5042   200001   257685.5   997014\n",
       "A                         25  1004476  1223042.0  2265604"
      ]
     },
     "execution_count": 79,
     "metadata": {},
     "output_type": "execute_result"
    }
   ],
   "source": [
    "(df.groupby('total_income_category')['total_income']\n",
    " .agg(['count', 'min', 'median', 'max'])\n",
    " .sort_index())"
   ]
  },
  {
   "cell_type": "markdown",
   "id": "bd5b8c13",
   "metadata": {},
   "source": [
    "Три четверти клиентов попадают в категорию `С` с доходом от 50001 до 200000."
   ]
  },
  {
   "cell_type": "markdown",
   "id": "cea447eb",
   "metadata": {},
   "source": [
    "### Категоризация целей кредита"
   ]
  },
  {
   "cell_type": "markdown",
   "id": "9b9a5eca",
   "metadata": {},
   "source": [
    "Для категоризации целей кредита создадим специальную функцию."
   ]
  },
  {
   "cell_type": "code",
   "execution_count": 80,
   "id": "4f3ac23d",
   "metadata": {},
   "outputs": [],
   "source": [
    "def get_purpose_category(purpose):\n",
    "    if 'свад' in purpose: return 'проведение свадьбы'\n",
    "    if 'авто' in purpose: return 'операции с автомобилем'\n",
    "    if 'образ' in purpose: return 'получение образования'\n",
    "    if 'жил' in purpose: return 'операции с недвижимостью'\n",
    "    if 'недвиж' in purpose: return 'операции с недвижимостью'"
   ]
  },
  {
   "cell_type": "markdown",
   "id": "72c1f828",
   "metadata": {},
   "source": [
    "Теперь применим функцию к столбцу `purpose` и сохраним результат в столбце `purpose_category`."
   ]
  },
  {
   "cell_type": "code",
   "execution_count": 81,
   "id": "6df9fb52",
   "metadata": {},
   "outputs": [],
   "source": [
    "df['purpose_category'] = df['purpose'].apply(get_purpose_category).astype('category')"
   ]
  },
  {
   "cell_type": "code",
   "execution_count": 82,
   "id": "0cfb828f",
   "metadata": {},
   "outputs": [
    {
     "data": {
      "text/html": [
       "<div>\n",
       "<style scoped>\n",
       "    .dataframe tbody tr th:only-of-type {\n",
       "        vertical-align: middle;\n",
       "    }\n",
       "\n",
       "    .dataframe tbody tr th {\n",
       "        vertical-align: top;\n",
       "    }\n",
       "\n",
       "    .dataframe thead th {\n",
       "        text-align: right;\n",
       "    }\n",
       "</style>\n",
       "<table border=\"1\" class=\"dataframe\">\n",
       "  <thead>\n",
       "    <tr style=\"text-align: right;\">\n",
       "      <th></th>\n",
       "      <th>children</th>\n",
       "      <th>days_employed</th>\n",
       "      <th>dob_years</th>\n",
       "      <th>education_id</th>\n",
       "      <th>family_status_id</th>\n",
       "      <th>gender</th>\n",
       "      <th>debt</th>\n",
       "      <th>total_income</th>\n",
       "      <th>purpose</th>\n",
       "      <th>income_type_id</th>\n",
       "      <th>total_income_category</th>\n",
       "      <th>purpose_category</th>\n",
       "    </tr>\n",
       "  </thead>\n",
       "  <tbody>\n",
       "    <tr>\n",
       "      <td>0</td>\n",
       "      <td>1</td>\n",
       "      <td>8437</td>\n",
       "      <td>42</td>\n",
       "      <td>0</td>\n",
       "      <td>0</td>\n",
       "      <td>F</td>\n",
       "      <td>0</td>\n",
       "      <td>253875</td>\n",
       "      <td>покупка жилья</td>\n",
       "      <td>6</td>\n",
       "      <td>B</td>\n",
       "      <td>операции с недвижимостью</td>\n",
       "    </tr>\n",
       "    <tr>\n",
       "      <td>1</td>\n",
       "      <td>1</td>\n",
       "      <td>4024</td>\n",
       "      <td>36</td>\n",
       "      <td>1</td>\n",
       "      <td>0</td>\n",
       "      <td>F</td>\n",
       "      <td>0</td>\n",
       "      <td>112080</td>\n",
       "      <td>приобретение автомобиля</td>\n",
       "      <td>6</td>\n",
       "      <td>C</td>\n",
       "      <td>операции с автомобилем</td>\n",
       "    </tr>\n",
       "    <tr>\n",
       "      <td>2</td>\n",
       "      <td>0</td>\n",
       "      <td>5623</td>\n",
       "      <td>33</td>\n",
       "      <td>1</td>\n",
       "      <td>0</td>\n",
       "      <td>M</td>\n",
       "      <td>0</td>\n",
       "      <td>145885</td>\n",
       "      <td>покупка жилья</td>\n",
       "      <td>6</td>\n",
       "      <td>C</td>\n",
       "      <td>операции с недвижимостью</td>\n",
       "    </tr>\n",
       "    <tr>\n",
       "      <td>3</td>\n",
       "      <td>3</td>\n",
       "      <td>4124</td>\n",
       "      <td>32</td>\n",
       "      <td>1</td>\n",
       "      <td>0</td>\n",
       "      <td>M</td>\n",
       "      <td>0</td>\n",
       "      <td>267628</td>\n",
       "      <td>дополнительное образование</td>\n",
       "      <td>6</td>\n",
       "      <td>B</td>\n",
       "      <td>получение образования</td>\n",
       "    </tr>\n",
       "    <tr>\n",
       "      <td>4</td>\n",
       "      <td>0</td>\n",
       "      <td>14177</td>\n",
       "      <td>53</td>\n",
       "      <td>1</td>\n",
       "      <td>1</td>\n",
       "      <td>F</td>\n",
       "      <td>0</td>\n",
       "      <td>158616</td>\n",
       "      <td>сыграть свадьбу</td>\n",
       "      <td>4</td>\n",
       "      <td>C</td>\n",
       "      <td>проведение свадьбы</td>\n",
       "    </tr>\n",
       "    <tr>\n",
       "      <td>...</td>\n",
       "      <td>...</td>\n",
       "      <td>...</td>\n",
       "      <td>...</td>\n",
       "      <td>...</td>\n",
       "      <td>...</td>\n",
       "      <td>...</td>\n",
       "      <td>...</td>\n",
       "      <td>...</td>\n",
       "      <td>...</td>\n",
       "      <td>...</td>\n",
       "      <td>...</td>\n",
       "      <td>...</td>\n",
       "    </tr>\n",
       "    <tr>\n",
       "      <td>21466</td>\n",
       "      <td>1</td>\n",
       "      <td>4529</td>\n",
       "      <td>43</td>\n",
       "      <td>1</td>\n",
       "      <td>1</td>\n",
       "      <td>F</td>\n",
       "      <td>0</td>\n",
       "      <td>224791</td>\n",
       "      <td>операции с жильем</td>\n",
       "      <td>3</td>\n",
       "      <td>B</td>\n",
       "      <td>операции с недвижимостью</td>\n",
       "    </tr>\n",
       "    <tr>\n",
       "      <td>21467</td>\n",
       "      <td>0</td>\n",
       "      <td>14330</td>\n",
       "      <td>67</td>\n",
       "      <td>1</td>\n",
       "      <td>0</td>\n",
       "      <td>F</td>\n",
       "      <td>0</td>\n",
       "      <td>155999</td>\n",
       "      <td>сделка с автомобилем</td>\n",
       "      <td>4</td>\n",
       "      <td>C</td>\n",
       "      <td>операции с автомобилем</td>\n",
       "    </tr>\n",
       "    <tr>\n",
       "      <td>21468</td>\n",
       "      <td>1</td>\n",
       "      <td>2113</td>\n",
       "      <td>38</td>\n",
       "      <td>1</td>\n",
       "      <td>1</td>\n",
       "      <td>M</td>\n",
       "      <td>1</td>\n",
       "      <td>89672</td>\n",
       "      <td>недвижимость</td>\n",
       "      <td>6</td>\n",
       "      <td>C</td>\n",
       "      <td>операции с недвижимостью</td>\n",
       "    </tr>\n",
       "    <tr>\n",
       "      <td>21469</td>\n",
       "      <td>3</td>\n",
       "      <td>3112</td>\n",
       "      <td>38</td>\n",
       "      <td>1</td>\n",
       "      <td>0</td>\n",
       "      <td>M</td>\n",
       "      <td>1</td>\n",
       "      <td>244093</td>\n",
       "      <td>на покупку своего автомобиля</td>\n",
       "      <td>6</td>\n",
       "      <td>B</td>\n",
       "      <td>операции с автомобилем</td>\n",
       "    </tr>\n",
       "    <tr>\n",
       "      <td>21470</td>\n",
       "      <td>2</td>\n",
       "      <td>1984</td>\n",
       "      <td>40</td>\n",
       "      <td>1</td>\n",
       "      <td>0</td>\n",
       "      <td>F</td>\n",
       "      <td>0</td>\n",
       "      <td>82047</td>\n",
       "      <td>на покупку автомобиля</td>\n",
       "      <td>6</td>\n",
       "      <td>C</td>\n",
       "      <td>операции с автомобилем</td>\n",
       "    </tr>\n",
       "  </tbody>\n",
       "</table>\n",
       "<p>21471 rows × 12 columns</p>\n",
       "</div>"
      ],
      "text/plain": [
       "       children  days_employed  dob_years  education_id  family_status_id  \\\n",
       "0             1           8437         42             0                 0   \n",
       "1             1           4024         36             1                 0   \n",
       "2             0           5623         33             1                 0   \n",
       "3             3           4124         32             1                 0   \n",
       "4             0          14177         53             1                 1   \n",
       "...         ...            ...        ...           ...               ...   \n",
       "21466         1           4529         43             1                 1   \n",
       "21467         0          14330         67             1                 0   \n",
       "21468         1           2113         38             1                 1   \n",
       "21469         3           3112         38             1                 0   \n",
       "21470         2           1984         40             1                 0   \n",
       "\n",
       "      gender  debt  total_income                       purpose  \\\n",
       "0          F     0        253875                 покупка жилья   \n",
       "1          F     0        112080       приобретение автомобиля   \n",
       "2          M     0        145885                 покупка жилья   \n",
       "3          M     0        267628    дополнительное образование   \n",
       "4          F     0        158616               сыграть свадьбу   \n",
       "...      ...   ...           ...                           ...   \n",
       "21466      F     0        224791             операции с жильем   \n",
       "21467      F     0        155999          сделка с автомобилем   \n",
       "21468      M     1         89672                  недвижимость   \n",
       "21469      M     1        244093  на покупку своего автомобиля   \n",
       "21470      F     0         82047         на покупку автомобиля   \n",
       "\n",
       "       income_type_id total_income_category          purpose_category  \n",
       "0                   6                     B  операции с недвижимостью  \n",
       "1                   6                     C    операции с автомобилем  \n",
       "2                   6                     C  операции с недвижимостью  \n",
       "3                   6                     B     получение образования  \n",
       "4                   4                     C        проведение свадьбы  \n",
       "...               ...                   ...                       ...  \n",
       "21466               3                     B  операции с недвижимостью  \n",
       "21467               4                     C    операции с автомобилем  \n",
       "21468               6                     C  операции с недвижимостью  \n",
       "21469               6                     B    операции с автомобилем  \n",
       "21470               6                     C    операции с автомобилем  \n",
       "\n",
       "[21471 rows x 12 columns]"
      ]
     },
     "execution_count": 82,
     "metadata": {},
     "output_type": "execute_result"
    }
   ],
   "source": [
    "df"
   ]
  },
  {
   "cell_type": "markdown",
   "id": "bdd1e9c1",
   "metadata": {},
   "source": [
    "Проверим результат работы функции."
   ]
  },
  {
   "cell_type": "code",
   "execution_count": 83,
   "id": "a8d4bfd8",
   "metadata": {},
   "outputs": [
    {
     "data": {
      "text/html": [
       "<div>\n",
       "<style scoped>\n",
       "    .dataframe tbody tr th:only-of-type {\n",
       "        vertical-align: middle;\n",
       "    }\n",
       "\n",
       "    .dataframe tbody tr th {\n",
       "        vertical-align: top;\n",
       "    }\n",
       "\n",
       "    .dataframe thead th {\n",
       "        text-align: right;\n",
       "    }\n",
       "</style>\n",
       "<table border=\"1\" class=\"dataframe\">\n",
       "  <thead>\n",
       "    <tr style=\"text-align: right;\">\n",
       "      <th></th>\n",
       "      <th>purpose_category</th>\n",
       "      <th>purpose</th>\n",
       "    </tr>\n",
       "  </thead>\n",
       "  <tbody>\n",
       "    <tr>\n",
       "      <td>36</td>\n",
       "      <td>операции с автомобилем</td>\n",
       "      <td>автомобили</td>\n",
       "    </tr>\n",
       "    <tr>\n",
       "      <td>49</td>\n",
       "      <td>операции с автомобилем</td>\n",
       "      <td>автомобиль</td>\n",
       "    </tr>\n",
       "    <tr>\n",
       "      <td>117</td>\n",
       "      <td>операции с автомобилем</td>\n",
       "      <td>на покупку автомобиля</td>\n",
       "    </tr>\n",
       "    <tr>\n",
       "      <td>18</td>\n",
       "      <td>операции с автомобилем</td>\n",
       "      <td>на покупку подержанного автомобиля</td>\n",
       "    </tr>\n",
       "    <tr>\n",
       "      <td>19</td>\n",
       "      <td>операции с автомобилем</td>\n",
       "      <td>на покупку своего автомобиля</td>\n",
       "    </tr>\n",
       "    <tr>\n",
       "      <td>1</td>\n",
       "      <td>операции с автомобилем</td>\n",
       "      <td>приобретение автомобиля</td>\n",
       "    </tr>\n",
       "    <tr>\n",
       "      <td>77</td>\n",
       "      <td>операции с автомобилем</td>\n",
       "      <td>свой автомобиль</td>\n",
       "    </tr>\n",
       "    <tr>\n",
       "      <td>78</td>\n",
       "      <td>операции с автомобилем</td>\n",
       "      <td>сделка с автомобилем</td>\n",
       "    </tr>\n",
       "    <tr>\n",
       "      <td>41</td>\n",
       "      <td>операции с автомобилем</td>\n",
       "      <td>сделка с подержанным автомобилем</td>\n",
       "    </tr>\n",
       "    <tr>\n",
       "      <td>31</td>\n",
       "      <td>операции с недвижимостью</td>\n",
       "      <td>жилье</td>\n",
       "    </tr>\n",
       "    <tr>\n",
       "      <td>16</td>\n",
       "      <td>операции с недвижимостью</td>\n",
       "      <td>недвижимость</td>\n",
       "    </tr>\n",
       "    <tr>\n",
       "      <td>6</td>\n",
       "      <td>операции с недвижимостью</td>\n",
       "      <td>операции с жильем</td>\n",
       "    </tr>\n",
       "    <tr>\n",
       "      <td>24</td>\n",
       "      <td>операции с недвижимостью</td>\n",
       "      <td>операции с коммерческой недвижимостью</td>\n",
       "    </tr>\n",
       "    <tr>\n",
       "      <td>59</td>\n",
       "      <td>операции с недвижимостью</td>\n",
       "      <td>операции с недвижимостью</td>\n",
       "    </tr>\n",
       "    <tr>\n",
       "      <td>34</td>\n",
       "      <td>операции с недвижимостью</td>\n",
       "      <td>операции со своей недвижимостью</td>\n",
       "    </tr>\n",
       "    <tr>\n",
       "      <td>14</td>\n",
       "      <td>операции с недвижимостью</td>\n",
       "      <td>покупка жилой недвижимости</td>\n",
       "    </tr>\n",
       "    <tr>\n",
       "      <td>0</td>\n",
       "      <td>операции с недвижимостью</td>\n",
       "      <td>покупка жилья</td>\n",
       "    </tr>\n",
       "    <tr>\n",
       "      <td>87</td>\n",
       "      <td>операции с недвижимостью</td>\n",
       "      <td>покупка жилья для сдачи</td>\n",
       "    </tr>\n",
       "    <tr>\n",
       "      <td>9</td>\n",
       "      <td>операции с недвижимостью</td>\n",
       "      <td>покупка жилья для семьи</td>\n",
       "    </tr>\n",
       "    <tr>\n",
       "      <td>11</td>\n",
       "      <td>операции с недвижимостью</td>\n",
       "      <td>покупка коммерческой недвижимости</td>\n",
       "    </tr>\n",
       "    <tr>\n",
       "      <td>10</td>\n",
       "      <td>операции с недвижимостью</td>\n",
       "      <td>покупка недвижимости</td>\n",
       "    </tr>\n",
       "    <tr>\n",
       "      <td>53</td>\n",
       "      <td>операции с недвижимостью</td>\n",
       "      <td>покупка своего жилья</td>\n",
       "    </tr>\n",
       "    <tr>\n",
       "      <td>139</td>\n",
       "      <td>операции с недвижимостью</td>\n",
       "      <td>ремонт жилью</td>\n",
       "    </tr>\n",
       "    <tr>\n",
       "      <td>29</td>\n",
       "      <td>операции с недвижимостью</td>\n",
       "      <td>строительство жилой недвижимости</td>\n",
       "    </tr>\n",
       "    <tr>\n",
       "      <td>17</td>\n",
       "      <td>операции с недвижимостью</td>\n",
       "      <td>строительство недвижимости</td>\n",
       "    </tr>\n",
       "    <tr>\n",
       "      <td>15</td>\n",
       "      <td>операции с недвижимостью</td>\n",
       "      <td>строительство собственной недвижимости</td>\n",
       "    </tr>\n",
       "    <tr>\n",
       "      <td>85</td>\n",
       "      <td>получение образования</td>\n",
       "      <td>высшее образование</td>\n",
       "    </tr>\n",
       "    <tr>\n",
       "      <td>3</td>\n",
       "      <td>получение образования</td>\n",
       "      <td>дополнительное образование</td>\n",
       "    </tr>\n",
       "    <tr>\n",
       "      <td>176</td>\n",
       "      <td>получение образования</td>\n",
       "      <td>заняться высшим образованием</td>\n",
       "    </tr>\n",
       "    <tr>\n",
       "      <td>39</td>\n",
       "      <td>получение образования</td>\n",
       "      <td>заняться образованием</td>\n",
       "    </tr>\n",
       "    <tr>\n",
       "      <td>7</td>\n",
       "      <td>получение образования</td>\n",
       "      <td>образование</td>\n",
       "    </tr>\n",
       "    <tr>\n",
       "      <td>62</td>\n",
       "      <td>получение образования</td>\n",
       "      <td>получение высшего образования</td>\n",
       "    </tr>\n",
       "    <tr>\n",
       "      <td>52</td>\n",
       "      <td>получение образования</td>\n",
       "      <td>получение дополнительного образования</td>\n",
       "    </tr>\n",
       "    <tr>\n",
       "      <td>42</td>\n",
       "      <td>получение образования</td>\n",
       "      <td>получение образования</td>\n",
       "    </tr>\n",
       "    <tr>\n",
       "      <td>81</td>\n",
       "      <td>получение образования</td>\n",
       "      <td>профильное образование</td>\n",
       "    </tr>\n",
       "    <tr>\n",
       "      <td>8</td>\n",
       "      <td>проведение свадьбы</td>\n",
       "      <td>на проведение свадьбы</td>\n",
       "    </tr>\n",
       "    <tr>\n",
       "      <td>51</td>\n",
       "      <td>проведение свадьбы</td>\n",
       "      <td>свадьба</td>\n",
       "    </tr>\n",
       "    <tr>\n",
       "      <td>4</td>\n",
       "      <td>проведение свадьбы</td>\n",
       "      <td>сыграть свадьбу</td>\n",
       "    </tr>\n",
       "  </tbody>\n",
       "</table>\n",
       "</div>"
      ],
      "text/plain": [
       "             purpose_category                                 purpose\n",
       "36     операции с автомобилем                              автомобили\n",
       "49     операции с автомобилем                              автомобиль\n",
       "117    операции с автомобилем                   на покупку автомобиля\n",
       "18     операции с автомобилем      на покупку подержанного автомобиля\n",
       "19     операции с автомобилем            на покупку своего автомобиля\n",
       "1      операции с автомобилем                 приобретение автомобиля\n",
       "77     операции с автомобилем                         свой автомобиль\n",
       "78     операции с автомобилем                    сделка с автомобилем\n",
       "41     операции с автомобилем        сделка с подержанным автомобилем\n",
       "31   операции с недвижимостью                                   жилье\n",
       "16   операции с недвижимостью                            недвижимость\n",
       "6    операции с недвижимостью                       операции с жильем\n",
       "24   операции с недвижимостью   операции с коммерческой недвижимостью\n",
       "59   операции с недвижимостью                операции с недвижимостью\n",
       "34   операции с недвижимостью         операции со своей недвижимостью\n",
       "14   операции с недвижимостью              покупка жилой недвижимости\n",
       "0    операции с недвижимостью                           покупка жилья\n",
       "87   операции с недвижимостью                 покупка жилья для сдачи\n",
       "9    операции с недвижимостью                 покупка жилья для семьи\n",
       "11   операции с недвижимостью       покупка коммерческой недвижимости\n",
       "10   операции с недвижимостью                    покупка недвижимости\n",
       "53   операции с недвижимостью                    покупка своего жилья\n",
       "139  операции с недвижимостью                            ремонт жилью\n",
       "29   операции с недвижимостью        строительство жилой недвижимости\n",
       "17   операции с недвижимостью              строительство недвижимости\n",
       "15   операции с недвижимостью  строительство собственной недвижимости\n",
       "85      получение образования                      высшее образование\n",
       "3       получение образования              дополнительное образование\n",
       "176     получение образования            заняться высшим образованием\n",
       "39      получение образования                   заняться образованием\n",
       "7       получение образования                             образование\n",
       "62      получение образования           получение высшего образования\n",
       "52      получение образования   получение дополнительного образования\n",
       "42      получение образования                   получение образования\n",
       "81      получение образования                  профильное образование\n",
       "8          проведение свадьбы                   на проведение свадьбы\n",
       "51         проведение свадьбы                                 свадьба\n",
       "4          проведение свадьбы                         сыграть свадьбу"
      ]
     },
     "execution_count": 83,
     "metadata": {},
     "output_type": "execute_result"
    }
   ],
   "source": [
    "(df[['purpose_category', 'purpose']]\n",
    " .drop_duplicates()\n",
    " .sort_values(by=['purpose_category', 'purpose']))"
   ]
  },
  {
   "cell_type": "code",
   "execution_count": 84,
   "id": "ad5d8891",
   "metadata": {},
   "outputs": [
    {
     "data": {
      "text/plain": [
       "операции с недвижимостью    10814\n",
       "операции с автомобилем       4308\n",
       "получение образования        4014\n",
       "проведение свадьбы           2335\n",
       "Name: purpose_category, dtype: int64"
      ]
     },
     "execution_count": 84,
     "metadata": {},
     "output_type": "execute_result"
    }
   ],
   "source": [
    "df['purpose_category'].value_counts().sort_values(ascending=False)"
   ]
  },
  {
   "cell_type": "markdown",
   "id": "8e9ebbe3",
   "metadata": {},
   "source": [
    "Половина кредитов приходится на операции с недвижимостью.\n",
    "<br><br>"
   ]
  },
  {
   "cell_type": "markdown",
   "id": "1bb9aa23",
   "metadata": {},
   "source": [
    "## Ответы на вопросы"
   ]
  },
  {
   "cell_type": "markdown",
   "id": "0a94da6a",
   "metadata": {},
   "source": [
    "### Есть ли зависимость между количеством детей и возвратом кредита в срок?"
   ]
  },
  {
   "cell_type": "markdown",
   "id": "8a3c6bf9",
   "metadata": {},
   "source": [
    "Посмотрим, как от числа детей зависит доля должников."
   ]
  },
  {
   "cell_type": "code",
   "execution_count": 85,
   "id": "7c23b374",
   "metadata": {},
   "outputs": [],
   "source": [
    "debt_by_children = (df.groupby('children')\n",
    "                    .agg(clients=pd.NamedAgg(column='debt', aggfunc='count'),\n",
    "                         debt_rate=pd.NamedAgg(column='debt', aggfunc='mean')))"
   ]
  },
  {
   "cell_type": "code",
   "execution_count": 86,
   "id": "c7dc4339",
   "metadata": {},
   "outputs": [
    {
     "data": {
      "text/html": [
       "<div>\n",
       "<style scoped>\n",
       "    .dataframe tbody tr th:only-of-type {\n",
       "        vertical-align: middle;\n",
       "    }\n",
       "\n",
       "    .dataframe tbody tr th {\n",
       "        vertical-align: top;\n",
       "    }\n",
       "\n",
       "    .dataframe thead th {\n",
       "        text-align: right;\n",
       "    }\n",
       "</style>\n",
       "<table border=\"1\" class=\"dataframe\">\n",
       "  <thead>\n",
       "    <tr style=\"text-align: right;\">\n",
       "      <th></th>\n",
       "      <th>clients</th>\n",
       "      <th>debt_rate</th>\n",
       "    </tr>\n",
       "    <tr>\n",
       "      <th>children</th>\n",
       "      <th></th>\n",
       "      <th></th>\n",
       "    </tr>\n",
       "  </thead>\n",
       "  <tbody>\n",
       "    <tr>\n",
       "      <td>-1</td>\n",
       "      <td>47</td>\n",
       "      <td>0.021277</td>\n",
       "    </tr>\n",
       "    <tr>\n",
       "      <td>0</td>\n",
       "      <td>14107</td>\n",
       "      <td>0.075353</td>\n",
       "    </tr>\n",
       "    <tr>\n",
       "      <td>1</td>\n",
       "      <td>4809</td>\n",
       "      <td>0.092327</td>\n",
       "    </tr>\n",
       "    <tr>\n",
       "      <td>2</td>\n",
       "      <td>2052</td>\n",
       "      <td>0.094542</td>\n",
       "    </tr>\n",
       "    <tr>\n",
       "      <td>3</td>\n",
       "      <td>330</td>\n",
       "      <td>0.081818</td>\n",
       "    </tr>\n",
       "    <tr>\n",
       "      <td>4</td>\n",
       "      <td>41</td>\n",
       "      <td>0.097561</td>\n",
       "    </tr>\n",
       "    <tr>\n",
       "      <td>5</td>\n",
       "      <td>9</td>\n",
       "      <td>0.000000</td>\n",
       "    </tr>\n",
       "    <tr>\n",
       "      <td>20</td>\n",
       "      <td>76</td>\n",
       "      <td>0.105263</td>\n",
       "    </tr>\n",
       "  </tbody>\n",
       "</table>\n",
       "</div>"
      ],
      "text/plain": [
       "          clients  debt_rate\n",
       "children                    \n",
       "-1             47   0.021277\n",
       " 0          14107   0.075353\n",
       " 1           4809   0.092327\n",
       " 2           2052   0.094542\n",
       " 3            330   0.081818\n",
       " 4             41   0.097561\n",
       " 5              9   0.000000\n",
       " 20            76   0.105263"
      ]
     },
     "execution_count": 86,
     "metadata": {},
     "output_type": "execute_result"
    }
   ],
   "source": [
    "debt_by_children"
   ]
  },
  {
   "cell_type": "code",
   "execution_count": 87,
   "id": "101f8ce4",
   "metadata": {},
   "outputs": [
    {
     "data": {
      "text/plain": [
       "array([<matplotlib.axes._subplots.AxesSubplot object at 0x7fbb3c277290>,\n",
       "       <matplotlib.axes._subplots.AxesSubplot object at 0x7fbb3c26a6d0>],\n",
       "      dtype=object)"
      ]
     },
     "execution_count": 87,
     "metadata": {},
     "output_type": "execute_result"
    },
    {
     "data": {
      "image/png": "[encoded data removed]",
      "text/plain": [
       "<Figure size 360x576 with 2 Axes>"
      ]
     },
     "metadata": {
      "needs_background": "light"
     },
     "output_type": "display_data"
    }
   ],
   "source": [
    "(debt_by_children\n",
    " .plot(kind='bar', subplots=True, figsize=(5, 8)))"
   ]
  },
  {
   "cell_type": "markdown",
   "id": "931286b2",
   "metadata": {},
   "source": [
    "Группы клиентов с числом детей 0, 1 и 2 навскидку достаточно многочисленны, чтобы доверять значению доли должников в них, составляющей 7,5, 9,2 и 9,5%, соответственно. Остальные группы для этого слишком малочисленны, опять же навскидку. Для строгого анализа необходима оценка статистической значимости доли должников в каждой группе, что, к сожалению, выходит за рамки проекта.\n",
    "\n",
    "Сравним долю должников в каждой группе клиентов с аналогичной долей в самой многочисленной группе бездетных клиентов."
   ]
  },
  {
   "cell_type": "code",
   "execution_count": 88,
   "id": "93b1c963",
   "metadata": {},
   "outputs": [],
   "source": [
    "# считаем абсолютную разницу между долей должников в каждой группе и группе бездетных\n",
    "debt_by_children['no_children_diff'] = (debt_by_children['debt_rate'] \n",
    "                                        - debt_by_children.loc[0, 'debt_rate'])"
   ]
  },
  {
   "cell_type": "code",
   "execution_count": 89,
   "id": "1504ad6e",
   "metadata": {},
   "outputs": [],
   "source": [
    "# считаем относительную разницу между долей должников в каждой группе и группе бездетных\n",
    "debt_by_children['no_children_ratio'] = (debt_by_children['no_children_diff'] \n",
    "                                         / debt_by_children.loc[0, 'debt_rate'])"
   ]
  },
  {
   "cell_type": "code",
   "execution_count": 90,
   "id": "f3191c81",
   "metadata": {},
   "outputs": [
    {
     "data": {
      "text/html": [
       "<div>\n",
       "<style scoped>\n",
       "    .dataframe tbody tr th:only-of-type {\n",
       "        vertical-align: middle;\n",
       "    }\n",
       "\n",
       "    .dataframe tbody tr th {\n",
       "        vertical-align: top;\n",
       "    }\n",
       "\n",
       "    .dataframe thead th {\n",
       "        text-align: right;\n",
       "    }\n",
       "</style>\n",
       "<table border=\"1\" class=\"dataframe\">\n",
       "  <thead>\n",
       "    <tr style=\"text-align: right;\">\n",
       "      <th></th>\n",
       "      <th>clients</th>\n",
       "      <th>debt_rate</th>\n",
       "      <th>no_children_diff</th>\n",
       "      <th>no_children_ratio</th>\n",
       "    </tr>\n",
       "    <tr>\n",
       "      <th>children</th>\n",
       "      <th></th>\n",
       "      <th></th>\n",
       "      <th></th>\n",
       "      <th></th>\n",
       "    </tr>\n",
       "  </thead>\n",
       "  <tbody>\n",
       "    <tr>\n",
       "      <td>0</td>\n",
       "      <td>14107</td>\n",
       "      <td>0.075353</td>\n",
       "      <td>0.000000</td>\n",
       "      <td>0.000000</td>\n",
       "    </tr>\n",
       "    <tr>\n",
       "      <td>1</td>\n",
       "      <td>4809</td>\n",
       "      <td>0.092327</td>\n",
       "      <td>0.016974</td>\n",
       "      <td>0.225264</td>\n",
       "    </tr>\n",
       "    <tr>\n",
       "      <td>2</td>\n",
       "      <td>2052</td>\n",
       "      <td>0.094542</td>\n",
       "      <td>0.019189</td>\n",
       "      <td>0.254659</td>\n",
       "    </tr>\n",
       "  </tbody>\n",
       "</table>\n",
       "</div>"
      ],
      "text/plain": [
       "          clients  debt_rate  no_children_diff  no_children_ratio\n",
       "children                                                         \n",
       "0           14107   0.075353          0.000000           0.000000\n",
       "1            4809   0.092327          0.016974           0.225264\n",
       "2            2052   0.094542          0.019189           0.254659"
      ]
     },
     "execution_count": 90,
     "metadata": {},
     "output_type": "execute_result"
    }
   ],
   "source": [
    "# выводим результаты для трех основных групп клиентов\n",
    "debt_by_children.loc[0:2]"
   ]
  },
  {
   "cell_type": "markdown",
   "id": "62146b61",
   "metadata": {},
   "source": [
    "Доля должников среди клиентов с одним ребенком на 1,7 пп. или 23% выше, чем среди бездетных.<br>\n",
    "Доля должников среди клиентов с двумя детьми на 1,9 пп. или 25% выше, чем среди бездетных.\n",
    "\n",
    ">Таким образом, наличие одного или двух детей у клиента повышает риск возникновения задолженности примерно на четверть по сравнению со средним клиентом без детей. Для оценки риска возникновения задолженности у клиентов с б<i>о</i>льшим числом детей, скорее всего, не достаточно статистики."
   ]
  },
  {
   "cell_type": "markdown",
   "id": "c75cc6c8",
   "metadata": {},
   "source": [
    "### Есть ли зависимость между семейным положением и возвратом кредита в срок?"
   ]
  },
  {
   "cell_type": "markdown",
   "id": "311df52c",
   "metadata": {},
   "source": [
    "Посмотрим, как доля должников зависит от семейного положения."
   ]
  },
  {
   "cell_type": "code",
   "execution_count": 91,
   "id": "e04ac50d",
   "metadata": {},
   "outputs": [],
   "source": [
    "debt_by_family_status = (df.groupby('family_status_id')\n",
    "                         .agg(clients=pd.NamedAgg(column='debt', aggfunc='count'),\n",
    "                              debt_rate=pd.NamedAgg(column='debt', aggfunc='mean'))\n",
    "                         .merge(family_status_dict, \n",
    "                                on='family_status_id', how='left')\n",
    "                         .set_index('family_status')\n",
    "                         [['clients', 'debt_rate']])"
   ]
  },
  {
   "cell_type": "code",
   "execution_count": 92,
   "id": "e97ffcf3",
   "metadata": {},
   "outputs": [
    {
     "data": {
      "text/html": [
       "<div>\n",
       "<style scoped>\n",
       "    .dataframe tbody tr th:only-of-type {\n",
       "        vertical-align: middle;\n",
       "    }\n",
       "\n",
       "    .dataframe tbody tr th {\n",
       "        vertical-align: top;\n",
       "    }\n",
       "\n",
       "    .dataframe thead th {\n",
       "        text-align: right;\n",
       "    }\n",
       "</style>\n",
       "<table border=\"1\" class=\"dataframe\">\n",
       "  <thead>\n",
       "    <tr style=\"text-align: right;\">\n",
       "      <th></th>\n",
       "      <th>clients</th>\n",
       "      <th>debt_rate</th>\n",
       "    </tr>\n",
       "    <tr>\n",
       "      <th>family_status</th>\n",
       "      <th></th>\n",
       "      <th></th>\n",
       "    </tr>\n",
       "  </thead>\n",
       "  <tbody>\n",
       "    <tr>\n",
       "      <td>женат / замужем</td>\n",
       "      <td>12344</td>\n",
       "      <td>0.075421</td>\n",
       "    </tr>\n",
       "    <tr>\n",
       "      <td>гражданский брак</td>\n",
       "      <td>4163</td>\n",
       "      <td>0.093202</td>\n",
       "    </tr>\n",
       "    <tr>\n",
       "      <td>вдовец / вдова</td>\n",
       "      <td>959</td>\n",
       "      <td>0.065693</td>\n",
       "    </tr>\n",
       "    <tr>\n",
       "      <td>в разводе</td>\n",
       "      <td>1195</td>\n",
       "      <td>0.071130</td>\n",
       "    </tr>\n",
       "    <tr>\n",
       "      <td>Не женат / не замужем</td>\n",
       "      <td>2810</td>\n",
       "      <td>0.097509</td>\n",
       "    </tr>\n",
       "  </tbody>\n",
       "</table>\n",
       "</div>"
      ],
      "text/plain": [
       "                       clients  debt_rate\n",
       "family_status                            \n",
       "женат / замужем          12344   0.075421\n",
       "гражданский брак          4163   0.093202\n",
       "вдовец / вдова             959   0.065693\n",
       "в разводе                 1195   0.071130\n",
       "Не женат / не замужем     2810   0.097509"
      ]
     },
     "execution_count": 92,
     "metadata": {},
     "output_type": "execute_result"
    }
   ],
   "source": [
    "debt_by_family_status"
   ]
  },
  {
   "cell_type": "code",
   "execution_count": 93,
   "id": "1ceaebe5",
   "metadata": {},
   "outputs": [
    {
     "data": {
      "text/plain": [
       "array([<matplotlib.axes._subplots.AxesSubplot object at 0x7fbb3c1385d0>,\n",
       "       <matplotlib.axes._subplots.AxesSubplot object at 0x7fbb3c16bc50>],\n",
       "      dtype=object)"
      ]
     },
     "execution_count": 93,
     "metadata": {},
     "output_type": "execute_result"
    },
    {
     "data": {
      "image/png": "[encoded data removed]",
      "text/plain": [
       "<Figure size 360x576 with 2 Axes>"
      ]
     },
     "metadata": {
      "needs_background": "light"
     },
     "output_type": "display_data"
    }
   ],
   "source": [
    "(debt_by_family_status\n",
    " .plot(kind='bar', subplots=True, figsize=(5, 8)))"
   ]
  },
  {
   "cell_type": "markdown",
   "id": "e993b676",
   "metadata": {},
   "source": [
    "Будем считать, что все группы клиентов по семейному положению достаточно многочисленны, чтобы доверять значению доли должников в них. Опять же, для строгого анализа необходима оценка статистической значимости доли должников в каждой группе, но не в этот раз.\n",
    "\n",
    "Сравним долю должников в каждой группе клиентов с аналогичной долей в самой многочисленной группе женатых/замужних клиентов."
   ]
  },
  {
   "cell_type": "code",
   "execution_count": 94,
   "id": "a6d3bf1e",
   "metadata": {},
   "outputs": [],
   "source": [
    "# считаем абсолютную разницу между долей должников в каждой группе и группе женатых/замужних\n",
    "debt_by_family_status['married_diff'] \\\n",
    "= debt_by_family_status['debt_rate'] \\\n",
    "- debt_by_family_status.loc['женат / замужем', 'debt_rate']"
   ]
  },
  {
   "cell_type": "code",
   "execution_count": 95,
   "id": "ee7974da",
   "metadata": {},
   "outputs": [],
   "source": [
    "# считаем относительную разницу между долей должников в каждой группе и группе женатых/замужних\n",
    "debt_by_family_status['married_ratio'] \\\n",
    "= debt_by_family_status['married_diff'] \\\n",
    "/ debt_by_family_status.loc['женат / замужем', 'debt_rate']"
   ]
  },
  {
   "cell_type": "code",
   "execution_count": 96,
   "id": "0eb233cd",
   "metadata": {},
   "outputs": [
    {
     "data": {
      "text/html": [
       "<div>\n",
       "<style scoped>\n",
       "    .dataframe tbody tr th:only-of-type {\n",
       "        vertical-align: middle;\n",
       "    }\n",
       "\n",
       "    .dataframe tbody tr th {\n",
       "        vertical-align: top;\n",
       "    }\n",
       "\n",
       "    .dataframe thead th {\n",
       "        text-align: right;\n",
       "    }\n",
       "</style>\n",
       "<table border=\"1\" class=\"dataframe\">\n",
       "  <thead>\n",
       "    <tr style=\"text-align: right;\">\n",
       "      <th></th>\n",
       "      <th>clients</th>\n",
       "      <th>debt_rate</th>\n",
       "      <th>married_diff</th>\n",
       "      <th>married_ratio</th>\n",
       "    </tr>\n",
       "    <tr>\n",
       "      <th>family_status</th>\n",
       "      <th></th>\n",
       "      <th></th>\n",
       "      <th></th>\n",
       "      <th></th>\n",
       "    </tr>\n",
       "  </thead>\n",
       "  <tbody>\n",
       "    <tr>\n",
       "      <td>женат / замужем</td>\n",
       "      <td>12344</td>\n",
       "      <td>0.075421</td>\n",
       "      <td>0.000000</td>\n",
       "      <td>0.000000</td>\n",
       "    </tr>\n",
       "    <tr>\n",
       "      <td>гражданский брак</td>\n",
       "      <td>4163</td>\n",
       "      <td>0.093202</td>\n",
       "      <td>0.017781</td>\n",
       "      <td>0.235753</td>\n",
       "    </tr>\n",
       "    <tr>\n",
       "      <td>вдовец / вдова</td>\n",
       "      <td>959</td>\n",
       "      <td>0.065693</td>\n",
       "      <td>-0.009728</td>\n",
       "      <td>-0.128980</td>\n",
       "    </tr>\n",
       "    <tr>\n",
       "      <td>в разводе</td>\n",
       "      <td>1195</td>\n",
       "      <td>0.071130</td>\n",
       "      <td>-0.004292</td>\n",
       "      <td>-0.056901</td>\n",
       "    </tr>\n",
       "    <tr>\n",
       "      <td>Не женат / не замужем</td>\n",
       "      <td>2810</td>\n",
       "      <td>0.097509</td>\n",
       "      <td>0.022088</td>\n",
       "      <td>0.292857</td>\n",
       "    </tr>\n",
       "  </tbody>\n",
       "</table>\n",
       "</div>"
      ],
      "text/plain": [
       "                       clients  debt_rate  married_diff  married_ratio\n",
       "family_status                                                         \n",
       "женат / замужем          12344   0.075421      0.000000       0.000000\n",
       "гражданский брак          4163   0.093202      0.017781       0.235753\n",
       "вдовец / вдова             959   0.065693     -0.009728      -0.128980\n",
       "в разводе                 1195   0.071130     -0.004292      -0.056901\n",
       "Не женат / не замужем     2810   0.097509      0.022088       0.292857"
      ]
     },
     "execution_count": 96,
     "metadata": {},
     "output_type": "execute_result"
    }
   ],
   "source": [
    "# выводим результаты \n",
    "debt_by_family_status"
   ]
  },
  {
   "cell_type": "markdown",
   "id": "23504263",
   "metadata": {},
   "source": [
    "Доля должников среди неженатых/незамужних клиентов на 2,2 пп. или 29% выше, чем среди женатых/замужних.<br>\n",
    "Доля должников среди клиентов в гражданском браке на 1,8 пп. или 24% выше, чем среди женатых/замужних.<br>\n",
    "Доля должников среди клиентов в разводе на 0,4 пп. или 6% ниже, чем среди женатых/замужних.<br>\n",
    "Доля должников среди овдовевших клиентов на 1,0 пп. или 13% ниже, чем среди женатых/замужних.\n",
    "\n",
    ">Таким образом, клиенты, состоящие или состоявшие в официальном браке, реже других становятся должниками. Риск возникновения задолженности у неженатых/незамужних клиентов и клиентов, состоящих в гражданском браке, выше, чем у женатых/замужних, на 29 и 24%, соответственно. А у разведенных и овдовевших клиентов этот риск даже ниже, чем у женатых/замужних: на 6 и 13%, соответственно."
   ]
  },
  {
   "cell_type": "markdown",
   "id": "c9aea855",
   "metadata": {},
   "source": [
    "### Есть ли зависимость между уровнем дохода и возвратом кредита в срок?"
   ]
  },
  {
   "cell_type": "markdown",
   "id": "6950cfa1",
   "metadata": {},
   "source": [
    "Посмотрим, как доля должников зависит от уровня дохода клиента."
   ]
  },
  {
   "cell_type": "code",
   "execution_count": 97,
   "id": "3665f1ff",
   "metadata": {},
   "outputs": [],
   "source": [
    "debt_by_income = (df.groupby('total_income_category')\n",
    "                  .agg(clients=pd.NamedAgg(column='debt', aggfunc='count'),\n",
    "                       debt_rate=pd.NamedAgg(column='debt', aggfunc='mean')))"
   ]
  },
  {
   "cell_type": "code",
   "execution_count": 98,
   "id": "033f02da",
   "metadata": {},
   "outputs": [
    {
     "data": {
      "text/html": [
       "<div>\n",
       "<style scoped>\n",
       "    .dataframe tbody tr th:only-of-type {\n",
       "        vertical-align: middle;\n",
       "    }\n",
       "\n",
       "    .dataframe tbody tr th {\n",
       "        vertical-align: top;\n",
       "    }\n",
       "\n",
       "    .dataframe thead th {\n",
       "        text-align: right;\n",
       "    }\n",
       "</style>\n",
       "<table border=\"1\" class=\"dataframe\">\n",
       "  <thead>\n",
       "    <tr style=\"text-align: right;\">\n",
       "      <th></th>\n",
       "      <th>clients</th>\n",
       "      <th>debt_rate</th>\n",
       "    </tr>\n",
       "    <tr>\n",
       "      <th>total_income_category</th>\n",
       "      <th></th>\n",
       "      <th></th>\n",
       "    </tr>\n",
       "  </thead>\n",
       "  <tbody>\n",
       "    <tr>\n",
       "      <td>E</td>\n",
       "      <td>22</td>\n",
       "      <td>0.090909</td>\n",
       "    </tr>\n",
       "    <tr>\n",
       "      <td>D</td>\n",
       "      <td>350</td>\n",
       "      <td>0.060000</td>\n",
       "    </tr>\n",
       "    <tr>\n",
       "      <td>C</td>\n",
       "      <td>16032</td>\n",
       "      <td>0.084830</td>\n",
       "    </tr>\n",
       "    <tr>\n",
       "      <td>B</td>\n",
       "      <td>5042</td>\n",
       "      <td>0.070607</td>\n",
       "    </tr>\n",
       "    <tr>\n",
       "      <td>A</td>\n",
       "      <td>25</td>\n",
       "      <td>0.080000</td>\n",
       "    </tr>\n",
       "  </tbody>\n",
       "</table>\n",
       "</div>"
      ],
      "text/plain": [
       "                       clients  debt_rate\n",
       "total_income_category                    \n",
       "E                           22   0.090909\n",
       "D                          350   0.060000\n",
       "C                        16032   0.084830\n",
       "B                         5042   0.070607\n",
       "A                           25   0.080000"
      ]
     },
     "execution_count": 98,
     "metadata": {},
     "output_type": "execute_result"
    }
   ],
   "source": [
    "debt_by_income"
   ]
  },
  {
   "cell_type": "code",
   "execution_count": 99,
   "id": "e0b0f382",
   "metadata": {},
   "outputs": [
    {
     "data": {
      "text/plain": [
       "array([<matplotlib.axes._subplots.AxesSubplot object at 0x7fbb3c088c10>,\n",
       "       <matplotlib.axes._subplots.AxesSubplot object at 0x7fbb3c057910>],\n",
       "      dtype=object)"
      ]
     },
     "execution_count": 99,
     "metadata": {},
     "output_type": "execute_result"
    },
    {
     "data": {
      "image/png": "[encoded data removed]",
      "text/plain": [
       "<Figure size 360x576 with 2 Axes>"
      ]
     },
     "metadata": {
      "needs_background": "light"
     },
     "output_type": "display_data"
    }
   ],
   "source": [
    "(debt_by_income\n",
    " .plot(kind='bar', subplots=True, figsize=(5, 8)))"
   ]
  },
  {
   "cell_type": "markdown",
   "id": "37a2a19c",
   "metadata": {},
   "source": [
    "Мы, по сути, имеем дело с клиентами лишь из двух категорий уровня дохода: В и С с долей должников 7,1 и 8,5%, соответственно. Остальные категории слишком малочисленны, чтобы делать какие-то выводы о доле должников в них. Но, по-прежнему, для строгого анализа необходима оценка статистической значимости доли должников в каждой категории.\n",
    "\n",
    "Сравним долю должников в каждой категории с аналогичной долей в самой многочисленной категории С."
   ]
  },
  {
   "cell_type": "code",
   "execution_count": 100,
   "id": "06325361",
   "metadata": {},
   "outputs": [],
   "source": [
    "# считаем абсолютную разницу между долей должников в каждой категории и категории С\n",
    "debt_by_income['С_diff'] \\\n",
    "= debt_by_income['debt_rate'] \\\n",
    "- debt_by_income.loc['C', 'debt_rate']"
   ]
  },
  {
   "cell_type": "code",
   "execution_count": 101,
   "id": "b795c6ae",
   "metadata": {},
   "outputs": [],
   "source": [
    "# считаем относительную разницу между долей должников в каждой категории и категории С\n",
    "debt_by_income['С_ratio'] \\\n",
    "= debt_by_income['С_diff'] \\\n",
    "/ debt_by_income.loc['C', 'debt_rate']"
   ]
  },
  {
   "cell_type": "code",
   "execution_count": 102,
   "id": "45eb665a",
   "metadata": {},
   "outputs": [
    {
     "data": {
      "text/html": [
       "<div>\n",
       "<style scoped>\n",
       "    .dataframe tbody tr th:only-of-type {\n",
       "        vertical-align: middle;\n",
       "    }\n",
       "\n",
       "    .dataframe tbody tr th {\n",
       "        vertical-align: top;\n",
       "    }\n",
       "\n",
       "    .dataframe thead th {\n",
       "        text-align: right;\n",
       "    }\n",
       "</style>\n",
       "<table border=\"1\" class=\"dataframe\">\n",
       "  <thead>\n",
       "    <tr style=\"text-align: right;\">\n",
       "      <th></th>\n",
       "      <th>clients</th>\n",
       "      <th>debt_rate</th>\n",
       "      <th>С_diff</th>\n",
       "      <th>С_ratio</th>\n",
       "    </tr>\n",
       "    <tr>\n",
       "      <th>total_income_category</th>\n",
       "      <th></th>\n",
       "      <th></th>\n",
       "      <th></th>\n",
       "      <th></th>\n",
       "    </tr>\n",
       "  </thead>\n",
       "  <tbody>\n",
       "    <tr>\n",
       "      <td>C</td>\n",
       "      <td>16032</td>\n",
       "      <td>0.084830</td>\n",
       "      <td>0.000000</td>\n",
       "      <td>0.000000</td>\n",
       "    </tr>\n",
       "    <tr>\n",
       "      <td>B</td>\n",
       "      <td>5042</td>\n",
       "      <td>0.070607</td>\n",
       "      <td>-0.014223</td>\n",
       "      <td>-0.167669</td>\n",
       "    </tr>\n",
       "  </tbody>\n",
       "</table>\n",
       "</div>"
      ],
      "text/plain": [
       "                       clients  debt_rate    С_diff   С_ratio\n",
       "total_income_category                                        \n",
       "C                        16032   0.084830  0.000000  0.000000\n",
       "B                         5042   0.070607 -0.014223 -0.167669"
      ]
     },
     "execution_count": 102,
     "metadata": {},
     "output_type": "execute_result"
    }
   ],
   "source": [
    "# выводим результаты для двух основных категорий\n",
    "debt_by_income.loc['C':'B']"
   ]
  },
  {
   "cell_type": "markdown",
   "id": "e2776b8f",
   "metadata": {},
   "source": [
    "Доля должников в категории уровня дохода B на 1,4 пп. или 17% ниже, чем в категории С.\n",
    "\n",
    ">Таким образом, риск возникновения задолженности среди клиентов с уровнем дохода от 200001 до 1000000 на 17% ниже, чем среди клиентов с уровнем дохода от 50001 до 200000. Для оценки риска возникновения задолженности у клиентов с уровнем дохода ниже 50001 и выше 1000000, скорее всего, не достаточно статистики."
   ]
  },
  {
   "cell_type": "markdown",
   "id": "9c4215a7",
   "metadata": {},
   "source": [
    "### Как разные цели кредита влияют на его возврат в срок?"
   ]
  },
  {
   "cell_type": "markdown",
   "id": "a2f15f7a",
   "metadata": {},
   "source": [
    "Посмотрим, как доля должников зависит от цели кредита."
   ]
  },
  {
   "cell_type": "code",
   "execution_count": 103,
   "id": "8d348636",
   "metadata": {},
   "outputs": [],
   "source": [
    "debt_by_purpose = (df.groupby('purpose_category')\n",
    "                   .agg(clients=pd.NamedAgg(column='debt', aggfunc='count'),\n",
    "                        debt_rate=pd.NamedAgg(column='debt', aggfunc='mean')))"
   ]
  },
  {
   "cell_type": "code",
   "execution_count": 104,
   "id": "5e51b8e4",
   "metadata": {},
   "outputs": [
    {
     "data": {
      "text/html": [
       "<div>\n",
       "<style scoped>\n",
       "    .dataframe tbody tr th:only-of-type {\n",
       "        vertical-align: middle;\n",
       "    }\n",
       "\n",
       "    .dataframe tbody tr th {\n",
       "        vertical-align: top;\n",
       "    }\n",
       "\n",
       "    .dataframe thead th {\n",
       "        text-align: right;\n",
       "    }\n",
       "</style>\n",
       "<table border=\"1\" class=\"dataframe\">\n",
       "  <thead>\n",
       "    <tr style=\"text-align: right;\">\n",
       "      <th></th>\n",
       "      <th>clients</th>\n",
       "      <th>debt_rate</th>\n",
       "    </tr>\n",
       "    <tr>\n",
       "      <th>purpose_category</th>\n",
       "      <th></th>\n",
       "      <th></th>\n",
       "    </tr>\n",
       "  </thead>\n",
       "  <tbody>\n",
       "    <tr>\n",
       "      <td>операции с автомобилем</td>\n",
       "      <td>4308</td>\n",
       "      <td>0.093547</td>\n",
       "    </tr>\n",
       "    <tr>\n",
       "      <td>операции с недвижимостью</td>\n",
       "      <td>10814</td>\n",
       "      <td>0.072314</td>\n",
       "    </tr>\n",
       "    <tr>\n",
       "      <td>получение образования</td>\n",
       "      <td>4014</td>\n",
       "      <td>0.092177</td>\n",
       "    </tr>\n",
       "    <tr>\n",
       "      <td>проведение свадьбы</td>\n",
       "      <td>2335</td>\n",
       "      <td>0.079657</td>\n",
       "    </tr>\n",
       "  </tbody>\n",
       "</table>\n",
       "</div>"
      ],
      "text/plain": [
       "                          clients  debt_rate\n",
       "purpose_category                            \n",
       "операции с автомобилем       4308   0.093547\n",
       "операции с недвижимостью    10814   0.072314\n",
       "получение образования        4014   0.092177\n",
       "проведение свадьбы           2335   0.079657"
      ]
     },
     "execution_count": 104,
     "metadata": {},
     "output_type": "execute_result"
    }
   ],
   "source": [
    "debt_by_purpose"
   ]
  },
  {
   "cell_type": "code",
   "execution_count": 105,
   "id": "e6f270ad",
   "metadata": {},
   "outputs": [
    {
     "data": {
      "text/plain": [
       "array([<matplotlib.axes._subplots.AxesSubplot object at 0x7fbb36f43d10>,\n",
       "       <matplotlib.axes._subplots.AxesSubplot object at 0x7fbb36f0e510>],\n",
       "      dtype=object)"
      ]
     },
     "execution_count": 105,
     "metadata": {},
     "output_type": "execute_result"
    },
    {
     "data": {
      "image/png": "[encoded data removed]",
      "text/plain": [
       "<Figure size 360x576 with 2 Axes>"
      ]
     },
     "metadata": {
      "needs_background": "light"
     },
     "output_type": "display_data"
    }
   ],
   "source": [
    "(debt_by_purpose\n",
    " .plot(kind='bar', subplots=True, figsize=(5, 8)))"
   ]
  },
  {
   "cell_type": "markdown",
   "id": "79c2a8cf",
   "metadata": {},
   "source": [
    "Будем считать, что все группы клиентов по цели кредита достаточно многочисленны, чтобы доверять значению доли должников в них. Тем не менее, как мы помним, для строгого анализа необходима оценка статистической значимости доли должников в каждой группе.\n",
    "\n",
    "Сравним долю должников в каждой группе с аналогичной долей в самой многочисленной группе – категории целей кредита «операции с недвижимостью»."
   ]
  },
  {
   "cell_type": "code",
   "execution_count": 106,
   "id": "2af40c35",
   "metadata": {},
   "outputs": [],
   "source": [
    "# считаем абсолютную разницу между долей должников в каждой группе \n",
    "# и группе «операции с недвижимостью»\n",
    "debt_by_purpose['realty_diff'] \\\n",
    "= debt_by_purpose['debt_rate'] \\\n",
    "- debt_by_purpose.loc['операции с недвижимостью', 'debt_rate']"
   ]
  },
  {
   "cell_type": "code",
   "execution_count": 107,
   "id": "d8244c85",
   "metadata": {},
   "outputs": [],
   "source": [
    "# считаем относительную разницу между долей должников в каждой группе \n",
    "# и группе «операции с недвижимостью»\n",
    "debt_by_purpose['realty_ratio'] \\\n",
    "= debt_by_purpose['realty_diff'] \\\n",
    "/ debt_by_purpose.loc['операции с недвижимостью', 'debt_rate']"
   ]
  },
  {
   "cell_type": "code",
   "execution_count": 108,
   "id": "1792be2d",
   "metadata": {},
   "outputs": [
    {
     "data": {
      "text/html": [
       "<div>\n",
       "<style scoped>\n",
       "    .dataframe tbody tr th:only-of-type {\n",
       "        vertical-align: middle;\n",
       "    }\n",
       "\n",
       "    .dataframe tbody tr th {\n",
       "        vertical-align: top;\n",
       "    }\n",
       "\n",
       "    .dataframe thead th {\n",
       "        text-align: right;\n",
       "    }\n",
       "</style>\n",
       "<table border=\"1\" class=\"dataframe\">\n",
       "  <thead>\n",
       "    <tr style=\"text-align: right;\">\n",
       "      <th></th>\n",
       "      <th>clients</th>\n",
       "      <th>debt_rate</th>\n",
       "      <th>realty_diff</th>\n",
       "      <th>realty_ratio</th>\n",
       "    </tr>\n",
       "    <tr>\n",
       "      <th>purpose_category</th>\n",
       "      <th></th>\n",
       "      <th></th>\n",
       "      <th></th>\n",
       "      <th></th>\n",
       "    </tr>\n",
       "  </thead>\n",
       "  <tbody>\n",
       "    <tr>\n",
       "      <td>операции с автомобилем</td>\n",
       "      <td>4308</td>\n",
       "      <td>0.093547</td>\n",
       "      <td>0.021233</td>\n",
       "      <td>0.293627</td>\n",
       "    </tr>\n",
       "    <tr>\n",
       "      <td>операции с недвижимостью</td>\n",
       "      <td>10814</td>\n",
       "      <td>0.072314</td>\n",
       "      <td>0.000000</td>\n",
       "      <td>0.000000</td>\n",
       "    </tr>\n",
       "    <tr>\n",
       "      <td>получение образования</td>\n",
       "      <td>4014</td>\n",
       "      <td>0.092177</td>\n",
       "      <td>0.019864</td>\n",
       "      <td>0.274688</td>\n",
       "    </tr>\n",
       "    <tr>\n",
       "      <td>проведение свадьбы</td>\n",
       "      <td>2335</td>\n",
       "      <td>0.079657</td>\n",
       "      <td>0.007344</td>\n",
       "      <td>0.101554</td>\n",
       "    </tr>\n",
       "  </tbody>\n",
       "</table>\n",
       "</div>"
      ],
      "text/plain": [
       "                          clients  debt_rate  realty_diff  realty_ratio\n",
       "purpose_category                                                       \n",
       "операции с автомобилем       4308   0.093547     0.021233      0.293627\n",
       "операции с недвижимостью    10814   0.072314     0.000000      0.000000\n",
       "получение образования        4014   0.092177     0.019864      0.274688\n",
       "проведение свадьбы           2335   0.079657     0.007344      0.101554"
      ]
     },
     "execution_count": 108,
     "metadata": {},
     "output_type": "execute_result"
    }
   ],
   "source": [
    "# выводим результаты \n",
    "debt_by_purpose"
   ]
  },
  {
   "cell_type": "markdown",
   "id": "afe782dd",
   "metadata": {},
   "source": [
    "Доля должников среди клиентов с автокредитом на 2,1 пп. или 29% выше, чем среди ипотечников.<br>\n",
    "Доля должников среди клиентов с кредитом на образование на 2,0 пп. или 27% выше, чем среди ипотечников.<br>\n",
    "Доля должников среди клиентов с кредитом на свадьбу на 0,7 пп. или 10% выше, чем среди ипотечников.\n",
    "\n",
    ">Таким образом, риск возникновения задолженности выше у клиентов с кредитами на автомобиль (9,4%) или образование (9,2%) и ниже у клиентов с кредитами на недвижимость (7,2%) или свадьбу (8,0%)."
   ]
  },
  {
   "cell_type": "markdown",
   "id": "c7c74231",
   "metadata": {},
   "source": [
    "## Общий вывод"
   ]
  },
  {
   "cell_type": "markdown",
   "id": "145a1b93",
   "metadata": {},
   "source": [
    "По имеющимся данным можно сделать следующие выводы.\n",
    "<ol>\n",
    "<li>Наличие у клиента одного–двух детей повышает риск возникновения задолженности примерно на четверть по сравнению со клиентом без детей.</li>\n",
    "<li>Клиенты, не состоявшие в официальном браке, становятся должниками примерно на 25–50% чаще, чем клиенты состоящие или состоявшие в нем.</li>\n",
    "<li>Риск возникновения задолженности у клиентов с доходом 200–1000k на 17% ниже, чем у клиентов с доходом 50–200k.</li>\n",
    "<li>Клиенты с кредитами на автомобиль или образование примерно на 15–30% чаще становятся должниками, чем клиенты с кредитами на недвижимость или свадьбу.</li>\n",
    "</ol>\n",
    "\n",
    "Для более точного ответа на поставленные вопросы требуется больше данных по менее представленным группам клиентов."
   ]
  }
 ],
 "metadata": {
  "ExecuteTimeLog": [
   {
    "duration": 741,
    "start_time": "2022-02-02T21:32:46.684Z"
   },
   {
    "duration": 19,
    "start_time": "2022-02-02T21:33:29.974Z"
   },
   {
    "duration": 58,
    "start_time": "2022-02-02T21:46:58.866Z"
   },
   {
    "duration": 61,
    "start_time": "2022-02-02T21:50:29.164Z"
   },
   {
    "duration": 60,
    "start_time": "2022-02-02T21:50:58.937Z"
   },
   {
    "duration": 14,
    "start_time": "2022-02-02T21:51:02.705Z"
   },
   {
    "duration": 59,
    "start_time": "2022-02-02T21:51:33.168Z"
   },
   {
    "duration": 13,
    "start_time": "2022-02-02T21:51:33.229Z"
   },
   {
    "duration": 60,
    "start_time": "2022-02-02T21:51:56.210Z"
   },
   {
    "duration": 15,
    "start_time": "2022-02-02T21:51:57.296Z"
   },
   {
    "duration": 16,
    "start_time": "2022-02-02T21:54:54.223Z"
   },
   {
    "duration": 395,
    "start_time": "2022-02-02T21:58:16.671Z"
   },
   {
    "duration": 68,
    "start_time": "2022-02-02T21:59:12.751Z"
   },
   {
    "duration": 64,
    "start_time": "2022-02-02T22:00:40.126Z"
   },
   {
    "duration": 69,
    "start_time": "2022-02-02T22:09:29.256Z"
   },
   {
    "duration": 59,
    "start_time": "2022-02-02T22:09:56.550Z"
   },
   {
    "duration": 9,
    "start_time": "2022-02-02T22:14:13.395Z"
   },
   {
    "duration": 73,
    "start_time": "2022-02-02T22:15:38.143Z"
   },
   {
    "duration": 313,
    "start_time": "2022-02-02T22:17:50.977Z"
   },
   {
    "duration": 89,
    "start_time": "2022-02-02T22:18:30.051Z"
   },
   {
    "duration": 85,
    "start_time": "2022-02-02T22:19:07.314Z"
   },
   {
    "duration": 19,
    "start_time": "2022-02-02T22:20:00.674Z"
   },
   {
    "duration": 8,
    "start_time": "2022-02-02T22:21:02.004Z"
   },
   {
    "duration": 5,
    "start_time": "2022-02-02T22:33:39.089Z"
   },
   {
    "duration": 5,
    "start_time": "2022-02-02T22:34:08.838Z"
   },
   {
    "duration": 25,
    "start_time": "2022-02-02T22:34:50.264Z"
   },
   {
    "duration": 28,
    "start_time": "2022-02-02T22:34:52.436Z"
   },
   {
    "duration": 26,
    "start_time": "2022-02-02T22:35:07.236Z"
   },
   {
    "duration": 8,
    "start_time": "2022-02-02T22:36:55.434Z"
   },
   {
    "duration": 907,
    "start_time": "2022-02-02T22:44:19.451Z"
   },
   {
    "duration": 280,
    "start_time": "2022-02-02T22:44:39.988Z"
   },
   {
    "duration": 468,
    "start_time": "2022-02-02T22:46:24.308Z"
   },
   {
    "duration": 451,
    "start_time": "2022-02-02T22:47:31.923Z"
   },
   {
    "duration": 411,
    "start_time": "2022-02-02T22:49:34.529Z"
   },
   {
    "duration": 239,
    "start_time": "2022-02-02T22:52:02.723Z"
   },
   {
    "duration": 341,
    "start_time": "2022-02-02T22:52:25.717Z"
   },
   {
    "duration": 60,
    "start_time": "2022-02-02T22:53:11.956Z"
   },
   {
    "duration": 22,
    "start_time": "2022-02-02T22:53:12.017Z"
   },
   {
    "duration": 10,
    "start_time": "2022-02-02T22:53:12.041Z"
   },
   {
    "duration": 358,
    "start_time": "2022-02-02T22:53:12.053Z"
   },
   {
    "duration": 422,
    "start_time": "2022-02-02T22:54:49.513Z"
   },
   {
    "duration": 468,
    "start_time": "2022-02-02T22:55:06.065Z"
   },
   {
    "duration": 400,
    "start_time": "2022-02-02T22:57:07.954Z"
   },
   {
    "duration": 428,
    "start_time": "2022-02-02T22:57:49.528Z"
   },
   {
    "duration": 432,
    "start_time": "2022-02-02T22:59:05.334Z"
   },
   {
    "duration": 1747,
    "start_time": "2022-02-02T23:15:17.914Z"
   },
   {
    "duration": 1502,
    "start_time": "2022-02-02T23:15:46.806Z"
   },
   {
    "duration": 795,
    "start_time": "2022-02-02T23:18:51.696Z"
   },
   {
    "duration": 432,
    "start_time": "2022-02-02T23:19:18.568Z"
   },
   {
    "duration": 320,
    "start_time": "2022-02-02T23:19:37.278Z"
   },
   {
    "duration": 256,
    "start_time": "2022-02-02T23:20:39.098Z"
   },
   {
    "duration": 246,
    "start_time": "2022-02-02T23:21:07.204Z"
   },
   {
    "duration": 12,
    "start_time": "2022-02-02T23:23:14.015Z"
   },
   {
    "duration": 15,
    "start_time": "2022-02-02T23:23:56.042Z"
   },
   {
    "duration": 20,
    "start_time": "2022-02-02T23:25:36.387Z"
   },
   {
    "duration": 23,
    "start_time": "2022-02-02T23:25:43.894Z"
   },
   {
    "duration": 22,
    "start_time": "2022-02-02T23:25:48.148Z"
   },
   {
    "duration": 24,
    "start_time": "2022-02-02T23:25:51.375Z"
   },
   {
    "duration": 20,
    "start_time": "2022-02-02T23:25:54.618Z"
   },
   {
    "duration": 20,
    "start_time": "2022-02-02T23:25:57.337Z"
   },
   {
    "duration": 25,
    "start_time": "2022-02-02T23:26:00.527Z"
   },
   {
    "duration": 1564,
    "start_time": "2022-02-02T23:26:37.504Z"
   },
   {
    "duration": 1358,
    "start_time": "2022-02-02T23:28:03.620Z"
   },
   {
    "duration": 1543,
    "start_time": "2022-02-02T23:28:52.633Z"
   },
   {
    "duration": 267,
    "start_time": "2022-02-02T23:32:31.113Z"
   },
   {
    "duration": 259,
    "start_time": "2022-02-02T23:33:30.058Z"
   },
   {
    "duration": 244,
    "start_time": "2022-02-02T23:36:02.861Z"
   },
   {
    "duration": 249,
    "start_time": "2022-02-02T23:36:58.184Z"
   },
   {
    "duration": 295,
    "start_time": "2022-02-02T23:37:13.656Z"
   },
   {
    "duration": 254,
    "start_time": "2022-02-02T23:38:22.339Z"
   },
   {
    "duration": 261,
    "start_time": "2022-02-02T23:38:42.825Z"
   },
   {
    "duration": 239,
    "start_time": "2022-02-02T23:38:48.500Z"
   },
   {
    "duration": 5,
    "start_time": "2022-02-02T23:40:42.924Z"
   },
   {
    "duration": 355,
    "start_time": "2022-02-02T23:42:43.243Z"
   },
   {
    "duration": 170,
    "start_time": "2022-02-02T23:44:58.854Z"
   },
   {
    "duration": 188,
    "start_time": "2022-02-02T23:45:05.569Z"
   },
   {
    "duration": 217,
    "start_time": "2022-02-02T23:45:09.623Z"
   },
   {
    "duration": 543,
    "start_time": "2022-02-02T23:45:13.197Z"
   },
   {
    "duration": 207,
    "start_time": "2022-02-02T23:45:17.755Z"
   },
   {
    "duration": 277,
    "start_time": "2022-02-02T23:46:14.196Z"
   },
   {
    "duration": 385,
    "start_time": "2022-02-02T23:46:31.946Z"
   },
   {
    "duration": 271,
    "start_time": "2022-02-02T23:46:43.749Z"
   },
   {
    "duration": 269,
    "start_time": "2022-02-02T23:46:50.244Z"
   },
   {
    "duration": 281,
    "start_time": "2022-02-02T23:47:00.286Z"
   },
   {
    "duration": 230,
    "start_time": "2022-02-02T23:47:23.066Z"
   },
   {
    "duration": 480,
    "start_time": "2022-02-02T23:47:47.589Z"
   },
   {
    "duration": 216,
    "start_time": "2022-02-02T23:48:03.280Z"
   },
   {
    "duration": 239,
    "start_time": "2022-02-02T23:48:48.069Z"
   },
   {
    "duration": -4744,
    "start_time": "2022-02-02T23:49:23.814Z"
   },
   {
    "duration": 399,
    "start_time": "2022-02-02T23:49:20.205Z"
   },
   {
    "duration": 232,
    "start_time": "2022-02-02T23:49:51.616Z"
   },
   {
    "duration": 322,
    "start_time": "2022-02-02T23:50:26.134Z"
   },
   {
    "duration": 285,
    "start_time": "2022-02-02T23:51:07.062Z"
   },
   {
    "duration": 241,
    "start_time": "2022-02-02T23:52:23.658Z"
   },
   {
    "duration": 246,
    "start_time": "2022-02-02T23:52:56.773Z"
   },
   {
    "duration": 198,
    "start_time": "2022-02-02T23:53:36.484Z"
   },
   {
    "duration": 1041,
    "start_time": "2022-02-02T23:53:47.027Z"
   },
   {
    "duration": 204,
    "start_time": "2022-02-02T23:54:13.982Z"
   },
   {
    "duration": 233,
    "start_time": "2022-02-02T23:54:39.054Z"
   },
   {
    "duration": 300,
    "start_time": "2022-02-02T23:54:44.248Z"
   },
   {
    "duration": 1860,
    "start_time": "2022-02-02T23:54:53.845Z"
   },
   {
    "duration": 922,
    "start_time": "2022-02-02T23:55:02.092Z"
   },
   {
    "duration": 667,
    "start_time": "2022-02-02T23:55:06.127Z"
   },
   {
    "duration": 296,
    "start_time": "2022-02-02T23:55:12.871Z"
   },
   {
    "duration": 419,
    "start_time": "2022-02-02T23:55:37.607Z"
   },
   {
    "duration": 296,
    "start_time": "2022-02-02T23:55:45.572Z"
   },
   {
    "duration": 922,
    "start_time": "2022-02-03T18:17:12.042Z"
   },
   {
    "duration": 41,
    "start_time": "2022-02-03T18:17:12.968Z"
   },
   {
    "duration": 53,
    "start_time": "2022-02-03T18:17:13.013Z"
   },
   {
    "duration": 2847,
    "start_time": "2022-02-03T18:17:13.070Z"
   },
   {
    "duration": 834,
    "start_time": "2022-02-03T18:17:15.920Z"
   },
   {
    "duration": 1139,
    "start_time": "2022-02-03T18:19:09.864Z"
   },
   {
    "duration": 418,
    "start_time": "2022-02-03T18:19:30.162Z"
   },
   {
    "duration": 19,
    "start_time": "2022-02-03T18:20:26.784Z"
   },
   {
    "duration": 360,
    "start_time": "2022-02-03T18:24:38.481Z"
   },
   {
    "duration": 21,
    "start_time": "2022-02-03T18:25:52.129Z"
   },
   {
    "duration": 22,
    "start_time": "2022-02-03T18:26:30.916Z"
   },
   {
    "duration": 877,
    "start_time": "2022-02-03T18:28:03.548Z"
   },
   {
    "duration": 907,
    "start_time": "2022-02-03T18:44:07.168Z"
   },
   {
    "duration": 2062,
    "start_time": "2022-02-03T18:46:01.236Z"
   },
   {
    "duration": 793,
    "start_time": "2022-02-03T18:46:52.266Z"
   },
   {
    "duration": 357,
    "start_time": "2022-02-03T18:51:32.782Z"
   },
   {
    "duration": 21,
    "start_time": "2022-02-03T18:52:01.963Z"
   },
   {
    "duration": 23,
    "start_time": "2022-02-03T18:52:56.529Z"
   },
   {
    "duration": 22,
    "start_time": "2022-02-03T18:53:22.424Z"
   },
   {
    "duration": 785,
    "start_time": "2022-02-03T18:53:32.633Z"
   },
   {
    "duration": 1931,
    "start_time": "2022-02-03T18:53:45.436Z"
   },
   {
    "duration": 2027,
    "start_time": "2022-02-03T18:58:11.486Z"
   },
   {
    "duration": 2016,
    "start_time": "2022-02-03T18:58:27.909Z"
   },
   {
    "duration": 2013,
    "start_time": "2022-02-03T18:58:57.362Z"
   },
   {
    "duration": 1886,
    "start_time": "2022-02-03T19:00:07.754Z"
   },
   {
    "duration": 1976,
    "start_time": "2022-02-03T19:00:17.505Z"
   },
   {
    "duration": 2103,
    "start_time": "2022-02-03T19:00:30.492Z"
   },
   {
    "duration": 2102,
    "start_time": "2022-02-03T19:01:11.223Z"
   },
   {
    "duration": 2242,
    "start_time": "2022-02-03T19:01:39.842Z"
   },
   {
    "duration": 2056,
    "start_time": "2022-02-03T19:02:57.079Z"
   },
   {
    "duration": 1904,
    "start_time": "2022-02-03T19:03:07.408Z"
   },
   {
    "duration": 1850,
    "start_time": "2022-02-03T19:03:18.098Z"
   },
   {
    "duration": 2106,
    "start_time": "2022-02-03T19:06:59.525Z"
   },
   {
    "duration": 371,
    "start_time": "2022-02-03T19:08:27.270Z"
   },
   {
    "duration": 2051,
    "start_time": "2022-02-03T19:08:47.384Z"
   },
   {
    "duration": 172,
    "start_time": "2022-02-03T19:11:32.244Z"
   },
   {
    "duration": 22,
    "start_time": "2022-02-03T19:12:31.940Z"
   },
   {
    "duration": 23,
    "start_time": "2022-02-03T19:12:41.476Z"
   },
   {
    "duration": 961,
    "start_time": "2022-02-03T19:12:45.932Z"
   },
   {
    "duration": 1887,
    "start_time": "2022-02-03T19:13:33.476Z"
   },
   {
    "duration": 751,
    "start_time": "2022-02-03T19:13:54.063Z"
   },
   {
    "duration": 73,
    "start_time": "2022-02-03T19:14:39.447Z"
   },
   {
    "duration": 27,
    "start_time": "2022-02-03T19:14:43.206Z"
   },
   {
    "duration": 24,
    "start_time": "2022-02-03T19:14:50.629Z"
   },
   {
    "duration": 879,
    "start_time": "2022-02-03T19:14:55.037Z"
   },
   {
    "duration": 2042,
    "start_time": "2022-02-03T19:15:00.957Z"
   },
   {
    "duration": 9,
    "start_time": "2022-02-03T19:15:42.856Z"
   },
   {
    "duration": 354,
    "start_time": "2022-02-03T19:16:37.551Z"
   },
   {
    "duration": 10,
    "start_time": "2022-02-03T19:16:54.945Z"
   },
   {
    "duration": 10,
    "start_time": "2022-02-03T19:18:15.227Z"
   },
   {
    "duration": 12,
    "start_time": "2022-02-03T19:18:44.339Z"
   },
   {
    "duration": 11,
    "start_time": "2022-02-03T19:18:56.598Z"
   },
   {
    "duration": 347,
    "start_time": "2022-02-03T19:19:22.275Z"
   },
   {
    "duration": 1356,
    "start_time": "2022-02-03T19:20:19.508Z"
   },
   {
    "duration": 11,
    "start_time": "2022-02-03T19:20:29.033Z"
   },
   {
    "duration": 134,
    "start_time": "2022-02-03T19:21:51.516Z"
   },
   {
    "duration": 9792,
    "start_time": "2022-02-03T19:21:59.959Z"
   },
   {
    "duration": 9338,
    "start_time": "2022-02-03T19:22:10.917Z"
   },
   {
    "duration": 428,
    "start_time": "2022-02-03T19:22:57.875Z"
   },
   {
    "duration": 380,
    "start_time": "2022-02-03T19:23:05.431Z"
   },
   {
    "duration": 481,
    "start_time": "2022-02-03T19:23:12.213Z"
   },
   {
    "duration": 675,
    "start_time": "2022-02-03T19:23:37.603Z"
   },
   {
    "duration": 865,
    "start_time": "2022-02-03T19:23:51.761Z"
   },
   {
    "duration": 462,
    "start_time": "2022-02-03T19:23:58.072Z"
   },
   {
    "duration": 296,
    "start_time": "2022-02-03T19:24:12.416Z"
   },
   {
    "duration": 11,
    "start_time": "2022-02-03T19:25:28.620Z"
   },
   {
    "duration": 11,
    "start_time": "2022-02-03T19:27:40.860Z"
   },
   {
    "duration": 18,
    "start_time": "2022-02-03T19:28:10.159Z"
   },
   {
    "duration": 18,
    "start_time": "2022-02-03T19:28:58.467Z"
   },
   {
    "duration": 18,
    "start_time": "2022-02-03T19:29:28.613Z"
   },
   {
    "duration": 18,
    "start_time": "2022-02-03T19:29:31.030Z"
   },
   {
    "duration": 20,
    "start_time": "2022-02-03T19:29:31.795Z"
   },
   {
    "duration": 17,
    "start_time": "2022-02-03T19:30:54.183Z"
   },
   {
    "duration": 2380,
    "start_time": "2022-02-03T19:35:08.415Z"
   },
   {
    "duration": 690,
    "start_time": "2022-02-03T19:35:48.216Z"
   },
   {
    "duration": 10,
    "start_time": "2022-02-03T19:35:56.427Z"
   },
   {
    "duration": 10,
    "start_time": "2022-02-03T19:37:05.486Z"
   },
   {
    "duration": 11,
    "start_time": "2022-02-03T19:37:26.444Z"
   },
   {
    "duration": 9,
    "start_time": "2022-02-03T19:38:02.946Z"
   },
   {
    "duration": 11,
    "start_time": "2022-02-03T19:38:41.556Z"
   },
   {
    "duration": 301,
    "start_time": "2022-02-03T19:41:00.073Z"
   },
   {
    "duration": 298,
    "start_time": "2022-02-03T19:41:11.246Z"
   },
   {
    "duration": 77,
    "start_time": "2022-02-03T19:47:32.245Z"
   },
   {
    "duration": 21,
    "start_time": "2022-02-03T19:54:44.718Z"
   },
   {
    "duration": 117,
    "start_time": "2022-02-03T20:16:51.989Z"
   },
   {
    "duration": 6,
    "start_time": "2022-02-03T20:27:45.861Z"
   },
   {
    "duration": 281,
    "start_time": "2022-02-03T20:28:38.588Z"
   },
   {
    "duration": 515,
    "start_time": "2022-02-03T20:28:59.485Z"
   },
   {
    "duration": 403,
    "start_time": "2022-02-03T20:29:26.428Z"
   },
   {
    "duration": 438,
    "start_time": "2022-02-03T20:29:31.860Z"
   },
   {
    "duration": 314,
    "start_time": "2022-02-03T20:29:43.608Z"
   },
   {
    "duration": 114,
    "start_time": "2022-02-03T20:33:41.288Z"
   },
   {
    "duration": 79,
    "start_time": "2022-02-03T20:33:55.710Z"
   },
   {
    "duration": 516,
    "start_time": "2022-02-03T20:37:45.546Z"
   },
   {
    "duration": 2242,
    "start_time": "2022-02-03T20:45:12.800Z"
   },
   {
    "duration": 76,
    "start_time": "2022-02-03T20:51:23.485Z"
   },
   {
    "duration": 14,
    "start_time": "2022-02-03T20:51:23.563Z"
   },
   {
    "duration": 8,
    "start_time": "2022-02-03T20:51:23.580Z"
   },
   {
    "duration": 356,
    "start_time": "2022-02-03T20:51:23.590Z"
   },
   {
    "duration": 2268,
    "start_time": "2022-02-03T20:51:23.948Z"
   },
   {
    "duration": 542,
    "start_time": "2022-02-03T20:51:26.219Z"
   },
   {
    "duration": 318,
    "start_time": "2022-02-03T20:51:26.764Z"
   },
   {
    "duration": 19,
    "start_time": "2022-02-03T20:51:27.086Z"
   },
   {
    "duration": 18,
    "start_time": "2022-02-03T20:51:27.108Z"
   },
   {
    "duration": 40,
    "start_time": "2022-02-03T20:51:27.128Z"
   },
   {
    "duration": 12,
    "start_time": "2022-02-03T20:51:27.171Z"
   },
   {
    "duration": 10,
    "start_time": "2022-02-03T20:51:27.186Z"
   },
   {
    "duration": 61,
    "start_time": "2022-02-03T20:51:27.198Z"
   },
   {
    "duration": 22,
    "start_time": "2022-02-03T20:51:27.262Z"
   },
   {
    "duration": 973,
    "start_time": "2022-02-03T20:51:27.286Z"
   },
   {
    "duration": 2074,
    "start_time": "2022-02-03T20:51:28.262Z"
   },
   {
    "duration": 391,
    "start_time": "2022-02-03T21:22:50.472Z"
   },
   {
    "duration": 501,
    "start_time": "2022-02-03T21:32:17.081Z"
   },
   {
    "duration": 651,
    "start_time": "2022-02-03T21:38:58.689Z"
   },
   {
    "duration": 518,
    "start_time": "2022-02-03T21:43:01.531Z"
   },
   {
    "duration": 522,
    "start_time": "2022-02-03T21:43:17.680Z"
   },
   {
    "duration": 779,
    "start_time": "2022-02-03T21:43:34.846Z"
   },
   {
    "duration": 551,
    "start_time": "2022-02-03T21:43:42.683Z"
   },
   {
    "duration": 424,
    "start_time": "2022-02-03T21:43:54.516Z"
   },
   {
    "duration": 419,
    "start_time": "2022-02-03T21:44:03.965Z"
   },
   {
    "duration": 1026,
    "start_time": "2022-02-03T21:44:08.794Z"
   },
   {
    "duration": 523,
    "start_time": "2022-02-03T21:44:13.093Z"
   },
   {
    "duration": 332,
    "start_time": "2022-02-03T21:44:22.493Z"
   },
   {
    "duration": 399,
    "start_time": "2022-02-03T21:44:26.108Z"
   },
   {
    "duration": 421,
    "start_time": "2022-02-03T21:44:29.373Z"
   },
   {
    "duration": 448,
    "start_time": "2022-02-03T21:44:35.611Z"
   },
   {
    "duration": 404,
    "start_time": "2022-02-03T21:44:39.945Z"
   },
   {
    "duration": 409,
    "start_time": "2022-02-03T21:44:43.713Z"
   },
   {
    "duration": 1623,
    "start_time": "2022-02-03T21:44:47.493Z"
   },
   {
    "duration": 1163,
    "start_time": "2022-02-03T21:44:54.307Z"
   },
   {
    "duration": 413,
    "start_time": "2022-02-03T21:45:01.766Z"
   },
   {
    "duration": 502,
    "start_time": "2022-02-03T21:45:20.917Z"
   },
   {
    "duration": 403,
    "start_time": "2022-02-03T21:45:31.156Z"
   },
   {
    "duration": 432,
    "start_time": "2022-02-03T21:46:23.478Z"
   },
   {
    "duration": 356,
    "start_time": "2022-02-03T21:46:28.027Z"
   },
   {
    "duration": 349,
    "start_time": "2022-02-03T21:46:33.413Z"
   },
   {
    "duration": 398,
    "start_time": "2022-02-03T21:46:40.018Z"
   },
   {
    "duration": 387,
    "start_time": "2022-02-03T21:46:53.897Z"
   },
   {
    "duration": 401,
    "start_time": "2022-02-03T21:47:04.493Z"
   },
   {
    "duration": 11,
    "start_time": "2022-02-03T21:54:23.657Z"
   },
   {
    "duration": 78,
    "start_time": "2022-02-03T21:55:57.156Z"
   },
   {
    "duration": 353,
    "start_time": "2022-02-03T21:56:13.687Z"
   },
   {
    "duration": 84,
    "start_time": "2022-02-03T21:56:26.387Z"
   },
   {
    "duration": 16,
    "start_time": "2022-02-03T21:56:26.474Z"
   },
   {
    "duration": 8,
    "start_time": "2022-02-03T21:56:26.494Z"
   },
   {
    "duration": 426,
    "start_time": "2022-02-03T21:56:26.506Z"
   },
   {
    "duration": 314,
    "start_time": "2022-02-03T21:56:26.934Z"
   },
   {
    "duration": 27,
    "start_time": "2022-02-03T21:56:27.250Z"
   },
   {
    "duration": 16,
    "start_time": "2022-02-03T21:56:27.280Z"
   },
   {
    "duration": 9,
    "start_time": "2022-02-03T21:56:27.299Z"
   },
   {
    "duration": 12,
    "start_time": "2022-02-03T21:56:27.311Z"
   },
   {
    "duration": 410,
    "start_time": "2022-02-03T21:56:27.360Z"
   },
   {
    "duration": 359,
    "start_time": "2022-02-03T21:56:27.772Z"
   },
   {
    "duration": -5591,
    "start_time": "2022-02-03T21:56:33.725Z"
   },
   {
    "duration": -5596,
    "start_time": "2022-02-03T21:56:33.731Z"
   },
   {
    "duration": -5599,
    "start_time": "2022-02-03T21:56:33.736Z"
   },
   {
    "duration": -5604,
    "start_time": "2022-02-03T21:56:33.742Z"
   },
   {
    "duration": -5607,
    "start_time": "2022-02-03T21:56:33.747Z"
   },
   {
    "duration": -5612,
    "start_time": "2022-02-03T21:56:33.753Z"
   },
   {
    "duration": 353,
    "start_time": "2022-02-03T21:57:10.075Z"
   },
   {
    "duration": 83,
    "start_time": "2022-02-03T21:57:17.617Z"
   },
   {
    "duration": 10,
    "start_time": "2022-02-03T21:57:23.755Z"
   },
   {
    "duration": 378,
    "start_time": "2022-02-03T21:58:54.275Z"
   },
   {
    "duration": 372,
    "start_time": "2022-02-03T21:59:16.740Z"
   },
   {
    "duration": 391,
    "start_time": "2022-02-03T21:59:44.048Z"
   },
   {
    "duration": 7,
    "start_time": "2022-02-03T22:00:13.077Z"
   },
   {
    "duration": 6,
    "start_time": "2022-02-03T22:00:32.275Z"
   },
   {
    "duration": 115,
    "start_time": "2022-02-03T22:00:52.496Z"
   },
   {
    "duration": 115,
    "start_time": "2022-02-03T22:00:58.643Z"
   },
   {
    "duration": 124,
    "start_time": "2022-02-03T22:01:05.055Z"
   },
   {
    "duration": 117,
    "start_time": "2022-02-03T22:01:38.809Z"
   },
   {
    "duration": 6,
    "start_time": "2022-02-03T22:01:52.846Z"
   },
   {
    "duration": 6,
    "start_time": "2022-02-03T22:02:03.074Z"
   },
   {
    "duration": 6,
    "start_time": "2022-02-03T22:02:13.332Z"
   },
   {
    "duration": 5,
    "start_time": "2022-02-03T22:02:22.930Z"
   },
   {
    "duration": 126,
    "start_time": "2022-02-03T22:02:33.724Z"
   },
   {
    "duration": 121,
    "start_time": "2022-02-03T22:02:41.283Z"
   },
   {
    "duration": 8,
    "start_time": "2022-02-03T22:02:56.353Z"
   },
   {
    "duration": 118,
    "start_time": "2022-02-03T22:03:15.416Z"
   },
   {
    "duration": 115,
    "start_time": "2022-02-03T22:03:25.619Z"
   },
   {
    "duration": 129,
    "start_time": "2022-02-03T22:03:27.761Z"
   },
   {
    "duration": 5,
    "start_time": "2022-02-03T22:03:33.223Z"
   },
   {
    "duration": 5,
    "start_time": "2022-02-03T22:03:37.902Z"
   },
   {
    "duration": 346,
    "start_time": "2022-02-03T22:03:54.734Z"
   },
   {
    "duration": 6,
    "start_time": "2022-02-03T22:04:00.272Z"
   },
   {
    "duration": 6,
    "start_time": "2022-02-03T22:05:58.955Z"
   },
   {
    "duration": 5,
    "start_time": "2022-02-03T22:06:49.647Z"
   },
   {
    "duration": 6,
    "start_time": "2022-02-03T22:07:04.305Z"
   },
   {
    "duration": 6,
    "start_time": "2022-02-03T22:07:39.029Z"
   },
   {
    "duration": 127,
    "start_time": "2022-02-03T22:07:53.853Z"
   },
   {
    "duration": 7,
    "start_time": "2022-02-03T22:07:57.239Z"
   },
   {
    "duration": 127,
    "start_time": "2022-02-03T22:08:12.883Z"
   },
   {
    "duration": 7,
    "start_time": "2022-02-03T22:08:24.921Z"
   },
   {
    "duration": 7,
    "start_time": "2022-02-03T22:09:17.075Z"
   },
   {
    "duration": 6,
    "start_time": "2022-02-03T22:10:09.712Z"
   },
   {
    "duration": 6,
    "start_time": "2022-02-03T22:10:17.397Z"
   },
   {
    "duration": 383,
    "start_time": "2022-02-03T22:11:28.714Z"
   },
   {
    "duration": 415,
    "start_time": "2022-02-03T22:11:59.566Z"
   },
   {
    "duration": 6,
    "start_time": "2022-02-03T22:12:02.421Z"
   },
   {
    "duration": 114,
    "start_time": "2022-02-03T22:13:36.056Z"
   },
   {
    "duration": 20,
    "start_time": "2022-02-03T22:13:36.173Z"
   },
   {
    "duration": 10,
    "start_time": "2022-02-03T22:13:36.197Z"
   },
   {
    "duration": 459,
    "start_time": "2022-02-03T22:13:36.211Z"
   },
   {
    "duration": 319,
    "start_time": "2022-02-03T22:13:36.672Z"
   },
   {
    "duration": 5,
    "start_time": "2022-02-03T22:13:36.994Z"
   },
   {
    "duration": 20,
    "start_time": "2022-02-03T22:13:37.002Z"
   },
   {
    "duration": 40,
    "start_time": "2022-02-03T22:13:37.025Z"
   },
   {
    "duration": 10,
    "start_time": "2022-02-03T22:13:37.067Z"
   },
   {
    "duration": 11,
    "start_time": "2022-02-03T22:13:37.079Z"
   },
   {
    "duration": 700,
    "start_time": "2022-02-03T22:13:37.092Z"
   },
   {
    "duration": 6,
    "start_time": "2022-02-03T22:13:37.794Z"
   },
   {
    "duration": 8,
    "start_time": "2022-02-03T22:13:37.803Z"
   },
   {
    "duration": 46,
    "start_time": "2022-02-03T22:13:37.813Z"
   },
   {
    "duration": 20,
    "start_time": "2022-02-03T22:13:37.861Z"
   },
   {
    "duration": 2765,
    "start_time": "2022-02-03T22:13:37.884Z"
   },
   {
    "duration": 899,
    "start_time": "2022-02-03T22:13:40.660Z"
   },
   {
    "duration": 2024,
    "start_time": "2022-02-03T22:13:41.561Z"
   },
   {
    "duration": 79,
    "start_time": "2022-02-03T22:13:45.594Z"
   },
   {
    "duration": 17,
    "start_time": "2022-02-03T22:17:53.811Z"
   },
   {
    "duration": 23,
    "start_time": "2022-02-03T22:18:07.212Z"
   },
   {
    "duration": 141,
    "start_time": "2022-02-03T22:20:32.046Z"
   },
   {
    "duration": 371,
    "start_time": "2022-02-03T22:20:45.794Z"
   },
   {
    "duration": 22,
    "start_time": "2022-02-03T22:21:07.715Z"
   },
   {
    "duration": 16,
    "start_time": "2022-02-03T22:21:24.613Z"
   },
   {
    "duration": 27,
    "start_time": "2022-02-03T22:22:09.808Z"
   },
   {
    "duration": 392,
    "start_time": "2022-02-03T22:22:35.683Z"
   },
   {
    "duration": 383,
    "start_time": "2022-02-03T22:22:43.216Z"
   },
   {
    "duration": 27,
    "start_time": "2022-02-03T22:22:53.483Z"
   },
   {
    "duration": 12,
    "start_time": "2022-02-03T22:23:23.838Z"
   },
   {
    "duration": -5528,
    "start_time": "2022-02-03T22:24:18.046Z"
   },
   {
    "duration": 17,
    "start_time": "2022-02-03T22:24:32.962Z"
   },
   {
    "duration": 409,
    "start_time": "2022-02-03T22:25:39.651Z"
   },
   {
    "duration": 127,
    "start_time": "2022-02-03T22:27:22.150Z"
   },
   {
    "duration": 123,
    "start_time": "2022-02-03T22:27:24.736Z"
   },
   {
    "duration": 19,
    "start_time": "2022-02-03T22:27:29.877Z"
   },
   {
    "duration": 18,
    "start_time": "2022-02-03T22:27:46.754Z"
   },
   {
    "duration": 17,
    "start_time": "2022-02-03T22:28:56.579Z"
   },
   {
    "duration": 13,
    "start_time": "2022-02-03T22:32:26.204Z"
   },
   {
    "duration": 17,
    "start_time": "2022-02-03T22:32:56.910Z"
   },
   {
    "duration": 28,
    "start_time": "2022-02-03T22:33:07.944Z"
   },
   {
    "duration": 375,
    "start_time": "2022-02-03T22:34:09.963Z"
   },
   {
    "duration": 23,
    "start_time": "2022-02-03T22:39:18.364Z"
   },
   {
    "duration": 21,
    "start_time": "2022-02-03T22:39:37.604Z"
   },
   {
    "duration": 365,
    "start_time": "2022-02-03T22:39:47.616Z"
   },
   {
    "duration": 473,
    "start_time": "2022-02-03T22:40:49.256Z"
   },
   {
    "duration": 597,
    "start_time": "2022-02-03T22:41:32.938Z"
   },
   {
    "duration": 30,
    "start_time": "2022-02-03T22:44:15.646Z"
   },
   {
    "duration": 22,
    "start_time": "2022-02-03T22:44:53.591Z"
   },
   {
    "duration": 25,
    "start_time": "2022-02-03T22:45:22.329Z"
   },
   {
    "duration": 363,
    "start_time": "2022-02-03T22:50:41.670Z"
   },
   {
    "duration": 22,
    "start_time": "2022-02-03T22:51:12.357Z"
   },
   {
    "duration": 28,
    "start_time": "2022-02-03T22:51:35.733Z"
   },
   {
    "duration": 29,
    "start_time": "2022-02-03T22:53:25.567Z"
   },
   {
    "duration": 132,
    "start_time": "2022-02-03T22:53:29.272Z"
   },
   {
    "duration": 23,
    "start_time": "2022-02-03T22:53:33.794Z"
   },
   {
    "duration": 27,
    "start_time": "2022-02-03T22:53:53.229Z"
   },
   {
    "duration": 26,
    "start_time": "2022-02-03T22:53:57.327Z"
   },
   {
    "duration": 31,
    "start_time": "2022-02-03T22:55:00.879Z"
   },
   {
    "duration": 24,
    "start_time": "2022-02-03T22:55:55.888Z"
   },
   {
    "duration": 30,
    "start_time": "2022-02-03T22:56:05.649Z"
   },
   {
    "duration": 32,
    "start_time": "2022-02-03T22:56:16.976Z"
   },
   {
    "duration": 5,
    "start_time": "2022-02-03T23:06:10.439Z"
   },
   {
    "duration": 10,
    "start_time": "2022-02-03T23:07:27.183Z"
   },
   {
    "duration": 85,
    "start_time": "2022-02-03T23:15:37.891Z"
   },
   {
    "duration": 16,
    "start_time": "2022-02-03T23:15:37.979Z"
   },
   {
    "duration": 11,
    "start_time": "2022-02-03T23:15:37.998Z"
   },
   {
    "duration": 448,
    "start_time": "2022-02-03T23:15:38.012Z"
   },
   {
    "duration": 326,
    "start_time": "2022-02-03T23:15:38.463Z"
   },
   {
    "duration": 25,
    "start_time": "2022-02-03T23:15:38.792Z"
   },
   {
    "duration": 48,
    "start_time": "2022-02-03T23:15:38.820Z"
   },
   {
    "duration": 10,
    "start_time": "2022-02-03T23:15:38.871Z"
   },
   {
    "duration": 13,
    "start_time": "2022-02-03T23:15:38.883Z"
   },
   {
    "duration": 11,
    "start_time": "2022-02-03T23:15:38.899Z"
   },
   {
    "duration": 462,
    "start_time": "2022-02-03T23:15:38.912Z"
   },
   {
    "duration": 4,
    "start_time": "2022-02-03T23:15:39.377Z"
   },
   {
    "duration": 13,
    "start_time": "2022-02-03T23:15:39.384Z"
   },
   {
    "duration": 363,
    "start_time": "2022-02-03T23:15:39.399Z"
   },
   {
    "duration": -5473,
    "start_time": "2022-02-03T23:15:45.238Z"
   },
   {
    "duration": -5477,
    "start_time": "2022-02-03T23:15:45.245Z"
   },
   {
    "duration": -5480,
    "start_time": "2022-02-03T23:15:45.250Z"
   },
   {
    "duration": 225,
    "start_time": "2022-02-03T23:17:17.758Z"
   },
   {
    "duration": 247,
    "start_time": "2022-02-03T23:18:50.146Z"
   },
   {
    "duration": 383,
    "start_time": "2022-02-03T23:19:38.138Z"
   },
   {
    "duration": 416,
    "start_time": "2022-02-03T23:19:45.250Z"
   },
   {
    "duration": 226,
    "start_time": "2022-02-03T23:20:07.166Z"
   },
   {
    "duration": 683,
    "start_time": "2022-02-03T23:20:17.701Z"
   },
   {
    "duration": 383,
    "start_time": "2022-02-03T23:20:23.670Z"
   },
   {
    "duration": 606,
    "start_time": "2022-02-03T23:21:28.711Z"
   },
   {
    "duration": 7,
    "start_time": "2022-02-03T23:22:14.725Z"
   },
   {
    "duration": 7,
    "start_time": "2022-02-03T23:22:31.312Z"
   },
   {
    "duration": 378,
    "start_time": "2022-02-03T23:22:42.596Z"
   },
   {
    "duration": 450,
    "start_time": "2022-02-03T23:22:58.531Z"
   },
   {
    "duration": 9,
    "start_time": "2022-02-03T23:23:24.814Z"
   },
   {
    "duration": 721,
    "start_time": "2022-02-03T23:23:43.182Z"
   },
   {
    "duration": 703,
    "start_time": "2022-02-03T23:24:37.495Z"
   },
   {
    "duration": 711,
    "start_time": "2022-02-03T23:24:53.682Z"
   },
   {
    "duration": 720,
    "start_time": "2022-02-03T23:25:49.062Z"
   },
   {
    "duration": 723,
    "start_time": "2022-02-03T23:26:16.462Z"
   },
   {
    "duration": 736,
    "start_time": "2022-02-03T23:26:33.750Z"
   },
   {
    "duration": 1476,
    "start_time": "2022-02-03T23:30:16.549Z"
   },
   {
    "duration": 600,
    "start_time": "2022-02-03T23:30:32.484Z"
   },
   {
    "duration": 620,
    "start_time": "2022-02-03T23:30:40.866Z"
   },
   {
    "duration": 259,
    "start_time": "2022-02-03T23:32:32.963Z"
   },
   {
    "duration": 382,
    "start_time": "2022-02-03T23:34:16.662Z"
   },
   {
    "duration": 127,
    "start_time": "2022-02-03T23:34:36.400Z"
   },
   {
    "duration": 204,
    "start_time": "2022-02-03T23:34:42.250Z"
   },
   {
    "duration": 24,
    "start_time": "2022-02-03T23:34:56.826Z"
   },
   {
    "duration": 8,
    "start_time": "2022-02-03T23:35:09.044Z"
   },
   {
    "duration": 249,
    "start_time": "2022-02-03T23:35:29.412Z"
   },
   {
    "duration": 11,
    "start_time": "2022-02-03T23:37:00.139Z"
   },
   {
    "duration": 8,
    "start_time": "2022-02-03T23:37:12.052Z"
   },
   {
    "duration": 11,
    "start_time": "2022-02-03T23:37:58.506Z"
   },
   {
    "duration": 280,
    "start_time": "2022-02-05T12:35:33.019Z"
   },
   {
    "duration": 1354,
    "start_time": "2022-02-05T12:36:01.711Z"
   },
   {
    "duration": 12,
    "start_time": "2022-02-05T12:36:03.067Z"
   },
   {
    "duration": 8,
    "start_time": "2022-02-05T12:36:03.081Z"
   },
   {
    "duration": 214,
    "start_time": "2022-02-05T12:36:03.092Z"
   },
   {
    "duration": 207,
    "start_time": "2022-02-05T12:36:03.308Z"
   },
   {
    "duration": 16,
    "start_time": "2022-02-05T12:36:03.518Z"
   },
   {
    "duration": 17,
    "start_time": "2022-02-05T12:36:03.537Z"
   },
   {
    "duration": 8,
    "start_time": "2022-02-05T12:36:03.556Z"
   },
   {
    "duration": 8,
    "start_time": "2022-02-05T12:36:03.568Z"
   },
   {
    "duration": 43,
    "start_time": "2022-02-05T12:36:03.578Z"
   },
   {
    "duration": 353,
    "start_time": "2022-02-05T12:36:03.623Z"
   },
   {
    "duration": 13,
    "start_time": "2022-02-05T12:36:03.964Z"
   },
   {
    "duration": 12,
    "start_time": "2022-02-05T12:36:03.967Z"
   },
   {
    "duration": 10,
    "start_time": "2022-02-05T12:36:03.970Z"
   },
   {
    "duration": 8,
    "start_time": "2022-02-05T12:36:03.973Z"
   },
   {
    "duration": 8,
    "start_time": "2022-02-05T12:36:03.974Z"
   },
   {
    "duration": 7,
    "start_time": "2022-02-05T12:36:03.976Z"
   },
   {
    "duration": 200,
    "start_time": "2022-02-05T12:36:28.881Z"
   },
   {
    "duration": 195,
    "start_time": "2022-02-05T12:37:45.113Z"
   },
   {
    "duration": 297,
    "start_time": "2022-02-05T12:38:02.256Z"
   },
   {
    "duration": 168,
    "start_time": "2022-02-05T12:38:13.529Z"
   },
   {
    "duration": 195,
    "start_time": "2022-02-05T12:38:19.626Z"
   },
   {
    "duration": 280,
    "start_time": "2022-02-05T12:38:31.934Z"
   },
   {
    "duration": 330,
    "start_time": "2022-02-05T12:41:51.095Z"
   },
   {
    "duration": 10,
    "start_time": "2022-02-05T12:42:29.028Z"
   },
   {
    "duration": 12,
    "start_time": "2022-02-05T12:42:39.746Z"
   },
   {
    "duration": 87,
    "start_time": "2022-02-05T12:50:19.985Z"
   },
   {
    "duration": 11,
    "start_time": "2022-02-05T12:50:34.752Z"
   },
   {
    "duration": 257,
    "start_time": "2022-02-05T12:51:34.066Z"
   },
   {
    "duration": 192,
    "start_time": "2022-02-05T12:52:25.929Z"
   },
   {
    "duration": 331,
    "start_time": "2022-02-05T12:52:49.147Z"
   },
   {
    "duration": 205,
    "start_time": "2022-02-05T12:53:01.726Z"
   },
   {
    "duration": 247,
    "start_time": "2022-02-05T13:38:49.357Z"
   },
   {
    "duration": 188,
    "start_time": "2022-02-05T13:39:09.592Z"
   },
   {
    "duration": 367,
    "start_time": "2022-02-05T13:39:14.789Z"
   },
   {
    "duration": 309,
    "start_time": "2022-02-05T13:39:18.861Z"
   },
   {
    "duration": 4,
    "start_time": "2022-02-05T13:40:15.789Z"
   },
   {
    "duration": 5,
    "start_time": "2022-02-05T13:40:26.401Z"
   },
   {
    "duration": 6,
    "start_time": "2022-02-05T13:41:03.400Z"
   },
   {
    "duration": 2556,
    "start_time": "2022-02-05T13:45:29.059Z"
   },
   {
    "duration": 61,
    "start_time": "2022-02-05T13:45:39.666Z"
   },
   {
    "duration": 10,
    "start_time": "2022-02-05T13:45:45.708Z"
   },
   {
    "duration": 11,
    "start_time": "2022-02-05T13:46:03.771Z"
   },
   {
    "duration": 10,
    "start_time": "2022-02-05T13:46:18.281Z"
   },
   {
    "duration": 16,
    "start_time": "2022-02-05T13:46:25.781Z"
   },
   {
    "duration": 7,
    "start_time": "2022-02-05T13:47:20.390Z"
   },
   {
    "duration": 200,
    "start_time": "2022-02-05T13:47:26.218Z"
   },
   {
    "duration": 285,
    "start_time": "2022-02-05T13:47:33.054Z"
   },
   {
    "duration": 10,
    "start_time": "2022-02-05T13:47:38.410Z"
   },
   {
    "duration": 11,
    "start_time": "2022-02-05T13:47:42.841Z"
   },
   {
    "duration": 8,
    "start_time": "2022-02-05T13:47:47.997Z"
   },
   {
    "duration": 8,
    "start_time": "2022-02-05T13:47:52.585Z"
   },
   {
    "duration": 6,
    "start_time": "2022-02-05T13:47:55.529Z"
   },
   {
    "duration": 266,
    "start_time": "2022-02-05T13:48:11.078Z"
   },
   {
    "duration": 270,
    "start_time": "2022-02-05T13:48:19.919Z"
   },
   {
    "duration": 6,
    "start_time": "2022-02-05T13:48:26.648Z"
   },
   {
    "duration": 10,
    "start_time": "2022-02-05T14:00:21.115Z"
   },
   {
    "duration": 333,
    "start_time": "2022-02-05T14:00:57.298Z"
   },
   {
    "duration": 273,
    "start_time": "2022-02-05T14:01:38.568Z"
   },
   {
    "duration": 1680,
    "start_time": "2022-02-05T14:01:48.056Z"
   },
   {
    "duration": 15,
    "start_time": "2022-02-05T14:02:20.934Z"
   },
   {
    "duration": 261,
    "start_time": "2022-02-05T14:03:10.532Z"
   },
   {
    "duration": 13,
    "start_time": "2022-02-05T14:04:00.738Z"
   },
   {
    "duration": 13,
    "start_time": "2022-02-05T14:04:14.471Z"
   },
   {
    "duration": 571,
    "start_time": "2022-02-05T14:05:19.002Z"
   },
   {
    "duration": 1519,
    "start_time": "2022-02-05T14:05:22.718Z"
   },
   {
    "duration": 817,
    "start_time": "2022-02-05T14:07:41.630Z"
   },
   {
    "duration": 1140,
    "start_time": "2022-02-05T14:08:24.755Z"
   },
   {
    "duration": 551,
    "start_time": "2022-02-05T14:09:58.761Z"
   },
   {
    "duration": 957,
    "start_time": "2022-02-05T14:11:42.161Z"
   },
   {
    "duration": 461,
    "start_time": "2022-02-05T14:15:17.498Z"
   },
   {
    "duration": 85,
    "start_time": "2022-02-05T19:02:30.777Z"
   },
   {
    "duration": 1658,
    "start_time": "2022-02-05T19:02:39.050Z"
   },
   {
    "duration": 27,
    "start_time": "2022-02-05T19:34:52.625Z"
   },
   {
    "duration": 91,
    "start_time": "2022-02-05T19:35:07.480Z"
   },
   {
    "duration": 51,
    "start_time": "2022-02-05T19:35:11.799Z"
   },
   {
    "duration": 49,
    "start_time": "2022-02-05T19:35:21.531Z"
   },
   {
    "duration": 34,
    "start_time": "2022-02-05T19:35:53.615Z"
   },
   {
    "duration": 33,
    "start_time": "2022-02-05T19:36:25.897Z"
   },
   {
    "duration": 38,
    "start_time": "2022-02-05T19:37:15.013Z"
   },
   {
    "duration": 10,
    "start_time": "2022-02-05T19:38:29.258Z"
   },
   {
    "duration": 12,
    "start_time": "2022-02-05T19:38:52.424Z"
   },
   {
    "duration": 13,
    "start_time": "2022-02-05T19:39:15.461Z"
   },
   {
    "duration": 10,
    "start_time": "2022-02-05T19:39:20.981Z"
   },
   {
    "duration": 89,
    "start_time": "2022-02-05T19:41:37.004Z"
   },
   {
    "duration": 86,
    "start_time": "2022-02-05T19:41:56.877Z"
   },
   {
    "duration": 37,
    "start_time": "2022-02-05T19:41:59.990Z"
   },
   {
    "duration": 37,
    "start_time": "2022-02-05T19:42:13.911Z"
   },
   {
    "duration": 14,
    "start_time": "2022-02-05T19:43:40.945Z"
   },
   {
    "duration": 23,
    "start_time": "2022-02-05T19:43:59.409Z"
   },
   {
    "duration": 21,
    "start_time": "2022-02-05T19:45:13.500Z"
   },
   {
    "duration": 30,
    "start_time": "2022-02-05T19:45:23.325Z"
   },
   {
    "duration": 19,
    "start_time": "2022-02-05T19:45:41.313Z"
   },
   {
    "duration": 7,
    "start_time": "2022-02-05T19:48:30.234Z"
   },
   {
    "duration": 7,
    "start_time": "2022-02-05T19:49:37.706Z"
   },
   {
    "duration": 33,
    "start_time": "2022-02-05T19:50:16.354Z"
   },
   {
    "duration": 21,
    "start_time": "2022-02-05T19:51:34.575Z"
   },
   {
    "duration": 8,
    "start_time": "2022-02-05T19:52:06.387Z"
   },
   {
    "duration": 386,
    "start_time": "2022-02-05T19:53:35.824Z"
   },
   {
    "duration": 15,
    "start_time": "2022-02-05T19:54:02.966Z"
   },
   {
    "duration": 17,
    "start_time": "2022-02-05T19:54:24.845Z"
   },
   {
    "duration": 23,
    "start_time": "2022-02-05T19:57:05.965Z"
   },
   {
    "duration": 27,
    "start_time": "2022-02-05T20:36:17.971Z"
   },
   {
    "duration": 16,
    "start_time": "2022-02-05T20:37:55.213Z"
   },
   {
    "duration": 12,
    "start_time": "2022-02-05T20:38:16.676Z"
   },
   {
    "duration": 245,
    "start_time": "2022-02-05T20:38:28.374Z"
   },
   {
    "duration": 8,
    "start_time": "2022-02-05T20:38:55.961Z"
   },
   {
    "duration": 61144,
    "start_time": "2022-02-05T20:41:43.673Z"
   },
   {
    "duration": 257,
    "start_time": "2022-02-05T20:43:33.452Z"
   },
   {
    "duration": 9,
    "start_time": "2022-02-05T20:43:48.909Z"
   },
   {
    "duration": 12,
    "start_time": "2022-02-05T20:47:04.093Z"
   },
   {
    "duration": 10,
    "start_time": "2022-02-05T20:47:11.519Z"
   },
   {
    "duration": 16,
    "start_time": "2022-02-05T20:51:09.667Z"
   },
   {
    "duration": 22,
    "start_time": "2022-02-05T20:56:57.175Z"
   },
   {
    "duration": 10,
    "start_time": "2022-02-05T20:57:18.075Z"
   },
   {
    "duration": 11,
    "start_time": "2022-02-05T20:57:25.431Z"
   },
   {
    "duration": 12,
    "start_time": "2022-02-05T20:58:30.773Z"
   },
   {
    "duration": 19,
    "start_time": "2022-02-05T20:58:38.153Z"
   },
   {
    "duration": 45,
    "start_time": "2022-02-05T21:03:05.056Z"
   },
   {
    "duration": 25,
    "start_time": "2022-02-05T21:22:18.912Z"
   },
   {
    "duration": 6560,
    "start_time": "2022-02-05T21:23:34.507Z"
   },
   {
    "duration": 16,
    "start_time": "2022-02-05T21:23:50.323Z"
   },
   {
    "duration": 22,
    "start_time": "2022-02-05T21:24:09.404Z"
   },
   {
    "duration": 83,
    "start_time": "2022-02-05T21:25:10.977Z"
   },
   {
    "duration": 20,
    "start_time": "2022-02-05T21:26:02.879Z"
   },
   {
    "duration": 33,
    "start_time": "2022-02-05T21:26:23.834Z"
   },
   {
    "duration": 13,
    "start_time": "2022-02-05T21:26:36.255Z"
   },
   {
    "duration": 17,
    "start_time": "2022-02-05T21:27:12.478Z"
   },
   {
    "duration": 24,
    "start_time": "2022-02-05T21:27:34.991Z"
   },
   {
    "duration": 19,
    "start_time": "2022-02-05T21:28:13.471Z"
   },
   {
    "duration": 20,
    "start_time": "2022-02-05T21:28:32.798Z"
   },
   {
    "duration": 26,
    "start_time": "2022-02-05T21:28:34.965Z"
   },
   {
    "duration": 15,
    "start_time": "2022-02-05T21:28:37.058Z"
   },
   {
    "duration": 21,
    "start_time": "2022-02-05T21:28:40.915Z"
   },
   {
    "duration": 13,
    "start_time": "2022-02-05T21:28:48.832Z"
   },
   {
    "duration": 41,
    "start_time": "2022-02-05T21:32:59.739Z"
   },
   {
    "duration": 15,
    "start_time": "2022-02-05T21:33:23.284Z"
   },
   {
    "duration": 289,
    "start_time": "2022-02-05T21:33:26.875Z"
   },
   {
    "duration": 14,
    "start_time": "2022-02-05T21:33:49.639Z"
   },
   {
    "duration": 22,
    "start_time": "2022-02-05T21:34:10.332Z"
   },
   {
    "duration": 35,
    "start_time": "2022-02-05T21:34:19.031Z"
   },
   {
    "duration": 13,
    "start_time": "2022-02-05T21:34:36.974Z"
   },
   {
    "duration": 38,
    "start_time": "2022-02-05T21:34:38.589Z"
   },
   {
    "duration": 42,
    "start_time": "2022-02-05T21:35:41.161Z"
   },
   {
    "duration": 45,
    "start_time": "2022-02-05T21:36:29.455Z"
   },
   {
    "duration": 9,
    "start_time": "2022-02-05T21:37:20.806Z"
   },
   {
    "duration": 8,
    "start_time": "2022-02-05T21:37:42.876Z"
   },
   {
    "duration": 32,
    "start_time": "2022-02-05T21:37:51.800Z"
   },
   {
    "duration": 17,
    "start_time": "2022-02-05T21:38:02.156Z"
   },
   {
    "duration": 2716,
    "start_time": "2022-02-05T21:38:20.988Z"
   },
   {
    "duration": 35,
    "start_time": "2022-02-05T21:38:31.411Z"
   },
   {
    "duration": 7,
    "start_time": "2022-02-05T21:39:15.477Z"
   },
   {
    "duration": 12,
    "start_time": "2022-02-05T21:39:19.010Z"
   },
   {
    "duration": 80,
    "start_time": "2022-02-05T21:39:49.664Z"
   },
   {
    "duration": 34,
    "start_time": "2022-02-05T21:40:08.096Z"
   },
   {
    "duration": 19,
    "start_time": "2022-02-05T21:40:26.122Z"
   },
   {
    "duration": 14,
    "start_time": "2022-02-05T21:40:31.161Z"
   },
   {
    "duration": 39,
    "start_time": "2022-02-05T21:40:33.670Z"
   },
   {
    "duration": 34,
    "start_time": "2022-02-05T21:41:01.672Z"
   },
   {
    "duration": 18,
    "start_time": "2022-02-05T21:41:11.358Z"
   },
   {
    "duration": 13,
    "start_time": "2022-02-05T21:41:24.440Z"
   },
   {
    "duration": 42,
    "start_time": "2022-02-05T21:41:26.411Z"
   },
   {
    "duration": 8,
    "start_time": "2022-02-05T21:42:20.212Z"
   },
   {
    "duration": 39,
    "start_time": "2022-02-05T21:42:22.423Z"
   },
   {
    "duration": 39,
    "start_time": "2022-02-05T21:42:43.543Z"
   },
   {
    "duration": 18,
    "start_time": "2022-02-05T21:43:10.835Z"
   },
   {
    "duration": 60,
    "start_time": "2022-02-05T21:54:14.428Z"
   },
   {
    "duration": 284,
    "start_time": "2022-02-05T21:55:56.640Z"
   },
   {
    "duration": 17,
    "start_time": "2022-02-05T21:56:11.064Z"
   },
   {
    "duration": 44,
    "start_time": "2022-02-05T21:56:13.173Z"
   },
   {
    "duration": 9,
    "start_time": "2022-02-05T21:56:24.551Z"
   },
   {
    "duration": 34,
    "start_time": "2022-02-05T21:56:27.006Z"
   },
   {
    "duration": 7,
    "start_time": "2022-02-05T21:57:01.002Z"
   },
   {
    "duration": 9,
    "start_time": "2022-02-05T21:57:18.900Z"
   },
   {
    "duration": 15,
    "start_time": "2022-02-05T21:57:20.924Z"
   },
   {
    "duration": 79,
    "start_time": "2022-02-05T21:57:31.751Z"
   },
   {
    "duration": 34,
    "start_time": "2022-02-05T21:57:39.358Z"
   },
   {
    "duration": 19,
    "start_time": "2022-02-05T21:57:44.110Z"
   },
   {
    "duration": 47,
    "start_time": "2022-02-05T21:58:10.789Z"
   },
   {
    "duration": 37,
    "start_time": "2022-02-05T21:58:37.991Z"
   },
   {
    "duration": 77,
    "start_time": "2022-02-05T21:59:28.777Z"
   },
   {
    "duration": 34,
    "start_time": "2022-02-05T21:59:42.854Z"
   },
   {
    "duration": 18,
    "start_time": "2022-02-05T21:59:54.134Z"
   },
   {
    "duration": 32,
    "start_time": "2022-02-05T22:00:13.086Z"
   },
   {
    "duration": 34,
    "start_time": "2022-02-05T22:00:20.611Z"
   },
   {
    "duration": 36,
    "start_time": "2022-02-05T22:00:32.617Z"
   },
   {
    "duration": 37,
    "start_time": "2022-02-05T22:03:03.486Z"
   },
   {
    "duration": 18,
    "start_time": "2022-02-05T22:03:35.657Z"
   },
   {
    "duration": 66,
    "start_time": "2022-02-05T22:04:39.273Z"
   },
   {
    "duration": 67,
    "start_time": "2022-02-05T22:06:41.527Z"
   },
   {
    "duration": 66,
    "start_time": "2022-02-05T22:07:05.096Z"
   },
   {
    "duration": 58,
    "start_time": "2022-02-05T22:11:20.376Z"
   },
   {
    "duration": 37,
    "start_time": "2022-02-05T22:13:44.283Z"
   },
   {
    "duration": 14,
    "start_time": "2022-02-05T22:13:50.069Z"
   },
   {
    "duration": 36,
    "start_time": "2022-02-05T22:14:09.897Z"
   },
   {
    "duration": 84,
    "start_time": "2022-02-05T22:14:39.883Z"
   },
   {
    "duration": 35,
    "start_time": "2022-02-05T22:14:51.258Z"
   },
   {
    "duration": 19,
    "start_time": "2022-02-05T22:14:57.985Z"
   },
   {
    "duration": 48,
    "start_time": "2022-02-05T22:15:51.982Z"
   },
   {
    "duration": 77,
    "start_time": "2022-02-05T22:17:37.079Z"
   },
   {
    "duration": 34,
    "start_time": "2022-02-05T22:17:46.653Z"
   },
   {
    "duration": 13,
    "start_time": "2022-02-05T22:18:05.946Z"
   },
   {
    "duration": 77,
    "start_time": "2022-02-05T22:19:08.873Z"
   },
   {
    "duration": 9,
    "start_time": "2022-02-05T22:19:49.234Z"
   },
   {
    "duration": 14,
    "start_time": "2022-02-05T22:20:01.583Z"
   },
   {
    "duration": 78,
    "start_time": "2022-02-05T22:20:07.937Z"
   },
   {
    "duration": 14,
    "start_time": "2022-02-05T22:20:13.493Z"
   },
   {
    "duration": 37,
    "start_time": "2022-02-05T22:20:19.243Z"
   },
   {
    "duration": 19,
    "start_time": "2022-02-05T22:20:24.350Z"
   },
   {
    "duration": 49,
    "start_time": "2022-02-05T22:20:34.016Z"
   },
   {
    "duration": 13,
    "start_time": "2022-02-05T22:20:48.550Z"
   },
   {
    "duration": 13,
    "start_time": "2022-02-05T22:20:53.988Z"
   },
   {
    "duration": 16,
    "start_time": "2022-02-05T22:21:15.350Z"
   },
   {
    "duration": 15,
    "start_time": "2022-02-05T22:21:25.813Z"
   },
   {
    "duration": 37,
    "start_time": "2022-02-05T22:21:59.054Z"
   },
   {
    "duration": 13,
    "start_time": "2022-02-05T22:22:08.012Z"
   },
   {
    "duration": 16,
    "start_time": "2022-02-05T22:22:24.216Z"
   },
   {
    "duration": 39,
    "start_time": "2022-02-05T22:26:20.531Z"
   },
   {
    "duration": 13,
    "start_time": "2022-02-05T22:26:24.338Z"
   },
   {
    "duration": 79,
    "start_time": "2022-02-05T22:36:03.370Z"
   },
   {
    "duration": 33,
    "start_time": "2022-02-05T22:36:09.817Z"
   },
   {
    "duration": 17,
    "start_time": "2022-02-05T22:36:15.805Z"
   },
   {
    "duration": 48,
    "start_time": "2022-02-05T22:36:23.059Z"
   },
   {
    "duration": 18,
    "start_time": "2022-02-05T22:36:35.909Z"
   },
   {
    "duration": 14,
    "start_time": "2022-02-05T22:36:38.585Z"
   },
   {
    "duration": 41,
    "start_time": "2022-02-05T22:37:16.922Z"
   },
   {
    "duration": 10,
    "start_time": "2022-02-05T22:37:52.992Z"
   },
   {
    "duration": 16,
    "start_time": "2022-02-05T22:37:56.773Z"
   },
   {
    "duration": 16,
    "start_time": "2022-02-05T22:38:01.302Z"
   },
   {
    "duration": 37,
    "start_time": "2022-02-05T22:38:21.359Z"
   },
   {
    "duration": 14,
    "start_time": "2022-02-05T22:38:25.981Z"
   },
   {
    "duration": 40,
    "start_time": "2022-02-05T22:51:06.052Z"
   },
   {
    "duration": 14,
    "start_time": "2022-02-05T22:51:10.256Z"
   },
   {
    "duration": 80,
    "start_time": "2022-02-05T22:59:06.893Z"
   },
   {
    "duration": 36,
    "start_time": "2022-02-05T22:59:13.128Z"
   },
   {
    "duration": 20,
    "start_time": "2022-02-05T22:59:18.935Z"
   },
   {
    "duration": 50,
    "start_time": "2022-02-05T22:59:25.123Z"
   },
   {
    "duration": 17,
    "start_time": "2022-02-05T22:59:33.577Z"
   },
   {
    "duration": 19,
    "start_time": "2022-02-05T23:00:16.007Z"
   },
   {
    "duration": 19,
    "start_time": "2022-02-05T23:00:49.189Z"
   },
   {
    "duration": 15,
    "start_time": "2022-02-05T23:01:09.615Z"
   },
   {
    "duration": 25,
    "start_time": "2022-02-05T23:01:34.599Z"
   },
   {
    "duration": 19,
    "start_time": "2022-02-05T23:01:46.302Z"
   },
   {
    "duration": 12,
    "start_time": "2022-02-05T23:02:26.353Z"
   },
   {
    "duration": 36,
    "start_time": "2022-02-05T23:03:37.976Z"
   },
   {
    "duration": 14,
    "start_time": "2022-02-05T23:03:44.905Z"
   },
   {
    "duration": 12,
    "start_time": "2022-02-05T23:05:51.646Z"
   },
   {
    "duration": 265,
    "start_time": "2022-02-05T23:06:24.087Z"
   },
   {
    "duration": 297,
    "start_time": "2022-02-05T23:06:33.536Z"
   },
   {
    "duration": 1793,
    "start_time": "2022-02-05T23:06:57.329Z"
   },
   {
    "duration": 1692,
    "start_time": "2022-02-05T23:11:06.946Z"
   },
   {
    "duration": 14,
    "start_time": "2022-02-05T23:11:51.444Z"
   },
   {
    "duration": 262,
    "start_time": "2022-02-05T23:12:23.474Z"
   },
   {
    "duration": 12,
    "start_time": "2022-02-05T23:12:44.337Z"
   },
   {
    "duration": 13,
    "start_time": "2022-02-05T23:12:51.861Z"
   },
   {
    "duration": 13,
    "start_time": "2022-02-05T23:13:27.654Z"
   },
   {
    "duration": 76,
    "start_time": "2022-02-05T23:13:35.360Z"
   },
   {
    "duration": 37,
    "start_time": "2022-02-05T23:13:44.916Z"
   },
   {
    "duration": 50,
    "start_time": "2022-02-05T23:14:42.432Z"
   },
   {
    "duration": 302,
    "start_time": "2022-02-05T23:15:23.611Z"
   },
   {
    "duration": 13,
    "start_time": "2022-02-05T23:17:29.265Z"
   },
   {
    "duration": 37,
    "start_time": "2022-02-05T23:17:53.025Z"
   },
   {
    "duration": 45,
    "start_time": "2022-02-05T23:17:59.223Z"
   },
   {
    "duration": 8,
    "start_time": "2022-02-05T23:18:09.423Z"
   },
   {
    "duration": 8,
    "start_time": "2022-02-05T23:18:18.857Z"
   },
   {
    "duration": 53,
    "start_time": "2022-02-05T23:18:44.248Z"
   },
   {
    "duration": 260,
    "start_time": "2022-02-05T23:18:50.379Z"
   },
   {
    "duration": 37,
    "start_time": "2022-02-05T23:19:00.033Z"
   },
   {
    "duration": 47,
    "start_time": "2022-02-05T23:19:03.627Z"
   },
   {
    "duration": 8,
    "start_time": "2022-02-05T23:19:08.533Z"
   },
   {
    "duration": 8,
    "start_time": "2022-02-05T23:19:10.365Z"
   },
   {
    "duration": 15,
    "start_time": "2022-02-05T23:19:28.981Z"
   },
   {
    "duration": 40,
    "start_time": "2022-02-05T23:21:05.836Z"
   },
   {
    "duration": 36,
    "start_time": "2022-02-05T23:34:24.341Z"
   },
   {
    "duration": 49,
    "start_time": "2022-02-05T23:34:29.492Z"
   },
   {
    "duration": 10,
    "start_time": "2022-02-05T23:37:19.073Z"
   },
   {
    "duration": 15,
    "start_time": "2022-02-05T23:38:17.440Z"
   },
   {
    "duration": 15,
    "start_time": "2022-02-05T23:39:06.897Z"
   },
   {
    "duration": 18,
    "start_time": "2022-02-05T23:39:37.347Z"
   },
   {
    "duration": 18,
    "start_time": "2022-02-05T23:43:11.992Z"
   },
   {
    "duration": 77,
    "start_time": "2022-02-05T23:53:23.204Z"
   },
   {
    "duration": 14,
    "start_time": "2022-02-05T23:53:23.283Z"
   },
   {
    "duration": 12,
    "start_time": "2022-02-05T23:53:23.300Z"
   },
   {
    "duration": 8,
    "start_time": "2022-02-05T23:53:23.315Z"
   },
   {
    "duration": 387,
    "start_time": "2022-02-05T23:53:23.325Z"
   },
   {
    "duration": 332,
    "start_time": "2022-02-05T23:53:23.714Z"
   },
   {
    "duration": 28,
    "start_time": "2022-02-05T23:53:24.049Z"
   },
   {
    "duration": 14,
    "start_time": "2022-02-05T23:53:24.081Z"
   },
   {
    "duration": 8,
    "start_time": "2022-02-05T23:53:24.098Z"
   },
   {
    "duration": 10,
    "start_time": "2022-02-05T23:53:24.109Z"
   },
   {
    "duration": 9,
    "start_time": "2022-02-05T23:53:24.121Z"
   },
   {
    "duration": 450,
    "start_time": "2022-02-05T23:53:24.170Z"
   },
   {
    "duration": 6,
    "start_time": "2022-02-05T23:53:24.622Z"
   },
   {
    "duration": 12,
    "start_time": "2022-02-05T23:53:24.630Z"
   },
   {
    "duration": 19,
    "start_time": "2022-02-05T23:53:24.670Z"
   },
   {
    "duration": 36,
    "start_time": "2022-02-05T23:53:24.692Z"
   },
   {
    "duration": 44,
    "start_time": "2022-02-05T23:53:24.731Z"
   },
   {
    "duration": 13,
    "start_time": "2022-02-05T23:53:24.778Z"
   },
   {
    "duration": 19,
    "start_time": "2022-02-05T23:53:24.794Z"
   },
   {
    "duration": 86,
    "start_time": "2022-02-05T23:53:24.816Z"
   },
   {
    "duration": 7,
    "start_time": "2022-02-05T23:53:24.905Z"
   },
   {
    "duration": 14,
    "start_time": "2022-02-05T23:53:24.914Z"
   },
   {
    "duration": 45,
    "start_time": "2022-02-05T23:53:24.934Z"
   },
   {
    "duration": 5,
    "start_time": "2022-02-05T23:53:24.982Z"
   },
   {
    "duration": 22,
    "start_time": "2022-02-05T23:53:24.990Z"
   },
   {
    "duration": 2695,
    "start_time": "2022-02-05T23:53:25.014Z"
   },
   {
    "duration": 919,
    "start_time": "2022-02-05T23:53:27.712Z"
   },
   {
    "duration": 2595,
    "start_time": "2022-02-05T23:53:28.633Z"
   },
   {
    "duration": 36,
    "start_time": "2022-02-05T23:55:33.068Z"
   },
   {
    "duration": 21,
    "start_time": "2022-02-05T23:57:25.533Z"
   },
   {
    "duration": 286,
    "start_time": "2022-02-05T23:58:48.507Z"
   },
   {
    "duration": 36,
    "start_time": "2022-02-05T23:59:19.504Z"
   },
   {
    "duration": 39,
    "start_time": "2022-02-06T00:01:34.286Z"
   },
   {
    "duration": 2515,
    "start_time": "2022-02-06T00:12:05.187Z"
   },
   {
    "duration": 266,
    "start_time": "2022-02-06T00:20:06.753Z"
   },
   {
    "duration": 5225,
    "start_time": "2022-02-06T00:20:28.267Z"
   },
   {
    "duration": 8,
    "start_time": "2022-02-06T00:33:05.479Z"
   },
   {
    "duration": 282,
    "start_time": "2022-02-06T00:34:00.138Z"
   },
   {
    "duration": 296,
    "start_time": "2022-02-06T00:35:06.516Z"
   },
   {
    "duration": 374,
    "start_time": "2022-02-06T00:35:12.083Z"
   },
   {
    "duration": 336,
    "start_time": "2022-02-06T00:35:15.622Z"
   },
   {
    "duration": 361,
    "start_time": "2022-02-06T00:36:38.937Z"
   },
   {
    "duration": 345,
    "start_time": "2022-02-06T00:36:51.127Z"
   },
   {
    "duration": 9,
    "start_time": "2022-02-06T00:41:20.042Z"
   },
   {
    "duration": 1147,
    "start_time": "2022-02-06T00:41:26.970Z"
   },
   {
    "duration": 422,
    "start_time": "2022-02-06T00:41:55.175Z"
   },
   {
    "duration": 315,
    "start_time": "2022-02-06T00:45:46.405Z"
   },
   {
    "duration": 308,
    "start_time": "2022-02-06T00:45:58.051Z"
   },
   {
    "duration": 1169,
    "start_time": "2022-02-06T00:51:20.378Z"
   },
   {
    "duration": 8,
    "start_time": "2022-02-06T00:51:24.961Z"
   },
   {
    "duration": 624,
    "start_time": "2022-02-06T00:51:27.758Z"
   },
   {
    "duration": 510,
    "start_time": "2022-02-06T00:52:28.587Z"
   },
   {
    "duration": 634,
    "start_time": "2022-02-06T00:53:05.874Z"
   },
   {
    "duration": 544,
    "start_time": "2022-02-06T00:53:43.776Z"
   },
   {
    "duration": 10,
    "start_time": "2022-02-06T00:58:27.213Z"
   },
   {
    "duration": 11,
    "start_time": "2022-02-06T00:58:58.468Z"
   },
   {
    "duration": 11,
    "start_time": "2022-02-06T00:59:43.908Z"
   },
   {
    "duration": 11,
    "start_time": "2022-02-06T01:00:28.493Z"
   },
   {
    "duration": 10,
    "start_time": "2022-02-06T01:00:34.047Z"
   },
   {
    "duration": 9,
    "start_time": "2022-02-06T01:00:53.697Z"
   },
   {
    "duration": 598,
    "start_time": "2022-02-06T01:01:00.922Z"
   },
   {
    "duration": 322,
    "start_time": "2022-02-06T01:02:10.171Z"
   },
   {
    "duration": 301,
    "start_time": "2022-02-06T01:02:19.796Z"
   },
   {
    "duration": 10,
    "start_time": "2022-02-06T01:04:53.586Z"
   },
   {
    "duration": 312,
    "start_time": "2022-02-06T01:04:57.750Z"
   },
   {
    "duration": 562,
    "start_time": "2022-02-06T01:05:10.762Z"
   },
   {
    "duration": 665,
    "start_time": "2022-02-06T01:05:26.274Z"
   },
   {
    "duration": 10,
    "start_time": "2022-02-06T01:10:22.352Z"
   },
   {
    "duration": 334,
    "start_time": "2022-02-06T01:10:29.403Z"
   },
   {
    "duration": 565,
    "start_time": "2022-02-06T01:10:40.658Z"
   },
   {
    "duration": 659,
    "start_time": "2022-02-06T01:17:07.402Z"
   },
   {
    "duration": 1115,
    "start_time": "2022-02-06T06:06:45.568Z"
   },
   {
    "duration": 10,
    "start_time": "2022-02-06T06:06:46.685Z"
   },
   {
    "duration": 15,
    "start_time": "2022-02-06T06:06:46.698Z"
   },
   {
    "duration": 6,
    "start_time": "2022-02-06T06:06:46.715Z"
   },
   {
    "duration": 227,
    "start_time": "2022-02-06T06:06:46.723Z"
   },
   {
    "duration": 211,
    "start_time": "2022-02-06T06:06:46.952Z"
   },
   {
    "duration": 11,
    "start_time": "2022-02-06T06:06:47.166Z"
   },
   {
    "duration": 10,
    "start_time": "2022-02-06T06:06:47.180Z"
   },
   {
    "duration": 24,
    "start_time": "2022-02-06T06:06:47.192Z"
   },
   {
    "duration": 8,
    "start_time": "2022-02-06T06:06:47.217Z"
   },
   {
    "duration": 6,
    "start_time": "2022-02-06T06:06:47.226Z"
   },
   {
    "duration": 299,
    "start_time": "2022-02-06T06:06:47.234Z"
   },
   {
    "duration": 4,
    "start_time": "2022-02-06T06:06:47.535Z"
   },
   {
    "duration": 9,
    "start_time": "2022-02-06T06:06:47.540Z"
   },
   {
    "duration": 13,
    "start_time": "2022-02-06T06:06:47.550Z"
   },
   {
    "duration": 49,
    "start_time": "2022-02-06T06:06:47.564Z"
   },
   {
    "duration": 6,
    "start_time": "2022-02-06T06:06:47.615Z"
   },
   {
    "duration": 13,
    "start_time": "2022-02-06T06:06:47.623Z"
   },
   {
    "duration": 15,
    "start_time": "2022-02-06T06:06:47.638Z"
   },
   {
    "duration": 30,
    "start_time": "2022-02-06T06:06:47.654Z"
   },
   {
    "duration": 27,
    "start_time": "2022-02-06T06:06:47.685Z"
   },
   {
    "duration": 9,
    "start_time": "2022-02-06T06:06:47.714Z"
   },
   {
    "duration": 16,
    "start_time": "2022-02-06T06:06:47.727Z"
   },
   {
    "duration": 24,
    "start_time": "2022-02-06T06:06:47.745Z"
   },
   {
    "duration": 5,
    "start_time": "2022-02-06T06:06:47.771Z"
   },
   {
    "duration": 1659,
    "start_time": "2022-02-06T06:06:47.777Z"
   },
   {
    "duration": 24,
    "start_time": "2022-02-06T06:06:49.438Z"
   },
   {
    "duration": 5,
    "start_time": "2022-02-06T06:06:49.464Z"
   },
   {
    "duration": 217,
    "start_time": "2022-02-06T06:06:49.471Z"
   },
   {
    "duration": 851,
    "start_time": "2022-02-06T06:06:49.689Z"
   },
   {
    "duration": 8,
    "start_time": "2022-02-06T06:06:50.541Z"
   },
   {
    "duration": 207,
    "start_time": "2022-02-06T06:06:50.551Z"
   },
   {
    "duration": 363,
    "start_time": "2022-02-06T06:06:50.760Z"
   },
   {
    "duration": 452,
    "start_time": "2022-02-06T06:06:51.125Z"
   },
   {
    "duration": 56,
    "start_time": "2022-02-06T06:07:04.717Z"
   },
   {
    "duration": 58,
    "start_time": "2022-02-06T06:17:17.149Z"
   },
   {
    "duration": 21,
    "start_time": "2022-02-06T06:17:27.669Z"
   },
   {
    "duration": 12,
    "start_time": "2022-02-06T06:17:33.693Z"
   },
   {
    "duration": 30,
    "start_time": "2022-02-06T06:17:39.440Z"
   },
   {
    "duration": 9,
    "start_time": "2022-02-06T06:19:02.284Z"
   },
   {
    "duration": 12,
    "start_time": "2022-02-06T06:19:10.428Z"
   },
   {
    "duration": 59,
    "start_time": "2022-02-06T06:19:25.391Z"
   },
   {
    "duration": 12,
    "start_time": "2022-02-06T06:19:31.615Z"
   },
   {
    "duration": 9,
    "start_time": "2022-02-06T06:19:36.440Z"
   },
   {
    "duration": 10,
    "start_time": "2022-02-06T06:19:39.389Z"
   },
   {
    "duration": 12,
    "start_time": "2022-02-06T06:19:43.445Z"
   },
   {
    "duration": 57,
    "start_time": "2022-02-06T06:29:34.452Z"
   },
   {
    "duration": 10,
    "start_time": "2022-02-06T06:29:34.510Z"
   },
   {
    "duration": 10,
    "start_time": "2022-02-06T06:29:34.523Z"
   },
   {
    "duration": 6,
    "start_time": "2022-02-06T06:29:34.534Z"
   },
   {
    "duration": 250,
    "start_time": "2022-02-06T06:29:34.542Z"
   },
   {
    "duration": 209,
    "start_time": "2022-02-06T06:29:34.794Z"
   },
   {
    "duration": 14,
    "start_time": "2022-02-06T06:29:35.005Z"
   },
   {
    "duration": 11,
    "start_time": "2022-02-06T06:29:35.022Z"
   },
   {
    "duration": 7,
    "start_time": "2022-02-06T06:29:35.035Z"
   },
   {
    "duration": 9,
    "start_time": "2022-02-06T06:29:35.044Z"
   },
   {
    "duration": 6,
    "start_time": "2022-02-06T06:29:35.054Z"
   },
   {
    "duration": 325,
    "start_time": "2022-02-06T06:29:35.062Z"
   },
   {
    "duration": 4,
    "start_time": "2022-02-06T06:29:35.389Z"
   },
   {
    "duration": 20,
    "start_time": "2022-02-06T06:29:35.395Z"
   },
   {
    "duration": 17,
    "start_time": "2022-02-06T06:29:35.417Z"
   },
   {
    "duration": 23,
    "start_time": "2022-02-06T06:29:35.435Z"
   },
   {
    "duration": 7,
    "start_time": "2022-02-06T06:29:35.460Z"
   },
   {
    "duration": 10,
    "start_time": "2022-02-06T06:29:35.468Z"
   },
   {
    "duration": 36,
    "start_time": "2022-02-06T06:29:35.479Z"
   },
   {
    "duration": 30,
    "start_time": "2022-02-06T06:29:35.516Z"
   },
   {
    "duration": 9,
    "start_time": "2022-02-06T06:29:35.548Z"
   },
   {
    "duration": 3,
    "start_time": "2022-02-06T06:29:35.558Z"
   },
   {
    "duration": 11,
    "start_time": "2022-02-06T06:29:35.564Z"
   },
   {
    "duration": 44,
    "start_time": "2022-02-06T06:29:35.577Z"
   },
   {
    "duration": 21,
    "start_time": "2022-02-06T06:29:35.623Z"
   },
   {
    "duration": 4,
    "start_time": "2022-02-06T06:29:35.645Z"
   },
   {
    "duration": 1698,
    "start_time": "2022-02-06T06:29:35.650Z"
   },
   {
    "duration": 24,
    "start_time": "2022-02-06T06:29:37.350Z"
   },
   {
    "duration": 6,
    "start_time": "2022-02-06T06:29:37.375Z"
   },
   {
    "duration": 218,
    "start_time": "2022-02-06T06:29:37.382Z"
   },
   {
    "duration": 704,
    "start_time": "2022-02-06T06:29:37.601Z"
   },
   {
    "duration": 9,
    "start_time": "2022-02-06T06:29:38.307Z"
   },
   {
    "duration": 270,
    "start_time": "2022-02-06T06:29:38.317Z"
   },
   {
    "duration": 416,
    "start_time": "2022-02-06T06:29:38.589Z"
   },
   {
    "duration": 467,
    "start_time": "2022-02-06T06:29:39.007Z"
   },
   {
    "duration": 58,
    "start_time": "2022-02-06T06:39:08.228Z"
   },
   {
    "duration": 10,
    "start_time": "2022-02-06T06:39:16.531Z"
   },
   {
    "duration": 13,
    "start_time": "2022-02-06T06:39:23.567Z"
   },
   {
    "duration": 7,
    "start_time": "2022-02-06T06:39:30.436Z"
   },
   {
    "duration": 10,
    "start_time": "2022-02-06T06:39:34.956Z"
   },
   {
    "duration": 12,
    "start_time": "2022-02-06T06:39:53.865Z"
   },
   {
    "duration": 57,
    "start_time": "2022-02-06T06:41:04.415Z"
   },
   {
    "duration": 10,
    "start_time": "2022-02-06T06:41:04.474Z"
   },
   {
    "duration": 9,
    "start_time": "2022-02-06T06:41:04.486Z"
   },
   {
    "duration": 6,
    "start_time": "2022-02-06T06:41:04.512Z"
   },
   {
    "duration": 222,
    "start_time": "2022-02-06T06:41:04.520Z"
   },
   {
    "duration": 210,
    "start_time": "2022-02-06T06:41:04.743Z"
   },
   {
    "duration": 10,
    "start_time": "2022-02-06T06:41:04.955Z"
   },
   {
    "duration": 9,
    "start_time": "2022-02-06T06:41:04.967Z"
   },
   {
    "duration": 7,
    "start_time": "2022-02-06T06:41:04.978Z"
   },
   {
    "duration": 8,
    "start_time": "2022-02-06T06:41:05.013Z"
   },
   {
    "duration": 7,
    "start_time": "2022-02-06T06:41:05.023Z"
   },
   {
    "duration": 285,
    "start_time": "2022-02-06T06:41:05.031Z"
   },
   {
    "duration": 5,
    "start_time": "2022-02-06T06:41:05.317Z"
   },
   {
    "duration": 8,
    "start_time": "2022-02-06T06:41:05.323Z"
   },
   {
    "duration": 9,
    "start_time": "2022-02-06T06:41:05.333Z"
   },
   {
    "duration": 20,
    "start_time": "2022-02-06T06:41:05.344Z"
   },
   {
    "duration": 6,
    "start_time": "2022-02-06T06:41:05.365Z"
   },
   {
    "duration": 7,
    "start_time": "2022-02-06T06:41:05.413Z"
   },
   {
    "duration": 20,
    "start_time": "2022-02-06T06:41:05.422Z"
   },
   {
    "duration": 27,
    "start_time": "2022-02-06T06:41:05.443Z"
   },
   {
    "duration": 10,
    "start_time": "2022-02-06T06:41:14.211Z"
   },
   {
    "duration": 11,
    "start_time": "2022-02-06T06:41:17.226Z"
   },
   {
    "duration": 7,
    "start_time": "2022-02-06T06:42:05.559Z"
   },
   {
    "duration": 10,
    "start_time": "2022-02-06T06:42:09.580Z"
   },
   {
    "duration": 12,
    "start_time": "2022-02-06T06:42:12.804Z"
   },
   {
    "duration": 57,
    "start_time": "2022-02-06T06:46:53.652Z"
   },
   {
    "duration": 9,
    "start_time": "2022-02-06T06:46:53.711Z"
   },
   {
    "duration": 9,
    "start_time": "2022-02-06T06:46:53.722Z"
   },
   {
    "duration": 6,
    "start_time": "2022-02-06T06:46:53.732Z"
   },
   {
    "duration": 228,
    "start_time": "2022-02-06T06:46:53.739Z"
   },
   {
    "duration": 199,
    "start_time": "2022-02-06T06:46:53.969Z"
   },
   {
    "duration": 10,
    "start_time": "2022-02-06T06:46:54.169Z"
   },
   {
    "duration": 8,
    "start_time": "2022-02-06T06:46:54.181Z"
   },
   {
    "duration": 24,
    "start_time": "2022-02-06T06:46:54.191Z"
   },
   {
    "duration": 9,
    "start_time": "2022-02-06T06:46:54.217Z"
   },
   {
    "duration": 6,
    "start_time": "2022-02-06T06:46:54.227Z"
   },
   {
    "duration": 283,
    "start_time": "2022-02-06T06:46:54.235Z"
   },
   {
    "duration": 4,
    "start_time": "2022-02-06T06:46:54.520Z"
   },
   {
    "duration": 7,
    "start_time": "2022-02-06T06:46:54.526Z"
   },
   {
    "duration": 9,
    "start_time": "2022-02-06T06:46:54.535Z"
   },
   {
    "duration": 20,
    "start_time": "2022-02-06T06:46:54.545Z"
   },
   {
    "duration": 6,
    "start_time": "2022-02-06T06:46:54.567Z"
   },
   {
    "duration": 44,
    "start_time": "2022-02-06T06:46:54.574Z"
   },
   {
    "duration": 15,
    "start_time": "2022-02-06T06:46:54.619Z"
   },
   {
    "duration": 29,
    "start_time": "2022-02-06T06:46:54.636Z"
   },
   {
    "duration": 11,
    "start_time": "2022-02-06T06:47:05.489Z"
   },
   {
    "duration": 12,
    "start_time": "2022-02-06T06:47:07.878Z"
   },
   {
    "duration": 9,
    "start_time": "2022-02-06T06:47:13.756Z"
   },
   {
    "duration": 10,
    "start_time": "2022-02-06T06:47:16.325Z"
   },
   {
    "duration": 12,
    "start_time": "2022-02-06T06:47:19.661Z"
   },
   {
    "duration": 7,
    "start_time": "2022-02-06T07:01:31.254Z"
   },
   {
    "duration": 6,
    "start_time": "2022-02-06T07:01:41.732Z"
   },
   {
    "duration": 22,
    "start_time": "2022-02-06T07:02:14.546Z"
   },
   {
    "duration": 21,
    "start_time": "2022-02-06T07:04:37.802Z"
   },
   {
    "duration": 21,
    "start_time": "2022-02-06T07:05:48.219Z"
   },
   {
    "duration": 23,
    "start_time": "2022-02-06T07:05:55.274Z"
   },
   {
    "duration": 25,
    "start_time": "2022-02-06T07:07:43.113Z"
   },
   {
    "duration": 23,
    "start_time": "2022-02-06T07:08:23.468Z"
   },
   {
    "duration": 184,
    "start_time": "2022-02-06T07:13:12.460Z"
   },
   {
    "duration": 8,
    "start_time": "2022-02-06T07:13:54.313Z"
   },
   {
    "duration": 266,
    "start_time": "2022-02-06T07:14:45.883Z"
   },
   {
    "duration": 7,
    "start_time": "2022-02-06T07:15:36.671Z"
   },
   {
    "duration": 8,
    "start_time": "2022-02-06T07:17:28.771Z"
   },
   {
    "duration": 175,
    "start_time": "2022-02-06T07:17:37.992Z"
   },
   {
    "duration": 147,
    "start_time": "2022-02-06T07:17:52.440Z"
   },
   {
    "duration": 7,
    "start_time": "2022-02-06T07:18:10.743Z"
   },
   {
    "duration": 7,
    "start_time": "2022-02-06T07:19:04.689Z"
   },
   {
    "duration": 8,
    "start_time": "2022-02-06T07:19:22.712Z"
   },
   {
    "duration": 11,
    "start_time": "2022-02-06T07:20:40.900Z"
   },
   {
    "duration": 209,
    "start_time": "2022-02-06T07:21:07.673Z"
   },
   {
    "duration": 11,
    "start_time": "2022-02-06T07:21:18.364Z"
   },
   {
    "duration": 12,
    "start_time": "2022-02-06T07:22:13.876Z"
   },
   {
    "duration": 1396,
    "start_time": "2022-02-06T11:27:17.737Z"
   },
   {
    "duration": 12,
    "start_time": "2022-02-06T11:27:19.135Z"
   },
   {
    "duration": 11,
    "start_time": "2022-02-06T11:27:19.149Z"
   },
   {
    "duration": 13,
    "start_time": "2022-02-06T11:27:19.163Z"
   },
   {
    "duration": 243,
    "start_time": "2022-02-06T11:27:19.178Z"
   },
   {
    "duration": 216,
    "start_time": "2022-02-06T11:27:19.423Z"
   },
   {
    "duration": 13,
    "start_time": "2022-02-06T11:27:19.641Z"
   },
   {
    "duration": 16,
    "start_time": "2022-02-06T11:27:19.656Z"
   },
   {
    "duration": 34,
    "start_time": "2022-02-06T11:27:19.675Z"
   },
   {
    "duration": 17,
    "start_time": "2022-02-06T11:27:19.712Z"
   },
   {
    "duration": 15,
    "start_time": "2022-02-06T11:27:19.731Z"
   },
   {
    "duration": 305,
    "start_time": "2022-02-06T11:27:19.748Z"
   },
   {
    "duration": 6,
    "start_time": "2022-02-06T11:27:20.056Z"
   },
   {
    "duration": 12,
    "start_time": "2022-02-06T11:27:20.064Z"
   },
   {
    "duration": 35,
    "start_time": "2022-02-06T11:27:20.078Z"
   },
   {
    "duration": 37,
    "start_time": "2022-02-06T11:27:20.115Z"
   },
   {
    "duration": 12,
    "start_time": "2022-02-06T11:27:20.154Z"
   },
   {
    "duration": 42,
    "start_time": "2022-02-06T11:27:20.168Z"
   },
   {
    "duration": 24,
    "start_time": "2022-02-06T11:27:20.212Z"
   },
   {
    "duration": 37,
    "start_time": "2022-02-06T11:27:20.238Z"
   },
   {
    "duration": 10,
    "start_time": "2022-02-06T11:27:20.277Z"
   },
   {
    "duration": 2,
    "start_time": "2022-02-06T11:27:20.309Z"
   },
   {
    "duration": 4,
    "start_time": "2022-02-06T11:27:20.316Z"
   },
   {
    "duration": 17,
    "start_time": "2022-02-06T11:27:20.323Z"
   },
   {
    "duration": 14,
    "start_time": "2022-02-06T11:27:20.342Z"
   },
   {
    "duration": 7,
    "start_time": "2022-02-06T11:27:20.358Z"
   },
   {
    "duration": 44,
    "start_time": "2022-02-06T11:27:20.367Z"
   },
   {
    "duration": 9,
    "start_time": "2022-02-06T11:27:20.413Z"
   },
   {
    "duration": 14,
    "start_time": "2022-02-06T11:27:20.424Z"
   },
   {
    "duration": 23,
    "start_time": "2022-02-06T11:27:20.440Z"
   },
   {
    "duration": 54,
    "start_time": "2022-02-06T11:27:20.465Z"
   },
   {
    "duration": 5,
    "start_time": "2022-02-06T11:27:20.521Z"
   },
   {
    "duration": 2685,
    "start_time": "2022-02-06T11:27:20.527Z"
   },
   {
    "duration": 27,
    "start_time": "2022-02-06T11:27:23.214Z"
   },
   {
    "duration": 16,
    "start_time": "2022-02-06T11:27:23.242Z"
   },
   {
    "duration": 221,
    "start_time": "2022-02-06T11:27:23.260Z"
   },
   {
    "duration": 859,
    "start_time": "2022-02-06T11:27:23.483Z"
   },
   {
    "duration": 9,
    "start_time": "2022-02-06T11:27:24.344Z"
   },
   {
    "duration": 223,
    "start_time": "2022-02-06T11:27:24.355Z"
   },
   {
    "duration": 421,
    "start_time": "2022-02-06T11:27:24.580Z"
   },
   {
    "duration": 499,
    "start_time": "2022-02-06T11:27:25.003Z"
   },
   {
    "duration": 8,
    "start_time": "2022-02-06T11:28:12.001Z"
   },
   {
    "duration": 9,
    "start_time": "2022-02-06T11:28:16.523Z"
   },
   {
    "duration": 197,
    "start_time": "2022-02-06T11:28:27.159Z"
   },
   {
    "duration": 26,
    "start_time": "2022-02-06T11:31:16.223Z"
   },
   {
    "duration": 354,
    "start_time": "2022-02-06T11:33:31.310Z"
   },
   {
    "duration": 28,
    "start_time": "2022-02-06T11:34:05.935Z"
   },
   {
    "duration": 273,
    "start_time": "2022-02-06T11:35:49.124Z"
   },
   {
    "duration": 2378,
    "start_time": "2022-02-06T11:37:13.207Z"
   },
   {
    "duration": 8,
    "start_time": "2022-02-06T11:37:59.281Z"
   },
   {
    "duration": 1799,
    "start_time": "2022-02-06T11:38:28.135Z"
   },
   {
    "duration": 9,
    "start_time": "2022-02-06T11:39:24.503Z"
   },
   {
    "duration": 7,
    "start_time": "2022-02-06T11:39:56.101Z"
   },
   {
    "duration": 9,
    "start_time": "2022-02-06T11:40:20.334Z"
   },
   {
    "duration": 4,
    "start_time": "2022-02-06T11:41:06.517Z"
   },
   {
    "duration": 10,
    "start_time": "2022-02-06T11:41:39.201Z"
   },
   {
    "duration": 8,
    "start_time": "2022-02-06T11:42:12.197Z"
   },
   {
    "duration": 27,
    "start_time": "2022-02-06T11:42:17.699Z"
   },
   {
    "duration": 2254,
    "start_time": "2022-02-06T11:44:41.298Z"
   },
   {
    "duration": 1965,
    "start_time": "2022-02-06T11:44:55.763Z"
   },
   {
    "duration": 1859,
    "start_time": "2022-02-06T11:47:13.400Z"
   },
   {
    "duration": 290,
    "start_time": "2022-02-06T11:50:48.798Z"
   },
   {
    "duration": 1901,
    "start_time": "2022-02-06T11:51:01.525Z"
   },
   {
    "duration": 455,
    "start_time": "2022-02-06T11:52:44.924Z"
   },
   {
    "duration": 496,
    "start_time": "2022-02-06T11:53:21.604Z"
   },
   {
    "duration": 9,
    "start_time": "2022-02-06T11:54:03.256Z"
   },
   {
    "duration": 292,
    "start_time": "2022-02-06T11:54:08.093Z"
   },
   {
    "duration": 10,
    "start_time": "2022-02-06T11:54:37.814Z"
   },
   {
    "duration": 218,
    "start_time": "2022-02-06T11:54:40.344Z"
   },
   {
    "duration": 9,
    "start_time": "2022-02-06T11:55:35.914Z"
   },
   {
    "duration": 208,
    "start_time": "2022-02-06T11:55:37.199Z"
   },
   {
    "duration": 7,
    "start_time": "2022-02-06T12:05:30.730Z"
   },
   {
    "duration": 217,
    "start_time": "2022-02-06T12:05:34.314Z"
   },
   {
    "duration": 944,
    "start_time": "2022-02-06T12:05:47.741Z"
   },
   {
    "duration": 1019,
    "start_time": "2022-02-06T12:06:39.764Z"
   },
   {
    "duration": 9,
    "start_time": "2022-02-06T12:08:15.160Z"
   },
   {
    "duration": 208,
    "start_time": "2022-02-06T12:08:43.957Z"
   },
   {
    "duration": 65,
    "start_time": "2022-02-06T12:10:22.012Z"
   },
   {
    "duration": 13,
    "start_time": "2022-02-06T12:10:22.079Z"
   },
   {
    "duration": 19,
    "start_time": "2022-02-06T12:10:22.094Z"
   },
   {
    "duration": 12,
    "start_time": "2022-02-06T12:10:22.116Z"
   },
   {
    "duration": 258,
    "start_time": "2022-02-06T12:10:22.130Z"
   },
   {
    "duration": 237,
    "start_time": "2022-02-06T12:10:22.391Z"
   },
   {
    "duration": 13,
    "start_time": "2022-02-06T12:10:22.631Z"
   },
   {
    "duration": 14,
    "start_time": "2022-02-06T12:10:22.648Z"
   },
   {
    "duration": 11,
    "start_time": "2022-02-06T12:10:22.665Z"
   },
   {
    "duration": 9,
    "start_time": "2022-02-06T12:10:22.709Z"
   },
   {
    "duration": 9,
    "start_time": "2022-02-06T12:10:22.720Z"
   },
   {
    "duration": 309,
    "start_time": "2022-02-06T12:10:22.730Z"
   },
   {
    "duration": 5,
    "start_time": "2022-02-06T12:10:23.041Z"
   },
   {
    "duration": 14,
    "start_time": "2022-02-06T12:10:23.048Z"
   },
   {
    "duration": 17,
    "start_time": "2022-02-06T12:10:23.064Z"
   },
   {
    "duration": 47,
    "start_time": "2022-02-06T12:10:23.083Z"
   },
   {
    "duration": 9,
    "start_time": "2022-02-06T12:10:23.133Z"
   },
   {
    "duration": 11,
    "start_time": "2022-02-06T12:10:23.144Z"
   },
   {
    "duration": 52,
    "start_time": "2022-02-06T12:10:23.157Z"
   },
   {
    "duration": 34,
    "start_time": "2022-02-06T12:10:23.211Z"
   },
   {
    "duration": 12,
    "start_time": "2022-02-06T12:10:23.247Z"
   },
   {
    "duration": 5,
    "start_time": "2022-02-06T12:10:23.261Z"
   },
   {
    "duration": 37,
    "start_time": "2022-02-06T12:10:23.271Z"
   },
   {
    "duration": 15,
    "start_time": "2022-02-06T12:10:23.310Z"
   },
   {
    "duration": 14,
    "start_time": "2022-02-06T12:10:23.327Z"
   },
   {
    "duration": 9,
    "start_time": "2022-02-06T12:10:23.343Z"
   },
   {
    "duration": 14,
    "start_time": "2022-02-06T12:10:23.355Z"
   },
   {
    "duration": 10,
    "start_time": "2022-02-06T12:10:23.407Z"
   },
   {
    "duration": 21,
    "start_time": "2022-02-06T12:10:23.418Z"
   },
   {
    "duration": 26,
    "start_time": "2022-02-06T12:10:23.440Z"
   },
   {
    "duration": 51,
    "start_time": "2022-02-06T12:10:23.468Z"
   },
   {
    "duration": 7,
    "start_time": "2022-02-06T12:10:23.521Z"
   },
   {
    "duration": 2058,
    "start_time": "2022-02-06T12:10:23.530Z"
   },
   {
    "duration": 43,
    "start_time": "2022-02-06T12:10:25.589Z"
   },
   {
    "duration": 7,
    "start_time": "2022-02-06T12:10:25.634Z"
   },
   {
    "duration": 426,
    "start_time": "2022-02-06T12:10:25.643Z"
   },
   {
    "duration": 849,
    "start_time": "2022-02-06T12:10:26.072Z"
   },
   {
    "duration": 8,
    "start_time": "2022-02-06T12:10:26.923Z"
   },
   {
    "duration": 240,
    "start_time": "2022-02-06T12:10:26.933Z"
   },
   {
    "duration": 215,
    "start_time": "2022-02-06T12:10:30.767Z"
   },
   {
    "duration": 210,
    "start_time": "2022-02-06T12:10:52.776Z"
   },
   {
    "duration": 540,
    "start_time": "2022-02-06T12:13:22.691Z"
   },
   {
    "duration": 534,
    "start_time": "2022-02-06T12:14:35.089Z"
   },
   {
    "duration": 361,
    "start_time": "2022-02-06T12:16:03.174Z"
   },
   {
    "duration": 238,
    "start_time": "2022-02-06T12:16:09.109Z"
   },
   {
    "duration": 206,
    "start_time": "2022-02-06T12:16:19.753Z"
   },
   {
    "duration": 449,
    "start_time": "2022-02-06T12:18:47.008Z"
   },
   {
    "duration": 14,
    "start_time": "2022-02-06T12:20:52.523Z"
   },
   {
    "duration": 13,
    "start_time": "2022-02-06T12:21:34.729Z"
   },
   {
    "duration": 15,
    "start_time": "2022-02-06T12:21:56.267Z"
   },
   {
    "duration": 18,
    "start_time": "2022-02-06T12:22:10.072Z"
   },
   {
    "duration": 15,
    "start_time": "2022-02-06T12:22:21.971Z"
   },
   {
    "duration": 24,
    "start_time": "2022-02-06T12:22:32.044Z"
   },
   {
    "duration": 23,
    "start_time": "2022-02-06T12:22:54.365Z"
   },
   {
    "duration": 27,
    "start_time": "2022-02-06T12:23:03.584Z"
   },
   {
    "duration": 38,
    "start_time": "2022-02-06T12:23:11.672Z"
   },
   {
    "duration": 59,
    "start_time": "2022-02-06T12:23:31.696Z"
   },
   {
    "duration": 111,
    "start_time": "2022-02-06T12:23:39.297Z"
   },
   {
    "duration": 9,
    "start_time": "2022-02-06T12:24:14.138Z"
   },
   {
    "duration": 9,
    "start_time": "2022-02-06T12:25:33.167Z"
   },
   {
    "duration": 12,
    "start_time": "2022-02-06T12:28:00.737Z"
   },
   {
    "duration": 13,
    "start_time": "2022-02-06T12:28:23.178Z"
   },
   {
    "duration": 199,
    "start_time": "2022-02-06T12:29:06.778Z"
   },
   {
    "duration": 288,
    "start_time": "2022-02-06T12:29:15.025Z"
   },
   {
    "duration": 234,
    "start_time": "2022-02-06T12:29:21.765Z"
   },
   {
    "duration": 605,
    "start_time": "2022-02-06T12:31:38.830Z"
   },
   {
    "duration": 1352,
    "start_time": "2022-02-06T12:31:46.484Z"
   },
   {
    "duration": 290,
    "start_time": "2022-02-06T12:31:55.338Z"
   },
   {
    "duration": 286,
    "start_time": "2022-02-06T12:33:31.568Z"
   },
   {
    "duration": 424,
    "start_time": "2022-02-06T12:33:45.599Z"
   },
   {
    "duration": 242,
    "start_time": "2022-02-06T12:34:02.443Z"
   },
   {
    "duration": 204,
    "start_time": "2022-02-06T12:34:24.913Z"
   },
   {
    "duration": 255,
    "start_time": "2022-02-06T12:34:47.808Z"
   },
   {
    "duration": 20549,
    "start_time": "2022-02-06T12:35:56.487Z"
   },
   {
    "duration": 20488,
    "start_time": "2022-02-06T12:36:37.608Z"
   },
   {
    "duration": 20142,
    "start_time": "2022-02-06T12:37:13.138Z"
   },
   {
    "duration": 21470,
    "start_time": "2022-02-06T12:38:16.009Z"
   },
   {
    "duration": 66,
    "start_time": "2022-02-06T12:46:22.263Z"
   },
   {
    "duration": 6319,
    "start_time": "2022-02-06T12:47:59.463Z"
   },
   {
    "duration": -6638,
    "start_time": "2022-02-06T12:48:12.423Z"
   },
   {
    "duration": 5,
    "start_time": "2022-02-06T12:48:35.149Z"
   },
   {
    "duration": 1909,
    "start_time": "2022-02-06T12:48:42.613Z"
   },
   {
    "duration": 28,
    "start_time": "2022-02-06T12:48:54.733Z"
   },
   {
    "duration": 8,
    "start_time": "2022-02-06T12:49:05.736Z"
   },
   {
    "duration": 201,
    "start_time": "2022-02-06T12:49:08.849Z"
   },
   {
    "duration": 761,
    "start_time": "2022-02-06T12:49:19.754Z"
   },
   {
    "duration": 8,
    "start_time": "2022-02-06T12:49:29.877Z"
   },
   {
    "duration": 208,
    "start_time": "2022-02-06T12:49:37.686Z"
   },
   {
    "duration": 399,
    "start_time": "2022-02-06T12:49:47.340Z"
   },
   {
    "duration": 457,
    "start_time": "2022-02-06T12:49:55.642Z"
   },
   {
    "duration": 22745,
    "start_time": "2022-02-06T12:50:02.462Z"
   },
   {
    "duration": 221,
    "start_time": "2022-02-06T12:50:40.815Z"
   },
   {
    "duration": 277,
    "start_time": "2022-02-06T12:50:47.023Z"
   },
   {
    "duration": 220,
    "start_time": "2022-02-06T12:50:50.845Z"
   },
   {
    "duration": 214,
    "start_time": "2022-02-06T12:50:53.972Z"
   },
   {
    "duration": 99,
    "start_time": "2022-02-06T12:51:10.452Z"
   },
   {
    "duration": 285,
    "start_time": "2022-02-06T12:51:23.008Z"
   },
   {
    "duration": 9,
    "start_time": "2022-02-06T12:57:24.222Z"
   },
   {
    "duration": 200,
    "start_time": "2022-02-06T12:57:26.663Z"
   },
   {
    "duration": 467,
    "start_time": "2022-02-06T12:57:32.069Z"
   },
   {
    "duration": 188,
    "start_time": "2022-02-06T12:58:38.573Z"
   },
   {
    "duration": 235,
    "start_time": "2022-02-06T12:58:47.211Z"
   },
   {
    "duration": 254,
    "start_time": "2022-02-06T12:59:13.987Z"
   },
   {
    "duration": 235,
    "start_time": "2022-02-06T12:59:27.799Z"
   },
   {
    "duration": 221,
    "start_time": "2022-02-06T12:59:32.199Z"
   },
   {
    "duration": 332,
    "start_time": "2022-02-06T12:59:37.577Z"
   },
   {
    "duration": 241,
    "start_time": "2022-02-06T13:00:54.447Z"
   },
   {
    "duration": 205,
    "start_time": "2022-02-06T13:01:05.219Z"
   },
   {
    "duration": 192,
    "start_time": "2022-02-06T13:05:15.997Z"
   },
   {
    "duration": 187,
    "start_time": "2022-02-06T13:05:36.816Z"
   },
   {
    "duration": 74,
    "start_time": "2022-02-06T13:09:50.671Z"
   },
   {
    "duration": 67,
    "start_time": "2022-02-06T13:10:15.758Z"
   },
   {
    "duration": 7,
    "start_time": "2022-02-06T13:14:06.215Z"
   },
   {
    "duration": 23,
    "start_time": "2022-02-06T13:14:11.743Z"
   },
   {
    "duration": 7,
    "start_time": "2022-02-06T13:14:53.116Z"
   },
   {
    "duration": 9,
    "start_time": "2022-02-06T13:15:03.461Z"
   },
   {
    "duration": 2042,
    "start_time": "2022-02-06T13:15:29.314Z"
   },
   {
    "duration": 7977,
    "start_time": "2022-02-06T13:16:04.685Z"
   },
   {
    "duration": 1929,
    "start_time": "2022-02-06T13:16:24.855Z"
   },
   {
    "duration": 65,
    "start_time": "2022-02-06T13:18:34.136Z"
   },
   {
    "duration": 12,
    "start_time": "2022-02-06T13:18:34.203Z"
   },
   {
    "duration": 11,
    "start_time": "2022-02-06T13:18:34.217Z"
   },
   {
    "duration": 7,
    "start_time": "2022-02-06T13:18:34.230Z"
   },
   {
    "duration": 278,
    "start_time": "2022-02-06T13:18:34.239Z"
   },
   {
    "duration": 226,
    "start_time": "2022-02-06T13:18:34.519Z"
   },
   {
    "duration": 11,
    "start_time": "2022-02-06T13:18:34.747Z"
   },
   {
    "duration": 11,
    "start_time": "2022-02-06T13:18:34.761Z"
   },
   {
    "duration": 8,
    "start_time": "2022-02-06T13:18:34.774Z"
   },
   {
    "duration": 9,
    "start_time": "2022-02-06T13:18:34.808Z"
   },
   {
    "duration": 8,
    "start_time": "2022-02-06T13:18:34.819Z"
   },
   {
    "duration": 309,
    "start_time": "2022-02-06T13:18:34.829Z"
   },
   {
    "duration": 5,
    "start_time": "2022-02-06T13:18:35.141Z"
   },
   {
    "duration": 11,
    "start_time": "2022-02-06T13:18:35.148Z"
   },
   {
    "duration": 18,
    "start_time": "2022-02-06T13:18:35.161Z"
   },
   {
    "duration": 23,
    "start_time": "2022-02-06T13:18:35.207Z"
   },
   {
    "duration": 8,
    "start_time": "2022-02-06T13:18:35.232Z"
   },
   {
    "duration": 15,
    "start_time": "2022-02-06T13:18:35.241Z"
   },
   {
    "duration": 15,
    "start_time": "2022-02-06T13:18:35.258Z"
   },
   {
    "duration": 62,
    "start_time": "2022-02-06T13:18:35.274Z"
   },
   {
    "duration": 11,
    "start_time": "2022-02-06T13:18:35.339Z"
   },
   {
    "duration": 8,
    "start_time": "2022-02-06T13:18:35.352Z"
   },
   {
    "duration": 7,
    "start_time": "2022-02-06T13:18:35.364Z"
   },
   {
    "duration": 34,
    "start_time": "2022-02-06T13:18:35.373Z"
   },
   {
    "duration": 13,
    "start_time": "2022-02-06T13:18:35.410Z"
   },
   {
    "duration": 23,
    "start_time": "2022-02-06T13:18:35.426Z"
   },
   {
    "duration": 5,
    "start_time": "2022-02-06T13:18:35.451Z"
   },
   {
    "duration": 2212,
    "start_time": "2022-02-06T13:18:35.458Z"
   },
   {
    "duration": 41,
    "start_time": "2022-02-06T13:18:37.672Z"
   },
   {
    "duration": 8,
    "start_time": "2022-02-06T13:18:37.715Z"
   },
   {
    "duration": 230,
    "start_time": "2022-02-06T13:18:37.725Z"
   },
   {
    "duration": 842,
    "start_time": "2022-02-06T13:18:37.957Z"
   },
   {
    "duration": 13,
    "start_time": "2022-02-06T13:18:38.801Z"
   },
   {
    "duration": 227,
    "start_time": "2022-02-06T13:18:38.816Z"
   },
   {
    "duration": 444,
    "start_time": "2022-02-06T13:18:39.045Z"
   },
   {
    "duration": 515,
    "start_time": "2022-02-06T13:18:39.492Z"
   },
   {
    "duration": 217,
    "start_time": "2022-02-06T13:18:40.009Z"
   },
   {
    "duration": 7,
    "start_time": "2022-02-06T13:18:40.228Z"
   },
   {
    "duration": 14,
    "start_time": "2022-02-06T13:18:40.237Z"
   },
   {
    "duration": 7,
    "start_time": "2022-02-06T13:18:40.253Z"
   },
   {
    "duration": 54,
    "start_time": "2022-02-06T13:18:40.263Z"
   },
   {
    "duration": 1933,
    "start_time": "2022-02-06T13:18:40.320Z"
   },
   {
    "duration": 8,
    "start_time": "2022-02-06T13:18:42.255Z"
   },
   {
    "duration": 19,
    "start_time": "2022-02-06T13:18:42.264Z"
   },
   {
    "duration": 28,
    "start_time": "2022-02-06T13:18:42.285Z"
   },
   {
    "duration": 14,
    "start_time": "2022-02-06T13:18:42.316Z"
   },
   {
    "duration": 27,
    "start_time": "2022-02-06T13:18:42.332Z"
   },
   {
    "duration": 74,
    "start_time": "2022-02-06T13:34:59.612Z"
   },
   {
    "duration": 27,
    "start_time": "2022-02-06T13:34:59.688Z"
   },
   {
    "duration": 17,
    "start_time": "2022-02-06T13:34:59.718Z"
   },
   {
    "duration": 9,
    "start_time": "2022-02-06T13:34:59.738Z"
   },
   {
    "duration": 303,
    "start_time": "2022-02-06T13:34:59.749Z"
   },
   {
    "duration": 244,
    "start_time": "2022-02-06T13:35:00.055Z"
   },
   {
    "duration": 16,
    "start_time": "2022-02-06T13:35:00.301Z"
   },
   {
    "duration": 11,
    "start_time": "2022-02-06T13:35:00.321Z"
   },
   {
    "duration": 13,
    "start_time": "2022-02-06T13:35:00.335Z"
   },
   {
    "duration": 36,
    "start_time": "2022-02-06T13:35:00.350Z"
   },
   {
    "duration": 10,
    "start_time": "2022-02-06T13:35:00.388Z"
   },
   {
    "duration": 309,
    "start_time": "2022-02-06T13:35:00.400Z"
   },
   {
    "duration": 6,
    "start_time": "2022-02-06T13:35:00.711Z"
   },
   {
    "duration": 28,
    "start_time": "2022-02-06T13:35:00.718Z"
   },
   {
    "duration": 10,
    "start_time": "2022-02-06T13:35:00.748Z"
   },
   {
    "duration": 23,
    "start_time": "2022-02-06T13:35:00.760Z"
   },
   {
    "duration": 24,
    "start_time": "2022-02-06T13:35:00.785Z"
   },
   {
    "duration": 27,
    "start_time": "2022-02-06T13:35:00.811Z"
   },
   {
    "duration": 35,
    "start_time": "2022-02-06T13:35:00.840Z"
   },
   {
    "duration": 32,
    "start_time": "2022-02-06T13:35:00.878Z"
   },
   {
    "duration": 5,
    "start_time": "2022-02-06T13:35:00.912Z"
   },
   {
    "duration": 2065,
    "start_time": "2022-02-06T13:35:00.920Z"
   },
   {
    "duration": 46,
    "start_time": "2022-02-06T13:35:02.989Z"
   },
   {
    "duration": 10,
    "start_time": "2022-02-06T13:35:03.038Z"
   },
   {
    "duration": 249,
    "start_time": "2022-02-06T13:35:03.050Z"
   },
   {
    "duration": 819,
    "start_time": "2022-02-06T13:35:03.301Z"
   },
   {
    "duration": 6,
    "start_time": "2022-02-06T13:35:04.123Z"
   },
   {
    "duration": 9,
    "start_time": "2022-02-06T13:35:04.132Z"
   },
   {
    "duration": 247,
    "start_time": "2022-02-06T13:35:04.143Z"
   },
   {
    "duration": 1430,
    "start_time": "2022-02-06T13:35:04.393Z"
   },
   {
    "duration": 475,
    "start_time": "2022-02-06T13:35:05.825Z"
   },
   {
    "duration": 227,
    "start_time": "2022-02-06T13:35:06.302Z"
   },
   {
    "duration": 8,
    "start_time": "2022-02-06T13:35:06.532Z"
   },
   {
    "duration": 9,
    "start_time": "2022-02-06T13:35:06.542Z"
   },
   {
    "duration": 8,
    "start_time": "2022-02-06T13:35:06.554Z"
   },
   {
    "duration": 58,
    "start_time": "2022-02-06T13:35:06.564Z"
   },
   {
    "duration": 1950,
    "start_time": "2022-02-06T13:35:06.624Z"
   },
   {
    "duration": 32,
    "start_time": "2022-02-06T13:35:08.577Z"
   },
   {
    "duration": 31,
    "start_time": "2022-02-06T13:35:08.611Z"
   },
   {
    "duration": 7,
    "start_time": "2022-02-06T13:35:08.643Z"
   },
   {
    "duration": 10,
    "start_time": "2022-02-06T13:35:08.653Z"
   },
   {
    "duration": 50,
    "start_time": "2022-02-06T13:35:08.665Z"
   },
   {
    "duration": 36,
    "start_time": "2022-02-06T13:35:08.717Z"
   },
   {
    "duration": 11,
    "start_time": "2022-02-06T13:35:08.756Z"
   },
   {
    "duration": 10,
    "start_time": "2022-02-06T13:35:08.770Z"
   },
   {
    "duration": 26,
    "start_time": "2022-02-06T13:35:08.782Z"
   },
   {
    "duration": 14,
    "start_time": "2022-02-06T13:35:08.810Z"
   },
   {
    "duration": 16,
    "start_time": "2022-02-06T13:35:08.826Z"
   },
   {
    "duration": 287,
    "start_time": "2022-02-06T13:37:09.223Z"
   },
   {
    "duration": 267,
    "start_time": "2022-02-06T13:37:25.412Z"
   },
   {
    "duration": 27,
    "start_time": "2022-02-06T13:38:45.678Z"
   },
   {
    "duration": 7,
    "start_time": "2022-02-06T13:38:58.068Z"
   },
   {
    "duration": 25,
    "start_time": "2022-02-06T13:39:01.252Z"
   },
   {
    "duration": 67,
    "start_time": "2022-02-06T13:40:05.266Z"
   },
   {
    "duration": 14,
    "start_time": "2022-02-06T13:40:05.336Z"
   },
   {
    "duration": 39,
    "start_time": "2022-02-06T13:40:05.353Z"
   },
   {
    "duration": 17,
    "start_time": "2022-02-06T13:40:05.395Z"
   },
   {
    "duration": 253,
    "start_time": "2022-02-06T13:40:05.414Z"
   },
   {
    "duration": 236,
    "start_time": "2022-02-06T13:40:05.669Z"
   },
   {
    "duration": 12,
    "start_time": "2022-02-06T13:40:05.907Z"
   },
   {
    "duration": 13,
    "start_time": "2022-02-06T13:40:05.922Z"
   },
   {
    "duration": 28,
    "start_time": "2022-02-06T13:40:05.938Z"
   },
   {
    "duration": 21,
    "start_time": "2022-02-06T13:40:05.968Z"
   },
   {
    "duration": 25,
    "start_time": "2022-02-06T13:40:05.992Z"
   },
   {
    "duration": 326,
    "start_time": "2022-02-06T13:40:06.020Z"
   },
   {
    "duration": 5,
    "start_time": "2022-02-06T13:40:06.348Z"
   },
   {
    "duration": 11,
    "start_time": "2022-02-06T13:40:06.355Z"
   },
   {
    "duration": 12,
    "start_time": "2022-02-06T13:40:06.368Z"
   },
   {
    "duration": 41,
    "start_time": "2022-02-06T13:40:06.382Z"
   },
   {
    "duration": 11,
    "start_time": "2022-02-06T13:40:06.425Z"
   },
   {
    "duration": 16,
    "start_time": "2022-02-06T13:40:06.438Z"
   },
   {
    "duration": 40,
    "start_time": "2022-02-06T13:40:06.456Z"
   },
   {
    "duration": 67,
    "start_time": "2022-02-06T13:40:06.499Z"
   },
   {
    "duration": 8,
    "start_time": "2022-02-06T13:40:06.568Z"
   },
   {
    "duration": 1721,
    "start_time": "2022-02-06T13:40:06.579Z"
   },
   {
    "duration": 29,
    "start_time": "2022-02-06T13:40:08.309Z"
   },
   {
    "duration": 7,
    "start_time": "2022-02-06T13:40:08.341Z"
   },
   {
    "duration": 227,
    "start_time": "2022-02-06T13:40:08.350Z"
   },
   {
    "duration": 778,
    "start_time": "2022-02-06T13:40:08.579Z"
   },
   {
    "duration": 7,
    "start_time": "2022-02-06T13:40:09.358Z"
   },
   {
    "duration": 10,
    "start_time": "2022-02-06T13:40:09.367Z"
   },
   {
    "duration": 235,
    "start_time": "2022-02-06T13:40:09.379Z"
   },
   {
    "duration": 439,
    "start_time": "2022-02-06T13:40:09.617Z"
   },
   {
    "duration": 462,
    "start_time": "2022-02-06T13:40:10.059Z"
   },
   {
    "duration": 214,
    "start_time": "2022-02-06T13:40:10.523Z"
   },
   {
    "duration": 7,
    "start_time": "2022-02-06T13:40:10.739Z"
   },
   {
    "duration": 11,
    "start_time": "2022-02-06T13:40:10.748Z"
   },
   {
    "duration": 7,
    "start_time": "2022-02-06T13:40:10.761Z"
   },
   {
    "duration": 7,
    "start_time": "2022-02-06T13:40:10.770Z"
   },
   {
    "duration": 49,
    "start_time": "2022-02-06T13:40:10.779Z"
   },
   {
    "duration": 1781,
    "start_time": "2022-02-06T13:40:10.830Z"
   },
   {
    "duration": 12,
    "start_time": "2022-02-06T13:40:12.613Z"
   },
   {
    "duration": 36,
    "start_time": "2022-02-06T13:40:12.627Z"
   },
   {
    "duration": 8,
    "start_time": "2022-02-06T13:40:12.665Z"
   },
   {
    "duration": 34,
    "start_time": "2022-02-06T13:40:12.675Z"
   },
   {
    "duration": 18,
    "start_time": "2022-02-06T13:40:12.711Z"
   },
   {
    "duration": 34,
    "start_time": "2022-02-06T13:40:12.731Z"
   },
   {
    "duration": 10,
    "start_time": "2022-02-06T13:40:12.767Z"
   },
   {
    "duration": 3,
    "start_time": "2022-02-06T13:40:12.779Z"
   },
   {
    "duration": 26,
    "start_time": "2022-02-06T13:40:12.783Z"
   },
   {
    "duration": 19,
    "start_time": "2022-02-06T13:40:12.811Z"
   },
   {
    "duration": 14,
    "start_time": "2022-02-06T13:40:12.832Z"
   },
   {
    "duration": 1146,
    "start_time": "2022-02-06T18:57:57.484Z"
   },
   {
    "duration": 10,
    "start_time": "2022-02-06T18:58:03.072Z"
   },
   {
    "duration": 13,
    "start_time": "2022-02-06T18:58:06.335Z"
   },
   {
    "duration": 5,
    "start_time": "2022-02-06T18:58:12.241Z"
   },
   {
    "duration": 172,
    "start_time": "2022-02-06T18:58:17.685Z"
   },
   {
    "duration": 172,
    "start_time": "2022-02-06T18:59:37.259Z"
   },
   {
    "duration": 10,
    "start_time": "2022-02-06T18:59:58.681Z"
   },
   {
    "duration": 10,
    "start_time": "2022-02-06T19:00:17.415Z"
   },
   {
    "duration": 7,
    "start_time": "2022-02-06T19:00:26.487Z"
   },
   {
    "duration": 8,
    "start_time": "2022-02-06T19:00:37.741Z"
   },
   {
    "duration": 6,
    "start_time": "2022-02-06T19:00:46.804Z"
   },
   {
    "duration": 221,
    "start_time": "2022-02-06T19:00:53.905Z"
   },
   {
    "duration": 4,
    "start_time": "2022-02-06T19:00:56.873Z"
   },
   {
    "duration": 8,
    "start_time": "2022-02-06T19:01:16.374Z"
   },
   {
    "duration": 7,
    "start_time": "2022-02-06T19:01:25.193Z"
   },
   {
    "duration": 9,
    "start_time": "2022-02-06T19:01:28.156Z"
   },
   {
    "duration": 9,
    "start_time": "2022-02-06T19:01:29.492Z"
   },
   {
    "duration": 10,
    "start_time": "2022-02-06T19:01:39.612Z"
   },
   {
    "duration": 20,
    "start_time": "2022-02-06T19:01:45.904Z"
   },
   {
    "duration": 20,
    "start_time": "2022-02-06T19:01:50.920Z"
   },
   {
    "duration": 5,
    "start_time": "2022-02-06T19:02:18.050Z"
   },
   {
    "duration": 1507,
    "start_time": "2022-02-06T19:02:20.953Z"
   },
   {
    "duration": 23,
    "start_time": "2022-02-06T19:02:26.139Z"
   },
   {
    "duration": 7,
    "start_time": "2022-02-06T19:03:54.320Z"
   },
   {
    "duration": 166,
    "start_time": "2022-02-06T19:04:06.927Z"
   },
   {
    "duration": 709,
    "start_time": "2022-02-06T19:04:08.990Z"
   },
   {
    "duration": 6,
    "start_time": "2022-02-06T19:05:28.947Z"
   },
   {
    "duration": 5,
    "start_time": "2022-02-06T19:05:36.352Z"
   },
   {
    "duration": 168,
    "start_time": "2022-02-06T19:17:36.726Z"
   },
   {
    "duration": 356,
    "start_time": "2022-02-06T19:17:39.700Z"
   },
   {
    "duration": 478,
    "start_time": "2022-02-06T19:17:50.749Z"
   },
   {
    "duration": 152,
    "start_time": "2022-02-06T19:17:54.159Z"
   },
   {
    "duration": 6,
    "start_time": "2022-02-06T19:20:02.735Z"
   },
   {
    "duration": 7,
    "start_time": "2022-02-06T19:20:18.811Z"
   },
   {
    "duration": 6,
    "start_time": "2022-02-06T19:20:25.922Z"
   },
   {
    "duration": 5,
    "start_time": "2022-02-06T19:20:27.936Z"
   },
   {
    "duration": 19,
    "start_time": "2022-02-06T19:20:29.819Z"
   },
   {
    "duration": 1445,
    "start_time": "2022-02-06T19:20:33.193Z"
   },
   {
    "duration": 9,
    "start_time": "2022-02-06T19:21:30.387Z"
   },
   {
    "duration": 19,
    "start_time": "2022-02-06T19:23:41.461Z"
   },
   {
    "duration": 7,
    "start_time": "2022-02-06T19:23:49.482Z"
   },
   {
    "duration": 9,
    "start_time": "2022-02-06T19:23:54.290Z"
   },
   {
    "duration": 11,
    "start_time": "2022-02-06T19:24:16.233Z"
   },
   {
    "duration": 26,
    "start_time": "2022-02-06T19:24:43.571Z"
   },
   {
    "duration": 9,
    "start_time": "2022-02-06T19:25:17.131Z"
   },
   {
    "duration": 3,
    "start_time": "2022-02-06T19:26:01.806Z"
   },
   {
    "duration": 2,
    "start_time": "2022-02-06T19:26:02.580Z"
   },
   {
    "duration": 15,
    "start_time": "2022-02-06T19:26:04.952Z"
   },
   {
    "duration": 15,
    "start_time": "2022-02-06T19:26:18.265Z"
   },
   {
    "duration": 153,
    "start_time": "2022-02-06T19:31:22.682Z"
   },
   {
    "duration": 160,
    "start_time": "2022-02-06T19:31:37.779Z"
   },
   {
    "duration": 6,
    "start_time": "2022-02-06T19:32:07.826Z"
   },
   {
    "duration": 7,
    "start_time": "2022-02-06T19:48:21.124Z"
   },
   {
    "duration": 7,
    "start_time": "2022-02-06T20:11:25.733Z"
   },
   {
    "duration": 3,
    "start_time": "2022-02-06T20:13:02.684Z"
   },
   {
    "duration": 3,
    "start_time": "2022-02-06T20:13:49.121Z"
   },
   {
    "duration": 3,
    "start_time": "2022-02-06T20:14:09.354Z"
   },
   {
    "duration": 4,
    "start_time": "2022-02-06T20:15:01.558Z"
   },
   {
    "duration": 6,
    "start_time": "2022-02-06T20:25:43.062Z"
   },
   {
    "duration": 7,
    "start_time": "2022-02-06T20:26:04.355Z"
   },
   {
    "duration": 4,
    "start_time": "2022-02-06T20:26:44.132Z"
   },
   {
    "duration": 19,
    "start_time": "2022-02-06T20:27:00.229Z"
   },
   {
    "duration": 7,
    "start_time": "2022-02-06T20:27:13.648Z"
   },
   {
    "duration": 6,
    "start_time": "2022-02-06T20:30:09.920Z"
   },
   {
    "duration": 454,
    "start_time": "2022-02-06T20:30:43.989Z"
   },
   {
    "duration": 6,
    "start_time": "2022-02-06T20:31:42.016Z"
   },
   {
    "duration": 7,
    "start_time": "2022-02-06T20:31:56.540Z"
   },
   {
    "duration": 6,
    "start_time": "2022-02-06T20:32:09.497Z"
   },
   {
    "duration": 6,
    "start_time": "2022-02-06T20:32:18.619Z"
   },
   {
    "duration": 7,
    "start_time": "2022-02-06T20:32:23.895Z"
   },
   {
    "duration": 6,
    "start_time": "2022-02-06T20:32:49.521Z"
   },
   {
    "duration": 6,
    "start_time": "2022-02-06T20:32:58.300Z"
   },
   {
    "duration": 6,
    "start_time": "2022-02-06T20:33:05.847Z"
   },
   {
    "duration": 6,
    "start_time": "2022-02-06T20:33:11.493Z"
   },
   {
    "duration": 7,
    "start_time": "2022-02-06T20:33:27.688Z"
   },
   {
    "duration": 6,
    "start_time": "2022-02-06T20:33:35.559Z"
   },
   {
    "duration": 57,
    "start_time": "2022-02-06T20:35:28.314Z"
   },
   {
    "duration": 8,
    "start_time": "2022-02-06T20:35:39.718Z"
   },
   {
    "duration": 6,
    "start_time": "2022-02-06T20:35:45.032Z"
   },
   {
    "duration": 7,
    "start_time": "2022-02-06T20:36:10.115Z"
   },
   {
    "duration": 7,
    "start_time": "2022-02-06T20:44:30.383Z"
   },
   {
    "duration": 7,
    "start_time": "2022-02-06T20:44:44.620Z"
   },
   {
    "duration": 11,
    "start_time": "2022-02-06T20:44:53.238Z"
   },
   {
    "duration": 6,
    "start_time": "2022-02-06T20:44:57.318Z"
   },
   {
    "duration": 7,
    "start_time": "2022-02-06T20:45:05.992Z"
   },
   {
    "duration": 57,
    "start_time": "2022-02-06T21:16:54.702Z"
   },
   {
    "duration": 10,
    "start_time": "2022-02-06T21:16:54.760Z"
   },
   {
    "duration": 9,
    "start_time": "2022-02-06T21:16:54.772Z"
   },
   {
    "duration": 6,
    "start_time": "2022-02-06T21:16:54.783Z"
   },
   {
    "duration": 212,
    "start_time": "2022-02-06T21:16:54.790Z"
   },
   {
    "duration": 171,
    "start_time": "2022-02-06T21:16:55.003Z"
   },
   {
    "duration": 9,
    "start_time": "2022-02-06T21:16:55.176Z"
   },
   {
    "duration": 8,
    "start_time": "2022-02-06T21:16:55.187Z"
   },
   {
    "duration": 6,
    "start_time": "2022-02-06T21:16:55.197Z"
   },
   {
    "duration": 7,
    "start_time": "2022-02-06T21:16:55.204Z"
   },
   {
    "duration": 4,
    "start_time": "2022-02-06T21:16:55.213Z"
   },
   {
    "duration": 261,
    "start_time": "2022-02-06T21:16:55.219Z"
   },
   {
    "duration": 4,
    "start_time": "2022-02-06T21:16:55.481Z"
   },
   {
    "duration": 8,
    "start_time": "2022-02-06T21:16:55.486Z"
   },
   {
    "duration": 6,
    "start_time": "2022-02-06T21:16:55.495Z"
   },
   {
    "duration": 5,
    "start_time": "2022-02-06T21:16:55.502Z"
   },
   {
    "duration": 5,
    "start_time": "2022-02-06T21:16:55.508Z"
   },
   {
    "duration": 6,
    "start_time": "2022-02-06T21:16:55.514Z"
   },
   {
    "duration": 20,
    "start_time": "2022-02-06T21:16:55.522Z"
   },
   {
    "duration": 4,
    "start_time": "2022-02-06T21:16:55.572Z"
   },
   {
    "duration": 1550,
    "start_time": "2022-02-06T21:16:55.578Z"
   },
   {
    "duration": 22,
    "start_time": "2022-02-06T21:16:57.130Z"
   },
   {
    "duration": 18,
    "start_time": "2022-02-06T21:16:57.154Z"
   },
   {
    "duration": 178,
    "start_time": "2022-02-06T21:16:57.174Z"
   },
   {
    "duration": 632,
    "start_time": "2022-02-06T21:16:57.354Z"
   },
   {
    "duration": 6,
    "start_time": "2022-02-06T21:17:04.833Z"
   },
   {
    "duration": 4,
    "start_time": "2022-02-06T21:17:29.021Z"
   },
   {
    "duration": 58,
    "start_time": "2022-02-06T21:18:10.003Z"
   },
   {
    "duration": 10,
    "start_time": "2022-02-06T21:18:10.062Z"
   },
   {
    "duration": 8,
    "start_time": "2022-02-06T21:18:10.074Z"
   },
   {
    "duration": 6,
    "start_time": "2022-02-06T21:18:10.084Z"
   },
   {
    "duration": 213,
    "start_time": "2022-02-06T21:18:10.091Z"
   },
   {
    "duration": 179,
    "start_time": "2022-02-06T21:18:10.306Z"
   },
   {
    "duration": 8,
    "start_time": "2022-02-06T21:18:10.487Z"
   },
   {
    "duration": 8,
    "start_time": "2022-02-06T21:18:10.497Z"
   },
   {
    "duration": 6,
    "start_time": "2022-02-06T21:18:10.507Z"
   },
   {
    "duration": 7,
    "start_time": "2022-02-06T21:18:10.514Z"
   },
   {
    "duration": 5,
    "start_time": "2022-02-06T21:18:10.523Z"
   },
   {
    "duration": 276,
    "start_time": "2022-02-06T21:18:10.529Z"
   },
   {
    "duration": 4,
    "start_time": "2022-02-06T21:18:10.806Z"
   },
   {
    "duration": 18,
    "start_time": "2022-02-06T21:18:10.812Z"
   },
   {
    "duration": 6,
    "start_time": "2022-02-06T21:18:10.832Z"
   },
   {
    "duration": 6,
    "start_time": "2022-02-06T21:18:10.840Z"
   },
   {
    "duration": 4,
    "start_time": "2022-02-06T21:18:10.848Z"
   },
   {
    "duration": 23,
    "start_time": "2022-02-06T21:18:10.853Z"
   },
   {
    "duration": 19,
    "start_time": "2022-02-06T21:18:10.877Z"
   },
   {
    "duration": 4,
    "start_time": "2022-02-06T21:18:10.897Z"
   },
   {
    "duration": 1440,
    "start_time": "2022-02-06T21:18:10.902Z"
   },
   {
    "duration": 30,
    "start_time": "2022-02-06T21:18:12.343Z"
   },
   {
    "duration": 5,
    "start_time": "2022-02-06T21:18:12.376Z"
   },
   {
    "duration": 177,
    "start_time": "2022-02-06T21:18:12.382Z"
   },
   {
    "duration": 716,
    "start_time": "2022-02-06T21:18:12.561Z"
   },
   {
    "duration": 7,
    "start_time": "2022-02-06T21:18:13.279Z"
   },
   {
    "duration": 3,
    "start_time": "2022-02-06T21:18:21.751Z"
   },
   {
    "duration": 7,
    "start_time": "2022-02-06T21:18:34.071Z"
   },
   {
    "duration": 4,
    "start_time": "2022-02-06T21:18:50.799Z"
   },
   {
    "duration": 156,
    "start_time": "2022-02-06T21:19:02.246Z"
   },
   {
    "duration": 6,
    "start_time": "2022-02-06T21:19:52.957Z"
   },
   {
    "duration": 6,
    "start_time": "2022-02-06T21:19:55.841Z"
   },
   {
    "duration": 6,
    "start_time": "2022-02-06T21:19:57.770Z"
   },
   {
    "duration": 7,
    "start_time": "2022-02-06T21:32:10.445Z"
   },
   {
    "duration": 4,
    "start_time": "2022-02-06T21:34:07.287Z"
   },
   {
    "duration": 7,
    "start_time": "2022-02-06T21:34:23.532Z"
   },
   {
    "duration": 7,
    "start_time": "2022-02-06T21:35:26.224Z"
   },
   {
    "duration": 6,
    "start_time": "2022-02-06T21:36:05.170Z"
   },
   {
    "duration": 7,
    "start_time": "2022-02-06T21:37:18.424Z"
   },
   {
    "duration": 6,
    "start_time": "2022-02-06T21:37:23.719Z"
   },
   {
    "duration": 318,
    "start_time": "2022-02-06T21:37:32.358Z"
   },
   {
    "duration": 325,
    "start_time": "2022-02-06T21:37:52.232Z"
   },
   {
    "duration": 3,
    "start_time": "2022-02-06T21:39:26.113Z"
   },
   {
    "duration": 7,
    "start_time": "2022-02-06T21:40:02.688Z"
   },
   {
    "duration": 331,
    "start_time": "2022-02-06T21:51:22.730Z"
   },
   {
    "duration": 58,
    "start_time": "2022-02-06T21:51:39.950Z"
   },
   {
    "duration": 10,
    "start_time": "2022-02-06T21:51:40.010Z"
   },
   {
    "duration": 8,
    "start_time": "2022-02-06T21:51:40.022Z"
   },
   {
    "duration": 6,
    "start_time": "2022-02-06T21:51:40.032Z"
   },
   {
    "duration": 221,
    "start_time": "2022-02-06T21:51:40.040Z"
   },
   {
    "duration": 273,
    "start_time": "2022-02-06T21:51:40.271Z"
   },
   {
    "duration": 10,
    "start_time": "2022-02-06T21:51:40.545Z"
   },
   {
    "duration": 20,
    "start_time": "2022-02-06T21:51:40.558Z"
   },
   {
    "duration": 6,
    "start_time": "2022-02-06T21:51:40.580Z"
   },
   {
    "duration": 7,
    "start_time": "2022-02-06T21:51:40.587Z"
   },
   {
    "duration": 7,
    "start_time": "2022-02-06T21:51:40.595Z"
   },
   {
    "duration": 242,
    "start_time": "2022-02-06T21:51:40.604Z"
   },
   {
    "duration": 4,
    "start_time": "2022-02-06T21:51:40.848Z"
   },
   {
    "duration": 19,
    "start_time": "2022-02-06T21:51:40.853Z"
   },
   {
    "duration": 6,
    "start_time": "2022-02-06T21:51:40.874Z"
   },
   {
    "duration": 6,
    "start_time": "2022-02-06T21:51:40.882Z"
   },
   {
    "duration": 4,
    "start_time": "2022-02-06T21:51:40.889Z"
   },
   {
    "duration": 6,
    "start_time": "2022-02-06T21:51:40.894Z"
   },
   {
    "duration": 16,
    "start_time": "2022-02-06T21:51:40.902Z"
   },
   {
    "duration": 3,
    "start_time": "2022-02-06T21:51:40.919Z"
   },
   {
    "duration": 1525,
    "start_time": "2022-02-06T21:51:40.924Z"
   },
   {
    "duration": 30,
    "start_time": "2022-02-06T21:51:42.450Z"
   },
   {
    "duration": 5,
    "start_time": "2022-02-06T21:51:42.483Z"
   },
   {
    "duration": 169,
    "start_time": "2022-02-06T21:51:42.490Z"
   },
   {
    "duration": 684,
    "start_time": "2022-02-06T21:51:42.660Z"
   },
   {
    "duration": 6,
    "start_time": "2022-02-06T21:51:43.346Z"
   },
   {
    "duration": 4,
    "start_time": "2022-02-06T21:51:43.353Z"
   },
   {
    "duration": 177,
    "start_time": "2022-02-06T21:51:43.358Z"
   },
   {
    "duration": 362,
    "start_time": "2022-02-06T21:51:43.536Z"
   },
   {
    "duration": 379,
    "start_time": "2022-02-06T21:51:43.900Z"
   },
   {
    "duration": 163,
    "start_time": "2022-02-06T21:51:44.280Z"
   },
   {
    "duration": 6,
    "start_time": "2022-02-06T21:51:44.445Z"
   },
   {
    "duration": 6,
    "start_time": "2022-02-06T21:51:44.452Z"
   },
   {
    "duration": 5,
    "start_time": "2022-02-06T21:51:44.471Z"
   },
   {
    "duration": 4,
    "start_time": "2022-02-06T21:51:44.478Z"
   },
   {
    "duration": 21,
    "start_time": "2022-02-06T21:51:44.484Z"
   },
   {
    "duration": 1584,
    "start_time": "2022-02-06T21:51:44.506Z"
   },
   {
    "duration": 6,
    "start_time": "2022-02-06T21:51:46.092Z"
   },
   {
    "duration": 5,
    "start_time": "2022-02-06T21:51:46.100Z"
   },
   {
    "duration": 7,
    "start_time": "2022-02-06T21:51:46.106Z"
   },
   {
    "duration": 8,
    "start_time": "2022-02-06T21:51:46.114Z"
   },
   {
    "duration": 18,
    "start_time": "2022-02-06T21:51:46.123Z"
   },
   {
    "duration": 33,
    "start_time": "2022-02-06T21:51:46.142Z"
   },
   {
    "duration": 8,
    "start_time": "2022-02-06T21:51:46.177Z"
   },
   {
    "duration": 12,
    "start_time": "2022-02-06T21:51:46.187Z"
   },
   {
    "duration": 25,
    "start_time": "2022-02-06T21:51:46.200Z"
   },
   {
    "duration": 8,
    "start_time": "2022-02-06T21:51:46.227Z"
   },
   {
    "duration": 36,
    "start_time": "2022-02-06T21:51:46.236Z"
   },
   {
    "duration": 3,
    "start_time": "2022-02-06T21:51:46.274Z"
   },
   {
    "duration": 11,
    "start_time": "2022-02-06T21:51:46.279Z"
   },
   {
    "duration": 11,
    "start_time": "2022-02-06T21:51:46.291Z"
   },
   {
    "duration": 6,
    "start_time": "2022-02-06T21:51:51.592Z"
   },
   {
    "duration": 6,
    "start_time": "2022-02-06T21:59:00.151Z"
   },
   {
    "duration": 31,
    "start_time": "2022-02-06T21:59:08.738Z"
   },
   {
    "duration": 11,
    "start_time": "2022-02-06T22:00:01.075Z"
   },
   {
    "duration": 56,
    "start_time": "2022-02-06T22:01:11.787Z"
   },
   {
    "duration": 9,
    "start_time": "2022-02-06T22:01:11.844Z"
   },
   {
    "duration": 28,
    "start_time": "2022-02-06T22:01:11.855Z"
   },
   {
    "duration": 12,
    "start_time": "2022-02-06T22:01:11.885Z"
   },
   {
    "duration": 223,
    "start_time": "2022-02-06T22:01:11.899Z"
   },
   {
    "duration": 197,
    "start_time": "2022-02-06T22:01:12.124Z"
   },
   {
    "duration": 11,
    "start_time": "2022-02-06T22:01:12.323Z"
   },
   {
    "duration": 13,
    "start_time": "2022-02-06T22:01:12.337Z"
   },
   {
    "duration": 20,
    "start_time": "2022-02-06T22:01:12.353Z"
   },
   {
    "duration": 23,
    "start_time": "2022-02-06T22:01:12.375Z"
   },
   {
    "duration": 19,
    "start_time": "2022-02-06T22:01:12.400Z"
   },
   {
    "duration": 253,
    "start_time": "2022-02-06T22:01:12.421Z"
   },
   {
    "duration": 4,
    "start_time": "2022-02-06T22:01:12.677Z"
   },
   {
    "duration": 30,
    "start_time": "2022-02-06T22:01:12.683Z"
   },
   {
    "duration": 19,
    "start_time": "2022-02-06T22:01:12.714Z"
   },
   {
    "duration": 18,
    "start_time": "2022-02-06T22:01:12.735Z"
   },
   {
    "duration": 17,
    "start_time": "2022-02-06T22:01:12.755Z"
   },
   {
    "duration": 6,
    "start_time": "2022-02-06T22:01:12.773Z"
   },
   {
    "duration": 19,
    "start_time": "2022-02-06T22:01:12.781Z"
   },
   {
    "duration": 3,
    "start_time": "2022-02-06T22:01:12.802Z"
   },
   {
    "duration": 1535,
    "start_time": "2022-02-06T22:01:12.807Z"
   },
   {
    "duration": 36,
    "start_time": "2022-02-06T22:01:14.343Z"
   },
   {
    "duration": 8,
    "start_time": "2022-02-06T22:01:14.383Z"
   },
   {
    "duration": 289,
    "start_time": "2022-02-06T22:01:14.394Z"
   },
   {
    "duration": 990,
    "start_time": "2022-02-06T22:01:14.685Z"
   },
   {
    "duration": 7,
    "start_time": "2022-02-06T22:01:15.677Z"
   },
   {
    "duration": 5,
    "start_time": "2022-02-06T22:01:15.686Z"
   },
   {
    "duration": 282,
    "start_time": "2022-02-06T22:01:15.693Z"
   },
   {
    "duration": 494,
    "start_time": "2022-02-06T22:01:15.977Z"
   },
   {
    "duration": 566,
    "start_time": "2022-02-06T22:01:16.474Z"
   },
   {
    "duration": 177,
    "start_time": "2022-02-06T22:01:17.043Z"
   },
   {
    "duration": 7,
    "start_time": "2022-02-06T22:01:17.222Z"
   },
   {
    "duration": 5,
    "start_time": "2022-02-06T22:01:17.230Z"
   },
   {
    "duration": 5,
    "start_time": "2022-02-06T22:01:17.237Z"
   },
   {
    "duration": 29,
    "start_time": "2022-02-06T22:01:17.243Z"
   },
   {
    "duration": 18,
    "start_time": "2022-02-06T22:01:17.273Z"
   },
   {
    "duration": 1583,
    "start_time": "2022-02-06T22:01:17.292Z"
   },
   {
    "duration": 7,
    "start_time": "2022-02-06T22:01:18.876Z"
   },
   {
    "duration": 7,
    "start_time": "2022-02-06T22:01:18.885Z"
   },
   {
    "duration": 8,
    "start_time": "2022-02-06T22:01:18.894Z"
   },
   {
    "duration": 9,
    "start_time": "2022-02-06T22:01:18.904Z"
   },
   {
    "duration": 57,
    "start_time": "2022-02-06T22:01:18.915Z"
   },
   {
    "duration": 9,
    "start_time": "2022-02-06T22:01:18.974Z"
   },
   {
    "duration": 10,
    "start_time": "2022-02-06T22:01:18.985Z"
   },
   {
    "duration": 17,
    "start_time": "2022-02-06T22:01:18.996Z"
   },
   {
    "duration": 67,
    "start_time": "2022-02-06T22:01:19.015Z"
   },
   {
    "duration": 7,
    "start_time": "2022-02-06T22:01:19.084Z"
   },
   {
    "duration": 4,
    "start_time": "2022-02-06T22:01:19.093Z"
   },
   {
    "duration": 4,
    "start_time": "2022-02-06T22:01:19.099Z"
   },
   {
    "duration": 12,
    "start_time": "2022-02-06T22:01:19.105Z"
   },
   {
    "duration": 11,
    "start_time": "2022-02-06T22:01:19.118Z"
   },
   {
    "duration": 4,
    "start_time": "2022-02-06T22:01:19.131Z"
   },
   {
    "duration": 45,
    "start_time": "2022-02-06T22:01:19.136Z"
   },
   {
    "duration": 11,
    "start_time": "2022-02-06T22:01:28.519Z"
   },
   {
    "duration": 4,
    "start_time": "2022-02-06T22:02:58.900Z"
   },
   {
    "duration": 7,
    "start_time": "2022-02-06T22:05:45.645Z"
   },
   {
    "duration": 5,
    "start_time": "2022-02-06T22:06:00.100Z"
   },
   {
    "duration": 68,
    "start_time": "2022-02-06T22:06:34.849Z"
   },
   {
    "duration": 56,
    "start_time": "2022-02-06T22:06:49.089Z"
   },
   {
    "duration": 50,
    "start_time": "2022-02-06T22:17:01.798Z"
   },
   {
    "duration": 11,
    "start_time": "2022-02-06T22:17:01.850Z"
   },
   {
    "duration": 10,
    "start_time": "2022-02-06T22:17:01.863Z"
   },
   {
    "duration": 10,
    "start_time": "2022-02-06T22:17:01.875Z"
   },
   {
    "duration": 5,
    "start_time": "2022-02-06T22:17:01.887Z"
   },
   {
    "duration": 187,
    "start_time": "2022-02-06T22:17:01.893Z"
   },
   {
    "duration": 175,
    "start_time": "2022-02-06T22:17:02.082Z"
   },
   {
    "duration": 17,
    "start_time": "2022-02-06T22:17:02.259Z"
   },
   {
    "duration": 8,
    "start_time": "2022-02-06T22:17:02.277Z"
   },
   {
    "duration": 6,
    "start_time": "2022-02-06T22:17:02.286Z"
   },
   {
    "duration": 12,
    "start_time": "2022-02-06T22:17:02.293Z"
   },
   {
    "duration": 6,
    "start_time": "2022-02-06T22:17:02.306Z"
   },
   {
    "duration": 240,
    "start_time": "2022-02-06T22:17:02.313Z"
   },
   {
    "duration": 4,
    "start_time": "2022-02-06T22:17:02.554Z"
   },
   {
    "duration": 16,
    "start_time": "2022-02-06T22:17:02.559Z"
   },
   {
    "duration": 6,
    "start_time": "2022-02-06T22:17:02.577Z"
   },
   {
    "duration": 5,
    "start_time": "2022-02-06T22:17:02.584Z"
   },
   {
    "duration": 4,
    "start_time": "2022-02-06T22:17:11.617Z"
   },
   {
    "duration": 6,
    "start_time": "2022-02-06T22:17:52.678Z"
   },
   {
    "duration": 4,
    "start_time": "2022-02-06T22:18:08.219Z"
   },
   {
    "duration": 6,
    "start_time": "2022-02-06T22:18:12.430Z"
   },
   {
    "duration": 50,
    "start_time": "2022-02-06T22:18:56.476Z"
   },
   {
    "duration": 14,
    "start_time": "2022-02-06T22:18:56.528Z"
   },
   {
    "duration": 11,
    "start_time": "2022-02-06T22:18:56.544Z"
   },
   {
    "duration": 15,
    "start_time": "2022-02-06T22:18:56.557Z"
   },
   {
    "duration": 7,
    "start_time": "2022-02-06T22:18:56.574Z"
   },
   {
    "duration": 222,
    "start_time": "2022-02-06T22:18:56.583Z"
   },
   {
    "duration": 180,
    "start_time": "2022-02-06T22:18:56.806Z"
   },
   {
    "duration": 10,
    "start_time": "2022-02-06T22:18:56.988Z"
   },
   {
    "duration": 8,
    "start_time": "2022-02-06T22:18:57.000Z"
   },
   {
    "duration": 6,
    "start_time": "2022-02-06T22:18:57.009Z"
   },
   {
    "duration": 7,
    "start_time": "2022-02-06T22:18:57.016Z"
   },
   {
    "duration": 6,
    "start_time": "2022-02-06T22:18:57.024Z"
   },
   {
    "duration": 255,
    "start_time": "2022-02-06T22:18:57.031Z"
   },
   {
    "duration": 3,
    "start_time": "2022-02-06T22:18:57.288Z"
   },
   {
    "duration": 7,
    "start_time": "2022-02-06T22:18:57.293Z"
   },
   {
    "duration": 6,
    "start_time": "2022-02-06T22:18:57.302Z"
   },
   {
    "duration": 6,
    "start_time": "2022-02-06T22:18:57.309Z"
   },
   {
    "duration": 6,
    "start_time": "2022-02-06T22:18:57.316Z"
   },
   {
    "duration": 4,
    "start_time": "2022-02-06T22:19:04.270Z"
   },
   {
    "duration": 5,
    "start_time": "2022-02-06T22:19:05.866Z"
   },
   {
    "duration": 4,
    "start_time": "2022-02-06T22:19:15.790Z"
   },
   {
    "duration": 5,
    "start_time": "2022-02-06T22:19:18.996Z"
   },
   {
    "duration": 50,
    "start_time": "2022-02-06T22:27:21.781Z"
   },
   {
    "duration": 12,
    "start_time": "2022-02-06T22:27:21.832Z"
   },
   {
    "duration": 26,
    "start_time": "2022-02-06T22:27:21.846Z"
   },
   {
    "duration": 21,
    "start_time": "2022-02-06T22:27:21.874Z"
   },
   {
    "duration": 5,
    "start_time": "2022-02-06T22:27:21.897Z"
   },
   {
    "duration": 203,
    "start_time": "2022-02-06T22:27:21.903Z"
   },
   {
    "duration": 188,
    "start_time": "2022-02-06T22:27:22.107Z"
   },
   {
    "duration": 9,
    "start_time": "2022-02-06T22:27:22.297Z"
   },
   {
    "duration": 9,
    "start_time": "2022-02-06T22:27:22.308Z"
   },
   {
    "duration": 6,
    "start_time": "2022-02-06T22:27:22.318Z"
   },
   {
    "duration": 11,
    "start_time": "2022-02-06T22:27:22.325Z"
   },
   {
    "duration": 8,
    "start_time": "2022-02-06T22:27:22.337Z"
   },
   {
    "duration": 401,
    "start_time": "2022-02-06T22:27:22.371Z"
   },
   {
    "duration": 4,
    "start_time": "2022-02-06T22:27:22.774Z"
   },
   {
    "duration": 10,
    "start_time": "2022-02-06T22:27:22.780Z"
   },
   {
    "duration": 7,
    "start_time": "2022-02-06T22:27:22.792Z"
   },
   {
    "duration": 9,
    "start_time": "2022-02-06T22:27:22.800Z"
   },
   {
    "duration": 4,
    "start_time": "2022-02-06T22:27:22.810Z"
   },
   {
    "duration": 7,
    "start_time": "2022-02-06T22:27:22.815Z"
   },
   {
    "duration": 316,
    "start_time": "2022-02-06T22:27:39.648Z"
   },
   {
    "duration": 316,
    "start_time": "2022-02-06T22:28:10.292Z"
   },
   {
    "duration": 298,
    "start_time": "2022-02-06T22:28:54.091Z"
   },
   {
    "duration": 322,
    "start_time": "2022-02-06T22:29:35.519Z"
   },
   {
    "duration": 318,
    "start_time": "2022-02-06T22:29:43.051Z"
   },
   {
    "duration": 4,
    "start_time": "2022-02-06T22:29:52.029Z"
   },
   {
    "duration": 6,
    "start_time": "2022-02-06T22:29:56.730Z"
   },
   {
    "duration": 50,
    "start_time": "2022-02-06T22:30:19.593Z"
   },
   {
    "duration": 11,
    "start_time": "2022-02-06T22:30:19.645Z"
   },
   {
    "duration": 11,
    "start_time": "2022-02-06T22:30:19.658Z"
   },
   {
    "duration": 8,
    "start_time": "2022-02-06T22:30:19.671Z"
   },
   {
    "duration": 7,
    "start_time": "2022-02-06T22:30:19.681Z"
   },
   {
    "duration": 201,
    "start_time": "2022-02-06T22:30:19.689Z"
   },
   {
    "duration": 184,
    "start_time": "2022-02-06T22:30:19.892Z"
   },
   {
    "duration": 9,
    "start_time": "2022-02-06T22:30:20.078Z"
   },
   {
    "duration": 8,
    "start_time": "2022-02-06T22:30:20.089Z"
   },
   {
    "duration": 6,
    "start_time": "2022-02-06T22:30:20.098Z"
   },
   {
    "duration": 7,
    "start_time": "2022-02-06T22:30:20.106Z"
   },
   {
    "duration": 7,
    "start_time": "2022-02-06T22:30:20.114Z"
   },
   {
    "duration": 267,
    "start_time": "2022-02-06T22:30:20.122Z"
   },
   {
    "duration": 4,
    "start_time": "2022-02-06T22:30:20.391Z"
   },
   {
    "duration": 8,
    "start_time": "2022-02-06T22:30:20.396Z"
   },
   {
    "duration": 7,
    "start_time": "2022-02-06T22:30:20.405Z"
   },
   {
    "duration": 9,
    "start_time": "2022-02-06T22:30:20.413Z"
   },
   {
    "duration": 8,
    "start_time": "2022-02-06T22:30:20.423Z"
   },
   {
    "duration": 15,
    "start_time": "2022-02-06T22:30:20.432Z"
   },
   {
    "duration": 312,
    "start_time": "2022-02-06T22:30:23.395Z"
   },
   {
    "duration": 5,
    "start_time": "2022-02-06T22:36:08.852Z"
   },
   {
    "duration": 5,
    "start_time": "2022-02-06T22:36:13.632Z"
   },
   {
    "duration": 8,
    "start_time": "2022-02-06T22:39:06.691Z"
   },
   {
    "duration": 6,
    "start_time": "2022-02-06T22:39:20.187Z"
   },
   {
    "duration": 50,
    "start_time": "2022-02-06T22:48:16.346Z"
   },
   {
    "duration": 11,
    "start_time": "2022-02-06T22:48:16.397Z"
   },
   {
    "duration": 9,
    "start_time": "2022-02-06T22:48:16.410Z"
   },
   {
    "duration": 8,
    "start_time": "2022-02-06T22:48:16.420Z"
   },
   {
    "duration": 5,
    "start_time": "2022-02-06T22:48:16.429Z"
   },
   {
    "duration": 218,
    "start_time": "2022-02-06T22:48:16.436Z"
   },
   {
    "duration": 190,
    "start_time": "2022-02-06T22:48:16.655Z"
   },
   {
    "duration": 9,
    "start_time": "2022-02-06T22:48:16.848Z"
   },
   {
    "duration": 20,
    "start_time": "2022-02-06T22:48:16.859Z"
   },
   {
    "duration": 7,
    "start_time": "2022-02-06T22:48:16.881Z"
   },
   {
    "duration": 8,
    "start_time": "2022-02-06T22:48:16.890Z"
   },
   {
    "duration": 8,
    "start_time": "2022-02-06T22:48:16.899Z"
   },
   {
    "duration": 254,
    "start_time": "2022-02-06T22:48:16.909Z"
   },
   {
    "duration": 9,
    "start_time": "2022-02-06T22:48:17.164Z"
   },
   {
    "duration": 7,
    "start_time": "2022-02-06T22:48:17.175Z"
   },
   {
    "duration": 6,
    "start_time": "2022-02-06T22:48:17.183Z"
   },
   {
    "duration": 5,
    "start_time": "2022-02-06T22:48:17.191Z"
   },
   {
    "duration": 20,
    "start_time": "2022-02-06T22:48:17.197Z"
   },
   {
    "duration": 3,
    "start_time": "2022-02-06T22:48:17.219Z"
   },
   {
    "duration": 1555,
    "start_time": "2022-02-06T22:48:17.223Z"
   },
   {
    "duration": 22,
    "start_time": "2022-02-06T22:48:18.780Z"
   },
   {
    "duration": 5,
    "start_time": "2022-02-06T22:48:18.804Z"
   },
   {
    "duration": 188,
    "start_time": "2022-02-06T22:48:18.812Z"
   },
   {
    "duration": 599,
    "start_time": "2022-02-06T22:48:19.001Z"
   },
   {
    "duration": 5,
    "start_time": "2022-02-06T22:48:19.602Z"
   },
   {
    "duration": 3,
    "start_time": "2022-02-06T22:48:19.609Z"
   },
   {
    "duration": 181,
    "start_time": "2022-02-06T22:48:19.614Z"
   },
   {
    "duration": 336,
    "start_time": "2022-02-06T22:48:19.796Z"
   },
   {
    "duration": 413,
    "start_time": "2022-02-06T22:48:20.134Z"
   },
   {
    "duration": 164,
    "start_time": "2022-02-06T22:48:20.548Z"
   },
   {
    "duration": 5,
    "start_time": "2022-02-06T22:48:20.714Z"
   },
   {
    "duration": 7,
    "start_time": "2022-02-06T22:48:20.721Z"
   },
   {
    "duration": 8,
    "start_time": "2022-02-06T22:48:20.730Z"
   },
   {
    "duration": 5,
    "start_time": "2022-02-06T22:48:20.740Z"
   },
   {
    "duration": 34,
    "start_time": "2022-02-06T22:48:20.746Z"
   },
   {
    "duration": 1609,
    "start_time": "2022-02-06T22:48:20.782Z"
   },
   {
    "duration": 6,
    "start_time": "2022-02-06T22:48:22.393Z"
   },
   {
    "duration": 21,
    "start_time": "2022-02-06T22:48:22.400Z"
   },
   {
    "duration": 17,
    "start_time": "2022-02-06T22:48:22.422Z"
   },
   {
    "duration": 5,
    "start_time": "2022-02-06T22:48:22.440Z"
   },
   {
    "duration": 9,
    "start_time": "2022-02-06T22:48:22.446Z"
   },
   {
    "duration": 23,
    "start_time": "2022-02-06T22:48:22.457Z"
   },
   {
    "duration": 25,
    "start_time": "2022-02-06T22:48:22.481Z"
   },
   {
    "duration": 6,
    "start_time": "2022-02-06T22:48:22.507Z"
   },
   {
    "duration": 12,
    "start_time": "2022-02-06T22:48:22.515Z"
   },
   {
    "duration": 17,
    "start_time": "2022-02-06T22:48:22.529Z"
   },
   {
    "duration": 11,
    "start_time": "2022-02-06T22:48:22.547Z"
   },
   {
    "duration": 16,
    "start_time": "2022-02-06T22:48:22.559Z"
   },
   {
    "duration": 5,
    "start_time": "2022-02-06T22:48:22.576Z"
   },
   {
    "duration": 26,
    "start_time": "2022-02-06T22:48:22.582Z"
   },
   {
    "duration": 13,
    "start_time": "2022-02-06T23:00:15.063Z"
   },
   {
    "duration": 18,
    "start_time": "2022-02-06T23:00:17.464Z"
   },
   {
    "duration": 8,
    "start_time": "2022-02-06T23:00:21.936Z"
   },
   {
    "duration": 9,
    "start_time": "2022-02-06T23:00:44.332Z"
   },
   {
    "duration": 48,
    "start_time": "2022-02-06T23:05:17.091Z"
   },
   {
    "duration": 13,
    "start_time": "2022-02-06T23:05:17.141Z"
   },
   {
    "duration": 10,
    "start_time": "2022-02-06T23:05:17.157Z"
   },
   {
    "duration": 10,
    "start_time": "2022-02-06T23:05:17.169Z"
   },
   {
    "duration": 5,
    "start_time": "2022-02-06T23:05:17.181Z"
   },
   {
    "duration": 201,
    "start_time": "2022-02-06T23:05:17.187Z"
   },
   {
    "duration": 176,
    "start_time": "2022-02-06T23:05:17.390Z"
   },
   {
    "duration": 9,
    "start_time": "2022-02-06T23:05:17.568Z"
   },
   {
    "duration": 8,
    "start_time": "2022-02-06T23:05:17.579Z"
   },
   {
    "duration": 6,
    "start_time": "2022-02-06T23:05:17.588Z"
   },
   {
    "duration": 7,
    "start_time": "2022-02-06T23:05:17.595Z"
   },
   {
    "duration": 5,
    "start_time": "2022-02-06T23:05:17.603Z"
   },
   {
    "duration": 259,
    "start_time": "2022-02-06T23:05:17.609Z"
   },
   {
    "duration": 4,
    "start_time": "2022-02-06T23:05:17.871Z"
   },
   {
    "duration": 8,
    "start_time": "2022-02-06T23:05:17.876Z"
   },
   {
    "duration": 6,
    "start_time": "2022-02-06T23:05:17.885Z"
   },
   {
    "duration": 5,
    "start_time": "2022-02-06T23:05:17.892Z"
   },
   {
    "duration": 17,
    "start_time": "2022-02-06T23:05:17.899Z"
   },
   {
    "duration": 4,
    "start_time": "2022-02-06T23:05:17.917Z"
   },
   {
    "duration": 1795,
    "start_time": "2022-02-06T23:05:17.922Z"
   },
   {
    "duration": 22,
    "start_time": "2022-02-06T23:05:19.719Z"
   },
   {
    "duration": 5,
    "start_time": "2022-02-06T23:05:19.743Z"
   },
   {
    "duration": 192,
    "start_time": "2022-02-06T23:05:19.751Z"
   },
   {
    "duration": 640,
    "start_time": "2022-02-06T23:05:19.945Z"
   },
   {
    "duration": 6,
    "start_time": "2022-02-06T23:05:20.586Z"
   },
   {
    "duration": 12,
    "start_time": "2022-02-06T23:05:20.593Z"
   },
   {
    "duration": 164,
    "start_time": "2022-02-06T23:05:20.607Z"
   },
   {
    "duration": 357,
    "start_time": "2022-02-06T23:05:20.773Z"
   },
   {
    "duration": 399,
    "start_time": "2022-02-06T23:05:21.131Z"
   },
   {
    "duration": 166,
    "start_time": "2022-02-06T23:05:21.532Z"
   },
   {
    "duration": 6,
    "start_time": "2022-02-06T23:05:21.699Z"
   },
   {
    "duration": 7,
    "start_time": "2022-02-06T23:05:21.707Z"
   },
   {
    "duration": 6,
    "start_time": "2022-02-06T23:05:21.716Z"
   },
   {
    "duration": 5,
    "start_time": "2022-02-06T23:05:21.723Z"
   },
   {
    "duration": 43,
    "start_time": "2022-02-06T23:05:21.730Z"
   },
   {
    "duration": 1650,
    "start_time": "2022-02-06T23:05:21.774Z"
   },
   {
    "duration": 8,
    "start_time": "2022-02-06T23:05:23.426Z"
   },
   {
    "duration": 9,
    "start_time": "2022-02-06T23:05:23.435Z"
   },
   {
    "duration": 42,
    "start_time": "2022-02-06T23:05:23.446Z"
   },
   {
    "duration": 5,
    "start_time": "2022-02-06T23:05:23.490Z"
   },
   {
    "duration": 8,
    "start_time": "2022-02-06T23:05:23.497Z"
   },
   {
    "duration": 12,
    "start_time": "2022-02-06T23:05:23.506Z"
   },
   {
    "duration": 59,
    "start_time": "2022-02-06T23:05:23.519Z"
   },
   {
    "duration": 8,
    "start_time": "2022-02-06T23:05:23.579Z"
   },
   {
    "duration": 2,
    "start_time": "2022-02-06T23:05:23.589Z"
   },
   {
    "duration": 3,
    "start_time": "2022-02-06T23:05:23.593Z"
   },
   {
    "duration": 10,
    "start_time": "2022-02-06T23:05:23.597Z"
   },
   {
    "duration": 10,
    "start_time": "2022-02-06T23:05:23.608Z"
   },
   {
    "duration": 4,
    "start_time": "2022-02-06T23:05:23.620Z"
   },
   {
    "duration": 50,
    "start_time": "2022-02-06T23:05:23.626Z"
   },
   {
    "duration": 11,
    "start_time": "2022-02-06T23:05:23.678Z"
   },
   {
    "duration": 17,
    "start_time": "2022-02-06T23:05:35.097Z"
   },
   {
    "duration": 18,
    "start_time": "2022-02-06T23:05:38.509Z"
   },
   {
    "duration": 9,
    "start_time": "2022-02-06T23:05:40.093Z"
   },
   {
    "duration": 7,
    "start_time": "2022-02-06T23:05:42.219Z"
   },
   {
    "duration": 23,
    "start_time": "2022-02-06T23:06:55.207Z"
   },
   {
    "duration": 48,
    "start_time": "2022-02-06T23:10:00.720Z"
   },
   {
    "duration": 11,
    "start_time": "2022-02-06T23:10:00.770Z"
   },
   {
    "duration": 18,
    "start_time": "2022-02-06T23:10:00.783Z"
   },
   {
    "duration": 13,
    "start_time": "2022-02-06T23:10:00.803Z"
   },
   {
    "duration": 18,
    "start_time": "2022-02-06T23:10:00.818Z"
   },
   {
    "duration": 206,
    "start_time": "2022-02-06T23:10:00.837Z"
   },
   {
    "duration": 202,
    "start_time": "2022-02-06T23:10:01.046Z"
   },
   {
    "duration": 10,
    "start_time": "2022-02-06T23:10:01.250Z"
   },
   {
    "duration": 20,
    "start_time": "2022-02-06T23:10:01.262Z"
   },
   {
    "duration": 58,
    "start_time": "2022-02-06T23:10:01.283Z"
   },
   {
    "duration": 22,
    "start_time": "2022-02-06T23:10:01.343Z"
   },
   {
    "duration": 11,
    "start_time": "2022-02-06T23:10:01.366Z"
   },
   {
    "duration": 253,
    "start_time": "2022-02-06T23:10:01.379Z"
   },
   {
    "duration": 4,
    "start_time": "2022-02-06T23:10:01.633Z"
   },
   {
    "duration": 13,
    "start_time": "2022-02-06T23:10:01.639Z"
   },
   {
    "duration": 18,
    "start_time": "2022-02-06T23:10:01.654Z"
   },
   {
    "duration": 7,
    "start_time": "2022-02-06T23:10:01.673Z"
   },
   {
    "duration": 26,
    "start_time": "2022-02-06T23:10:01.681Z"
   },
   {
    "duration": 3,
    "start_time": "2022-02-06T23:10:01.708Z"
   },
   {
    "duration": 1418,
    "start_time": "2022-02-06T23:10:01.713Z"
   },
   {
    "duration": 24,
    "start_time": "2022-02-06T23:10:03.133Z"
   },
   {
    "duration": 17,
    "start_time": "2022-02-06T23:10:03.159Z"
   },
   {
    "duration": 179,
    "start_time": "2022-02-06T23:10:03.180Z"
   },
   {
    "duration": 664,
    "start_time": "2022-02-06T23:10:03.361Z"
   },
   {
    "duration": 5,
    "start_time": "2022-02-06T23:10:04.027Z"
   },
   {
    "duration": 25,
    "start_time": "2022-02-06T23:10:04.034Z"
   },
   {
    "duration": 179,
    "start_time": "2022-02-06T23:10:04.060Z"
   },
   {
    "duration": 371,
    "start_time": "2022-02-06T23:10:04.241Z"
   },
   {
    "duration": 406,
    "start_time": "2022-02-06T23:10:04.614Z"
   },
   {
    "duration": 170,
    "start_time": "2022-02-06T23:10:05.022Z"
   },
   {
    "duration": 6,
    "start_time": "2022-02-06T23:10:05.193Z"
   },
   {
    "duration": 14,
    "start_time": "2022-02-06T23:10:05.201Z"
   },
   {
    "duration": 6,
    "start_time": "2022-02-06T23:10:05.216Z"
   },
   {
    "duration": 5,
    "start_time": "2022-02-06T23:10:05.223Z"
   },
   {
    "duration": 21,
    "start_time": "2022-02-06T23:10:05.229Z"
   },
   {
    "duration": 1449,
    "start_time": "2022-02-06T23:10:05.251Z"
   },
   {
    "duration": 7,
    "start_time": "2022-02-06T23:10:06.701Z"
   },
   {
    "duration": 9,
    "start_time": "2022-02-06T23:10:06.709Z"
   },
   {
    "duration": 17,
    "start_time": "2022-02-06T23:10:06.720Z"
   },
   {
    "duration": 5,
    "start_time": "2022-02-06T23:10:06.739Z"
   },
   {
    "duration": 28,
    "start_time": "2022-02-06T23:10:06.745Z"
   },
   {
    "duration": 11,
    "start_time": "2022-02-06T23:10:06.774Z"
   },
   {
    "duration": 24,
    "start_time": "2022-02-06T23:10:06.786Z"
   },
   {
    "duration": 7,
    "start_time": "2022-02-06T23:10:06.811Z"
   },
   {
    "duration": 5,
    "start_time": "2022-02-06T23:10:06.819Z"
   },
   {
    "duration": 17,
    "start_time": "2022-02-06T23:10:06.825Z"
   },
   {
    "duration": 27,
    "start_time": "2022-02-06T23:10:06.844Z"
   },
   {
    "duration": 12,
    "start_time": "2022-02-06T23:10:06.873Z"
   },
   {
    "duration": 10,
    "start_time": "2022-02-06T23:10:06.886Z"
   },
   {
    "duration": 28,
    "start_time": "2022-02-06T23:10:06.898Z"
   },
   {
    "duration": 10,
    "start_time": "2022-02-06T23:10:06.927Z"
   },
   {
    "duration": 12,
    "start_time": "2022-02-06T23:10:11.330Z"
   },
   {
    "duration": 17,
    "start_time": "2022-02-06T23:10:12.449Z"
   },
   {
    "duration": 8,
    "start_time": "2022-02-06T23:10:13.490Z"
   },
   {
    "duration": 7,
    "start_time": "2022-02-06T23:10:14.151Z"
   },
   {
    "duration": 9,
    "start_time": "2022-02-06T23:11:51.422Z"
   },
   {
    "duration": 6,
    "start_time": "2022-02-06T23:11:58.579Z"
   },
   {
    "duration": 8,
    "start_time": "2022-02-06T23:12:00.273Z"
   },
   {
    "duration": 325,
    "start_time": "2022-02-06T23:14:18.830Z"
   },
   {
    "duration": 11,
    "start_time": "2022-02-06T23:14:40.274Z"
   },
   {
    "duration": 13,
    "start_time": "2022-02-06T23:16:17.625Z"
   },
   {
    "duration": 12,
    "start_time": "2022-02-06T23:16:29.788Z"
   },
   {
    "duration": 314,
    "start_time": "2022-02-06T23:18:37.684Z"
   },
   {
    "duration": 12,
    "start_time": "2022-02-06T23:19:12.965Z"
   },
   {
    "duration": 11,
    "start_time": "2022-02-06T23:19:35.099Z"
   },
   {
    "duration": 10,
    "start_time": "2022-02-06T23:20:48.985Z"
   },
   {
    "duration": 22,
    "start_time": "2022-02-06T23:21:25.398Z"
   },
   {
    "duration": 10,
    "start_time": "2022-02-06T23:29:00.999Z"
   },
   {
    "duration": 6,
    "start_time": "2022-02-06T23:44:51.687Z"
   },
   {
    "duration": 7,
    "start_time": "2022-02-06T23:45:06.880Z"
   },
   {
    "duration": 4,
    "start_time": "2022-02-06T23:45:24.014Z"
   },
   {
    "duration": 10,
    "start_time": "2022-02-06T23:45:32.922Z"
   },
   {
    "duration": 5,
    "start_time": "2022-02-06T23:45:41.444Z"
   },
   {
    "duration": 7,
    "start_time": "2022-02-06T23:51:33.553Z"
   },
   {
    "duration": 7,
    "start_time": "2022-02-06T23:54:30.246Z"
   },
   {
    "duration": 7,
    "start_time": "2022-02-06T23:54:42.573Z"
   },
   {
    "duration": 6,
    "start_time": "2022-02-06T23:54:51.500Z"
   },
   {
    "duration": 10,
    "start_time": "2022-02-06T23:57:26.740Z"
   },
   {
    "duration": 5,
    "start_time": "2022-02-07T00:02:55.812Z"
   },
   {
    "duration": 317,
    "start_time": "2022-02-07T00:03:13.979Z"
   },
   {
    "duration": 332,
    "start_time": "2022-02-07T00:07:12.885Z"
   },
   {
    "duration": 10,
    "start_time": "2022-02-07T00:08:08.717Z"
   },
   {
    "duration": 12,
    "start_time": "2022-02-07T00:08:21.189Z"
   },
   {
    "duration": 11,
    "start_time": "2022-02-07T00:09:32.432Z"
   },
   {
    "duration": 10,
    "start_time": "2022-02-07T00:09:48.378Z"
   },
   {
    "duration": 11,
    "start_time": "2022-02-07T00:10:28.616Z"
   },
   {
    "duration": 8,
    "start_time": "2022-02-07T00:11:54.191Z"
   },
   {
    "duration": 6,
    "start_time": "2022-02-07T00:12:03.535Z"
   },
   {
    "duration": 8,
    "start_time": "2022-02-07T00:13:13.146Z"
   },
   {
    "duration": 7,
    "start_time": "2022-02-07T00:13:23.824Z"
   },
   {
    "duration": 4,
    "start_time": "2022-02-07T00:16:44.748Z"
   },
   {
    "duration": 18,
    "start_time": "2022-02-07T00:16:50.860Z"
   },
   {
    "duration": 10,
    "start_time": "2022-02-07T00:22:48.730Z"
   },
   {
    "duration": 8,
    "start_time": "2022-02-07T00:23:17.089Z"
   },
   {
    "duration": 11,
    "start_time": "2022-02-07T00:24:35.725Z"
   },
   {
    "duration": 9,
    "start_time": "2022-02-07T00:26:21.852Z"
   },
   {
    "duration": 8,
    "start_time": "2022-02-07T00:26:27.286Z"
   },
   {
    "duration": 9,
    "start_time": "2022-02-07T00:26:41.097Z"
   },
   {
    "duration": 7,
    "start_time": "2022-02-07T00:27:04.126Z"
   },
   {
    "duration": 5,
    "start_time": "2022-02-07T00:28:00.682Z"
   },
   {
    "duration": 9,
    "start_time": "2022-02-07T00:28:42.566Z"
   },
   {
    "duration": 6,
    "start_time": "2022-02-07T00:28:57.027Z"
   },
   {
    "duration": 8,
    "start_time": "2022-02-07T00:31:31.854Z"
   },
   {
    "duration": 8,
    "start_time": "2022-02-07T00:32:15.431Z"
   },
   {
    "duration": 9,
    "start_time": "2022-02-07T00:32:35.601Z"
   },
   {
    "duration": 7,
    "start_time": "2022-02-07T00:33:24.154Z"
   },
   {
    "duration": 4,
    "start_time": "2022-02-07T00:34:46.065Z"
   },
   {
    "duration": 5,
    "start_time": "2022-02-07T00:34:54.242Z"
   },
   {
    "duration": 6,
    "start_time": "2022-02-07T00:35:17.115Z"
   },
   {
    "duration": 5,
    "start_time": "2022-02-07T00:35:37.641Z"
   },
   {
    "duration": 376,
    "start_time": "2022-02-07T00:36:34.152Z"
   },
   {
    "duration": 6,
    "start_time": "2022-02-07T00:37:09.089Z"
   },
   {
    "duration": 306,
    "start_time": "2022-02-07T00:37:13.052Z"
   },
   {
    "duration": 7,
    "start_time": "2022-02-07T00:39:41.837Z"
   },
   {
    "duration": 6,
    "start_time": "2022-02-07T00:40:27.769Z"
   },
   {
    "duration": 8,
    "start_time": "2022-02-07T00:40:30.652Z"
   },
   {
    "duration": 318,
    "start_time": "2022-02-07T00:42:26.407Z"
   },
   {
    "duration": 4,
    "start_time": "2022-02-07T00:42:33.942Z"
   },
   {
    "duration": 3,
    "start_time": "2022-02-07T00:42:37.035Z"
   },
   {
    "duration": 6,
    "start_time": "2022-02-07T00:42:41.703Z"
   },
   {
    "duration": 6,
    "start_time": "2022-02-07T00:46:37.209Z"
   },
   {
    "duration": 6,
    "start_time": "2022-02-07T00:46:47.277Z"
   },
   {
    "duration": 7,
    "start_time": "2022-02-07T00:47:16.558Z"
   },
   {
    "duration": 323,
    "start_time": "2022-02-07T00:48:01.778Z"
   },
   {
    "duration": 4,
    "start_time": "2022-02-07T00:48:12.828Z"
   },
   {
    "duration": 6,
    "start_time": "2022-02-07T00:48:17.424Z"
   },
   {
    "duration": 3,
    "start_time": "2022-02-07T00:48:33.395Z"
   },
   {
    "duration": 5,
    "start_time": "2022-02-07T00:48:37.211Z"
   },
   {
    "duration": 6,
    "start_time": "2022-02-07T00:49:03.901Z"
   },
   {
    "duration": 6,
    "start_time": "2022-02-07T00:49:11.076Z"
   },
   {
    "duration": 5,
    "start_time": "2022-02-07T00:49:46.664Z"
   },
   {
    "duration": 5,
    "start_time": "2022-02-07T00:50:01.193Z"
   },
   {
    "duration": 4,
    "start_time": "2022-02-07T00:51:03.485Z"
   },
   {
    "duration": 6,
    "start_time": "2022-02-07T00:51:16.347Z"
   },
   {
    "duration": 7,
    "start_time": "2022-02-07T00:52:05.095Z"
   },
   {
    "duration": 320,
    "start_time": "2022-02-07T00:52:12.829Z"
   },
   {
    "duration": 12,
    "start_time": "2022-02-07T00:52:23.147Z"
   },
   {
    "duration": 4,
    "start_time": "2022-02-07T00:52:31.394Z"
   },
   {
    "duration": 4,
    "start_time": "2022-02-07T00:52:44.234Z"
   },
   {
    "duration": 7,
    "start_time": "2022-02-07T00:52:46.166Z"
   },
   {
    "duration": 5,
    "start_time": "2022-02-07T00:53:49.085Z"
   },
   {
    "duration": 9,
    "start_time": "2022-02-07T00:53:51.236Z"
   },
   {
    "duration": 4,
    "start_time": "2022-02-07T00:55:05.485Z"
   },
   {
    "duration": 6,
    "start_time": "2022-02-07T00:55:08.403Z"
   },
   {
    "duration": 5,
    "start_time": "2022-02-07T00:57:05.275Z"
   },
   {
    "duration": 7,
    "start_time": "2022-02-07T00:57:07.970Z"
   },
   {
    "duration": 5,
    "start_time": "2022-02-07T00:57:42.095Z"
   },
   {
    "duration": 6,
    "start_time": "2022-02-07T00:57:58.752Z"
   },
   {
    "duration": 5,
    "start_time": "2022-02-07T00:58:06.786Z"
   },
   {
    "duration": 46,
    "start_time": "2022-02-07T00:59:27.172Z"
   },
   {
    "duration": 11,
    "start_time": "2022-02-07T00:59:27.220Z"
   },
   {
    "duration": 10,
    "start_time": "2022-02-07T00:59:27.233Z"
   },
   {
    "duration": 8,
    "start_time": "2022-02-07T00:59:27.245Z"
   },
   {
    "duration": 5,
    "start_time": "2022-02-07T00:59:27.254Z"
   },
   {
    "duration": 187,
    "start_time": "2022-02-07T00:59:27.271Z"
   },
   {
    "duration": 192,
    "start_time": "2022-02-07T00:59:27.459Z"
   },
   {
    "duration": 22,
    "start_time": "2022-02-07T00:59:27.652Z"
   },
   {
    "duration": 9,
    "start_time": "2022-02-07T00:59:27.676Z"
   },
   {
    "duration": 6,
    "start_time": "2022-02-07T00:59:27.686Z"
   },
   {
    "duration": 7,
    "start_time": "2022-02-07T00:59:27.693Z"
   },
   {
    "duration": 5,
    "start_time": "2022-02-07T00:59:27.701Z"
   },
   {
    "duration": 269,
    "start_time": "2022-02-07T00:59:27.707Z"
   },
   {
    "duration": 4,
    "start_time": "2022-02-07T00:59:27.977Z"
   },
   {
    "duration": 15,
    "start_time": "2022-02-07T00:59:27.982Z"
   },
   {
    "duration": 13,
    "start_time": "2022-02-07T00:59:27.999Z"
   },
   {
    "duration": 15,
    "start_time": "2022-02-07T00:59:28.013Z"
   },
   {
    "duration": 31,
    "start_time": "2022-02-07T00:59:28.030Z"
   },
   {
    "duration": 6,
    "start_time": "2022-02-07T00:59:28.063Z"
   },
   {
    "duration": 1666,
    "start_time": "2022-02-07T00:59:28.071Z"
   },
   {
    "duration": 38,
    "start_time": "2022-02-07T00:59:29.739Z"
   },
   {
    "duration": 7,
    "start_time": "2022-02-07T00:59:29.779Z"
   },
   {
    "duration": 185,
    "start_time": "2022-02-07T00:59:29.788Z"
   },
   {
    "duration": 828,
    "start_time": "2022-02-07T00:59:29.975Z"
   },
   {
    "duration": 5,
    "start_time": "2022-02-07T00:59:30.805Z"
   },
   {
    "duration": 7,
    "start_time": "2022-02-07T00:59:30.812Z"
   },
   {
    "duration": 184,
    "start_time": "2022-02-07T00:59:30.823Z"
   },
   {
    "duration": 374,
    "start_time": "2022-02-07T00:59:31.010Z"
   },
   {
    "duration": 410,
    "start_time": "2022-02-07T00:59:31.386Z"
   },
   {
    "duration": 164,
    "start_time": "2022-02-07T00:59:31.798Z"
   },
   {
    "duration": 11,
    "start_time": "2022-02-07T00:59:31.964Z"
   },
   {
    "duration": 11,
    "start_time": "2022-02-07T00:59:31.977Z"
   },
   {
    "duration": 7,
    "start_time": "2022-02-07T00:59:31.989Z"
   },
   {
    "duration": 16,
    "start_time": "2022-02-07T00:59:31.998Z"
   },
   {
    "duration": 24,
    "start_time": "2022-02-07T00:59:32.016Z"
   },
   {
    "duration": 1404,
    "start_time": "2022-02-07T00:59:32.042Z"
   },
   {
    "duration": 7,
    "start_time": "2022-02-07T00:59:33.447Z"
   },
   {
    "duration": 21,
    "start_time": "2022-02-07T00:59:33.455Z"
   },
   {
    "duration": 20,
    "start_time": "2022-02-07T00:59:33.477Z"
   },
   {
    "duration": 6,
    "start_time": "2022-02-07T00:59:33.498Z"
   },
   {
    "duration": 7,
    "start_time": "2022-02-07T00:59:33.505Z"
   },
   {
    "duration": 11,
    "start_time": "2022-02-07T00:59:33.513Z"
   },
   {
    "duration": 57,
    "start_time": "2022-02-07T00:59:33.526Z"
   },
   {
    "duration": 7,
    "start_time": "2022-02-07T00:59:33.585Z"
   },
   {
    "duration": 2,
    "start_time": "2022-02-07T00:59:33.593Z"
   },
   {
    "duration": 3,
    "start_time": "2022-02-07T00:59:33.597Z"
   },
   {
    "duration": 10,
    "start_time": "2022-02-07T00:59:33.601Z"
   },
   {
    "duration": 11,
    "start_time": "2022-02-07T00:59:33.612Z"
   },
   {
    "duration": 4,
    "start_time": "2022-02-07T00:59:33.624Z"
   },
   {
    "duration": 24,
    "start_time": "2022-02-07T00:59:33.629Z"
   },
   {
    "duration": 26,
    "start_time": "2022-02-07T00:59:33.654Z"
   },
   {
    "duration": 15,
    "start_time": "2022-02-07T00:59:33.681Z"
   },
   {
    "duration": 16,
    "start_time": "2022-02-07T00:59:33.697Z"
   },
   {
    "duration": 9,
    "start_time": "2022-02-07T00:59:33.714Z"
   },
   {
    "duration": 9,
    "start_time": "2022-02-07T00:59:33.724Z"
   },
   {
    "duration": 52,
    "start_time": "2022-02-07T00:59:33.735Z"
   },
   {
    "duration": 10,
    "start_time": "2022-02-07T00:59:33.788Z"
   },
   {
    "duration": 11,
    "start_time": "2022-02-07T00:59:33.800Z"
   },
   {
    "duration": 9,
    "start_time": "2022-02-07T00:59:33.813Z"
   },
   {
    "duration": 22,
    "start_time": "2022-02-07T00:59:33.823Z"
   },
   {
    "duration": 30,
    "start_time": "2022-02-07T00:59:33.847Z"
   },
   {
    "duration": 3,
    "start_time": "2022-02-07T00:59:33.879Z"
   },
   {
    "duration": 10,
    "start_time": "2022-02-07T00:59:33.884Z"
   },
   {
    "duration": 8,
    "start_time": "2022-02-07T00:59:33.895Z"
   },
   {
    "duration": 10,
    "start_time": "2022-02-07T00:59:33.904Z"
   },
   {
    "duration": 13,
    "start_time": "2022-02-07T00:59:33.915Z"
   },
   {
    "duration": 7,
    "start_time": "2022-02-07T00:59:33.929Z"
   },
   {
    "duration": 9,
    "start_time": "2022-02-07T00:59:33.938Z"
   },
   {
    "duration": 22,
    "start_time": "2022-02-07T00:59:33.949Z"
   },
   {
    "duration": 5,
    "start_time": "2022-02-07T00:59:33.973Z"
   },
   {
    "duration": 5,
    "start_time": "2022-02-07T00:59:59.522Z"
   },
   {
    "duration": 5,
    "start_time": "2022-02-07T01:00:01.286Z"
   },
   {
    "duration": 7,
    "start_time": "2022-02-07T01:00:02.218Z"
   },
   {
    "duration": 4,
    "start_time": "2022-02-07T01:00:18.248Z"
   },
   {
    "duration": 6,
    "start_time": "2022-02-07T01:00:25.150Z"
   },
   {
    "duration": 18,
    "start_time": "2022-02-07T01:00:27.373Z"
   },
   {
    "duration": 355,
    "start_time": "2022-02-07T01:08:41.759Z"
   },
   {
    "duration": 12,
    "start_time": "2022-02-07T01:08:56.100Z"
   },
   {
    "duration": 12,
    "start_time": "2022-02-07T01:11:20.194Z"
   },
   {
    "duration": 11,
    "start_time": "2022-02-07T01:11:48.495Z"
   },
   {
    "duration": 9,
    "start_time": "2022-02-07T01:12:18.396Z"
   },
   {
    "duration": 5,
    "start_time": "2022-02-07T01:12:35.259Z"
   },
   {
    "duration": 7,
    "start_time": "2022-02-07T01:14:31.843Z"
   },
   {
    "duration": 7,
    "start_time": "2022-02-07T01:14:40.946Z"
   },
   {
    "duration": 46,
    "start_time": "2022-02-07T01:16:38.496Z"
   },
   {
    "duration": 11,
    "start_time": "2022-02-07T01:16:38.544Z"
   },
   {
    "duration": 10,
    "start_time": "2022-02-07T01:16:38.558Z"
   },
   {
    "duration": 10,
    "start_time": "2022-02-07T01:16:38.570Z"
   },
   {
    "duration": 6,
    "start_time": "2022-02-07T01:16:38.582Z"
   },
   {
    "duration": 206,
    "start_time": "2022-02-07T01:16:38.590Z"
   },
   {
    "duration": 197,
    "start_time": "2022-02-07T01:16:38.798Z"
   },
   {
    "duration": 10,
    "start_time": "2022-02-07T01:16:38.998Z"
   },
   {
    "duration": 10,
    "start_time": "2022-02-07T01:16:39.010Z"
   },
   {
    "duration": 14,
    "start_time": "2022-02-07T01:16:39.021Z"
   },
   {
    "duration": 8,
    "start_time": "2022-02-07T01:16:39.037Z"
   },
   {
    "duration": 7,
    "start_time": "2022-02-07T01:16:39.072Z"
   },
   {
    "duration": 260,
    "start_time": "2022-02-07T01:16:39.080Z"
   },
   {
    "duration": 5,
    "start_time": "2022-02-07T01:16:39.342Z"
   },
   {
    "duration": 23,
    "start_time": "2022-02-07T01:16:39.348Z"
   },
   {
    "duration": 6,
    "start_time": "2022-02-07T01:16:39.373Z"
   },
   {
    "duration": 6,
    "start_time": "2022-02-07T01:16:39.381Z"
   },
   {
    "duration": 18,
    "start_time": "2022-02-07T01:16:39.388Z"
   },
   {
    "duration": 3,
    "start_time": "2022-02-07T01:16:39.407Z"
   },
   {
    "duration": 1597,
    "start_time": "2022-02-07T01:16:39.412Z"
   },
   {
    "duration": 23,
    "start_time": "2022-02-07T01:16:41.011Z"
   },
   {
    "duration": 7,
    "start_time": "2022-02-07T01:16:41.035Z"
   },
   {
    "duration": 188,
    "start_time": "2022-02-07T01:16:41.046Z"
   },
   {
    "duration": 669,
    "start_time": "2022-02-07T01:16:41.236Z"
   },
   {
    "duration": 5,
    "start_time": "2022-02-07T01:16:41.907Z"
   },
   {
    "duration": 20,
    "start_time": "2022-02-07T01:16:41.914Z"
   },
   {
    "duration": 164,
    "start_time": "2022-02-07T01:16:41.936Z"
   },
   {
    "duration": 325,
    "start_time": "2022-02-07T01:16:42.102Z"
   },
   {
    "duration": 440,
    "start_time": "2022-02-07T01:16:42.429Z"
   },
   {
    "duration": 159,
    "start_time": "2022-02-07T01:16:42.870Z"
   },
   {
    "duration": 6,
    "start_time": "2022-02-07T01:16:43.030Z"
   },
   {
    "duration": 5,
    "start_time": "2022-02-07T01:16:43.037Z"
   },
   {
    "duration": 5,
    "start_time": "2022-02-07T01:16:43.044Z"
   },
   {
    "duration": 23,
    "start_time": "2022-02-07T01:16:43.050Z"
   },
   {
    "duration": 17,
    "start_time": "2022-02-07T01:16:43.075Z"
   },
   {
    "duration": 1413,
    "start_time": "2022-02-07T01:16:43.094Z"
   },
   {
    "duration": 7,
    "start_time": "2022-02-07T01:16:44.509Z"
   },
   {
    "duration": 8,
    "start_time": "2022-02-07T01:16:44.518Z"
   },
   {
    "duration": 18,
    "start_time": "2022-02-07T01:16:44.528Z"
   },
   {
    "duration": 6,
    "start_time": "2022-02-07T01:16:44.572Z"
   },
   {
    "duration": 7,
    "start_time": "2022-02-07T01:16:44.579Z"
   },
   {
    "duration": 11,
    "start_time": "2022-02-07T01:16:44.588Z"
   },
   {
    "duration": 24,
    "start_time": "2022-02-07T01:16:44.600Z"
   },
   {
    "duration": 7,
    "start_time": "2022-02-07T01:16:44.626Z"
   },
   {
    "duration": 1,
    "start_time": "2022-02-07T01:16:44.635Z"
   },
   {
    "duration": 7,
    "start_time": "2022-02-07T01:16:44.638Z"
   },
   {
    "duration": 11,
    "start_time": "2022-02-07T01:16:44.672Z"
   },
   {
    "duration": 10,
    "start_time": "2022-02-07T01:16:44.684Z"
   },
   {
    "duration": 4,
    "start_time": "2022-02-07T01:16:44.695Z"
   },
   {
    "duration": 19,
    "start_time": "2022-02-07T01:16:44.700Z"
   },
   {
    "duration": 9,
    "start_time": "2022-02-07T01:16:44.721Z"
   },
   {
    "duration": 44,
    "start_time": "2022-02-07T01:16:44.732Z"
   },
   {
    "duration": 18,
    "start_time": "2022-02-07T01:16:44.777Z"
   },
   {
    "duration": 7,
    "start_time": "2022-02-07T01:16:44.796Z"
   },
   {
    "duration": 7,
    "start_time": "2022-02-07T01:16:44.804Z"
   },
   {
    "duration": 22,
    "start_time": "2022-02-07T01:16:44.813Z"
   },
   {
    "duration": 38,
    "start_time": "2022-02-07T01:16:44.837Z"
   },
   {
    "duration": 11,
    "start_time": "2022-02-07T01:16:44.877Z"
   },
   {
    "duration": 10,
    "start_time": "2022-02-07T01:16:44.890Z"
   },
   {
    "duration": 22,
    "start_time": "2022-02-07T01:16:44.901Z"
   },
   {
    "duration": 8,
    "start_time": "2022-02-07T01:16:44.925Z"
   },
   {
    "duration": 5,
    "start_time": "2022-02-07T01:16:44.934Z"
   },
   {
    "duration": 36,
    "start_time": "2022-02-07T01:16:44.940Z"
   },
   {
    "duration": 5,
    "start_time": "2022-02-07T01:16:44.977Z"
   },
   {
    "duration": 10,
    "start_time": "2022-02-07T01:16:44.984Z"
   },
   {
    "duration": 11,
    "start_time": "2022-02-07T01:16:44.996Z"
   },
   {
    "duration": 6,
    "start_time": "2022-02-07T01:16:45.008Z"
   },
   {
    "duration": 16,
    "start_time": "2022-02-07T01:16:45.018Z"
   },
   {
    "duration": 10,
    "start_time": "2022-02-07T01:16:45.036Z"
   },
   {
    "duration": 7,
    "start_time": "2022-02-07T01:16:45.048Z"
   },
   {
    "duration": 17,
    "start_time": "2022-02-07T01:16:45.057Z"
   },
   {
    "duration": 9,
    "start_time": "2022-02-07T01:16:45.075Z"
   },
   {
    "duration": 10,
    "start_time": "2022-02-07T01:16:45.086Z"
   },
   {
    "duration": 7,
    "start_time": "2022-02-07T01:16:45.097Z"
   },
   {
    "duration": 12,
    "start_time": "2022-02-07T01:16:45.105Z"
   },
   {
    "duration": 22,
    "start_time": "2022-02-07T01:16:45.119Z"
   },
   {
    "duration": 5,
    "start_time": "2022-02-07T01:16:45.143Z"
   },
   {
    "duration": 23,
    "start_time": "2022-02-07T01:16:45.149Z"
   },
   {
    "duration": 311,
    "start_time": "2022-02-07T01:24:15.643Z"
   },
   {
    "duration": 6,
    "start_time": "2022-02-07T01:24:46.454Z"
   },
   {
    "duration": 28,
    "start_time": "2022-02-07T01:26:38.025Z"
   },
   {
    "duration": 46,
    "start_time": "2022-02-07T01:29:56.324Z"
   },
   {
    "duration": 11,
    "start_time": "2022-02-07T01:29:56.372Z"
   },
   {
    "duration": 10,
    "start_time": "2022-02-07T01:29:56.384Z"
   },
   {
    "duration": 8,
    "start_time": "2022-02-07T01:29:56.395Z"
   },
   {
    "duration": 4,
    "start_time": "2022-02-07T01:29:56.405Z"
   },
   {
    "duration": 208,
    "start_time": "2022-02-07T01:29:56.411Z"
   },
   {
    "duration": 187,
    "start_time": "2022-02-07T01:29:56.621Z"
   },
   {
    "duration": 9,
    "start_time": "2022-02-07T01:29:56.810Z"
   },
   {
    "duration": 8,
    "start_time": "2022-02-07T01:29:56.821Z"
   },
   {
    "duration": 6,
    "start_time": "2022-02-07T01:29:56.831Z"
   },
   {
    "duration": 34,
    "start_time": "2022-02-07T01:29:56.838Z"
   },
   {
    "duration": 6,
    "start_time": "2022-02-07T01:29:56.873Z"
   },
   {
    "duration": 255,
    "start_time": "2022-02-07T01:29:56.880Z"
   },
   {
    "duration": 5,
    "start_time": "2022-02-07T01:29:57.136Z"
   },
   {
    "duration": 8,
    "start_time": "2022-02-07T01:29:57.142Z"
   },
   {
    "duration": 23,
    "start_time": "2022-02-07T01:29:57.151Z"
   },
   {
    "duration": 5,
    "start_time": "2022-02-07T01:29:57.175Z"
   },
   {
    "duration": 18,
    "start_time": "2022-02-07T01:29:57.182Z"
   },
   {
    "duration": 3,
    "start_time": "2022-02-07T01:29:57.201Z"
   },
   {
    "duration": 1424,
    "start_time": "2022-02-07T01:29:57.206Z"
   },
   {
    "duration": 23,
    "start_time": "2022-02-07T01:29:58.632Z"
   },
   {
    "duration": 17,
    "start_time": "2022-02-07T01:29:58.657Z"
   },
   {
    "duration": 174,
    "start_time": "2022-02-07T01:29:58.676Z"
   },
   {
    "duration": 708,
    "start_time": "2022-02-07T01:29:58.852Z"
   },
   {
    "duration": 5,
    "start_time": "2022-02-07T01:29:59.561Z"
   },
   {
    "duration": 5,
    "start_time": "2022-02-07T01:29:59.568Z"
   },
   {
    "duration": 172,
    "start_time": "2022-02-07T01:29:59.577Z"
   },
   {
    "duration": 370,
    "start_time": "2022-02-07T01:29:59.752Z"
   },
   {
    "duration": 404,
    "start_time": "2022-02-07T01:30:00.123Z"
   },
   {
    "duration": 265,
    "start_time": "2022-02-07T01:30:00.528Z"
   },
   {
    "duration": 5,
    "start_time": "2022-02-07T01:30:00.795Z"
   },
   {
    "duration": 6,
    "start_time": "2022-02-07T01:30:00.802Z"
   },
   {
    "duration": 13,
    "start_time": "2022-02-07T01:30:00.809Z"
   },
   {
    "duration": 7,
    "start_time": "2022-02-07T01:30:00.824Z"
   },
   {
    "duration": 25,
    "start_time": "2022-02-07T01:30:00.832Z"
   },
   {
    "duration": 1512,
    "start_time": "2022-02-07T01:30:00.859Z"
   },
   {
    "duration": 6,
    "start_time": "2022-02-07T01:30:02.373Z"
   },
   {
    "duration": 9,
    "start_time": "2022-02-07T01:30:02.381Z"
   },
   {
    "duration": 18,
    "start_time": "2022-02-07T01:30:02.392Z"
   },
   {
    "duration": 11,
    "start_time": "2022-02-07T01:30:02.412Z"
   },
   {
    "duration": 9,
    "start_time": "2022-02-07T01:30:02.424Z"
   },
   {
    "duration": 10,
    "start_time": "2022-02-07T01:30:02.435Z"
   },
   {
    "duration": 48,
    "start_time": "2022-02-07T01:30:02.446Z"
   },
   {
    "duration": 7,
    "start_time": "2022-02-07T01:30:02.496Z"
   },
   {
    "duration": 3,
    "start_time": "2022-02-07T01:30:02.505Z"
   },
   {
    "duration": 5,
    "start_time": "2022-02-07T01:30:02.509Z"
   },
   {
    "duration": 14,
    "start_time": "2022-02-07T01:30:02.515Z"
   },
   {
    "duration": 9,
    "start_time": "2022-02-07T01:30:02.531Z"
   },
   {
    "duration": 4,
    "start_time": "2022-02-07T01:30:02.541Z"
   },
   {
    "duration": 39,
    "start_time": "2022-02-07T01:30:02.546Z"
   },
   {
    "duration": 10,
    "start_time": "2022-02-07T01:30:02.586Z"
   },
   {
    "duration": 15,
    "start_time": "2022-02-07T01:30:02.597Z"
   },
   {
    "duration": 17,
    "start_time": "2022-02-07T01:30:02.613Z"
   },
   {
    "duration": 7,
    "start_time": "2022-02-07T01:30:02.631Z"
   },
   {
    "duration": 32,
    "start_time": "2022-02-07T01:30:02.639Z"
   },
   {
    "duration": 21,
    "start_time": "2022-02-07T01:30:02.673Z"
   },
   {
    "duration": 9,
    "start_time": "2022-02-07T01:30:02.695Z"
   },
   {
    "duration": 11,
    "start_time": "2022-02-07T01:30:02.705Z"
   },
   {
    "duration": 9,
    "start_time": "2022-02-07T01:30:02.717Z"
   },
   {
    "duration": 49,
    "start_time": "2022-02-07T01:30:02.728Z"
   },
   {
    "duration": 8,
    "start_time": "2022-02-07T01:30:02.779Z"
   },
   {
    "duration": 4,
    "start_time": "2022-02-07T01:30:02.788Z"
   },
   {
    "duration": 14,
    "start_time": "2022-02-07T01:30:02.793Z"
   },
   {
    "duration": 8,
    "start_time": "2022-02-07T01:30:02.809Z"
   },
   {
    "duration": 11,
    "start_time": "2022-02-07T01:30:02.819Z"
   },
   {
    "duration": 11,
    "start_time": "2022-02-07T01:30:02.831Z"
   },
   {
    "duration": 7,
    "start_time": "2022-02-07T01:30:02.844Z"
   },
   {
    "duration": 22,
    "start_time": "2022-02-07T01:30:02.852Z"
   },
   {
    "duration": 9,
    "start_time": "2022-02-07T01:30:02.876Z"
   },
   {
    "duration": 14,
    "start_time": "2022-02-07T01:30:02.886Z"
   },
   {
    "duration": 11,
    "start_time": "2022-02-07T01:30:02.901Z"
   },
   {
    "duration": 9,
    "start_time": "2022-02-07T01:30:02.913Z"
   },
   {
    "duration": 10,
    "start_time": "2022-02-07T01:30:02.924Z"
   },
   {
    "duration": 8,
    "start_time": "2022-02-07T01:30:02.936Z"
   },
   {
    "duration": 9,
    "start_time": "2022-02-07T01:30:02.945Z"
   },
   {
    "duration": 20,
    "start_time": "2022-02-07T01:30:02.956Z"
   },
   {
    "duration": 7,
    "start_time": "2022-02-07T01:30:02.977Z"
   },
   {
    "duration": 19,
    "start_time": "2022-02-07T01:30:02.985Z"
   },
   {
    "duration": 129,
    "start_time": "2022-02-07T01:30:20.990Z"
   },
   {
    "duration": -7113,
    "start_time": "2022-02-07T01:30:28.234Z"
   },
   {
    "duration": -7123,
    "start_time": "2022-02-07T01:30:28.245Z"
   },
   {
    "duration": -7134,
    "start_time": "2022-02-07T01:30:28.257Z"
   },
   {
    "duration": -7145,
    "start_time": "2022-02-07T01:30:28.268Z"
   },
   {
    "duration": -7154,
    "start_time": "2022-02-07T01:30:28.278Z"
   },
   {
    "duration": -7163,
    "start_time": "2022-02-07T01:30:28.288Z"
   },
   {
    "duration": -7174,
    "start_time": "2022-02-07T01:30:28.299Z"
   },
   {
    "duration": -7183,
    "start_time": "2022-02-07T01:30:28.309Z"
   },
   {
    "duration": -7226,
    "start_time": "2022-02-07T01:30:28.353Z"
   },
   {
    "duration": -7238,
    "start_time": "2022-02-07T01:30:28.365Z"
   },
   {
    "duration": -7249,
    "start_time": "2022-02-07T01:30:28.377Z"
   },
   {
    "duration": -7257,
    "start_time": "2022-02-07T01:30:28.386Z"
   },
   {
    "duration": 4,
    "start_time": "2022-02-07T01:30:21.131Z"
   },
   {
    "duration": 7,
    "start_time": "2022-02-07T01:30:21.137Z"
   },
   {
    "duration": 6,
    "start_time": "2022-02-07T01:30:21.150Z"
   },
   {
    "duration": 12,
    "start_time": "2022-02-07T01:30:21.160Z"
   },
   {
    "duration": 18,
    "start_time": "2022-02-07T01:30:21.175Z"
   },
   {
    "duration": 3,
    "start_time": "2022-02-07T01:30:21.195Z"
   },
   {
    "duration": 340,
    "start_time": "2022-02-07T01:30:21.200Z"
   },
   {
    "duration": -6997,
    "start_time": "2022-02-07T01:30:28.540Z"
   },
   {
    "duration": -7005,
    "start_time": "2022-02-07T01:30:28.549Z"
   },
   {
    "duration": -7014,
    "start_time": "2022-02-07T01:30:28.559Z"
   },
   {
    "duration": -7023,
    "start_time": "2022-02-07T01:30:28.569Z"
   },
   {
    "duration": -7032,
    "start_time": "2022-02-07T01:30:28.578Z"
   },
   {
    "duration": -7040,
    "start_time": "2022-02-07T01:30:28.587Z"
   },
   {
    "duration": -7099,
    "start_time": "2022-02-07T01:30:28.647Z"
   },
   {
    "duration": -7108,
    "start_time": "2022-02-07T01:30:28.657Z"
   },
   {
    "duration": -7118,
    "start_time": "2022-02-07T01:30:28.668Z"
   },
   {
    "duration": -7125,
    "start_time": "2022-02-07T01:30:28.676Z"
   },
   {
    "duration": -7135,
    "start_time": "2022-02-07T01:30:28.686Z"
   },
   {
    "duration": -7143,
    "start_time": "2022-02-07T01:30:28.695Z"
   },
   {
    "duration": -7151,
    "start_time": "2022-02-07T01:30:28.704Z"
   },
   {
    "duration": -7159,
    "start_time": "2022-02-07T01:30:28.713Z"
   },
   {
    "duration": -7167,
    "start_time": "2022-02-07T01:30:28.722Z"
   },
   {
    "duration": -7175,
    "start_time": "2022-02-07T01:30:28.730Z"
   },
   {
    "duration": -7183,
    "start_time": "2022-02-07T01:30:28.739Z"
   },
   {
    "duration": -7204,
    "start_time": "2022-02-07T01:30:28.761Z"
   },
   {
    "duration": -7213,
    "start_time": "2022-02-07T01:30:28.771Z"
   },
   {
    "duration": -7221,
    "start_time": "2022-02-07T01:30:28.780Z"
   },
   {
    "duration": -7229,
    "start_time": "2022-02-07T01:30:28.789Z"
   },
   {
    "duration": -7238,
    "start_time": "2022-02-07T01:30:28.799Z"
   },
   {
    "duration": -7246,
    "start_time": "2022-02-07T01:30:28.808Z"
   },
   {
    "duration": -7253,
    "start_time": "2022-02-07T01:30:28.816Z"
   },
   {
    "duration": -7263,
    "start_time": "2022-02-07T01:30:28.826Z"
   },
   {
    "duration": -7272,
    "start_time": "2022-02-07T01:30:28.836Z"
   },
   {
    "duration": -7279,
    "start_time": "2022-02-07T01:30:28.844Z"
   },
   {
    "duration": -7287,
    "start_time": "2022-02-07T01:30:28.853Z"
   },
   {
    "duration": -7308,
    "start_time": "2022-02-07T01:30:28.875Z"
   },
   {
    "duration": -7317,
    "start_time": "2022-02-07T01:30:28.885Z"
   },
   {
    "duration": -7326,
    "start_time": "2022-02-07T01:30:28.895Z"
   },
   {
    "duration": -7335,
    "start_time": "2022-02-07T01:30:28.905Z"
   },
   {
    "duration": -7342,
    "start_time": "2022-02-07T01:30:28.913Z"
   },
   {
    "duration": -7350,
    "start_time": "2022-02-07T01:30:28.922Z"
   },
   {
    "duration": -7359,
    "start_time": "2022-02-07T01:30:28.931Z"
   },
   {
    "duration": -7367,
    "start_time": "2022-02-07T01:30:28.940Z"
   },
   {
    "duration": -7376,
    "start_time": "2022-02-07T01:30:28.950Z"
   },
   {
    "duration": -7385,
    "start_time": "2022-02-07T01:30:28.960Z"
   },
   {
    "duration": -7393,
    "start_time": "2022-02-07T01:30:28.969Z"
   },
   {
    "duration": -7416,
    "start_time": "2022-02-07T01:30:28.993Z"
   },
   {
    "duration": -7425,
    "start_time": "2022-02-07T01:30:29.003Z"
   },
   {
    "duration": -7434,
    "start_time": "2022-02-07T01:30:29.013Z"
   },
   {
    "duration": -7443,
    "start_time": "2022-02-07T01:30:29.023Z"
   },
   {
    "duration": -7453,
    "start_time": "2022-02-07T01:30:29.034Z"
   },
   {
    "duration": 7814,
    "start_time": "2022-02-07T01:30:21.583Z"
   },
   {
    "duration": -6420,
    "start_time": "2022-02-07T01:30:35.819Z"
   },
   {
    "duration": -6431,
    "start_time": "2022-02-07T01:30:35.831Z"
   },
   {
    "duration": -6440,
    "start_time": "2022-02-07T01:30:35.841Z"
   },
   {
    "duration": -6448,
    "start_time": "2022-02-07T01:30:35.850Z"
   },
   {
    "duration": -6456,
    "start_time": "2022-02-07T01:30:35.859Z"
   },
   {
    "duration": -6466,
    "start_time": "2022-02-07T01:30:35.870Z"
   },
   {
    "duration": -6474,
    "start_time": "2022-02-07T01:30:35.879Z"
   },
   {
    "duration": -6484,
    "start_time": "2022-02-07T01:30:35.890Z"
   },
   {
    "duration": -6493,
    "start_time": "2022-02-07T01:30:35.900Z"
   },
   {
    "duration": -6534,
    "start_time": "2022-02-07T01:30:35.941Z"
   },
   {
    "duration": -6543,
    "start_time": "2022-02-07T01:30:35.951Z"
   },
   {
    "duration": -6554,
    "start_time": "2022-02-07T01:30:35.963Z"
   },
   {
    "duration": -6587,
    "start_time": "2022-02-07T01:30:35.997Z"
   },
   {
    "duration": 47,
    "start_time": "2022-02-07T01:30:43.600Z"
   },
   {
    "duration": 11,
    "start_time": "2022-02-07T01:30:43.649Z"
   },
   {
    "duration": 12,
    "start_time": "2022-02-07T01:30:43.662Z"
   },
   {
    "duration": 8,
    "start_time": "2022-02-07T01:30:43.676Z"
   },
   {
    "duration": 5,
    "start_time": "2022-02-07T01:30:43.685Z"
   },
   {
    "duration": 460,
    "start_time": "2022-02-07T01:30:43.692Z"
   },
   {
    "duration": 188,
    "start_time": "2022-02-07T01:30:44.154Z"
   },
   {
    "duration": 11,
    "start_time": "2022-02-07T01:30:44.344Z"
   },
   {
    "duration": 16,
    "start_time": "2022-02-07T01:30:44.356Z"
   },
   {
    "duration": 6,
    "start_time": "2022-02-07T01:30:44.373Z"
   },
   {
    "duration": 8,
    "start_time": "2022-02-07T01:30:44.380Z"
   },
   {
    "duration": 5,
    "start_time": "2022-02-07T01:30:44.390Z"
   },
   {
    "duration": 246,
    "start_time": "2022-02-07T01:30:44.396Z"
   },
   {
    "duration": 4,
    "start_time": "2022-02-07T01:30:44.643Z"
   },
   {
    "duration": 7,
    "start_time": "2022-02-07T01:30:44.649Z"
   },
   {
    "duration": 14,
    "start_time": "2022-02-07T01:30:44.658Z"
   },
   {
    "duration": 5,
    "start_time": "2022-02-07T01:30:44.674Z"
   },
   {
    "duration": 19,
    "start_time": "2022-02-07T01:30:44.680Z"
   },
   {
    "duration": 5,
    "start_time": "2022-02-07T01:30:44.700Z"
   },
   {
    "duration": 1509,
    "start_time": "2022-02-07T01:30:44.706Z"
   },
   {
    "duration": 23,
    "start_time": "2022-02-07T01:30:46.216Z"
   },
   {
    "duration": 6,
    "start_time": "2022-02-07T01:30:46.241Z"
   },
   {
    "duration": 182,
    "start_time": "2022-02-07T01:30:46.251Z"
   },
   {
    "duration": 642,
    "start_time": "2022-02-07T01:30:46.436Z"
   },
   {
    "duration": 5,
    "start_time": "2022-02-07T01:30:47.080Z"
   },
   {
    "duration": 4,
    "start_time": "2022-02-07T01:30:47.087Z"
   },
   {
    "duration": 174,
    "start_time": "2022-02-07T01:30:47.092Z"
   },
   {
    "duration": 354,
    "start_time": "2022-02-07T01:30:47.268Z"
   },
   {
    "duration": 388,
    "start_time": "2022-02-07T01:30:47.624Z"
   },
   {
    "duration": 154,
    "start_time": "2022-02-07T01:30:48.013Z"
   },
   {
    "duration": 7,
    "start_time": "2022-02-07T01:30:48.168Z"
   },
   {
    "duration": 6,
    "start_time": "2022-02-07T01:30:48.176Z"
   },
   {
    "duration": 5,
    "start_time": "2022-02-07T01:30:48.184Z"
   },
   {
    "duration": 5,
    "start_time": "2022-02-07T01:30:48.191Z"
   },
   {
    "duration": 22,
    "start_time": "2022-02-07T01:30:48.197Z"
   },
   {
    "duration": 1463,
    "start_time": "2022-02-07T01:30:48.221Z"
   },
   {
    "duration": 7,
    "start_time": "2022-02-07T01:30:49.685Z"
   },
   {
    "duration": 9,
    "start_time": "2022-02-07T01:30:49.693Z"
   },
   {
    "duration": 18,
    "start_time": "2022-02-07T01:30:49.703Z"
   },
   {
    "duration": 5,
    "start_time": "2022-02-07T01:30:49.722Z"
   },
   {
    "duration": 8,
    "start_time": "2022-02-07T01:30:49.728Z"
   },
   {
    "duration": 40,
    "start_time": "2022-02-07T01:30:49.737Z"
   },
   {
    "duration": 26,
    "start_time": "2022-02-07T01:30:49.778Z"
   },
   {
    "duration": 9,
    "start_time": "2022-02-07T01:30:49.805Z"
   },
   {
    "duration": 2,
    "start_time": "2022-02-07T01:30:49.816Z"
   },
   {
    "duration": 5,
    "start_time": "2022-02-07T01:30:49.819Z"
   },
   {
    "duration": 13,
    "start_time": "2022-02-07T01:30:49.826Z"
   },
   {
    "duration": 35,
    "start_time": "2022-02-07T01:30:49.841Z"
   },
   {
    "duration": 5,
    "start_time": "2022-02-07T01:30:49.878Z"
   },
   {
    "duration": 18,
    "start_time": "2022-02-07T01:30:49.884Z"
   },
   {
    "duration": 12,
    "start_time": "2022-02-07T01:30:49.903Z"
   },
   {
    "duration": 17,
    "start_time": "2022-02-07T01:30:49.916Z"
   },
   {
    "duration": 54,
    "start_time": "2022-02-07T01:30:49.934Z"
   },
   {
    "duration": 7,
    "start_time": "2022-02-07T01:30:49.990Z"
   },
   {
    "duration": 7,
    "start_time": "2022-02-07T01:30:49.999Z"
   },
   {
    "duration": 22,
    "start_time": "2022-02-07T01:30:50.008Z"
   },
   {
    "duration": 9,
    "start_time": "2022-02-07T01:30:50.032Z"
   },
   {
    "duration": 40,
    "start_time": "2022-02-07T01:30:50.042Z"
   },
   {
    "duration": 9,
    "start_time": "2022-02-07T01:30:50.084Z"
   },
   {
    "duration": 22,
    "start_time": "2022-02-07T01:30:50.094Z"
   },
   {
    "duration": 8,
    "start_time": "2022-02-07T01:30:50.118Z"
   },
   {
    "duration": 4,
    "start_time": "2022-02-07T01:30:50.127Z"
   },
   {
    "duration": 40,
    "start_time": "2022-02-07T01:30:50.132Z"
   },
   {
    "duration": 5,
    "start_time": "2022-02-07T01:30:50.173Z"
   },
   {
    "duration": 6,
    "start_time": "2022-02-07T01:30:50.180Z"
   },
   {
    "duration": 12,
    "start_time": "2022-02-07T01:30:50.187Z"
   },
   {
    "duration": 6,
    "start_time": "2022-02-07T01:30:50.200Z"
   },
   {
    "duration": 6,
    "start_time": "2022-02-07T01:30:50.210Z"
   },
   {
    "duration": 10,
    "start_time": "2022-02-07T01:30:50.218Z"
   },
   {
    "duration": 14,
    "start_time": "2022-02-07T01:30:50.229Z"
   },
   {
    "duration": 8,
    "start_time": "2022-02-07T01:30:50.244Z"
   },
   {
    "duration": 19,
    "start_time": "2022-02-07T01:30:50.253Z"
   },
   {
    "duration": 6,
    "start_time": "2022-02-07T01:30:50.273Z"
   },
   {
    "duration": 8,
    "start_time": "2022-02-07T01:30:50.280Z"
   },
   {
    "duration": 10,
    "start_time": "2022-02-07T01:30:50.289Z"
   },
   {
    "duration": 19,
    "start_time": "2022-02-07T01:30:50.301Z"
   },
   {
    "duration": 5,
    "start_time": "2022-02-07T01:30:50.322Z"
   },
   {
    "duration": 20,
    "start_time": "2022-02-07T01:30:50.328Z"
   },
   {
    "duration": 7,
    "start_time": "2022-02-07T19:23:33.815Z"
   },
   {
    "duration": 1467,
    "start_time": "2022-02-07T19:26:14.197Z"
   },
   {
    "duration": 23,
    "start_time": "2022-02-07T19:26:15.666Z"
   },
   {
    "duration": 18,
    "start_time": "2022-02-07T19:26:15.692Z"
   },
   {
    "duration": 13,
    "start_time": "2022-02-07T19:26:15.713Z"
   },
   {
    "duration": 8,
    "start_time": "2022-02-07T19:26:15.749Z"
   },
   {
    "duration": 333,
    "start_time": "2022-02-07T19:26:15.760Z"
   },
   {
    "duration": 337,
    "start_time": "2022-02-07T19:26:16.096Z"
   },
   {
    "duration": 23,
    "start_time": "2022-02-07T19:26:16.437Z"
   },
   {
    "duration": 13,
    "start_time": "2022-02-07T19:26:16.463Z"
   },
   {
    "duration": 9,
    "start_time": "2022-02-07T19:26:16.478Z"
   },
   {
    "duration": 12,
    "start_time": "2022-02-07T19:26:16.489Z"
   },
   {
    "duration": 46,
    "start_time": "2022-02-07T19:26:16.504Z"
   },
   {
    "duration": 428,
    "start_time": "2022-02-07T19:26:16.552Z"
   },
   {
    "duration": 6,
    "start_time": "2022-02-07T19:26:16.983Z"
   },
   {
    "duration": 11,
    "start_time": "2022-02-07T19:26:16.991Z"
   },
   {
    "duration": 14,
    "start_time": "2022-02-07T19:26:17.004Z"
   },
   {
    "duration": 34,
    "start_time": "2022-02-07T19:26:17.020Z"
   },
   {
    "duration": 37,
    "start_time": "2022-02-07T19:26:17.057Z"
   },
   {
    "duration": 5,
    "start_time": "2022-02-07T19:26:17.097Z"
   },
   {
    "duration": 2508,
    "start_time": "2022-02-07T19:26:17.104Z"
   },
   {
    "duration": 54,
    "start_time": "2022-02-07T19:26:19.614Z"
   },
   {
    "duration": 9,
    "start_time": "2022-02-07T19:26:19.671Z"
   },
   {
    "duration": 312,
    "start_time": "2022-02-07T19:26:19.685Z"
   },
   {
    "duration": 1034,
    "start_time": "2022-02-07T19:26:20.001Z"
   },
   {
    "duration": 15,
    "start_time": "2022-02-07T19:26:21.037Z"
   },
   {
    "duration": 9,
    "start_time": "2022-02-07T19:26:21.054Z"
   },
   {
    "duration": 329,
    "start_time": "2022-02-07T19:26:21.065Z"
   },
   {
    "duration": 534,
    "start_time": "2022-02-07T19:26:21.397Z"
   },
   {
    "duration": 591,
    "start_time": "2022-02-07T19:26:21.934Z"
   },
   {
    "duration": 299,
    "start_time": "2022-02-07T19:26:22.529Z"
   },
   {
    "duration": 18,
    "start_time": "2022-02-07T19:26:22.832Z"
   },
   {
    "duration": 8,
    "start_time": "2022-02-07T19:26:22.853Z"
   },
   {
    "duration": 9,
    "start_time": "2022-02-07T19:26:22.864Z"
   },
   {
    "duration": 7,
    "start_time": "2022-02-07T19:26:22.875Z"
   },
   {
    "duration": 74,
    "start_time": "2022-02-07T19:26:22.884Z"
   },
   {
    "duration": 2327,
    "start_time": "2022-02-07T19:26:22.961Z"
   },
   {
    "duration": 14,
    "start_time": "2022-02-07T19:26:25.291Z"
   },
   {
    "duration": 14,
    "start_time": "2022-02-07T19:26:25.308Z"
   },
   {
    "duration": 38,
    "start_time": "2022-02-07T19:26:25.349Z"
   },
   {
    "duration": 9,
    "start_time": "2022-02-07T19:26:25.390Z"
   },
   {
    "duration": 54,
    "start_time": "2022-02-07T19:26:25.402Z"
   },
   {
    "duration": 28,
    "start_time": "2022-02-07T19:26:25.459Z"
   },
   {
    "duration": 70,
    "start_time": "2022-02-07T19:26:25.490Z"
   },
   {
    "duration": 13,
    "start_time": "2022-02-07T19:26:25.563Z"
   },
   {
    "duration": 6,
    "start_time": "2022-02-07T19:26:25.578Z"
   },
   {
    "duration": 6,
    "start_time": "2022-02-07T19:26:25.586Z"
   },
   {
    "duration": 14,
    "start_time": "2022-02-07T19:26:25.595Z"
   },
   {
    "duration": 44,
    "start_time": "2022-02-07T19:26:25.612Z"
   },
   {
    "duration": 6,
    "start_time": "2022-02-07T19:26:25.658Z"
   },
   {
    "duration": 30,
    "start_time": "2022-02-07T19:26:25.667Z"
   },
   {
    "duration": 49,
    "start_time": "2022-02-07T19:26:25.700Z"
   },
   {
    "duration": 25,
    "start_time": "2022-02-07T19:26:25.752Z"
   },
   {
    "duration": 25,
    "start_time": "2022-02-07T19:26:25.780Z"
   },
   {
    "duration": 44,
    "start_time": "2022-02-07T19:26:25.808Z"
   },
   {
    "duration": 10,
    "start_time": "2022-02-07T19:26:25.855Z"
   },
   {
    "duration": 36,
    "start_time": "2022-02-07T19:26:25.868Z"
   },
   {
    "duration": 51,
    "start_time": "2022-02-07T19:26:25.907Z"
   },
   {
    "duration": 20,
    "start_time": "2022-02-07T19:26:25.961Z"
   },
   {
    "duration": 17,
    "start_time": "2022-02-07T19:26:25.983Z"
   },
   {
    "duration": 71,
    "start_time": "2022-02-07T19:26:26.002Z"
   },
   {
    "duration": 13,
    "start_time": "2022-02-07T19:26:26.076Z"
   },
   {
    "duration": 5,
    "start_time": "2022-02-07T19:26:26.092Z"
   },
   {
    "duration": 10,
    "start_time": "2022-02-07T19:26:26.100Z"
   },
   {
    "duration": 36,
    "start_time": "2022-02-07T19:26:26.112Z"
   },
   {
    "duration": 11,
    "start_time": "2022-02-07T19:26:26.151Z"
   },
   {
    "duration": 16,
    "start_time": "2022-02-07T19:26:26.165Z"
   },
   {
    "duration": 9,
    "start_time": "2022-02-07T19:26:26.184Z"
   },
   {
    "duration": 8,
    "start_time": "2022-02-07T19:26:26.201Z"
   },
   {
    "duration": 44,
    "start_time": "2022-02-07T19:26:26.212Z"
   },
   {
    "duration": 12,
    "start_time": "2022-02-07T19:26:26.259Z"
   },
   {
    "duration": 8,
    "start_time": "2022-02-07T19:26:26.274Z"
   },
   {
    "duration": 11,
    "start_time": "2022-02-07T19:26:26.285Z"
   },
   {
    "duration": 13,
    "start_time": "2022-02-07T19:26:26.298Z"
   },
   {
    "duration": 38,
    "start_time": "2022-02-07T19:26:26.313Z"
   },
   {
    "duration": 25,
    "start_time": "2022-02-07T19:26:26.354Z"
   },
   {
    "duration": 38,
    "start_time": "2022-02-07T19:26:26.382Z"
   },
   {
    "duration": 9,
    "start_time": "2022-02-07T19:26:26.423Z"
   },
   {
    "duration": 44,
    "start_time": "2022-02-07T19:26:26.434Z"
   },
   {
    "duration": 5,
    "start_time": "2022-02-07T19:26:26.481Z"
   },
   {
    "duration": 10,
    "start_time": "2022-02-07T19:26:26.488Z"
   },
   {
    "duration": 36,
    "start_time": "2022-02-07T19:27:01.277Z"
   },
   {
    "duration": 13,
    "start_time": "2022-02-07T19:28:56.975Z"
   },
   {
    "duration": 21,
    "start_time": "2022-02-07T19:31:13.562Z"
   },
   {
    "duration": 25,
    "start_time": "2022-02-07T19:31:39.278Z"
   },
   {
    "duration": 14,
    "start_time": "2022-02-07T19:39:12.251Z"
   },
   {
    "duration": 10,
    "start_time": "2022-02-07T19:41:34.474Z"
   },
   {
    "duration": 11,
    "start_time": "2022-02-07T19:41:58.541Z"
   },
   {
    "duration": 20,
    "start_time": "2022-02-07T19:45:07.388Z"
   },
   {
    "duration": 21,
    "start_time": "2022-02-07T19:47:08.165Z"
   },
   {
    "duration": 24,
    "start_time": "2022-02-07T19:47:56.982Z"
   },
   {
    "duration": 12,
    "start_time": "2022-02-07T20:01:34.489Z"
   },
   {
    "duration": 10,
    "start_time": "2022-02-07T20:01:47.384Z"
   },
   {
    "duration": 37,
    "start_time": "2022-02-07T20:01:50.049Z"
   },
   {
    "duration": 22,
    "start_time": "2022-02-07T20:02:06.872Z"
   },
   {
    "duration": 13,
    "start_time": "2022-02-07T20:02:36.676Z"
   },
   {
    "duration": 10,
    "start_time": "2022-02-07T20:05:31.888Z"
   },
   {
    "duration": 413,
    "start_time": "2022-02-07T20:12:51.246Z"
   },
   {
    "duration": 15,
    "start_time": "2022-02-07T20:13:05.524Z"
   },
   {
    "duration": 319,
    "start_time": "2022-02-07T20:15:41.550Z"
   },
   {
    "duration": 311,
    "start_time": "2022-02-07T20:16:12.207Z"
   },
   {
    "duration": 269,
    "start_time": "2022-02-07T20:16:27.296Z"
   },
   {
    "duration": 277,
    "start_time": "2022-02-07T20:18:19.758Z"
   },
   {
    "duration": 580,
    "start_time": "2022-02-07T20:18:32.168Z"
   },
   {
    "duration": 95,
    "start_time": "2022-02-07T20:20:42.530Z"
   },
   {
    "duration": 1151,
    "start_time": "2022-02-07T20:20:54.106Z"
   },
   {
    "duration": 645,
    "start_time": "2022-02-07T20:21:26.608Z"
   },
   {
    "duration": 90,
    "start_time": "2022-02-07T20:22:50.151Z"
   },
   {
    "duration": 10,
    "start_time": "2022-02-07T20:26:26.836Z"
   },
   {
    "duration": 13,
    "start_time": "2022-02-07T20:26:28.428Z"
   },
   {
    "duration": 608,
    "start_time": "2022-02-07T20:26:38.263Z"
   },
   {
    "duration": 7,
    "start_time": "2022-02-07T20:46:37.781Z"
   },
   {
    "duration": 7,
    "start_time": "2022-02-07T20:47:11.684Z"
   },
   {
    "duration": 6,
    "start_time": "2022-02-07T20:48:21.769Z"
   },
   {
    "duration": 8,
    "start_time": "2022-02-07T20:52:13.050Z"
   },
   {
    "duration": 5,
    "start_time": "2022-02-07T20:55:40.744Z"
   },
   {
    "duration": 6,
    "start_time": "2022-02-07T20:57:41.580Z"
   },
   {
    "duration": 13,
    "start_time": "2022-02-07T20:58:07.477Z"
   },
   {
    "duration": 12,
    "start_time": "2022-02-07T20:59:38.271Z"
   },
   {
    "duration": 16,
    "start_time": "2022-02-07T21:16:13.259Z"
   },
   {
    "duration": 10,
    "start_time": "2022-02-07T21:16:14.787Z"
   },
   {
    "duration": 640,
    "start_time": "2022-02-07T21:16:45.866Z"
   },
   {
    "duration": 6,
    "start_time": "2022-02-07T21:17:43.572Z"
   },
   {
    "duration": 7,
    "start_time": "2022-02-07T21:17:45.122Z"
   },
   {
    "duration": 13,
    "start_time": "2022-02-07T21:17:46.471Z"
   },
   {
    "duration": 6832,
    "start_time": "2022-02-07T21:42:04.047Z"
   },
   {
    "duration": 17,
    "start_time": "2022-02-07T21:46:54.611Z"
   },
   {
    "duration": 10,
    "start_time": "2022-02-07T21:47:00.394Z"
   },
   {
    "duration": 577,
    "start_time": "2022-02-07T21:47:35.888Z"
   },
   {
    "duration": 20,
    "start_time": "2022-02-07T21:50:14.958Z"
   },
   {
    "duration": 11,
    "start_time": "2022-02-07T21:50:16.580Z"
   },
   {
    "duration": 824,
    "start_time": "2022-02-07T21:52:09.302Z"
   },
   {
    "duration": 86,
    "start_time": "2022-02-07T21:52:56.746Z"
   },
   {
    "duration": 607,
    "start_time": "2022-02-07T21:53:03.154Z"
   },
   {
    "duration": 6,
    "start_time": "2022-02-07T21:56:38.489Z"
   },
   {
    "duration": 5,
    "start_time": "2022-02-07T21:56:40.297Z"
   },
   {
    "duration": 13,
    "start_time": "2022-02-07T21:56:52.608Z"
   },
   {
    "duration": 6873,
    "start_time": "2022-02-07T22:12:44.985Z"
   },
   {
    "duration": -7360,
    "start_time": "2022-02-07T22:12:59.222Z"
   },
   {
    "duration": 23,
    "start_time": "2022-02-07T22:13:07.470Z"
   },
   {
    "duration": 10,
    "start_time": "2022-02-07T22:13:08.731Z"
   },
   {
    "duration": 23,
    "start_time": "2022-02-07T22:14:28.727Z"
   },
   {
    "duration": 10,
    "start_time": "2022-02-07T22:14:30.239Z"
   },
   {
    "duration": 712,
    "start_time": "2022-02-07T22:14:44.699Z"
   },
   {
    "duration": 128,
    "start_time": "2022-02-07T22:17:25.099Z"
   },
   {
    "duration": 99,
    "start_time": "2022-02-07T22:18:14.772Z"
   },
   {
    "duration": 97,
    "start_time": "2022-02-07T22:18:34.129Z"
   },
   {
    "duration": 99,
    "start_time": "2022-02-07T22:18:56.612Z"
   },
   {
    "duration": 7,
    "start_time": "2022-02-07T22:19:06.910Z"
   },
   {
    "duration": 5,
    "start_time": "2022-02-07T22:19:46.382Z"
   },
   {
    "duration": 5,
    "start_time": "2022-02-07T22:20:21.279Z"
   },
   {
    "duration": 12,
    "start_time": "2022-02-07T22:20:24.364Z"
   },
   {
    "duration": 17,
    "start_time": "2022-02-07T23:03:09.414Z"
   },
   {
    "duration": 10,
    "start_time": "2022-02-07T23:03:14.335Z"
   },
   {
    "duration": 546,
    "start_time": "2022-02-07T23:03:43.487Z"
   },
   {
    "duration": 6,
    "start_time": "2022-02-07T23:15:04.154Z"
   },
   {
    "duration": 5,
    "start_time": "2022-02-07T23:15:06.052Z"
   },
   {
    "duration": 12,
    "start_time": "2022-02-07T23:15:10.088Z"
   },
   {
    "duration": 14,
    "start_time": "2022-02-07T23:15:29.259Z"
   },
   {
    "duration": 16,
    "start_time": "2022-02-07T23:25:20.222Z"
   },
   {
    "duration": 10,
    "start_time": "2022-02-07T23:25:24.210Z"
   },
   {
    "duration": 661,
    "start_time": "2022-02-07T23:25:41.146Z"
   },
   {
    "duration": 5,
    "start_time": "2022-02-07T23:32:45.472Z"
   },
   {
    "duration": 5,
    "start_time": "2022-02-07T23:32:46.465Z"
   },
   {
    "duration": 12,
    "start_time": "2022-02-07T23:32:47.746Z"
   },
   {
    "duration": 65,
    "start_time": "2022-02-08T00:03:44.450Z"
   },
   {
    "duration": 18,
    "start_time": "2022-02-08T00:03:44.518Z"
   },
   {
    "duration": 19,
    "start_time": "2022-02-08T00:03:44.539Z"
   },
   {
    "duration": 13,
    "start_time": "2022-02-08T00:03:44.561Z"
   },
   {
    "duration": 14,
    "start_time": "2022-02-08T00:03:44.576Z"
   },
   {
    "duration": 374,
    "start_time": "2022-02-08T00:03:44.593Z"
   },
   {
    "duration": 352,
    "start_time": "2022-02-08T00:03:44.970Z"
   },
   {
    "duration": 34,
    "start_time": "2022-02-08T00:03:45.325Z"
   },
   {
    "duration": 15,
    "start_time": "2022-02-08T00:03:45.362Z"
   },
   {
    "duration": 9,
    "start_time": "2022-02-08T00:03:45.379Z"
   },
   {
    "duration": 16,
    "start_time": "2022-02-08T00:03:45.390Z"
   },
   {
    "duration": 47,
    "start_time": "2022-02-08T00:03:45.408Z"
   },
   {
    "duration": 430,
    "start_time": "2022-02-08T00:03:45.457Z"
   },
   {
    "duration": 6,
    "start_time": "2022-02-08T00:03:45.890Z"
   },
   {
    "duration": 27,
    "start_time": "2022-02-08T00:03:45.898Z"
   },
   {
    "duration": 23,
    "start_time": "2022-02-08T00:03:45.927Z"
   },
   {
    "duration": 8,
    "start_time": "2022-02-08T00:03:45.952Z"
   },
   {
    "duration": 33,
    "start_time": "2022-02-08T00:03:45.963Z"
   },
   {
    "duration": 8,
    "start_time": "2022-02-08T00:03:45.999Z"
   },
   {
    "duration": 2376,
    "start_time": "2022-02-08T00:03:46.010Z"
   },
   {
    "duration": 36,
    "start_time": "2022-02-08T00:03:48.389Z"
   },
   {
    "duration": 26,
    "start_time": "2022-02-08T00:03:48.427Z"
   },
   {
    "duration": 323,
    "start_time": "2022-02-08T00:03:48.459Z"
   },
   {
    "duration": 1037,
    "start_time": "2022-02-08T00:03:48.786Z"
   },
   {
    "duration": 22,
    "start_time": "2022-02-08T00:03:49.826Z"
   },
   {
    "duration": 10,
    "start_time": "2022-02-08T00:03:49.851Z"
   },
   {
    "duration": 298,
    "start_time": "2022-02-08T00:03:49.864Z"
   },
   {
    "duration": 516,
    "start_time": "2022-02-08T00:03:50.165Z"
   },
   {
    "duration": 576,
    "start_time": "2022-02-08T00:03:50.684Z"
   },
   {
    "duration": 419,
    "start_time": "2022-02-08T00:03:51.262Z"
   },
   {
    "duration": 8,
    "start_time": "2022-02-08T00:03:51.684Z"
   },
   {
    "duration": 12,
    "start_time": "2022-02-08T00:03:51.695Z"
   },
   {
    "duration": 12,
    "start_time": "2022-02-08T00:03:51.710Z"
   },
   {
    "duration": 8,
    "start_time": "2022-02-08T00:03:51.748Z"
   },
   {
    "duration": 39,
    "start_time": "2022-02-08T00:03:51.759Z"
   },
   {
    "duration": 2473,
    "start_time": "2022-02-08T00:03:51.801Z"
   },
   {
    "duration": 10,
    "start_time": "2022-02-08T00:03:54.277Z"
   },
   {
    "duration": 15,
    "start_time": "2022-02-08T00:03:54.290Z"
   },
   {
    "duration": 62,
    "start_time": "2022-02-08T00:03:54.307Z"
   },
   {
    "duration": 9,
    "start_time": "2022-02-08T00:03:54.371Z"
   },
   {
    "duration": 12,
    "start_time": "2022-02-08T00:03:54.382Z"
   },
   {
    "duration": 18,
    "start_time": "2022-02-08T00:03:54.397Z"
   },
   {
    "duration": 44,
    "start_time": "2022-02-08T00:03:54.450Z"
   },
   {
    "duration": 10,
    "start_time": "2022-02-08T00:03:54.497Z"
   },
   {
    "duration": 8,
    "start_time": "2022-02-08T00:03:54.509Z"
   },
   {
    "duration": 8,
    "start_time": "2022-02-08T00:03:54.519Z"
   },
   {
    "duration": 12,
    "start_time": "2022-02-08T00:03:54.549Z"
   },
   {
    "duration": 15,
    "start_time": "2022-02-08T00:03:54.564Z"
   },
   {
    "duration": 6,
    "start_time": "2022-02-08T00:03:54.581Z"
   },
   {
    "duration": 69,
    "start_time": "2022-02-08T00:03:54.589Z"
   },
   {
    "duration": 15,
    "start_time": "2022-02-08T00:03:54.660Z"
   },
   {
    "duration": 25,
    "start_time": "2022-02-08T00:03:54.678Z"
   },
   {
    "duration": 51,
    "start_time": "2022-02-08T00:03:54.705Z"
   },
   {
    "duration": 12,
    "start_time": "2022-02-08T00:03:54.758Z"
   },
   {
    "duration": 18,
    "start_time": "2022-02-08T00:03:54.772Z"
   },
   {
    "duration": 64,
    "start_time": "2022-02-08T00:03:54.792Z"
   },
   {
    "duration": 16,
    "start_time": "2022-02-08T00:03:54.858Z"
   },
   {
    "duration": 17,
    "start_time": "2022-02-08T00:03:54.876Z"
   },
   {
    "duration": 15,
    "start_time": "2022-02-08T00:03:54.895Z"
   },
   {
    "duration": 72,
    "start_time": "2022-02-08T00:03:54.913Z"
   },
   {
    "duration": 13,
    "start_time": "2022-02-08T00:03:54.989Z"
   },
   {
    "duration": 6,
    "start_time": "2022-02-08T00:03:55.004Z"
   },
   {
    "duration": 41,
    "start_time": "2022-02-08T00:03:55.012Z"
   },
   {
    "duration": 10,
    "start_time": "2022-02-08T00:03:55.055Z"
   },
   {
    "duration": 9,
    "start_time": "2022-02-08T00:03:55.068Z"
   },
   {
    "duration": 14,
    "start_time": "2022-02-08T00:03:55.079Z"
   },
   {
    "duration": 9,
    "start_time": "2022-02-08T00:03:55.096Z"
   },
   {
    "duration": 10,
    "start_time": "2022-02-08T00:03:55.149Z"
   },
   {
    "duration": 12,
    "start_time": "2022-02-08T00:03:55.163Z"
   },
   {
    "duration": 9,
    "start_time": "2022-02-08T00:03:55.178Z"
   },
   {
    "duration": 9,
    "start_time": "2022-02-08T00:03:55.190Z"
   },
   {
    "duration": 10,
    "start_time": "2022-02-08T00:03:55.202Z"
   },
   {
    "duration": 38,
    "start_time": "2022-02-08T00:03:55.214Z"
   },
   {
    "duration": 8,
    "start_time": "2022-02-08T00:03:55.254Z"
   },
   {
    "duration": 9,
    "start_time": "2022-02-08T00:03:55.264Z"
   },
   {
    "duration": 31,
    "start_time": "2022-02-08T00:03:55.275Z"
   },
   {
    "duration": 41,
    "start_time": "2022-02-08T00:03:55.308Z"
   },
   {
    "duration": 32,
    "start_time": "2022-02-08T00:03:55.351Z"
   },
   {
    "duration": 19,
    "start_time": "2022-02-08T00:03:55.386Z"
   },
   {
    "duration": 4,
    "start_time": "2022-02-08T00:03:55.408Z"
   },
   {
    "duration": 41,
    "start_time": "2022-02-08T00:03:55.414Z"
   },
   {
    "duration": 37,
    "start_time": "2022-02-08T00:03:55.457Z"
   },
   {
    "duration": 22,
    "start_time": "2022-02-08T00:03:55.497Z"
   },
   {
    "duration": 11,
    "start_time": "2022-02-08T00:03:55.549Z"
   },
   {
    "duration": 15,
    "start_time": "2022-02-08T00:03:55.563Z"
   },
   {
    "duration": 8,
    "start_time": "2022-02-08T00:03:55.580Z"
   },
   {
    "duration": 641,
    "start_time": "2022-02-08T00:03:55.590Z"
   },
   {
    "duration": 15,
    "start_time": "2022-02-08T00:03:56.233Z"
   },
   {
    "duration": 5,
    "start_time": "2022-02-08T00:03:56.250Z"
   },
   {
    "duration": 15,
    "start_time": "2022-02-08T00:03:56.257Z"
   },
   {
    "duration": 24,
    "start_time": "2022-02-08T00:03:56.275Z"
   },
   {
    "duration": 10,
    "start_time": "2022-02-08T00:03:56.301Z"
   },
   {
    "duration": 638,
    "start_time": "2022-02-08T00:03:56.313Z"
   },
   {
    "duration": 6,
    "start_time": "2022-02-08T00:03:56.954Z"
   },
   {
    "duration": 7,
    "start_time": "2022-02-08T00:03:56.962Z"
   },
   {
    "duration": 14,
    "start_time": "2022-02-08T00:03:56.972Z"
   },
   {
    "duration": 15,
    "start_time": "2022-02-08T00:03:56.988Z"
   },
   {
    "duration": 44,
    "start_time": "2022-02-08T00:03:57.006Z"
   },
   {
    "duration": 584,
    "start_time": "2022-02-08T00:03:57.052Z"
   },
   {
    "duration": 12,
    "start_time": "2022-02-08T00:03:57.638Z"
   },
   {
    "duration": 9,
    "start_time": "2022-02-08T00:03:57.652Z"
   },
   {
    "duration": 15,
    "start_time": "2022-02-08T00:03:57.663Z"
   },
   {
    "duration": 16,
    "start_time": "2022-02-08T00:03:57.681Z"
   },
   {
    "duration": 9,
    "start_time": "2022-02-08T00:03:57.699Z"
   },
   {
    "duration": 759,
    "start_time": "2022-02-08T00:03:57.710Z"
   },
   {
    "duration": 5,
    "start_time": "2022-02-08T00:03:58.472Z"
   },
   {
    "duration": 8,
    "start_time": "2022-02-08T00:03:58.480Z"
   },
   {
    "duration": 14,
    "start_time": "2022-02-08T00:03:58.490Z"
   },
   {
    "duration": 68,
    "start_time": "2022-02-08T00:47:37.549Z"
   },
   {
    "duration": 29,
    "start_time": "2022-02-08T00:47:37.620Z"
   },
   {
    "duration": 14,
    "start_time": "2022-02-08T00:47:37.652Z"
   },
   {
    "duration": 13,
    "start_time": "2022-02-08T00:47:37.669Z"
   },
   {
    "duration": 8,
    "start_time": "2022-02-08T00:47:37.685Z"
   },
   {
    "duration": 400,
    "start_time": "2022-02-08T00:47:37.695Z"
   },
   {
    "duration": 351,
    "start_time": "2022-02-08T00:47:38.097Z"
   },
   {
    "duration": 14,
    "start_time": "2022-02-08T00:47:38.453Z"
   },
   {
    "duration": 13,
    "start_time": "2022-02-08T00:47:38.471Z"
   },
   {
    "duration": 11,
    "start_time": "2022-02-08T00:47:38.486Z"
   },
   {
    "duration": 53,
    "start_time": "2022-02-08T00:47:38.500Z"
   },
   {
    "duration": 12,
    "start_time": "2022-02-08T00:47:38.556Z"
   },
   {
    "duration": 464,
    "start_time": "2022-02-08T00:47:38.571Z"
   },
   {
    "duration": 13,
    "start_time": "2022-02-08T00:47:39.038Z"
   },
   {
    "duration": 15,
    "start_time": "2022-02-08T00:47:39.053Z"
   },
   {
    "duration": 11,
    "start_time": "2022-02-08T00:47:39.071Z"
   },
   {
    "duration": 9,
    "start_time": "2022-02-08T00:47:39.085Z"
   },
   {
    "duration": 68,
    "start_time": "2022-02-08T00:47:39.097Z"
   },
   {
    "duration": 10,
    "start_time": "2022-02-08T00:47:39.168Z"
   },
   {
    "duration": 2201,
    "start_time": "2022-02-08T00:47:39.180Z"
   },
   {
    "duration": 39,
    "start_time": "2022-02-08T00:47:41.383Z"
   },
   {
    "duration": 27,
    "start_time": "2022-02-08T00:47:41.424Z"
   },
   {
    "duration": 318,
    "start_time": "2022-02-08T00:47:41.458Z"
   },
   {
    "duration": 1107,
    "start_time": "2022-02-08T00:47:41.779Z"
   },
   {
    "duration": 11,
    "start_time": "2022-02-08T00:47:42.890Z"
   },
   {
    "duration": 6,
    "start_time": "2022-02-08T00:47:42.904Z"
   },
   {
    "duration": 332,
    "start_time": "2022-02-08T00:47:42.913Z"
   },
   {
    "duration": 685,
    "start_time": "2022-02-08T00:47:43.248Z"
   },
   {
    "duration": 593,
    "start_time": "2022-02-08T00:47:43.936Z"
   },
   {
    "duration": 300,
    "start_time": "2022-02-08T00:47:44.532Z"
   },
   {
    "duration": 16,
    "start_time": "2022-02-08T00:47:44.834Z"
   },
   {
    "duration": 8,
    "start_time": "2022-02-08T00:47:44.852Z"
   },
   {
    "duration": 13,
    "start_time": "2022-02-08T00:47:44.862Z"
   },
   {
    "duration": 7,
    "start_time": "2022-02-08T00:47:44.877Z"
   },
   {
    "duration": 64,
    "start_time": "2022-02-08T00:47:44.886Z"
   },
   {
    "duration": 2237,
    "start_time": "2022-02-08T00:47:44.952Z"
   },
   {
    "duration": 11,
    "start_time": "2022-02-08T00:47:47.191Z"
   },
   {
    "duration": 14,
    "start_time": "2022-02-08T00:47:47.205Z"
   },
   {
    "duration": 37,
    "start_time": "2022-02-08T00:47:47.249Z"
   },
   {
    "duration": 9,
    "start_time": "2022-02-08T00:47:47.289Z"
   },
   {
    "duration": 10,
    "start_time": "2022-02-08T00:47:47.301Z"
   },
   {
    "duration": 51,
    "start_time": "2022-02-08T00:47:47.314Z"
   },
   {
    "duration": 46,
    "start_time": "2022-02-08T00:47:47.368Z"
   },
   {
    "duration": 40,
    "start_time": "2022-02-08T00:47:47.417Z"
   },
   {
    "duration": 3,
    "start_time": "2022-02-08T00:47:47.460Z"
   },
   {
    "duration": 8,
    "start_time": "2022-02-08T00:47:47.466Z"
   },
   {
    "duration": 15,
    "start_time": "2022-02-08T00:47:47.476Z"
   },
   {
    "duration": 16,
    "start_time": "2022-02-08T00:47:47.493Z"
   },
   {
    "duration": 40,
    "start_time": "2022-02-08T00:47:47.512Z"
   },
   {
    "duration": 29,
    "start_time": "2022-02-08T00:47:47.554Z"
   },
   {
    "duration": 15,
    "start_time": "2022-02-08T00:47:47.586Z"
   },
   {
    "duration": 59,
    "start_time": "2022-02-08T00:47:47.603Z"
   },
   {
    "duration": 25,
    "start_time": "2022-02-08T00:47:47.664Z"
   },
   {
    "duration": 12,
    "start_time": "2022-02-08T00:47:47.691Z"
   },
   {
    "duration": 12,
    "start_time": "2022-02-08T00:47:47.705Z"
   },
   {
    "duration": 42,
    "start_time": "2022-02-08T00:47:47.749Z"
   },
   {
    "duration": 19,
    "start_time": "2022-02-08T00:47:47.794Z"
   },
   {
    "duration": 48,
    "start_time": "2022-02-08T00:47:47.816Z"
   },
   {
    "duration": 16,
    "start_time": "2022-02-08T00:47:47.866Z"
   },
   {
    "duration": 72,
    "start_time": "2022-02-08T00:47:47.884Z"
   },
   {
    "duration": 13,
    "start_time": "2022-02-08T00:47:47.958Z"
   },
   {
    "duration": 6,
    "start_time": "2022-02-08T00:47:47.973Z"
   },
   {
    "duration": 12,
    "start_time": "2022-02-08T00:47:47.981Z"
   },
   {
    "duration": 9,
    "start_time": "2022-02-08T00:47:47.995Z"
   },
   {
    "duration": 45,
    "start_time": "2022-02-08T00:47:48.006Z"
   },
   {
    "duration": 26,
    "start_time": "2022-02-08T00:47:48.054Z"
   },
   {
    "duration": 9,
    "start_time": "2022-02-08T00:47:48.083Z"
   },
   {
    "duration": 9,
    "start_time": "2022-02-08T00:47:48.101Z"
   },
   {
    "duration": 36,
    "start_time": "2022-02-08T00:47:48.113Z"
   },
   {
    "duration": 11,
    "start_time": "2022-02-08T00:47:48.151Z"
   },
   {
    "duration": 11,
    "start_time": "2022-02-08T00:47:48.164Z"
   },
   {
    "duration": 20,
    "start_time": "2022-02-08T00:47:48.177Z"
   },
   {
    "duration": 16,
    "start_time": "2022-02-08T00:47:48.199Z"
   },
   {
    "duration": 8,
    "start_time": "2022-02-08T00:47:48.217Z"
   },
   {
    "duration": 28,
    "start_time": "2022-02-08T00:47:48.227Z"
   },
   {
    "duration": 35,
    "start_time": "2022-02-08T00:47:48.257Z"
   },
   {
    "duration": 8,
    "start_time": "2022-02-08T00:47:48.295Z"
   },
   {
    "duration": 52,
    "start_time": "2022-02-08T00:47:48.305Z"
   },
   {
    "duration": 19,
    "start_time": "2022-02-08T00:47:48.359Z"
   },
   {
    "duration": 4,
    "start_time": "2022-02-08T00:47:48.381Z"
   },
   {
    "duration": 15,
    "start_time": "2022-02-08T00:47:48.387Z"
   },
   {
    "duration": 72,
    "start_time": "2022-02-08T00:47:48.404Z"
   },
   {
    "duration": 20,
    "start_time": "2022-02-08T00:47:48.478Z"
   },
   {
    "duration": 9,
    "start_time": "2022-02-08T00:47:48.501Z"
   },
   {
    "duration": 44,
    "start_time": "2022-02-08T00:47:48.512Z"
   },
   {
    "duration": 9,
    "start_time": "2022-02-08T00:47:48.558Z"
   },
   {
    "duration": 633,
    "start_time": "2022-02-08T00:47:48.569Z"
   },
   {
    "duration": 6,
    "start_time": "2022-02-08T00:47:49.204Z"
   },
   {
    "duration": 9,
    "start_time": "2022-02-08T00:47:49.212Z"
   },
   {
    "duration": 34,
    "start_time": "2022-02-08T00:47:49.224Z"
   },
   {
    "duration": 24,
    "start_time": "2022-02-08T00:47:49.260Z"
   },
   {
    "duration": 9,
    "start_time": "2022-02-08T00:47:49.286Z"
   },
   {
    "duration": 603,
    "start_time": "2022-02-08T00:47:49.297Z"
   },
   {
    "duration": 6,
    "start_time": "2022-02-08T00:47:49.902Z"
   },
   {
    "duration": 7,
    "start_time": "2022-02-08T00:47:49.910Z"
   },
   {
    "duration": 40,
    "start_time": "2022-02-08T00:47:49.920Z"
   },
   {
    "duration": 19,
    "start_time": "2022-02-08T00:47:49.963Z"
   },
   {
    "duration": 8,
    "start_time": "2022-02-08T00:47:49.985Z"
   },
   {
    "duration": 590,
    "start_time": "2022-02-08T00:47:49.996Z"
   },
   {
    "duration": 7,
    "start_time": "2022-02-08T00:47:50.589Z"
   },
   {
    "duration": 8,
    "start_time": "2022-02-08T00:47:50.598Z"
   },
   {
    "duration": 21,
    "start_time": "2022-02-08T00:47:50.609Z"
   },
   {
    "duration": 29,
    "start_time": "2022-02-08T00:47:50.632Z"
   },
   {
    "duration": 9,
    "start_time": "2022-02-08T00:47:50.663Z"
   },
   {
    "duration": 650,
    "start_time": "2022-02-08T00:47:50.674Z"
   },
   {
    "duration": 7,
    "start_time": "2022-02-08T00:47:51.327Z"
   },
   {
    "duration": 15,
    "start_time": "2022-02-08T00:47:51.336Z"
   },
   {
    "duration": 13,
    "start_time": "2022-02-08T00:47:51.354Z"
   },
   {
    "duration": 1113,
    "start_time": "2022-02-13T13:10:23.600Z"
   },
   {
    "duration": 14,
    "start_time": "2022-02-13T13:10:24.715Z"
   },
   {
    "duration": 19,
    "start_time": "2022-02-13T13:10:24.731Z"
   },
   {
    "duration": 14,
    "start_time": "2022-02-13T13:10:24.752Z"
   },
   {
    "duration": 8,
    "start_time": "2022-02-13T13:10:24.768Z"
   },
   {
    "duration": 199,
    "start_time": "2022-02-13T13:10:24.778Z"
   },
   {
    "duration": 206,
    "start_time": "2022-02-13T13:10:24.978Z"
   },
   {
    "duration": 10,
    "start_time": "2022-02-13T13:10:25.186Z"
   },
   {
    "duration": 10,
    "start_time": "2022-02-13T13:10:25.197Z"
   },
   {
    "duration": 7,
    "start_time": "2022-02-13T13:10:25.208Z"
   },
   {
    "duration": 10,
    "start_time": "2022-02-13T13:10:25.216Z"
   },
   {
    "duration": 32,
    "start_time": "2022-02-13T13:10:25.228Z"
   },
   {
    "duration": 329,
    "start_time": "2022-02-13T13:10:25.262Z"
   },
   {
    "duration": 4,
    "start_time": "2022-02-13T13:10:25.592Z"
   },
   {
    "duration": 9,
    "start_time": "2022-02-13T13:10:25.598Z"
   },
   {
    "duration": 21,
    "start_time": "2022-02-13T13:10:25.609Z"
   },
   {
    "duration": 7,
    "start_time": "2022-02-13T13:10:25.632Z"
   },
   {
    "duration": 31,
    "start_time": "2022-02-13T13:10:25.641Z"
   },
   {
    "duration": 9,
    "start_time": "2022-02-13T13:10:25.673Z"
   },
   {
    "duration": 1609,
    "start_time": "2022-02-13T13:10:25.683Z"
   },
   {
    "duration": 25,
    "start_time": "2022-02-13T13:10:27.293Z"
   },
   {
    "duration": 6,
    "start_time": "2022-02-13T13:10:27.320Z"
   },
   {
    "duration": 208,
    "start_time": "2022-02-13T13:10:27.329Z"
   },
   {
    "duration": 800,
    "start_time": "2022-02-13T13:10:27.541Z"
   },
   {
    "duration": 16,
    "start_time": "2022-02-13T13:10:28.343Z"
   },
   {
    "duration": 6,
    "start_time": "2022-02-13T13:10:28.360Z"
   },
   {
    "duration": 204,
    "start_time": "2022-02-13T13:10:28.367Z"
   },
   {
    "duration": 394,
    "start_time": "2022-02-13T13:10:28.573Z"
   },
   {
    "duration": 444,
    "start_time": "2022-02-13T13:10:28.969Z"
   },
   {
    "duration": 210,
    "start_time": "2022-02-13T13:10:29.415Z"
   },
   {
    "duration": 7,
    "start_time": "2022-02-13T13:10:29.627Z"
   },
   {
    "duration": 8,
    "start_time": "2022-02-13T13:10:29.636Z"
   },
   {
    "duration": 8,
    "start_time": "2022-02-13T13:10:29.659Z"
   },
   {
    "duration": 7,
    "start_time": "2022-02-13T13:10:29.669Z"
   },
   {
    "duration": 33,
    "start_time": "2022-02-13T13:10:29.678Z"
   },
   {
    "duration": 1755,
    "start_time": "2022-02-13T13:10:29.713Z"
   },
   {
    "duration": 8,
    "start_time": "2022-02-13T13:10:31.470Z"
   },
   {
    "duration": 27,
    "start_time": "2022-02-13T13:10:31.480Z"
   },
   {
    "duration": 20,
    "start_time": "2022-02-13T13:10:31.509Z"
   },
   {
    "duration": 6,
    "start_time": "2022-02-13T13:10:31.531Z"
   },
   {
    "duration": 25,
    "start_time": "2022-02-13T13:10:31.539Z"
   },
   {
    "duration": 23,
    "start_time": "2022-02-13T13:10:31.566Z"
   },
   {
    "duration": 32,
    "start_time": "2022-02-13T13:10:31.591Z"
   },
   {
    "duration": 8,
    "start_time": "2022-02-13T13:10:31.625Z"
   },
   {
    "duration": 5,
    "start_time": "2022-02-13T13:10:31.635Z"
   },
   {
    "duration": 17,
    "start_time": "2022-02-13T13:10:31.642Z"
   },
   {
    "duration": 14,
    "start_time": "2022-02-13T13:10:31.661Z"
   },
   {
    "duration": 35,
    "start_time": "2022-02-13T13:10:31.677Z"
   },
   {
    "duration": 12,
    "start_time": "2022-02-13T13:10:31.714Z"
   },
   {
    "duration": 30,
    "start_time": "2022-02-13T13:10:31.728Z"
   },
   {
    "duration": 12,
    "start_time": "2022-02-13T13:10:31.759Z"
   },
   {
    "duration": 23,
    "start_time": "2022-02-13T13:10:31.773Z"
   },
   {
    "duration": 17,
    "start_time": "2022-02-13T13:10:31.797Z"
   },
   {
    "duration": 29,
    "start_time": "2022-02-13T13:10:31.816Z"
   },
   {
    "duration": 14,
    "start_time": "2022-02-13T13:10:31.847Z"
   },
   {
    "duration": 45,
    "start_time": "2022-02-13T13:10:31.863Z"
   },
   {
    "duration": 9,
    "start_time": "2022-02-13T13:10:31.909Z"
   },
   {
    "duration": 14,
    "start_time": "2022-02-13T13:10:31.920Z"
   },
   {
    "duration": 17,
    "start_time": "2022-02-13T13:10:31.936Z"
   },
   {
    "duration": 32,
    "start_time": "2022-02-13T13:10:31.955Z"
   },
   {
    "duration": 13,
    "start_time": "2022-02-13T13:10:31.989Z"
   },
   {
    "duration": 12,
    "start_time": "2022-02-13T13:10:32.004Z"
   },
   {
    "duration": 23,
    "start_time": "2022-02-13T13:10:32.018Z"
   },
   {
    "duration": 8,
    "start_time": "2022-02-13T13:10:32.043Z"
   },
   {
    "duration": 10,
    "start_time": "2022-02-13T13:10:32.052Z"
   },
   {
    "duration": 17,
    "start_time": "2022-02-13T13:10:32.064Z"
   },
   {
    "duration": 6,
    "start_time": "2022-02-13T13:10:32.083Z"
   },
   {
    "duration": 16,
    "start_time": "2022-02-13T13:10:32.094Z"
   },
   {
    "duration": 12,
    "start_time": "2022-02-13T13:10:32.112Z"
   },
   {
    "duration": 12,
    "start_time": "2022-02-13T13:10:32.126Z"
   },
   {
    "duration": 10,
    "start_time": "2022-02-13T13:10:32.140Z"
   },
   {
    "duration": 9,
    "start_time": "2022-02-13T13:10:32.152Z"
   },
   {
    "duration": 11,
    "start_time": "2022-02-13T13:10:32.163Z"
   },
   {
    "duration": 6,
    "start_time": "2022-02-13T13:10:32.175Z"
   },
   {
    "duration": 16,
    "start_time": "2022-02-13T13:10:32.183Z"
   },
   {
    "duration": 22,
    "start_time": "2022-02-13T13:10:32.201Z"
   },
   {
    "duration": 18,
    "start_time": "2022-02-13T13:10:32.225Z"
   },
   {
    "duration": 25,
    "start_time": "2022-02-13T13:10:32.244Z"
   },
   {
    "duration": 15,
    "start_time": "2022-02-13T13:10:32.270Z"
   },
   {
    "duration": 2,
    "start_time": "2022-02-13T13:10:32.287Z"
   },
   {
    "duration": 11,
    "start_time": "2022-02-13T13:10:32.291Z"
   },
   {
    "duration": 26,
    "start_time": "2022-02-13T13:10:32.304Z"
   },
   {
    "duration": 36,
    "start_time": "2022-02-13T13:10:32.332Z"
   },
   {
    "duration": 6,
    "start_time": "2022-02-13T13:10:32.370Z"
   },
   {
    "duration": 13,
    "start_time": "2022-02-13T13:10:32.378Z"
   },
   {
    "duration": 7,
    "start_time": "2022-02-13T13:10:32.393Z"
   },
   {
    "duration": 424,
    "start_time": "2022-02-13T13:10:32.401Z"
   },
   {
    "duration": 4,
    "start_time": "2022-02-13T13:10:32.828Z"
   },
   {
    "duration": 10,
    "start_time": "2022-02-13T13:10:32.834Z"
   },
   {
    "duration": 20,
    "start_time": "2022-02-13T13:10:32.846Z"
   },
   {
    "duration": 21,
    "start_time": "2022-02-13T13:10:32.868Z"
   },
   {
    "duration": 8,
    "start_time": "2022-02-13T13:10:32.892Z"
   },
   {
    "duration": 415,
    "start_time": "2022-02-13T13:10:32.901Z"
   },
   {
    "duration": 4,
    "start_time": "2022-02-13T13:10:33.317Z"
   },
   {
    "duration": 14,
    "start_time": "2022-02-13T13:10:33.323Z"
   },
   {
    "duration": 10,
    "start_time": "2022-02-13T13:10:33.339Z"
   },
   {
    "duration": 19,
    "start_time": "2022-02-13T13:10:33.351Z"
   },
   {
    "duration": 16,
    "start_time": "2022-02-13T13:10:33.372Z"
   },
   {
    "duration": 356,
    "start_time": "2022-02-13T13:10:33.390Z"
   },
   {
    "duration": 4,
    "start_time": "2022-02-13T13:10:33.747Z"
   },
   {
    "duration": 5,
    "start_time": "2022-02-13T13:10:33.758Z"
   },
   {
    "duration": 13,
    "start_time": "2022-02-13T13:10:33.764Z"
   },
   {
    "duration": 11,
    "start_time": "2022-02-13T13:10:33.778Z"
   },
   {
    "duration": 8,
    "start_time": "2022-02-13T13:10:33.790Z"
   },
   {
    "duration": 519,
    "start_time": "2022-02-13T13:10:33.799Z"
   },
   {
    "duration": 4,
    "start_time": "2022-02-13T13:10:34.320Z"
   },
   {
    "duration": 13,
    "start_time": "2022-02-13T13:10:34.326Z"
   },
   {
    "duration": 14,
    "start_time": "2022-02-13T13:10:34.341Z"
   }
  ],
  "kernelspec": {
   "display_name": "Python 3 (ipykernel)",
   "language": "python",
   "name": "python3"
  },
  "language_info": {
   "codemirror_mode": {
    "name": "ipython",
    "version": 3
   },
   "file_extension": ".py",
   "mimetype": "text/x-python",
   "name": "python",
   "nbconvert_exporter": "python",
   "pygments_lexer": "ipython3",
   "version": "3.9.12"
  },
  "toc": {
   "base_numbering": 1,
   "nav_menu": {},
   "number_sections": true,
   "sideBar": true,
   "skip_h1_title": true,
   "title_cell": "Table of Contents",
   "title_sidebar": "Contents",
   "toc_cell": false,
   "toc_position": {
    "height": "calc(100% - 180px)",
    "left": "10px",
    "top": "150px",
    "width": "433.275px"
   },
   "toc_section_display": true,
   "toc_window_display": false
  }
 },
 "nbformat": 4,
 "nbformat_minor": 5
}

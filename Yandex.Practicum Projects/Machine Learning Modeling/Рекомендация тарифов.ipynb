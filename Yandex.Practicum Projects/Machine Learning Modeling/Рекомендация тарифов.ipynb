{
 "cells": [
  {
   "cell_type": "markdown",
   "id": "889adfe2",
   "metadata": {},
   "source": [
    "# Модель для «Мегалайна»"
   ]
  },
  {
   "cell_type": "markdown",
   "id": "64bfee84",
   "metadata": {},
   "source": [
    "Цель проекта — построить модель для задачи классификации с максимальной `accuracy` не ниже 0,75, которая по информации о поведении пользователя за месяц (числу и длительности звонков, числу СМС и Мб трафика) подберет ему подходящий тариф «Смарт» или «Ультра»."
   ]
  },
  {
   "cell_type": "markdown",
   "id": "cc45f48b",
   "metadata": {
    "toc": true
   },
   "source": [
    "<h1>Содержание<span class=\"tocSkip\"></span></h1>\n",
    "<div class=\"toc\"><ul class=\"toc-item\"><li><span><a href=\"#Загрузка-исходных-данных\" data-toc-modified-id=\"Загрузка-исходных-данных-1\"><span class=\"toc-item-num\">1&nbsp;&nbsp;</span>Загрузка исходных данных</a></span></li><li><span><a href=\"#Подготовка-к-моделированию\" data-toc-modified-id=\"Подготовка-к-моделированию-2\"><span class=\"toc-item-num\">2&nbsp;&nbsp;</span>Подготовка к моделированию</a></span></li><li><span><a href=\"#Моделирование\" data-toc-modified-id=\"Моделирование-3\"><span class=\"toc-item-num\">3&nbsp;&nbsp;</span>Моделирование</a></span><ul class=\"toc-item\"><li><span><a href=\"#Дерево-решений\" data-toc-modified-id=\"Дерево-решений-3.1\"><span class=\"toc-item-num\">3.1&nbsp;&nbsp;</span>Дерево решений</a></span></li><li><span><a href=\"#Случайный-лес\" data-toc-modified-id=\"Случайный-лес-3.2\"><span class=\"toc-item-num\">3.2&nbsp;&nbsp;</span>Случайный лес</a></span></li><li><span><a href=\"#Логистическая-регрессия\" data-toc-modified-id=\"Логистическая-регрессия-3.3\"><span class=\"toc-item-num\">3.3&nbsp;&nbsp;</span>Логистическая регрессия</a></span></li><li><span><a href=\"#CatBoost-как-бенчмарк\" data-toc-modified-id=\"CatBoost-как-бенчмарк-3.4\"><span class=\"toc-item-num\">3.4&nbsp;&nbsp;</span>CatBoost как бенчмарк</a></span></li></ul></li><li><span><a href=\"#Выбор-лучшей-модели\" data-toc-modified-id=\"Выбор-лучшей-модели-4\"><span class=\"toc-item-num\">4&nbsp;&nbsp;</span>Выбор лучшей модели</a></span></li><li><span><a href=\"#Dummy-тест\" data-toc-modified-id=\"Dummy-тест-5\"><span class=\"toc-item-num\">5&nbsp;&nbsp;</span>Dummy-тест</a></span></li><li><span><a href=\"#Выводы\" data-toc-modified-id=\"Выводы-6\"><span class=\"toc-item-num\">6&nbsp;&nbsp;</span>Выводы</a></span></li></ul></div>"
   ]
  },
  {
   "cell_type": "markdown",
   "id": "a152cd70",
   "metadata": {},
   "source": [
    "## Загрузка исходных данных"
   ]
  },
  {
   "cell_type": "markdown",
   "id": "2da335d9",
   "metadata": {},
   "source": [
    "Подключим необходимые модули и зафиксируем `random_state`."
   ]
  },
  {
   "cell_type": "code",
   "execution_count": 1,
   "id": "7f2ad54d",
   "metadata": {},
   "outputs": [],
   "source": [
    "import numpy as np\n",
    "import pandas as pd\n",
    "import seaborn as sns\n",
    "import matplotlib.pyplot as plt\n",
    "\n",
    "from sklearn.model_selection import train_test_split\n",
    "from sklearn.tree import DecisionTreeClassifier\n",
    "from sklearn.ensemble import RandomForestClassifier\n",
    "from sklearn.linear_model import LogisticRegression\n",
    "from sklearn.metrics import accuracy_score\n",
    "from catboost import CatBoostClassifier\n",
    "from time import time\n",
    "\n",
    "rs = 22221111 # кастомный random_state, использующийся в проекте"
   ]
  },
  {
   "cell_type": "markdown",
   "id": "41b631a4",
   "metadata": {},
   "source": [
    "Загрузим данные и взглянем на них."
   ]
  },
  {
   "cell_type": "code",
   "execution_count": 2,
   "id": "36717411",
   "metadata": {},
   "outputs": [],
   "source": [
    "df = pd.read_csv(\"/datasets/users_behavior.csv\")"
   ]
  },
  {
   "cell_type": "code",
   "execution_count": 3,
   "id": "ed60e167",
   "metadata": {},
   "outputs": [
    {
     "data": {
      "text/html": [
       "<div>\n",
       "<style scoped>\n",
       "    .dataframe tbody tr th:only-of-type {\n",
       "        vertical-align: middle;\n",
       "    }\n",
       "\n",
       "    .dataframe tbody tr th {\n",
       "        vertical-align: top;\n",
       "    }\n",
       "\n",
       "    .dataframe thead th {\n",
       "        text-align: right;\n",
       "    }\n",
       "</style>\n",
       "<table border=\"1\" class=\"dataframe\">\n",
       "  <thead>\n",
       "    <tr style=\"text-align: right;\">\n",
       "      <th></th>\n",
       "      <th>calls</th>\n",
       "      <th>minutes</th>\n",
       "      <th>messages</th>\n",
       "      <th>mb_used</th>\n",
       "      <th>is_ultra</th>\n",
       "    </tr>\n",
       "  </thead>\n",
       "  <tbody>\n",
       "    <tr>\n",
       "      <th>0</th>\n",
       "      <td>40.0</td>\n",
       "      <td>311.90</td>\n",
       "      <td>83.0</td>\n",
       "      <td>19915.42</td>\n",
       "      <td>0</td>\n",
       "    </tr>\n",
       "    <tr>\n",
       "      <th>1</th>\n",
       "      <td>85.0</td>\n",
       "      <td>516.75</td>\n",
       "      <td>56.0</td>\n",
       "      <td>22696.96</td>\n",
       "      <td>0</td>\n",
       "    </tr>\n",
       "    <tr>\n",
       "      <th>2</th>\n",
       "      <td>77.0</td>\n",
       "      <td>467.66</td>\n",
       "      <td>86.0</td>\n",
       "      <td>21060.45</td>\n",
       "      <td>0</td>\n",
       "    </tr>\n",
       "    <tr>\n",
       "      <th>3</th>\n",
       "      <td>106.0</td>\n",
       "      <td>745.53</td>\n",
       "      <td>81.0</td>\n",
       "      <td>8437.39</td>\n",
       "      <td>1</td>\n",
       "    </tr>\n",
       "    <tr>\n",
       "      <th>4</th>\n",
       "      <td>66.0</td>\n",
       "      <td>418.74</td>\n",
       "      <td>1.0</td>\n",
       "      <td>14502.75</td>\n",
       "      <td>0</td>\n",
       "    </tr>\n",
       "    <tr>\n",
       "      <th>...</th>\n",
       "      <td>...</td>\n",
       "      <td>...</td>\n",
       "      <td>...</td>\n",
       "      <td>...</td>\n",
       "      <td>...</td>\n",
       "    </tr>\n",
       "    <tr>\n",
       "      <th>3209</th>\n",
       "      <td>122.0</td>\n",
       "      <td>910.98</td>\n",
       "      <td>20.0</td>\n",
       "      <td>35124.90</td>\n",
       "      <td>1</td>\n",
       "    </tr>\n",
       "    <tr>\n",
       "      <th>3210</th>\n",
       "      <td>25.0</td>\n",
       "      <td>190.36</td>\n",
       "      <td>0.0</td>\n",
       "      <td>3275.61</td>\n",
       "      <td>0</td>\n",
       "    </tr>\n",
       "    <tr>\n",
       "      <th>3211</th>\n",
       "      <td>97.0</td>\n",
       "      <td>634.44</td>\n",
       "      <td>70.0</td>\n",
       "      <td>13974.06</td>\n",
       "      <td>0</td>\n",
       "    </tr>\n",
       "    <tr>\n",
       "      <th>3212</th>\n",
       "      <td>64.0</td>\n",
       "      <td>462.32</td>\n",
       "      <td>90.0</td>\n",
       "      <td>31239.78</td>\n",
       "      <td>0</td>\n",
       "    </tr>\n",
       "    <tr>\n",
       "      <th>3213</th>\n",
       "      <td>80.0</td>\n",
       "      <td>566.09</td>\n",
       "      <td>6.0</td>\n",
       "      <td>29480.52</td>\n",
       "      <td>1</td>\n",
       "    </tr>\n",
       "  </tbody>\n",
       "</table>\n",
       "<p>3214 rows × 5 columns</p>\n",
       "</div>"
      ],
      "text/plain": [
       "      calls  minutes  messages   mb_used  is_ultra\n",
       "0      40.0   311.90      83.0  19915.42         0\n",
       "1      85.0   516.75      56.0  22696.96         0\n",
       "2      77.0   467.66      86.0  21060.45         0\n",
       "3     106.0   745.53      81.0   8437.39         1\n",
       "4      66.0   418.74       1.0  14502.75         0\n",
       "...     ...      ...       ...       ...       ...\n",
       "3209  122.0   910.98      20.0  35124.90         1\n",
       "3210   25.0   190.36       0.0   3275.61         0\n",
       "3211   97.0   634.44      70.0  13974.06         0\n",
       "3212   64.0   462.32      90.0  31239.78         0\n",
       "3213   80.0   566.09       6.0  29480.52         1\n",
       "\n",
       "[3214 rows x 5 columns]"
      ]
     },
     "metadata": {},
     "output_type": "display_data"
    },
    {
     "name": "stdout",
     "output_type": "stream",
     "text": [
      "<class 'pandas.core.frame.DataFrame'>\n",
      "RangeIndex: 3214 entries, 0 to 3213\n",
      "Data columns (total 5 columns):\n",
      " #   Column    Non-Null Count  Dtype  \n",
      "---  ------    --------------  -----  \n",
      " 0   calls     3214 non-null   float64\n",
      " 1   minutes   3214 non-null   float64\n",
      " 2   messages  3214 non-null   float64\n",
      " 3   mb_used   3214 non-null   float64\n",
      " 4   is_ultra  3214 non-null   int64  \n",
      "dtypes: float64(4), int64(1)\n",
      "memory usage: 125.7 KB\n"
     ]
    }
   ],
   "source": [
    "display(df)\n",
    "df.info()"
   ]
  },
  {
   "cell_type": "markdown",
   "id": "73c53dbb",
   "metadata": {},
   "source": [
    "Пропусков нет. Все фичи сохранены как `float64`, а бинарный таргет как `int64`. Но звонки и СМС целые по природе, а знаки после запятой у минут и Мб вряд ли будут полезными для модели. Сэкономим память и повысим скорость обработки датасета, округлив минуты и Мб и приведя все столбцы к минимальному беззнаковому целочисленному типу. "
   ]
  },
  {
   "cell_type": "code",
   "execution_count": 4,
   "id": "0c3f2aea",
   "metadata": {},
   "outputs": [],
   "source": [
    "df = df.round().apply(pd.to_numeric, downcast='unsigned')"
   ]
  },
  {
   "cell_type": "code",
   "execution_count": 5,
   "id": "bb75576f",
   "metadata": {},
   "outputs": [
    {
     "data": {
      "text/html": [
       "<div>\n",
       "<style scoped>\n",
       "    .dataframe tbody tr th:only-of-type {\n",
       "        vertical-align: middle;\n",
       "    }\n",
       "\n",
       "    .dataframe tbody tr th {\n",
       "        vertical-align: top;\n",
       "    }\n",
       "\n",
       "    .dataframe thead th {\n",
       "        text-align: right;\n",
       "    }\n",
       "</style>\n",
       "<table border=\"1\" class=\"dataframe\">\n",
       "  <thead>\n",
       "    <tr style=\"text-align: right;\">\n",
       "      <th></th>\n",
       "      <th>calls</th>\n",
       "      <th>minutes</th>\n",
       "      <th>messages</th>\n",
       "      <th>mb_used</th>\n",
       "      <th>is_ultra</th>\n",
       "    </tr>\n",
       "  </thead>\n",
       "  <tbody>\n",
       "    <tr>\n",
       "      <th>0</th>\n",
       "      <td>40</td>\n",
       "      <td>312</td>\n",
       "      <td>83</td>\n",
       "      <td>19915</td>\n",
       "      <td>0</td>\n",
       "    </tr>\n",
       "    <tr>\n",
       "      <th>1</th>\n",
       "      <td>85</td>\n",
       "      <td>517</td>\n",
       "      <td>56</td>\n",
       "      <td>22697</td>\n",
       "      <td>0</td>\n",
       "    </tr>\n",
       "    <tr>\n",
       "      <th>2</th>\n",
       "      <td>77</td>\n",
       "      <td>468</td>\n",
       "      <td>86</td>\n",
       "      <td>21060</td>\n",
       "      <td>0</td>\n",
       "    </tr>\n",
       "    <tr>\n",
       "      <th>3</th>\n",
       "      <td>106</td>\n",
       "      <td>746</td>\n",
       "      <td>81</td>\n",
       "      <td>8437</td>\n",
       "      <td>1</td>\n",
       "    </tr>\n",
       "    <tr>\n",
       "      <th>4</th>\n",
       "      <td>66</td>\n",
       "      <td>419</td>\n",
       "      <td>1</td>\n",
       "      <td>14503</td>\n",
       "      <td>0</td>\n",
       "    </tr>\n",
       "    <tr>\n",
       "      <th>...</th>\n",
       "      <td>...</td>\n",
       "      <td>...</td>\n",
       "      <td>...</td>\n",
       "      <td>...</td>\n",
       "      <td>...</td>\n",
       "    </tr>\n",
       "    <tr>\n",
       "      <th>3209</th>\n",
       "      <td>122</td>\n",
       "      <td>911</td>\n",
       "      <td>20</td>\n",
       "      <td>35125</td>\n",
       "      <td>1</td>\n",
       "    </tr>\n",
       "    <tr>\n",
       "      <th>3210</th>\n",
       "      <td>25</td>\n",
       "      <td>190</td>\n",
       "      <td>0</td>\n",
       "      <td>3276</td>\n",
       "      <td>0</td>\n",
       "    </tr>\n",
       "    <tr>\n",
       "      <th>3211</th>\n",
       "      <td>97</td>\n",
       "      <td>634</td>\n",
       "      <td>70</td>\n",
       "      <td>13974</td>\n",
       "      <td>0</td>\n",
       "    </tr>\n",
       "    <tr>\n",
       "      <th>3212</th>\n",
       "      <td>64</td>\n",
       "      <td>462</td>\n",
       "      <td>90</td>\n",
       "      <td>31240</td>\n",
       "      <td>0</td>\n",
       "    </tr>\n",
       "    <tr>\n",
       "      <th>3213</th>\n",
       "      <td>80</td>\n",
       "      <td>566</td>\n",
       "      <td>6</td>\n",
       "      <td>29481</td>\n",
       "      <td>1</td>\n",
       "    </tr>\n",
       "  </tbody>\n",
       "</table>\n",
       "<p>3214 rows × 5 columns</p>\n",
       "</div>"
      ],
      "text/plain": [
       "      calls  minutes  messages  mb_used  is_ultra\n",
       "0        40      312        83    19915         0\n",
       "1        85      517        56    22697         0\n",
       "2        77      468        86    21060         0\n",
       "3       106      746        81     8437         1\n",
       "4        66      419         1    14503         0\n",
       "...     ...      ...       ...      ...       ...\n",
       "3209    122      911        20    35125         1\n",
       "3210     25      190         0     3276         0\n",
       "3211     97      634        70    13974         0\n",
       "3212     64      462        90    31240         0\n",
       "3213     80      566         6    29481         1\n",
       "\n",
       "[3214 rows x 5 columns]"
      ]
     },
     "metadata": {},
     "output_type": "display_data"
    },
    {
     "name": "stdout",
     "output_type": "stream",
     "text": [
      "<class 'pandas.core.frame.DataFrame'>\n",
      "RangeIndex: 3214 entries, 0 to 3213\n",
      "Data columns (total 5 columns):\n",
      " #   Column    Non-Null Count  Dtype \n",
      "---  ------    --------------  ----- \n",
      " 0   calls     3214 non-null   uint8 \n",
      " 1   minutes   3214 non-null   uint16\n",
      " 2   messages  3214 non-null   uint8 \n",
      " 3   mb_used   3214 non-null   uint16\n",
      " 4   is_ultra  3214 non-null   uint8 \n",
      "dtypes: uint16(2), uint8(3)\n",
      "memory usage: 22.1 KB\n"
     ]
    }
   ],
   "source": [
    "display(df)\n",
    "df.info()"
   ]
  },
  {
   "cell_type": "markdown",
   "id": "5e1195a0",
   "metadata": {},
   "source": [
    "Другое дело :) Проверим, не появились ли полные дубли после округления."
   ]
  },
  {
   "cell_type": "code",
   "execution_count": 6,
   "id": "4ef7bd3b",
   "metadata": {},
   "outputs": [
    {
     "data": {
      "text/plain": [
       "0"
      ]
     },
     "execution_count": 6,
     "metadata": {},
     "output_type": "execute_result"
    }
   ],
   "source": [
    "df.duplicated().sum()"
   ]
  },
  {
   "cell_type": "markdown",
   "id": "3e80ed80",
   "metadata": {},
   "source": [
    "Не появились — приступаем к подготовке данных для моделирования."
   ]
  },
  {
   "cell_type": "markdown",
   "id": "138177f6",
   "metadata": {},
   "source": [
    "## Подготовка к моделированию"
   ]
  },
  {
   "cell_type": "markdown",
   "id": "a7d70ea9",
   "metadata": {},
   "source": [
    "Разделим датасет на обучающую, валидационную и тестовую выборки в каноничной пропорции 3:1:1."
   ]
  },
  {
   "cell_type": "code",
   "execution_count": 7,
   "id": "c6e8e4e0",
   "metadata": {},
   "outputs": [],
   "source": [
    "(df_train, df_valid_test) = train_test_split(df, test_size=.4, random_state=rs)\n",
    "(df_valid, df_test) = train_test_split(df_valid_test, test_size=.5, random_state=rs)"
   ]
  },
  {
   "cell_type": "code",
   "execution_count": 8,
   "id": "944fc248",
   "metadata": {},
   "outputs": [
    {
     "name": "stdout",
     "output_type": "stream",
     "text": [
      "(1928, 5)\n",
      "(643, 5)\n",
      "(643, 5)\n"
     ]
    }
   ],
   "source": [
    "print(df_train.shape)\n",
    "print(df_valid.shape)\n",
    "print(df_test.shape)"
   ]
  },
  {
   "cell_type": "markdown",
   "id": "ec1158af",
   "metadata": {},
   "source": [
    "Разделим каждую выборку на фичи и таргет."
   ]
  },
  {
   "cell_type": "code",
   "execution_count": 9,
   "id": "9b037f6e",
   "metadata": {},
   "outputs": [],
   "source": [
    "x_train = df_train.drop(columns='is_ultra') # фичи\n",
    "x_valid = df_valid.drop(columns='is_ultra')\n",
    "x_test = df_test.drop(columns='is_ultra')\n",
    "\n",
    "y_train = df_train['is_ultra'] # таргет\n",
    "y_valid = df_valid['is_ultra']\n",
    "y_test = df_test['is_ultra']"
   ]
  },
  {
   "cell_type": "markdown",
   "id": "f5e0c9f8",
   "metadata": {},
   "source": [
    "## Моделирование"
   ]
  },
  {
   "cell_type": "markdown",
   "id": "6fc6c766",
   "metadata": {},
   "source": [
    "### Дерево решений"
   ]
  },
  {
   "cell_type": "markdown",
   "id": "0916069b",
   "metadata": {},
   "source": [
    "Обучим семейство деревьев решений на обучающей выборке, перебирая их максимальную глубину, и выберем дерево с максимальной метрикой `accuracy` на валидационной выборке."
   ]
  },
  {
   "cell_type": "code",
   "execution_count": 10,
   "id": "17452984",
   "metadata": {},
   "outputs": [
    {
     "data": {
      "text/plain": [
       "(0.7900466562986003,\n",
       " 0.0055561065673828125,\n",
       " DecisionTreeClassifier(max_depth=4, random_state=22221111))"
      ]
     },
     "execution_count": 10,
     "metadata": {},
     "output_type": "execute_result"
    }
   ],
   "source": [
    "max_d_max = 15 # максимальное из перебираемых значений max_depth \n",
    "\n",
    "best_score = 0\n",
    "scores = [] # сюда будем сохранять accuracy каждой модели, чтобы потом нарисовать график \n",
    "times = [] # а сюда — время обучения моделей\n",
    "\n",
    "for max_d in range(1, max_d_max + 1): # перебираем максимальную глубину дерева\n",
    "    model = DecisionTreeClassifier(random_state=rs, max_depth=max_d)\n",
    "    start_time = time()\n",
    "    model.fit(x_train, y_train) # обучаем на обучающей\n",
    "    t = time() - start_time \n",
    "    times.append(t)\n",
    "    score = model.score(x_valid, y_valid) # тестируем на валидационной\n",
    "    scores.append(score)\n",
    "    if score > best_score:\n",
    "        best_score = score\n",
    "        best_time = t\n",
    "        tree = model\n",
    "\n",
    "best_score, best_time, tree"
   ]
  },
  {
   "cell_type": "markdown",
   "id": "0f71acaa",
   "metadata": {},
   "source": [
    "Посмотрим на графики."
   ]
  },
  {
   "cell_type": "code",
   "execution_count": 11,
   "id": "9933cf41",
   "metadata": {},
   "outputs": [
    {
     "data": {
      "image/png": "[encoded data removed]",
      "text/plain": [
       "<Figure size 864x432 with 2 Axes>"
      ]
     },
     "metadata": {
      "needs_background": "light"
     },
     "output_type": "display_data"
    }
   ],
   "source": [
    "fig, ax1 = plt.subplots(figsize=(12, 6));\n",
    "fig.suptitle('Decision Tree Classifier Accuracy & Fitting Time vs Max Depth', \n",
    "             fontsize='x-large', y=.93);\n",
    "\n",
    "ax2 = ax1.twinx();\n",
    "ax1.plot(range(1, max_d_max + 1), scores, 'g-');\n",
    "ax2.plot(range(1, max_d_max + 1), times, 'b-');\n",
    "\n",
    "ax1.set_xlabel('max_depth');\n",
    "ax1.set_ylabel('accuracy', color='g');\n",
    "ax2.set_ylabel('fitting time', color='b');"
   ]
  },
  {
   "cell_type": "markdown",
   "id": "babd5b33",
   "metadata": {},
   "source": [
    "Метрика `accuracy` модели на валидационной выборке растет при увеличении `max_depth` с 1 до 4, незначительно изменяется при последующем увеличении до 10 и падает при дальнейшем увеличении. Время обучения, ожидаемо, растет с увеличением `max_depth`. Лучшее дерево имеет максимальную глубину 4 и `accuracy` 0,79 на валидационной выборке."
   ]
  },
  {
   "cell_type": "markdown",
   "id": "de6db752",
   "metadata": {},
   "source": [
    "### Случайный лес"
   ]
  },
  {
   "cell_type": "markdown",
   "id": "c06ac4cb",
   "metadata": {},
   "source": [
    "Повторим то же упражнение для случайного леса с перебором максимальной глубины и числа деревьев."
   ]
  },
  {
   "cell_type": "code",
   "execution_count": 12,
   "id": "caff6fc2",
   "metadata": {},
   "outputs": [
    {
     "data": {
      "text/plain": [
       "(0.8102643856920684,\n",
       " 0.06439900398254395,\n",
       " RandomForestClassifier(max_depth=8, n_estimators=17, random_state=22221111))"
      ]
     },
     "execution_count": 12,
     "metadata": {},
     "output_type": "execute_result"
    }
   ],
   "source": [
    "max_d_max = 15 # максимальное из перебираемых значений max_depth \n",
    "n_est_max = 30 # максимальное из перебираемых значений n_estimators \n",
    "\n",
    "best_score = 0\n",
    "scores = [] # сюда будем сохранять accuracy каждой модели, чтобы потом нарисовать график\n",
    "times = [] # а сюда — время обучения моделей\n",
    "\n",
    "for n_est in range(1, n_est_max + 1): # перебираем число деревьев\n",
    "    for max_d in range(1, max_d_max + 1): # и их максимальную глубину\n",
    "        model = RandomForestClassifier(random_state=rs, max_depth=max_d, \n",
    "                                       n_estimators=n_est)\n",
    "        start_time = time()\n",
    "        model.fit(x_train, y_train) # обучаем на обучающей\n",
    "        t = time() - start_time \n",
    "        times.append(t)\n",
    "        score = model.score(x_valid, y_valid) # тестируем на валидационной\n",
    "        scores.append(score)\n",
    "        if score > best_score:\n",
    "            best_score = score\n",
    "            best_time = t\n",
    "            forest = model\n",
    "\n",
    "best_score, best_time, forest"
   ]
  },
  {
   "cell_type": "markdown",
   "id": "1bfb8fde",
   "metadata": {},
   "source": [
    "Построим тепловую карту для `accuracy`..."
   ]
  },
  {
   "cell_type": "code",
   "execution_count": 13,
   "id": "b2ed5462",
   "metadata": {},
   "outputs": [
    {
     "data": {
      "image/png": "[encoded data removed]",
      "text/plain": [
       "<Figure size 1296x720 with 2 Axes>"
      ]
     },
     "metadata": {
      "needs_background": "light"
     },
     "output_type": "display_data"
    }
   ],
   "source": [
    "plt.figure(figsize=(18, 10));\n",
    "plt.suptitle('Random Forest Classifier Accuracy vs # of Estimators & Max Depth', \n",
    "             fontsize='xx-large', x=.45, y=.95);\n",
    "\n",
    "ax = sns.heatmap(\n",
    "    np.array(scores).reshape(n_est_max, max_d_max), # превращаем список в матрицу\n",
    "    xticklabels=range(1, max_d_max + 1), \n",
    "    yticklabels=range(1, n_est_max + 1),\n",
    "    annot=True,\n",
    "    fmt=\".3f\"\n",
    ");\n",
    "ax.set(title='accuracy',\n",
    "       xlabel='max_depth',\n",
    "       ylabel='n-estimators'\n",
    ");"
   ]
  },
  {
   "cell_type": "markdown",
   "id": "2f261d6e",
   "metadata": {},
   "source": [
    "...и для времени обучения."
   ]
  },
  {
   "cell_type": "code",
   "execution_count": 14,
   "id": "93988d53",
   "metadata": {},
   "outputs": [
    {
     "data": {
      "image/png": "[encoded data removed]",
      "text/plain": [
       "<Figure size 1296x720 with 2 Axes>"
      ]
     },
     "metadata": {
      "needs_background": "light"
     },
     "output_type": "display_data"
    }
   ],
   "source": [
    "plt.figure(figsize=(18, 10));\n",
    "plt.suptitle('Random Forest Classifier Fitting Time vs # of Estimators & Max Depth', \n",
    "             fontsize='xx-large', x=.45, y=.95);\n",
    "\n",
    "ax = sns.heatmap(\n",
    "    np.array(times).reshape(n_est_max, max_d_max), # превращаем список в матрицу\n",
    "    xticklabels=range(1, max_d_max + 1), \n",
    "    yticklabels=range(1, n_est_max + 1),\n",
    "    annot=True,\n",
    "    fmt=\".3f\"\n",
    ");\n",
    "ax.set(title='fitting time',\n",
    "       xlabel='max_depth',\n",
    "       ylabel='n-estimators'\n",
    ");"
   ]
  },
  {
   "cell_type": "markdown",
   "id": "2fe8b5cf",
   "metadata": {},
   "source": [
    "Метрика `accuracy` модели на валидационной выборке наиболее высока при числе деревьев от 13 до 24 и максимальной глубине дерева от 7 до 9. Время обучения растет при увеличении как числа деревьев, так и их максимальной глубины.\n",
    "\n",
    "Лучший лес состоит из 17 деревьев с максимальной глубиной 8, имеет `accuracy` 0,81 на валидационной выборке — чуть лучше, чем у одного дерева — и обучается на порядок дольше его. "
   ]
  },
  {
   "cell_type": "markdown",
   "id": "9e763129",
   "metadata": {},
   "source": [
    "### Логистическая регрессия"
   ]
  },
  {
   "cell_type": "markdown",
   "id": "2fe98b58",
   "metadata": {},
   "source": [
    "Теперь обучим модель логистической регрессии, но перебирать в ней ничего не будем."
   ]
  },
  {
   "cell_type": "code",
   "execution_count": 15,
   "id": "d65ea453",
   "metadata": {},
   "outputs": [
    {
     "data": {
      "text/plain": [
       "(0.7589424572317263,\n",
       " 0.07157111167907715,\n",
       " LogisticRegression(max_iter=1000, random_state=22221111))"
      ]
     },
     "execution_count": 15,
     "metadata": {},
     "output_type": "execute_result"
    }
   ],
   "source": [
    "logit = LogisticRegression(random_state=rs, max_iter=1000)\n",
    "start_time = time()\n",
    "logit.fit(x_train, y_train) # обучаем на обучающей\n",
    "best_time = time() - start_time\n",
    "best_score = logit.score(x_valid, y_valid) # тестируем на валидационной\n",
    "\n",
    "best_score, best_time, logit"
   ]
  },
  {
   "cell_type": "markdown",
   "id": "64ec2cfd",
   "metadata": {},
   "source": [
    "Получили худшую `accuracy` из обученных моделей — 0,76. Зато относительно быстро."
   ]
  },
  {
   "cell_type": "markdown",
   "id": "eaad77b1",
   "metadata": {},
   "source": [
    "### CatBoost как бенчмарк"
   ]
  },
  {
   "cell_type": "markdown",
   "id": "1128ab4b",
   "metadata": {},
   "source": [
    "Наконец, в качестве бенчмарка обучим модель `CatBoost`."
   ]
  },
  {
   "cell_type": "code",
   "execution_count": 16,
   "id": "fd393698",
   "metadata": {},
   "outputs": [
    {
     "data": {
      "text/plain": [
       "(0.7884914463452566,\n",
       " 3.090709924697876,\n",
       " <catboost.core.CatBoostClassifier at 0x7f1cc8c095e0>)"
      ]
     },
     "execution_count": 16,
     "metadata": {},
     "output_type": "execute_result"
    }
   ],
   "source": [
    "cat = CatBoostClassifier(random_state=rs, silent=True)\n",
    "start_time = time()\n",
    "cat.fit(x_train, y_train) # обучаем на обучающей\n",
    "best_time = time() - start_time\n",
    "best_score = cat.score(x_valid, y_valid) # тестируем на валидационной \n",
    "\n",
    "best_score, best_time, cat"
   ]
  },
  {
   "cell_type": "markdown",
   "id": "29906dfe",
   "metadata": {},
   "source": [
    "На валидационной выборке бенчмарк проявил себя не лучшим образом, показав вторую `accuracy` с конца — 0,79 — и худшее с большим отрывом время обучения."
   ]
  },
  {
   "cell_type": "markdown",
   "id": "b4e5b93a",
   "metadata": {},
   "source": [
    "Посмотрим, какие результаты покажут наши модели на тестовой выборке."
   ]
  },
  {
   "cell_type": "markdown",
   "id": "75c8f689",
   "metadata": {},
   "source": [
    "## Выбор лучшей модели"
   ]
  },
  {
   "cell_type": "markdown",
   "id": "c3ebd1f1",
   "metadata": {},
   "source": [
    "Сравним `accuracy` всех четырех моделей на валидационной и тестовой выборках."
   ]
  },
  {
   "cell_type": "code",
   "execution_count": 17,
   "id": "7f90d22e",
   "metadata": {},
   "outputs": [
    {
     "data": {
      "text/html": [
       "<div>\n",
       "<style scoped>\n",
       "    .dataframe tbody tr th:only-of-type {\n",
       "        vertical-align: middle;\n",
       "    }\n",
       "\n",
       "    .dataframe tbody tr th {\n",
       "        vertical-align: top;\n",
       "    }\n",
       "\n",
       "    .dataframe thead th {\n",
       "        text-align: right;\n",
       "    }\n",
       "</style>\n",
       "<table border=\"1\" class=\"dataframe\">\n",
       "  <thead>\n",
       "    <tr style=\"text-align: right;\">\n",
       "      <th></th>\n",
       "      <th>valid</th>\n",
       "      <th>test</th>\n",
       "    </tr>\n",
       "  </thead>\n",
       "  <tbody>\n",
       "    <tr>\n",
       "      <th>tree</th>\n",
       "      <td>0.790</td>\n",
       "      <td>0.768</td>\n",
       "    </tr>\n",
       "    <tr>\n",
       "      <th>forest</th>\n",
       "      <td>0.810</td>\n",
       "      <td>0.788</td>\n",
       "    </tr>\n",
       "    <tr>\n",
       "      <th>logit</th>\n",
       "      <td>0.759</td>\n",
       "      <td>0.733</td>\n",
       "    </tr>\n",
       "    <tr>\n",
       "      <th>cat</th>\n",
       "      <td>0.788</td>\n",
       "      <td>0.802</td>\n",
       "    </tr>\n",
       "  </tbody>\n",
       "</table>\n",
       "</div>"
      ],
      "text/plain": [
       "        valid   test\n",
       "tree    0.790  0.768\n",
       "forest  0.810  0.788\n",
       "logit   0.759  0.733\n",
       "cat     0.788  0.802"
      ]
     },
     "execution_count": 17,
     "metadata": {},
     "output_type": "execute_result"
    }
   ],
   "source": [
    "pd.DataFrame([[tree.score(x_valid, y_valid), tree.score(x_test, y_test)],\n",
    "              [forest.score(x_valid, y_valid), forest.score(x_test, y_test)],\n",
    "              [logit.score(x_valid, y_valid), logit.score(x_test, y_test)],\n",
    "              [cat.score(x_valid, y_valid), cat.score(x_test, y_test)]],\n",
    "             columns=['valid', 'test'],\n",
    "             index=['tree', 'forest', 'logit', 'cat']).round(3)"
   ]
  },
  {
   "cell_type": "markdown",
   "id": "17e270b2",
   "metadata": {},
   "source": [
    "На тестовой выборке модель `CatBoost` показывает лучший результат, обгоняя случайный лес. Т.к. бенчмарк вне конкурса, то побеждает модель случайного леса с 17 деревьями и максимальной глубиной 8."
   ]
  },
  {
   "cell_type": "markdown",
   "id": "58599205",
   "metadata": {},
   "source": [
    "## Dummy-тест"
   ]
  },
  {
   "cell_type": "markdown",
   "id": "90efc8d8",
   "metadata": {},
   "source": [
    "Перед отправкой леса в продакшн проверим его вместе с остальными моделями на адекватность. Для этого посчитаем `accuracy` на тестовой выборке двух dummy-моделей, одна из которых выдает случайный результат с учетом частотности классов в обучающей выборке, а другая просто всегда выдает превалирующий класс 0 (тариф Smart)."
   ]
  },
  {
   "cell_type": "code",
   "execution_count": 18,
   "id": "4aa7b477",
   "metadata": {},
   "outputs": [
    {
     "name": "stdout",
     "output_type": "stream",
     "text": [
      "0.5769828926905132\n",
      "0.6671850699844479\n"
     ]
    }
   ],
   "source": [
    "np.random.seed(rs) # инициализируем генератор псевдослучайных чисел\n",
    "\n",
    "# генерим столбец случайных предсказаний для тестовой выборки,\n",
    "# в котором доля тарифа Ultra примерно такая же, как в обучающей выборке\n",
    "y_dummy1 = np.random.binomial(1, y_train.mean(), len(y_test))\n",
    "\n",
    "# генерим столбец нулевых предсказаний для тестовой выборки\n",
    "y_dummy2 = [0] * len(y_test)\n",
    "\n",
    "# считаем accuracy dummy-предсказаний на тестовой выборке\n",
    "print(accuracy_score(y_test, y_dummy1))\n",
    "print(accuracy_score(y_test, y_dummy2))"
   ]
  },
  {
   "cell_type": "markdown",
   "id": "204805a2",
   "metadata": {},
   "source": [
    "Метрика `accuracy` у обеих dummy-моделей получилась заметно ниже, чем у любой из обученных моделей. Значит, все модели не бесполезные, и время на их обучение потрачено не зря.\n",
    "\n",
    "Однако довольно высокое значение `accuracy` у второй dummy-модели говорит о том, что метрика для оценки моделей выбрана неудачно. Причина тому — дисбаланс классов в исходном датасете. Но это тема следующего спринта, поэтому не будем забегать вперед :)"
   ]
  },
  {
   "cell_type": "markdown",
   "id": "84da8932",
   "metadata": {},
   "source": [
    "## Выводы"
   ]
  },
  {
   "cell_type": "markdown",
   "id": "8ea8efe4",
   "metadata": {},
   "source": [
    "- Из трех моделей: дерево решений, случайный лес и логистическая регрессия — наибольшее значение метрики `accuracy` на тестовой выборке — 0,79 — показал случайный лес из 17 деревьев максимальной глубины 8\n",
    "- Из-за дисбаланса классов в исходном датасете метрика `accuracy` не лучший выбор для сравнения моделей в этом проекте "
   ]
  }
 ],
 "metadata": {
  "ExecuteTimeLog": [
   {
    "duration": 1331,
    "start_time": "2022-04-02T19:41:08.125Z"
   },
   {
    "duration": 139,
    "start_time": "2022-04-02T19:44:14.993Z"
   },
   {
    "duration": 14,
    "start_time": "2022-04-02T19:44:41.722Z"
   },
   {
    "duration": 18,
    "start_time": "2022-04-02T19:44:46.956Z"
   },
   {
    "duration": 13,
    "start_time": "2022-04-02T19:44:57.082Z"
   },
   {
    "duration": 14,
    "start_time": "2022-04-02T19:46:49.986Z"
   },
   {
    "duration": 17,
    "start_time": "2022-04-02T19:47:49.462Z"
   },
   {
    "duration": 15,
    "start_time": "2022-04-02T19:48:02.051Z"
   },
   {
    "duration": 8,
    "start_time": "2022-04-02T19:48:41.048Z"
   },
   {
    "duration": 11,
    "start_time": "2022-04-02T19:48:47.797Z"
   },
   {
    "duration": 10,
    "start_time": "2022-04-02T19:48:55.336Z"
   },
   {
    "duration": 7,
    "start_time": "2022-04-02T19:50:00.115Z"
   },
   {
    "duration": 7,
    "start_time": "2022-04-02T20:02:48.324Z"
   },
   {
    "duration": 6,
    "start_time": "2022-04-02T20:02:55.569Z"
   },
   {
    "duration": 229,
    "start_time": "2022-04-02T20:06:06.848Z"
   },
   {
    "duration": 5,
    "start_time": "2022-04-02T20:10:04.052Z"
   },
   {
    "duration": 13,
    "start_time": "2022-04-02T20:10:09.399Z"
   },
   {
    "duration": 11,
    "start_time": "2022-04-02T20:10:26.164Z"
   },
   {
    "duration": 4,
    "start_time": "2022-04-02T20:11:17.939Z"
   },
   {
    "duration": 3,
    "start_time": "2022-04-02T20:11:25.517Z"
   },
   {
    "duration": 4,
    "start_time": "2022-04-02T20:11:31.904Z"
   },
   {
    "duration": 3,
    "start_time": "2022-04-02T20:11:39.850Z"
   },
   {
    "duration": 3,
    "start_time": "2022-04-02T20:12:39.838Z"
   },
   {
    "duration": 5,
    "start_time": "2022-04-02T20:17:04.568Z"
   },
   {
    "duration": 7,
    "start_time": "2022-04-02T20:17:18.367Z"
   },
   {
    "duration": 3,
    "start_time": "2022-04-02T20:17:19.026Z"
   },
   {
    "duration": 6,
    "start_time": "2022-04-02T20:22:24.156Z"
   },
   {
    "duration": 11,
    "start_time": "2022-04-02T20:22:28.712Z"
   },
   {
    "duration": 5,
    "start_time": "2022-04-02T20:22:38.416Z"
   },
   {
    "duration": 4,
    "start_time": "2022-04-02T20:22:51.006Z"
   },
   {
    "duration": 12,
    "start_time": "2022-04-02T20:23:09.713Z"
   },
   {
    "duration": 12,
    "start_time": "2022-04-02T20:23:28.921Z"
   },
   {
    "duration": 4,
    "start_time": "2022-04-02T20:23:37.133Z"
   },
   {
    "duration": 49,
    "start_time": "2022-04-02T20:30:37.832Z"
   },
   {
    "duration": 13,
    "start_time": "2022-04-02T20:34:55.071Z"
   },
   {
    "duration": 13,
    "start_time": "2022-04-02T20:34:59.653Z"
   },
   {
    "duration": 11,
    "start_time": "2022-04-02T20:35:05.073Z"
   },
   {
    "duration": 11,
    "start_time": "2022-04-02T20:35:09.414Z"
   },
   {
    "duration": 10,
    "start_time": "2022-04-02T20:35:13.714Z"
   },
   {
    "duration": 11,
    "start_time": "2022-04-02T20:35:17.133Z"
   },
   {
    "duration": 12,
    "start_time": "2022-04-02T20:35:21.496Z"
   },
   {
    "duration": 12,
    "start_time": "2022-04-02T20:35:24.598Z"
   },
   {
    "duration": 12,
    "start_time": "2022-04-02T20:35:30.564Z"
   },
   {
    "duration": 12,
    "start_time": "2022-04-02T20:35:34.547Z"
   },
   {
    "duration": 1069,
    "start_time": "2022-04-02T20:36:50.982Z"
   },
   {
    "duration": 173,
    "start_time": "2022-04-02T20:37:06.798Z"
   },
   {
    "duration": 290,
    "start_time": "2022-04-02T20:37:12.648Z"
   },
   {
    "duration": 1027,
    "start_time": "2022-04-02T20:40:00.209Z"
   },
   {
    "duration": 66,
    "start_time": "2022-04-02T20:40:43.948Z"
   },
   {
    "duration": 5,
    "start_time": "2022-04-02T21:08:55.880Z"
   },
   {
    "duration": 4,
    "start_time": "2022-04-02T21:09:30.055Z"
   },
   {
    "duration": 4,
    "start_time": "2022-04-02T21:09:38.000Z"
   },
   {
    "duration": 4,
    "start_time": "2022-04-02T21:09:46.169Z"
   },
   {
    "duration": 7,
    "start_time": "2022-04-02T21:11:42.575Z"
   },
   {
    "duration": 3,
    "start_time": "2022-04-02T21:12:48.984Z"
   },
   {
    "duration": 5,
    "start_time": "2022-04-02T21:15:11.680Z"
   },
   {
    "duration": 5,
    "start_time": "2022-04-02T21:15:42.114Z"
   },
   {
    "duration": 6,
    "start_time": "2022-04-02T21:15:56.355Z"
   },
   {
    "duration": 7,
    "start_time": "2022-04-02T21:16:05.608Z"
   },
   {
    "duration": 66,
    "start_time": "2022-04-02T21:16:57.782Z"
   },
   {
    "duration": 65,
    "start_time": "2022-04-02T21:20:57.998Z"
   },
   {
    "duration": 1642,
    "start_time": "2022-04-02T21:26:19.719Z"
   },
   {
    "duration": 13230,
    "start_time": "2022-04-02T21:26:47.287Z"
   },
   {
    "duration": 47006,
    "start_time": "2022-04-02T21:27:19.240Z"
   },
   {
    "duration": 5404,
    "start_time": "2022-04-02T21:28:24.087Z"
   },
   {
    "duration": 5519,
    "start_time": "2022-04-02T21:32:25.247Z"
   },
   {
    "duration": 75,
    "start_time": "2022-04-02T21:32:45.660Z"
   },
   {
    "duration": 5529,
    "start_time": "2022-04-02T21:33:27.795Z"
   },
   {
    "duration": 5561,
    "start_time": "2022-04-02T21:33:45.842Z"
   },
   {
    "duration": 5529,
    "start_time": "2022-04-02T21:33:58.758Z"
   },
   {
    "duration": 66,
    "start_time": "2022-04-02T21:34:57.480Z"
   },
   {
    "duration": 71,
    "start_time": "2022-04-02T21:44:29.738Z"
   },
   {
    "duration": 5630,
    "start_time": "2022-04-02T21:45:14.197Z"
   },
   {
    "duration": 45,
    "start_time": "2022-04-02T21:48:10.057Z"
   },
   {
    "duration": 41,
    "start_time": "2022-04-02T21:48:21.368Z"
   },
   {
    "duration": 43,
    "start_time": "2022-04-02T21:48:38.042Z"
   },
   {
    "duration": 42,
    "start_time": "2022-04-02T21:48:43.261Z"
   },
   {
    "duration": 41,
    "start_time": "2022-04-02T21:48:47.584Z"
   },
   {
    "duration": 19,
    "start_time": "2022-04-02T22:01:25.014Z"
   },
   {
    "duration": 3136,
    "start_time": "2022-04-02T22:02:44.368Z"
   },
   {
    "duration": 2236,
    "start_time": "2022-04-02T22:03:45.012Z"
   },
   {
    "duration": 2266,
    "start_time": "2022-04-02T22:03:51.865Z"
   },
   {
    "duration": 2285,
    "start_time": "2022-04-02T22:03:55.353Z"
   },
   {
    "duration": 585,
    "start_time": "2022-04-02T22:06:52.701Z"
   },
   {
    "duration": 535,
    "start_time": "2022-04-02T22:07:11.961Z"
   },
   {
    "duration": 654,
    "start_time": "2022-04-02T22:07:25.078Z"
   },
   {
    "duration": 569,
    "start_time": "2022-04-02T22:08:03.554Z"
   },
   {
    "duration": 14133,
    "start_time": "2022-04-02T22:08:20.851Z"
   },
   {
    "duration": 7788,
    "start_time": "2022-04-02T22:08:42.681Z"
   },
   {
    "duration": 2406,
    "start_time": "2022-04-02T22:11:02.414Z"
   },
   {
    "duration": 13,
    "start_time": "2022-04-02T22:11:26.730Z"
   },
   {
    "duration": 2201,
    "start_time": "2022-04-02T22:14:34.702Z"
   },
   {
    "duration": 5,
    "start_time": "2022-04-02T22:15:54.064Z"
   },
   {
    "duration": 107,
    "start_time": "2022-04-02T22:23:06.160Z"
   },
   {
    "duration": 6,
    "start_time": "2022-04-02T22:24:18.514Z"
   },
   {
    "duration": 60,
    "start_time": "2022-04-02T22:24:33.266Z"
   },
   {
    "duration": 6,
    "start_time": "2022-04-02T22:24:40.854Z"
   },
   {
    "duration": 5,
    "start_time": "2022-04-02T22:24:56.134Z"
   },
   {
    "duration": 15,
    "start_time": "2022-04-02T22:25:43.477Z"
   },
   {
    "duration": 17,
    "start_time": "2022-04-02T22:26:59.549Z"
   },
   {
    "duration": 15,
    "start_time": "2022-04-02T22:27:28.259Z"
   },
   {
    "duration": 15,
    "start_time": "2022-04-02T22:29:42.323Z"
   },
   {
    "duration": 16,
    "start_time": "2022-04-02T22:29:47.132Z"
   },
   {
    "duration": 15,
    "start_time": "2022-04-02T22:29:53.071Z"
   },
   {
    "duration": 16,
    "start_time": "2022-04-02T22:30:00.408Z"
   },
   {
    "duration": 15,
    "start_time": "2022-04-02T22:30:55.688Z"
   },
   {
    "duration": 18,
    "start_time": "2022-04-02T22:36:42.261Z"
   },
   {
    "duration": 18,
    "start_time": "2022-04-02T22:38:31.501Z"
   },
   {
    "duration": 19,
    "start_time": "2022-04-02T22:38:52.445Z"
   },
   {
    "duration": 64,
    "start_time": "2022-04-02T22:42:48.705Z"
   },
   {
    "duration": 1405,
    "start_time": "2022-04-02T22:43:50.571Z"
   },
   {
    "duration": 14,
    "start_time": "2022-04-02T22:43:51.978Z"
   },
   {
    "duration": 22,
    "start_time": "2022-04-02T22:43:51.994Z"
   },
   {
    "duration": 12,
    "start_time": "2022-04-02T22:43:52.018Z"
   },
   {
    "duration": 10,
    "start_time": "2022-04-02T22:43:52.033Z"
   },
   {
    "duration": 12,
    "start_time": "2022-04-02T22:43:52.044Z"
   },
   {
    "duration": 10,
    "start_time": "2022-04-02T22:43:52.058Z"
   },
   {
    "duration": 41,
    "start_time": "2022-04-02T22:43:52.070Z"
   },
   {
    "duration": 6,
    "start_time": "2022-04-02T22:43:52.113Z"
   },
   {
    "duration": 5,
    "start_time": "2022-04-02T22:43:52.121Z"
   },
   {
    "duration": 7,
    "start_time": "2022-04-02T22:43:52.128Z"
   },
   {
    "duration": 5,
    "start_time": "2022-04-02T22:43:52.136Z"
   },
   {
    "duration": 66,
    "start_time": "2022-04-02T22:43:57.341Z"
   },
   {
    "duration": 5220,
    "start_time": "2022-04-02T22:45:24.943Z"
   },
   {
    "duration": 48,
    "start_time": "2022-04-02T22:46:13.629Z"
   },
   {
    "duration": 2317,
    "start_time": "2022-04-02T22:46:33.741Z"
   },
   {
    "duration": 109,
    "start_time": "2022-04-02T22:46:46.861Z"
   },
   {
    "duration": 30,
    "start_time": "2022-04-02T22:47:49.253Z"
   },
   {
    "duration": 6,
    "start_time": "2022-04-02T23:08:46.589Z"
   },
   {
    "duration": 6,
    "start_time": "2022-04-02T23:08:52.591Z"
   },
   {
    "duration": 5,
    "start_time": "2022-04-02T23:08:57.087Z"
   },
   {
    "duration": 6,
    "start_time": "2022-04-02T23:09:00.775Z"
   },
   {
    "duration": 6,
    "start_time": "2022-04-02T23:09:05.816Z"
   },
   {
    "duration": 6,
    "start_time": "2022-04-02T23:15:48.951Z"
   },
   {
    "duration": 5,
    "start_time": "2022-04-02T23:16:22.068Z"
   },
   {
    "duration": 20,
    "start_time": "2022-04-02T23:26:01.842Z"
   },
   {
    "duration": 30,
    "start_time": "2022-04-02T23:26:14.749Z"
   },
   {
    "duration": 1165,
    "start_time": "2022-04-02T23:27:04.210Z"
   },
   {
    "duration": 14,
    "start_time": "2022-04-02T23:27:05.377Z"
   },
   {
    "duration": 28,
    "start_time": "2022-04-02T23:27:05.393Z"
   },
   {
    "duration": 9,
    "start_time": "2022-04-02T23:27:05.422Z"
   },
   {
    "duration": 11,
    "start_time": "2022-04-02T23:27:05.434Z"
   },
   {
    "duration": 10,
    "start_time": "2022-04-02T23:27:05.447Z"
   },
   {
    "duration": 6,
    "start_time": "2022-04-02T23:27:05.459Z"
   },
   {
    "duration": 43,
    "start_time": "2022-04-02T23:27:05.466Z"
   },
   {
    "duration": 3,
    "start_time": "2022-04-02T23:27:05.511Z"
   },
   {
    "duration": 8,
    "start_time": "2022-04-02T23:27:05.516Z"
   },
   {
    "duration": 67,
    "start_time": "2022-04-02T23:27:05.526Z"
   },
   {
    "duration": 5516,
    "start_time": "2022-04-02T23:27:05.594Z"
   },
   {
    "duration": 42,
    "start_time": "2022-04-02T23:27:11.112Z"
   },
   {
    "duration": 2195,
    "start_time": "2022-04-02T23:27:11.156Z"
   },
   {
    "duration": 30,
    "start_time": "2022-04-02T23:27:13.353Z"
   },
   {
    "duration": 5,
    "start_time": "2022-04-02T23:27:13.385Z"
   },
   {
    "duration": 21,
    "start_time": "2022-04-02T23:28:16.258Z"
   },
   {
    "duration": 70,
    "start_time": "2022-04-02T23:39:14.599Z"
   },
   {
    "duration": 5763,
    "start_time": "2022-04-02T23:40:26.461Z"
   },
   {
    "duration": 67,
    "start_time": "2022-04-02T23:43:20.040Z"
   },
   {
    "duration": 193,
    "start_time": "2022-04-02T23:45:46.270Z"
   },
   {
    "duration": 163,
    "start_time": "2022-04-02T23:46:05.555Z"
   },
   {
    "duration": 167,
    "start_time": "2022-04-02T23:48:28.632Z"
   },
   {
    "duration": 224,
    "start_time": "2022-04-02T23:48:40.261Z"
   },
   {
    "duration": 111,
    "start_time": "2022-04-02T23:49:22.453Z"
   },
   {
    "duration": 17,
    "start_time": "2022-04-02T23:49:29.828Z"
   },
   {
    "duration": 19,
    "start_time": "2022-04-02T23:50:24.697Z"
   },
   {
    "duration": 166,
    "start_time": "2022-04-02T23:50:54.141Z"
   },
   {
    "duration": 158,
    "start_time": "2022-04-02T23:51:01.315Z"
   },
   {
    "duration": 165,
    "start_time": "2022-04-02T23:51:31.460Z"
   },
   {
    "duration": 176,
    "start_time": "2022-04-02T23:52:58.778Z"
   },
   {
    "duration": 173,
    "start_time": "2022-04-02T23:53:20.081Z"
   },
   {
    "duration": 18,
    "start_time": "2022-04-02T23:53:43.457Z"
   },
   {
    "duration": 180,
    "start_time": "2022-04-02T23:54:00.198Z"
   },
   {
    "duration": 22,
    "start_time": "2022-04-02T23:58:09.325Z"
   },
   {
    "duration": 164,
    "start_time": "2022-04-03T00:01:56.853Z"
   },
   {
    "duration": 164,
    "start_time": "2022-04-03T00:03:46.477Z"
   },
   {
    "duration": 1066,
    "start_time": "2022-04-03T00:04:09.237Z"
   },
   {
    "duration": 1029,
    "start_time": "2022-04-03T00:04:30.452Z"
   },
   {
    "duration": 1102,
    "start_time": "2022-04-03T00:04:46.719Z"
   },
   {
    "duration": 181,
    "start_time": "2022-04-03T00:06:09.362Z"
   },
   {
    "duration": 173,
    "start_time": "2022-04-03T00:06:27.673Z"
   },
   {
    "duration": 18,
    "start_time": "2022-04-03T00:07:10.069Z"
   },
   {
    "duration": 10,
    "start_time": "2022-04-03T00:08:39.172Z"
   },
   {
    "duration": 15,
    "start_time": "2022-04-03T00:09:29.379Z"
   },
   {
    "duration": 16,
    "start_time": "2022-04-03T00:11:30.902Z"
   },
   {
    "duration": 70,
    "start_time": "2022-04-03T00:12:19.677Z"
   },
   {
    "duration": 66,
    "start_time": "2022-04-03T00:12:52.166Z"
   },
   {
    "duration": 69,
    "start_time": "2022-04-03T00:14:07.934Z"
   },
   {
    "duration": 151,
    "start_time": "2022-04-03T00:14:34.837Z"
   },
   {
    "duration": 163,
    "start_time": "2022-04-03T00:15:16.773Z"
   },
   {
    "duration": 146,
    "start_time": "2022-04-03T00:15:40.801Z"
   },
   {
    "duration": 173,
    "start_time": "2022-04-03T00:15:44.874Z"
   },
   {
    "duration": 66,
    "start_time": "2022-04-03T00:15:48.945Z"
   },
   {
    "duration": 68,
    "start_time": "2022-04-03T00:16:25.419Z"
   },
   {
    "duration": 172,
    "start_time": "2022-04-03T00:17:50.673Z"
   },
   {
    "duration": 165,
    "start_time": "2022-04-03T00:18:52.245Z"
   },
   {
    "duration": 73,
    "start_time": "2022-04-03T00:19:03.506Z"
   },
   {
    "duration": 77,
    "start_time": "2022-04-03T00:19:09.154Z"
   },
   {
    "duration": 72,
    "start_time": "2022-04-03T00:19:20.767Z"
   },
   {
    "duration": 65,
    "start_time": "2022-04-03T00:19:35.277Z"
   },
   {
    "duration": 175,
    "start_time": "2022-04-03T00:19:50.782Z"
   },
   {
    "duration": 181,
    "start_time": "2022-04-03T00:20:45.777Z"
   },
   {
    "duration": 254,
    "start_time": "2022-04-03T00:21:01.407Z"
   },
   {
    "duration": 1879,
    "start_time": "2022-04-03T20:28:52.479Z"
   },
   {
    "duration": 13,
    "start_time": "2022-04-03T20:28:54.360Z"
   },
   {
    "duration": 23,
    "start_time": "2022-04-03T20:28:54.375Z"
   },
   {
    "duration": 8,
    "start_time": "2022-04-03T20:28:54.399Z"
   },
   {
    "duration": 18,
    "start_time": "2022-04-03T20:28:54.409Z"
   },
   {
    "duration": 5,
    "start_time": "2022-04-03T20:28:54.428Z"
   },
   {
    "duration": 29,
    "start_time": "2022-04-03T20:28:54.434Z"
   },
   {
    "duration": 5,
    "start_time": "2022-04-03T20:28:54.465Z"
   },
   {
    "duration": 7,
    "start_time": "2022-04-03T20:28:54.472Z"
   },
   {
    "duration": 158,
    "start_time": "2022-04-03T20:28:58.505Z"
   },
   {
    "duration": 5805,
    "start_time": "2022-04-03T20:38:24.476Z"
   },
   {
    "duration": 5820,
    "start_time": "2022-04-03T20:38:36.887Z"
   },
   {
    "duration": 5389,
    "start_time": "2022-04-03T20:40:15.194Z"
   },
   {
    "duration": 6011,
    "start_time": "2022-04-03T20:41:03.565Z"
   },
   {
    "duration": 1108,
    "start_time": "2022-04-03T20:43:19.487Z"
   },
   {
    "duration": 1101,
    "start_time": "2022-04-03T20:43:36.517Z"
   },
   {
    "duration": 1063,
    "start_time": "2022-04-03T20:43:49.132Z"
   },
   {
    "duration": 1065,
    "start_time": "2022-04-03T20:43:59.082Z"
   },
   {
    "duration": 141,
    "start_time": "2022-04-03T20:45:51.843Z"
   },
   {
    "duration": 1242,
    "start_time": "2022-04-03T20:45:56.692Z"
   },
   {
    "duration": 1104,
    "start_time": "2022-04-03T20:46:15.995Z"
   },
   {
    "duration": 1233,
    "start_time": "2022-04-03T20:46:22.776Z"
   },
   {
    "duration": 1199,
    "start_time": "2022-04-03T20:46:32.847Z"
   },
   {
    "duration": 1279,
    "start_time": "2022-04-03T20:47:49.939Z"
   },
   {
    "duration": 1063,
    "start_time": "2022-04-03T20:48:32.142Z"
   },
   {
    "duration": 1196,
    "start_time": "2022-04-03T20:49:57.249Z"
   },
   {
    "duration": 1271,
    "start_time": "2022-04-03T20:52:52.841Z"
   },
   {
    "duration": 1385,
    "start_time": "2022-04-03T20:53:10.899Z"
   },
   {
    "duration": 1115,
    "start_time": "2022-04-03T20:53:46.837Z"
   },
   {
    "duration": 1275,
    "start_time": "2022-04-03T20:54:09.513Z"
   },
   {
    "duration": 1320,
    "start_time": "2022-04-03T20:54:27.798Z"
   },
   {
    "duration": 155,
    "start_time": "2022-04-03T20:55:42.354Z"
   },
   {
    "duration": 161,
    "start_time": "2022-04-03T20:55:56.933Z"
   },
   {
    "duration": 278,
    "start_time": "2022-04-03T21:00:55.077Z"
   },
   {
    "duration": 361,
    "start_time": "2022-04-03T21:01:27.344Z"
   },
   {
    "duration": 426,
    "start_time": "2022-04-03T21:03:50.198Z"
   },
   {
    "duration": 273,
    "start_time": "2022-04-03T21:04:07.927Z"
   },
   {
    "duration": 306,
    "start_time": "2022-04-03T21:04:24.713Z"
   },
   {
    "duration": 294,
    "start_time": "2022-04-03T21:04:37.848Z"
   },
   {
    "duration": 21025,
    "start_time": "2022-04-03T21:16:27.692Z"
   },
   {
    "duration": 2835,
    "start_time": "2022-04-03T21:16:54.192Z"
   },
   {
    "duration": 2774,
    "start_time": "2022-04-03T21:17:18.915Z"
   },
   {
    "duration": 4605,
    "start_time": "2022-04-03T21:19:53.298Z"
   },
   {
    "duration": 4634,
    "start_time": "2022-04-03T21:20:36.984Z"
   },
   {
    "duration": 8,
    "start_time": "2022-04-03T21:22:45.577Z"
   },
   {
    "duration": 26137,
    "start_time": "2022-04-03T21:24:10.854Z"
   },
   {
    "duration": 2746,
    "start_time": "2022-04-03T21:24:39.877Z"
   },
   {
    "duration": 2926,
    "start_time": "2022-04-03T21:30:09.681Z"
   },
   {
    "duration": 2989,
    "start_time": "2022-04-03T21:30:22.040Z"
   },
   {
    "duration": 3040,
    "start_time": "2022-04-03T21:30:34.750Z"
   },
   {
    "duration": 2678,
    "start_time": "2022-04-03T21:37:50.028Z"
   },
   {
    "duration": 52,
    "start_time": "2022-04-03T21:39:14.896Z"
   },
   {
    "duration": 53,
    "start_time": "2022-04-03T21:39:21.113Z"
   },
   {
    "duration": 52,
    "start_time": "2022-04-03T21:39:25.658Z"
   },
   {
    "duration": 52,
    "start_time": "2022-04-03T21:40:48.612Z"
   },
   {
    "duration": 55,
    "start_time": "2022-04-03T21:41:01.986Z"
   },
   {
    "duration": 52,
    "start_time": "2022-04-03T21:41:05.372Z"
   },
   {
    "duration": 282,
    "start_time": "2022-04-03T21:42:11.667Z"
   },
   {
    "duration": 28477,
    "start_time": "2022-04-03T21:45:47.309Z"
   },
   {
    "duration": 3115,
    "start_time": "2022-04-03T21:47:39.494Z"
   },
   {
    "duration": 2872,
    "start_time": "2022-04-03T21:48:06.941Z"
   },
   {
    "duration": 18,
    "start_time": "2022-04-03T21:54:24.902Z"
   },
   {
    "duration": 11,
    "start_time": "2022-04-03T21:56:11.844Z"
   },
   {
    "duration": 1547,
    "start_time": "2022-04-03T21:56:49.818Z"
   },
   {
    "duration": 14,
    "start_time": "2022-04-03T21:56:51.367Z"
   },
   {
    "duration": 22,
    "start_time": "2022-04-03T21:56:51.383Z"
   },
   {
    "duration": 8,
    "start_time": "2022-04-03T21:56:51.407Z"
   },
   {
    "duration": 16,
    "start_time": "2022-04-03T21:56:51.417Z"
   },
   {
    "duration": 5,
    "start_time": "2022-04-03T21:56:51.434Z"
   },
   {
    "duration": 6,
    "start_time": "2022-04-03T21:56:51.462Z"
   },
   {
    "duration": 9,
    "start_time": "2022-04-03T21:56:51.470Z"
   },
   {
    "duration": 12,
    "start_time": "2022-04-03T21:56:51.480Z"
   },
   {
    "duration": 315,
    "start_time": "2022-04-03T21:56:51.494Z"
   },
   {
    "duration": 27878,
    "start_time": "2022-04-03T21:56:56.071Z"
   },
   {
    "duration": 2806,
    "start_time": "2022-04-03T21:58:02.811Z"
   },
   {
    "duration": 2882,
    "start_time": "2022-04-03T21:58:16.512Z"
   },
   {
    "duration": 2780,
    "start_time": "2022-04-03T21:59:13.596Z"
   },
   {
    "duration": 160,
    "start_time": "2022-04-03T22:05:19.906Z"
   },
   {
    "duration": 141,
    "start_time": "2022-04-03T22:06:03.072Z"
   },
   {
    "duration": 363,
    "start_time": "2022-04-03T22:11:20.608Z"
   },
   {
    "duration": 210,
    "start_time": "2022-04-03T22:12:38.119Z"
   },
   {
    "duration": 208,
    "start_time": "2022-04-03T22:13:35.510Z"
   },
   {
    "duration": 210,
    "start_time": "2022-04-03T22:16:51.695Z"
   },
   {
    "duration": 201,
    "start_time": "2022-04-03T22:17:16.579Z"
   },
   {
    "duration": 199,
    "start_time": "2022-04-03T22:19:16.666Z"
   },
   {
    "duration": 38,
    "start_time": "2022-04-03T22:31:38.840Z"
   },
   {
    "duration": 2643,
    "start_time": "2022-04-03T22:36:32.121Z"
   },
   {
    "duration": 1460,
    "start_time": "2022-04-03T22:41:14.256Z"
   },
   {
    "duration": 14,
    "start_time": "2022-04-03T22:41:15.718Z"
   },
   {
    "duration": 24,
    "start_time": "2022-04-03T22:41:15.733Z"
   },
   {
    "duration": 8,
    "start_time": "2022-04-03T22:41:15.762Z"
   },
   {
    "duration": 19,
    "start_time": "2022-04-03T22:41:15.771Z"
   },
   {
    "duration": 5,
    "start_time": "2022-04-03T22:41:15.792Z"
   },
   {
    "duration": 5,
    "start_time": "2022-04-03T22:41:15.799Z"
   },
   {
    "duration": 4,
    "start_time": "2022-04-03T22:41:15.805Z"
   },
   {
    "duration": 7,
    "start_time": "2022-04-03T22:41:15.810Z"
   },
   {
    "duration": 181,
    "start_time": "2022-04-03T22:41:15.820Z"
   },
   {
    "duration": 221,
    "start_time": "2022-04-03T22:41:16.003Z"
   },
   {
    "duration": 26406,
    "start_time": "2022-04-03T22:41:16.226Z"
   },
   {
    "duration": 2746,
    "start_time": "2022-04-03T22:41:42.634Z"
   },
   {
    "duration": 2875,
    "start_time": "2022-04-03T22:41:45.382Z"
   },
   {
    "duration": 41,
    "start_time": "2022-04-03T22:41:48.263Z"
   },
   {
    "duration": 2543,
    "start_time": "2022-04-03T22:41:48.305Z"
   },
   {
    "duration": 26,
    "start_time": "2022-04-03T22:41:50.849Z"
   },
   {
    "duration": 5,
    "start_time": "2022-04-03T22:41:50.876Z"
   },
   {
    "duration": 145,
    "start_time": "2022-04-03T22:43:45.230Z"
   },
   {
    "duration": 26066,
    "start_time": "2022-04-03T22:44:14.366Z"
   },
   {
    "duration": 17867,
    "start_time": "2022-04-03T22:45:53.955Z"
   },
   {
    "duration": 2199,
    "start_time": "2022-04-03T22:46:29.718Z"
   },
   {
    "duration": 2243,
    "start_time": "2022-04-03T22:47:01.927Z"
   },
   {
    "duration": 2261,
    "start_time": "2022-04-03T22:47:22.159Z"
   },
   {
    "duration": 2225,
    "start_time": "2022-04-03T22:47:33.856Z"
   },
   {
    "duration": 2188,
    "start_time": "2022-04-03T22:47:48.593Z"
   },
   {
    "duration": 2234,
    "start_time": "2022-04-03T22:48:04.747Z"
   },
   {
    "duration": 2133,
    "start_time": "2022-04-03T22:48:14.063Z"
   },
   {
    "duration": 2256,
    "start_time": "2022-04-03T22:49:17.761Z"
   },
   {
    "duration": 102,
    "start_time": "2022-04-03T22:49:39.114Z"
   },
   {
    "duration": 171,
    "start_time": "2022-04-03T22:49:47.341Z"
   },
   {
    "duration": 36,
    "start_time": "2022-04-03T22:52:35.677Z"
   },
   {
    "duration": 2392,
    "start_time": "2022-04-03T22:53:23.239Z"
   },
   {
    "duration": 4,
    "start_time": "2022-04-03T22:58:04.933Z"
   },
   {
    "duration": 16,
    "start_time": "2022-04-03T22:58:04.939Z"
   },
   {
    "duration": 17,
    "start_time": "2022-04-03T22:58:04.957Z"
   },
   {
    "duration": 7,
    "start_time": "2022-04-03T22:58:04.976Z"
   },
   {
    "duration": 17,
    "start_time": "2022-04-03T22:58:04.985Z"
   },
   {
    "duration": 6,
    "start_time": "2022-04-03T22:58:05.004Z"
   },
   {
    "duration": 5,
    "start_time": "2022-04-03T22:58:05.012Z"
   },
   {
    "duration": 5,
    "start_time": "2022-04-03T22:58:05.019Z"
   },
   {
    "duration": 7,
    "start_time": "2022-04-03T22:58:05.062Z"
   },
   {
    "duration": 111,
    "start_time": "2022-04-03T22:58:05.071Z"
   },
   {
    "duration": 184,
    "start_time": "2022-04-03T22:58:17.618Z"
   },
   {
    "duration": 1491,
    "start_time": "2022-04-03T22:58:33.546Z"
   },
   {
    "duration": 14,
    "start_time": "2022-04-03T22:58:35.039Z"
   },
   {
    "duration": 23,
    "start_time": "2022-04-03T22:58:35.055Z"
   },
   {
    "duration": 8,
    "start_time": "2022-04-03T22:58:35.079Z"
   },
   {
    "duration": 17,
    "start_time": "2022-04-03T22:58:35.088Z"
   },
   {
    "duration": 6,
    "start_time": "2022-04-03T22:58:35.106Z"
   },
   {
    "duration": 6,
    "start_time": "2022-04-03T22:58:35.113Z"
   },
   {
    "duration": 8,
    "start_time": "2022-04-03T22:58:35.120Z"
   },
   {
    "duration": 8,
    "start_time": "2022-04-03T22:58:35.130Z"
   },
   {
    "duration": 124,
    "start_time": "2022-04-03T22:58:35.140Z"
   },
   {
    "duration": 181,
    "start_time": "2022-04-03T22:58:39.115Z"
   },
   {
    "duration": 178,
    "start_time": "2022-04-03T22:58:47.316Z"
   },
   {
    "duration": 1462,
    "start_time": "2022-04-03T22:59:34.167Z"
   },
   {
    "duration": 14,
    "start_time": "2022-04-03T22:59:35.631Z"
   },
   {
    "duration": 21,
    "start_time": "2022-04-03T22:59:35.646Z"
   },
   {
    "duration": 8,
    "start_time": "2022-04-03T22:59:35.668Z"
   },
   {
    "duration": 16,
    "start_time": "2022-04-03T22:59:35.678Z"
   },
   {
    "duration": 5,
    "start_time": "2022-04-03T22:59:35.695Z"
   },
   {
    "duration": 11,
    "start_time": "2022-04-03T22:59:35.701Z"
   },
   {
    "duration": 6,
    "start_time": "2022-04-03T22:59:35.713Z"
   },
   {
    "duration": 8,
    "start_time": "2022-04-03T22:59:35.720Z"
   },
   {
    "duration": 2089,
    "start_time": "2022-04-09T19:57:39.182Z"
   },
   {
    "duration": 12,
    "start_time": "2022-04-09T19:58:20.907Z"
   },
   {
    "duration": 0,
    "start_time": "2022-04-09T19:58:20.921Z"
   },
   {
    "duration": 0,
    "start_time": "2022-04-09T19:58:20.922Z"
   },
   {
    "duration": 0,
    "start_time": "2022-04-09T19:58:20.923Z"
   },
   {
    "duration": 0,
    "start_time": "2022-04-09T19:58:20.924Z"
   },
   {
    "duration": 0,
    "start_time": "2022-04-09T19:58:20.925Z"
   },
   {
    "duration": 0,
    "start_time": "2022-04-09T19:58:20.926Z"
   },
   {
    "duration": 0,
    "start_time": "2022-04-09T19:58:20.927Z"
   },
   {
    "duration": 0,
    "start_time": "2022-04-09T19:58:20.928Z"
   },
   {
    "duration": 1,
    "start_time": "2022-04-09T19:58:20.929Z"
   },
   {
    "duration": 0,
    "start_time": "2022-04-09T19:58:20.930Z"
   },
   {
    "duration": 24,
    "start_time": "2022-04-09T19:58:45.087Z"
   },
   {
    "duration": 4,
    "start_time": "2022-04-09T19:58:52.999Z"
   },
   {
    "duration": 34,
    "start_time": "2022-04-09T19:58:53.005Z"
   },
   {
    "duration": 30,
    "start_time": "2022-04-09T19:58:53.041Z"
   },
   {
    "duration": 15,
    "start_time": "2022-04-09T19:58:53.073Z"
   },
   {
    "duration": 29,
    "start_time": "2022-04-09T19:58:53.090Z"
   },
   {
    "duration": 19,
    "start_time": "2022-04-09T19:58:53.120Z"
   },
   {
    "duration": 16,
    "start_time": "2022-04-09T19:58:53.140Z"
   },
   {
    "duration": 24,
    "start_time": "2022-04-09T19:58:53.157Z"
   },
   {
    "duration": 21,
    "start_time": "2022-04-09T19:58:53.182Z"
   },
   {
    "duration": 119,
    "start_time": "2022-04-09T19:58:53.205Z"
   },
   {
    "duration": 207,
    "start_time": "2022-04-09T19:58:53.326Z"
   },
   {
    "duration": 9,
    "start_time": "2022-04-09T20:00:35.461Z"
   },
   {
    "duration": 10,
    "start_time": "2022-04-09T20:00:58.962Z"
   },
   {
    "duration": 15,
    "start_time": "2022-04-09T20:02:51.038Z"
   },
   {
    "duration": 7,
    "start_time": "2022-04-09T20:03:07.126Z"
   },
   {
    "duration": 4,
    "start_time": "2022-04-09T20:03:45.911Z"
   },
   {
    "duration": 8,
    "start_time": "2022-04-09T20:04:22.926Z"
   },
   {
    "duration": 7,
    "start_time": "2022-04-09T20:04:29.427Z"
   },
   {
    "duration": 137,
    "start_time": "2022-04-09T20:10:18.282Z"
   },
   {
    "duration": 123,
    "start_time": "2022-04-09T20:10:58.772Z"
   },
   {
    "duration": 18,
    "start_time": "2022-04-09T20:11:39.837Z"
   },
   {
    "duration": 22,
    "start_time": "2022-04-09T20:11:51.720Z"
   },
   {
    "duration": 22,
    "start_time": "2022-04-09T20:12:09.416Z"
   },
   {
    "duration": 22,
    "start_time": "2022-04-09T20:15:31.675Z"
   },
   {
    "duration": 15,
    "start_time": "2022-04-09T20:16:39.206Z"
   },
   {
    "duration": 20,
    "start_time": "2022-04-09T20:17:12.280Z"
   },
   {
    "duration": 6,
    "start_time": "2022-04-09T20:17:31.067Z"
   },
   {
    "duration": 6,
    "start_time": "2022-04-09T20:17:33.067Z"
   },
   {
    "duration": 4,
    "start_time": "2022-04-09T20:17:33.858Z"
   },
   {
    "duration": 7,
    "start_time": "2022-04-09T20:17:44.768Z"
   },
   {
    "duration": 121,
    "start_time": "2022-04-09T20:17:52.891Z"
   },
   {
    "duration": 197,
    "start_time": "2022-04-09T20:18:01.269Z"
   },
   {
    "duration": 308,
    "start_time": "2022-04-09T20:18:23.540Z"
   },
   {
    "duration": 202,
    "start_time": "2022-04-09T20:18:34.967Z"
   },
   {
    "duration": 18,
    "start_time": "2022-04-09T20:18:50.560Z"
   },
   {
    "duration": 631,
    "start_time": "2022-04-09T20:19:44.036Z"
   },
   {
    "duration": 210,
    "start_time": "2022-04-09T20:19:49.419Z"
   },
   {
    "duration": 302,
    "start_time": "2022-04-09T20:20:10.457Z"
   },
   {
    "duration": 288,
    "start_time": "2022-04-09T20:20:14.330Z"
   },
   {
    "duration": 18,
    "start_time": "2022-04-09T20:20:35.890Z"
   },
   {
    "duration": 21414,
    "start_time": "2022-04-09T20:20:50.274Z"
   },
   {
    "duration": 2336,
    "start_time": "2022-04-09T20:21:19.423Z"
   },
   {
    "duration": 2296,
    "start_time": "2022-04-09T20:21:45.677Z"
   },
   {
    "duration": 297,
    "start_time": "2022-04-09T20:21:56.162Z"
   },
   {
    "duration": 2994,
    "start_time": "2022-04-09T20:22:15.602Z"
   },
   {
    "duration": 35,
    "start_time": "2022-04-09T20:22:25.374Z"
   },
   {
    "duration": 9,
    "start_time": "2022-04-09T20:22:56.036Z"
   },
   {
    "duration": 69,
    "start_time": "2022-04-09T20:23:59.798Z"
   },
   {
    "duration": 52,
    "start_time": "2022-04-09T20:24:05.406Z"
   },
   {
    "duration": 42,
    "start_time": "2022-04-09T20:24:09.816Z"
   },
   {
    "duration": 114,
    "start_time": "2022-04-09T20:24:12.649Z"
   },
   {
    "duration": 281,
    "start_time": "2022-04-09T20:24:17.078Z"
   },
   {
    "duration": 22,
    "start_time": "2022-04-09T20:25:12.813Z"
   },
   {
    "duration": 29,
    "start_time": "2022-04-09T20:26:12.294Z"
   },
   {
    "duration": 16,
    "start_time": "2022-04-09T20:26:46.413Z"
   },
   {
    "duration": 27,
    "start_time": "2022-04-09T20:36:15.258Z"
   },
   {
    "duration": 16,
    "start_time": "2022-04-09T20:49:37.432Z"
   },
   {
    "duration": 15,
    "start_time": "2022-04-09T20:50:59.701Z"
   },
   {
    "duration": 18,
    "start_time": "2022-04-09T20:52:12.769Z"
   },
   {
    "duration": 17,
    "start_time": "2022-04-09T20:54:15.165Z"
   },
   {
    "duration": 4,
    "start_time": "2022-04-09T20:55:38.801Z"
   },
   {
    "duration": 20,
    "start_time": "2022-04-09T20:55:38.807Z"
   },
   {
    "duration": 22,
    "start_time": "2022-04-09T20:55:38.829Z"
   },
   {
    "duration": 10,
    "start_time": "2022-04-09T20:55:38.853Z"
   },
   {
    "duration": 23,
    "start_time": "2022-04-09T20:55:38.866Z"
   },
   {
    "duration": 6,
    "start_time": "2022-04-09T20:55:38.892Z"
   },
   {
    "duration": 8,
    "start_time": "2022-04-09T20:55:38.899Z"
   },
   {
    "duration": 8,
    "start_time": "2022-04-09T20:55:38.909Z"
   },
   {
    "duration": 4,
    "start_time": "2022-04-09T20:55:38.918Z"
   },
   {
    "duration": 39,
    "start_time": "2022-04-09T20:55:38.924Z"
   },
   {
    "duration": 278,
    "start_time": "2022-04-09T20:55:38.965Z"
   },
   {
    "duration": 215,
    "start_time": "2022-04-09T20:55:39.245Z"
   },
   {
    "duration": 18,
    "start_time": "2022-04-09T20:55:39.461Z"
   },
   {
    "duration": 17,
    "start_time": "2022-04-09T20:55:39.482Z"
   },
   {
    "duration": 19123,
    "start_time": "2022-04-09T20:55:39.500Z"
   },
   {
    "duration": 2333,
    "start_time": "2022-04-09T20:55:58.625Z"
   },
   {
    "duration": 2208,
    "start_time": "2022-04-09T20:56:00.960Z"
   },
   {
    "duration": 18,
    "start_time": "2022-04-09T20:56:03.170Z"
   },
   {
    "duration": 41,
    "start_time": "2022-04-09T20:56:03.189Z"
   },
   {
    "duration": 33,
    "start_time": "2022-04-09T20:56:03.231Z"
   },
   {
    "duration": 2492,
    "start_time": "2022-04-09T20:56:03.265Z"
   },
   {
    "duration": 15,
    "start_time": "2022-04-09T20:56:05.758Z"
   },
   {
    "duration": 28,
    "start_time": "2022-04-09T20:56:05.775Z"
   },
   {
    "duration": 7,
    "start_time": "2022-04-09T20:56:05.805Z"
   },
   {
    "duration": 17,
    "start_time": "2022-04-09T20:56:05.813Z"
   },
   {
    "duration": 17,
    "start_time": "2022-04-09T20:56:05.858Z"
   },
   {
    "duration": 5,
    "start_time": "2022-04-09T20:58:57.300Z"
   },
   {
    "duration": 19,
    "start_time": "2022-04-09T21:02:52.880Z"
   },
   {
    "duration": 5,
    "start_time": "2022-04-09T21:07:22.927Z"
   },
   {
    "duration": 1521,
    "start_time": "2022-04-09T21:07:42.923Z"
   },
   {
    "duration": 4,
    "start_time": "2022-04-09T21:07:55.439Z"
   },
   {
    "duration": 5,
    "start_time": "2022-04-09T21:08:04.455Z"
   },
   {
    "duration": 17,
    "start_time": "2022-04-09T21:22:28.071Z"
   },
   {
    "duration": 127,
    "start_time": "2022-04-10T18:48:27.300Z"
   },
   {
    "duration": 123,
    "start_time": "2022-04-10T18:49:21.627Z"
   },
   {
    "duration": 1631,
    "start_time": "2022-04-10T18:49:27.063Z"
   },
   {
    "duration": 4,
    "start_time": "2022-04-10T18:49:42.608Z"
   },
   {
    "duration": 30,
    "start_time": "2022-04-10T18:49:42.614Z"
   },
   {
    "duration": 22,
    "start_time": "2022-04-10T18:49:42.645Z"
   },
   {
    "duration": 7,
    "start_time": "2022-04-10T18:49:42.669Z"
   },
   {
    "duration": 17,
    "start_time": "2022-04-10T18:49:42.678Z"
   },
   {
    "duration": 5,
    "start_time": "2022-04-10T18:49:42.696Z"
   },
   {
    "duration": 2,
    "start_time": "2022-04-10T18:49:42.703Z"
   },
   {
    "duration": 11,
    "start_time": "2022-04-10T18:49:42.706Z"
   },
   {
    "duration": 4,
    "start_time": "2022-04-10T18:49:42.718Z"
   },
   {
    "duration": 6,
    "start_time": "2022-04-10T18:49:42.723Z"
   },
   {
    "duration": 259,
    "start_time": "2022-04-10T18:49:42.730Z"
   },
   {
    "duration": 228,
    "start_time": "2022-04-10T18:49:51.743Z"
   },
   {
    "duration": 188,
    "start_time": "2022-04-10T18:49:54.550Z"
   },
   {
    "duration": 98,
    "start_time": "2022-04-10T18:50:03.608Z"
   },
   {
    "duration": 245,
    "start_time": "2022-04-10T18:50:11.836Z"
   },
   {
    "duration": 4,
    "start_time": "2022-04-10T18:51:13.632Z"
   },
   {
    "duration": 15,
    "start_time": "2022-04-10T18:51:14.392Z"
   },
   {
    "duration": 15,
    "start_time": "2022-04-10T18:51:20.174Z"
   },
   {
    "duration": 8,
    "start_time": "2022-04-10T18:52:11.250Z"
   },
   {
    "duration": 11,
    "start_time": "2022-04-10T18:52:41.311Z"
   },
   {
    "duration": 4,
    "start_time": "2022-04-10T18:54:32.553Z"
   },
   {
    "duration": 7,
    "start_time": "2022-04-10T18:54:43.552Z"
   },
   {
    "duration": 101,
    "start_time": "2022-04-10T18:55:30.603Z"
   },
   {
    "duration": 17,
    "start_time": "2022-04-10T18:55:47.030Z"
   },
   {
    "duration": 7,
    "start_time": "2022-04-10T18:58:00.781Z"
   },
   {
    "duration": 5,
    "start_time": "2022-04-10T18:58:48.181Z"
   },
   {
    "duration": 7,
    "start_time": "2022-04-10T18:59:45.303Z"
   },
   {
    "duration": 4,
    "start_time": "2022-04-10T19:10:46.322Z"
   },
   {
    "duration": 93,
    "start_time": "2022-04-10T19:26:45.605Z"
   },
   {
    "duration": 3,
    "start_time": "2022-04-10T19:27:31.565Z"
   },
   {
    "duration": 36,
    "start_time": "2022-04-10T19:27:31.570Z"
   },
   {
    "duration": 17,
    "start_time": "2022-04-10T19:27:31.608Z"
   },
   {
    "duration": 9,
    "start_time": "2022-04-10T19:27:31.627Z"
   },
   {
    "duration": 15,
    "start_time": "2022-04-10T19:27:31.638Z"
   },
   {
    "duration": 5,
    "start_time": "2022-04-10T19:27:31.654Z"
   },
   {
    "duration": 3,
    "start_time": "2022-04-10T19:27:31.660Z"
   },
   {
    "duration": 8,
    "start_time": "2022-04-10T19:27:31.664Z"
   },
   {
    "duration": 6,
    "start_time": "2022-04-10T19:27:31.674Z"
   },
   {
    "duration": 9,
    "start_time": "2022-04-10T19:27:31.681Z"
   },
   {
    "duration": 7,
    "start_time": "2022-04-10T19:27:31.691Z"
   },
   {
    "duration": 145,
    "start_time": "2022-04-10T19:27:38.965Z"
   },
   {
    "duration": 1337,
    "start_time": "2022-04-10T19:27:52.716Z"
   },
   {
    "duration": 13,
    "start_time": "2022-04-10T19:27:54.054Z"
   },
   {
    "duration": 23,
    "start_time": "2022-04-10T19:27:54.068Z"
   },
   {
    "duration": 7,
    "start_time": "2022-04-10T19:27:54.092Z"
   },
   {
    "duration": 16,
    "start_time": "2022-04-10T19:27:54.102Z"
   },
   {
    "duration": 5,
    "start_time": "2022-04-10T19:27:54.119Z"
   },
   {
    "duration": 3,
    "start_time": "2022-04-10T19:27:54.125Z"
   },
   {
    "duration": 6,
    "start_time": "2022-04-10T19:27:54.129Z"
   },
   {
    "duration": 34,
    "start_time": "2022-04-10T19:27:54.137Z"
   },
   {
    "duration": 6,
    "start_time": "2022-04-10T19:27:54.173Z"
   },
   {
    "duration": 7,
    "start_time": "2022-04-10T19:27:54.180Z"
   },
   {
    "duration": 95,
    "start_time": "2022-04-10T19:27:56.633Z"
   },
   {
    "duration": 105,
    "start_time": "2022-04-10T19:29:40.793Z"
   },
   {
    "duration": 178,
    "start_time": "2022-04-10T19:31:41.872Z"
   },
   {
    "duration": 4,
    "start_time": "2022-04-10T19:33:14.047Z"
   },
   {
    "duration": 8,
    "start_time": "2022-04-10T19:33:32.686Z"
   },
   {
    "duration": 5,
    "start_time": "2022-04-10T19:33:53.614Z"
   },
   {
    "duration": 10,
    "start_time": "2022-04-10T19:35:07.055Z"
   },
   {
    "duration": 5,
    "start_time": "2022-04-10T19:36:08.415Z"
   },
   {
    "duration": 7,
    "start_time": "2022-04-10T19:45:16.710Z"
   },
   {
    "duration": 23,
    "start_time": "2022-04-10T19:46:13.233Z"
   },
   {
    "duration": 14,
    "start_time": "2022-04-10T19:46:30.335Z"
   },
   {
    "duration": 45,
    "start_time": "2022-04-10T19:46:33.040Z"
   },
   {
    "duration": 13,
    "start_time": "2022-04-10T19:47:06.199Z"
   },
   {
    "duration": 8,
    "start_time": "2022-04-10T19:47:11.535Z"
   },
   {
    "duration": 11,
    "start_time": "2022-04-10T19:53:58.345Z"
   },
   {
    "duration": 32,
    "start_time": "2022-04-10T19:54:19.182Z"
   },
   {
    "duration": 37,
    "start_time": "2022-04-10T19:54:34.348Z"
   },
   {
    "duration": 38,
    "start_time": "2022-04-10T19:58:15.528Z"
   },
   {
    "duration": 45,
    "start_time": "2022-04-10T20:00:57.145Z"
   },
   {
    "duration": 17437,
    "start_time": "2022-04-10T20:02:34.445Z"
   },
   {
    "duration": 2111,
    "start_time": "2022-04-10T20:03:05.552Z"
   },
   {
    "duration": 2023,
    "start_time": "2022-04-10T20:03:51.218Z"
   },
   {
    "duration": 8,
    "start_time": "2022-04-10T20:05:29.712Z"
   },
   {
    "duration": 11,
    "start_time": "2022-04-10T20:05:33.444Z"
   },
   {
    "duration": 37,
    "start_time": "2022-04-10T20:05:51.116Z"
   },
   {
    "duration": 37,
    "start_time": "2022-04-10T20:07:34.950Z"
   },
   {
    "duration": 4,
    "start_time": "2022-04-10T20:08:14.072Z"
   },
   {
    "duration": 7,
    "start_time": "2022-04-10T20:08:14.760Z"
   },
   {
    "duration": 114,
    "start_time": "2022-04-10T20:09:39.016Z"
   },
   {
    "duration": 2524,
    "start_time": "2022-04-10T20:10:49.888Z"
   },
   {
    "duration": 3,
    "start_time": "2022-04-10T20:11:22.110Z"
   },
   {
    "duration": 6,
    "start_time": "2022-04-10T20:11:22.860Z"
   },
   {
    "duration": 36,
    "start_time": "2022-04-10T20:11:32.032Z"
   },
   {
    "duration": 12,
    "start_time": "2022-04-10T20:13:52.826Z"
   },
   {
    "duration": 12,
    "start_time": "2022-04-10T20:14:05.488Z"
   },
   {
    "duration": 106,
    "start_time": "2022-04-10T20:15:42.765Z"
   },
   {
    "duration": 182,
    "start_time": "2022-04-10T20:15:55.945Z"
   },
   {
    "duration": 4,
    "start_time": "2022-04-10T20:16:07.777Z"
   },
   {
    "duration": 7,
    "start_time": "2022-04-10T20:16:17.923Z"
   },
   {
    "duration": 4,
    "start_time": "2022-04-10T20:16:59.396Z"
   },
   {
    "duration": 8,
    "start_time": "2022-04-10T20:17:00.150Z"
   },
   {
    "duration": 5,
    "start_time": "2022-04-10T20:17:35.998Z"
   },
   {
    "duration": 7,
    "start_time": "2022-04-10T20:17:37.251Z"
   },
   {
    "duration": 4,
    "start_time": "2022-04-10T20:17:43.398Z"
   },
   {
    "duration": 11,
    "start_time": "2022-04-10T20:17:45.240Z"
   },
   {
    "duration": 8,
    "start_time": "2022-04-10T20:18:20.275Z"
   },
   {
    "duration": 4,
    "start_time": "2022-04-10T20:18:38.708Z"
   },
   {
    "duration": 7,
    "start_time": "2022-04-10T20:18:39.367Z"
   },
   {
    "duration": 18896,
    "start_time": "2022-04-10T20:18:54.750Z"
   },
   {
    "duration": 2619,
    "start_time": "2022-04-10T20:19:26.498Z"
   },
   {
    "duration": 2279,
    "start_time": "2022-04-10T20:19:41.438Z"
   },
   {
    "duration": 7,
    "start_time": "2022-04-10T20:19:53.070Z"
   },
   {
    "duration": 7,
    "start_time": "2022-04-10T20:19:54.384Z"
   },
   {
    "duration": 9,
    "start_time": "2022-04-10T20:20:07.449Z"
   },
   {
    "duration": 9,
    "start_time": "2022-04-10T20:20:08.059Z"
   },
   {
    "duration": 7,
    "start_time": "2022-04-10T20:21:12.426Z"
   },
   {
    "duration": 7,
    "start_time": "2022-04-10T20:21:13.038Z"
   },
   {
    "duration": 31,
    "start_time": "2022-04-10T20:21:28.658Z"
   },
   {
    "duration": 6,
    "start_time": "2022-04-10T20:21:45.215Z"
   },
   {
    "duration": 7,
    "start_time": "2022-04-10T20:21:45.852Z"
   },
   {
    "duration": 36,
    "start_time": "2022-04-10T20:21:46.286Z"
   },
   {
    "duration": 7,
    "start_time": "2022-04-10T20:21:58.010Z"
   },
   {
    "duration": 6,
    "start_time": "2022-04-10T20:21:58.699Z"
   },
   {
    "duration": 34,
    "start_time": "2022-04-10T20:21:59.652Z"
   },
   {
    "duration": 31,
    "start_time": "2022-04-10T20:22:16.312Z"
   },
   {
    "duration": 4,
    "start_time": "2022-04-10T20:22:22.006Z"
   },
   {
    "duration": 6,
    "start_time": "2022-04-10T20:22:23.891Z"
   },
   {
    "duration": 34,
    "start_time": "2022-04-10T20:22:36.279Z"
   },
   {
    "duration": 4,
    "start_time": "2022-04-10T20:23:15.412Z"
   },
   {
    "duration": 7,
    "start_time": "2022-04-10T20:23:16.756Z"
   },
   {
    "duration": 33,
    "start_time": "2022-04-10T20:23:21.222Z"
   },
   {
    "duration": 4,
    "start_time": "2022-04-10T20:23:40.367Z"
   },
   {
    "duration": 7,
    "start_time": "2022-04-10T20:23:40.935Z"
   },
   {
    "duration": 32,
    "start_time": "2022-04-10T20:23:42.348Z"
   },
   {
    "duration": 2412,
    "start_time": "2022-04-10T20:23:51.664Z"
   },
   {
    "duration": 4,
    "start_time": "2022-04-10T20:24:14.549Z"
   },
   {
    "duration": 7,
    "start_time": "2022-04-10T20:24:15.694Z"
   },
   {
    "duration": 32,
    "start_time": "2022-04-10T20:24:20.419Z"
   },
   {
    "duration": 4,
    "start_time": "2022-04-10T20:24:27.057Z"
   },
   {
    "duration": 7,
    "start_time": "2022-04-10T20:24:28.293Z"
   },
   {
    "duration": 3,
    "start_time": "2022-04-10T20:25:10.760Z"
   },
   {
    "duration": 7,
    "start_time": "2022-04-10T20:25:11.381Z"
   },
   {
    "duration": 32,
    "start_time": "2022-04-10T20:25:12.517Z"
   },
   {
    "duration": 107,
    "start_time": "2022-04-10T20:31:09.660Z"
   },
   {
    "duration": 163,
    "start_time": "2022-04-10T20:31:18.359Z"
   },
   {
    "duration": 4,
    "start_time": "2022-04-10T20:31:25.811Z"
   },
   {
    "duration": 6,
    "start_time": "2022-04-10T20:31:28.599Z"
   },
   {
    "duration": 104,
    "start_time": "2022-04-10T20:31:46.711Z"
   },
   {
    "duration": 175,
    "start_time": "2022-04-10T20:31:51.983Z"
   },
   {
    "duration": 4,
    "start_time": "2022-04-10T20:31:57.850Z"
   },
   {
    "duration": 7,
    "start_time": "2022-04-10T20:32:11.642Z"
   },
   {
    "duration": 5,
    "start_time": "2022-04-10T20:32:29.980Z"
   },
   {
    "duration": 6,
    "start_time": "2022-04-10T20:32:31.328Z"
   },
   {
    "duration": 107,
    "start_time": "2022-04-10T20:32:44.199Z"
   },
   {
    "duration": 177,
    "start_time": "2022-04-10T20:32:48.476Z"
   },
   {
    "duration": 4,
    "start_time": "2022-04-10T20:32:52.681Z"
   },
   {
    "duration": 7,
    "start_time": "2022-04-10T20:32:53.198Z"
   },
   {
    "duration": 7,
    "start_time": "2022-04-10T20:33:26.067Z"
   },
   {
    "duration": 4,
    "start_time": "2022-04-10T20:33:29.132Z"
   },
   {
    "duration": 7,
    "start_time": "2022-04-10T20:33:29.491Z"
   },
   {
    "duration": 2,
    "start_time": "2022-04-10T20:34:27.570Z"
   },
   {
    "duration": 17057,
    "start_time": "2022-04-10T20:34:49.755Z"
   },
   {
    "duration": 2230,
    "start_time": "2022-04-10T20:35:16.214Z"
   },
   {
    "duration": 1997,
    "start_time": "2022-04-10T20:35:33.967Z"
   },
   {
    "duration": 5,
    "start_time": "2022-04-10T20:35:44.275Z"
   },
   {
    "duration": 7,
    "start_time": "2022-04-10T20:35:45.687Z"
   },
   {
    "duration": 20,
    "start_time": "2022-04-10T20:36:10.127Z"
   },
   {
    "duration": 4,
    "start_time": "2022-04-10T20:36:34.611Z"
   },
   {
    "duration": 7,
    "start_time": "2022-04-10T20:36:36.628Z"
   },
   {
    "duration": 34,
    "start_time": "2022-04-10T20:37:33.467Z"
   },
   {
    "duration": 4,
    "start_time": "2022-04-10T20:37:37.811Z"
   },
   {
    "duration": 7,
    "start_time": "2022-04-10T20:37:38.418Z"
   },
   {
    "duration": 20,
    "start_time": "2022-04-10T20:38:35.522Z"
   },
   {
    "duration": 5,
    "start_time": "2022-04-10T20:38:53.545Z"
   },
   {
    "duration": 6,
    "start_time": "2022-04-10T20:38:54.697Z"
   },
   {
    "duration": 10,
    "start_time": "2022-04-10T20:39:21.426Z"
   },
   {
    "duration": 927,
    "start_time": "2022-04-10T20:40:11.720Z"
   },
   {
    "duration": 2482,
    "start_time": "2022-04-10T20:45:06.317Z"
   },
   {
    "duration": 4,
    "start_time": "2022-04-10T20:45:16.926Z"
   },
   {
    "duration": 7,
    "start_time": "2022-04-10T20:45:18.163Z"
   },
   {
    "duration": 4,
    "start_time": "2022-04-10T20:45:33.578Z"
   },
   {
    "duration": 6,
    "start_time": "2022-04-10T20:45:34.951Z"
   },
   {
    "duration": 4,
    "start_time": "2022-04-10T20:54:50.089Z"
   },
   {
    "duration": 7,
    "start_time": "2022-04-10T20:54:52.706Z"
   },
   {
    "duration": 1384,
    "start_time": "2022-04-10T21:09:59.586Z"
   },
   {
    "duration": 17,
    "start_time": "2022-04-10T21:10:00.971Z"
   },
   {
    "duration": 22,
    "start_time": "2022-04-10T21:10:00.990Z"
   },
   {
    "duration": 8,
    "start_time": "2022-04-10T21:10:01.014Z"
   },
   {
    "duration": 18,
    "start_time": "2022-04-10T21:10:01.024Z"
   },
   {
    "duration": 27,
    "start_time": "2022-04-10T21:10:01.044Z"
   },
   {
    "duration": 6,
    "start_time": "2022-04-10T21:10:01.074Z"
   },
   {
    "duration": 12,
    "start_time": "2022-04-10T21:10:01.081Z"
   },
   {
    "duration": 35,
    "start_time": "2022-04-10T21:10:01.095Z"
   },
   {
    "duration": 96,
    "start_time": "2022-04-10T21:10:08.924Z"
   },
   {
    "duration": 170,
    "start_time": "2022-04-10T21:10:14.116Z"
   },
   {
    "duration": 4,
    "start_time": "2022-04-10T21:10:37.787Z"
   },
   {
    "duration": 7,
    "start_time": "2022-04-10T21:10:41.483Z"
   },
   {
    "duration": 102,
    "start_time": "2022-04-10T21:11:03.976Z"
   },
   {
    "duration": 177,
    "start_time": "2022-04-10T21:11:08.270Z"
   },
   {
    "duration": 5,
    "start_time": "2022-04-10T21:11:21.321Z"
   },
   {
    "duration": 8,
    "start_time": "2022-04-10T21:11:22.493Z"
   },
   {
    "duration": 100,
    "start_time": "2022-04-10T21:12:00.296Z"
   },
   {
    "duration": 167,
    "start_time": "2022-04-10T21:12:02.024Z"
   },
   {
    "duration": 17022,
    "start_time": "2022-04-10T21:13:14.658Z"
   },
   {
    "duration": 2055,
    "start_time": "2022-04-10T21:13:37.160Z"
   },
   {
    "duration": 2100,
    "start_time": "2022-04-10T21:13:49.352Z"
   },
   {
    "duration": 8,
    "start_time": "2022-04-10T21:14:25.451Z"
   },
   {
    "duration": 7,
    "start_time": "2022-04-10T21:14:26.615Z"
   },
   {
    "duration": 17263,
    "start_time": "2022-04-10T21:14:46.893Z"
   },
   {
    "duration": 7,
    "start_time": "2022-04-10T21:15:17.443Z"
   },
   {
    "duration": 7,
    "start_time": "2022-04-10T21:15:18.500Z"
   },
   {
    "duration": 17072,
    "start_time": "2022-04-10T21:16:21.010Z"
   },
   {
    "duration": 36,
    "start_time": "2022-04-10T21:17:03.375Z"
   },
   {
    "duration": 34,
    "start_time": "2022-04-10T21:18:12.679Z"
   },
   {
    "duration": 4,
    "start_time": "2022-04-10T21:18:20.933Z"
   },
   {
    "duration": 7,
    "start_time": "2022-04-10T21:18:21.409Z"
   },
   {
    "duration": 18,
    "start_time": "2022-04-10T21:18:40.738Z"
   },
   {
    "duration": 4,
    "start_time": "2022-04-10T21:18:46.336Z"
   },
   {
    "duration": 6,
    "start_time": "2022-04-10T21:18:48.723Z"
   },
   {
    "duration": 36,
    "start_time": "2022-04-10T21:19:30.619Z"
   },
   {
    "duration": 2294,
    "start_time": "2022-04-10T21:20:10.509Z"
   },
   {
    "duration": 3,
    "start_time": "2022-04-10T21:20:22.659Z"
   },
   {
    "duration": 7,
    "start_time": "2022-04-10T21:20:24.435Z"
   },
   {
    "duration": 2313,
    "start_time": "2022-04-10T21:20:29.931Z"
   },
   {
    "duration": 4,
    "start_time": "2022-04-10T21:20:36.114Z"
   },
   {
    "duration": 6,
    "start_time": "2022-04-10T21:20:40.186Z"
   },
   {
    "duration": 2331,
    "start_time": "2022-04-10T21:21:00.438Z"
   },
   {
    "duration": 1373,
    "start_time": "2022-04-10T21:29:12.984Z"
   },
   {
    "duration": 17,
    "start_time": "2022-04-10T21:29:14.359Z"
   },
   {
    "duration": 20,
    "start_time": "2022-04-10T21:29:14.377Z"
   },
   {
    "duration": 7,
    "start_time": "2022-04-10T21:29:14.399Z"
   },
   {
    "duration": 20,
    "start_time": "2022-04-10T21:29:14.408Z"
   },
   {
    "duration": 5,
    "start_time": "2022-04-10T21:29:14.429Z"
   },
   {
    "duration": 5,
    "start_time": "2022-04-10T21:29:14.436Z"
   },
   {
    "duration": 9,
    "start_time": "2022-04-10T21:29:14.442Z"
   },
   {
    "duration": 4,
    "start_time": "2022-04-10T21:29:14.471Z"
   },
   {
    "duration": 98,
    "start_time": "2022-04-10T21:29:52.488Z"
   },
   {
    "duration": 16713,
    "start_time": "2022-04-10T21:30:25.832Z"
   },
   {
    "duration": 2200,
    "start_time": "2022-04-10T21:30:51.291Z"
   },
   {
    "duration": 2007,
    "start_time": "2022-04-10T21:30:59.310Z"
   },
   {
    "duration": 35,
    "start_time": "2022-04-10T21:32:25.847Z"
   },
   {
    "duration": 2506,
    "start_time": "2022-04-10T21:32:57.323Z"
   },
   {
    "duration": 25,
    "start_time": "2022-04-10T21:34:39.499Z"
   },
   {
    "duration": 100,
    "start_time": "2022-04-10T21:40:49.351Z"
   },
   {
    "duration": 5,
    "start_time": "2022-04-10T21:41:15.374Z"
   },
   {
    "duration": 5,
    "start_time": "2022-04-10T21:41:24.124Z"
   },
   {
    "duration": 6,
    "start_time": "2022-04-10T21:42:29.800Z"
   },
   {
    "duration": 6,
    "start_time": "2022-04-10T21:42:46.290Z"
   },
   {
    "duration": 5,
    "start_time": "2022-04-10T21:44:34.970Z"
   },
   {
    "duration": 6,
    "start_time": "2022-04-10T21:44:58.732Z"
   },
   {
    "duration": 4,
    "start_time": "2022-04-10T21:45:32.165Z"
   },
   {
    "duration": 4,
    "start_time": "2022-04-10T21:45:38.938Z"
   },
   {
    "duration": 4,
    "start_time": "2022-04-10T21:48:41.959Z"
   },
   {
    "duration": 4,
    "start_time": "2022-04-10T21:48:53.299Z"
   },
   {
    "duration": 7,
    "start_time": "2022-04-10T21:49:11.032Z"
   },
   {
    "duration": 4,
    "start_time": "2022-04-10T21:49:12.693Z"
   },
   {
    "duration": 4,
    "start_time": "2022-04-10T21:49:13.571Z"
   },
   {
    "duration": 6,
    "start_time": "2022-04-10T21:49:34.404Z"
   },
   {
    "duration": 4,
    "start_time": "2022-04-10T21:49:36.906Z"
   },
   {
    "duration": 4,
    "start_time": "2022-04-10T21:49:37.165Z"
   },
   {
    "duration": 4,
    "start_time": "2022-04-10T21:49:54.161Z"
   },
   {
    "duration": 6,
    "start_time": "2022-04-10T21:50:24.877Z"
   },
   {
    "duration": 4,
    "start_time": "2022-04-10T21:50:26.405Z"
   },
   {
    "duration": 3,
    "start_time": "2022-04-10T21:50:26.988Z"
   },
   {
    "duration": 6,
    "start_time": "2022-04-10T21:50:35.161Z"
   },
   {
    "duration": 4,
    "start_time": "2022-04-10T21:50:36.554Z"
   },
   {
    "duration": 4,
    "start_time": "2022-04-10T21:50:36.977Z"
   },
   {
    "duration": 6,
    "start_time": "2022-04-10T21:50:41.388Z"
   },
   {
    "duration": 5,
    "start_time": "2022-04-10T21:50:42.080Z"
   },
   {
    "duration": 3,
    "start_time": "2022-04-10T21:50:43.596Z"
   },
   {
    "duration": 6,
    "start_time": "2022-04-10T21:50:49.468Z"
   },
   {
    "duration": 4,
    "start_time": "2022-04-10T21:50:50.111Z"
   },
   {
    "duration": 4,
    "start_time": "2022-04-10T21:50:50.951Z"
   },
   {
    "duration": 1436,
    "start_time": "2022-04-10T22:01:53.817Z"
   },
   {
    "duration": 18,
    "start_time": "2022-04-10T22:01:55.255Z"
   },
   {
    "duration": 21,
    "start_time": "2022-04-10T22:01:55.274Z"
   },
   {
    "duration": 8,
    "start_time": "2022-04-10T22:01:55.296Z"
   },
   {
    "duration": 16,
    "start_time": "2022-04-10T22:01:55.306Z"
   },
   {
    "duration": 5,
    "start_time": "2022-04-10T22:01:55.323Z"
   },
   {
    "duration": 6,
    "start_time": "2022-04-10T22:01:55.329Z"
   },
   {
    "duration": 3,
    "start_time": "2022-04-10T22:01:55.336Z"
   },
   {
    "duration": 32,
    "start_time": "2022-04-10T22:01:55.340Z"
   },
   {
    "duration": 98,
    "start_time": "2022-04-10T22:01:55.373Z"
   },
   {
    "duration": 173,
    "start_time": "2022-04-10T22:01:55.473Z"
   },
   {
    "duration": 17240,
    "start_time": "2022-04-10T22:01:55.647Z"
   },
   {
    "duration": 2039,
    "start_time": "2022-04-10T22:02:12.888Z"
   },
   {
    "duration": 1974,
    "start_time": "2022-04-10T22:02:14.929Z"
   },
   {
    "duration": 32,
    "start_time": "2022-04-10T22:02:16.905Z"
   },
   {
    "duration": 2347,
    "start_time": "2022-04-10T22:02:16.938Z"
   },
   {
    "duration": 108,
    "start_time": "2022-04-10T22:02:19.287Z"
   },
   {
    "duration": 6,
    "start_time": "2022-04-10T22:02:19.396Z"
   },
   {
    "duration": 2259,
    "start_time": "2022-04-15T20:23:24.732Z"
   },
   {
    "duration": 16,
    "start_time": "2022-04-15T20:23:26.994Z"
   },
   {
    "duration": 40,
    "start_time": "2022-04-15T20:23:27.013Z"
   },
   {
    "duration": 12,
    "start_time": "2022-04-15T20:23:27.055Z"
   },
   {
    "duration": 55,
    "start_time": "2022-04-15T20:23:27.070Z"
   },
   {
    "duration": 9,
    "start_time": "2022-04-15T20:23:27.127Z"
   },
   {
    "duration": 8,
    "start_time": "2022-04-15T20:23:27.138Z"
   },
   {
    "duration": 8,
    "start_time": "2022-04-15T20:23:27.148Z"
   },
   {
    "duration": 12,
    "start_time": "2022-04-15T20:23:27.158Z"
   },
   {
    "duration": 209,
    "start_time": "2022-04-15T20:23:27.172Z"
   },
   {
    "duration": 374,
    "start_time": "2022-04-15T20:23:27.383Z"
   },
   {
    "duration": 29185,
    "start_time": "2022-04-15T20:23:27.759Z"
   },
   {
    "duration": 3974,
    "start_time": "2022-04-15T20:23:56.947Z"
   },
   {
    "duration": 4345,
    "start_time": "2022-04-15T20:24:00.925Z"
   },
   {
    "duration": 86,
    "start_time": "2022-04-15T20:24:05.273Z"
   },
   {
    "duration": 3662,
    "start_time": "2022-04-15T20:24:05.362Z"
   },
   {
    "duration": 163,
    "start_time": "2022-04-15T20:24:09.026Z"
   },
   {
    "duration": 11,
    "start_time": "2022-04-15T20:24:09.191Z"
   },
   {
    "duration": 1982,
    "start_time": "2022-04-15T20:31:35.276Z"
   },
   {
    "duration": 16,
    "start_time": "2022-04-15T20:31:37.261Z"
   },
   {
    "duration": 35,
    "start_time": "2022-04-15T20:31:37.279Z"
   },
   {
    "duration": 23,
    "start_time": "2022-04-15T20:31:37.317Z"
   },
   {
    "duration": 33,
    "start_time": "2022-04-15T20:31:37.342Z"
   },
   {
    "duration": 9,
    "start_time": "2022-04-15T20:31:37.378Z"
   },
   {
    "duration": 10,
    "start_time": "2022-04-15T20:31:37.432Z"
   },
   {
    "duration": 7,
    "start_time": "2022-04-15T20:31:37.444Z"
   },
   {
    "duration": 11,
    "start_time": "2022-04-15T20:31:37.453Z"
   },
   {
    "duration": 192,
    "start_time": "2022-04-15T20:31:37.468Z"
   },
   {
    "duration": 389,
    "start_time": "2022-04-15T20:31:37.663Z"
   },
   {
    "duration": 30596,
    "start_time": "2022-04-15T20:31:38.054Z"
   },
   {
    "duration": 3841,
    "start_time": "2022-04-15T20:32:08.652Z"
   },
   {
    "duration": 3900,
    "start_time": "2022-04-15T20:32:12.496Z"
   },
   {
    "duration": 84,
    "start_time": "2022-04-15T20:32:16.398Z"
   },
   {
    "duration": 3017,
    "start_time": "2022-04-15T20:32:16.484Z"
   },
   {
    "duration": 160,
    "start_time": "2022-04-15T20:32:19.503Z"
   },
   {
    "duration": 8,
    "start_time": "2022-04-15T20:32:19.665Z"
   },
   {
    "duration": 460,
    "start_time": "2022-04-15T20:34:17.608Z"
   },
   {
    "duration": 256,
    "start_time": "2022-04-15T20:34:33.284Z"
   },
   {
    "duration": 356,
    "start_time": "2022-04-15T20:34:35.918Z"
   },
   {
    "duration": 348,
    "start_time": "2022-04-15T20:36:19.068Z"
   },
   {
    "duration": 349,
    "start_time": "2022-04-15T20:36:29.168Z"
   },
   {
    "duration": 342,
    "start_time": "2022-04-15T20:36:33.940Z"
   },
   {
    "duration": 348,
    "start_time": "2022-04-15T20:36:37.832Z"
   },
   {
    "duration": 31632,
    "start_time": "2022-04-15T20:39:14.210Z"
   },
   {
    "duration": 4308,
    "start_time": "2022-04-15T20:39:56.460Z"
   },
   {
    "duration": 6224,
    "start_time": "2022-04-15T20:41:24.941Z"
   },
   {
    "duration": 3796,
    "start_time": "2022-04-15T20:43:04.711Z"
   },
   {
    "duration": 3684,
    "start_time": "2022-04-15T20:43:18.788Z"
   },
   {
    "duration": 3840,
    "start_time": "2022-04-15T20:43:30.423Z"
   },
   {
    "duration": 3859,
    "start_time": "2022-04-15T20:43:37.913Z"
   },
   {
    "duration": 3862,
    "start_time": "2022-04-15T20:44:10.572Z"
   },
   {
    "duration": 4652,
    "start_time": "2022-04-15T20:44:23.858Z"
   },
   {
    "duration": 3970,
    "start_time": "2022-04-15T20:44:34.664Z"
   },
   {
    "duration": 3783,
    "start_time": "2022-04-15T20:44:46.383Z"
   },
   {
    "duration": 4015,
    "start_time": "2022-04-15T20:44:55.066Z"
   },
   {
    "duration": 167,
    "start_time": "2022-04-15T20:45:29.600Z"
   },
   {
    "duration": 551,
    "start_time": "2022-04-15T20:45:31.451Z"
   },
   {
    "duration": 354,
    "start_time": "2022-04-15T20:45:39.215Z"
   },
   {
    "duration": 29547,
    "start_time": "2022-04-15T20:45:53.658Z"
   },
   {
    "duration": 3655,
    "start_time": "2022-04-15T20:46:59.388Z"
   },
   {
    "duration": 2039,
    "start_time": "2022-04-15T20:47:47.269Z"
   },
   {
    "duration": 17,
    "start_time": "2022-04-15T20:47:49.310Z"
   },
   {
    "duration": 35,
    "start_time": "2022-04-15T20:47:49.330Z"
   },
   {
    "duration": 12,
    "start_time": "2022-04-15T20:47:49.368Z"
   },
   {
    "duration": 58,
    "start_time": "2022-04-15T20:47:49.382Z"
   },
   {
    "duration": 7,
    "start_time": "2022-04-15T20:47:49.442Z"
   },
   {
    "duration": 8,
    "start_time": "2022-04-15T20:47:49.451Z"
   },
   {
    "duration": 11,
    "start_time": "2022-04-15T20:47:49.461Z"
   },
   {
    "duration": 12,
    "start_time": "2022-04-15T20:47:49.474Z"
   },
   {
    "duration": 207,
    "start_time": "2022-04-15T20:47:49.490Z"
   },
   {
    "duration": 400,
    "start_time": "2022-04-15T20:47:49.699Z"
   },
   {
    "duration": 29284,
    "start_time": "2022-04-15T20:47:50.101Z"
   },
   {
    "duration": 3774,
    "start_time": "2022-04-15T20:48:19.387Z"
   },
   {
    "duration": 3721,
    "start_time": "2022-04-15T20:48:23.164Z"
   },
   {
    "duration": 82,
    "start_time": "2022-04-15T20:48:26.887Z"
   },
   {
    "duration": 3103,
    "start_time": "2022-04-15T20:48:26.972Z"
   },
   {
    "duration": 218,
    "start_time": "2022-04-15T20:48:30.078Z"
   },
   {
    "duration": 28,
    "start_time": "2022-04-15T20:48:30.299Z"
   }
  ],
  "kernelspec": {
   "display_name": "Python 3 (ipykernel)",
   "language": "python",
   "name": "python3"
  },
  "language_info": {
   "codemirror_mode": {
    "name": "ipython",
    "version": 3
   },
   "file_extension": ".py",
   "mimetype": "text/x-python",
   "name": "python",
   "nbconvert_exporter": "python",
   "pygments_lexer": "ipython3",
   "version": "3.9.12"
  },
  "toc": {
   "base_numbering": 1,
   "nav_menu": {},
   "number_sections": true,
   "sideBar": true,
   "skip_h1_title": true,
   "title_cell": "Содержание",
   "title_sidebar": "Содержание",
   "toc_cell": true,
   "toc_position": {},
   "toc_section_display": true,
   "toc_window_display": false
  }
 },
 "nbformat": 4,
 "nbformat_minor": 5
}

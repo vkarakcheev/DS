{
 "cells": [
  {
   "cell_type": "markdown",
   "metadata": {
    "tags": []
   },
   "source": [
    "# Защита персональных данных клиентов"
   ]
  },
  {
   "cell_type": "markdown",
   "metadata": {},
   "source": [
    "Нужно защитить данные клиентов страховой компании «Хоть потоп», разработав такой метод преобразования данных, чтобы а) по ним было сложно восстановить персональную информацию и б) при преобразовании качество модели линейной регрессии не ухудшалось. Корректность работы метода необходимо обосновать."
   ]
  },
  {
   "cell_type": "markdown",
   "metadata": {
    "tags": [],
    "toc": true
   },
   "source": [
    "<h1>Содержание<span class=\"tocSkip\"></span></h1>\n",
    "<div class=\"toc\"><ul class=\"toc-item\"><li><span><a href=\"#Загрузка-данных\" data-toc-modified-id=\"Загрузка-данных-1\"><span class=\"toc-item-num\">1&nbsp;&nbsp;</span>Загрузка данных</a></span></li><li><span><a href=\"#Обоснование-алгоритма-преобразования\" data-toc-modified-id=\"Обоснование-алгоритма-преобразования-2\"><span class=\"toc-item-num\">2&nbsp;&nbsp;</span>Обоснование алгоритма преобразования</a></span></li><li><span><a href=\"#Проверка-алгоритма\" data-toc-modified-id=\"Проверка-алгоритма-3\"><span class=\"toc-item-num\">3&nbsp;&nbsp;</span>Проверка алгоритма</a></span></li><li><span><a href=\"#Чек-лист-проверки\" data-toc-modified-id=\"Чек-лист-проверки-4\"><span class=\"toc-item-num\">4&nbsp;&nbsp;</span>Чек-лист проверки</a></span></li></ul></div>"
   ]
  },
  {
   "cell_type": "markdown",
   "metadata": {},
   "source": [
    "## Загрузка данных"
   ]
  },
  {
   "cell_type": "markdown",
   "metadata": {},
   "source": [
    "Подключим необходимые библиотеки и выставим полезные умолчания."
   ]
  },
  {
   "cell_type": "code",
   "execution_count": 22,
   "metadata": {},
   "outputs": [],
   "source": [
    "import os\n",
    "import numpy as np\n",
    "import pandas as pd\n",
    "import matplotlib.pyplot as plt\n",
    "from sklearn.metrics import r2_score\n",
    "from sklearn.model_selection import train_test_split\n",
    "\n",
    "plt.style.use('dark_background');            # Dark theme for plots\n",
    "plt.rc('grid', color=(.3, .3, .3));          # Pale grid lines\n",
    "plt.rc('axes', grid=True, axisbelow=True);   # Grid lines behind the plot"
   ]
  },
  {
   "cell_type": "markdown",
   "metadata": {},
   "source": [
    "Загрузим датасет и взглянем на него."
   ]
  },
  {
   "cell_type": "code",
   "execution_count": 23,
   "metadata": {},
   "outputs": [
    {
     "name": "stdout",
     "output_type": "stream",
     "text": [
      "C:\\users\\Victor\\Projects\\8. Линейная алгебра\\insurance.csv\n"
     ]
    }
   ],
   "source": [
    "path = r'C:\\users\\Victor\\Projects\\8. Линейная алгебра\\insurance.csv'\n",
    "if not os.path.exists(path):\n",
    "    path = '/datasets/insurance.csv'\n",
    "    if not os.path.exists(path): \n",
    "        path = 'https://code.s3.yandex.net' + path\n",
    "print(path)\n",
    "try:\n",
    "    df = pd.read_csv(path)\n",
    "except HTTPError as err:\n",
    "    print(f'{err} {path}')"
   ]
  },
  {
   "cell_type": "code",
   "execution_count": 24,
   "metadata": {},
   "outputs": [
    {
     "data": {
      "text/html": [
       "<div>\n",
       "<style scoped>\n",
       "    .dataframe tbody tr th:only-of-type {\n",
       "        vertical-align: middle;\n",
       "    }\n",
       "\n",
       "    .dataframe tbody tr th {\n",
       "        vertical-align: top;\n",
       "    }\n",
       "\n",
       "    .dataframe thead th {\n",
       "        text-align: right;\n",
       "    }\n",
       "</style>\n",
       "<table border=\"1\" class=\"dataframe\">\n",
       "  <thead>\n",
       "    <tr style=\"text-align: right;\">\n",
       "      <th></th>\n",
       "      <th>Пол</th>\n",
       "      <th>Возраст</th>\n",
       "      <th>Зарплата</th>\n",
       "      <th>Члены семьи</th>\n",
       "      <th>Страховые выплаты</th>\n",
       "    </tr>\n",
       "  </thead>\n",
       "  <tbody>\n",
       "    <tr>\n",
       "      <th>0</th>\n",
       "      <td>1</td>\n",
       "      <td>41.0</td>\n",
       "      <td>49600.0</td>\n",
       "      <td>1</td>\n",
       "      <td>0</td>\n",
       "    </tr>\n",
       "    <tr>\n",
       "      <th>1</th>\n",
       "      <td>0</td>\n",
       "      <td>46.0</td>\n",
       "      <td>38000.0</td>\n",
       "      <td>1</td>\n",
       "      <td>1</td>\n",
       "    </tr>\n",
       "    <tr>\n",
       "      <th>2</th>\n",
       "      <td>0</td>\n",
       "      <td>29.0</td>\n",
       "      <td>21000.0</td>\n",
       "      <td>0</td>\n",
       "      <td>0</td>\n",
       "    </tr>\n",
       "    <tr>\n",
       "      <th>3</th>\n",
       "      <td>0</td>\n",
       "      <td>21.0</td>\n",
       "      <td>41700.0</td>\n",
       "      <td>2</td>\n",
       "      <td>0</td>\n",
       "    </tr>\n",
       "    <tr>\n",
       "      <th>4</th>\n",
       "      <td>1</td>\n",
       "      <td>28.0</td>\n",
       "      <td>26100.0</td>\n",
       "      <td>0</td>\n",
       "      <td>0</td>\n",
       "    </tr>\n",
       "    <tr>\n",
       "      <th>...</th>\n",
       "      <td>...</td>\n",
       "      <td>...</td>\n",
       "      <td>...</td>\n",
       "      <td>...</td>\n",
       "      <td>...</td>\n",
       "    </tr>\n",
       "    <tr>\n",
       "      <th>4995</th>\n",
       "      <td>0</td>\n",
       "      <td>28.0</td>\n",
       "      <td>35700.0</td>\n",
       "      <td>2</td>\n",
       "      <td>0</td>\n",
       "    </tr>\n",
       "    <tr>\n",
       "      <th>4996</th>\n",
       "      <td>0</td>\n",
       "      <td>34.0</td>\n",
       "      <td>52400.0</td>\n",
       "      <td>1</td>\n",
       "      <td>0</td>\n",
       "    </tr>\n",
       "    <tr>\n",
       "      <th>4997</th>\n",
       "      <td>0</td>\n",
       "      <td>20.0</td>\n",
       "      <td>33900.0</td>\n",
       "      <td>2</td>\n",
       "      <td>0</td>\n",
       "    </tr>\n",
       "    <tr>\n",
       "      <th>4998</th>\n",
       "      <td>1</td>\n",
       "      <td>22.0</td>\n",
       "      <td>32700.0</td>\n",
       "      <td>3</td>\n",
       "      <td>0</td>\n",
       "    </tr>\n",
       "    <tr>\n",
       "      <th>4999</th>\n",
       "      <td>1</td>\n",
       "      <td>28.0</td>\n",
       "      <td>40600.0</td>\n",
       "      <td>1</td>\n",
       "      <td>0</td>\n",
       "    </tr>\n",
       "  </tbody>\n",
       "</table>\n",
       "<p>5000 rows × 5 columns</p>\n",
       "</div>"
      ],
      "text/plain": [
       "      Пол  Возраст  Зарплата  Члены семьи  Страховые выплаты\n",
       "0       1     41.0   49600.0            1                  0\n",
       "1       0     46.0   38000.0            1                  1\n",
       "2       0     29.0   21000.0            0                  0\n",
       "3       0     21.0   41700.0            2                  0\n",
       "4       1     28.0   26100.0            0                  0\n",
       "...   ...      ...       ...          ...                ...\n",
       "4995    0     28.0   35700.0            2                  0\n",
       "4996    0     34.0   52400.0            1                  0\n",
       "4997    0     20.0   33900.0            2                  0\n",
       "4998    1     22.0   32700.0            3                  0\n",
       "4999    1     28.0   40600.0            1                  0\n",
       "\n",
       "[5000 rows x 5 columns]"
      ]
     },
     "execution_count": 24,
     "metadata": {},
     "output_type": "execute_result"
    }
   ],
   "source": [
    "df"
   ]
  },
  {
   "cell_type": "code",
   "execution_count": 25,
   "metadata": {},
   "outputs": [
    {
     "name": "stdout",
     "output_type": "stream",
     "text": [
      "<class 'pandas.core.frame.DataFrame'>\n",
      "RangeIndex: 5000 entries, 0 to 4999\n",
      "Data columns (total 5 columns):\n",
      " #   Column             Non-Null Count  Dtype  \n",
      "---  ------             --------------  -----  \n",
      " 0   Пол                5000 non-null   int64  \n",
      " 1   Возраст            5000 non-null   float64\n",
      " 2   Зарплата           5000 non-null   float64\n",
      " 3   Члены семьи        5000 non-null   int64  \n",
      " 4   Страховые выплаты  5000 non-null   int64  \n",
      "dtypes: float64(2), int64(3)\n",
      "memory usage: 195.4 KB\n"
     ]
    }
   ],
   "source": [
    "df.info()"
   ]
  },
  {
   "cell_type": "code",
   "execution_count": 26,
   "metadata": {},
   "outputs": [
    {
     "data": {
      "image/png": "[encoded data removed]",
      "text/plain": [
       "<Figure size 1296x576 with 6 Axes>"
      ]
     },
     "metadata": {},
     "output_type": "display_data"
    }
   ],
   "source": [
    "df.hist(edgecolor='k', layout=(2, 3), figsize=(18, 8));"
   ]
  },
  {
   "cell_type": "markdown",
   "metadata": {},
   "source": [
    "Пропусков нет. Распределение значений в столбцах адекватное. Переименуем столбцы."
   ]
  },
  {
   "cell_type": "code",
   "execution_count": 27,
   "metadata": {},
   "outputs": [],
   "source": [
    "df.columns = ['gender', 'age', 'salary', 'n_family_members', 'n_insurance_payouts']"
   ]
  },
  {
   "cell_type": "markdown",
   "metadata": {},
   "source": [
    "Проверим датасет на наличие полных дублей."
   ]
  },
  {
   "cell_type": "code",
   "execution_count": 28,
   "metadata": {},
   "outputs": [
    {
     "data": {
      "text/html": [
       "<div>\n",
       "<style scoped>\n",
       "    .dataframe tbody tr th:only-of-type {\n",
       "        vertical-align: middle;\n",
       "    }\n",
       "\n",
       "    .dataframe tbody tr th {\n",
       "        vertical-align: top;\n",
       "    }\n",
       "\n",
       "    .dataframe thead th {\n",
       "        text-align: right;\n",
       "    }\n",
       "</style>\n",
       "<table border=\"1\" class=\"dataframe\">\n",
       "  <thead>\n",
       "    <tr style=\"text-align: right;\">\n",
       "      <th></th>\n",
       "      <th>gender</th>\n",
       "      <th>age</th>\n",
       "      <th>salary</th>\n",
       "      <th>n_family_members</th>\n",
       "      <th>n_insurance_payouts</th>\n",
       "    </tr>\n",
       "  </thead>\n",
       "  <tbody>\n",
       "    <tr>\n",
       "      <th>281</th>\n",
       "      <td>1</td>\n",
       "      <td>39.0</td>\n",
       "      <td>48100.0</td>\n",
       "      <td>1</td>\n",
       "      <td>0</td>\n",
       "    </tr>\n",
       "    <tr>\n",
       "      <th>488</th>\n",
       "      <td>1</td>\n",
       "      <td>24.0</td>\n",
       "      <td>32900.0</td>\n",
       "      <td>1</td>\n",
       "      <td>0</td>\n",
       "    </tr>\n",
       "    <tr>\n",
       "      <th>513</th>\n",
       "      <td>0</td>\n",
       "      <td>31.0</td>\n",
       "      <td>37400.0</td>\n",
       "      <td>2</td>\n",
       "      <td>0</td>\n",
       "    </tr>\n",
       "    <tr>\n",
       "      <th>718</th>\n",
       "      <td>1</td>\n",
       "      <td>22.0</td>\n",
       "      <td>32600.0</td>\n",
       "      <td>1</td>\n",
       "      <td>0</td>\n",
       "    </tr>\n",
       "    <tr>\n",
       "      <th>785</th>\n",
       "      <td>0</td>\n",
       "      <td>20.0</td>\n",
       "      <td>35800.0</td>\n",
       "      <td>0</td>\n",
       "      <td>0</td>\n",
       "    </tr>\n",
       "    <tr>\n",
       "      <th>...</th>\n",
       "      <td>...</td>\n",
       "      <td>...</td>\n",
       "      <td>...</td>\n",
       "      <td>...</td>\n",
       "      <td>...</td>\n",
       "    </tr>\n",
       "    <tr>\n",
       "      <th>4793</th>\n",
       "      <td>1</td>\n",
       "      <td>24.0</td>\n",
       "      <td>37800.0</td>\n",
       "      <td>0</td>\n",
       "      <td>0</td>\n",
       "    </tr>\n",
       "    <tr>\n",
       "      <th>4902</th>\n",
       "      <td>1</td>\n",
       "      <td>35.0</td>\n",
       "      <td>38700.0</td>\n",
       "      <td>1</td>\n",
       "      <td>0</td>\n",
       "    </tr>\n",
       "    <tr>\n",
       "      <th>4935</th>\n",
       "      <td>1</td>\n",
       "      <td>19.0</td>\n",
       "      <td>32700.0</td>\n",
       "      <td>0</td>\n",
       "      <td>0</td>\n",
       "    </tr>\n",
       "    <tr>\n",
       "      <th>4945</th>\n",
       "      <td>1</td>\n",
       "      <td>21.0</td>\n",
       "      <td>45800.0</td>\n",
       "      <td>0</td>\n",
       "      <td>0</td>\n",
       "    </tr>\n",
       "    <tr>\n",
       "      <th>4965</th>\n",
       "      <td>0</td>\n",
       "      <td>22.0</td>\n",
       "      <td>40100.0</td>\n",
       "      <td>1</td>\n",
       "      <td>0</td>\n",
       "    </tr>\n",
       "  </tbody>\n",
       "</table>\n",
       "<p>153 rows × 5 columns</p>\n",
       "</div>"
      ],
      "text/plain": [
       "      gender   age   salary  n_family_members  n_insurance_payouts\n",
       "281        1  39.0  48100.0                 1                    0\n",
       "488        1  24.0  32900.0                 1                    0\n",
       "513        0  31.0  37400.0                 2                    0\n",
       "718        1  22.0  32600.0                 1                    0\n",
       "785        0  20.0  35800.0                 0                    0\n",
       "...      ...   ...      ...               ...                  ...\n",
       "4793       1  24.0  37800.0                 0                    0\n",
       "4902       1  35.0  38700.0                 1                    0\n",
       "4935       1  19.0  32700.0                 0                    0\n",
       "4945       1  21.0  45800.0                 0                    0\n",
       "4965       0  22.0  40100.0                 1                    0\n",
       "\n",
       "[153 rows x 5 columns]"
      ]
     },
     "execution_count": 28,
     "metadata": {},
     "output_type": "execute_result"
    }
   ],
   "source": [
    "df[df.duplicated()]"
   ]
  },
  {
   "cell_type": "markdown",
   "metadata": {},
   "source": [
    "153 полных дубля. Здесь их наличие допустимо, потому что в датасете нет столбца с id клиента, а совпадение клиентов по представленному набору признаков вполне вероятно."
   ]
  },
  {
   "cell_type": "markdown",
   "metadata": {},
   "source": [
    "Приведем столбцы к более экономичным типам данных."
   ]
  },
  {
   "cell_type": "code",
   "execution_count": 8,
   "metadata": {},
   "outputs": [
    {
     "name": "stdout",
     "output_type": "stream",
     "text": [
      "<class 'pandas.core.frame.DataFrame'>\n",
      "RangeIndex: 5000 entries, 0 to 4999\n",
      "Data columns (total 5 columns):\n",
      " #   Column              Non-Null Count  Dtype \n",
      "---  ------              --------------  ----- \n",
      " 0   gender              5000 non-null   uint8 \n",
      " 1   age                 5000 non-null   uint8 \n",
      " 2   salary              5000 non-null   uint32\n",
      " 3   n_family_members    5000 non-null   uint8 \n",
      " 4   n_insurace_payouts  5000 non-null   uint8 \n",
      "dtypes: uint32(1), uint8(4)\n",
      "memory usage: 39.2 KB\n"
     ]
    }
   ],
   "source": [
    "df = df.round().astype(int).apply(pd.to_numeric, downcast='unsigned')\n",
    "df.info()"
   ]
  },
  {
   "cell_type": "markdown",
   "metadata": {},
   "source": [
    "## Обоснование алгоритма преобразования"
   ]
  },
  {
   "cell_type": "markdown",
   "metadata": {},
   "source": [
    "Далее будем использовать следующие обозначения:\n",
    "- $n$ – число объектов (строк) в датасете\n",
    "- $m$ – число признаков в датасете\n",
    "- $y$ – вектор целевого признака длины $n$\n",
    "- $X$ – матрица признаков размера $n \\times m$\n",
    "- $X_1$ – расширенная матрица признаков (нулевой столбец состоит из единиц) размера $n \\times (m+1)$\n",
    "- $P$ – обратимая шифрующая матрица размера $m \\times m$\n",
    "- $P_1$ – обратимая матрица размера $(m+1) \\times (m+1)$\n",
    "- $w$ – вектор весов линейной регрессии длины $m+1$ (нулевой элемент равен сдвигу)\n",
    "- $a$ – вектор предсказаний линейной регрессии длины $n$\n",
    "- $\\tilde{X}$, $\\tilde{X_1}$, $\\tilde{w}$, $\\tilde{a}$ – матрицы и векторы после преобразования"
   ]
  },
  {
   "cell_type": "markdown",
   "metadata": {},
   "source": [
    "В качестве алгоритма преобразования исследуем умножение матрицы признаков справа на обратимую шифрующую матрицу $P$ размера $m \\times m$. "
   ]
  },
  {
   "cell_type": "markdown",
   "metadata": {},
   "source": [
    "Сначала докажем, что умножение расширенной матрицы признаков $X_1$ справа на *любую* обратимую матрицу $P_1$ в формуле вектора весов линейной регрессии *не меняет* предсказания последней. Подставим выражение для преобразованной расширенной матрицы признаков $\\tilde{X_1} = X_1 P_1$ в формулу вектора весов: "
   ]
  },
  {
   "cell_type": "markdown",
   "metadata": {},
   "source": [
    "$$\n",
    "\\tilde{w} = \\left(\\tilde{X_1}^T \\tilde{X_1}\\right)^{-1} \\tilde{X_1}^T y = \\newline\n",
    "= \\left[\\left(X_1P_1\\right)^T X_1P_1\\right]^{-1} \\left(X_1P_1\\right)^T y = \\newline\n",
    "= \\left(P_1^T X_1^T X_1P_1\\right)^{-1} P_1^T X_1^T y = \\newline\n",
    "= P_1^{-1} \\left(X_1^T X_1\\right)^{-1} \\left(P_1^T\\right)^{-1} P_1^T X_1^T y =\\newline\n",
    "= P_1^{-1} \\left(X_1^T X_1\\right)^{-1} X_1^T y = \\newline\n",
    "= P_1^{-1} w\n",
    "$$"
   ]
  },
  {
   "cell_type": "markdown",
   "metadata": {},
   "source": [
    "Новые веса получаются из старых умножением слева на матрицу, обратную $P_1$. Подставим этот результат в формулу предсказаний линейной регрессии, сделанных на преобразованной той же матрицей $P_1$ признаках:"
   ]
  },
  {
   "cell_type": "markdown",
   "metadata": {},
   "source": [
    "$$\n",
    "\\tilde{a} = \\tilde{X_1} \\tilde{w} = X_1 P_1 P_1^{-1} w = X_1 w = a\n",
    "$$"
   ]
  },
  {
   "cell_type": "markdown",
   "metadata": {},
   "source": [
    "Предсказания не отличаются от сделанных на *исходной* расширенной матрице признаков. По последней выкладке также видно, что то же самое будет верно и для любого другого (не обучающего) набора признаков."
   ]
  },
  {
   "cell_type": "markdown",
   "metadata": {},
   "source": [
    "Теперь докажем, что для любой обратимой матрицы $P$ размера $m \\times m$ существует такая обратимая матрица ${P_1}$ размера $(m+1) \\times (m+1)$, что умножение матрицы признаков $X$ справа на $P$ и последующее добавление к результату нулевого столбца из единиц (расширение) эквивалентно умножению расширенной (с нулевым столбцом из единиц) матрицы признаков $X_1$ справа на $P_1$. Рассмотрим матрицу ${P_1}$ следующего вида:"
   ]
  },
  {
   "cell_type": "markdown",
   "metadata": {},
   "source": [
    "$$\n",
    "{P_1} = \\begin{pmatrix}\n",
    "         1 & \\begin{matrix} 0 & \\cdots & 0 \\end{matrix} \\\\\n",
    "         \\begin{matrix} 0 \\\\ \\vdots \\\\ 0 \\end{matrix} & {\\huge P}\n",
    "      \\end{pmatrix}\n",
    "$$"
   ]
  },
  {
   "cell_type": "markdown",
   "metadata": {},
   "source": [
    "${P_1}$ – это матрица $P$, расширенная сверху на одну строку и слева на один столбец. В нулевой строке расширенной матрицы первый елемент равен единице, остальные – нулю; аналогично и в нулевом столбце."
   ]
  },
  {
   "cell_type": "markdown",
   "metadata": {},
   "source": [
    "Легко показать, что если матрица $P$ обратима, то обратима и матрица ${P_1}$. Действительно, обратимость матрицы [эквивалентна](https://ru.wikipedia.org/wiki/Обратная_матрица) неравенству нулю ее определителя. Если разложить определитель матрицы ${P_1}$ на [миноры](https://ru.wikipedia.org/wiki/Минор_(линейная_алгебра)) по нулевой строке, то все слагаемые, кроме первого, будут равны нулю, а значит определитель матрицы ${P_1}$ равен определителю матрицы $P$:"
   ]
  },
  {
   "cell_type": "markdown",
   "metadata": {},
   "source": [
    "$$\n",
    "\\det{P_1} = \\det P\n",
    "$$"
   ]
  },
  {
   "cell_type": "markdown",
   "metadata": {},
   "source": [
    "Поэтому если матрица $P$ обратима, то обратима и матрица ${P_1}$. "
   ]
  },
  {
   "cell_type": "markdown",
   "metadata": {},
   "source": [
    "Далее покажем, что умножение расширенной матрицы признаков справа на ${P_1}$ дает расширенную версию (нулевой столбец состоит из единиц) *преобразованной* матрицы признаков:"
   ]
  },
  {
   "cell_type": "markdown",
   "metadata": {},
   "source": [
    "$$\n",
    "X_1 {P_1} = \n",
    "\\begin{pmatrix}\n",
    "    \\begin{matrix} 1 \\\\ 1 \\\\ 1 \\\\ \\vdots \\\\ 1 \\end{matrix} \n",
    "    & {\\huge X}\n",
    "\\end{pmatrix}\n",
    "\\begin{pmatrix}\n",
    "    1 & \\begin{matrix} 0 & \\cdots & 0 \\end{matrix} \\\\\n",
    "    \\begin{matrix} 0 \\\\ \\vdots \\\\ 0 \\end{matrix} & {\\huge P}\n",
    "\\end{pmatrix} =\n",
    "\\begin{pmatrix}\n",
    "    \\begin{matrix} 1 \\\\ 1 \\\\ 1 \\\\ \\vdots \\\\ 1 \\end{matrix} \n",
    "    & {\\huge XP}\n",
    "\\end{pmatrix} =\n",
    "\\begin{pmatrix}\n",
    "    \\begin{matrix} 1 \\\\ 1 \\\\ 1 \\\\ \\vdots \\\\ 1 \\end{matrix} \n",
    "    & {\\huge \\tilde{X}}\n",
    "\\end{pmatrix}\n",
    "$$"
   ]
  },
  {
   "cell_type": "markdown",
   "metadata": {},
   "source": [
    "То есть умножение расширенной матрицы признаков $X_1$ справа на ${P_1}$ эквивалентно умножению матрицы признаков $X$ справа на $P$ и последующее добавление к результату нулевого столбца из единиц (расширение)."
   ]
  },
  {
   "cell_type": "markdown",
   "metadata": {},
   "source": [
    "Таким образом, мы доказали, что:\n",
    "1) умножение расширенной матрицы признаков справа на любую обратимую матрицу в формуле вектора весов линейной регрессии не меняет предсказания линейной регрессии;\n",
    "2) умножение матрицы признаков $X$ справа на обратимую матрицу $P$ с последующим расширением эквивалентно умножению расширенной матрицы признаков $X_1$ справа на обратимую матрицу ${P_1}$.\n",
    "\n",
    "Значит алгоритм, заключающийся в умножении матрицы признаков справа на обратимую матрицу, подходит для шифрования признаков в модели линейной регрессии, потому что не меняет предсказания последней."
   ]
  },
  {
   "cell_type": "markdown",
   "metadata": {},
   "source": [
    "## Проверка алгоритма"
   ]
  },
  {
   "cell_type": "markdown",
   "metadata": {},
   "source": [
    "Напишем класс модели линейной регрессии."
   ]
  },
  {
   "cell_type": "code",
   "execution_count": 29,
   "metadata": {},
   "outputs": [],
   "source": [
    "class LinearRegression:\n",
    "    def __init__(self):\n",
    "        pass\n",
    "    def fit(self, X, y):\n",
    "        self._X = np.concatenate((np.ones((X.shape[0], 1)), X), axis=1)\n",
    "        self._w = np.linalg.inv(self._X.T @ self._X) @ self._X.T @ y\n",
    "        return self\n",
    "    def predict(self, X):\n",
    "        return self._w[0] + X @ self._w[1:]  "
   ]
  },
  {
   "cell_type": "markdown",
   "metadata": {},
   "source": [
    "Отделим целевой признак от остальных и разделим результат на обучающую и тестовую выборки."
   ]
  },
  {
   "cell_type": "code",
   "execution_count": 30,
   "metadata": {},
   "outputs": [],
   "source": [
    "target = 'n_insurance_payouts'\n",
    "X = df.drop(columns=target).copy()\n",
    "y = df[target].copy()\n",
    "X_train, X_test, y_train, y_test = train_test_split(X, y, test_size=.25)"
   ]
  },
  {
   "cell_type": "code",
   "execution_count": 31,
   "metadata": {},
   "outputs": [
    {
     "name": "stdout",
     "output_type": "stream",
     "text": [
      "(3750, 4) (1250, 4)\n",
      "(3750,) (1250,)\n"
     ]
    }
   ],
   "source": [
    "print(X_train.shape, X_test.shape)\n",
    "print(y_train.shape, y_test.shape)"
   ]
  },
  {
   "cell_type": "markdown",
   "metadata": {},
   "source": [
    "Сгенерируем случайную обратимую матрицу $P$ нужного размера."
   ]
  },
  {
   "cell_type": "code",
   "execution_count": 20,
   "metadata": {},
   "outputs": [
    {
     "data": {
      "text/plain": [
       "0.3738455151423487"
      ]
     },
     "execution_count": 20,
     "metadata": {},
     "output_type": "execute_result"
    }
   ],
   "source": [
    "while True:\n",
    "    P = np.random.rand(X.shape[1], X.shape[1])\n",
    "    if np.linalg.det(P) != 0: break\n",
    "np.linalg.det(P)"
   ]
  },
  {
   "cell_type": "markdown",
   "metadata": {},
   "source": [
    "Обучим на обучающей выборке две модели: без шифрования признаков и с ним – и сравним коэффициент детерминации $R^2$ моделей на тестовой выборке."
   ]
  },
  {
   "cell_type": "code",
   "execution_count": 32,
   "metadata": {},
   "outputs": [
    {
     "name": "stdout",
     "output_type": "stream",
     "text": [
      "R2 score on clear features:\t0.3939441029921764\n",
      "R2 score on encrypted features:\t0.3939441006301392\n",
      "R2 score difference:\t\t-2.362037232472858e-09\n"
     ]
    }
   ],
   "source": [
    "clear_model = LinearRegression().fit(X_train, y_train)\n",
    "encrypted_model = LinearRegression().fit(X_train @ P, y_train)\n",
    "\n",
    "clear_score = r2_score(y_test, clear_model.predict(X_test))\n",
    "encrypted_score = r2_score(y_test, encrypted_model.predict(X_test @ P))\n",
    "\n",
    "print(f'R2 score on clear features:\\t{clear_score}')\n",
    "print(f'R2 score on encrypted features:\\t{encrypted_score}')\n",
    "print(f'R2 score difference:\\t\\t{encrypted_score - clear_score}')"
   ]
  },
  {
   "cell_type": "markdown",
   "metadata": {},
   "source": [
    "$R^2$ моделей практически индентичен – алгоритм шифрования прошел проверку на практике."
   ]
  }
 ],
 "metadata": {
  "kernelspec": {
   "display_name": "Python 3 (ipykernel)",
   "language": "python",
   "name": "python3"
  },
  "language_info": {
   "codemirror_mode": {
    "name": "ipython",
    "version": 3
   },
   "file_extension": ".py",
   "mimetype": "text/x-python",
   "name": "python",
   "nbconvert_exporter": "python",
   "pygments_lexer": "ipython3",
   "version": "3.9.12"
  },
  "toc": {
   "base_numbering": 1,
   "nav_menu": {},
   "number_sections": true,
   "sideBar": true,
   "skip_h1_title": true,
   "title_cell": "Содержание",
   "title_sidebar": "Contents",
   "toc_cell": true,
   "toc_position": {},
   "toc_section_display": true,
   "toc_window_display": false
  }
 },
 "nbformat": 4,
 "nbformat_minor": 4
}

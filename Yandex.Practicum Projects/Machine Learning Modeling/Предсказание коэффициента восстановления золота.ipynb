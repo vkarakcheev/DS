{
 "cells": [
  {
   "cell_type": "markdown",
   "metadata": {},
   "source": [
    "# Восстановление золота из руды"
   ]
  },
  {
   "cell_type": "markdown",
   "metadata": {},
   "source": [
    "Необходимо подготовить прототип модели машинного обучения для «Цифры» – компании, которая разрабатывает решения для эффективной работы промышленных предприятий.\n",
    "\n",
    "Модель должна предсказать коэффициент восстановления золота из золотосодержащей руды по данным о параметрах добычи и очистки. \n",
    "\n",
    "Модель поможет оптимизировать производство, чтобы не запускать предприятие с убыточными характеристиками.\n",
    "\n",
    "Нужно:\n",
    "\n",
    "1. Подготовить данные\n",
    "2. Провести исследовательский анализ данных\n",
    "3. Построить и обучить модель"
   ]
  },
  {
   "cell_type": "markdown",
   "metadata": {
    "toc": true
   },
   "source": [
    "<h1>Содержание<span class=\"tocSkip\"></span></h1>\n",
    "<div class=\"toc\"><ul class=\"toc-item\"><li><span><a href=\"#Подготовка-данных\" data-toc-modified-id=\"Подготовка-данных-1\"><span class=\"toc-item-num\">1&nbsp;&nbsp;</span>Подготовка данных</a></span><ul class=\"toc-item\"><li><span><a href=\"#Открываем-и-изучаем-файлы\" data-toc-modified-id=\"Открываем-и-изучаем-файлы-1.1\"><span class=\"toc-item-num\">1.1&nbsp;&nbsp;</span>Открываем и изучаем файлы</a></span></li><li><span><a href=\"#Проверяем,-что-эффективность-обогащения-рассчитана-правильно\" data-toc-modified-id=\"Проверяем,-что-эффективность-обогащения-рассчитана-правильно-1.2\"><span class=\"toc-item-num\">1.2&nbsp;&nbsp;</span>Проверяем, что эффективность обогащения рассчитана правильно</a></span></li><li><span><a href=\"#Анализируем-признаки,-недоступные-в-тестовой-выборке\" data-toc-modified-id=\"Анализируем-признаки,-недоступные-в-тестовой-выборке-1.3\"><span class=\"toc-item-num\">1.3&nbsp;&nbsp;</span>Анализируем признаки, недоступные в тестовой выборке</a></span></li><li><span><a href=\"#Проводим-предобработку-данных\" data-toc-modified-id=\"Проводим-предобработку-данных-1.4\"><span class=\"toc-item-num\">1.4&nbsp;&nbsp;</span>Проводим предобработку данных</a></span></li></ul></li><li><span><a href=\"#Анализ-данных\" data-toc-modified-id=\"Анализ-данных-2\"><span class=\"toc-item-num\">2&nbsp;&nbsp;</span>Анализ данных</a></span><ul class=\"toc-item\"><li><span><a href=\"#Смотрим,-как-меняется-концентрация-металлов-на-различных-этапах-очистки\" data-toc-modified-id=\"Смотрим,-как-меняется-концентрация-металлов-на-различных-этапах-очистки-2.1\"><span class=\"toc-item-num\">2.1&nbsp;&nbsp;</span>Смотрим, как меняется концентрация металлов на различных этапах очистки</a></span></li><li><span><a href=\"#Сравниваем-распределения-размеров-гранул-сырья-на-обучающей-и-тестовой-выборках\" data-toc-modified-id=\"Сравниваем-распределения-размеров-гранул-сырья-на-обучающей-и-тестовой-выборках-2.2\"><span class=\"toc-item-num\">2.2&nbsp;&nbsp;</span>Сравниваем распределения размеров гранул сырья на обучающей и тестовой выборках</a></span></li><li><span><a href=\"#Исследуем-суммарную-концентрацию-всех-веществ-на-разных-стадиях\" data-toc-modified-id=\"Исследуем-суммарную-концентрацию-всех-веществ-на-разных-стадиях-2.3\"><span class=\"toc-item-num\">2.3&nbsp;&nbsp;</span>Исследуем суммарную концентрацию всех веществ на разных стадиях</a></span></li></ul></li><li><span><a href=\"#Модель\" data-toc-modified-id=\"Модель-3\"><span class=\"toc-item-num\">3&nbsp;&nbsp;</span>Модель</a></span><ul class=\"toc-item\"><li><span><a href=\"#Напишем-функцию-для-вычисления-итоговой-sMAPE\" data-toc-modified-id=\"Напишем-функцию-для-вычисления-итоговой-sMAPE-3.1\"><span class=\"toc-item-num\">3.1&nbsp;&nbsp;</span>Напишем функцию для вычисления итоговой sMAPE</a></span></li><li><span><a href=\"#Обучим-разные-модели-и-оценим-их-качество-кросс-валидацией\" data-toc-modified-id=\"Обучим-разные-модели-и-оценим-их-качество-кросс-валидацией-3.2\"><span class=\"toc-item-num\">3.2&nbsp;&nbsp;</span>Обучим разные модели и оценим их качество кросс-валидацией</a></span></li></ul></li><li><span><a href=\"#Чек-лист-готовности-проекта\" data-toc-modified-id=\"Чек-лист-готовности-проекта-4\"><span class=\"toc-item-num\">4&nbsp;&nbsp;</span>Чек-лист готовности проекта</a></span></li></ul></div>"
   ]
  },
  {
   "cell_type": "markdown",
   "metadata": {},
   "source": [
    "## Подготовка данных"
   ]
  },
  {
   "cell_type": "markdown",
   "metadata": {},
   "source": [
    "Подключим необходимые библиотеки и установим полезные умолчания."
   ]
  },
  {
   "cell_type": "code",
   "execution_count": 1,
   "metadata": {},
   "outputs": [
    {
     "name": "stdout",
     "output_type": "stream",
     "text": [
      "Requirement already satisfied: optuna in /opt/conda/lib/python3.9/site-packages (2.10.0)\n",
      "Requirement already satisfied: cmaes>=0.8.2 in /opt/conda/lib/python3.9/site-packages (from optuna) (0.8.2)\n",
      "Requirement already satisfied: colorlog in /opt/conda/lib/python3.9/site-packages (from optuna) (6.6.0)\n",
      "Requirement already satisfied: sqlalchemy>=1.1.0 in /opt/conda/lib/python3.9/site-packages (from optuna) (1.4.27)\n",
      "Requirement already satisfied: packaging>=20.0 in /opt/conda/lib/python3.9/site-packages (from optuna) (21.3)\n",
      "Requirement already satisfied: cliff in /opt/conda/lib/python3.9/site-packages (from optuna) (3.10.1)\n",
      "Requirement already satisfied: alembic in /opt/conda/lib/python3.9/site-packages (from optuna) (1.7.5)\n",
      "Requirement already satisfied: scipy!=1.4.0 in /opt/conda/lib/python3.9/site-packages (from optuna) (1.8.0)\n",
      "Requirement already satisfied: PyYAML in /opt/conda/lib/python3.9/site-packages (from optuna) (6.0)\n",
      "Requirement already satisfied: numpy in /opt/conda/lib/python3.9/site-packages (from optuna) (1.22.3)\n",
      "Requirement already satisfied: tqdm in /opt/conda/lib/python3.9/site-packages (from optuna) (4.62.3)\n",
      "Requirement already satisfied: pyparsing!=3.0.5,>=2.0.2 in /opt/conda/lib/python3.9/site-packages (from packaging>=20.0->optuna) (3.0.6)\n",
      "Requirement already satisfied: greenlet!=0.4.17 in /opt/conda/lib/python3.9/site-packages (from sqlalchemy>=1.1.0->optuna) (1.1.2)\n",
      "Requirement already satisfied: Mako in /opt/conda/lib/python3.9/site-packages (from alembic->optuna) (1.1.6)\n",
      "Requirement already satisfied: PrettyTable>=0.7.2 in /opt/conda/lib/python3.9/site-packages (from cliff->optuna) (3.3.0)\n",
      "Requirement already satisfied: stevedore>=2.0.1 in /opt/conda/lib/python3.9/site-packages (from cliff->optuna) (3.5.0)\n",
      "Requirement already satisfied: cmd2>=1.0.0 in /opt/conda/lib/python3.9/site-packages (from cliff->optuna) (2.4.1)\n",
      "Requirement already satisfied: autopage>=0.4.0 in /opt/conda/lib/python3.9/site-packages (from cliff->optuna) (0.5.0)\n",
      "Requirement already satisfied: pbr!=2.1.0,>=2.0.0 in /opt/conda/lib/python3.9/site-packages (from cliff->optuna) (5.9.0)\n",
      "Requirement already satisfied: pyperclip>=1.6 in /opt/conda/lib/python3.9/site-packages (from cmd2>=1.0.0->cliff->optuna) (1.8.2)\n",
      "Requirement already satisfied: attrs>=16.3.0 in /opt/conda/lib/python3.9/site-packages (from cmd2>=1.0.0->cliff->optuna) (21.2.0)\n",
      "Requirement already satisfied: wcwidth>=0.1.7 in /opt/conda/lib/python3.9/site-packages (from cmd2>=1.0.0->cliff->optuna) (0.2.5)\n",
      "Requirement already satisfied: MarkupSafe>=0.9.2 in /opt/conda/lib/python3.9/site-packages (from Mako->alembic->optuna) (2.0.1)\n"
     ]
    }
   ],
   "source": [
    "!pip install optuna"
   ]
  },
  {
   "cell_type": "code",
   "execution_count": 2,
   "metadata": {},
   "outputs": [],
   "source": [
    "import numpy as np\n",
    "import pandas as pd\n",
    "import matplotlib.pyplot as plt\n",
    "import warnings\n",
    "import os\n",
    "import optuna\n",
    "\n",
    "from urllib.error import HTTPError\n",
    "from sklearn.preprocessing import StandardScaler\n",
    "from sklearn.model_selection import cross_val_score\n",
    "from sklearn.linear_model import (LinearRegression, Ridge, SGDRegressor, \n",
    "                                  ElasticNet, Lars)\n",
    "from sklearn.metrics import mean_absolute_error, make_scorer\n",
    "from sklearn.pipeline import Pipeline\n",
    "from sklearn.multioutput import MultiOutputRegressor\n",
    "from sklearn.dummy import DummyRegressor\n",
    "\n",
    "plt.style.use('dark_background');            # Dark theme for plots\n",
    "plt.rc('grid', color=(.3, .3, .3));          # Pale grid lines\n",
    "plt.rc('axes', grid=True, axisbelow=True);   # Grid lines behind the plot\n",
    "pd.set_option('display.max_columns', None);  # Display all dataframe columns\n",
    "pd.set_option('display.max_rows', 100);      # Display 100 dataframe rows\n",
    "\n",
    "# Disable warnings\n",
    "pd.options.mode.chained_assignment = None    \n",
    "warnings.simplefilter('ignore', pd.errors.PerformanceWarning) "
   ]
  },
  {
   "cell_type": "markdown",
   "metadata": {},
   "source": [
    "Определим глобальные константы."
   ]
  },
  {
   "cell_type": "code",
   "execution_count": 3,
   "metadata": {},
   "outputs": [],
   "source": [
    "RS = 22221111  # Custom random_state \n",
    "CV = 3         # Cross-validation folds"
   ]
  },
  {
   "cell_type": "code",
   "execution_count": 4,
   "metadata": {},
   "outputs": [],
   "source": [
    "# ---------- PEP 8 recommended maximum line length – 79 characters ----------->"
   ]
  },
  {
   "cell_type": "markdown",
   "metadata": {},
   "source": [
    "### Открываем и изучаем файлы"
   ]
  },
  {
   "cell_type": "markdown",
   "metadata": {},
   "source": [
    "Загрузим файлы и взглянем на данные."
   ]
  },
  {
   "cell_type": "code",
   "execution_count": 5,
   "metadata": {},
   "outputs": [],
   "source": [
    "for df in ['train', 'test', 'full']:\n",
    "    path = f'/datasets/gold_recovery_{df}_new.csv'\n",
    "    if not os.path.exists(path):\n",
    "        path = 'https://code.s3.yandex.net' + path\n",
    "    try:\n",
    "        locals()[df] = pd.read_csv(path)\n",
    "    except HTTPError as err:\n",
    "        print(f'{err} {path}')"
   ]
  },
  {
   "cell_type": "code",
   "execution_count": 6,
   "metadata": {},
   "outputs": [
    {
     "data": {
      "text/html": [
       "<div>\n",
       "<style scoped>\n",
       "    .dataframe tbody tr th:only-of-type {\n",
       "        vertical-align: middle;\n",
       "    }\n",
       "\n",
       "    .dataframe tbody tr th {\n",
       "        vertical-align: top;\n",
       "    }\n",
       "\n",
       "    .dataframe thead th {\n",
       "        text-align: right;\n",
       "    }\n",
       "</style>\n",
       "<table border=\"1\" class=\"dataframe\">\n",
       "  <thead>\n",
       "    <tr style=\"text-align: right;\">\n",
       "      <th></th>\n",
       "      <th>date</th>\n",
       "      <th>final.output.concentrate_ag</th>\n",
       "      <th>final.output.concentrate_pb</th>\n",
       "      <th>final.output.concentrate_sol</th>\n",
       "      <th>final.output.concentrate_au</th>\n",
       "      <th>final.output.recovery</th>\n",
       "      <th>final.output.tail_ag</th>\n",
       "      <th>final.output.tail_pb</th>\n",
       "      <th>final.output.tail_sol</th>\n",
       "      <th>final.output.tail_au</th>\n",
       "      <th>primary_cleaner.input.sulfate</th>\n",
       "      <th>primary_cleaner.input.depressant</th>\n",
       "      <th>primary_cleaner.input.feed_size</th>\n",
       "      <th>primary_cleaner.input.xanthate</th>\n",
       "      <th>primary_cleaner.output.concentrate_ag</th>\n",
       "      <th>primary_cleaner.output.concentrate_pb</th>\n",
       "      <th>primary_cleaner.output.concentrate_sol</th>\n",
       "      <th>primary_cleaner.output.concentrate_au</th>\n",
       "      <th>primary_cleaner.output.tail_ag</th>\n",
       "      <th>primary_cleaner.output.tail_pb</th>\n",
       "      <th>primary_cleaner.output.tail_sol</th>\n",
       "      <th>primary_cleaner.output.tail_au</th>\n",
       "      <th>primary_cleaner.state.floatbank8_a_air</th>\n",
       "      <th>primary_cleaner.state.floatbank8_a_level</th>\n",
       "      <th>primary_cleaner.state.floatbank8_b_air</th>\n",
       "      <th>primary_cleaner.state.floatbank8_b_level</th>\n",
       "      <th>primary_cleaner.state.floatbank8_c_air</th>\n",
       "      <th>primary_cleaner.state.floatbank8_c_level</th>\n",
       "      <th>primary_cleaner.state.floatbank8_d_air</th>\n",
       "      <th>primary_cleaner.state.floatbank8_d_level</th>\n",
       "      <th>rougher.calculation.sulfate_to_au_concentrate</th>\n",
       "      <th>rougher.calculation.floatbank10_sulfate_to_au_feed</th>\n",
       "      <th>rougher.calculation.floatbank11_sulfate_to_au_feed</th>\n",
       "      <th>rougher.calculation.au_pb_ratio</th>\n",
       "      <th>rougher.input.feed_ag</th>\n",
       "      <th>rougher.input.feed_pb</th>\n",
       "      <th>rougher.input.feed_rate</th>\n",
       "      <th>rougher.input.feed_size</th>\n",
       "      <th>rougher.input.feed_sol</th>\n",
       "      <th>rougher.input.feed_au</th>\n",
       "      <th>rougher.input.floatbank10_sulfate</th>\n",
       "      <th>rougher.input.floatbank10_xanthate</th>\n",
       "      <th>rougher.input.floatbank11_sulfate</th>\n",
       "      <th>rougher.input.floatbank11_xanthate</th>\n",
       "      <th>rougher.output.concentrate_ag</th>\n",
       "      <th>rougher.output.concentrate_pb</th>\n",
       "      <th>rougher.output.concentrate_sol</th>\n",
       "      <th>rougher.output.concentrate_au</th>\n",
       "      <th>rougher.output.recovery</th>\n",
       "      <th>rougher.output.tail_ag</th>\n",
       "      <th>rougher.output.tail_pb</th>\n",
       "      <th>rougher.output.tail_sol</th>\n",
       "      <th>rougher.output.tail_au</th>\n",
       "      <th>rougher.state.floatbank10_a_air</th>\n",
       "      <th>rougher.state.floatbank10_a_level</th>\n",
       "      <th>rougher.state.floatbank10_b_air</th>\n",
       "      <th>rougher.state.floatbank10_b_level</th>\n",
       "      <th>rougher.state.floatbank10_c_air</th>\n",
       "      <th>rougher.state.floatbank10_c_level</th>\n",
       "      <th>rougher.state.floatbank10_d_air</th>\n",
       "      <th>rougher.state.floatbank10_d_level</th>\n",
       "      <th>rougher.state.floatbank10_e_air</th>\n",
       "      <th>rougher.state.floatbank10_e_level</th>\n",
       "      <th>rougher.state.floatbank10_f_air</th>\n",
       "      <th>rougher.state.floatbank10_f_level</th>\n",
       "      <th>secondary_cleaner.output.tail_ag</th>\n",
       "      <th>secondary_cleaner.output.tail_pb</th>\n",
       "      <th>secondary_cleaner.output.tail_sol</th>\n",
       "      <th>secondary_cleaner.output.tail_au</th>\n",
       "      <th>secondary_cleaner.state.floatbank2_a_air</th>\n",
       "      <th>secondary_cleaner.state.floatbank2_a_level</th>\n",
       "      <th>secondary_cleaner.state.floatbank2_b_air</th>\n",
       "      <th>secondary_cleaner.state.floatbank2_b_level</th>\n",
       "      <th>secondary_cleaner.state.floatbank3_a_air</th>\n",
       "      <th>secondary_cleaner.state.floatbank3_a_level</th>\n",
       "      <th>secondary_cleaner.state.floatbank3_b_air</th>\n",
       "      <th>secondary_cleaner.state.floatbank3_b_level</th>\n",
       "      <th>secondary_cleaner.state.floatbank4_a_air</th>\n",
       "      <th>secondary_cleaner.state.floatbank4_a_level</th>\n",
       "      <th>secondary_cleaner.state.floatbank4_b_air</th>\n",
       "      <th>secondary_cleaner.state.floatbank4_b_level</th>\n",
       "      <th>secondary_cleaner.state.floatbank5_a_air</th>\n",
       "      <th>secondary_cleaner.state.floatbank5_a_level</th>\n",
       "      <th>secondary_cleaner.state.floatbank5_b_air</th>\n",
       "      <th>secondary_cleaner.state.floatbank5_b_level</th>\n",
       "      <th>secondary_cleaner.state.floatbank6_a_air</th>\n",
       "      <th>secondary_cleaner.state.floatbank6_a_level</th>\n",
       "    </tr>\n",
       "  </thead>\n",
       "  <tbody>\n",
       "    <tr>\n",
       "      <th>0</th>\n",
       "      <td>2016-01-15 00:00:00</td>\n",
       "      <td>6.055403</td>\n",
       "      <td>9.889648</td>\n",
       "      <td>5.507324</td>\n",
       "      <td>42.192020</td>\n",
       "      <td>70.541216</td>\n",
       "      <td>10.411962</td>\n",
       "      <td>0.895447</td>\n",
       "      <td>16.904297</td>\n",
       "      <td>2.143149</td>\n",
       "      <td>127.092003</td>\n",
       "      <td>10.128295</td>\n",
       "      <td>7.25</td>\n",
       "      <td>0.988759</td>\n",
       "      <td>8.547551</td>\n",
       "      <td>10.389648</td>\n",
       "      <td>19.529297</td>\n",
       "      <td>34.174427</td>\n",
       "      <td>14.936526</td>\n",
       "      <td>2.534912</td>\n",
       "      <td>7.476074</td>\n",
       "      <td>2.106679</td>\n",
       "      <td>1549.775757</td>\n",
       "      <td>-498.912140</td>\n",
       "      <td>1551.434204</td>\n",
       "      <td>-516.403442</td>\n",
       "      <td>1549.873901</td>\n",
       "      <td>-498.666595</td>\n",
       "      <td>1554.367432</td>\n",
       "      <td>-493.428131</td>\n",
       "      <td>41885.707031</td>\n",
       "      <td>3481.779053</td>\n",
       "      <td>3520.337158</td>\n",
       "      <td>2.838687</td>\n",
       "      <td>6.100378</td>\n",
       "      <td>2.284912</td>\n",
       "      <td>523.546326</td>\n",
       "      <td>55.486599</td>\n",
       "      <td>36.808594</td>\n",
       "      <td>6.486150</td>\n",
       "      <td>11.986616</td>\n",
       "      <td>6.007990</td>\n",
       "      <td>11.836743</td>\n",
       "      <td>6.005818</td>\n",
       "      <td>11.500771</td>\n",
       "      <td>7.101074</td>\n",
       "      <td>28.029297</td>\n",
       "      <td>19.793808</td>\n",
       "      <td>87.107763</td>\n",
       "      <td>5.008018</td>\n",
       "      <td>0.508728</td>\n",
       "      <td>19.154297</td>\n",
       "      <td>1.170244</td>\n",
       "      <td>999.706909</td>\n",
       "      <td>-404.066986</td>\n",
       "      <td>1603.011353</td>\n",
       "      <td>-434.715027</td>\n",
       "      <td>1602.375000</td>\n",
       "      <td>-442.204468</td>\n",
       "      <td>1598.937256</td>\n",
       "      <td>-451.294128</td>\n",
       "      <td>1404.472046</td>\n",
       "      <td>-455.462982</td>\n",
       "      <td>1416.354980</td>\n",
       "      <td>-451.939636</td>\n",
       "      <td>14.500184</td>\n",
       "      <td>4.694824</td>\n",
       "      <td>8.764648</td>\n",
       "      <td>2.606185</td>\n",
       "      <td>25.853109</td>\n",
       "      <td>-498.526489</td>\n",
       "      <td>23.893660</td>\n",
       "      <td>-501.406281</td>\n",
       "      <td>23.961798</td>\n",
       "      <td>-495.262817</td>\n",
       "      <td>21.940409</td>\n",
       "      <td>-499.340973</td>\n",
       "      <td>14.016835</td>\n",
       "      <td>-502.488007</td>\n",
       "      <td>12.099931</td>\n",
       "      <td>-504.715942</td>\n",
       "      <td>9.925633</td>\n",
       "      <td>-498.310211</td>\n",
       "      <td>8.079666</td>\n",
       "      <td>-500.470978</td>\n",
       "      <td>14.151341</td>\n",
       "      <td>-605.841980</td>\n",
       "    </tr>\n",
       "    <tr>\n",
       "      <th>1</th>\n",
       "      <td>2016-01-15 01:00:00</td>\n",
       "      <td>6.029369</td>\n",
       "      <td>9.968944</td>\n",
       "      <td>5.257781</td>\n",
       "      <td>42.701629</td>\n",
       "      <td>69.266198</td>\n",
       "      <td>10.462676</td>\n",
       "      <td>0.927452</td>\n",
       "      <td>16.634514</td>\n",
       "      <td>2.224930</td>\n",
       "      <td>125.629232</td>\n",
       "      <td>10.296251</td>\n",
       "      <td>7.25</td>\n",
       "      <td>1.002663</td>\n",
       "      <td>8.558743</td>\n",
       "      <td>10.497069</td>\n",
       "      <td>19.369147</td>\n",
       "      <td>34.118526</td>\n",
       "      <td>16.250511</td>\n",
       "      <td>3.049646</td>\n",
       "      <td>6.733907</td>\n",
       "      <td>2.353017</td>\n",
       "      <td>1576.166671</td>\n",
       "      <td>-500.904965</td>\n",
       "      <td>1575.950626</td>\n",
       "      <td>-499.865889</td>\n",
       "      <td>1575.994189</td>\n",
       "      <td>-499.315107</td>\n",
       "      <td>1574.479259</td>\n",
       "      <td>-498.931665</td>\n",
       "      <td>42050.861809</td>\n",
       "      <td>3498.370979</td>\n",
       "      <td>3489.981857</td>\n",
       "      <td>2.858998</td>\n",
       "      <td>6.161113</td>\n",
       "      <td>2.266033</td>\n",
       "      <td>525.290581</td>\n",
       "      <td>57.278666</td>\n",
       "      <td>35.753385</td>\n",
       "      <td>6.478583</td>\n",
       "      <td>11.971193</td>\n",
       "      <td>6.005766</td>\n",
       "      <td>11.996163</td>\n",
       "      <td>6.012594</td>\n",
       "      <td>11.615865</td>\n",
       "      <td>7.278807</td>\n",
       "      <td>28.067063</td>\n",
       "      <td>20.050975</td>\n",
       "      <td>86.843261</td>\n",
       "      <td>4.955378</td>\n",
       "      <td>0.536689</td>\n",
       "      <td>18.965234</td>\n",
       "      <td>1.184827</td>\n",
       "      <td>1000.286398</td>\n",
       "      <td>-400.065196</td>\n",
       "      <td>1600.754587</td>\n",
       "      <td>-449.953435</td>\n",
       "      <td>1600.479580</td>\n",
       "      <td>-449.830646</td>\n",
       "      <td>1600.527589</td>\n",
       "      <td>-449.953649</td>\n",
       "      <td>1399.227084</td>\n",
       "      <td>-450.869848</td>\n",
       "      <td>1399.719514</td>\n",
       "      <td>-450.119001</td>\n",
       "      <td>14.265474</td>\n",
       "      <td>4.592547</td>\n",
       "      <td>9.001494</td>\n",
       "      <td>2.488248</td>\n",
       "      <td>25.880539</td>\n",
       "      <td>-499.989656</td>\n",
       "      <td>23.889530</td>\n",
       "      <td>-500.372428</td>\n",
       "      <td>23.970550</td>\n",
       "      <td>-500.085473</td>\n",
       "      <td>22.085714</td>\n",
       "      <td>-499.446897</td>\n",
       "      <td>13.992281</td>\n",
       "      <td>-505.503262</td>\n",
       "      <td>11.950531</td>\n",
       "      <td>-501.331529</td>\n",
       "      <td>10.039245</td>\n",
       "      <td>-500.169983</td>\n",
       "      <td>7.984757</td>\n",
       "      <td>-500.582168</td>\n",
       "      <td>13.998353</td>\n",
       "      <td>-599.787184</td>\n",
       "    </tr>\n",
       "    <tr>\n",
       "      <th>2</th>\n",
       "      <td>2016-01-15 02:00:00</td>\n",
       "      <td>6.055926</td>\n",
       "      <td>10.213995</td>\n",
       "      <td>5.383759</td>\n",
       "      <td>42.657501</td>\n",
       "      <td>68.116445</td>\n",
       "      <td>10.507046</td>\n",
       "      <td>0.953716</td>\n",
       "      <td>16.208849</td>\n",
       "      <td>2.257889</td>\n",
       "      <td>123.819808</td>\n",
       "      <td>11.316280</td>\n",
       "      <td>7.25</td>\n",
       "      <td>0.991265</td>\n",
       "      <td>8.603505</td>\n",
       "      <td>10.354494</td>\n",
       "      <td>19.167579</td>\n",
       "      <td>33.969464</td>\n",
       "      <td>16.491823</td>\n",
       "      <td>3.124664</td>\n",
       "      <td>6.471768</td>\n",
       "      <td>2.416800</td>\n",
       "      <td>1601.556163</td>\n",
       "      <td>-499.997791</td>\n",
       "      <td>1600.386685</td>\n",
       "      <td>-500.607762</td>\n",
       "      <td>1602.003542</td>\n",
       "      <td>-500.870069</td>\n",
       "      <td>1599.541515</td>\n",
       "      <td>-499.827444</td>\n",
       "      <td>42018.101184</td>\n",
       "      <td>3495.348910</td>\n",
       "      <td>3502.359819</td>\n",
       "      <td>2.945989</td>\n",
       "      <td>6.116455</td>\n",
       "      <td>2.159622</td>\n",
       "      <td>530.026610</td>\n",
       "      <td>57.510649</td>\n",
       "      <td>35.971630</td>\n",
       "      <td>6.362222</td>\n",
       "      <td>11.920603</td>\n",
       "      <td>6.197377</td>\n",
       "      <td>11.920305</td>\n",
       "      <td>6.204633</td>\n",
       "      <td>11.695753</td>\n",
       "      <td>7.216833</td>\n",
       "      <td>27.454037</td>\n",
       "      <td>19.737170</td>\n",
       "      <td>86.842308</td>\n",
       "      <td>4.843460</td>\n",
       "      <td>0.546416</td>\n",
       "      <td>18.808533</td>\n",
       "      <td>1.162562</td>\n",
       "      <td>999.719565</td>\n",
       "      <td>-400.074028</td>\n",
       "      <td>1599.337330</td>\n",
       "      <td>-450.008530</td>\n",
       "      <td>1599.672797</td>\n",
       "      <td>-449.954491</td>\n",
       "      <td>1599.849325</td>\n",
       "      <td>-449.954185</td>\n",
       "      <td>1399.180945</td>\n",
       "      <td>-449.937588</td>\n",
       "      <td>1400.316682</td>\n",
       "      <td>-450.527147</td>\n",
       "      <td>14.115662</td>\n",
       "      <td>4.624775</td>\n",
       "      <td>8.842896</td>\n",
       "      <td>2.458187</td>\n",
       "      <td>26.005245</td>\n",
       "      <td>-499.929616</td>\n",
       "      <td>23.886657</td>\n",
       "      <td>-499.951928</td>\n",
       "      <td>23.913535</td>\n",
       "      <td>-499.442343</td>\n",
       "      <td>23.957717</td>\n",
       "      <td>-499.901982</td>\n",
       "      <td>14.015015</td>\n",
       "      <td>-502.520901</td>\n",
       "      <td>11.912783</td>\n",
       "      <td>-501.133383</td>\n",
       "      <td>10.070913</td>\n",
       "      <td>-500.129135</td>\n",
       "      <td>8.013877</td>\n",
       "      <td>-500.517572</td>\n",
       "      <td>14.028663</td>\n",
       "      <td>-601.427363</td>\n",
       "    </tr>\n",
       "    <tr>\n",
       "      <th>3</th>\n",
       "      <td>2016-01-15 03:00:00</td>\n",
       "      <td>6.047977</td>\n",
       "      <td>9.977019</td>\n",
       "      <td>4.858634</td>\n",
       "      <td>42.689819</td>\n",
       "      <td>68.347543</td>\n",
       "      <td>10.422762</td>\n",
       "      <td>0.883763</td>\n",
       "      <td>16.532835</td>\n",
       "      <td>2.146849</td>\n",
       "      <td>122.270188</td>\n",
       "      <td>11.322140</td>\n",
       "      <td>7.25</td>\n",
       "      <td>0.996739</td>\n",
       "      <td>7.221879</td>\n",
       "      <td>8.496563</td>\n",
       "      <td>15.978538</td>\n",
       "      <td>28.260743</td>\n",
       "      <td>16.024359</td>\n",
       "      <td>2.960362</td>\n",
       "      <td>6.843791</td>\n",
       "      <td>2.262051</td>\n",
       "      <td>1599.968720</td>\n",
       "      <td>-500.951778</td>\n",
       "      <td>1600.659236</td>\n",
       "      <td>-499.677094</td>\n",
       "      <td>1600.304144</td>\n",
       "      <td>-500.727997</td>\n",
       "      <td>1600.449520</td>\n",
       "      <td>-500.052575</td>\n",
       "      <td>42029.447991</td>\n",
       "      <td>3498.578313</td>\n",
       "      <td>3499.162912</td>\n",
       "      <td>3.002340</td>\n",
       "      <td>6.043309</td>\n",
       "      <td>2.037807</td>\n",
       "      <td>542.590390</td>\n",
       "      <td>57.792734</td>\n",
       "      <td>36.862241</td>\n",
       "      <td>6.118189</td>\n",
       "      <td>11.630094</td>\n",
       "      <td>6.203177</td>\n",
       "      <td>11.692450</td>\n",
       "      <td>6.196578</td>\n",
       "      <td>11.915047</td>\n",
       "      <td>7.175616</td>\n",
       "      <td>27.341277</td>\n",
       "      <td>19.320810</td>\n",
       "      <td>87.226430</td>\n",
       "      <td>4.655288</td>\n",
       "      <td>0.542525</td>\n",
       "      <td>19.330200</td>\n",
       "      <td>1.079755</td>\n",
       "      <td>999.814770</td>\n",
       "      <td>-400.200179</td>\n",
       "      <td>1600.059442</td>\n",
       "      <td>-450.619948</td>\n",
       "      <td>1600.012842</td>\n",
       "      <td>-449.910497</td>\n",
       "      <td>1597.725177</td>\n",
       "      <td>-450.130127</td>\n",
       "      <td>1400.943157</td>\n",
       "      <td>-450.030142</td>\n",
       "      <td>1400.234743</td>\n",
       "      <td>-449.790835</td>\n",
       "      <td>13.732071</td>\n",
       "      <td>4.482453</td>\n",
       "      <td>9.122857</td>\n",
       "      <td>2.322062</td>\n",
       "      <td>25.942508</td>\n",
       "      <td>-499.176749</td>\n",
       "      <td>23.955516</td>\n",
       "      <td>-499.848796</td>\n",
       "      <td>23.966838</td>\n",
       "      <td>-500.008812</td>\n",
       "      <td>23.954443</td>\n",
       "      <td>-499.944710</td>\n",
       "      <td>14.036510</td>\n",
       "      <td>-500.857308</td>\n",
       "      <td>11.999550</td>\n",
       "      <td>-501.193686</td>\n",
       "      <td>9.970366</td>\n",
       "      <td>-499.201640</td>\n",
       "      <td>7.977324</td>\n",
       "      <td>-500.255908</td>\n",
       "      <td>14.005551</td>\n",
       "      <td>-599.996129</td>\n",
       "    </tr>\n",
       "    <tr>\n",
       "      <th>4</th>\n",
       "      <td>2016-01-15 04:00:00</td>\n",
       "      <td>6.148599</td>\n",
       "      <td>10.142511</td>\n",
       "      <td>4.939416</td>\n",
       "      <td>42.774141</td>\n",
       "      <td>66.927016</td>\n",
       "      <td>10.360302</td>\n",
       "      <td>0.792826</td>\n",
       "      <td>16.525686</td>\n",
       "      <td>2.055292</td>\n",
       "      <td>117.988169</td>\n",
       "      <td>11.913613</td>\n",
       "      <td>7.25</td>\n",
       "      <td>1.009869</td>\n",
       "      <td>9.089428</td>\n",
       "      <td>9.986786</td>\n",
       "      <td>19.199864</td>\n",
       "      <td>33.044932</td>\n",
       "      <td>16.480185</td>\n",
       "      <td>3.112100</td>\n",
       "      <td>6.550154</td>\n",
       "      <td>2.277073</td>\n",
       "      <td>1601.339707</td>\n",
       "      <td>-498.975456</td>\n",
       "      <td>1601.437854</td>\n",
       "      <td>-500.323246</td>\n",
       "      <td>1599.581894</td>\n",
       "      <td>-500.888152</td>\n",
       "      <td>1602.649541</td>\n",
       "      <td>-500.593010</td>\n",
       "      <td>42125.354245</td>\n",
       "      <td>3494.800771</td>\n",
       "      <td>3506.679315</td>\n",
       "      <td>3.169615</td>\n",
       "      <td>6.060915</td>\n",
       "      <td>1.786875</td>\n",
       "      <td>540.531893</td>\n",
       "      <td>56.047189</td>\n",
       "      <td>34.347666</td>\n",
       "      <td>5.663707</td>\n",
       "      <td>10.957755</td>\n",
       "      <td>6.198826</td>\n",
       "      <td>10.960521</td>\n",
       "      <td>6.194897</td>\n",
       "      <td>12.411054</td>\n",
       "      <td>7.240205</td>\n",
       "      <td>27.041023</td>\n",
       "      <td>19.216101</td>\n",
       "      <td>86.688794</td>\n",
       "      <td>4.552800</td>\n",
       "      <td>0.515438</td>\n",
       "      <td>19.267422</td>\n",
       "      <td>1.012642</td>\n",
       "      <td>999.678690</td>\n",
       "      <td>-399.752729</td>\n",
       "      <td>1600.208824</td>\n",
       "      <td>-449.599614</td>\n",
       "      <td>1600.357732</td>\n",
       "      <td>-450.034364</td>\n",
       "      <td>1599.759049</td>\n",
       "      <td>-449.909799</td>\n",
       "      <td>1401.560902</td>\n",
       "      <td>-448.877187</td>\n",
       "      <td>1401.160227</td>\n",
       "      <td>-450.407128</td>\n",
       "      <td>14.079996</td>\n",
       "      <td>4.470737</td>\n",
       "      <td>8.871028</td>\n",
       "      <td>2.330448</td>\n",
       "      <td>26.024787</td>\n",
       "      <td>-500.279091</td>\n",
       "      <td>23.955345</td>\n",
       "      <td>-500.593614</td>\n",
       "      <td>23.985703</td>\n",
       "      <td>-500.083811</td>\n",
       "      <td>23.958945</td>\n",
       "      <td>-499.990309</td>\n",
       "      <td>14.027298</td>\n",
       "      <td>-499.838632</td>\n",
       "      <td>11.953070</td>\n",
       "      <td>-501.053894</td>\n",
       "      <td>9.925709</td>\n",
       "      <td>-501.686727</td>\n",
       "      <td>7.894242</td>\n",
       "      <td>-500.356035</td>\n",
       "      <td>13.996647</td>\n",
       "      <td>-601.496691</td>\n",
       "    </tr>\n",
       "    <tr>\n",
       "      <th>...</th>\n",
       "      <td>...</td>\n",
       "      <td>...</td>\n",
       "      <td>...</td>\n",
       "      <td>...</td>\n",
       "      <td>...</td>\n",
       "      <td>...</td>\n",
       "      <td>...</td>\n",
       "      <td>...</td>\n",
       "      <td>...</td>\n",
       "      <td>...</td>\n",
       "      <td>...</td>\n",
       "      <td>...</td>\n",
       "      <td>...</td>\n",
       "      <td>...</td>\n",
       "      <td>...</td>\n",
       "      <td>...</td>\n",
       "      <td>...</td>\n",
       "      <td>...</td>\n",
       "      <td>...</td>\n",
       "      <td>...</td>\n",
       "      <td>...</td>\n",
       "      <td>...</td>\n",
       "      <td>...</td>\n",
       "      <td>...</td>\n",
       "      <td>...</td>\n",
       "      <td>...</td>\n",
       "      <td>...</td>\n",
       "      <td>...</td>\n",
       "      <td>...</td>\n",
       "      <td>...</td>\n",
       "      <td>...</td>\n",
       "      <td>...</td>\n",
       "      <td>...</td>\n",
       "      <td>...</td>\n",
       "      <td>...</td>\n",
       "      <td>...</td>\n",
       "      <td>...</td>\n",
       "      <td>...</td>\n",
       "      <td>...</td>\n",
       "      <td>...</td>\n",
       "      <td>...</td>\n",
       "      <td>...</td>\n",
       "      <td>...</td>\n",
       "      <td>...</td>\n",
       "      <td>...</td>\n",
       "      <td>...</td>\n",
       "      <td>...</td>\n",
       "      <td>...</td>\n",
       "      <td>...</td>\n",
       "      <td>...</td>\n",
       "      <td>...</td>\n",
       "      <td>...</td>\n",
       "      <td>...</td>\n",
       "      <td>...</td>\n",
       "      <td>...</td>\n",
       "      <td>...</td>\n",
       "      <td>...</td>\n",
       "      <td>...</td>\n",
       "      <td>...</td>\n",
       "      <td>...</td>\n",
       "      <td>...</td>\n",
       "      <td>...</td>\n",
       "      <td>...</td>\n",
       "      <td>...</td>\n",
       "      <td>...</td>\n",
       "      <td>...</td>\n",
       "      <td>...</td>\n",
       "      <td>...</td>\n",
       "      <td>...</td>\n",
       "      <td>...</td>\n",
       "      <td>...</td>\n",
       "      <td>...</td>\n",
       "      <td>...</td>\n",
       "      <td>...</td>\n",
       "      <td>...</td>\n",
       "      <td>...</td>\n",
       "      <td>...</td>\n",
       "      <td>...</td>\n",
       "      <td>...</td>\n",
       "      <td>...</td>\n",
       "      <td>...</td>\n",
       "      <td>...</td>\n",
       "      <td>...</td>\n",
       "      <td>...</td>\n",
       "      <td>...</td>\n",
       "      <td>...</td>\n",
       "      <td>...</td>\n",
       "    </tr>\n",
       "    <tr>\n",
       "      <th>19434</th>\n",
       "      <td>2018-08-18 06:59:59</td>\n",
       "      <td>3.224920</td>\n",
       "      <td>11.356233</td>\n",
       "      <td>6.803482</td>\n",
       "      <td>46.713954</td>\n",
       "      <td>73.755150</td>\n",
       "      <td>8.769645</td>\n",
       "      <td>3.141541</td>\n",
       "      <td>10.403181</td>\n",
       "      <td>1.529220</td>\n",
       "      <td>123.381787</td>\n",
       "      <td>8.028927</td>\n",
       "      <td>6.50</td>\n",
       "      <td>1.304232</td>\n",
       "      <td>6.559174</td>\n",
       "      <td>12.445966</td>\n",
       "      <td>7.056338</td>\n",
       "      <td>32.940215</td>\n",
       "      <td>22.854592</td>\n",
       "      <td>6.531541</td>\n",
       "      <td>3.934320</td>\n",
       "      <td>2.314352</td>\n",
       "      <td>1648.421193</td>\n",
       "      <td>-400.382169</td>\n",
       "      <td>1648.742005</td>\n",
       "      <td>-400.359661</td>\n",
       "      <td>1648.578230</td>\n",
       "      <td>-399.363624</td>\n",
       "      <td>1648.833984</td>\n",
       "      <td>-399.669220</td>\n",
       "      <td>45912.942619</td>\n",
       "      <td>2497.652954</td>\n",
       "      <td>2499.177950</td>\n",
       "      <td>1.155559</td>\n",
       "      <td>6.091855</td>\n",
       "      <td>4.617558</td>\n",
       "      <td>560.889077</td>\n",
       "      <td>85.718304</td>\n",
       "      <td>37.369774</td>\n",
       "      <td>5.335862</td>\n",
       "      <td>7.762770</td>\n",
       "      <td>9.158609</td>\n",
       "      <td>7.766744</td>\n",
       "      <td>9.156069</td>\n",
       "      <td>11.124896</td>\n",
       "      <td>10.984003</td>\n",
       "      <td>30.068876</td>\n",
       "      <td>18.603550</td>\n",
       "      <td>89.574376</td>\n",
       "      <td>4.207261</td>\n",
       "      <td>0.612935</td>\n",
       "      <td>16.666590</td>\n",
       "      <td>0.748633</td>\n",
       "      <td>1199.245914</td>\n",
       "      <td>-300.845518</td>\n",
       "      <td>1149.807890</td>\n",
       "      <td>-498.789721</td>\n",
       "      <td>1047.963596</td>\n",
       "      <td>-498.413079</td>\n",
       "      <td>946.640977</td>\n",
       "      <td>-499.152477</td>\n",
       "      <td>849.664935</td>\n",
       "      <td>-499.214461</td>\n",
       "      <td>849.758091</td>\n",
       "      <td>-497.448664</td>\n",
       "      <td>0.000000</td>\n",
       "      <td>0.000000</td>\n",
       "      <td>0.000000</td>\n",
       "      <td>0.000000</td>\n",
       "      <td>35.043205</td>\n",
       "      <td>-499.045671</td>\n",
       "      <td>29.906659</td>\n",
       "      <td>-499.979939</td>\n",
       "      <td>26.002402</td>\n",
       "      <td>-499.953431</td>\n",
       "      <td>22.987238</td>\n",
       "      <td>-499.967351</td>\n",
       "      <td>23.031497</td>\n",
       "      <td>-501.167942</td>\n",
       "      <td>20.007571</td>\n",
       "      <td>-499.740028</td>\n",
       "      <td>18.006038</td>\n",
       "      <td>-499.834374</td>\n",
       "      <td>13.001114</td>\n",
       "      <td>-500.155694</td>\n",
       "      <td>20.007840</td>\n",
       "      <td>-501.296428</td>\n",
       "    </tr>\n",
       "    <tr>\n",
       "      <th>19435</th>\n",
       "      <td>2018-08-18 07:59:59</td>\n",
       "      <td>3.195978</td>\n",
       "      <td>11.349355</td>\n",
       "      <td>6.862249</td>\n",
       "      <td>46.866780</td>\n",
       "      <td>69.049291</td>\n",
       "      <td>8.897321</td>\n",
       "      <td>3.130493</td>\n",
       "      <td>10.549470</td>\n",
       "      <td>1.612542</td>\n",
       "      <td>120.878188</td>\n",
       "      <td>7.962636</td>\n",
       "      <td>6.50</td>\n",
       "      <td>1.302419</td>\n",
       "      <td>6.612376</td>\n",
       "      <td>12.623947</td>\n",
       "      <td>7.542264</td>\n",
       "      <td>32.925325</td>\n",
       "      <td>23.002490</td>\n",
       "      <td>6.629725</td>\n",
       "      <td>4.089124</td>\n",
       "      <td>2.462890</td>\n",
       "      <td>1649.820162</td>\n",
       "      <td>-399.930973</td>\n",
       "      <td>1649.357538</td>\n",
       "      <td>-399.721222</td>\n",
       "      <td>1648.656192</td>\n",
       "      <td>-401.195834</td>\n",
       "      <td>1649.725133</td>\n",
       "      <td>-400.636306</td>\n",
       "      <td>46200.099585</td>\n",
       "      <td>2614.403937</td>\n",
       "      <td>2518.550078</td>\n",
       "      <td>1.167342</td>\n",
       "      <td>6.121323</td>\n",
       "      <td>4.144989</td>\n",
       "      <td>559.031805</td>\n",
       "      <td>119.499241</td>\n",
       "      <td>38.591551</td>\n",
       "      <td>4.838619</td>\n",
       "      <td>7.356687</td>\n",
       "      <td>9.304952</td>\n",
       "      <td>7.095508</td>\n",
       "      <td>9.297924</td>\n",
       "      <td>11.425983</td>\n",
       "      <td>10.888213</td>\n",
       "      <td>29.783972</td>\n",
       "      <td>18.441436</td>\n",
       "      <td>87.724007</td>\n",
       "      <td>4.177943</td>\n",
       "      <td>0.650557</td>\n",
       "      <td>16.960649</td>\n",
       "      <td>0.771582</td>\n",
       "      <td>1196.569267</td>\n",
       "      <td>-299.512227</td>\n",
       "      <td>1147.675196</td>\n",
       "      <td>-500.608341</td>\n",
       "      <td>1048.565741</td>\n",
       "      <td>-500.932810</td>\n",
       "      <td>949.773589</td>\n",
       "      <td>-500.023144</td>\n",
       "      <td>848.515225</td>\n",
       "      <td>-500.289405</td>\n",
       "      <td>850.013123</td>\n",
       "      <td>-496.822119</td>\n",
       "      <td>0.000000</td>\n",
       "      <td>0.000000</td>\n",
       "      <td>0.000000</td>\n",
       "      <td>0.000000</td>\n",
       "      <td>35.026062</td>\n",
       "      <td>-499.891945</td>\n",
       "      <td>29.921795</td>\n",
       "      <td>-499.949663</td>\n",
       "      <td>26.031747</td>\n",
       "      <td>-500.384612</td>\n",
       "      <td>22.991058</td>\n",
       "      <td>-500.079590</td>\n",
       "      <td>22.960095</td>\n",
       "      <td>-501.612783</td>\n",
       "      <td>20.035660</td>\n",
       "      <td>-500.251357</td>\n",
       "      <td>17.998535</td>\n",
       "      <td>-500.395178</td>\n",
       "      <td>12.954048</td>\n",
       "      <td>-499.895163</td>\n",
       "      <td>19.968498</td>\n",
       "      <td>-501.041608</td>\n",
       "    </tr>\n",
       "    <tr>\n",
       "      <th>19436</th>\n",
       "      <td>2018-08-18 08:59:59</td>\n",
       "      <td>3.109998</td>\n",
       "      <td>11.434366</td>\n",
       "      <td>6.886013</td>\n",
       "      <td>46.795691</td>\n",
       "      <td>67.002189</td>\n",
       "      <td>8.529606</td>\n",
       "      <td>2.911418</td>\n",
       "      <td>11.115147</td>\n",
       "      <td>1.596616</td>\n",
       "      <td>105.666118</td>\n",
       "      <td>7.955111</td>\n",
       "      <td>6.50</td>\n",
       "      <td>1.315926</td>\n",
       "      <td>7.128896</td>\n",
       "      <td>12.633558</td>\n",
       "      <td>7.941900</td>\n",
       "      <td>31.856742</td>\n",
       "      <td>22.298149</td>\n",
       "      <td>6.278250</td>\n",
       "      <td>4.457457</td>\n",
       "      <td>2.612231</td>\n",
       "      <td>1649.166761</td>\n",
       "      <td>-399.888631</td>\n",
       "      <td>1649.196904</td>\n",
       "      <td>-399.677571</td>\n",
       "      <td>1647.896999</td>\n",
       "      <td>-399.988275</td>\n",
       "      <td>1649.772714</td>\n",
       "      <td>-399.831902</td>\n",
       "      <td>44585.181334</td>\n",
       "      <td>2510.813545</td>\n",
       "      <td>2510.142433</td>\n",
       "      <td>1.125637</td>\n",
       "      <td>5.970515</td>\n",
       "      <td>4.020002</td>\n",
       "      <td>555.682872</td>\n",
       "      <td>122.262690</td>\n",
       "      <td>40.074026</td>\n",
       "      <td>4.525061</td>\n",
       "      <td>6.586020</td>\n",
       "      <td>9.299606</td>\n",
       "      <td>6.584130</td>\n",
       "      <td>9.300133</td>\n",
       "      <td>8.523497</td>\n",
       "      <td>8.955135</td>\n",
       "      <td>22.786467</td>\n",
       "      <td>15.111231</td>\n",
       "      <td>88.890579</td>\n",
       "      <td>4.050010</td>\n",
       "      <td>0.636095</td>\n",
       "      <td>18.323080</td>\n",
       "      <td>0.685059</td>\n",
       "      <td>1204.866639</td>\n",
       "      <td>-299.235675</td>\n",
       "      <td>1149.942902</td>\n",
       "      <td>-501.717903</td>\n",
       "      <td>1049.604390</td>\n",
       "      <td>-500.549053</td>\n",
       "      <td>952.702732</td>\n",
       "      <td>-502.352296</td>\n",
       "      <td>849.016017</td>\n",
       "      <td>-500.505677</td>\n",
       "      <td>850.455635</td>\n",
       "      <td>-506.897968</td>\n",
       "      <td>0.000000</td>\n",
       "      <td>0.000000</td>\n",
       "      <td>0.000000</td>\n",
       "      <td>0.000000</td>\n",
       "      <td>35.003586</td>\n",
       "      <td>-501.083794</td>\n",
       "      <td>29.990533</td>\n",
       "      <td>-611.855898</td>\n",
       "      <td>25.948429</td>\n",
       "      <td>-500.067268</td>\n",
       "      <td>22.968268</td>\n",
       "      <td>-499.839442</td>\n",
       "      <td>23.015718</td>\n",
       "      <td>-501.711599</td>\n",
       "      <td>19.951231</td>\n",
       "      <td>-499.857027</td>\n",
       "      <td>18.019543</td>\n",
       "      <td>-500.451156</td>\n",
       "      <td>13.023431</td>\n",
       "      <td>-499.914391</td>\n",
       "      <td>19.990885</td>\n",
       "      <td>-501.518452</td>\n",
       "    </tr>\n",
       "    <tr>\n",
       "      <th>19437</th>\n",
       "      <td>2018-08-18 09:59:59</td>\n",
       "      <td>3.367241</td>\n",
       "      <td>11.625587</td>\n",
       "      <td>6.799433</td>\n",
       "      <td>46.408188</td>\n",
       "      <td>65.523246</td>\n",
       "      <td>8.777171</td>\n",
       "      <td>2.819214</td>\n",
       "      <td>10.463847</td>\n",
       "      <td>1.602879</td>\n",
       "      <td>98.880538</td>\n",
       "      <td>7.984164</td>\n",
       "      <td>6.50</td>\n",
       "      <td>1.241969</td>\n",
       "      <td>7.490444</td>\n",
       "      <td>12.012378</td>\n",
       "      <td>6.942972</td>\n",
       "      <td>30.770892</td>\n",
       "      <td>22.714656</td>\n",
       "      <td>6.253145</td>\n",
       "      <td>3.557121</td>\n",
       "      <td>2.800648</td>\n",
       "      <td>1646.547763</td>\n",
       "      <td>-398.977083</td>\n",
       "      <td>1648.212240</td>\n",
       "      <td>-400.383265</td>\n",
       "      <td>1648.917387</td>\n",
       "      <td>-399.521344</td>\n",
       "      <td>1651.498591</td>\n",
       "      <td>-399.745329</td>\n",
       "      <td>44084.735708</td>\n",
       "      <td>2507.572494</td>\n",
       "      <td>2507.723361</td>\n",
       "      <td>1.117935</td>\n",
       "      <td>6.048130</td>\n",
       "      <td>3.902537</td>\n",
       "      <td>544.731687</td>\n",
       "      <td>123.742430</td>\n",
       "      <td>39.713906</td>\n",
       "      <td>4.362781</td>\n",
       "      <td>6.210119</td>\n",
       "      <td>9.297709</td>\n",
       "      <td>6.209517</td>\n",
       "      <td>9.297194</td>\n",
       "      <td>11.658799</td>\n",
       "      <td>10.655377</td>\n",
       "      <td>29.052742</td>\n",
       "      <td>17.834772</td>\n",
       "      <td>89.858126</td>\n",
       "      <td>3.902494</td>\n",
       "      <td>0.625609</td>\n",
       "      <td>19.423740</td>\n",
       "      <td>0.567130</td>\n",
       "      <td>1201.904177</td>\n",
       "      <td>-299.907308</td>\n",
       "      <td>1154.087804</td>\n",
       "      <td>-500.036580</td>\n",
       "      <td>1054.009756</td>\n",
       "      <td>-500.237335</td>\n",
       "      <td>944.138793</td>\n",
       "      <td>-496.866953</td>\n",
       "      <td>851.589767</td>\n",
       "      <td>-499.040466</td>\n",
       "      <td>851.345606</td>\n",
       "      <td>-499.122561</td>\n",
       "      <td>0.000000</td>\n",
       "      <td>0.000000</td>\n",
       "      <td>0.000000</td>\n",
       "      <td>0.000000</td>\n",
       "      <td>34.980742</td>\n",
       "      <td>-498.131002</td>\n",
       "      <td>29.968453</td>\n",
       "      <td>-586.013330</td>\n",
       "      <td>25.971737</td>\n",
       "      <td>-499.608392</td>\n",
       "      <td>22.958448</td>\n",
       "      <td>-499.821308</td>\n",
       "      <td>23.024963</td>\n",
       "      <td>-501.153409</td>\n",
       "      <td>20.054122</td>\n",
       "      <td>-500.314711</td>\n",
       "      <td>17.979515</td>\n",
       "      <td>-499.272871</td>\n",
       "      <td>12.992404</td>\n",
       "      <td>-499.976268</td>\n",
       "      <td>20.013986</td>\n",
       "      <td>-500.625471</td>\n",
       "    </tr>\n",
       "    <tr>\n",
       "      <th>19438</th>\n",
       "      <td>2018-08-18 10:59:59</td>\n",
       "      <td>3.598375</td>\n",
       "      <td>11.737832</td>\n",
       "      <td>6.717509</td>\n",
       "      <td>46.299438</td>\n",
       "      <td>70.281454</td>\n",
       "      <td>8.406690</td>\n",
       "      <td>2.517518</td>\n",
       "      <td>10.652193</td>\n",
       "      <td>1.389434</td>\n",
       "      <td>95.248427</td>\n",
       "      <td>8.078957</td>\n",
       "      <td>6.50</td>\n",
       "      <td>1.283045</td>\n",
       "      <td>7.537584</td>\n",
       "      <td>11.650285</td>\n",
       "      <td>6.203553</td>\n",
       "      <td>30.356618</td>\n",
       "      <td>22.735927</td>\n",
       "      <td>6.084287</td>\n",
       "      <td>3.026699</td>\n",
       "      <td>2.708046</td>\n",
       "      <td>1648.759906</td>\n",
       "      <td>-399.862053</td>\n",
       "      <td>1650.135395</td>\n",
       "      <td>-399.957321</td>\n",
       "      <td>1648.831890</td>\n",
       "      <td>-400.586116</td>\n",
       "      <td>1649.464582</td>\n",
       "      <td>-400.673303</td>\n",
       "      <td>44082.866565</td>\n",
       "      <td>2487.477762</td>\n",
       "      <td>2488.626080</td>\n",
       "      <td>1.126367</td>\n",
       "      <td>6.158718</td>\n",
       "      <td>3.875727</td>\n",
       "      <td>555.820208</td>\n",
       "      <td>94.544358</td>\n",
       "      <td>39.135119</td>\n",
       "      <td>4.365491</td>\n",
       "      <td>6.146982</td>\n",
       "      <td>9.308612</td>\n",
       "      <td>6.168939</td>\n",
       "      <td>9.309852</td>\n",
       "      <td>11.959486</td>\n",
       "      <td>10.702148</td>\n",
       "      <td>29.078235</td>\n",
       "      <td>17.804134</td>\n",
       "      <td>89.514960</td>\n",
       "      <td>3.925473</td>\n",
       "      <td>0.638677</td>\n",
       "      <td>19.946673</td>\n",
       "      <td>0.586439</td>\n",
       "      <td>1196.238112</td>\n",
       "      <td>-299.862743</td>\n",
       "      <td>1147.248241</td>\n",
       "      <td>-500.363165</td>\n",
       "      <td>1047.279065</td>\n",
       "      <td>-500.354091</td>\n",
       "      <td>948.756608</td>\n",
       "      <td>-498.439416</td>\n",
       "      <td>849.441918</td>\n",
       "      <td>-499.255503</td>\n",
       "      <td>850.112246</td>\n",
       "      <td>-499.407112</td>\n",
       "      <td>0.000000</td>\n",
       "      <td>0.000000</td>\n",
       "      <td>0.000000</td>\n",
       "      <td>0.000000</td>\n",
       "      <td>34.940919</td>\n",
       "      <td>-500.150510</td>\n",
       "      <td>30.031867</td>\n",
       "      <td>-500.328335</td>\n",
       "      <td>26.033990</td>\n",
       "      <td>-500.147792</td>\n",
       "      <td>22.952306</td>\n",
       "      <td>-500.037678</td>\n",
       "      <td>23.018622</td>\n",
       "      <td>-500.492702</td>\n",
       "      <td>20.020205</td>\n",
       "      <td>-500.220296</td>\n",
       "      <td>17.963512</td>\n",
       "      <td>-499.939490</td>\n",
       "      <td>12.990306</td>\n",
       "      <td>-500.080993</td>\n",
       "      <td>19.990336</td>\n",
       "      <td>-499.191575</td>\n",
       "    </tr>\n",
       "  </tbody>\n",
       "</table>\n",
       "<p>19439 rows × 87 columns</p>\n",
       "</div>"
      ],
      "text/plain": [
       "                      date  final.output.concentrate_ag  \\\n",
       "0      2016-01-15 00:00:00                     6.055403   \n",
       "1      2016-01-15 01:00:00                     6.029369   \n",
       "2      2016-01-15 02:00:00                     6.055926   \n",
       "3      2016-01-15 03:00:00                     6.047977   \n",
       "4      2016-01-15 04:00:00                     6.148599   \n",
       "...                    ...                          ...   \n",
       "19434  2018-08-18 06:59:59                     3.224920   \n",
       "19435  2018-08-18 07:59:59                     3.195978   \n",
       "19436  2018-08-18 08:59:59                     3.109998   \n",
       "19437  2018-08-18 09:59:59                     3.367241   \n",
       "19438  2018-08-18 10:59:59                     3.598375   \n",
       "\n",
       "       final.output.concentrate_pb  final.output.concentrate_sol  \\\n",
       "0                         9.889648                      5.507324   \n",
       "1                         9.968944                      5.257781   \n",
       "2                        10.213995                      5.383759   \n",
       "3                         9.977019                      4.858634   \n",
       "4                        10.142511                      4.939416   \n",
       "...                            ...                           ...   \n",
       "19434                    11.356233                      6.803482   \n",
       "19435                    11.349355                      6.862249   \n",
       "19436                    11.434366                      6.886013   \n",
       "19437                    11.625587                      6.799433   \n",
       "19438                    11.737832                      6.717509   \n",
       "\n",
       "       final.output.concentrate_au  final.output.recovery  \\\n",
       "0                        42.192020              70.541216   \n",
       "1                        42.701629              69.266198   \n",
       "2                        42.657501              68.116445   \n",
       "3                        42.689819              68.347543   \n",
       "4                        42.774141              66.927016   \n",
       "...                            ...                    ...   \n",
       "19434                    46.713954              73.755150   \n",
       "19435                    46.866780              69.049291   \n",
       "19436                    46.795691              67.002189   \n",
       "19437                    46.408188              65.523246   \n",
       "19438                    46.299438              70.281454   \n",
       "\n",
       "       final.output.tail_ag  final.output.tail_pb  final.output.tail_sol  \\\n",
       "0                 10.411962              0.895447              16.904297   \n",
       "1                 10.462676              0.927452              16.634514   \n",
       "2                 10.507046              0.953716              16.208849   \n",
       "3                 10.422762              0.883763              16.532835   \n",
       "4                 10.360302              0.792826              16.525686   \n",
       "...                     ...                   ...                    ...   \n",
       "19434              8.769645              3.141541              10.403181   \n",
       "19435              8.897321              3.130493              10.549470   \n",
       "19436              8.529606              2.911418              11.115147   \n",
       "19437              8.777171              2.819214              10.463847   \n",
       "19438              8.406690              2.517518              10.652193   \n",
       "\n",
       "       final.output.tail_au  primary_cleaner.input.sulfate  \\\n",
       "0                  2.143149                     127.092003   \n",
       "1                  2.224930                     125.629232   \n",
       "2                  2.257889                     123.819808   \n",
       "3                  2.146849                     122.270188   \n",
       "4                  2.055292                     117.988169   \n",
       "...                     ...                            ...   \n",
       "19434              1.529220                     123.381787   \n",
       "19435              1.612542                     120.878188   \n",
       "19436              1.596616                     105.666118   \n",
       "19437              1.602879                      98.880538   \n",
       "19438              1.389434                      95.248427   \n",
       "\n",
       "       primary_cleaner.input.depressant  primary_cleaner.input.feed_size  \\\n",
       "0                             10.128295                             7.25   \n",
       "1                             10.296251                             7.25   \n",
       "2                             11.316280                             7.25   \n",
       "3                             11.322140                             7.25   \n",
       "4                             11.913613                             7.25   \n",
       "...                                 ...                              ...   \n",
       "19434                          8.028927                             6.50   \n",
       "19435                          7.962636                             6.50   \n",
       "19436                          7.955111                             6.50   \n",
       "19437                          7.984164                             6.50   \n",
       "19438                          8.078957                             6.50   \n",
       "\n",
       "       primary_cleaner.input.xanthate  primary_cleaner.output.concentrate_ag  \\\n",
       "0                            0.988759                               8.547551   \n",
       "1                            1.002663                               8.558743   \n",
       "2                            0.991265                               8.603505   \n",
       "3                            0.996739                               7.221879   \n",
       "4                            1.009869                               9.089428   \n",
       "...                               ...                                    ...   \n",
       "19434                        1.304232                               6.559174   \n",
       "19435                        1.302419                               6.612376   \n",
       "19436                        1.315926                               7.128896   \n",
       "19437                        1.241969                               7.490444   \n",
       "19438                        1.283045                               7.537584   \n",
       "\n",
       "       primary_cleaner.output.concentrate_pb  \\\n",
       "0                                  10.389648   \n",
       "1                                  10.497069   \n",
       "2                                  10.354494   \n",
       "3                                   8.496563   \n",
       "4                                   9.986786   \n",
       "...                                      ...   \n",
       "19434                              12.445966   \n",
       "19435                              12.623947   \n",
       "19436                              12.633558   \n",
       "19437                              12.012378   \n",
       "19438                              11.650285   \n",
       "\n",
       "       primary_cleaner.output.concentrate_sol  \\\n",
       "0                                   19.529297   \n",
       "1                                   19.369147   \n",
       "2                                   19.167579   \n",
       "3                                   15.978538   \n",
       "4                                   19.199864   \n",
       "...                                       ...   \n",
       "19434                                7.056338   \n",
       "19435                                7.542264   \n",
       "19436                                7.941900   \n",
       "19437                                6.942972   \n",
       "19438                                6.203553   \n",
       "\n",
       "       primary_cleaner.output.concentrate_au  primary_cleaner.output.tail_ag  \\\n",
       "0                                  34.174427                       14.936526   \n",
       "1                                  34.118526                       16.250511   \n",
       "2                                  33.969464                       16.491823   \n",
       "3                                  28.260743                       16.024359   \n",
       "4                                  33.044932                       16.480185   \n",
       "...                                      ...                             ...   \n",
       "19434                              32.940215                       22.854592   \n",
       "19435                              32.925325                       23.002490   \n",
       "19436                              31.856742                       22.298149   \n",
       "19437                              30.770892                       22.714656   \n",
       "19438                              30.356618                       22.735927   \n",
       "\n",
       "       primary_cleaner.output.tail_pb  primary_cleaner.output.tail_sol  \\\n",
       "0                            2.534912                         7.476074   \n",
       "1                            3.049646                         6.733907   \n",
       "2                            3.124664                         6.471768   \n",
       "3                            2.960362                         6.843791   \n",
       "4                            3.112100                         6.550154   \n",
       "...                               ...                              ...   \n",
       "19434                        6.531541                         3.934320   \n",
       "19435                        6.629725                         4.089124   \n",
       "19436                        6.278250                         4.457457   \n",
       "19437                        6.253145                         3.557121   \n",
       "19438                        6.084287                         3.026699   \n",
       "\n",
       "       primary_cleaner.output.tail_au  primary_cleaner.state.floatbank8_a_air  \\\n",
       "0                            2.106679                             1549.775757   \n",
       "1                            2.353017                             1576.166671   \n",
       "2                            2.416800                             1601.556163   \n",
       "3                            2.262051                             1599.968720   \n",
       "4                            2.277073                             1601.339707   \n",
       "...                               ...                                     ...   \n",
       "19434                        2.314352                             1648.421193   \n",
       "19435                        2.462890                             1649.820162   \n",
       "19436                        2.612231                             1649.166761   \n",
       "19437                        2.800648                             1646.547763   \n",
       "19438                        2.708046                             1648.759906   \n",
       "\n",
       "       primary_cleaner.state.floatbank8_a_level  \\\n",
       "0                                   -498.912140   \n",
       "1                                   -500.904965   \n",
       "2                                   -499.997791   \n",
       "3                                   -500.951778   \n",
       "4                                   -498.975456   \n",
       "...                                         ...   \n",
       "19434                               -400.382169   \n",
       "19435                               -399.930973   \n",
       "19436                               -399.888631   \n",
       "19437                               -398.977083   \n",
       "19438                               -399.862053   \n",
       "\n",
       "       primary_cleaner.state.floatbank8_b_air  \\\n",
       "0                                 1551.434204   \n",
       "1                                 1575.950626   \n",
       "2                                 1600.386685   \n",
       "3                                 1600.659236   \n",
       "4                                 1601.437854   \n",
       "...                                       ...   \n",
       "19434                             1648.742005   \n",
       "19435                             1649.357538   \n",
       "19436                             1649.196904   \n",
       "19437                             1648.212240   \n",
       "19438                             1650.135395   \n",
       "\n",
       "       primary_cleaner.state.floatbank8_b_level  \\\n",
       "0                                   -516.403442   \n",
       "1                                   -499.865889   \n",
       "2                                   -500.607762   \n",
       "3                                   -499.677094   \n",
       "4                                   -500.323246   \n",
       "...                                         ...   \n",
       "19434                               -400.359661   \n",
       "19435                               -399.721222   \n",
       "19436                               -399.677571   \n",
       "19437                               -400.383265   \n",
       "19438                               -399.957321   \n",
       "\n",
       "       primary_cleaner.state.floatbank8_c_air  \\\n",
       "0                                 1549.873901   \n",
       "1                                 1575.994189   \n",
       "2                                 1602.003542   \n",
       "3                                 1600.304144   \n",
       "4                                 1599.581894   \n",
       "...                                       ...   \n",
       "19434                             1648.578230   \n",
       "19435                             1648.656192   \n",
       "19436                             1647.896999   \n",
       "19437                             1648.917387   \n",
       "19438                             1648.831890   \n",
       "\n",
       "       primary_cleaner.state.floatbank8_c_level  \\\n",
       "0                                   -498.666595   \n",
       "1                                   -499.315107   \n",
       "2                                   -500.870069   \n",
       "3                                   -500.727997   \n",
       "4                                   -500.888152   \n",
       "...                                         ...   \n",
       "19434                               -399.363624   \n",
       "19435                               -401.195834   \n",
       "19436                               -399.988275   \n",
       "19437                               -399.521344   \n",
       "19438                               -400.586116   \n",
       "\n",
       "       primary_cleaner.state.floatbank8_d_air  \\\n",
       "0                                 1554.367432   \n",
       "1                                 1574.479259   \n",
       "2                                 1599.541515   \n",
       "3                                 1600.449520   \n",
       "4                                 1602.649541   \n",
       "...                                       ...   \n",
       "19434                             1648.833984   \n",
       "19435                             1649.725133   \n",
       "19436                             1649.772714   \n",
       "19437                             1651.498591   \n",
       "19438                             1649.464582   \n",
       "\n",
       "       primary_cleaner.state.floatbank8_d_level  \\\n",
       "0                                   -493.428131   \n",
       "1                                   -498.931665   \n",
       "2                                   -499.827444   \n",
       "3                                   -500.052575   \n",
       "4                                   -500.593010   \n",
       "...                                         ...   \n",
       "19434                               -399.669220   \n",
       "19435                               -400.636306   \n",
       "19436                               -399.831902   \n",
       "19437                               -399.745329   \n",
       "19438                               -400.673303   \n",
       "\n",
       "       rougher.calculation.sulfate_to_au_concentrate  \\\n",
       "0                                       41885.707031   \n",
       "1                                       42050.861809   \n",
       "2                                       42018.101184   \n",
       "3                                       42029.447991   \n",
       "4                                       42125.354245   \n",
       "...                                              ...   \n",
       "19434                                   45912.942619   \n",
       "19435                                   46200.099585   \n",
       "19436                                   44585.181334   \n",
       "19437                                   44084.735708   \n",
       "19438                                   44082.866565   \n",
       "\n",
       "       rougher.calculation.floatbank10_sulfate_to_au_feed  \\\n",
       "0                                            3481.779053    \n",
       "1                                            3498.370979    \n",
       "2                                            3495.348910    \n",
       "3                                            3498.578313    \n",
       "4                                            3494.800771    \n",
       "...                                                  ...    \n",
       "19434                                        2497.652954    \n",
       "19435                                        2614.403937    \n",
       "19436                                        2510.813545    \n",
       "19437                                        2507.572494    \n",
       "19438                                        2487.477762    \n",
       "\n",
       "       rougher.calculation.floatbank11_sulfate_to_au_feed  \\\n",
       "0                                            3520.337158    \n",
       "1                                            3489.981857    \n",
       "2                                            3502.359819    \n",
       "3                                            3499.162912    \n",
       "4                                            3506.679315    \n",
       "...                                                  ...    \n",
       "19434                                        2499.177950    \n",
       "19435                                        2518.550078    \n",
       "19436                                        2510.142433    \n",
       "19437                                        2507.723361    \n",
       "19438                                        2488.626080    \n",
       "\n",
       "       rougher.calculation.au_pb_ratio  rougher.input.feed_ag  \\\n",
       "0                             2.838687               6.100378   \n",
       "1                             2.858998               6.161113   \n",
       "2                             2.945989               6.116455   \n",
       "3                             3.002340               6.043309   \n",
       "4                             3.169615               6.060915   \n",
       "...                                ...                    ...   \n",
       "19434                         1.155559               6.091855   \n",
       "19435                         1.167342               6.121323   \n",
       "19436                         1.125637               5.970515   \n",
       "19437                         1.117935               6.048130   \n",
       "19438                         1.126367               6.158718   \n",
       "\n",
       "       rougher.input.feed_pb  rougher.input.feed_rate  \\\n",
       "0                   2.284912               523.546326   \n",
       "1                   2.266033               525.290581   \n",
       "2                   2.159622               530.026610   \n",
       "3                   2.037807               542.590390   \n",
       "4                   1.786875               540.531893   \n",
       "...                      ...                      ...   \n",
       "19434               4.617558               560.889077   \n",
       "19435               4.144989               559.031805   \n",
       "19436               4.020002               555.682872   \n",
       "19437               3.902537               544.731687   \n",
       "19438               3.875727               555.820208   \n",
       "\n",
       "       rougher.input.feed_size  rougher.input.feed_sol  rougher.input.feed_au  \\\n",
       "0                    55.486599               36.808594               6.486150   \n",
       "1                    57.278666               35.753385               6.478583   \n",
       "2                    57.510649               35.971630               6.362222   \n",
       "3                    57.792734               36.862241               6.118189   \n",
       "4                    56.047189               34.347666               5.663707   \n",
       "...                        ...                     ...                    ...   \n",
       "19434                85.718304               37.369774               5.335862   \n",
       "19435               119.499241               38.591551               4.838619   \n",
       "19436               122.262690               40.074026               4.525061   \n",
       "19437               123.742430               39.713906               4.362781   \n",
       "19438                94.544358               39.135119               4.365491   \n",
       "\n",
       "       rougher.input.floatbank10_sulfate  rougher.input.floatbank10_xanthate  \\\n",
       "0                              11.986616                            6.007990   \n",
       "1                              11.971193                            6.005766   \n",
       "2                              11.920603                            6.197377   \n",
       "3                              11.630094                            6.203177   \n",
       "4                              10.957755                            6.198826   \n",
       "...                                  ...                                 ...   \n",
       "19434                           7.762770                            9.158609   \n",
       "19435                           7.356687                            9.304952   \n",
       "19436                           6.586020                            9.299606   \n",
       "19437                           6.210119                            9.297709   \n",
       "19438                           6.146982                            9.308612   \n",
       "\n",
       "       rougher.input.floatbank11_sulfate  rougher.input.floatbank11_xanthate  \\\n",
       "0                              11.836743                            6.005818   \n",
       "1                              11.996163                            6.012594   \n",
       "2                              11.920305                            6.204633   \n",
       "3                              11.692450                            6.196578   \n",
       "4                              10.960521                            6.194897   \n",
       "...                                  ...                                 ...   \n",
       "19434                           7.766744                            9.156069   \n",
       "19435                           7.095508                            9.297924   \n",
       "19436                           6.584130                            9.300133   \n",
       "19437                           6.209517                            9.297194   \n",
       "19438                           6.168939                            9.309852   \n",
       "\n",
       "       rougher.output.concentrate_ag  rougher.output.concentrate_pb  \\\n",
       "0                          11.500771                       7.101074   \n",
       "1                          11.615865                       7.278807   \n",
       "2                          11.695753                       7.216833   \n",
       "3                          11.915047                       7.175616   \n",
       "4                          12.411054                       7.240205   \n",
       "...                              ...                            ...   \n",
       "19434                      11.124896                      10.984003   \n",
       "19435                      11.425983                      10.888213   \n",
       "19436                       8.523497                       8.955135   \n",
       "19437                      11.658799                      10.655377   \n",
       "19438                      11.959486                      10.702148   \n",
       "\n",
       "       rougher.output.concentrate_sol  rougher.output.concentrate_au  \\\n",
       "0                           28.029297                      19.793808   \n",
       "1                           28.067063                      20.050975   \n",
       "2                           27.454037                      19.737170   \n",
       "3                           27.341277                      19.320810   \n",
       "4                           27.041023                      19.216101   \n",
       "...                               ...                            ...   \n",
       "19434                       30.068876                      18.603550   \n",
       "19435                       29.783972                      18.441436   \n",
       "19436                       22.786467                      15.111231   \n",
       "19437                       29.052742                      17.834772   \n",
       "19438                       29.078235                      17.804134   \n",
       "\n",
       "       rougher.output.recovery  rougher.output.tail_ag  \\\n",
       "0                    87.107763                5.008018   \n",
       "1                    86.843261                4.955378   \n",
       "2                    86.842308                4.843460   \n",
       "3                    87.226430                4.655288   \n",
       "4                    86.688794                4.552800   \n",
       "...                        ...                     ...   \n",
       "19434                89.574376                4.207261   \n",
       "19435                87.724007                4.177943   \n",
       "19436                88.890579                4.050010   \n",
       "19437                89.858126                3.902494   \n",
       "19438                89.514960                3.925473   \n",
       "\n",
       "       rougher.output.tail_pb  rougher.output.tail_sol  \\\n",
       "0                    0.508728                19.154297   \n",
       "1                    0.536689                18.965234   \n",
       "2                    0.546416                18.808533   \n",
       "3                    0.542525                19.330200   \n",
       "4                    0.515438                19.267422   \n",
       "...                       ...                      ...   \n",
       "19434                0.612935                16.666590   \n",
       "19435                0.650557                16.960649   \n",
       "19436                0.636095                18.323080   \n",
       "19437                0.625609                19.423740   \n",
       "19438                0.638677                19.946673   \n",
       "\n",
       "       rougher.output.tail_au  rougher.state.floatbank10_a_air  \\\n",
       "0                    1.170244                       999.706909   \n",
       "1                    1.184827                      1000.286398   \n",
       "2                    1.162562                       999.719565   \n",
       "3                    1.079755                       999.814770   \n",
       "4                    1.012642                       999.678690   \n",
       "...                       ...                              ...   \n",
       "19434                0.748633                      1199.245914   \n",
       "19435                0.771582                      1196.569267   \n",
       "19436                0.685059                      1204.866639   \n",
       "19437                0.567130                      1201.904177   \n",
       "19438                0.586439                      1196.238112   \n",
       "\n",
       "       rougher.state.floatbank10_a_level  rougher.state.floatbank10_b_air  \\\n",
       "0                            -404.066986                      1603.011353   \n",
       "1                            -400.065196                      1600.754587   \n",
       "2                            -400.074028                      1599.337330   \n",
       "3                            -400.200179                      1600.059442   \n",
       "4                            -399.752729                      1600.208824   \n",
       "...                                  ...                              ...   \n",
       "19434                        -300.845518                      1149.807890   \n",
       "19435                        -299.512227                      1147.675196   \n",
       "19436                        -299.235675                      1149.942902   \n",
       "19437                        -299.907308                      1154.087804   \n",
       "19438                        -299.862743                      1147.248241   \n",
       "\n",
       "       rougher.state.floatbank10_b_level  rougher.state.floatbank10_c_air  \\\n",
       "0                            -434.715027                      1602.375000   \n",
       "1                            -449.953435                      1600.479580   \n",
       "2                            -450.008530                      1599.672797   \n",
       "3                            -450.619948                      1600.012842   \n",
       "4                            -449.599614                      1600.357732   \n",
       "...                                  ...                              ...   \n",
       "19434                        -498.789721                      1047.963596   \n",
       "19435                        -500.608341                      1048.565741   \n",
       "19436                        -501.717903                      1049.604390   \n",
       "19437                        -500.036580                      1054.009756   \n",
       "19438                        -500.363165                      1047.279065   \n",
       "\n",
       "       rougher.state.floatbank10_c_level  rougher.state.floatbank10_d_air  \\\n",
       "0                            -442.204468                      1598.937256   \n",
       "1                            -449.830646                      1600.527589   \n",
       "2                            -449.954491                      1599.849325   \n",
       "3                            -449.910497                      1597.725177   \n",
       "4                            -450.034364                      1599.759049   \n",
       "...                                  ...                              ...   \n",
       "19434                        -498.413079                       946.640977   \n",
       "19435                        -500.932810                       949.773589   \n",
       "19436                        -500.549053                       952.702732   \n",
       "19437                        -500.237335                       944.138793   \n",
       "19438                        -500.354091                       948.756608   \n",
       "\n",
       "       rougher.state.floatbank10_d_level  rougher.state.floatbank10_e_air  \\\n",
       "0                            -451.294128                      1404.472046   \n",
       "1                            -449.953649                      1399.227084   \n",
       "2                            -449.954185                      1399.180945   \n",
       "3                            -450.130127                      1400.943157   \n",
       "4                            -449.909799                      1401.560902   \n",
       "...                                  ...                              ...   \n",
       "19434                        -499.152477                       849.664935   \n",
       "19435                        -500.023144                       848.515225   \n",
       "19436                        -502.352296                       849.016017   \n",
       "19437                        -496.866953                       851.589767   \n",
       "19438                        -498.439416                       849.441918   \n",
       "\n",
       "       rougher.state.floatbank10_e_level  rougher.state.floatbank10_f_air  \\\n",
       "0                            -455.462982                      1416.354980   \n",
       "1                            -450.869848                      1399.719514   \n",
       "2                            -449.937588                      1400.316682   \n",
       "3                            -450.030142                      1400.234743   \n",
       "4                            -448.877187                      1401.160227   \n",
       "...                                  ...                              ...   \n",
       "19434                        -499.214461                       849.758091   \n",
       "19435                        -500.289405                       850.013123   \n",
       "19436                        -500.505677                       850.455635   \n",
       "19437                        -499.040466                       851.345606   \n",
       "19438                        -499.255503                       850.112246   \n",
       "\n",
       "       rougher.state.floatbank10_f_level  secondary_cleaner.output.tail_ag  \\\n",
       "0                            -451.939636                         14.500184   \n",
       "1                            -450.119001                         14.265474   \n",
       "2                            -450.527147                         14.115662   \n",
       "3                            -449.790835                         13.732071   \n",
       "4                            -450.407128                         14.079996   \n",
       "...                                  ...                               ...   \n",
       "19434                        -497.448664                          0.000000   \n",
       "19435                        -496.822119                          0.000000   \n",
       "19436                        -506.897968                          0.000000   \n",
       "19437                        -499.122561                          0.000000   \n",
       "19438                        -499.407112                          0.000000   \n",
       "\n",
       "       secondary_cleaner.output.tail_pb  secondary_cleaner.output.tail_sol  \\\n",
       "0                              4.694824                           8.764648   \n",
       "1                              4.592547                           9.001494   \n",
       "2                              4.624775                           8.842896   \n",
       "3                              4.482453                           9.122857   \n",
       "4                              4.470737                           8.871028   \n",
       "...                                 ...                                ...   \n",
       "19434                          0.000000                           0.000000   \n",
       "19435                          0.000000                           0.000000   \n",
       "19436                          0.000000                           0.000000   \n",
       "19437                          0.000000                           0.000000   \n",
       "19438                          0.000000                           0.000000   \n",
       "\n",
       "       secondary_cleaner.output.tail_au  \\\n",
       "0                              2.606185   \n",
       "1                              2.488248   \n",
       "2                              2.458187   \n",
       "3                              2.322062   \n",
       "4                              2.330448   \n",
       "...                                 ...   \n",
       "19434                          0.000000   \n",
       "19435                          0.000000   \n",
       "19436                          0.000000   \n",
       "19437                          0.000000   \n",
       "19438                          0.000000   \n",
       "\n",
       "       secondary_cleaner.state.floatbank2_a_air  \\\n",
       "0                                     25.853109   \n",
       "1                                     25.880539   \n",
       "2                                     26.005245   \n",
       "3                                     25.942508   \n",
       "4                                     26.024787   \n",
       "...                                         ...   \n",
       "19434                                 35.043205   \n",
       "19435                                 35.026062   \n",
       "19436                                 35.003586   \n",
       "19437                                 34.980742   \n",
       "19438                                 34.940919   \n",
       "\n",
       "       secondary_cleaner.state.floatbank2_a_level  \\\n",
       "0                                     -498.526489   \n",
       "1                                     -499.989656   \n",
       "2                                     -499.929616   \n",
       "3                                     -499.176749   \n",
       "4                                     -500.279091   \n",
       "...                                           ...   \n",
       "19434                                 -499.045671   \n",
       "19435                                 -499.891945   \n",
       "19436                                 -501.083794   \n",
       "19437                                 -498.131002   \n",
       "19438                                 -500.150510   \n",
       "\n",
       "       secondary_cleaner.state.floatbank2_b_air  \\\n",
       "0                                     23.893660   \n",
       "1                                     23.889530   \n",
       "2                                     23.886657   \n",
       "3                                     23.955516   \n",
       "4                                     23.955345   \n",
       "...                                         ...   \n",
       "19434                                 29.906659   \n",
       "19435                                 29.921795   \n",
       "19436                                 29.990533   \n",
       "19437                                 29.968453   \n",
       "19438                                 30.031867   \n",
       "\n",
       "       secondary_cleaner.state.floatbank2_b_level  \\\n",
       "0                                     -501.406281   \n",
       "1                                     -500.372428   \n",
       "2                                     -499.951928   \n",
       "3                                     -499.848796   \n",
       "4                                     -500.593614   \n",
       "...                                           ...   \n",
       "19434                                 -499.979939   \n",
       "19435                                 -499.949663   \n",
       "19436                                 -611.855898   \n",
       "19437                                 -586.013330   \n",
       "19438                                 -500.328335   \n",
       "\n",
       "       secondary_cleaner.state.floatbank3_a_air  \\\n",
       "0                                     23.961798   \n",
       "1                                     23.970550   \n",
       "2                                     23.913535   \n",
       "3                                     23.966838   \n",
       "4                                     23.985703   \n",
       "...                                         ...   \n",
       "19434                                 26.002402   \n",
       "19435                                 26.031747   \n",
       "19436                                 25.948429   \n",
       "19437                                 25.971737   \n",
       "19438                                 26.033990   \n",
       "\n",
       "       secondary_cleaner.state.floatbank3_a_level  \\\n",
       "0                                     -495.262817   \n",
       "1                                     -500.085473   \n",
       "2                                     -499.442343   \n",
       "3                                     -500.008812   \n",
       "4                                     -500.083811   \n",
       "...                                           ...   \n",
       "19434                                 -499.953431   \n",
       "19435                                 -500.384612   \n",
       "19436                                 -500.067268   \n",
       "19437                                 -499.608392   \n",
       "19438                                 -500.147792   \n",
       "\n",
       "       secondary_cleaner.state.floatbank3_b_air  \\\n",
       "0                                     21.940409   \n",
       "1                                     22.085714   \n",
       "2                                     23.957717   \n",
       "3                                     23.954443   \n",
       "4                                     23.958945   \n",
       "...                                         ...   \n",
       "19434                                 22.987238   \n",
       "19435                                 22.991058   \n",
       "19436                                 22.968268   \n",
       "19437                                 22.958448   \n",
       "19438                                 22.952306   \n",
       "\n",
       "       secondary_cleaner.state.floatbank3_b_level  \\\n",
       "0                                     -499.340973   \n",
       "1                                     -499.446897   \n",
       "2                                     -499.901982   \n",
       "3                                     -499.944710   \n",
       "4                                     -499.990309   \n",
       "...                                           ...   \n",
       "19434                                 -499.967351   \n",
       "19435                                 -500.079590   \n",
       "19436                                 -499.839442   \n",
       "19437                                 -499.821308   \n",
       "19438                                 -500.037678   \n",
       "\n",
       "       secondary_cleaner.state.floatbank4_a_air  \\\n",
       "0                                     14.016835   \n",
       "1                                     13.992281   \n",
       "2                                     14.015015   \n",
       "3                                     14.036510   \n",
       "4                                     14.027298   \n",
       "...                                         ...   \n",
       "19434                                 23.031497   \n",
       "19435                                 22.960095   \n",
       "19436                                 23.015718   \n",
       "19437                                 23.024963   \n",
       "19438                                 23.018622   \n",
       "\n",
       "       secondary_cleaner.state.floatbank4_a_level  \\\n",
       "0                                     -502.488007   \n",
       "1                                     -505.503262   \n",
       "2                                     -502.520901   \n",
       "3                                     -500.857308   \n",
       "4                                     -499.838632   \n",
       "...                                           ...   \n",
       "19434                                 -501.167942   \n",
       "19435                                 -501.612783   \n",
       "19436                                 -501.711599   \n",
       "19437                                 -501.153409   \n",
       "19438                                 -500.492702   \n",
       "\n",
       "       secondary_cleaner.state.floatbank4_b_air  \\\n",
       "0                                     12.099931   \n",
       "1                                     11.950531   \n",
       "2                                     11.912783   \n",
       "3                                     11.999550   \n",
       "4                                     11.953070   \n",
       "...                                         ...   \n",
       "19434                                 20.007571   \n",
       "19435                                 20.035660   \n",
       "19436                                 19.951231   \n",
       "19437                                 20.054122   \n",
       "19438                                 20.020205   \n",
       "\n",
       "       secondary_cleaner.state.floatbank4_b_level  \\\n",
       "0                                     -504.715942   \n",
       "1                                     -501.331529   \n",
       "2                                     -501.133383   \n",
       "3                                     -501.193686   \n",
       "4                                     -501.053894   \n",
       "...                                           ...   \n",
       "19434                                 -499.740028   \n",
       "19435                                 -500.251357   \n",
       "19436                                 -499.857027   \n",
       "19437                                 -500.314711   \n",
       "19438                                 -500.220296   \n",
       "\n",
       "       secondary_cleaner.state.floatbank5_a_air  \\\n",
       "0                                      9.925633   \n",
       "1                                     10.039245   \n",
       "2                                     10.070913   \n",
       "3                                      9.970366   \n",
       "4                                      9.925709   \n",
       "...                                         ...   \n",
       "19434                                 18.006038   \n",
       "19435                                 17.998535   \n",
       "19436                                 18.019543   \n",
       "19437                                 17.979515   \n",
       "19438                                 17.963512   \n",
       "\n",
       "       secondary_cleaner.state.floatbank5_a_level  \\\n",
       "0                                     -498.310211   \n",
       "1                                     -500.169983   \n",
       "2                                     -500.129135   \n",
       "3                                     -499.201640   \n",
       "4                                     -501.686727   \n",
       "...                                           ...   \n",
       "19434                                 -499.834374   \n",
       "19435                                 -500.395178   \n",
       "19436                                 -500.451156   \n",
       "19437                                 -499.272871   \n",
       "19438                                 -499.939490   \n",
       "\n",
       "       secondary_cleaner.state.floatbank5_b_air  \\\n",
       "0                                      8.079666   \n",
       "1                                      7.984757   \n",
       "2                                      8.013877   \n",
       "3                                      7.977324   \n",
       "4                                      7.894242   \n",
       "...                                         ...   \n",
       "19434                                 13.001114   \n",
       "19435                                 12.954048   \n",
       "19436                                 13.023431   \n",
       "19437                                 12.992404   \n",
       "19438                                 12.990306   \n",
       "\n",
       "       secondary_cleaner.state.floatbank5_b_level  \\\n",
       "0                                     -500.470978   \n",
       "1                                     -500.582168   \n",
       "2                                     -500.517572   \n",
       "3                                     -500.255908   \n",
       "4                                     -500.356035   \n",
       "...                                           ...   \n",
       "19434                                 -500.155694   \n",
       "19435                                 -499.895163   \n",
       "19436                                 -499.914391   \n",
       "19437                                 -499.976268   \n",
       "19438                                 -500.080993   \n",
       "\n",
       "       secondary_cleaner.state.floatbank6_a_air  \\\n",
       "0                                     14.151341   \n",
       "1                                     13.998353   \n",
       "2                                     14.028663   \n",
       "3                                     14.005551   \n",
       "4                                     13.996647   \n",
       "...                                         ...   \n",
       "19434                                 20.007840   \n",
       "19435                                 19.968498   \n",
       "19436                                 19.990885   \n",
       "19437                                 20.013986   \n",
       "19438                                 19.990336   \n",
       "\n",
       "       secondary_cleaner.state.floatbank6_a_level  \n",
       "0                                     -605.841980  \n",
       "1                                     -599.787184  \n",
       "2                                     -601.427363  \n",
       "3                                     -599.996129  \n",
       "4                                     -601.496691  \n",
       "...                                           ...  \n",
       "19434                                 -501.296428  \n",
       "19435                                 -501.041608  \n",
       "19436                                 -501.518452  \n",
       "19437                                 -500.625471  \n",
       "19438                                 -499.191575  \n",
       "\n",
       "[19439 rows x 87 columns]"
      ]
     },
     "execution_count": 6,
     "metadata": {},
     "output_type": "execute_result"
    }
   ],
   "source": [
    "full"
   ]
  },
  {
   "cell_type": "code",
   "execution_count": 7,
   "metadata": {},
   "outputs": [
    {
     "name": "stdout",
     "output_type": "stream",
     "text": [
      "<class 'pandas.core.frame.DataFrame'>\n",
      "RangeIndex: 19439 entries, 0 to 19438\n",
      "Data columns (total 87 columns):\n",
      " #   Column                                              Non-Null Count  Dtype  \n",
      "---  ------                                              --------------  -----  \n",
      " 0   date                                                19439 non-null  object \n",
      " 1   final.output.concentrate_ag                         19438 non-null  float64\n",
      " 2   final.output.concentrate_pb                         19438 non-null  float64\n",
      " 3   final.output.concentrate_sol                        19228 non-null  float64\n",
      " 4   final.output.concentrate_au                         19439 non-null  float64\n",
      " 5   final.output.recovery                               19439 non-null  float64\n",
      " 6   final.output.tail_ag                                19438 non-null  float64\n",
      " 7   final.output.tail_pb                                19338 non-null  float64\n",
      " 8   final.output.tail_sol                               19433 non-null  float64\n",
      " 9   final.output.tail_au                                19439 non-null  float64\n",
      " 10  primary_cleaner.input.sulfate                       19415 non-null  float64\n",
      " 11  primary_cleaner.input.depressant                    19402 non-null  float64\n",
      " 12  primary_cleaner.input.feed_size                     19439 non-null  float64\n",
      " 13  primary_cleaner.input.xanthate                      19335 non-null  float64\n",
      " 14  primary_cleaner.output.concentrate_ag               19439 non-null  float64\n",
      " 15  primary_cleaner.output.concentrate_pb               19323 non-null  float64\n",
      " 16  primary_cleaner.output.concentrate_sol              19069 non-null  float64\n",
      " 17  primary_cleaner.output.concentrate_au               19439 non-null  float64\n",
      " 18  primary_cleaner.output.tail_ag                      19435 non-null  float64\n",
      " 19  primary_cleaner.output.tail_pb                      19418 non-null  float64\n",
      " 20  primary_cleaner.output.tail_sol                     19377 non-null  float64\n",
      " 21  primary_cleaner.output.tail_au                      19439 non-null  float64\n",
      " 22  primary_cleaner.state.floatbank8_a_air              19435 non-null  float64\n",
      " 23  primary_cleaner.state.floatbank8_a_level            19438 non-null  float64\n",
      " 24  primary_cleaner.state.floatbank8_b_air              19435 non-null  float64\n",
      " 25  primary_cleaner.state.floatbank8_b_level            19438 non-null  float64\n",
      " 26  primary_cleaner.state.floatbank8_c_air              19437 non-null  float64\n",
      " 27  primary_cleaner.state.floatbank8_c_level            19438 non-null  float64\n",
      " 28  primary_cleaner.state.floatbank8_d_air              19436 non-null  float64\n",
      " 29  primary_cleaner.state.floatbank8_d_level            19438 non-null  float64\n",
      " 30  rougher.calculation.sulfate_to_au_concentrate       19437 non-null  float64\n",
      " 31  rougher.calculation.floatbank10_sulfate_to_au_feed  19437 non-null  float64\n",
      " 32  rougher.calculation.floatbank11_sulfate_to_au_feed  19437 non-null  float64\n",
      " 33  rougher.calculation.au_pb_ratio                     19439 non-null  float64\n",
      " 34  rougher.input.feed_ag                               19439 non-null  float64\n",
      " 35  rougher.input.feed_pb                               19339 non-null  float64\n",
      " 36  rougher.input.feed_rate                             19428 non-null  float64\n",
      " 37  rougher.input.feed_size                             19294 non-null  float64\n",
      " 38  rougher.input.feed_sol                              19340 non-null  float64\n",
      " 39  rougher.input.feed_au                               19439 non-null  float64\n",
      " 40  rougher.input.floatbank10_sulfate                   19405 non-null  float64\n",
      " 41  rougher.input.floatbank10_xanthate                  19431 non-null  float64\n",
      " 42  rougher.input.floatbank11_sulfate                   19395 non-null  float64\n",
      " 43  rougher.input.floatbank11_xanthate                  18986 non-null  float64\n",
      " 44  rougher.output.concentrate_ag                       19439 non-null  float64\n",
      " 45  rougher.output.concentrate_pb                       19439 non-null  float64\n",
      " 46  rougher.output.concentrate_sol                      19416 non-null  float64\n",
      " 47  rougher.output.concentrate_au                       19439 non-null  float64\n",
      " 48  rougher.output.recovery                             19439 non-null  float64\n",
      " 49  rougher.output.tail_ag                              19438 non-null  float64\n",
      " 50  rougher.output.tail_pb                              19439 non-null  float64\n",
      " 51  rougher.output.tail_sol                             19439 non-null  float64\n",
      " 52  rougher.output.tail_au                              19439 non-null  float64\n",
      " 53  rougher.state.floatbank10_a_air                     19438 non-null  float64\n",
      " 54  rougher.state.floatbank10_a_level                   19438 non-null  float64\n",
      " 55  rougher.state.floatbank10_b_air                     19438 non-null  float64\n",
      " 56  rougher.state.floatbank10_b_level                   19438 non-null  float64\n",
      " 57  rougher.state.floatbank10_c_air                     19438 non-null  float64\n",
      " 58  rougher.state.floatbank10_c_level                   19438 non-null  float64\n",
      " 59  rougher.state.floatbank10_d_air                     19439 non-null  float64\n",
      " 60  rougher.state.floatbank10_d_level                   19439 non-null  float64\n",
      " 61  rougher.state.floatbank10_e_air                     19003 non-null  float64\n",
      " 62  rougher.state.floatbank10_e_level                   19439 non-null  float64\n",
      " 63  rougher.state.floatbank10_f_air                     19439 non-null  float64\n",
      " 64  rougher.state.floatbank10_f_level                   19439 non-null  float64\n",
      " 65  secondary_cleaner.output.tail_ag                    19437 non-null  float64\n",
      " 66  secondary_cleaner.output.tail_pb                    19427 non-null  float64\n",
      " 67  secondary_cleaner.output.tail_sol                   17691 non-null  float64\n",
      " 68  secondary_cleaner.output.tail_au                    19439 non-null  float64\n",
      " 69  secondary_cleaner.state.floatbank2_a_air            19219 non-null  float64\n",
      " 70  secondary_cleaner.state.floatbank2_a_level          19438 non-null  float64\n",
      " 71  secondary_cleaner.state.floatbank2_b_air            19416 non-null  float64\n",
      " 72  secondary_cleaner.state.floatbank2_b_level          19438 non-null  float64\n",
      " 73  secondary_cleaner.state.floatbank3_a_air            19426 non-null  float64\n",
      " 74  secondary_cleaner.state.floatbank3_a_level          19438 non-null  float64\n",
      " 75  secondary_cleaner.state.floatbank3_b_air            19438 non-null  float64\n",
      " 76  secondary_cleaner.state.floatbank3_b_level          19438 non-null  float64\n",
      " 77  secondary_cleaner.state.floatbank4_a_air            19433 non-null  float64\n",
      " 78  secondary_cleaner.state.floatbank4_a_level          19438 non-null  float64\n",
      " 79  secondary_cleaner.state.floatbank4_b_air            19438 non-null  float64\n",
      " 80  secondary_cleaner.state.floatbank4_b_level          19438 non-null  float64\n",
      " 81  secondary_cleaner.state.floatbank5_a_air            19438 non-null  float64\n",
      " 82  secondary_cleaner.state.floatbank5_a_level          19438 non-null  float64\n",
      " 83  secondary_cleaner.state.floatbank5_b_air            19438 non-null  float64\n",
      " 84  secondary_cleaner.state.floatbank5_b_level          19438 non-null  float64\n",
      " 85  secondary_cleaner.state.floatbank6_a_air            19437 non-null  float64\n",
      " 86  secondary_cleaner.state.floatbank6_a_level          19438 non-null  float64\n",
      "dtypes: float64(86), object(1)\n",
      "memory usage: 12.9+ MB\n"
     ]
    }
   ],
   "source": [
    "full.info()"
   ]
  },
  {
   "cell_type": "code",
   "execution_count": 8,
   "metadata": {},
   "outputs": [
    {
     "name": "stdout",
     "output_type": "stream",
     "text": [
      "(19439, 87)\n",
      "(14149, 87)\n",
      "(5290, 53)\n"
     ]
    }
   ],
   "source": [
    "print(full.shape)\n",
    "print(train.shape)\n",
    "print(test.shape)"
   ]
  },
  {
   "cell_type": "markdown",
   "metadata": {},
   "source": [
    "В датасете `train` то же число столбцов, что и в `full`, а в `test` их гораздо меньше. Соотношение объектов в `train` и `test` примерно 3 к 1."
   ]
  },
  {
   "cell_type": "markdown",
   "metadata": {},
   "source": [
    "Проверим датасеты на наличие полных дубликатов."
   ]
  },
  {
   "cell_type": "code",
   "execution_count": 9,
   "metadata": {},
   "outputs": [
    {
     "name": "stdout",
     "output_type": "stream",
     "text": [
      "0\n",
      "0\n",
      "0\n"
     ]
    }
   ],
   "source": [
    "for df in [full, train, test]:\n",
    "    print(df.duplicated().sum())"
   ]
  },
  {
   "cell_type": "markdown",
   "metadata": {},
   "source": [
    "Дублей нет."
   ]
  },
  {
   "cell_type": "markdown",
   "metadata": {},
   "source": [
    "### Проверяем, что эффективность обогащения рассчитана правильно"
   ]
  },
  {
   "cell_type": "markdown",
   "metadata": {},
   "source": [
    "Рассчитаем эффективность обогащения для признака `rougher.output.recovery` на обучающей выборке и сравним с самим признаком."
   ]
  },
  {
   "cell_type": "code",
   "execution_count": 10,
   "metadata": {},
   "outputs": [],
   "source": [
    "train['rougher.output.recovery_check'] = (\n",
    "    100 * train['rougher.output.concentrate_au'] \n",
    "    * (train['rougher.input.feed_au'] - train['rougher.output.tail_au'])\n",
    "    / train['rougher.input.feed_au']\n",
    "    / (train['rougher.output.concentrate_au'] - train['rougher.output.tail_au'])\n",
    ")"
   ]
  },
  {
   "cell_type": "code",
   "execution_count": 11,
   "metadata": {},
   "outputs": [
    {
     "data": {
      "text/html": [
       "<div>\n",
       "<style scoped>\n",
       "    .dataframe tbody tr th:only-of-type {\n",
       "        vertical-align: middle;\n",
       "    }\n",
       "\n",
       "    .dataframe tbody tr th {\n",
       "        vertical-align: top;\n",
       "    }\n",
       "\n",
       "    .dataframe thead th {\n",
       "        text-align: right;\n",
       "    }\n",
       "</style>\n",
       "<table border=\"1\" class=\"dataframe\">\n",
       "  <thead>\n",
       "    <tr style=\"text-align: right;\">\n",
       "      <th></th>\n",
       "      <th>rougher.output.recovery</th>\n",
       "      <th>rougher.output.recovery_check</th>\n",
       "      <th>rougher.output.concentrate_au</th>\n",
       "      <th>rougher.input.feed_au</th>\n",
       "      <th>rougher.output.tail_au</th>\n",
       "    </tr>\n",
       "  </thead>\n",
       "  <tbody>\n",
       "    <tr>\n",
       "      <th>0</th>\n",
       "      <td>87.107763</td>\n",
       "      <td>87.107763</td>\n",
       "      <td>19.793808</td>\n",
       "      <td>6.486150</td>\n",
       "      <td>1.170244</td>\n",
       "    </tr>\n",
       "    <tr>\n",
       "      <th>1</th>\n",
       "      <td>86.843261</td>\n",
       "      <td>86.843261</td>\n",
       "      <td>20.050975</td>\n",
       "      <td>6.478583</td>\n",
       "      <td>1.184827</td>\n",
       "    </tr>\n",
       "    <tr>\n",
       "      <th>2</th>\n",
       "      <td>86.842308</td>\n",
       "      <td>86.842308</td>\n",
       "      <td>19.737170</td>\n",
       "      <td>6.362222</td>\n",
       "      <td>1.162562</td>\n",
       "    </tr>\n",
       "    <tr>\n",
       "      <th>3</th>\n",
       "      <td>87.226430</td>\n",
       "      <td>87.226430</td>\n",
       "      <td>19.320810</td>\n",
       "      <td>6.118189</td>\n",
       "      <td>1.079755</td>\n",
       "    </tr>\n",
       "    <tr>\n",
       "      <th>4</th>\n",
       "      <td>86.688794</td>\n",
       "      <td>86.688794</td>\n",
       "      <td>19.216101</td>\n",
       "      <td>5.663707</td>\n",
       "      <td>1.012642</td>\n",
       "    </tr>\n",
       "    <tr>\n",
       "      <th>...</th>\n",
       "      <td>...</td>\n",
       "      <td>...</td>\n",
       "      <td>...</td>\n",
       "      <td>...</td>\n",
       "      <td>...</td>\n",
       "    </tr>\n",
       "    <tr>\n",
       "      <th>14144</th>\n",
       "      <td>89.574376</td>\n",
       "      <td>89.574376</td>\n",
       "      <td>18.603550</td>\n",
       "      <td>5.335862</td>\n",
       "      <td>0.748633</td>\n",
       "    </tr>\n",
       "    <tr>\n",
       "      <th>14145</th>\n",
       "      <td>87.724007</td>\n",
       "      <td>87.724007</td>\n",
       "      <td>18.441436</td>\n",
       "      <td>4.838619</td>\n",
       "      <td>0.771582</td>\n",
       "    </tr>\n",
       "    <tr>\n",
       "      <th>14146</th>\n",
       "      <td>88.890579</td>\n",
       "      <td>88.890579</td>\n",
       "      <td>15.111231</td>\n",
       "      <td>4.525061</td>\n",
       "      <td>0.685059</td>\n",
       "    </tr>\n",
       "    <tr>\n",
       "      <th>14147</th>\n",
       "      <td>89.858126</td>\n",
       "      <td>89.858126</td>\n",
       "      <td>17.834772</td>\n",
       "      <td>4.362781</td>\n",
       "      <td>0.567130</td>\n",
       "    </tr>\n",
       "    <tr>\n",
       "      <th>14148</th>\n",
       "      <td>89.514960</td>\n",
       "      <td>89.514960</td>\n",
       "      <td>17.804134</td>\n",
       "      <td>4.365491</td>\n",
       "      <td>0.586439</td>\n",
       "    </tr>\n",
       "  </tbody>\n",
       "</table>\n",
       "<p>14149 rows × 5 columns</p>\n",
       "</div>"
      ],
      "text/plain": [
       "       rougher.output.recovery  rougher.output.recovery_check  \\\n",
       "0                    87.107763                      87.107763   \n",
       "1                    86.843261                      86.843261   \n",
       "2                    86.842308                      86.842308   \n",
       "3                    87.226430                      87.226430   \n",
       "4                    86.688794                      86.688794   \n",
       "...                        ...                            ...   \n",
       "14144                89.574376                      89.574376   \n",
       "14145                87.724007                      87.724007   \n",
       "14146                88.890579                      88.890579   \n",
       "14147                89.858126                      89.858126   \n",
       "14148                89.514960                      89.514960   \n",
       "\n",
       "       rougher.output.concentrate_au  rougher.input.feed_au  \\\n",
       "0                          19.793808               6.486150   \n",
       "1                          20.050975               6.478583   \n",
       "2                          19.737170               6.362222   \n",
       "3                          19.320810               6.118189   \n",
       "4                          19.216101               5.663707   \n",
       "...                              ...                    ...   \n",
       "14144                      18.603550               5.335862   \n",
       "14145                      18.441436               4.838619   \n",
       "14146                      15.111231               4.525061   \n",
       "14147                      17.834772               4.362781   \n",
       "14148                      17.804134               4.365491   \n",
       "\n",
       "       rougher.output.tail_au  \n",
       "0                    1.170244  \n",
       "1                    1.184827  \n",
       "2                    1.162562  \n",
       "3                    1.079755  \n",
       "4                    1.012642  \n",
       "...                       ...  \n",
       "14144                0.748633  \n",
       "14145                0.771582  \n",
       "14146                0.685059  \n",
       "14147                0.567130  \n",
       "14148                0.586439  \n",
       "\n",
       "[14149 rows x 5 columns]"
      ]
     },
     "execution_count": 11,
     "metadata": {},
     "output_type": "execute_result"
    }
   ],
   "source": [
    "train[['rougher.output.recovery',\n",
    "       'rougher.output.recovery_check',\n",
    "       'rougher.output.concentrate_au', \n",
    "       'rougher.input.feed_au', \n",
    "       'rougher.output.tail_au',\n",
    "]]"
   ]
  },
  {
   "cell_type": "code",
   "execution_count": 12,
   "metadata": {},
   "outputs": [
    {
     "data": {
      "text/plain": [
       "1.1766465170843896e-14"
      ]
     },
     "execution_count": 12,
     "metadata": {},
     "output_type": "execute_result"
    }
   ],
   "source": [
    "mean_absolute_error(\n",
    "    train['rougher.output.recovery'],\n",
    "    train['rougher.output.recovery_check']\n",
    ")"
   ]
  },
  {
   "cell_type": "markdown",
   "metadata": {},
   "source": [
    "Среднее абсолютное отклонение расчета от признака фактически равно нулю – признак соответствует названию."
   ]
  },
  {
   "cell_type": "markdown",
   "metadata": {},
   "source": [
    "Удалим расчетный столбец за ненадобностью."
   ]
  },
  {
   "cell_type": "code",
   "execution_count": 13,
   "metadata": {},
   "outputs": [],
   "source": [
    "train = train.drop(columns=['rougher.output.recovery_check'])"
   ]
  },
  {
   "cell_type": "markdown",
   "metadata": {},
   "source": [
    "### Анализируем признаки, недоступные в тестовой выборке"
   ]
  },
  {
   "cell_type": "markdown",
   "metadata": {},
   "source": [
    "Посмотрим, каких столбцов не хватает в `test`."
   ]
  },
  {
   "cell_type": "code",
   "execution_count": 14,
   "metadata": {},
   "outputs": [
    {
     "data": {
      "text/plain": [
       "['final.output.concentrate_ag',\n",
       " 'final.output.concentrate_pb',\n",
       " 'final.output.concentrate_sol',\n",
       " 'final.output.concentrate_au',\n",
       " 'final.output.recovery',\n",
       " 'final.output.tail_ag',\n",
       " 'final.output.tail_pb',\n",
       " 'final.output.tail_sol',\n",
       " 'final.output.tail_au',\n",
       " 'primary_cleaner.output.concentrate_ag',\n",
       " 'primary_cleaner.output.concentrate_pb',\n",
       " 'primary_cleaner.output.concentrate_sol',\n",
       " 'primary_cleaner.output.concentrate_au',\n",
       " 'primary_cleaner.output.tail_ag',\n",
       " 'primary_cleaner.output.tail_pb',\n",
       " 'primary_cleaner.output.tail_sol',\n",
       " 'primary_cleaner.output.tail_au',\n",
       " 'rougher.calculation.sulfate_to_au_concentrate',\n",
       " 'rougher.calculation.floatbank10_sulfate_to_au_feed',\n",
       " 'rougher.calculation.floatbank11_sulfate_to_au_feed',\n",
       " 'rougher.calculation.au_pb_ratio',\n",
       " 'rougher.output.concentrate_ag',\n",
       " 'rougher.output.concentrate_pb',\n",
       " 'rougher.output.concentrate_sol',\n",
       " 'rougher.output.concentrate_au',\n",
       " 'rougher.output.recovery',\n",
       " 'rougher.output.tail_ag',\n",
       " 'rougher.output.tail_pb',\n",
       " 'rougher.output.tail_sol',\n",
       " 'rougher.output.tail_au',\n",
       " 'secondary_cleaner.output.tail_ag',\n",
       " 'secondary_cleaner.output.tail_pb',\n",
       " 'secondary_cleaner.output.tail_sol',\n",
       " 'secondary_cleaner.output.tail_au']"
      ]
     },
     "execution_count": 14,
     "metadata": {},
     "output_type": "execute_result"
    }
   ],
   "source": [
    "[col for col in train.columns if col not in test.columns]"
   ]
  },
  {
   "cell_type": "markdown",
   "metadata": {},
   "source": [
    "Видим выходные параметры каждой стадии, включая два целевых признака, и рассчетные показатели. Вероятная причина исключения этих столбцов из `test` (а значит и из `train` при обучении модели) – предотвращение утечки целевых признаков через тесно связанные с ними параметры."
   ]
  },
  {
   "cell_type": "markdown",
   "metadata": {},
   "source": [
    "### Проводим предобработку данных"
   ]
  },
  {
   "cell_type": "markdown",
   "metadata": {},
   "source": [
    "Приведем столбец `date` к типу `datetime`, сделаем его индексом и упорядочим по возрастанию во всех датасетах."
   ]
  },
  {
   "cell_type": "code",
   "execution_count": 15,
   "metadata": {},
   "outputs": [
    {
     "name": "stdout",
     "output_type": "stream",
     "text": [
      "datetime64[ns]\n",
      "datetime64[ns]\n",
      "datetime64[ns]\n"
     ]
    }
   ],
   "source": [
    "for df in [full, train, test]:\n",
    "    df['date'] = df['date'].apply(pd.to_datetime)\n",
    "    print(df['date'].dtype)\n",
    "    df.set_index('date', inplace=True)\n",
    "    df.sort_index(inplace=True)"
   ]
  },
  {
   "cell_type": "markdown",
   "metadata": {},
   "source": [
    "Посмотрим, каким разбиением созданы из `full` датасеты `train` и `test`."
   ]
  },
  {
   "cell_type": "code",
   "execution_count": 16,
   "metadata": {},
   "outputs": [
    {
     "data": {
      "image/png": "[encoded data removed]",
      "text/plain": [
       "<Figure size 864x288 with 1 Axes>"
      ]
     },
     "metadata": {},
     "output_type": "display_data"
    }
   ],
   "source": [
    "plt.figure(figsize=(12, 4));\n",
    "plt.suptitle('Number of Objects in Train and Test Datasets by Date');\n",
    "for i, df in enumerate([train, test]):\n",
    "    plt.hist(df.index, bins=100//(1+i), alpha=.5, edgecolor='k');\n",
    "plt.legend(['train', 'test']);"
   ]
  },
  {
   "cell_type": "markdown",
   "metadata": {},
   "source": [
    "Похоже, что для теста взяли периоды с сентября по декабрь 2016 и 2017 годов, а остальное сделали трейном. "
   ]
  },
  {
   "cell_type": "markdown",
   "metadata": {},
   "source": [
    "Посмотрим на число пропусков в столбцах."
   ]
  },
  {
   "cell_type": "code",
   "execution_count": 17,
   "metadata": {},
   "outputs": [
    {
     "data": {
      "text/plain": [
       "final.output.concentrate_ag                              1\n",
       "final.output.concentrate_pb                              1\n",
       "final.output.concentrate_sol                           211\n",
       "final.output.concentrate_au                              0\n",
       "final.output.recovery                                    0\n",
       "final.output.tail_ag                                     1\n",
       "final.output.tail_pb                                   101\n",
       "final.output.tail_sol                                    6\n",
       "final.output.tail_au                                     0\n",
       "primary_cleaner.input.sulfate                           24\n",
       "primary_cleaner.input.depressant                        37\n",
       "primary_cleaner.input.feed_size                          0\n",
       "primary_cleaner.input.xanthate                         104\n",
       "primary_cleaner.output.concentrate_ag                    0\n",
       "primary_cleaner.output.concentrate_pb                  116\n",
       "primary_cleaner.output.concentrate_sol                 370\n",
       "primary_cleaner.output.concentrate_au                    0\n",
       "primary_cleaner.output.tail_ag                           4\n",
       "primary_cleaner.output.tail_pb                          21\n",
       "primary_cleaner.output.tail_sol                         62\n",
       "primary_cleaner.output.tail_au                           0\n",
       "primary_cleaner.state.floatbank8_a_air                   4\n",
       "primary_cleaner.state.floatbank8_a_level                 1\n",
       "primary_cleaner.state.floatbank8_b_air                   4\n",
       "primary_cleaner.state.floatbank8_b_level                 1\n",
       "primary_cleaner.state.floatbank8_c_air                   2\n",
       "primary_cleaner.state.floatbank8_c_level                 1\n",
       "primary_cleaner.state.floatbank8_d_air                   3\n",
       "primary_cleaner.state.floatbank8_d_level                 1\n",
       "rougher.calculation.sulfate_to_au_concentrate            2\n",
       "rougher.calculation.floatbank10_sulfate_to_au_feed       2\n",
       "rougher.calculation.floatbank11_sulfate_to_au_feed       2\n",
       "rougher.calculation.au_pb_ratio                          0\n",
       "rougher.input.feed_ag                                    0\n",
       "rougher.input.feed_pb                                  100\n",
       "rougher.input.feed_rate                                 11\n",
       "rougher.input.feed_size                                145\n",
       "rougher.input.feed_sol                                  99\n",
       "rougher.input.feed_au                                    0\n",
       "rougher.input.floatbank10_sulfate                       34\n",
       "rougher.input.floatbank10_xanthate                       8\n",
       "rougher.input.floatbank11_sulfate                       44\n",
       "rougher.input.floatbank11_xanthate                     453\n",
       "rougher.output.concentrate_ag                            0\n",
       "rougher.output.concentrate_pb                            0\n",
       "rougher.output.concentrate_sol                          23\n",
       "rougher.output.concentrate_au                            0\n",
       "rougher.output.recovery                                  0\n",
       "rougher.output.tail_ag                                   1\n",
       "rougher.output.tail_pb                                   0\n",
       "rougher.output.tail_sol                                  0\n",
       "rougher.output.tail_au                                   0\n",
       "rougher.state.floatbank10_a_air                          1\n",
       "rougher.state.floatbank10_a_level                        1\n",
       "rougher.state.floatbank10_b_air                          1\n",
       "rougher.state.floatbank10_b_level                        1\n",
       "rougher.state.floatbank10_c_air                          1\n",
       "rougher.state.floatbank10_c_level                        1\n",
       "rougher.state.floatbank10_d_air                          0\n",
       "rougher.state.floatbank10_d_level                        0\n",
       "rougher.state.floatbank10_e_air                        436\n",
       "rougher.state.floatbank10_e_level                        0\n",
       "rougher.state.floatbank10_f_air                          0\n",
       "rougher.state.floatbank10_f_level                        0\n",
       "secondary_cleaner.output.tail_ag                         2\n",
       "secondary_cleaner.output.tail_pb                        12\n",
       "secondary_cleaner.output.tail_sol                     1748\n",
       "secondary_cleaner.output.tail_au                         0\n",
       "secondary_cleaner.state.floatbank2_a_air               220\n",
       "secondary_cleaner.state.floatbank2_a_level               1\n",
       "secondary_cleaner.state.floatbank2_b_air                23\n",
       "secondary_cleaner.state.floatbank2_b_level               1\n",
       "secondary_cleaner.state.floatbank3_a_air                13\n",
       "secondary_cleaner.state.floatbank3_a_level               1\n",
       "secondary_cleaner.state.floatbank3_b_air                 1\n",
       "secondary_cleaner.state.floatbank3_b_level               1\n",
       "secondary_cleaner.state.floatbank4_a_air                 6\n",
       "secondary_cleaner.state.floatbank4_a_level               1\n",
       "secondary_cleaner.state.floatbank4_b_air                 1\n",
       "secondary_cleaner.state.floatbank4_b_level               1\n",
       "secondary_cleaner.state.floatbank5_a_air                 1\n",
       "secondary_cleaner.state.floatbank5_a_level               1\n",
       "secondary_cleaner.state.floatbank5_b_air                 1\n",
       "secondary_cleaner.state.floatbank5_b_level               1\n",
       "secondary_cleaner.state.floatbank6_a_air                 2\n",
       "secondary_cleaner.state.floatbank6_a_level               1\n",
       "dtype: int64"
      ]
     },
     "execution_count": 17,
     "metadata": {},
     "output_type": "execute_result"
    }
   ],
   "source": [
    "full.isna().sum()"
   ]
  },
  {
   "cell_type": "markdown",
   "metadata": {},
   "source": [
    "В брифе сказано, что «*cоседние по времени параметры часто похожи*». Пропусков немного, так что заполним их соседними по времени значениями. Так как и в `train`, и в `test` есть разрывы во времени, заполним пропуски в `full`, после чего обновим `train` и `test`."
   ]
  },
  {
   "cell_type": "code",
   "execution_count": 18,
   "metadata": {
    "scrolled": true
   },
   "outputs": [
    {
     "data": {
      "text/plain": [
       "0"
      ]
     },
     "execution_count": 18,
     "metadata": {},
     "output_type": "execute_result"
    }
   ],
   "source": [
    "full = full.fillna(method='ffill')\n",
    "full.isna().sum().sum()"
   ]
  },
  {
   "cell_type": "code",
   "execution_count": 19,
   "metadata": {},
   "outputs": [
    {
     "name": "stdout",
     "output_type": "stream",
     "text": [
      "(14149, 86) 0\n",
      "(5290, 52) 0\n"
     ]
    }
   ],
   "source": [
    "for df in [train, test]:\n",
    "    df.loc[:, :] = full.loc[df.index, df.columns]\n",
    "    print(df.shape, df.isna().sum().sum())"
   ]
  },
  {
   "cell_type": "markdown",
   "metadata": {},
   "source": [
    "## Анализ данных"
   ]
  },
  {
   "cell_type": "markdown",
   "metadata": {},
   "source": [
    "### Смотрим, как меняется концентрация металлов на различных этапах очистки"
   ]
  },
  {
   "cell_type": "markdown",
   "metadata": {},
   "source": [
    "Для каждого металла построим зависимость его средней по датасету `full` концентрации от стадии."
   ]
  },
  {
   "cell_type": "code",
   "execution_count": 20,
   "metadata": {},
   "outputs": [
    {
     "data": {
      "image/png": "[encoded data removed]",
      "text/plain": [
       "<Figure size 432x288 with 1 Axes>"
      ]
     },
     "metadata": {},
     "output_type": "display_data"
    }
   ],
   "source": [
    "# Calculate mean\n",
    "avg_conc = pd.DataFrame(\n",
    "    full[[\n",
    "        'rougher.input.feed_au',\n",
    "        'rougher.input.feed_ag',\n",
    "        'rougher.input.feed_pb',\n",
    "        'rougher.output.concentrate_au',\n",
    "        'rougher.output.concentrate_ag',\n",
    "        'rougher.output.concentrate_pb',\n",
    "        'primary_cleaner.output.concentrate_au',\n",
    "        'primary_cleaner.output.concentrate_ag',\n",
    "        'primary_cleaner.output.concentrate_pb',\n",
    "        'final.output.concentrate_au',\n",
    "        'final.output.concentrate_ag',\n",
    "        'final.output.concentrate_pb',\n",
    "    ]].mean().T,\n",
    "    columns=['concentration'],\n",
    ").reset_index()\n",
    "\n",
    "# Split feature name to stage and metal\n",
    "avg_conc['stage'] = (avg_conc['index'].str.slice(stop=-3)\n",
    "                     .str.replace('(\\.[^.]*)$', '', regex=True))\n",
    "avg_conc['metal'] = avg_conc['index'].str.slice(start=-2)\n",
    "\n",
    "# Pivot metal to columns and plot result\n",
    "(\n",
    "    avg_conc.pivot('stage', 'metal', 'concentration')\n",
    "    .iloc[[2, 3, 1, 0]]\n",
    "    .plot(title='Average Metal Concentration by Stage')\n",
    ");"
   ]
  },
  {
   "cell_type": "markdown",
   "metadata": {},
   "source": [
    "Концентрация золота стремительно растет с каждой стадией, что ожидаемо. Концентрация сопутствующего серебра растет после флотации, но потом падает при очистке. Концентрация примесного свинца растет с каждой стадией, но гораздо медленнее, чем у золота."
   ]
  },
  {
   "cell_type": "markdown",
   "metadata": {},
   "source": [
    "### Сравниваем распределения размеров гранул сырья на обучающей и тестовой выборках"
   ]
  },
  {
   "cell_type": "code",
   "execution_count": 21,
   "metadata": {},
   "outputs": [
    {
     "data": {
      "image/png": "[encoded data removed]",
      "text/plain": [
       "<Figure size 864x360 with 1 Axes>"
      ]
     },
     "metadata": {},
     "output_type": "display_data"
    }
   ],
   "source": [
    "plt.figure(figsize=(12, 5));\n",
    "for df in [train, test]:\n",
    "    df['rougher.input.feed_size'].hist(\n",
    "        bins=50, range=(30, 110), density=True, edgecolor='k', alpha=.5);\n",
    "plt.legend(['train', 'test']);\n",
    "plt.suptitle('Value Density of rougher.input.feed_size', fontsize='x-large');"
   ]
  },
  {
   "cell_type": "markdown",
   "metadata": {},
   "source": [
    "Распределения заметно отличаются в диапазоне 40–55: в обучающей выборке преобладают объекты со значением 45–55, а в тестовой – со значением 40–45. Несмотря на заметное отличие распределений, будем надеяться, что в обучающей выборке все же достаточно объектов с размером гранул сырья 40–45, чтобы обученная модель могла хорошо предсказывать для них таргеты."
   ]
  },
  {
   "cell_type": "markdown",
   "metadata": {},
   "source": [
    "### Исследуем суммарную концентрацию всех веществ на разных стадиях"
   ]
  },
  {
   "cell_type": "markdown",
   "metadata": {},
   "source": [
    "Рассчитаем суммарную концентрацию твердых веществ на каждой стадии и посмотрим, как ее среднее по датасету `full` меняется от стадии к стадии."
   ]
  },
  {
   "cell_type": "code",
   "execution_count": 22,
   "metadata": {},
   "outputs": [
    {
     "data": {
      "image/png": "[encoded data removed]",
      "text/plain": [
       "<Figure size 432x288 with 1 Axes>"
      ]
     },
     "metadata": {},
     "output_type": "display_data"
    }
   ],
   "source": [
    "# Calculate total concentration\n",
    "full['rougher.input.feed_total'] = (\n",
    "      full['rougher.input.feed_au']\n",
    "    + full['rougher.input.feed_ag']\n",
    "    + full['rougher.input.feed_pb']\n",
    "    + full['rougher.input.feed_sol']\n",
    ")\n",
    "full['rougher.output.concentrate_total'] = (\n",
    "      full['rougher.output.concentrate_au']\n",
    "    + full['rougher.output.concentrate_ag']\n",
    "    + full['rougher.output.concentrate_pb']\n",
    "    + full['rougher.output.concentrate_sol']\n",
    ")\n",
    "full['primary_cleaner.output.concentrate_total'] = (\n",
    "      full['primary_cleaner.output.concentrate_au']\n",
    "    + full['primary_cleaner.output.concentrate_ag']\n",
    "    + full['primary_cleaner.output.concentrate_pb']\n",
    "    + full['primary_cleaner.output.concentrate_sol']\n",
    ")\n",
    "full['final.output.concentrate_total'] = (\n",
    "      full['final.output.concentrate_au']\n",
    "    + full['final.output.concentrate_ag']\n",
    "    + full['final.output.concentrate_pb']\n",
    "    + full['final.output.concentrate_sol']\n",
    ")\n",
    "total_conc_columns = [\n",
    "    'rougher.input.feed_total',\n",
    "    'rougher.output.concentrate_total',\n",
    "    'primary_cleaner.output.concentrate_total',\n",
    "    'final.output.concentrate_total',\n",
    "]\n",
    "\n",
    "# Calculate mean\n",
    "avg_conc_total = full[total_conc_columns].mean().T\n",
    "\n",
    "# Leave only the stage in index and plot result\n",
    "avg_conc_total.index = avg_conc_total.index.str.replace('(\\.[^.]*)$', '', \n",
    "                                                        regex=True)\n",
    "avg_conc_total.plot(title='Average Total Concentration by Stage', \n",
    "                    ylim=(0, 100));"
   ]
  },
  {
   "cell_type": "markdown",
   "metadata": {},
   "source": [
    "Средняя суммарная концентрация колеблется в диапазоне 60–70 в зависимости от стадии процесса."
   ]
  },
  {
   "cell_type": "markdown",
   "metadata": {},
   "source": [
    "Посмотрим на распределение значений суммарной концентрации на разных стадиях."
   ]
  },
  {
   "cell_type": "code",
   "execution_count": 23,
   "metadata": {},
   "outputs": [
    {
     "data": {
      "image/png": "[encoded data removed]",
      "text/plain": [
       "<Figure size 864x576 with 4 Axes>"
      ]
     },
     "metadata": {},
     "output_type": "display_data"
    }
   ],
   "source": [
    "full[total_conc_columns].hist(\n",
    "    bins=80, edgecolor='k', figsize=(12, 8), log=True);\n",
    "plt.suptitle('Total Concentration Histograms by Stage', fontsize='x-large');"
   ]
  },
  {
   "cell_type": "markdown",
   "metadata": {},
   "source": [
    "На всех стадиях наблюдаются аномальные выбросы близкие или равные нулю. Возможно, это сбои/особенности измерительной аппаратуры. Удалим аномалии из всех датасетов."
   ]
  },
  {
   "cell_type": "code",
   "execution_count": 24,
   "metadata": {},
   "outputs": [],
   "source": [
    "total_conc_outliers = full[\n",
    "      (full[total_conc_columns[0]] < 1)\n",
    "    | (full[total_conc_columns[1]] < 1)\n",
    "    | (full[total_conc_columns[2]] < 1)\n",
    "    | (full[total_conc_columns[3]] < 1)\n",
    "].index"
   ]
  },
  {
   "cell_type": "code",
   "execution_count": 25,
   "metadata": {},
   "outputs": [
    {
     "name": "stdout",
     "output_type": "stream",
     "text": [
      "(18722, 90)\n",
      "(13599, 86)\n",
      "(5123, 52)\n"
     ]
    }
   ],
   "source": [
    "for df in [full, train, test]:\n",
    "    df.drop(index=total_conc_outliers, errors='ignore', inplace=True)\n",
    "    print(df.shape)"
   ]
  },
  {
   "cell_type": "markdown",
   "metadata": {},
   "source": [
    "## Модель"
   ]
  },
  {
   "cell_type": "markdown",
   "metadata": {},
   "source": [
    "### Напишем функцию для вычисления итоговой sMAPE"
   ]
  },
  {
   "cell_type": "code",
   "execution_count": 26,
   "metadata": {},
   "outputs": [],
   "source": [
    "def smape(y_true, y_pred):\n",
    "    '''Calculates total sMAPE for double-output y_true and y_pred'''\n",
    "    \n",
    "    # Transform arguments to dataframes with the same axes labels\n",
    "    if isinstance(y_true, pd.DataFrame):\n",
    "        y_true = pd.DataFrame(y_true.values)\n",
    "    else:\n",
    "        y_true = pd.DataFrame(y_true)\n",
    "    \n",
    "    if isinstance(y_pred, pd.DataFrame):\n",
    "        y_pred = pd.DataFrame(y_pred.values)\n",
    "    else:\n",
    "        y_pred = pd.DataFrame(y_pred)\n",
    "    \n",
    "    smape = 200 * ((y_true-y_pred).abs() / (y_true.abs()+y_pred.abs())).mean()\n",
    "    \n",
    "    return .25*smape[0] + .75*smape[1]"
   ]
  },
  {
   "cell_type": "markdown",
   "metadata": {},
   "source": [
    "### Обучим разные модели и оценим их качество кросс-валидацией"
   ]
  },
  {
   "cell_type": "markdown",
   "metadata": {},
   "source": [
    "Для тестирования моделей на датасете `test` понадобятся целевые признаки. Восстановим таргеты в `test` из `full` по индексу `date`."
   ]
  },
  {
   "cell_type": "code",
   "execution_count": 27,
   "metadata": {},
   "outputs": [
    {
     "data": {
      "text/plain": [
       "(5123, 54)"
      ]
     },
     "execution_count": 27,
     "metadata": {},
     "output_type": "execute_result"
    }
   ],
   "source": [
    "targets = ['rougher.output.recovery', 'final.output.recovery']\n",
    "test = test.join(full[targets])\n",
    "test.shape"
   ]
  },
  {
   "cell_type": "markdown",
   "metadata": {},
   "source": [
    "Отделим целевые признаки от остальных в обучающей и тестовой выборках."
   ]
  },
  {
   "cell_type": "code",
   "execution_count": 28,
   "metadata": {},
   "outputs": [],
   "source": [
    "X_train = train[test.columns].drop(columns=targets)\n",
    "y_train = train[targets]\n",
    "X_test = test.drop(columns=targets)\n",
    "y_test = test[targets]"
   ]
  },
  {
   "cell_type": "markdown",
   "metadata": {},
   "source": [
    "Протестируем дамми-модель, которая возвращает медианные значения целевых признаков на обучающей выборке."
   ]
  },
  {
   "cell_type": "code",
   "execution_count": 29,
   "metadata": {
    "scrolled": true
   },
   "outputs": [
    {
     "name": "stdout",
     "output_type": "stream",
     "text": [
      "Dummy model train error: 9.339089690445535\n",
      "Dummy model test error: 7.37853550487379\n"
     ]
    }
   ],
   "source": [
    "dummy = DummyRegressor(strategy='median').fit(X_train, y_train)\n",
    "print('Dummy model train error:', smape(y_train, dummy.predict(X_train)))\n",
    "print('Dummy model test error:', smape(y_test, dummy.predict(X_test)))"
   ]
  },
  {
   "cell_type": "markdown",
   "metadata": {},
   "source": [
    "Будем тестировать несколько линейных моделей регрессии. Оптимизировать гиперпараметры будем с помощью библиотеки `optuna`. Напишем целевую функцию оптимизации `objective`."
   ]
  },
  {
   "cell_type": "code",
   "execution_count": 30,
   "metadata": {},
   "outputs": [],
   "source": [
    "pipe = Pipeline([('scaler', StandardScaler()), ('estimator', None)])"
   ]
  },
  {
   "cell_type": "code",
   "execution_count": 31,
   "metadata": {},
   "outputs": [],
   "source": [
    "def objective(trial):\n",
    "    '''Objective function for optuna optimization'''\n",
    "    \n",
    "    estimator_name = trial.suggest_categorical('estimator', \n",
    "        ['LinearRegression', 'Ridge', 'SGDRegressor', 'ElasticNet', 'Lars'])\n",
    "    \n",
    "    if estimator_name == 'LinearRegression':\n",
    "        estimator = LinearRegression()\n",
    "    elif estimator_name == 'Ridge':\n",
    "        estimator = Ridge(\n",
    "            alpha=trial.suggest_float('ridge_alpha', 1e-1, 1e1, log=True),\n",
    "            solver=trial.suggest_categorical('ridge_solver', \n",
    "                ['svd', 'cholesky', 'lsqr', 'sparse_cg', 'sag', 'saga']),\n",
    "            max_iter=10000,\n",
    "            random_state=RS)\n",
    "    elif estimator_name == 'SGDRegressor':\n",
    "        estimator = SGDRegressor(\n",
    "            penalty=trial.suggest_categorical('sgd_penalty', \n",
    "                                              ['l1', 'l2', 'elasticnet']),\n",
    "            alpha=trial.suggest_float('sgd_alpha', 1e-5, 1e-3, log=True),\n",
    "            l1_ratio=trial.suggest_float('sgd_l1_ratio', 0, 1),\n",
    "            eta0=trial.suggest_float('sgd_eta0', 1e-3, 1e-1, log=True),\n",
    "            max_iter=10000,\n",
    "            random_state=RS)\n",
    "    elif estimator_name == 'ElasticNet':\n",
    "        estimator = ElasticNet(\n",
    "            alpha=trial.suggest_float('enet_alpha', 1e-1, 1e1, log=True),\n",
    "            l1_ratio=trial.suggest_float('enet_l1_ratio', 0, 1),\n",
    "            selection=trial.suggest_categorical('enet_selection', \n",
    "                                                ['cyclic', 'random']),\n",
    "            max_iter=10000,\n",
    "            random_state=RS)\n",
    "    elif estimator_name == 'Lars':\n",
    "        estimator = Lars(\n",
    "            n_nonzero_coefs=trial.suggest_int('lars_nz_coefs', \n",
    "                                              1, X_train.shape[1], log=True),\n",
    "            jitter=trial.suggest_float('lars_jitter', 1e-2, 1e-1, log=True),\n",
    "            random_state=RS)\n",
    "    \n",
    "    pipe.set_params(estimator=MultiOutputRegressor(estimator))\n",
    "    return cross_val_score(\n",
    "        pipe, \n",
    "        X_train, \n",
    "        y_train, \n",
    "        scoring=make_scorer(smape),\n",
    "        cv=CV,\n",
    "    ).mean()"
   ]
  },
  {
   "cell_type": "markdown",
   "metadata": {},
   "source": [
    "Найдем оптимальные гиперпараметры с помощью `optuna`."
   ]
  },
  {
   "cell_type": "code",
   "execution_count": 32,
   "metadata": {
    "scrolled": true
   },
   "outputs": [
    {
     "name": "stderr",
     "output_type": "stream",
     "text": [
      "\u001b[32m[I 2022-05-19 22:43:05,145]\u001b[0m A new study created in memory with name: Linear Models\u001b[0m\n",
      "\u001b[32m[I 2022-05-19 22:43:06,032]\u001b[0m Trial 0 finished with value: 12.569175338569877 and parameters: {'estimator': 'SGDRegressor', 'sgd_penalty': 'elasticnet', 'sgd_alpha': 0.00048792699110775665, 'sgd_l1_ratio': 0.013064681077671891, 'sgd_eta0': 0.017249784772286236}. Best is trial 0 with value: 12.569175338569877.\u001b[0m\n",
      "\u001b[32m[I 2022-05-19 22:43:07,184]\u001b[0m Trial 1 finished with value: 11.772463483086524 and parameters: {'estimator': 'SGDRegressor', 'sgd_penalty': 'l2', 'sgd_alpha': 1.8106100016617993e-05, 'sgd_l1_ratio': 0.07287348849688957, 'sgd_eta0': 0.0028202772887348285}. Best is trial 1 with value: 11.772463483086524.\u001b[0m\n",
      "\u001b[32m[I 2022-05-19 22:43:08,880]\u001b[0m Trial 2 finished with value: 9.688276477359487 and parameters: {'estimator': 'ElasticNet', 'enet_alpha': 0.2427778677162324, 'enet_l1_ratio': 0.6385668130321877, 'enet_selection': 'random'}. Best is trial 2 with value: 9.688276477359487.\u001b[0m\n",
      "\u001b[32m[I 2022-05-19 22:43:10,375]\u001b[0m Trial 3 finished with value: 12.260926043044073 and parameters: {'estimator': 'Ridge', 'ridge_alpha': 3.487382181142772, 'ridge_solver': 'lsqr'}. Best is trial 2 with value: 9.688276477359487.\u001b[0m\n",
      "\u001b[32m[I 2022-05-19 22:43:12,684]\u001b[0m Trial 4 finished with value: 12.196906848715832 and parameters: {'estimator': 'Ridge', 'ridge_alpha': 5.236374743645449, 'ridge_solver': 'lsqr'}. Best is trial 2 with value: 9.688276477359487.\u001b[0m\n",
      "\u001b[32m[I 2022-05-19 22:43:13,870]\u001b[0m Trial 5 finished with value: 9.458404027979432 and parameters: {'estimator': 'ElasticNet', 'enet_alpha': 1.0953656993385066, 'enet_l1_ratio': 0.2713678945995672, 'enet_selection': 'cyclic'}. Best is trial 5 with value: 9.458404027979432.\u001b[0m\n",
      "\u001b[32m[I 2022-05-19 22:43:15,577]\u001b[0m Trial 6 finished with value: 9.638078666535113 and parameters: {'estimator': 'ElasticNet', 'enet_alpha': 1.073527490779858, 'enet_l1_ratio': 0.06636839434992037, 'enet_selection': 'random'}. Best is trial 5 with value: 9.458404027979432.\u001b[0m\n",
      "\u001b[32m[I 2022-05-19 22:43:19,322]\u001b[0m Trial 7 finished with value: 12.67229703424625 and parameters: {'estimator': 'Ridge', 'ridge_alpha': 1.9355249262301137, 'ridge_solver': 'saga'}. Best is trial 5 with value: 9.458404027979432.\u001b[0m\n",
      "\u001b[32m[I 2022-05-19 22:43:21,081]\u001b[0m Trial 8 finished with value: 9.311542948596832 and parameters: {'estimator': 'ElasticNet', 'enet_alpha': 0.8010763207465921, 'enet_l1_ratio': 0.5853812874724292, 'enet_selection': 'random'}. Best is trial 8 with value: 9.311542948596832.\u001b[0m\n",
      "\u001b[32m[I 2022-05-19 22:43:22,268]\u001b[0m Trial 9 finished with value: 11.72102405267548 and parameters: {'estimator': 'SGDRegressor', 'sgd_penalty': 'l2', 'sgd_alpha': 0.0003241288600833927, 'sgd_l1_ratio': 0.12971794841155126, 'sgd_eta0': 0.0026162304942567707}. Best is trial 8 with value: 9.311542948596832.\u001b[0m\n",
      "\u001b[32m[I 2022-05-19 22:43:25,180]\u001b[0m Trial 10 finished with value: 12.801686422322263 and parameters: {'estimator': 'LinearRegression'}. Best is trial 8 with value: 9.311542948596832.\u001b[0m\n",
      "\u001b[32m[I 2022-05-19 22:43:25,978]\u001b[0m Trial 11 finished with value: 10.152372645917845 and parameters: {'estimator': 'Lars', 'lars_nz_coefs': 1, 'lars_jitter': 0.011641409754447241}. Best is trial 8 with value: 9.311542948596832.\u001b[0m\n",
      "\u001b[32m[I 2022-05-19 22:43:27,382]\u001b[0m Trial 12 finished with value: 9.45750676367568 and parameters: {'estimator': 'ElasticNet', 'enet_alpha': 2.8840455088268566, 'enet_l1_ratio': 0.340402325396016, 'enet_selection': 'cyclic'}. Best is trial 8 with value: 9.311542948596832.\u001b[0m\n",
      "\u001b[32m[I 2022-05-19 22:43:28,380]\u001b[0m Trial 13 finished with value: 10.241342536951494 and parameters: {'estimator': 'ElasticNet', 'enet_alpha': 8.334242408340439, 'enet_l1_ratio': 0.9936754042265524, 'enet_selection': 'cyclic'}. Best is trial 8 with value: 9.311542948596832.\u001b[0m\n",
      "\u001b[32m[I 2022-05-19 22:43:29,779]\u001b[0m Trial 14 finished with value: 10.041179668097708 and parameters: {'estimator': 'ElasticNet', 'enet_alpha': 4.642072985197343, 'enet_l1_ratio': 0.5395456179549069, 'enet_selection': 'random'}. Best is trial 8 with value: 9.311542948596832.\u001b[0m\n",
      "\u001b[32m[I 2022-05-19 22:43:30,882]\u001b[0m Trial 15 finished with value: 17.01225513242736 and parameters: {'estimator': 'Lars', 'lars_nz_coefs': 40, 'lars_jitter': 0.0909372858601182}. Best is trial 8 with value: 9.311542948596832.\u001b[0m\n",
      "\u001b[32m[I 2022-05-19 22:43:34,392]\u001b[0m Trial 16 finished with value: 12.801686422322263 and parameters: {'estimator': 'LinearRegression'}. Best is trial 8 with value: 9.311542948596832.\u001b[0m\n",
      "\u001b[32m[I 2022-05-19 22:43:35,870]\u001b[0m Trial 17 finished with value: 9.361994751503348 and parameters: {'estimator': 'ElasticNet', 'enet_alpha': 2.273983845731248, 'enet_l1_ratio': 0.36076641797659526, 'enet_selection': 'cyclic'}. Best is trial 8 with value: 9.311542948596832.\u001b[0m\n",
      "\u001b[32m[I 2022-05-19 22:43:37,785]\u001b[0m Trial 18 finished with value: 9.664459713785345 and parameters: {'estimator': 'ElasticNet', 'enet_alpha': 0.2798286602246169, 'enet_l1_ratio': 0.6906258354340116, 'enet_selection': 'cyclic'}. Best is trial 8 with value: 9.311542948596832.\u001b[0m\n",
      "\u001b[32m[I 2022-05-19 22:43:39,667]\u001b[0m Trial 19 finished with value: 9.525241686851443 and parameters: {'estimator': 'ElasticNet', 'enet_alpha': 0.6153519738992956, 'enet_l1_ratio': 0.38613478509380045, 'enet_selection': 'random'}. Best is trial 8 with value: 9.311542948596832.\u001b[0m\n",
      "\u001b[32m[I 2022-05-19 22:43:40,486]\u001b[0m Trial 20 finished with value: 9.515562604954788 and parameters: {'estimator': 'Lars', 'lars_nz_coefs': 15, 'lars_jitter': 0.039385322234691704}. Best is trial 8 with value: 9.311542948596832.\u001b[0m\n",
      "\u001b[32m[I 2022-05-19 22:43:41,576]\u001b[0m Trial 21 finished with value: 9.426331238724579 and parameters: {'estimator': 'ElasticNet', 'enet_alpha': 2.8272258847631813, 'enet_l1_ratio': 0.28892515536736685, 'enet_selection': 'cyclic'}. Best is trial 8 with value: 9.311542948596832.\u001b[0m\n",
      "\u001b[32m[I 2022-05-19 22:43:42,972]\u001b[0m Trial 22 finished with value: 9.467506024248356 and parameters: {'estimator': 'ElasticNet', 'enet_alpha': 1.943153404837709, 'enet_l1_ratio': 0.1454473255111879, 'enet_selection': 'cyclic'}. Best is trial 8 with value: 9.311542948596832.\u001b[0m\n",
      "\u001b[32m[I 2022-05-19 22:43:43,977]\u001b[0m Trial 23 finished with value: 9.404734936298501 and parameters: {'estimator': 'ElasticNet', 'enet_alpha': 2.203076282737638, 'enet_l1_ratio': 0.472223704497926, 'enet_selection': 'cyclic'}. Best is trial 8 with value: 9.311542948596832.\u001b[0m\n",
      "\u001b[32m[I 2022-05-19 22:43:46,088]\u001b[0m Trial 24 finished with value: 12.801686422322263 and parameters: {'estimator': 'LinearRegression'}. Best is trial 8 with value: 9.311542948596832.\u001b[0m\n",
      "\u001b[32m[I 2022-05-19 22:43:47,979]\u001b[0m Trial 25 finished with value: 9.482099561375861 and parameters: {'estimator': 'ElasticNet', 'enet_alpha': 0.5474182454554372, 'enet_l1_ratio': 0.5094543827246476, 'enet_selection': 'cyclic'}. Best is trial 8 with value: 9.311542948596832.\u001b[0m\n",
      "\u001b[32m[I 2022-05-19 22:43:49,573]\u001b[0m Trial 26 finished with value: 9.479576724247933 and parameters: {'estimator': 'ElasticNet', 'enet_alpha': 1.668778690100425, 'enet_l1_ratio': 0.7364126566322948, 'enet_selection': 'random'}. Best is trial 8 with value: 9.311542948596832.\u001b[0m\n",
      "\u001b[32m[I 2022-05-19 22:43:51,364]\u001b[0m Trial 27 finished with value: 9.494577133235223 and parameters: {'estimator': 'ElasticNet', 'enet_alpha': 0.5796029019456358, 'enet_l1_ratio': 0.46220592874776595, 'enet_selection': 'cyclic'}. Best is trial 8 with value: 9.311542948596832.\u001b[0m\n",
      "\u001b[32m[I 2022-05-19 22:43:52,764]\u001b[0m Trial 28 finished with value: 10.094597179587455 and parameters: {'estimator': 'ElasticNet', 'enet_alpha': 4.482150228903257, 'enet_l1_ratio': 0.6030020599620711, 'enet_selection': 'random'}. Best is trial 8 with value: 9.311542948596832.\u001b[0m\n",
      "\u001b[32m[I 2022-05-19 22:43:54,294]\u001b[0m Trial 29 finished with value: 12.941159639645809 and parameters: {'estimator': 'SGDRegressor', 'sgd_penalty': 'l1', 'sgd_alpha': 1.2475133025250735e-05, 'sgd_l1_ratio': 0.9869650329591162, 'sgd_eta0': 0.08863835959176776}. Best is trial 8 with value: 9.311542948596832.\u001b[0m\n",
      "\u001b[32m[I 2022-05-19 22:43:57,079]\u001b[0m Trial 30 finished with value: 12.801686422322263 and parameters: {'estimator': 'LinearRegression'}. Best is trial 8 with value: 9.311542948596832.\u001b[0m\n",
      "\u001b[32m[I 2022-05-19 22:43:58,284]\u001b[0m Trial 31 finished with value: 9.384044869433101 and parameters: {'estimator': 'ElasticNet', 'enet_alpha': 2.0101958404955798, 'enet_l1_ratio': 0.2191809621662617, 'enet_selection': 'cyclic'}. Best is trial 8 with value: 9.311542948596832.\u001b[0m\n",
      "\u001b[32m[I 2022-05-19 22:43:59,978]\u001b[0m Trial 32 finished with value: 9.424999531938228 and parameters: {'estimator': 'ElasticNet', 'enet_alpha': 1.7965454295078658, 'enet_l1_ratio': 0.19075826271494428, 'enet_selection': 'cyclic'}. Best is trial 8 with value: 9.311542948596832.\u001b[0m\n",
      "\u001b[32m[I 2022-05-19 22:44:01,685]\u001b[0m Trial 33 finished with value: 12.999873327040142 and parameters: {'estimator': 'SGDRegressor', 'sgd_penalty': 'elasticnet', 'sgd_alpha': 7.686789229608018e-05, 'sgd_l1_ratio': 0.756374287758262, 'sgd_eta0': 0.09902609316779637}. Best is trial 8 with value: 9.311542948596832.\u001b[0m\n",
      "\u001b[32m[I 2022-05-19 22:44:03,274]\u001b[0m Trial 34 finished with value: 9.53542201766774 and parameters: {'estimator': 'ElasticNet', 'enet_alpha': 3.0855967209673203, 'enet_l1_ratio': 0.390352253646043, 'enet_selection': 'cyclic'}. Best is trial 8 with value: 9.311542948596832.\u001b[0m\n",
      "\u001b[32m[I 2022-05-19 22:44:08,577]\u001b[0m Trial 35 finished with value: 12.795734092074413 and parameters: {'estimator': 'Ridge', 'ridge_alpha': 0.12077379013904481, 'ridge_solver': 'svd'}. Best is trial 8 with value: 9.311542948596832.\u001b[0m\n",
      "\u001b[32m[I 2022-05-19 22:44:09,873]\u001b[0m Trial 36 finished with value: 9.358502390344105 and parameters: {'estimator': 'ElasticNet', 'enet_alpha': 1.177476396674222, 'enet_l1_ratio': 0.804041288057652, 'enet_selection': 'cyclic'}. Best is trial 8 with value: 9.311542948596832.\u001b[0m\n",
      "\u001b[32m[I 2022-05-19 22:44:12,068]\u001b[0m Trial 37 finished with value: 10.090303819694304 and parameters: {'estimator': 'ElasticNet', 'enet_alpha': 0.10436196562433965, 'enet_l1_ratio': 0.8335111526897976, 'enet_selection': 'cyclic'}. Best is trial 8 with value: 9.311542948596832.\u001b[0m\n",
      "\u001b[32m[I 2022-05-19 22:44:15,785]\u001b[0m Trial 38 finished with value: 12.739691265948531 and parameters: {'estimator': 'Ridge', 'ridge_alpha': 0.31022314174306204, 'ridge_solver': 'sparse_cg'}. Best is trial 8 with value: 9.311542948596832.\u001b[0m\n",
      "\u001b[32m[I 2022-05-19 22:44:17,483]\u001b[0m Trial 39 finished with value: 9.284222683998047 and parameters: {'estimator': 'ElasticNet', 'enet_alpha': 0.8864776641949573, 'enet_l1_ratio': 0.8139185661338455, 'enet_selection': 'random'}. Best is trial 39 with value: 9.284222683998047.\u001b[0m\n",
      "\u001b[32m[I 2022-05-19 22:44:18,519]\u001b[0m Trial 40 finished with value: 11.879318066187986 and parameters: {'estimator': 'SGDRegressor', 'sgd_penalty': 'l1', 'sgd_alpha': 8.964286563619443e-05, 'sgd_l1_ratio': 0.45754291772287675, 'sgd_eta0': 0.013134606877064832}. Best is trial 39 with value: 9.284222683998047.\u001b[0m\n",
      "\u001b[32m[I 2022-05-19 22:44:19,873]\u001b[0m Trial 41 finished with value: 9.289788644375399 and parameters: {'estimator': 'ElasticNet', 'enet_alpha': 0.8908235670749565, 'enet_l1_ratio': 0.842002486090011, 'enet_selection': 'random'}. Best is trial 39 with value: 9.284222683998047.\u001b[0m\n",
      "\u001b[32m[I 2022-05-19 22:44:21,282]\u001b[0m Trial 42 finished with value: 9.291304101626354 and parameters: {'estimator': 'ElasticNet', 'enet_alpha': 0.7896996301855103, 'enet_l1_ratio': 0.8586717724002448, 'enet_selection': 'random'}. Best is trial 39 with value: 9.284222683998047.\u001b[0m\n",
      "\u001b[32m[I 2022-05-19 22:44:22,983]\u001b[0m Trial 43 finished with value: 9.297339250915545 and parameters: {'estimator': 'ElasticNet', 'enet_alpha': 0.735226986996815, 'enet_l1_ratio': 0.8601362361929129, 'enet_selection': 'random'}. Best is trial 39 with value: 9.284222683998047.\u001b[0m\n",
      "\u001b[32m[I 2022-05-19 22:44:23,884]\u001b[0m Trial 44 finished with value: 10.152406035675549 and parameters: {'estimator': 'Lars', 'lars_nz_coefs': 1, 'lars_jitter': 0.01045660125600864}. Best is trial 39 with value: 9.284222683998047.\u001b[0m\n",
      "\u001b[32m[I 2022-05-19 22:44:25,878]\u001b[0m Trial 45 finished with value: 9.30860038771137 and parameters: {'estimator': 'ElasticNet', 'enet_alpha': 0.6891158589767947, 'enet_l1_ratio': 0.9282761830818009, 'enet_selection': 'random'}. Best is trial 39 with value: 9.284222683998047.\u001b[0m\n",
      "\u001b[32m[I 2022-05-19 22:44:27,489]\u001b[0m Trial 46 finished with value: 9.505531989171539 and parameters: {'estimator': 'ElasticNet', 'enet_alpha': 0.4002586743602175, 'enet_l1_ratio': 0.9484349734957754, 'enet_selection': 'random'}. Best is trial 39 with value: 9.284222683998047.\u001b[0m\n",
      "\u001b[32m[I 2022-05-19 22:44:30,020]\u001b[0m Trial 47 finished with value: 12.752531767096988 and parameters: {'estimator': 'Ridge', 'ridge_alpha': 0.6026489770876302, 'ridge_solver': 'sag'}. Best is trial 39 with value: 9.284222683998047.\u001b[0m\n",
      "\u001b[32m[I 2022-05-19 22:44:31,776]\u001b[0m Trial 48 finished with value: 9.327380706783662 and parameters: {'estimator': 'ElasticNet', 'enet_alpha': 0.9302450658754917, 'enet_l1_ratio': 0.890754931628772, 'enet_selection': 'random'}. Best is trial 39 with value: 9.284222683998047.\u001b[0m\n",
      "\u001b[32m[I 2022-05-19 22:44:33,593]\u001b[0m Trial 49 finished with value: 9.548627591875004 and parameters: {'estimator': 'ElasticNet', 'enet_alpha': 0.3737680223310861, 'enet_l1_ratio': 0.8725348135416463, 'enet_selection': 'random'}. Best is trial 39 with value: 9.284222683998047.\u001b[0m\n",
      "\u001b[32m[I 2022-05-19 22:44:34,872]\u001b[0m Trial 50 finished with value: 9.310329347963766 and parameters: {'estimator': 'ElasticNet', 'enet_alpha': 0.7298762097760428, 'enet_l1_ratio': 0.7782627928304139, 'enet_selection': 'random'}. Best is trial 39 with value: 9.284222683998047.\u001b[0m\n",
      "\u001b[32m[I 2022-05-19 22:44:36,268]\u001b[0m Trial 51 finished with value: 9.31155298752946 and parameters: {'estimator': 'ElasticNet', 'enet_alpha': 0.7422061525982888, 'enet_l1_ratio': 0.7512878891070185, 'enet_selection': 'random'}. Best is trial 39 with value: 9.284222683998047.\u001b[0m\n",
      "\u001b[32m[I 2022-05-19 22:44:37,785]\u001b[0m Trial 52 finished with value: 9.560219163392418 and parameters: {'estimator': 'ElasticNet', 'enet_alpha': 1.400814606287551, 'enet_l1_ratio': 0.9287888347734978, 'enet_selection': 'random'}. Best is trial 39 with value: 9.284222683998047.\u001b[0m\n",
      "\u001b[32m[I 2022-05-19 22:44:39,580]\u001b[0m Trial 53 finished with value: 9.474339776436848 and parameters: {'estimator': 'ElasticNet', 'enet_alpha': 0.4475447777280786, 'enet_l1_ratio': 0.7981635933259063, 'enet_selection': 'random'}. Best is trial 39 with value: 9.284222683998047.\u001b[0m\n",
      "\u001b[32m[I 2022-05-19 22:44:41,186]\u001b[0m Trial 54 finished with value: 9.294639703700748 and parameters: {'estimator': 'ElasticNet', 'enet_alpha': 0.7583079749834716, 'enet_l1_ratio': 0.8645140530545515, 'enet_selection': 'random'}. Best is trial 39 with value: 9.284222683998047.\u001b[0m\n",
      "\u001b[32m[I 2022-05-19 22:44:41,969]\u001b[0m Trial 55 finished with value: 9.70383946215166 and parameters: {'estimator': 'Lars', 'lars_nz_coefs': 4, 'lars_jitter': 0.02878607629367745}. Best is trial 39 with value: 9.284222683998047.\u001b[0m\n",
      "\u001b[32m[I 2022-05-19 22:44:44,470]\u001b[0m Trial 56 finished with value: 12.801686422322263 and parameters: {'estimator': 'LinearRegression'}. Best is trial 39 with value: 9.284222683998047.\u001b[0m\n",
      "\u001b[32m[I 2022-05-19 22:44:45,783]\u001b[0m Trial 57 finished with value: 9.35606192915804 and parameters: {'estimator': 'ElasticNet', 'enet_alpha': 1.0318311013351273, 'enet_l1_ratio': 0.8780897631573605, 'enet_selection': 'random'}. Best is trial 39 with value: 9.284222683998047.\u001b[0m\n",
      "\u001b[32m[I 2022-05-19 22:44:47,387]\u001b[0m Trial 58 finished with value: 9.359961681354289 and parameters: {'estimator': 'ElasticNet', 'enet_alpha': 0.8491239323076534, 'enet_l1_ratio': 0.9811710147619003, 'enet_selection': 'random'}. Best is trial 39 with value: 9.284222683998047.\u001b[0m\n",
      "\u001b[32m[I 2022-05-19 22:44:48,878]\u001b[0m Trial 59 finished with value: 9.317876130408276 and parameters: {'estimator': 'ElasticNet', 'enet_alpha': 1.296006712625001, 'enet_l1_ratio': 0.6881631956177175, 'enet_selection': 'random'}. Best is trial 39 with value: 9.284222683998047.\u001b[0m\n",
      "\u001b[32m[I 2022-05-19 22:44:51,401]\u001b[0m Trial 60 finished with value: 11.542052389318926 and parameters: {'estimator': 'SGDRegressor', 'sgd_penalty': 'elasticnet', 'sgd_alpha': 3.6821920333753575e-05, 'sgd_l1_ratio': 0.3766491315916226, 'sgd_eta0': 0.0011256305690355841}. Best is trial 39 with value: 9.284222683998047.\u001b[0m\n",
      "\u001b[32m[I 2022-05-19 22:44:53,068]\u001b[0m Trial 61 finished with value: 9.28964403472198 and parameters: {'estimator': 'ElasticNet', 'enet_alpha': 0.8018882453084258, 'enet_l1_ratio': 0.8369288408577069, 'enet_selection': 'random'}. Best is trial 39 with value: 9.284222683998047.\u001b[0m\n",
      "\u001b[32m[I 2022-05-19 22:44:54,674]\u001b[0m Trial 62 finished with value: 9.310683945875626 and parameters: {'estimator': 'ElasticNet', 'enet_alpha': 0.691400141754221, 'enet_l1_ratio': 0.8590755092873993, 'enet_selection': 'random'}. Best is trial 39 with value: 9.284222683998047.\u001b[0m\n",
      "\u001b[32m[I 2022-05-19 22:44:56,294]\u001b[0m Trial 63 finished with value: 9.413324129251722 and parameters: {'estimator': 'ElasticNet', 'enet_alpha': 0.4839545057328445, 'enet_l1_ratio': 0.9287183953665537, 'enet_selection': 'random'}. Best is trial 39 with value: 9.284222683998047.\u001b[0m\n",
      "\u001b[32m[I 2022-05-19 22:44:58,278]\u001b[0m Trial 64 finished with value: 9.287817082453108 and parameters: {'estimator': 'ElasticNet', 'enet_alpha': 0.9067074270018193, 'enet_l1_ratio': 0.827600803644268, 'enet_selection': 'random'}. Best is trial 39 with value: 9.284222683998047.\u001b[0m\n",
      "\u001b[32m[I 2022-05-19 22:45:00,074]\u001b[0m Trial 65 finished with value: 9.296447013460257 and parameters: {'estimator': 'ElasticNet', 'enet_alpha': 0.9314560710048676, 'enet_l1_ratio': 0.8320013460292826, 'enet_selection': 'random'}. Best is trial 39 with value: 9.284222683998047.\u001b[0m\n",
      "\u001b[32m[I 2022-05-19 22:45:01,664]\u001b[0m Trial 66 finished with value: 9.276598662550308 and parameters: {'estimator': 'ElasticNet', 'enet_alpha': 1.0010204414314405, 'enet_l1_ratio': 0.6941530808368427, 'enet_selection': 'random'}. Best is trial 66 with value: 9.276598662550308.\u001b[0m\n",
      "\u001b[32m[I 2022-05-19 22:45:03,176]\u001b[0m Trial 67 finished with value: 9.341384326300805 and parameters: {'estimator': 'ElasticNet', 'enet_alpha': 1.3775343709735104, 'enet_l1_ratio': 0.6920198157066858, 'enet_selection': 'random'}. Best is trial 66 with value: 9.276598662550308.\u001b[0m\n",
      "\u001b[32m[I 2022-05-19 22:45:05,580]\u001b[0m Trial 68 finished with value: 12.801686422322263 and parameters: {'estimator': 'LinearRegression'}. Best is trial 66 with value: 9.276598662550308.\u001b[0m\n",
      "\u001b[32m[I 2022-05-19 22:45:06,580]\u001b[0m Trial 69 finished with value: 9.691601531619037 and parameters: {'estimator': 'Lars', 'lars_nz_coefs': 5, 'lars_jitter': 0.0988549139734181}. Best is trial 66 with value: 9.276598662550308.\u001b[0m\n",
      "\u001b[32m[I 2022-05-19 22:45:08,177]\u001b[0m Trial 70 finished with value: 9.291234347988915 and parameters: {'estimator': 'ElasticNet', 'enet_alpha': 1.0468891367730735, 'enet_l1_ratio': 0.7539411502262507, 'enet_selection': 'random'}. Best is trial 66 with value: 9.276598662550308.\u001b[0m\n",
      "\u001b[32m[I 2022-05-19 22:45:09,885]\u001b[0m Trial 71 finished with value: 9.295731964415234 and parameters: {'estimator': 'ElasticNet', 'enet_alpha': 1.1007552259678286, 'enet_l1_ratio': 0.73567972882091, 'enet_selection': 'random'}. Best is trial 66 with value: 9.276598662550308.\u001b[0m\n",
      "\u001b[32m[I 2022-05-19 22:45:11,679]\u001b[0m Trial 72 finished with value: 9.282549224935618 and parameters: {'estimator': 'ElasticNet', 'enet_alpha': 0.9161934597120986, 'enet_l1_ratio': 0.7914676853817244, 'enet_selection': 'random'}. Best is trial 66 with value: 9.276598662550308.\u001b[0m\n",
      "\u001b[32m[I 2022-05-19 22:45:13,183]\u001b[0m Trial 73 finished with value: 9.285036891973213 and parameters: {'estimator': 'ElasticNet', 'enet_alpha': 0.9867025105632983, 'enet_l1_ratio': 0.7723854710949033, 'enet_selection': 'random'}. Best is trial 66 with value: 9.276598662550308.\u001b[0m\n",
      "\u001b[32m[I 2022-05-19 22:45:14,594]\u001b[0m Trial 74 finished with value: 9.27011740992539 and parameters: {'estimator': 'ElasticNet', 'enet_alpha': 1.015923980740881, 'enet_l1_ratio': 0.655407585680197, 'enet_selection': 'random'}. Best is trial 74 with value: 9.27011740992539.\u001b[0m\n",
      "\u001b[32m[I 2022-05-19 22:45:15,295]\u001b[0m Trial 75 finished with value: 12.477295717298716 and parameters: {'estimator': 'Ridge', 'ridge_alpha': 8.281299775187449, 'ridge_solver': 'cholesky'}. Best is trial 74 with value: 9.27011740992539.\u001b[0m\n",
      "\u001b[32m[I 2022-05-19 22:45:16,588]\u001b[0m Trial 76 finished with value: 9.347975576238701 and parameters: {'estimator': 'ElasticNet', 'enet_alpha': 1.4182911293050446, 'enet_l1_ratio': 0.6858239379923072, 'enet_selection': 'random'}. Best is trial 74 with value: 9.27011740992539.\u001b[0m\n",
      "\u001b[32m[I 2022-05-19 22:45:18,286]\u001b[0m Trial 77 finished with value: 9.271472248239727 and parameters: {'estimator': 'ElasticNet', 'enet_alpha': 0.9746592673296104, 'enet_l1_ratio': 0.6624884843984993, 'enet_selection': 'random'}. Best is trial 74 with value: 9.27011740992539.\u001b[0m\n",
      "\u001b[32m[I 2022-05-19 22:45:20,281]\u001b[0m Trial 78 finished with value: 9.43994665415009 and parameters: {'estimator': 'ElasticNet', 'enet_alpha': 0.5538334894137568, 'enet_l1_ratio': 0.618524624189307, 'enet_selection': 'random'}. Best is trial 74 with value: 9.27011740992539.\u001b[0m\n",
      "\u001b[32m[I 2022-05-19 22:45:21,175]\u001b[0m Trial 79 finished with value: 13.065689166339661 and parameters: {'estimator': 'SGDRegressor', 'sgd_penalty': 'l2', 'sgd_alpha': 0.0008224558300161859, 'sgd_l1_ratio': 0.6951521276860191, 'sgd_eta0': 0.03143750282358613}. Best is trial 74 with value: 9.27011740992539.\u001b[0m\n",
      "\u001b[32m[I 2022-05-19 22:45:23,073]\u001b[0m Trial 80 finished with value: 9.310576598585202 and parameters: {'estimator': 'ElasticNet', 'enet_alpha': 1.5687186290399164, 'enet_l1_ratio': 0.56685712746142, 'enet_selection': 'random'}. Best is trial 74 with value: 9.27011740992539.\u001b[0m\n",
      "\u001b[32m[I 2022-05-19 22:45:24,678]\u001b[0m Trial 81 finished with value: 9.272338838190867 and parameters: {'estimator': 'ElasticNet', 'enet_alpha': 0.9400068602050033, 'enet_l1_ratio': 0.6576064941392561, 'enet_selection': 'random'}. Best is trial 74 with value: 9.27011740992539.\u001b[0m\n",
      "\u001b[32m[I 2022-05-19 22:45:26,183]\u001b[0m Trial 82 finished with value: 9.277445657738227 and parameters: {'estimator': 'ElasticNet', 'enet_alpha': 1.1883407726952848, 'enet_l1_ratio': 0.6539925307982956, 'enet_selection': 'random'}. Best is trial 74 with value: 9.27011740992539.\u001b[0m\n",
      "\u001b[32m[I 2022-05-19 22:45:27,379]\u001b[0m Trial 83 finished with value: 9.274482579032375 and parameters: {'estimator': 'ElasticNet', 'enet_alpha': 1.176000373436977, 'enet_l1_ratio': 0.6439822056102764, 'enet_selection': 'random'}. Best is trial 74 with value: 9.27011740992539.\u001b[0m\n",
      "\u001b[32m[I 2022-05-19 22:45:28,787]\u001b[0m Trial 84 finished with value: 9.280308112645088 and parameters: {'estimator': 'ElasticNet', 'enet_alpha': 1.234553521690537, 'enet_l1_ratio': 0.6423337958627934, 'enet_selection': 'random'}. Best is trial 74 with value: 9.27011740992539.\u001b[0m\n",
      "\u001b[32m[I 2022-05-19 22:45:30,275]\u001b[0m Trial 85 finished with value: 9.29296363698168 and parameters: {'estimator': 'ElasticNet', 'enet_alpha': 1.293353803368133, 'enet_l1_ratio': 0.6467155001031727, 'enet_selection': 'random'}. Best is trial 74 with value: 9.27011740992539.\u001b[0m\n",
      "\u001b[32m[I 2022-05-19 22:45:31,884]\u001b[0m Trial 86 finished with value: 9.274529690471544 and parameters: {'estimator': 'ElasticNet', 'enet_alpha': 1.169442951249952, 'enet_l1_ratio': 0.6464819138305157, 'enet_selection': 'random'}. Best is trial 74 with value: 9.27011740992539.\u001b[0m\n",
      "\u001b[32m[I 2022-05-19 22:45:33,368]\u001b[0m Trial 87 finished with value: 9.274352482232407 and parameters: {'estimator': 'ElasticNet', 'enet_alpha': 1.1685010933285733, 'enet_l1_ratio': 0.6455579949192888, 'enet_selection': 'random'}. Best is trial 74 with value: 9.27011740992539.\u001b[0m\n",
      "\u001b[32m[I 2022-05-19 22:45:35,292]\u001b[0m Trial 88 finished with value: 12.801686422322263 and parameters: {'estimator': 'LinearRegression'}. Best is trial 74 with value: 9.27011740992539.\u001b[0m\n",
      "\u001b[32m[I 2022-05-19 22:45:37,780]\u001b[0m Trial 89 finished with value: 12.751252533361672 and parameters: {'estimator': 'Ridge', 'ridge_alpha': 0.10242195037327051, 'ridge_solver': 'sparse_cg'}. Best is trial 74 with value: 9.27011740992539.\u001b[0m\n",
      "\u001b[32m[I 2022-05-19 22:45:39,380]\u001b[0m Trial 90 finished with value: 9.27610091611917 and parameters: {'estimator': 'ElasticNet', 'enet_alpha': 1.1794389135066714, 'enet_l1_ratio': 0.6539556765432213, 'enet_selection': 'random'}. Best is trial 74 with value: 9.27011740992539.\u001b[0m\n",
      "\u001b[32m[I 2022-05-19 22:45:40,896]\u001b[0m Trial 91 finished with value: 9.274138115063948 and parameters: {'estimator': 'ElasticNet', 'enet_alpha': 1.1671059746888928, 'enet_l1_ratio': 0.6445077680507009, 'enet_selection': 'random'}. Best is trial 74 with value: 9.27011740992539.\u001b[0m\n",
      "\u001b[32m[I 2022-05-19 22:45:42,389]\u001b[0m Trial 92 finished with value: 9.319631970496125 and parameters: {'estimator': 'ElasticNet', 'enet_alpha': 1.6149020215597365, 'enet_l1_ratio': 0.5636310139889864, 'enet_selection': 'random'}. Best is trial 74 with value: 9.27011740992539.\u001b[0m\n",
      "\u001b[32m[I 2022-05-19 22:45:43,867]\u001b[0m Trial 93 finished with value: 9.283135819821211 and parameters: {'estimator': 'ElasticNet', 'enet_alpha': 1.2035005328786175, 'enet_l1_ratio': 0.6602973082636031, 'enet_selection': 'random'}. Best is trial 74 with value: 9.27011740992539.\u001b[0m\n",
      "\u001b[32m[I 2022-05-19 22:45:45,272]\u001b[0m Trial 94 finished with value: 9.544884599421515 and parameters: {'estimator': 'ElasticNet', 'enet_alpha': 2.2710370045869825, 'enet_l1_ratio': 0.596324104132896, 'enet_selection': 'random'}. Best is trial 74 with value: 9.27011740992539.\u001b[0m\n",
      "\u001b[32m[I 2022-05-19 22:45:46,470]\u001b[0m Trial 95 finished with value: 9.262435097549107 and parameters: {'estimator': 'ElasticNet', 'enet_alpha': 1.1082256661928656, 'enet_l1_ratio': 0.5313272826328191, 'enet_selection': 'random'}. Best is trial 95 with value: 9.262435097549107.\u001b[0m\n",
      "\u001b[32m[I 2022-05-19 22:45:47,680]\u001b[0m Trial 96 finished with value: 9.313728990661923 and parameters: {'estimator': 'ElasticNet', 'enet_alpha': 1.687574035354776, 'enet_l1_ratio': 0.5209470308322355, 'enet_selection': 'random'}. Best is trial 95 with value: 9.262435097549107.\u001b[0m\n",
      "\u001b[32m[I 2022-05-19 22:45:48,677]\u001b[0m Trial 97 finished with value: 11.190455037806558 and parameters: {'estimator': 'Lars', 'lars_nz_coefs': 25, 'lars_jitter': 0.02532690116534736}. Best is trial 95 with value: 9.262435097549107.\u001b[0m\n",
      "\u001b[32m[I 2022-05-19 22:45:50,466]\u001b[0m Trial 98 finished with value: 9.282958028775472 and parameters: {'estimator': 'ElasticNet', 'enet_alpha': 1.0781591094708667, 'enet_l1_ratio': 0.7177119500474134, 'enet_selection': 'random'}. Best is trial 95 with value: 9.262435097549107.\u001b[0m\n",
      "\u001b[32m[I 2022-05-19 22:45:51,977]\u001b[0m Trial 99 finished with value: 9.389333193103928 and parameters: {'estimator': 'ElasticNet', 'enet_alpha': 0.625366413910938, 'enet_l1_ratio': 0.6140262827230469, 'enet_selection': 'random'}. Best is trial 95 with value: 9.262435097549107.\u001b[0m\n",
      "\u001b[32m[I 2022-05-19 22:45:53,272]\u001b[0m Trial 100 finished with value: 9.37046284987352 and parameters: {'estimator': 'ElasticNet', 'enet_alpha': 2.02881532853422, 'enet_l1_ratio': 0.48032069914222336, 'enet_selection': 'random'}. Best is trial 95 with value: 9.262435097549107.\u001b[0m\n",
      "\u001b[32m[I 2022-05-19 22:45:54,794]\u001b[0m Trial 101 finished with value: 9.279839143032497 and parameters: {'estimator': 'ElasticNet', 'enet_alpha': 1.1765392589727224, 'enet_l1_ratio': 0.6648024317788197, 'enet_selection': 'random'}. Best is trial 95 with value: 9.262435097549107.\u001b[0m\n",
      "\u001b[32m[I 2022-05-19 22:45:56,580]\u001b[0m Trial 102 finished with value: 9.373764967872974 and parameters: {'estimator': 'ElasticNet', 'enet_alpha': 1.4421783800788368, 'enet_l1_ratio': 0.7110155564577347, 'enet_selection': 'random'}. Best is trial 95 with value: 9.262435097549107.\u001b[0m\n",
      "\u001b[32m[I 2022-05-19 22:45:58,065]\u001b[0m Trial 103 finished with value: 9.267698953068937 and parameters: {'estimator': 'ElasticNet', 'enet_alpha': 1.0863717748789838, 'enet_l1_ratio': 0.6300732241887105, 'enet_selection': 'random'}. Best is trial 95 with value: 9.262435097549107.\u001b[0m\n",
      "\u001b[32m[I 2022-05-19 22:45:59,487]\u001b[0m Trial 104 finished with value: 9.263569772187054 and parameters: {'estimator': 'ElasticNet', 'enet_alpha': 1.0536929286799495, 'enet_l1_ratio': 0.5666873995353768, 'enet_selection': 'random'}. Best is trial 95 with value: 9.262435097549107.\u001b[0m\n",
      "\u001b[32m[I 2022-05-19 22:46:00,864]\u001b[0m Trial 105 finished with value: 11.980199020561912 and parameters: {'estimator': 'SGDRegressor', 'sgd_penalty': 'l1', 'sgd_alpha': 0.00021438019708609963, 'sgd_l1_ratio': 0.2953020228238941, 'sgd_eta0': 0.004482947849450859}. Best is trial 95 with value: 9.262435097549107.\u001b[0m\n",
      "\u001b[32m[I 2022-05-19 22:46:02,277]\u001b[0m Trial 106 finished with value: 9.29555851600407 and parameters: {'estimator': 'ElasticNet', 'enet_alpha': 1.5581154481644086, 'enet_l1_ratio': 0.5447220957615015, 'enet_selection': 'random'}. Best is trial 95 with value: 9.262435097549107.\u001b[0m\n",
      "\u001b[32m[I 2022-05-19 22:46:03,688]\u001b[0m Trial 107 finished with value: 9.390439359539776 and parameters: {'estimator': 'ElasticNet', 'enet_alpha': 1.8343321003439073, 'enet_l1_ratio': 0.5858315049300438, 'enet_selection': 'random'}. Best is trial 95 with value: 9.262435097549107.\u001b[0m\n",
      "\u001b[32m[I 2022-05-19 22:46:05,269]\u001b[0m Trial 108 finished with value: 9.306394931094779 and parameters: {'estimator': 'ElasticNet', 'enet_alpha': 1.0761888564596231, 'enet_l1_ratio': 0.44002478910939313, 'enet_selection': 'random'}. Best is trial 95 with value: 9.262435097549107.\u001b[0m\n",
      "\u001b[32m[I 2022-05-19 22:46:06,674]\u001b[0m Trial 109 finished with value: 9.293676199669996 and parameters: {'estimator': 'ElasticNet', 'enet_alpha': 0.849459143564273, 'enet_l1_ratio': 0.6297383679949731, 'enet_selection': 'random'}. Best is trial 95 with value: 9.262435097549107.\u001b[0m\n",
      "\u001b[32m[I 2022-05-19 22:46:08,184]\u001b[0m Trial 110 finished with value: 9.275219579782728 and parameters: {'estimator': 'ElasticNet', 'enet_alpha': 1.4070214398528136, 'enet_l1_ratio': 0.5658377354092863, 'enet_selection': 'random'}. Best is trial 95 with value: 9.262435097549107.\u001b[0m\n",
      "\u001b[32m[I 2022-05-19 22:46:09,782]\u001b[0m Trial 111 finished with value: 9.267496309355252 and parameters: {'estimator': 'ElasticNet', 'enet_alpha': 1.3062883777743244, 'enet_l1_ratio': 0.5735529673730745, 'enet_selection': 'random'}. Best is trial 95 with value: 9.262435097549107.\u001b[0m\n",
      "\u001b[32m[I 2022-05-19 22:46:10,989]\u001b[0m Trial 112 finished with value: 9.267935665549523 and parameters: {'estimator': 'ElasticNet', 'enet_alpha': 1.3525779003473615, 'enet_l1_ratio': 0.5640613229819892, 'enet_selection': 'random'}. Best is trial 95 with value: 9.262435097549107.\u001b[0m\n",
      "\u001b[32m[I 2022-05-19 22:46:12,389]\u001b[0m Trial 113 finished with value: 9.284922734928989 and parameters: {'estimator': 'ElasticNet', 'enet_alpha': 0.9867753213086119, 'enet_l1_ratio': 0.5236976335087973, 'enet_selection': 'random'}. Best is trial 95 with value: 9.262435097549107.\u001b[0m\n",
      "\u001b[32m[I 2022-05-19 22:46:13,674]\u001b[0m Trial 114 finished with value: 9.267750673850777 and parameters: {'estimator': 'ElasticNet', 'enet_alpha': 1.1313202463145946, 'enet_l1_ratio': 0.6179089041635858, 'enet_selection': 'random'}. Best is trial 95 with value: 9.262435097549107.\u001b[0m\n",
      "\u001b[32m[I 2022-05-19 22:46:15,974]\u001b[0m Trial 115 finished with value: 12.801686422322263 and parameters: {'estimator': 'LinearRegression'}. Best is trial 95 with value: 9.262435097549107.\u001b[0m\n",
      "\u001b[32m[I 2022-05-19 22:46:17,681]\u001b[0m Trial 116 finished with value: 9.277082498281837 and parameters: {'estimator': 'ElasticNet', 'enet_alpha': 1.320627468886978, 'enet_l1_ratio': 0.6022253695647086, 'enet_selection': 'random'}. Best is trial 95 with value: 9.262435097549107.\u001b[0m\n",
      "\u001b[32m[I 2022-05-19 22:46:20,686]\u001b[0m Trial 117 finished with value: 12.750428281317712 and parameters: {'estimator': 'Ridge', 'ridge_alpha': 1.0736346238338843, 'ridge_solver': 'svd'}. Best is trial 95 with value: 9.262435097549107.\u001b[0m\n",
      "\u001b[32m[I 2022-05-19 22:46:21,988]\u001b[0m Trial 118 finished with value: 9.314063848364972 and parameters: {'estimator': 'ElasticNet', 'enet_alpha': 0.8396747550783659, 'enet_l1_ratio': 0.5408610230135116, 'enet_selection': 'random'}. Best is trial 95 with value: 9.262435097549107.\u001b[0m\n",
      "\u001b[32m[I 2022-05-19 22:46:22,889]\u001b[0m Trial 119 finished with value: 10.086048577796575 and parameters: {'estimator': 'Lars', 'lars_nz_coefs': 2, 'lars_jitter': 0.05326182542950287}. Best is trial 95 with value: 9.262435097549107.\u001b[0m\n",
      "\u001b[32m[I 2022-05-19 22:46:24,672]\u001b[0m Trial 120 finished with value: 9.368305621422934 and parameters: {'estimator': 'ElasticNet', 'enet_alpha': 0.6617949733320961, 'enet_l1_ratio': 0.6146005555680653, 'enet_selection': 'cyclic'}. Best is trial 95 with value: 9.262435097549107.\u001b[0m\n",
      "\u001b[32m[I 2022-05-19 22:46:26,281]\u001b[0m Trial 121 finished with value: 9.644821328258912 and parameters: {'estimator': 'ElasticNet', 'enet_alpha': 1.0801439258714902, 'enet_l1_ratio': 0.02019808291584707, 'enet_selection': 'random'}. Best is trial 95 with value: 9.262435097549107.\u001b[0m\n",
      "\u001b[32m[I 2022-05-19 22:46:27,583]\u001b[0m Trial 122 finished with value: 9.307804419611623 and parameters: {'estimator': 'ElasticNet', 'enet_alpha': 1.5118162476580377, 'enet_l1_ratio': 0.5840671549105244, 'enet_selection': 'random'}. Best is trial 95 with value: 9.262435097549107.\u001b[0m\n",
      "\u001b[32m[I 2022-05-19 22:46:29,080]\u001b[0m Trial 123 finished with value: 9.257576427507868 and parameters: {'estimator': 'ElasticNet', 'enet_alpha': 1.2671594097449876, 'enet_l1_ratio': 0.4904173714535016, 'enet_selection': 'random'}. Best is trial 123 with value: 9.257576427507868.\u001b[0m\n",
      "\u001b[32m[I 2022-05-19 22:46:30,176]\u001b[0m Trial 124 finished with value: 9.297585992912117 and parameters: {'estimator': 'ElasticNet', 'enet_alpha': 0.9720553933615692, 'enet_l1_ratio': 0.4949846271593481, 'enet_selection': 'random'}. Best is trial 123 with value: 9.257576427507868.\u001b[0m\n",
      "\u001b[32m[I 2022-05-19 22:46:32,176]\u001b[0m Trial 125 finished with value: 9.717205810907972 and parameters: {'estimator': 'ElasticNet', 'enet_alpha': 0.2025031561649658, 'enet_l1_ratio': 0.6761895372223523, 'enet_selection': 'random'}. Best is trial 123 with value: 9.257576427507868.\u001b[0m\n",
      "\u001b[32m[I 2022-05-19 22:46:33,387]\u001b[0m Trial 126 finished with value: 9.467234187217484 and parameters: {'estimator': 'ElasticNet', 'enet_alpha': 2.568747842645247, 'enet_l1_ratio': 0.44230547599231007, 'enet_selection': 'random'}. Best is trial 123 with value: 9.257576427507868.\u001b[0m\n",
      "\u001b[32m[I 2022-05-19 22:46:34,683]\u001b[0m Trial 127 finished with value: 9.36175860161101 and parameters: {'estimator': 'ElasticNet', 'enet_alpha': 1.8168861853870195, 'enet_l1_ratio': 0.552889738020754, 'enet_selection': 'random'}. Best is trial 123 with value: 9.257576427507868.\u001b[0m\n",
      "\u001b[32m[I 2022-05-19 22:46:36,174]\u001b[0m Trial 128 finished with value: 9.258913957704285 and parameters: {'estimator': 'ElasticNet', 'enet_alpha': 1.3124686755480883, 'enet_l1_ratio': 0.5033352808747722, 'enet_selection': 'random'}. Best is trial 123 with value: 9.257576427507868.\u001b[0m\n",
      "\u001b[32m[I 2022-05-19 22:46:37,097]\u001b[0m Trial 129 finished with value: 13.341697142247028 and parameters: {'estimator': 'SGDRegressor', 'sgd_penalty': 'l2', 'sgd_alpha': 4.004603003486487e-05, 'sgd_l1_ratio': 0.9943597608027934, 'sgd_eta0': 0.03428425318308746}. Best is trial 123 with value: 9.257576427507868.\u001b[0m\n",
      "\u001b[32m[I 2022-05-19 22:46:38,572]\u001b[0m Trial 130 finished with value: 9.261895917974702 and parameters: {'estimator': 'ElasticNet', 'enet_alpha': 1.3516953062237291, 'enet_l1_ratio': 0.5164848032334397, 'enet_selection': 'random'}. Best is trial 123 with value: 9.257576427507868.\u001b[0m\n",
      "\u001b[32m[I 2022-05-19 22:46:39,491]\u001b[0m Trial 131 finished with value: 10.241342536951494 and parameters: {'estimator': 'ElasticNet', 'enet_alpha': 9.66947362612345, 'enet_l1_ratio': 0.5035517295626374, 'enet_selection': 'random'}. Best is trial 123 with value: 9.257576427507868.\u001b[0m\n",
      "\u001b[32m[I 2022-05-19 22:46:41,085]\u001b[0m Trial 132 finished with value: 9.266874629575424 and parameters: {'estimator': 'ElasticNet', 'enet_alpha': 1.3219187205801848, 'enet_l1_ratio': 0.4480703855035019, 'enet_selection': 'random'}. Best is trial 123 with value: 9.257576427507868.\u001b[0m\n",
      "\u001b[32m[I 2022-05-19 22:46:42,584]\u001b[0m Trial 133 finished with value: 9.28554654053756 and parameters: {'estimator': 'ElasticNet', 'enet_alpha': 1.2778944720451229, 'enet_l1_ratio': 0.4166670713487003, 'enet_selection': 'random'}. Best is trial 123 with value: 9.257576427507868.\u001b[0m\n",
      "\u001b[32m[I 2022-05-19 22:46:44,283]\u001b[0m Trial 134 finished with value: 9.265364284531861 and parameters: {'estimator': 'ElasticNet', 'enet_alpha': 1.3912193636879306, 'enet_l1_ratio': 0.5239869377191122, 'enet_selection': 'random'}. Best is trial 123 with value: 9.257576427507868.\u001b[0m\n",
      "\u001b[32m[I 2022-05-19 22:46:46,081]\u001b[0m Trial 135 finished with value: 9.29781511818489 and parameters: {'estimator': 'ElasticNet', 'enet_alpha': 1.7113750583263947, 'enet_l1_ratio': 0.47101027264625234, 'enet_selection': 'random'}. Best is trial 123 with value: 9.257576427507868.\u001b[0m\n",
      "\u001b[32m[I 2022-05-19 22:46:47,480]\u001b[0m Trial 136 finished with value: 9.266731272948187 and parameters: {'estimator': 'ElasticNet', 'enet_alpha': 1.4042288129296803, 'enet_l1_ratio': 0.5273357561666677, 'enet_selection': 'random'}. Best is trial 123 with value: 9.257576427507868.\u001b[0m\n",
      "\u001b[32m[I 2022-05-19 22:46:49,390]\u001b[0m Trial 137 finished with value: 9.269069307846548 and parameters: {'estimator': 'ElasticNet', 'enet_alpha': 1.433236281173108, 'enet_l1_ratio': 0.5281898354409174, 'enet_selection': 'cyclic'}. Best is trial 123 with value: 9.257576427507868.\u001b[0m\n",
      "\u001b[32m[I 2022-05-19 22:46:50,592]\u001b[0m Trial 138 finished with value: 9.274546333367196 and parameters: {'estimator': 'ElasticNet', 'enet_alpha': 1.4932370871985157, 'enet_l1_ratio': 0.5242123523890045, 'enet_selection': 'cyclic'}. Best is trial 123 with value: 9.257576427507868.\u001b[0m\n",
      "\u001b[32m[I 2022-05-19 22:46:51,975]\u001b[0m Trial 139 finished with value: 9.360932163419903 and parameters: {'estimator': 'ElasticNet', 'enet_alpha': 1.9674223795272185, 'enet_l1_ratio': 0.48875979020231236, 'enet_selection': 'cyclic'}. Best is trial 123 with value: 9.257576427507868.\u001b[0m\n",
      "\u001b[32m[I 2022-05-19 22:46:53,386]\u001b[0m Trial 140 finished with value: 9.270040284821208 and parameters: {'estimator': 'ElasticNet', 'enet_alpha': 1.3557352575853787, 'enet_l1_ratio': 0.4365317391097549, 'enet_selection': 'cyclic'}. Best is trial 123 with value: 9.257576427507868.\u001b[0m\n",
      "\u001b[32m[I 2022-05-19 22:46:54,975]\u001b[0m Trial 141 finished with value: 9.342389431811792 and parameters: {'estimator': 'ElasticNet', 'enet_alpha': 1.3568977138252862, 'enet_l1_ratio': 0.3313076218010319, 'enet_selection': 'cyclic'}. Best is trial 123 with value: 9.257576427507868.\u001b[0m\n",
      "\u001b[32m[I 2022-05-19 22:46:56,676]\u001b[0m Trial 142 finished with value: 9.26385983335449 and parameters: {'estimator': 'ElasticNet', 'enet_alpha': 1.3301657519724293, 'enet_l1_ratio': 0.45637322324951185, 'enet_selection': 'cyclic'}. Best is trial 123 with value: 9.257576427507868.\u001b[0m\n",
      "\u001b[32m[I 2022-05-19 22:46:57,877]\u001b[0m Trial 143 finished with value: 9.276487121180109 and parameters: {'estimator': 'ElasticNet', 'enet_alpha': 1.6009064512212503, 'enet_l1_ratio': 0.4606985623797917, 'enet_selection': 'cyclic'}. Best is trial 123 with value: 9.257576427507868.\u001b[0m\n",
      "\u001b[32m[I 2022-05-19 22:46:59,179]\u001b[0m Trial 144 finished with value: 9.274313650275849 and parameters: {'estimator': 'ElasticNet', 'enet_alpha': 1.350334117837515, 'enet_l1_ratio': 0.42528132712031397, 'enet_selection': 'cyclic'}. Best is trial 123 with value: 9.257576427507868.\u001b[0m\n",
      "\u001b[32m[I 2022-05-19 22:47:00,376]\u001b[0m Trial 145 finished with value: 9.267390738541648 and parameters: {'estimator': 'ElasticNet', 'enet_alpha': 1.442896580518575, 'enet_l1_ratio': 0.5084537609325258, 'enet_selection': 'cyclic'}. Best is trial 123 with value: 9.257576427507868.\u001b[0m\n",
      "\u001b[32m[I 2022-05-19 22:47:01,574]\u001b[0m Trial 146 finished with value: 9.286855345081639 and parameters: {'estimator': 'ElasticNet', 'enet_alpha': 1.515774563712669, 'enet_l1_ratio': 0.3866153543287613, 'enet_selection': 'cyclic'}. Best is trial 123 with value: 9.257576427507868.\u001b[0m\n",
      "\u001b[32m[I 2022-05-19 22:47:04,076]\u001b[0m Trial 147 finished with value: 12.801686422322263 and parameters: {'estimator': 'LinearRegression'}. Best is trial 123 with value: 9.257576427507868.\u001b[0m\n",
      "\u001b[32m[I 2022-05-19 22:47:05,368]\u001b[0m Trial 148 finished with value: 9.320216913282012 and parameters: {'estimator': 'ElasticNet', 'enet_alpha': 1.7397212461086238, 'enet_l1_ratio': 0.5100202672959266, 'enet_selection': 'cyclic'}. Best is trial 123 with value: 9.257576427507868.\u001b[0m\n",
      "\u001b[32m[I 2022-05-19 22:47:06,181]\u001b[0m Trial 149 finished with value: 12.787926937854493 and parameters: {'estimator': 'Ridge', 'ridge_alpha': 0.2807746001328614, 'ridge_solver': 'cholesky'}. Best is trial 123 with value: 9.257576427507868.\u001b[0m\n",
      "\u001b[32m[I 2022-05-19 22:47:07,569]\u001b[0m Trial 150 finished with value: 9.265768967222353 and parameters: {'estimator': 'ElasticNet', 'enet_alpha': 1.2619968690351093, 'enet_l1_ratio': 0.46003086061777165, 'enet_selection': 'cyclic'}. Best is trial 123 with value: 9.257576427507868.\u001b[0m\n",
      "\u001b[32m[I 2022-05-19 22:47:09,096]\u001b[0m Trial 151 finished with value: 9.266981385215974 and parameters: {'estimator': 'ElasticNet', 'enet_alpha': 1.269263037838862, 'enet_l1_ratio': 0.4559561632497722, 'enet_selection': 'cyclic'}. Best is trial 123 with value: 9.257576427507868.\u001b[0m\n",
      "\u001b[32m[I 2022-05-19 22:47:10,472]\u001b[0m Trial 152 finished with value: 9.26318089452361 and parameters: {'estimator': 'ElasticNet', 'enet_alpha': 1.2708809473789682, 'enet_l1_ratio': 0.46373499507577776, 'enet_selection': 'cyclic'}. Best is trial 123 with value: 9.257576427507868.\u001b[0m\n",
      "\u001b[32m[I 2022-05-19 22:47:11,776]\u001b[0m Trial 153 finished with value: 9.29697580901144 and parameters: {'estimator': 'ElasticNet', 'enet_alpha': 1.249786708269621, 'enet_l1_ratio': 0.4043509009831445, 'enet_selection': 'cyclic'}. Best is trial 123 with value: 9.257576427507868.\u001b[0m\n",
      "\u001b[32m[I 2022-05-19 22:47:13,077]\u001b[0m Trial 154 finished with value: 9.269209298480211 and parameters: {'estimator': 'ElasticNet', 'enet_alpha': 1.1169019230494754, 'enet_l1_ratio': 0.4933362105686664, 'enet_selection': 'cyclic'}. Best is trial 123 with value: 9.257576427507868.\u001b[0m\n",
      "\u001b[32m[I 2022-05-19 22:47:13,993]\u001b[0m Trial 155 finished with value: 9.348944050853449 and parameters: {'estimator': 'Lars', 'lars_nz_coefs': 12, 'lars_jitter': 0.018646851029587363}. Best is trial 123 with value: 9.257576427507868.\u001b[0m\n",
      "\u001b[32m[I 2022-05-19 22:47:15,374]\u001b[0m Trial 156 finished with value: 9.265768543042173 and parameters: {'estimator': 'ElasticNet', 'enet_alpha': 1.2718233149691134, 'enet_l1_ratio': 0.45797934269059126, 'enet_selection': 'cyclic'}. Best is trial 123 with value: 9.257576427507868.\u001b[0m\n",
      "\u001b[32m[I 2022-05-19 22:47:16,780]\u001b[0m Trial 157 finished with value: 9.279374299339706 and parameters: {'estimator': 'ElasticNet', 'enet_alpha': 1.6387435590963675, 'enet_l1_ratio': 0.45181060915856264, 'enet_selection': 'cyclic'}. Best is trial 123 with value: 9.257576427507868.\u001b[0m\n",
      "\u001b[32m[I 2022-05-19 22:47:18,577]\u001b[0m Trial 158 finished with value: 9.262161315488024 and parameters: {'estimator': 'ElasticNet', 'enet_alpha': 1.2535008608747478, 'enet_l1_ratio': 0.46954426901552154, 'enet_selection': 'cyclic'}. Best is trial 123 with value: 9.257576427507868.\u001b[0m\n",
      "\u001b[32m[I 2022-05-19 22:47:20,373]\u001b[0m Trial 159 finished with value: 9.319479079572679 and parameters: {'estimator': 'ElasticNet', 'enet_alpha': 1.3018660465485627, 'enet_l1_ratio': 0.3659195609102891, 'enet_selection': 'cyclic'}. Best is trial 123 with value: 9.257576427507868.\u001b[0m\n",
      "\u001b[32m[I 2022-05-19 22:47:21,875]\u001b[0m Trial 160 finished with value: 9.380368529602254 and parameters: {'estimator': 'ElasticNet', 'enet_alpha': 2.0844935703568352, 'enet_l1_ratio': 0.4759120381822971, 'enet_selection': 'cyclic'}. Best is trial 123 with value: 9.257576427507868.\u001b[0m\n",
      "\u001b[32m[I 2022-05-19 22:47:23,464]\u001b[0m Trial 161 finished with value: 9.26780624303323 and parameters: {'estimator': 'ElasticNet', 'enet_alpha': 1.2357271479302807, 'enet_l1_ratio': 0.4616819333117031, 'enet_selection': 'cyclic'}. Best is trial 123 with value: 9.257576427507868.\u001b[0m\n",
      "\u001b[32m[I 2022-05-19 22:47:24,573]\u001b[0m Trial 162 finished with value: 9.27372306207996 and parameters: {'estimator': 'ElasticNet', 'enet_alpha': 1.0603217075050817, 'enet_l1_ratio': 0.5120121890861522, 'enet_selection': 'cyclic'}. Best is trial 123 with value: 9.257576427507868.\u001b[0m\n",
      "\u001b[32m[I 2022-05-19 22:47:26,072]\u001b[0m Trial 163 finished with value: 9.274450372014817 and parameters: {'estimator': 'ElasticNet', 'enet_alpha': 1.4658739860410441, 'enet_l1_ratio': 0.4219235120369397, 'enet_selection': 'cyclic'}. Best is trial 123 with value: 9.257576427507868.\u001b[0m\n",
      "\u001b[32m[I 2022-05-19 22:47:27,464]\u001b[0m Trial 164 finished with value: 9.25776353021361 and parameters: {'estimator': 'ElasticNet', 'enet_alpha': 1.261214544233652, 'enet_l1_ratio': 0.48620626511725434, 'enet_selection': 'cyclic'}. Best is trial 123 with value: 9.257576427507868.\u001b[0m\n",
      "\u001b[32m[I 2022-05-19 22:47:28,493]\u001b[0m Trial 165 finished with value: 9.258013476325955 and parameters: {'estimator': 'ElasticNet', 'enet_alpha': 1.270631801169405, 'enet_l1_ratio': 0.4814466026839081, 'enet_selection': 'cyclic'}. Best is trial 123 with value: 9.257576427507868.\u001b[0m\n",
      "\u001b[32m[I 2022-05-19 22:47:29,689]\u001b[0m Trial 166 finished with value: 9.273593989051696 and parameters: {'estimator': 'ElasticNet', 'enet_alpha': 1.5565513832641402, 'enet_l1_ratio': 0.4734837635505479, 'enet_selection': 'cyclic'}. Best is trial 123 with value: 9.257576427507868.\u001b[0m\n",
      "\u001b[32m[I 2022-05-19 22:47:32,765]\u001b[0m Trial 167 finished with value: 11.545887694900953 and parameters: {'estimator': 'SGDRegressor', 'sgd_penalty': 'elasticnet', 'sgd_alpha': 0.00017158377462752475, 'sgd_l1_ratio': 0.6450469922655723, 'sgd_eta0': 0.0010596188712845421}. Best is trial 123 with value: 9.257576427507868.\u001b[0m\n",
      "\u001b[32m[I 2022-05-19 22:47:33,874]\u001b[0m Trial 168 finished with value: 10.034917299086851 and parameters: {'estimator': 'ElasticNet', 'enet_alpha': 4.94929209733677, 'enet_l1_ratio': 0.4949393585396539, 'enet_selection': 'cyclic'}. Best is trial 123 with value: 9.257576427507868.\u001b[0m\n",
      "\u001b[32m[I 2022-05-19 22:47:35,073]\u001b[0m Trial 169 finished with value: 9.258430281169458 and parameters: {'estimator': 'ElasticNet', 'enet_alpha': 1.2522137340465818, 'enet_l1_ratio': 0.5356915421352076, 'enet_selection': 'cyclic'}. Best is trial 123 with value: 9.257576427507868.\u001b[0m\n",
      "\u001b[32m[I 2022-05-19 22:47:36,279]\u001b[0m Trial 170 finished with value: 9.257477068360556 and parameters: {'estimator': 'ElasticNet', 'enet_alpha': 1.2015185345638328, 'enet_l1_ratio': 0.5402613203092642, 'enet_selection': 'cyclic'}. Best is trial 170 with value: 9.257477068360556.\u001b[0m\n",
      "\u001b[32m[I 2022-05-19 22:47:37,864]\u001b[0m Trial 171 finished with value: 9.258247452428654 and parameters: {'estimator': 'ElasticNet', 'enet_alpha': 1.2323210777905813, 'enet_l1_ratio': 0.5427773255879663, 'enet_selection': 'cyclic'}. Best is trial 170 with value: 9.257477068360556.\u001b[0m\n",
      "\u001b[32m[I 2022-05-19 22:47:39,177]\u001b[0m Trial 172 finished with value: 9.272854537103493 and parameters: {'estimator': 'ElasticNet', 'enet_alpha': 1.031474310704769, 'enet_l1_ratio': 0.541321279070604, 'enet_selection': 'cyclic'}. Best is trial 170 with value: 9.257477068360556.\u001b[0m\n",
      "\u001b[32m[I 2022-05-19 22:47:40,490]\u001b[0m Trial 173 finished with value: 9.258708956749212 and parameters: {'estimator': 'ElasticNet', 'enet_alpha': 1.148833188320727, 'enet_l1_ratio': 0.5331985472010073, 'enet_selection': 'cyclic'}. Best is trial 170 with value: 9.257477068360556.\u001b[0m\n",
      "\u001b[32m[I 2022-05-19 22:47:41,767]\u001b[0m Trial 174 finished with value: 9.258410594998129 and parameters: {'estimator': 'ElasticNet', 'enet_alpha': 1.1541231818608177, 'enet_l1_ratio': 0.534727860392835, 'enet_selection': 'cyclic'}. Best is trial 170 with value: 9.257477068360556.\u001b[0m\n",
      "\u001b[32m[I 2022-05-19 22:47:43,276]\u001b[0m Trial 175 finished with value: 9.25720529719135 and parameters: {'estimator': 'ElasticNet', 'enet_alpha': 1.185047757275266, 'enet_l1_ratio': 0.5380773812237318, 'enet_selection': 'cyclic'}. Best is trial 175 with value: 9.25720529719135.\u001b[0m\n",
      "\u001b[32m[I 2022-05-19 22:47:44,486]\u001b[0m Trial 176 finished with value: 9.2948589674783 and parameters: {'estimator': 'ElasticNet', 'enet_alpha': 0.9059723079505076, 'enet_l1_ratio': 0.5469046455234727, 'enet_selection': 'cyclic'}. Best is trial 175 with value: 9.25720529719135.\u001b[0m\n",
      "\u001b[32m[I 2022-05-19 22:47:45,773]\u001b[0m Trial 177 finished with value: 9.270244994240777 and parameters: {'estimator': 'ElasticNet', 'enet_alpha': 1.127598266489746, 'enet_l1_ratio': 0.48729785202682, 'enet_selection': 'cyclic'}. Best is trial 175 with value: 9.25720529719135.\u001b[0m\n",
      "\u001b[32m[I 2022-05-19 22:47:47,083]\u001b[0m Trial 178 finished with value: 9.272602971123192 and parameters: {'estimator': 'ElasticNet', 'enet_alpha': 1.019678857480324, 'enet_l1_ratio': 0.550357944152559, 'enet_selection': 'cyclic'}. Best is trial 175 with value: 9.25720529719135.\u001b[0m\n",
      "\u001b[32m[I 2022-05-19 22:47:49,281]\u001b[0m Trial 179 finished with value: 12.801686422322263 and parameters: {'estimator': 'LinearRegression'}. Best is trial 175 with value: 9.25720529719135.\u001b[0m\n",
      "\u001b[32m[I 2022-05-19 22:47:50,689]\u001b[0m Trial 180 finished with value: 9.257805951376989 and parameters: {'estimator': 'ElasticNet', 'enet_alpha': 1.1776612690587087, 'enet_l1_ratio': 0.5267489920017075, 'enet_selection': 'cyclic'}. Best is trial 175 with value: 9.25720529719135.\u001b[0m\n",
      "\u001b[32m[I 2022-05-19 22:47:52,177]\u001b[0m Trial 181 finished with value: 9.258260893392192 and parameters: {'estimator': 'ElasticNet', 'enet_alpha': 1.166707860172085, 'enet_l1_ratio': 0.5255522778905496, 'enet_selection': 'cyclic'}. Best is trial 175 with value: 9.25720529719135.\u001b[0m\n",
      "\u001b[32m[I 2022-05-19 22:47:53,486]\u001b[0m Trial 182 finished with value: 9.258358630265406 and parameters: {'estimator': 'ElasticNet', 'enet_alpha': 1.155693619619918, 'enet_l1_ratio': 0.5343173264277358, 'enet_selection': 'cyclic'}. Best is trial 175 with value: 9.25720529719135.\u001b[0m\n",
      "\u001b[32m[I 2022-05-19 22:47:54,990]\u001b[0m Trial 183 finished with value: 9.262202428441721 and parameters: {'estimator': 'ElasticNet', 'enet_alpha': 1.1506197489970214, 'enet_l1_ratio': 0.5842031810201755, 'enet_selection': 'cyclic'}. Best is trial 175 with value: 9.25720529719135.\u001b[0m\n",
      "\u001b[32m[I 2022-05-19 22:47:56,176]\u001b[0m Trial 184 finished with value: 9.262106111714106 and parameters: {'estimator': 'ElasticNet', 'enet_alpha': 1.1563155200302002, 'enet_l1_ratio': 0.5828509011449479, 'enet_selection': 'cyclic'}. Best is trial 175 with value: 9.25720529719135.\u001b[0m\n",
      "\u001b[32m[I 2022-05-19 22:47:57,490]\u001b[0m Trial 185 finished with value: 9.262685230716853 and parameters: {'estimator': 'ElasticNet', 'enet_alpha': 1.1365681412585238, 'enet_l1_ratio': 0.5886941826534304, 'enet_selection': 'cyclic'}. Best is trial 175 with value: 9.25720529719135.\u001b[0m\n",
      "\u001b[32m[I 2022-05-19 22:47:58,764]\u001b[0m Trial 186 finished with value: 9.280036927580221 and parameters: {'estimator': 'ElasticNet', 'enet_alpha': 0.9319185574264873, 'enet_l1_ratio': 0.5867664520404591, 'enet_selection': 'cyclic'}. Best is trial 175 with value: 9.25720529719135.\u001b[0m\n",
      "\u001b[32m[I 2022-05-19 22:48:02,604]\u001b[0m Trial 187 finished with value: 12.679286813164461 and parameters: {'estimator': 'Ridge', 'ridge_alpha': 1.7600479429223022, 'ridge_solver': 'saga'}. Best is trial 175 with value: 9.25720529719135.\u001b[0m\n",
      "\u001b[32m[I 2022-05-19 22:48:04,080]\u001b[0m Trial 188 finished with value: 9.330861563928726 and parameters: {'estimator': 'ElasticNet', 'enet_alpha': 0.8025941224369162, 'enet_l1_ratio': 0.5372858166937282, 'enet_selection': 'cyclic'}. Best is trial 175 with value: 9.25720529719135.\u001b[0m\n",
      "\u001b[32m[I 2022-05-19 22:48:05,477]\u001b[0m Trial 189 finished with value: 9.26103606898044 and parameters: {'estimator': 'ElasticNet', 'enet_alpha': 1.1452627333643446, 'enet_l1_ratio': 0.577225209426335, 'enet_selection': 'cyclic'}. Best is trial 175 with value: 9.25720529719135.\u001b[0m\n",
      "\u001b[32m[I 2022-05-19 22:48:06,471]\u001b[0m Trial 190 finished with value: 9.385485553628236 and parameters: {'estimator': 'Lars', 'lars_nz_coefs': 10, 'lars_jitter': 0.05769287333055132}. Best is trial 175 with value: 9.25720529719135.\u001b[0m\n",
      "\u001b[32m[I 2022-05-19 22:48:07,776]\u001b[0m Trial 191 finished with value: 9.261197545643995 and parameters: {'estimator': 'ElasticNet', 'enet_alpha': 1.1491530268387413, 'enet_l1_ratio': 0.5778602723335245, 'enet_selection': 'cyclic'}. Best is trial 175 with value: 9.25720529719135.\u001b[0m\n",
      "\u001b[32m[I 2022-05-19 22:48:09,278]\u001b[0m Trial 192 finished with value: 9.258354087490435 and parameters: {'estimator': 'ElasticNet', 'enet_alpha': 1.1527961097135346, 'enet_l1_ratio': 0.5602070684562087, 'enet_selection': 'cyclic'}. Best is trial 175 with value: 9.25720529719135.\u001b[0m\n",
      "\u001b[32m[I 2022-05-19 22:48:10,584]\u001b[0m Trial 193 finished with value: 9.25913673467654 and parameters: {'estimator': 'ElasticNet', 'enet_alpha': 1.1675517110046725, 'enet_l1_ratio': 0.5639303743972068, 'enet_selection': 'cyclic'}. Best is trial 175 with value: 9.25720529719135.\u001b[0m\n",
      "\u001b[32m[I 2022-05-19 22:48:11,970]\u001b[0m Trial 194 finished with value: 9.27195738684597 and parameters: {'estimator': 'ElasticNet', 'enet_alpha': 1.0029824692405922, 'enet_l1_ratio': 0.5618832479647489, 'enet_selection': 'cyclic'}. Best is trial 175 with value: 9.25720529719135.\u001b[0m\n",
      "\u001b[32m[I 2022-05-19 22:48:13,189]\u001b[0m Trial 195 finished with value: 9.257752389378185 and parameters: {'estimator': 'ElasticNet', 'enet_alpha': 1.166072162377384, 'enet_l1_ratio': 0.5537579372733337, 'enet_selection': 'cyclic'}. Best is trial 175 with value: 9.25720529719135.\u001b[0m\n",
      "\u001b[32m[I 2022-05-19 22:48:14,596]\u001b[0m Trial 196 finished with value: 9.257676805050693 and parameters: {'estimator': 'ElasticNet', 'enet_alpha': 1.1640487018328123, 'enet_l1_ratio': 0.5523767271989339, 'enet_selection': 'cyclic'}. Best is trial 175 with value: 9.25720529719135.\u001b[0m\n",
      "\u001b[32m[I 2022-05-19 22:48:15,980]\u001b[0m Trial 197 finished with value: 9.280998739391054 and parameters: {'estimator': 'ElasticNet', 'enet_alpha': 0.9605102654699187, 'enet_l1_ratio': 0.5556759733334679, 'enet_selection': 'cyclic'}. Best is trial 175 with value: 9.25720529719135.\u001b[0m\n",
      "\u001b[32m[I 2022-05-19 22:48:17,576]\u001b[0m Trial 198 finished with value: 9.270502232790852 and parameters: {'estimator': 'ElasticNet', 'enet_alpha': 1.0790867427054225, 'enet_l1_ratio': 0.5128431861883023, 'enet_selection': 'cyclic'}. Best is trial 175 with value: 9.25720529719135.\u001b[0m\n",
      "\u001b[32m[I 2022-05-19 22:48:18,792]\u001b[0m Trial 199 finished with value: 9.258102043990421 and parameters: {'estimator': 'ElasticNet', 'enet_alpha': 1.1561235852290999, 'enet_l1_ratio': 0.5395170726255931, 'enet_selection': 'cyclic'}. Best is trial 175 with value: 9.25720529719135.\u001b[0m\n",
      "\u001b[32m[I 2022-05-19 22:48:20,087]\u001b[0m Trial 200 finished with value: 9.303863673008042 and parameters: {'estimator': 'ElasticNet', 'enet_alpha': 0.8655208864303181, 'enet_l1_ratio': 0.5433659038415158, 'enet_selection': 'cyclic'}. Best is trial 175 with value: 9.25720529719135.\u001b[0m\n",
      "\u001b[32m[I 2022-05-19 22:48:21,386]\u001b[0m Trial 201 finished with value: 9.258505138527996 and parameters: {'estimator': 'ElasticNet', 'enet_alpha': 1.1568556669624204, 'enet_l1_ratio': 0.5293972865782657, 'enet_selection': 'cyclic'}. Best is trial 175 with value: 9.25720529719135.\u001b[0m\n",
      "\u001b[32m[I 2022-05-19 22:48:22,686]\u001b[0m Trial 202 finished with value: 9.260076278795863 and parameters: {'estimator': 'ElasticNet', 'enet_alpha': 1.1809318679507332, 'enet_l1_ratio': 0.567550256969633, 'enet_selection': 'cyclic'}. Best is trial 175 with value: 9.25720529719135.\u001b[0m\n",
      "\u001b[32m[I 2022-05-19 22:48:23,981]\u001b[0m Trial 203 finished with value: 9.257208332632374 and parameters: {'estimator': 'ElasticNet', 'enet_alpha': 1.1853063372111257, 'enet_l1_ratio': 0.5346311037159296, 'enet_selection': 'cyclic'}. Best is trial 175 with value: 9.25720529719135.\u001b[0m\n",
      "\u001b[32m[I 2022-05-19 22:48:25,481]\u001b[0m Trial 204 finished with value: 9.278827805681015 and parameters: {'estimator': 'ElasticNet', 'enet_alpha': 1.0122647135674367, 'enet_l1_ratio': 0.5295999993428063, 'enet_selection': 'cyclic'}. Best is trial 175 with value: 9.25720529719135.\u001b[0m\n",
      "\u001b[32m[I 2022-05-19 22:48:27,288]\u001b[0m Trial 205 finished with value: 9.25790968004466 and parameters: {'estimator': 'ElasticNet', 'enet_alpha': 1.2087289811011603, 'enet_l1_ratio': 0.49871322416693525, 'enet_selection': 'cyclic'}. Best is trial 175 with value: 9.25720529719135.\u001b[0m\n",
      "\u001b[32m[I 2022-05-19 22:48:28,771]\u001b[0m Trial 206 finished with value: 9.258005799666348 and parameters: {'estimator': 'ElasticNet', 'enet_alpha': 1.2123947504974792, 'enet_l1_ratio': 0.4959069624471183, 'enet_selection': 'cyclic'}. Best is trial 175 with value: 9.25720529719135.\u001b[0m\n",
      "\u001b[32m[I 2022-05-19 22:48:30,393]\u001b[0m Trial 207 finished with value: 9.279425991829614 and parameters: {'estimator': 'ElasticNet', 'enet_alpha': 1.0399215983495325, 'enet_l1_ratio': 0.5021336347808842, 'enet_selection': 'cyclic'}. Best is trial 175 with value: 9.25720529719135.\u001b[0m\n",
      "\u001b[32m[I 2022-05-19 22:48:31,791]\u001b[0m Trial 208 finished with value: 9.258020904973627 and parameters: {'estimator': 'ElasticNet', 'enet_alpha': 1.2142300586893853, 'enet_l1_ratio': 0.49497874195225045, 'enet_selection': 'cyclic'}. Best is trial 175 with value: 9.25720529719135.\u001b[0m\n",
      "\u001b[32m[I 2022-05-19 22:48:32,989]\u001b[0m Trial 209 finished with value: 11.988704261318603 and parameters: {'estimator': 'SGDRegressor', 'sgd_penalty': 'l1', 'sgd_alpha': 2.5895033024921944e-05, 'sgd_l1_ratio': 0.8467726472199496, 'sgd_eta0': 0.005969283235571076}. Best is trial 175 with value: 9.25720529719135.\u001b[0m\n",
      "\u001b[32m[I 2022-05-19 22:48:34,588]\u001b[0m Trial 210 finished with value: 9.29494884295377 and parameters: {'estimator': 'ElasticNet', 'enet_alpha': 0.9251742573779957, 'enet_l1_ratio': 0.5323087063973511, 'enet_selection': 'cyclic'}. Best is trial 175 with value: 9.25720529719135.\u001b[0m\n",
      "\u001b[32m[I 2022-05-19 22:48:35,897]\u001b[0m Trial 211 finished with value: 9.25796569766493 and parameters: {'estimator': 'ElasticNet', 'enet_alpha': 1.2068723578735412, 'enet_l1_ratio': 0.49874630728162617, 'enet_selection': 'cyclic'}. Best is trial 175 with value: 9.25720529719135.\u001b[0m\n",
      "\u001b[32m[I 2022-05-19 22:48:37,388]\u001b[0m Trial 212 finished with value: 9.258195061496382 and parameters: {'estimator': 'ElasticNet', 'enet_alpha': 1.2188457043372167, 'enet_l1_ratio': 0.4910949902512596, 'enet_selection': 'cyclic'}. Best is trial 175 with value: 9.25720529719135.\u001b[0m\n",
      "\u001b[32m[I 2022-05-19 22:48:38,670]\u001b[0m Trial 213 finished with value: 9.258176318711676 and parameters: {'estimator': 'ElasticNet', 'enet_alpha': 1.2301668593217887, 'enet_l1_ratio': 0.4875252136958306, 'enet_selection': 'cyclic'}. Best is trial 175 with value: 9.25720529719135.\u001b[0m\n",
      "\u001b[32m[I 2022-05-19 22:48:39,891]\u001b[0m Trial 214 finished with value: 9.267456405400836 and parameters: {'estimator': 'ElasticNet', 'enet_alpha': 1.4721239741695653, 'enet_l1_ratio': 0.48877983133267416, 'enet_selection': 'cyclic'}. Best is trial 175 with value: 9.25720529719135.\u001b[0m\n",
      "\u001b[32m[I 2022-05-19 22:48:41,076]\u001b[0m Trial 215 finished with value: 9.257064026711781 and parameters: {'estimator': 'ElasticNet', 'enet_alpha': 1.2435151251571217, 'enet_l1_ratio': 0.5026574109708852, 'enet_selection': 'cyclic'}. Best is trial 215 with value: 9.257064026711781.\u001b[0m\n",
      "\u001b[32m[I 2022-05-19 22:48:42,385]\u001b[0m Trial 216 finished with value: 9.283885915686689 and parameters: {'estimator': 'ElasticNet', 'enet_alpha': 1.0480457921591464, 'enet_l1_ratio': 0.4893579373688569, 'enet_selection': 'cyclic'}. Best is trial 215 with value: 9.257064026711781.\u001b[0m\n",
      "\u001b[32m[I 2022-05-19 22:48:43,684]\u001b[0m Trial 217 finished with value: 9.25699310502959 and parameters: {'estimator': 'ElasticNet', 'enet_alpha': 1.2406550581638163, 'enet_l1_ratio': 0.5058359846791569, 'enet_selection': 'cyclic'}. Best is trial 217 with value: 9.25699310502959.\u001b[0m\n",
      "\u001b[32m[I 2022-05-19 22:48:44,778]\u001b[0m Trial 218 finished with value: 9.265557029594996 and parameters: {'estimator': 'ElasticNet', 'enet_alpha': 1.4232402276834086, 'enet_l1_ratio': 0.5072447110017174, 'enet_selection': 'cyclic'}. Best is trial 217 with value: 9.25699310502959.\u001b[0m\n",
      "\u001b[32m[I 2022-05-19 22:48:45,889]\u001b[0m Trial 219 finished with value: 9.257863763027924 and parameters: {'estimator': 'ElasticNet', 'enet_alpha': 1.2568202299402198, 'enet_l1_ratio': 0.48548351388083916, 'enet_selection': 'cyclic'}. Best is trial 217 with value: 9.25699310502959.\u001b[0m\n",
      "\u001b[32m[I 2022-05-19 22:48:47,275]\u001b[0m Trial 220 finished with value: 9.257823615396445 and parameters: {'estimator': 'ElasticNet', 'enet_alpha': 1.249172814134716, 'enet_l1_ratio': 0.4874441249647488, 'enet_selection': 'cyclic'}. Best is trial 217 with value: 9.25699310502959.\u001b[0m\n",
      "\u001b[32m[I 2022-05-19 22:48:48,580]\u001b[0m Trial 221 finished with value: 9.258018612084234 and parameters: {'estimator': 'ElasticNet', 'enet_alpha': 1.2723085176661668, 'enet_l1_ratio': 0.4811767281565632, 'enet_selection': 'cyclic'}. Best is trial 217 with value: 9.25699310502959.\u001b[0m\n",
      "\u001b[32m[I 2022-05-19 22:48:50,170]\u001b[0m Trial 222 finished with value: 9.25990312103056 and parameters: {'estimator': 'ElasticNet', 'enet_alpha': 1.3561776520104156, 'enet_l1_ratio': 0.4855218049320187, 'enet_selection': 'cyclic'}. Best is trial 217 with value: 9.25699310502959.\u001b[0m\n",
      "\u001b[32m[I 2022-05-19 22:48:51,487]\u001b[0m Trial 223 finished with value: 9.2572842989699 and parameters: {'estimator': 'ElasticNet', 'enet_alpha': 1.2631387047230727, 'enet_l1_ratio': 0.5070110088422044, 'enet_selection': 'cyclic'}. Best is trial 217 with value: 9.25699310502959.\u001b[0m\n",
      "\u001b[32m[I 2022-05-19 22:48:53,066]\u001b[0m Trial 224 finished with value: 9.279444585808987 and parameters: {'estimator': 'ElasticNet', 'enet_alpha': 1.5562777201874036, 'enet_l1_ratio': 0.50496242112267, 'enet_selection': 'cyclic'}. Best is trial 217 with value: 9.25699310502959.\u001b[0m\n",
      "\u001b[32m[I 2022-05-19 22:48:54,476]\u001b[0m Trial 225 finished with value: 9.259161255713076 and parameters: {'estimator': 'ElasticNet', 'enet_alpha': 1.2458940993944807, 'enet_l1_ratio': 0.479142068738226, 'enet_selection': 'cyclic'}. Best is trial 217 with value: 9.25699310502959.\u001b[0m\n",
      "\u001b[32m[I 2022-05-19 22:48:55,875]\u001b[0m Trial 226 finished with value: 9.264688618977853 and parameters: {'estimator': 'ElasticNet', 'enet_alpha': 1.4377301638590358, 'enet_l1_ratio': 0.4839805431961386, 'enet_selection': 'cyclic'}. Best is trial 217 with value: 9.25699310502959.\u001b[0m\n",
      "\u001b[32m[I 2022-05-19 22:48:58,287]\u001b[0m Trial 227 finished with value: 12.801686422322263 and parameters: {'estimator': 'LinearRegression'}. Best is trial 217 with value: 9.25699310502959.\u001b[0m\n",
      "\u001b[32m[I 2022-05-19 22:48:59,989]\u001b[0m Trial 228 finished with value: 9.257057521268246 and parameters: {'estimator': 'ElasticNet', 'enet_alpha': 1.2422937390449502, 'enet_l1_ratio': 0.5033803975506128, 'enet_selection': 'cyclic'}. Best is trial 217 with value: 9.25699310502959.\u001b[0m\n",
      "\u001b[32m[I 2022-05-19 22:49:01,774]\u001b[0m Trial 229 finished with value: 9.258511802162515 and parameters: {'estimator': 'ElasticNet', 'enet_alpha': 1.30213841426702, 'enet_l1_ratio': 0.5060135997911308, 'enet_selection': 'cyclic'}. Best is trial 217 with value: 9.25699310502959.\u001b[0m\n",
      "\u001b[32m[I 2022-05-19 22:49:04,308]\u001b[0m Trial 230 finished with value: 12.758886415384483 and parameters: {'estimator': 'Ridge', 'ridge_alpha': 0.48127841588706893, 'ridge_solver': 'sag'}. Best is trial 217 with value: 9.25699310502959.\u001b[0m\n",
      "\u001b[32m[I 2022-05-19 22:49:05,776]\u001b[0m Trial 231 finished with value: 9.257058062999754 and parameters: {'estimator': 'ElasticNet', 'enet_alpha': 1.257982242534937, 'enet_l1_ratio': 0.504249309385767, 'enet_selection': 'cyclic'}. Best is trial 217 with value: 9.25699310502959.\u001b[0m\n",
      "\u001b[32m[I 2022-05-19 22:49:07,381]\u001b[0m Trial 232 finished with value: 9.257084731102127 and parameters: {'estimator': 'ElasticNet', 'enet_alpha': 1.2630980429749452, 'enet_l1_ratio': 0.5002168459502889, 'enet_selection': 'cyclic'}. Best is trial 217 with value: 9.25699310502959.\u001b[0m\n",
      "\u001b[32m[I 2022-05-19 22:49:08,581]\u001b[0m Trial 233 finished with value: 9.262686042035847 and parameters: {'estimator': 'ElasticNet', 'enet_alpha': 1.3743870152926982, 'enet_l1_ratio': 0.5139112079527121, 'enet_selection': 'cyclic'}. Best is trial 217 with value: 9.25699310502959.\u001b[0m\n",
      "\u001b[32m[I 2022-05-19 22:49:10,080]\u001b[0m Trial 234 finished with value: 9.27191667535225 and parameters: {'estimator': 'ElasticNet', 'enet_alpha': 1.5432466617368739, 'enet_l1_ratio': 0.469949347731405, 'enet_selection': 'cyclic'}. Best is trial 217 with value: 9.25699310502959.\u001b[0m\n",
      "\u001b[32m[I 2022-05-19 22:49:11,571]\u001b[0m Trial 235 finished with value: 9.257777892078616 and parameters: {'estimator': 'ElasticNet', 'enet_alpha': 1.290343198294353, 'enet_l1_ratio': 0.4998280360807164, 'enet_selection': 'cyclic'}. Best is trial 217 with value: 9.25699310502959.\u001b[0m\n",
      "\u001b[32m[I 2022-05-19 22:49:12,982]\u001b[0m Trial 236 finished with value: 9.263717620512246 and parameters: {'estimator': 'ElasticNet', 'enet_alpha': 1.4037375961113552, 'enet_l1_ratio': 0.5045391908763861, 'enet_selection': 'cyclic'}. Best is trial 217 with value: 9.25699310502959.\u001b[0m\n",
      "\u001b[32m[I 2022-05-19 22:49:14,265]\u001b[0m Trial 237 finished with value: 9.31264248424497 and parameters: {'estimator': 'ElasticNet', 'enet_alpha': 1.0531766592169731, 'enet_l1_ratio': 0.4403532984158021, 'enet_selection': 'cyclic'}. Best is trial 217 with value: 9.25699310502959.\u001b[0m\n",
      "\u001b[32m[I 2022-05-19 22:49:15,787]\u001b[0m Trial 238 finished with value: 9.25925061020627 and parameters: {'estimator': 'ElasticNet', 'enet_alpha': 1.3086662122927875, 'enet_l1_ratio': 0.5128931810608534, 'enet_selection': 'cyclic'}. Best is trial 217 with value: 9.25699310502959.\u001b[0m\n",
      "\u001b[32m[I 2022-05-19 22:49:16,682]\u001b[0m Trial 239 finished with value: 10.087036543490962 and parameters: {'estimator': 'Lars', 'lars_nz_coefs': 2, 'lars_jitter': 0.0166955841138628}. Best is trial 217 with value: 9.25699310502959.\u001b[0m\n",
      "\u001b[32m[I 2022-05-19 22:49:18,269]\u001b[0m Trial 240 finished with value: 9.28656755303401 and parameters: {'estimator': 'ElasticNet', 'enet_alpha': 1.65140899341616, 'enet_l1_ratio': 0.47506617426346914, 'enet_selection': 'cyclic'}. Best is trial 217 with value: 9.25699310502959.\u001b[0m\n",
      "\u001b[32m[I 2022-05-19 22:49:19,570]\u001b[0m Trial 241 finished with value: 9.257504786931465 and parameters: {'estimator': 'ElasticNet', 'enet_alpha': 1.2567957820646225, 'enet_l1_ratio': 0.49078808344618247, 'enet_selection': 'cyclic'}. Best is trial 217 with value: 9.25699310502959.\u001b[0m\n",
      "\u001b[32m[I 2022-05-19 22:49:20,785]\u001b[0m Trial 242 finished with value: 9.277710944409058 and parameters: {'estimator': 'ElasticNet', 'enet_alpha': 1.0491220655770144, 'enet_l1_ratio': 0.5016850388081067, 'enet_selection': 'cyclic'}. Best is trial 217 with value: 9.25699310502959.\u001b[0m\n",
      "\u001b[32m[I 2022-05-19 22:49:22,183]\u001b[0m Trial 243 finished with value: 9.257712552091432 and parameters: {'estimator': 'ElasticNet', 'enet_alpha': 1.2622414336896584, 'enet_l1_ratio': 0.5150202570977892, 'enet_selection': 'cyclic'}. Best is trial 217 with value: 9.25699310502959.\u001b[0m\n",
      "\u001b[32m[I 2022-05-19 22:49:23,488]\u001b[0m Trial 244 finished with value: 9.257409621293379 and parameters: {'estimator': 'ElasticNet', 'enet_alpha': 1.2671404142717606, 'enet_l1_ratio': 0.4906478381598442, 'enet_selection': 'cyclic'}. Best is trial 217 with value: 9.25699310502959.\u001b[0m\n",
      "\u001b[32m[I 2022-05-19 22:49:24,888]\u001b[0m Trial 245 finished with value: 9.25919879937907 and parameters: {'estimator': 'ElasticNet', 'enet_alpha': 1.3401266008864454, 'enet_l1_ratio': 0.47076874709569705, 'enet_selection': 'cyclic'}. Best is trial 217 with value: 9.25699310502959.\u001b[0m\n",
      "\u001b[32m[I 2022-05-19 22:49:26,373]\u001b[0m Trial 246 finished with value: 9.271913276424579 and parameters: {'estimator': 'ElasticNet', 'enet_alpha': 1.480620963167157, 'enet_l1_ratio': 0.5165769903592151, 'enet_selection': 'cyclic'}. Best is trial 217 with value: 9.25699310502959.\u001b[0m\n",
      "\u001b[32m[I 2022-05-19 22:49:27,684]\u001b[0m Trial 247 finished with value: 9.25811047405149 and parameters: {'estimator': 'ElasticNet', 'enet_alpha': 1.282330669622932, 'enet_l1_ratio': 0.4789635870203916, 'enet_selection': 'cyclic'}. Best is trial 217 with value: 9.25699310502959.\u001b[0m\n",
      "\u001b[32m[I 2022-05-19 22:49:28,884]\u001b[0m Trial 248 finished with value: 9.257872405753789 and parameters: {'estimator': 'ElasticNet', 'enet_alpha': 1.2652311275510377, 'enet_l1_ratio': 0.5161180334192585, 'enet_selection': 'cyclic'}. Best is trial 217 with value: 9.25699310502959.\u001b[0m\n",
      "\u001b[32m[I 2022-05-19 22:49:30,771]\u001b[0m Trial 249 finished with value: 10.062575754228721 and parameters: {'estimator': 'ElasticNet', 'enet_alpha': 0.10256452569667153, 'enet_l1_ratio': 0.517899089786194, 'enet_selection': 'cyclic'}. Best is trial 217 with value: 9.25699310502959.\u001b[0m\n",
      "\u001b[32m[I 2022-05-19 22:49:32,096]\u001b[0m Trial 250 finished with value: 9.266660561028344 and parameters: {'estimator': 'ElasticNet', 'enet_alpha': 1.4435190272857759, 'enet_l1_ratio': 0.5028650392024508, 'enet_selection': 'cyclic'}. Best is trial 217 with value: 9.25699310502959.\u001b[0m\n",
      "\u001b[32m[I 2022-05-19 22:49:33,781]\u001b[0m Trial 251 finished with value: 9.272547112135321 and parameters: {'estimator': 'ElasticNet', 'enet_alpha': 1.0649137410762486, 'enet_l1_ratio': 0.5141002074663915, 'enet_selection': 'cyclic'}. Best is trial 217 with value: 9.25699310502959.\u001b[0m\n",
      "\u001b[32m[I 2022-05-19 22:49:35,483]\u001b[0m Trial 252 finished with value: 9.266578012597158 and parameters: {'estimator': 'ElasticNet', 'enet_alpha': 1.339614139337074, 'enet_l1_ratio': 0.4477342216985126, 'enet_selection': 'cyclic'}. Best is trial 217 with value: 9.25699310502959.\u001b[0m\n",
      "\u001b[32m[I 2022-05-19 22:49:36,688]\u001b[0m Trial 253 finished with value: 13.427998788944697 and parameters: {'estimator': 'SGDRegressor', 'sgd_penalty': 'elasticnet', 'sgd_alpha': 0.0008743334322024322, 'sgd_l1_ratio': 0.20411273327403817, 'sgd_eta0': 0.044363943520672064}. Best is trial 217 with value: 9.25699310502959.\u001b[0m\n",
      "\u001b[32m[I 2022-05-19 22:49:38,192]\u001b[0m Trial 254 finished with value: 9.257642780849329 and parameters: {'estimator': 'ElasticNet', 'enet_alpha': 1.240611429224544, 'enet_l1_ratio': 0.49202337272796937, 'enet_selection': 'cyclic'}. Best is trial 217 with value: 9.25699310502959.\u001b[0m\n",
      "\u001b[32m[I 2022-05-19 22:49:39,584]\u001b[0m Trial 255 finished with value: 9.268441720259933 and parameters: {'estimator': 'ElasticNet', 'enet_alpha': 1.0819228701211139, 'enet_l1_ratio': 0.5211684525473318, 'enet_selection': 'cyclic'}. Best is trial 217 with value: 9.25699310502959.\u001b[0m\n",
      "\u001b[32m[I 2022-05-19 22:49:41,097]\u001b[0m Trial 256 finished with value: 9.257511336793822 and parameters: {'estimator': 'ElasticNet', 'enet_alpha': 1.2332519602889063, 'enet_l1_ratio': 0.49612881417874405, 'enet_selection': 'cyclic'}. Best is trial 217 with value: 9.25699310502959.\u001b[0m\n",
      "\u001b[32m[I 2022-05-19 22:49:42,668]\u001b[0m Trial 257 finished with value: 9.2895007646106 and parameters: {'estimator': 'ElasticNet', 'enet_alpha': 1.535074610655596, 'enet_l1_ratio': 0.5429780126080497, 'enet_selection': 'cyclic'}. Best is trial 217 with value: 9.25699310502959.\u001b[0m\n",
      "\u001b[32m[I 2022-05-19 22:49:44,075]\u001b[0m Trial 258 finished with value: 9.31951866926709 and parameters: {'estimator': 'ElasticNet', 'enet_alpha': 0.978829776413486, 'enet_l1_ratio': 0.46242059137317687, 'enet_selection': 'cyclic'}. Best is trial 217 with value: 9.25699310502959.\u001b[0m\n",
      "\u001b[32m[I 2022-05-19 22:49:45,679]\u001b[0m Trial 259 finished with value: 9.801711886939717 and parameters: {'estimator': 'ElasticNet', 'enet_alpha': 0.16872594997791077, 'enet_l1_ratio': 0.5216793611777844, 'enet_selection': 'cyclic'}. Best is trial 217 with value: 9.25699310502959.\u001b[0m\n",
      "\u001b[32m[I 2022-05-19 22:49:46,984]\u001b[0m Trial 260 finished with value: 9.263165798744481 and parameters: {'estimator': 'ElasticNet', 'enet_alpha': 1.405599709490769, 'enet_l1_ratio': 0.494612416578353, 'enet_selection': 'cyclic'}. Best is trial 217 with value: 9.25699310502959.\u001b[0m\n",
      "\u001b[32m[I 2022-05-19 22:49:48,264]\u001b[0m Trial 261 finished with value: 9.256957585250492 and parameters: {'estimator': 'ElasticNet', 'enet_alpha': 1.2257448682650798, 'enet_l1_ratio': 0.5168170077333486, 'enet_selection': 'cyclic'}. Best is trial 261 with value: 9.256957585250492.\u001b[0m\n",
      "\u001b[32m[I 2022-05-19 22:49:49,473]\u001b[0m Trial 262 finished with value: 9.263795526319326 and parameters: {'estimator': 'ElasticNet', 'enet_alpha': 1.3415066123306385, 'enet_l1_ratio': 0.5441374168806974, 'enet_selection': 'cyclic'}. Best is trial 261 with value: 9.256957585250492.\u001b[0m\n",
      "\u001b[32m[I 2022-05-19 22:49:50,887]\u001b[0m Trial 263 finished with value: 9.560461279021188 and parameters: {'estimator': 'ElasticNet', 'enet_alpha': 1.075715705184276, 'enet_l1_ratio': 0.1624281762576671, 'enet_selection': 'cyclic'}. Best is trial 261 with value: 9.256957585250492.\u001b[0m\n",
      "\u001b[32m[I 2022-05-19 22:49:52,188]\u001b[0m Trial 264 finished with value: 9.25707593337896 and parameters: {'estimator': 'ElasticNet', 'enet_alpha': 1.2209729313848205, 'enet_l1_ratio': 0.5222605023278214, 'enet_selection': 'cyclic'}. Best is trial 261 with value: 9.256957585250492.\u001b[0m\n",
      "\u001b[32m[I 2022-05-19 22:49:54,468]\u001b[0m Trial 265 finished with value: 12.801686422322263 and parameters: {'estimator': 'LinearRegression'}. Best is trial 261 with value: 9.256957585250492.\u001b[0m\n",
      "\u001b[32m[I 2022-05-19 22:49:55,690]\u001b[0m Trial 266 finished with value: 9.315183380515377 and parameters: {'estimator': 'ElasticNet', 'enet_alpha': 1.620912487047754, 'enet_l1_ratio': 0.5540150848132825, 'enet_selection': 'cyclic'}. Best is trial 261 with value: 9.256957585250492.\u001b[0m\n",
      "\u001b[32m[I 2022-05-19 22:49:58,705]\u001b[0m Trial 267 finished with value: 12.439233911523752 and parameters: {'estimator': 'Ridge', 'ridge_alpha': 8.636047120267735, 'ridge_solver': 'saga'}. Best is trial 261 with value: 9.256957585250492.\u001b[0m\n",
      "\u001b[32m[I 2022-05-19 22:50:00,076]\u001b[0m Trial 268 finished with value: 9.257881136417849 and parameters: {'estimator': 'ElasticNet', 'enet_alpha': 1.2542072597122738, 'enet_l1_ratio': 0.5222636853785304, 'enet_selection': 'cyclic'}. Best is trial 261 with value: 9.256957585250492.\u001b[0m\n",
      "\u001b[32m[I 2022-05-19 22:50:01,691]\u001b[0m Trial 269 finished with value: 9.260715639332934 and parameters: {'estimator': 'ElasticNet', 'enet_alpha': 1.100764864735462, 'enet_l1_ratio': 0.5499514617533651, 'enet_selection': 'cyclic'}. Best is trial 261 with value: 9.256957585250492.\u001b[0m\n",
      "\u001b[32m[I 2022-05-19 22:50:02,890]\u001b[0m Trial 270 finished with value: 9.266044397156996 and parameters: {'estimator': 'ElasticNet', 'enet_alpha': 1.4053571614866365, 'enet_l1_ratio': 0.5228018894276132, 'enet_selection': 'cyclic'}. Best is trial 261 with value: 9.256957585250492.\u001b[0m\n",
      "\u001b[32m[I 2022-05-19 22:50:04,172]\u001b[0m Trial 271 finished with value: 20.809544551847434 and parameters: {'estimator': 'Lars', 'lars_nz_coefs': 49, 'lars_jitter': 0.05774805808244471}. Best is trial 261 with value: 9.256957585250492.\u001b[0m\n",
      "\u001b[32m[I 2022-05-19 22:50:05,582]\u001b[0m Trial 272 finished with value: 9.316811718746566 and parameters: {'estimator': 'ElasticNet', 'enet_alpha': 0.9782296885359005, 'enet_l1_ratio': 0.4663881009190878, 'enet_selection': 'cyclic'}. Best is trial 261 with value: 9.256957585250492.\u001b[0m\n",
      "\u001b[32m[I 2022-05-19 22:50:07,269]\u001b[0m Trial 273 finished with value: 9.257180937391391 and parameters: {'estimator': 'ElasticNet', 'enet_alpha': 1.2450676831257466, 'enet_l1_ratio': 0.5141302935314304, 'enet_selection': 'cyclic'}. Best is trial 261 with value: 9.256957585250492.\u001b[0m\n",
      "\u001b[32m[I 2022-05-19 22:50:08,693]\u001b[0m Trial 274 finished with value: 9.301863880628748 and parameters: {'estimator': 'ElasticNet', 'enet_alpha': 1.08714718561017, 'enet_l1_ratio': 0.4422578911733068, 'enet_selection': 'cyclic'}. Best is trial 261 with value: 9.256957585250492.\u001b[0m\n",
      "\u001b[32m[I 2022-05-19 22:50:10,085]\u001b[0m Trial 275 finished with value: 9.268266388546596 and parameters: {'estimator': 'ElasticNet', 'enet_alpha': 1.4871489172866892, 'enet_l1_ratio': 0.48365347531496916, 'enet_selection': 'cyclic'}. Best is trial 261 with value: 9.256957585250492.\u001b[0m\n",
      "\u001b[32m[I 2022-05-19 22:50:11,390]\u001b[0m Trial 276 finished with value: 9.357179751380286 and parameters: {'estimator': 'ElasticNet', 'enet_alpha': 1.7978710302410557, 'enet_l1_ratio': 0.5533078788339163, 'enet_selection': 'cyclic'}. Best is trial 261 with value: 9.256957585250492.\u001b[0m\n",
      "\u001b[32m[I 2022-05-19 22:50:12,888]\u001b[0m Trial 277 finished with value: 9.2573424324761 and parameters: {'estimator': 'ElasticNet', 'enet_alpha': 1.2227596403252652, 'enet_l1_ratio': 0.50425954696452, 'enet_selection': 'cyclic'}. Best is trial 261 with value: 9.256957585250492.\u001b[0m\n",
      "\u001b[32m[I 2022-05-19 22:50:13,973]\u001b[0m Trial 278 finished with value: 9.260006982985727 and parameters: {'estimator': 'ElasticNet', 'enet_alpha': 1.1278388226294995, 'enet_l1_ratio': 0.5291475498186027, 'enet_selection': 'cyclic'}. Best is trial 261 with value: 9.256957585250492.\u001b[0m\n",
      "\u001b[32m[I 2022-05-19 22:50:15,579]\u001b[0m Trial 279 finished with value: 9.25962407555666 and parameters: {'estimator': 'ElasticNet', 'enet_alpha': 1.327424007167135, 'enet_l1_ratio': 0.506343759481672, 'enet_selection': 'cyclic'}. Best is trial 261 with value: 9.256957585250492.\u001b[0m\n",
      "\u001b[32m[I 2022-05-19 22:50:16,633]\u001b[0m Trial 280 finished with value: 11.723904533840804 and parameters: {'estimator': 'SGDRegressor', 'sgd_penalty': 'l1', 'sgd_alpha': 1.002565928295905e-05, 'sgd_l1_ratio': 0.5793623778043824, 'sgd_eta0': 0.00809727927943823}. Best is trial 261 with value: 9.256957585250492.\u001b[0m\n",
      "\u001b[32m[I 2022-05-19 22:50:18,166]\u001b[0m Trial 281 finished with value: 9.257573478779381 and parameters: {'estimator': 'ElasticNet', 'enet_alpha': 1.1738151296076604, 'enet_l1_ratio': 0.549172087672733, 'enet_selection': 'cyclic'}. Best is trial 261 with value: 9.256957585250492.\u001b[0m\n",
      "\u001b[32m[I 2022-05-19 22:50:19,466]\u001b[0m Trial 282 finished with value: 9.275594861198703 and parameters: {'estimator': 'ElasticNet', 'enet_alpha': 0.9873744233275166, 'enet_l1_ratio': 0.5582233332552518, 'enet_selection': 'cyclic'}. Best is trial 261 with value: 9.256957585250492.\u001b[0m\n",
      "\u001b[32m[I 2022-05-19 22:50:20,874]\u001b[0m Trial 283 finished with value: 9.257159130182336 and parameters: {'estimator': 'ElasticNet', 'enet_alpha': 1.1850001597359532, 'enet_l1_ratio': 0.5363351530261065, 'enet_selection': 'cyclic'}. Best is trial 261 with value: 9.256957585250492.\u001b[0m\n",
      "\u001b[32m[I 2022-05-19 22:50:22,179]\u001b[0m Trial 284 finished with value: 9.25805170331638 and parameters: {'estimator': 'ElasticNet', 'enet_alpha': 1.1490202436904244, 'enet_l1_ratio': 0.547249144539185, 'enet_selection': 'cyclic'}. Best is trial 261 with value: 9.256957585250492.\u001b[0m\n",
      "\u001b[32m[I 2022-05-19 22:50:23,787]\u001b[0m Trial 285 finished with value: 9.266467118019525 and parameters: {'estimator': 'ElasticNet', 'enet_alpha': 1.381977820508163, 'enet_l1_ratio': 0.5412474626268142, 'enet_selection': 'cyclic'}. Best is trial 261 with value: 9.256957585250492.\u001b[0m\n",
      "\u001b[32m[I 2022-05-19 22:50:24,990]\u001b[0m Trial 286 finished with value: 9.262108695905463 and parameters: {'estimator': 'ElasticNet', 'enet_alpha': 1.072715953602343, 'enet_l1_ratio': 0.5690455006447411, 'enet_selection': 'cyclic'}. Best is trial 261 with value: 9.256957585250492.\u001b[0m\n",
      "\u001b[32m[I 2022-05-19 22:50:26,481]\u001b[0m Trial 287 finished with value: 9.27897902615564 and parameters: {'estimator': 'ElasticNet', 'enet_alpha': 0.9245073807709702, 'enet_l1_ratio': 0.6062956117175827, 'enet_selection': 'cyclic'}. Best is trial 261 with value: 9.256957585250492.\u001b[0m\n",
      "\u001b[32m[I 2022-05-19 22:50:27,889]\u001b[0m Trial 288 finished with value: 9.275037147230076 and parameters: {'estimator': 'ElasticNet', 'enet_alpha': 1.522974155350401, 'enet_l1_ratio': 0.5092200247757509, 'enet_selection': 'cyclic'}. Best is trial 261 with value: 9.256957585250492.\u001b[0m\n",
      "\u001b[32m[I 2022-05-19 22:50:29,191]\u001b[0m Trial 289 finished with value: 9.25709639789502 and parameters: {'estimator': 'ElasticNet', 'enet_alpha': 1.210230664506314, 'enet_l1_ratio': 0.5268110683865088, 'enet_selection': 'cyclic'}. Best is trial 261 with value: 9.256957585250492.\u001b[0m\n",
      "\u001b[32m[I 2022-05-19 22:50:32,384]\u001b[0m Trial 290 finished with value: 12.801686422322263 and parameters: {'estimator': 'LinearRegression'}. Best is trial 261 with value: 9.256957585250492.\u001b[0m\n",
      "\u001b[32m[I 2022-05-19 22:50:33,772]\u001b[0m Trial 291 finished with value: 9.25715543360092 and parameters: {'estimator': 'ElasticNet', 'enet_alpha': 1.2020829944121778, 'enet_l1_ratio': 0.5307930845786489, 'enet_selection': 'cyclic'}. Best is trial 261 with value: 9.256957585250492.\u001b[0m\n",
      "\u001b[32m[I 2022-05-19 22:50:35,092]\u001b[0m Trial 292 finished with value: 9.259729918213017 and parameters: {'estimator': 'ElasticNet', 'enet_alpha': 1.1752028238627081, 'enet_l1_ratio': 0.5663305218726978, 'enet_selection': 'cyclic'}. Best is trial 261 with value: 9.256957585250492.\u001b[0m\n",
      "\u001b[32m[I 2022-05-19 22:50:36,291]\u001b[0m Trial 293 finished with value: 9.277536364973493 and parameters: {'estimator': 'ElasticNet', 'enet_alpha': 1.0064403060984382, 'enet_l1_ratio': 0.5395171116266372, 'enet_selection': 'cyclic'}. Best is trial 261 with value: 9.256957585250492.\u001b[0m\n",
      "\u001b[32m[I 2022-05-19 22:50:38,667]\u001b[0m Trial 294 finished with value: 12.634569116328953 and parameters: {'estimator': 'Ridge', 'ridge_alpha': 3.4037730165420643, 'ridge_solver': 'sag'}. Best is trial 261 with value: 9.256957585250492.\u001b[0m\n",
      "\u001b[32m[I 2022-05-19 22:50:39,990]\u001b[0m Trial 295 finished with value: 9.265768077538423 and parameters: {'estimator': 'ElasticNet', 'enet_alpha': 1.0901151613857503, 'enet_l1_ratio': 0.5285257001679631, 'enet_selection': 'cyclic'}. Best is trial 261 with value: 9.256957585250492.\u001b[0m\n",
      "\u001b[32m[I 2022-05-19 22:50:41,379]\u001b[0m Trial 296 finished with value: 9.258979089105901 and parameters: {'estimator': 'ElasticNet', 'enet_alpha': 1.1939542399314145, 'enet_l1_ratio': 0.5608938491005877, 'enet_selection': 'cyclic'}. Best is trial 261 with value: 9.256957585250492.\u001b[0m\n",
      "\u001b[32m[I 2022-05-19 22:50:42,686]\u001b[0m Trial 297 finished with value: 9.294157660077879 and parameters: {'estimator': 'ElasticNet', 'enet_alpha': 1.4262803711870653, 'enet_l1_ratio': 0.5943303642523239, 'enet_selection': 'cyclic'}. Best is trial 261 with value: 9.256957585250492.\u001b[0m\n",
      "\u001b[32m[I 2022-05-19 22:50:43,665]\u001b[0m Trial 298 finished with value: 10.087011094877443 and parameters: {'estimator': 'Lars', 'lars_nz_coefs': 2, 'lars_jitter': 0.01761567270046364}. Best is trial 261 with value: 9.256957585250492.\u001b[0m\n",
      "\u001b[32m[I 2022-05-19 22:50:44,892]\u001b[0m Trial 299 finished with value: 9.814323567216558 and parameters: {'estimator': 'ElasticNet', 'enet_alpha': 3.6392723200246735, 'enet_l1_ratio': 0.5212969133898651, 'enet_selection': 'cyclic'}. Best is trial 261 with value: 9.256957585250492.\u001b[0m\n"
     ]
    },
    {
     "name": "stdout",
     "output_type": "stream",
     "text": [
      "Best model:\n"
     ]
    },
    {
     "data": {
      "text/plain": [
       "{'estimator': 'ElasticNet',\n",
       " 'enet_alpha': 1.2257448682650798,\n",
       " 'enet_l1_ratio': 0.5168170077333486,\n",
       " 'enet_selection': 'cyclic'}"
      ]
     },
     "metadata": {},
     "output_type": "display_data"
    },
    {
     "name": "stdout",
     "output_type": "stream",
     "text": [
      "Best model CV mean train error: 9.256957585250492\n",
      "CPU times: user 3min 47s, sys: 3min 50s, total: 7min 37s\n",
      "Wall time: 7min 39s\n"
     ]
    }
   ],
   "source": [
    "%%time\n",
    "\n",
    "study = optuna.create_study(\n",
    "    sampler=optuna.samplers.TPESampler(seed=RS), \n",
    "    direction='minimize', \n",
    "    study_name='Linear Models'\n",
    ")\n",
    "study.optimize(objective, n_trials=300)\n",
    "\n",
    "print('Best model:')\n",
    "display(study.best_params)\n",
    "print('Best model CV mean train error:', study.best_value)"
   ]
  },
  {
   "cell_type": "markdown",
   "metadata": {},
   "source": [
    "Протестируем лучшую модель на тестовом датасете."
   ]
  },
  {
   "cell_type": "code",
   "execution_count": 33,
   "metadata": {},
   "outputs": [
    {
     "name": "stdout",
     "output_type": "stream",
     "text": [
      "Best model train error: 7.752565010344884\n",
      "Best model test error: 6.3521001216673785\n"
     ]
    }
   ],
   "source": [
    "pipe.set_params(estimator=MultiOutputRegressor(ElasticNet(\n",
    "    alpha=1.2257448682650798,\n",
    "    l1_ratio=0.5168170077333486,\n",
    "    selection='cyclic',\n",
    "    random_state=RS,\n",
    ")))\n",
    "pipe.fit(X_train, y_train)\n",
    "print('Best model train error:', smape(y_train, pipe.predict(X_train)))\n",
    "print('Best model test error:', smape(y_test, pipe.predict(X_test)))"
   ]
  },
  {
   "cell_type": "markdown",
   "metadata": {},
   "source": [
    "Итоговый `sMAPE` лучшей модели на тестовом датесете – 6,35% – не сильно отличается от `sMAPE` медианной дамми-модели – 7,38%. Это значит, что либо выбранные для тестирования модели не очень подходят для решаемой задачи, либо сама задача (данные) не очень поддается такого рода моделированию."
   ]
  },
  {
   "cell_type": "code",
   "execution_count": null,
   "metadata": {},
   "outputs": [],
   "source": []
  }
 ],
 "metadata": {
  "ExecuteTimeLog": [
   {
    "duration": 1496,
    "start_time": "2022-05-15T18:44:27.035Z"
   },
   {
    "duration": 872,
    "start_time": "2022-05-15T18:45:20.751Z"
   },
   {
    "duration": 87,
    "start_time": "2022-05-15T18:45:32.865Z"
   },
   {
    "duration": 232,
    "start_time": "2022-05-15T18:46:19.630Z"
   },
   {
    "duration": 237,
    "start_time": "2022-05-15T18:46:57.882Z"
   },
   {
    "duration": 230,
    "start_time": "2022-05-15T18:47:12.548Z"
   },
   {
    "duration": 226,
    "start_time": "2022-05-15T18:47:17.027Z"
   },
   {
    "duration": 4,
    "start_time": "2022-05-15T18:51:02.781Z"
   },
   {
    "duration": 5,
    "start_time": "2022-05-15T18:51:14.184Z"
   },
   {
    "duration": 5,
    "start_time": "2022-05-15T19:04:37.267Z"
   },
   {
    "duration": 4,
    "start_time": "2022-05-15T19:04:55.791Z"
   },
   {
    "duration": 5,
    "start_time": "2022-05-15T19:04:59.365Z"
   },
   {
    "duration": 7,
    "start_time": "2022-05-15T19:10:00.600Z"
   },
   {
    "duration": 5,
    "start_time": "2022-05-15T19:10:57.227Z"
   },
   {
    "duration": 17,
    "start_time": "2022-05-15T19:11:36.361Z"
   },
   {
    "duration": 13,
    "start_time": "2022-05-15T19:12:21.117Z"
   },
   {
    "duration": 5,
    "start_time": "2022-05-15T19:12:33.822Z"
   },
   {
    "duration": 12,
    "start_time": "2022-05-15T19:13:02.172Z"
   },
   {
    "duration": 5,
    "start_time": "2022-05-15T19:14:23.174Z"
   },
   {
    "duration": 111,
    "start_time": "2022-05-15T19:16:31.841Z"
   },
   {
    "duration": 6,
    "start_time": "2022-05-15T19:19:03.894Z"
   },
   {
    "duration": 18,
    "start_time": "2022-05-15T19:22:50.486Z"
   },
   {
    "duration": 19,
    "start_time": "2022-05-15T19:23:10.554Z"
   },
   {
    "duration": 599,
    "start_time": "2022-05-15T19:24:11.542Z"
   },
   {
    "duration": 41,
    "start_time": "2022-05-15T19:25:09.150Z"
   },
   {
    "duration": 16,
    "start_time": "2022-05-15T19:25:28.596Z"
   },
   {
    "duration": 11,
    "start_time": "2022-05-15T19:26:22.887Z"
   },
   {
    "duration": 6,
    "start_time": "2022-05-15T19:27:17.098Z"
   },
   {
    "duration": 13,
    "start_time": "2022-05-15T19:27:33.397Z"
   },
   {
    "duration": 11,
    "start_time": "2022-05-15T19:27:39.716Z"
   },
   {
    "duration": 74,
    "start_time": "2022-05-15T19:29:28.327Z"
   },
   {
    "duration": 29,
    "start_time": "2022-05-15T19:30:23.691Z"
   },
   {
    "duration": 16,
    "start_time": "2022-05-15T19:31:13.336Z"
   },
   {
    "duration": 23,
    "start_time": "2022-05-15T19:31:17.569Z"
   },
   {
    "duration": 13,
    "start_time": "2022-05-15T19:31:23.985Z"
   },
   {
    "duration": 23,
    "start_time": "2022-05-15T19:31:28.200Z"
   },
   {
    "duration": 4,
    "start_time": "2022-05-15T19:32:44.528Z"
   },
   {
    "duration": 16,
    "start_time": "2022-05-15T19:33:05.066Z"
   },
   {
    "duration": 24,
    "start_time": "2022-05-15T19:33:28.699Z"
   },
   {
    "duration": 37,
    "start_time": "2022-05-15T19:35:34.480Z"
   },
   {
    "duration": 50,
    "start_time": "2022-05-15T19:36:02.771Z"
   },
   {
    "duration": 51,
    "start_time": "2022-05-15T19:36:12.062Z"
   },
   {
    "duration": 44,
    "start_time": "2022-05-15T19:37:31.388Z"
   },
   {
    "duration": 44,
    "start_time": "2022-05-15T19:37:54.135Z"
   },
   {
    "duration": 46,
    "start_time": "2022-05-15T19:40:29.138Z"
   },
   {
    "duration": 24,
    "start_time": "2022-05-15T19:42:37.227Z"
   },
   {
    "duration": 6,
    "start_time": "2022-05-15T19:44:36.706Z"
   },
   {
    "duration": 32,
    "start_time": "2022-05-15T19:45:42.903Z"
   },
   {
    "duration": 3,
    "start_time": "2022-05-15T19:45:51.046Z"
   },
   {
    "duration": 4,
    "start_time": "2022-05-15T19:46:10.271Z"
   },
   {
    "duration": 3,
    "start_time": "2022-05-15T19:46:39.249Z"
   },
   {
    "duration": 21,
    "start_time": "2022-05-15T19:47:00.005Z"
   },
   {
    "duration": 18,
    "start_time": "2022-05-15T19:47:21.879Z"
   },
   {
    "duration": 28,
    "start_time": "2022-05-15T19:48:49.351Z"
   },
   {
    "duration": 25,
    "start_time": "2022-05-15T19:49:13.155Z"
   },
   {
    "duration": 27,
    "start_time": "2022-05-15T19:49:21.203Z"
   },
   {
    "duration": 3,
    "start_time": "2022-05-15T19:49:59.145Z"
   },
   {
    "duration": 5,
    "start_time": "2022-05-15T19:54:43.217Z"
   },
   {
    "duration": 943,
    "start_time": "2022-05-15T19:55:02.944Z"
   },
   {
    "duration": 5,
    "start_time": "2022-05-15T19:55:24.883Z"
   },
   {
    "duration": 974,
    "start_time": "2022-05-15T19:55:30.404Z"
   },
   {
    "duration": 1843,
    "start_time": "2022-05-15T19:57:26.291Z"
   },
   {
    "duration": 71,
    "start_time": "2022-05-15T19:57:35.939Z"
   },
   {
    "duration": 16,
    "start_time": "2022-05-15T19:57:47.141Z"
   },
   {
    "duration": 17,
    "start_time": "2022-05-15T19:58:04.602Z"
   },
   {
    "duration": 13,
    "start_time": "2022-05-15T19:58:08.014Z"
   },
   {
    "duration": 15,
    "start_time": "2022-05-15T19:58:11.880Z"
   },
   {
    "duration": 21,
    "start_time": "2022-05-15T19:58:58.759Z"
   },
   {
    "duration": 101,
    "start_time": "2022-05-15T19:59:33.208Z"
   },
   {
    "duration": 156,
    "start_time": "2022-05-15T19:59:41.150Z"
   },
   {
    "duration": 17,
    "start_time": "2022-05-15T20:01:16.788Z"
   },
   {
    "duration": 335,
    "start_time": "2022-05-15T20:01:57.191Z"
   },
   {
    "duration": 273,
    "start_time": "2022-05-15T20:02:42.193Z"
   },
   {
    "duration": 78,
    "start_time": "2022-05-15T20:04:53.082Z"
   },
   {
    "duration": 21,
    "start_time": "2022-05-15T20:05:03.588Z"
   },
   {
    "duration": 76,
    "start_time": "2022-05-15T20:05:33.018Z"
   },
   {
    "duration": 109,
    "start_time": "2022-05-15T20:06:31.522Z"
   },
   {
    "duration": 77,
    "start_time": "2022-05-15T20:06:35.800Z"
   },
   {
    "duration": 190,
    "start_time": "2022-05-15T20:06:49.248Z"
   },
   {
    "duration": 73,
    "start_time": "2022-05-15T20:06:54.184Z"
   },
   {
    "duration": 87,
    "start_time": "2022-05-15T20:07:09.658Z"
   },
   {
    "duration": 82,
    "start_time": "2022-05-15T20:07:15.047Z"
   },
   {
    "duration": 12,
    "start_time": "2022-05-15T20:07:40.382Z"
   },
   {
    "duration": 83,
    "start_time": "2022-05-15T20:07:45.643Z"
   },
   {
    "duration": 21,
    "start_time": "2022-05-15T20:08:03.113Z"
   },
   {
    "duration": 4876,
    "start_time": "2022-05-15T20:08:44.600Z"
   },
   {
    "duration": 1251,
    "start_time": "2022-05-15T20:09:47.467Z"
   },
   {
    "duration": 80,
    "start_time": "2022-05-15T20:09:52.941Z"
   },
   {
    "duration": 75,
    "start_time": "2022-05-15T20:10:28.693Z"
   },
   {
    "duration": 51,
    "start_time": "2022-05-15T20:10:41.826Z"
   },
   {
    "duration": 66,
    "start_time": "2022-05-15T20:10:46.139Z"
   },
   {
    "duration": 6,
    "start_time": "2022-05-15T20:11:06.423Z"
   },
   {
    "duration": 771,
    "start_time": "2022-05-15T20:11:06.431Z"
   },
   {
    "duration": 82,
    "start_time": "2022-05-15T20:11:07.204Z"
   },
   {
    "duration": 36,
    "start_time": "2022-05-15T20:11:07.288Z"
   },
   {
    "duration": 6,
    "start_time": "2022-05-15T20:11:07.326Z"
   },
   {
    "duration": 24,
    "start_time": "2022-05-15T20:11:07.333Z"
   },
   {
    "duration": 5,
    "start_time": "2022-05-15T20:11:07.359Z"
   },
   {
    "duration": 5,
    "start_time": "2022-05-15T20:11:07.366Z"
   },
   {
    "duration": 62,
    "start_time": "2022-05-15T20:11:07.373Z"
   },
   {
    "duration": 24,
    "start_time": "2022-05-15T20:11:07.437Z"
   },
   {
    "duration": 73,
    "start_time": "2022-05-15T20:11:15.119Z"
   },
   {
    "duration": 18,
    "start_time": "2022-05-15T20:11:20.919Z"
   },
   {
    "duration": 1948,
    "start_time": "2022-05-15T20:11:26.282Z"
   },
   {
    "duration": 78,
    "start_time": "2022-05-15T20:11:30.492Z"
   },
   {
    "duration": 98,
    "start_time": "2022-05-15T20:11:36.188Z"
   },
   {
    "duration": 49,
    "start_time": "2022-05-15T20:11:39.600Z"
   },
   {
    "duration": 294,
    "start_time": "2022-05-15T20:12:31.062Z"
   },
   {
    "duration": 508,
    "start_time": "2022-05-15T20:13:07.376Z"
   },
   {
    "duration": 507,
    "start_time": "2022-05-15T20:13:32.859Z"
   },
   {
    "duration": 16,
    "start_time": "2022-05-15T20:13:42.133Z"
   },
   {
    "duration": 486,
    "start_time": "2022-05-15T20:14:01.699Z"
   },
   {
    "duration": 544,
    "start_time": "2022-05-15T20:14:39.363Z"
   },
   {
    "duration": 528,
    "start_time": "2022-05-15T20:14:43.700Z"
   },
   {
    "duration": 522,
    "start_time": "2022-05-15T20:14:47.728Z"
   },
   {
    "duration": 9,
    "start_time": "2022-05-15T20:20:33.648Z"
   },
   {
    "duration": 9,
    "start_time": "2022-05-15T20:23:56.997Z"
   },
   {
    "duration": 17,
    "start_time": "2022-05-15T20:25:10.748Z"
   },
   {
    "duration": 11,
    "start_time": "2022-05-15T20:25:17.760Z"
   },
   {
    "duration": 9,
    "start_time": "2022-05-15T20:27:07.087Z"
   },
   {
    "duration": 10,
    "start_time": "2022-05-15T20:27:16.813Z"
   },
   {
    "duration": 10,
    "start_time": "2022-05-15T20:27:26.213Z"
   },
   {
    "duration": 104,
    "start_time": "2022-05-15T20:30:52.148Z"
   },
   {
    "duration": 23,
    "start_time": "2022-05-15T20:31:00.947Z"
   },
   {
    "duration": 25,
    "start_time": "2022-05-15T20:31:04.298Z"
   },
   {
    "duration": 26,
    "start_time": "2022-05-15T20:31:08.390Z"
   },
   {
    "duration": 23,
    "start_time": "2022-05-15T20:32:30.805Z"
   },
   {
    "duration": 9,
    "start_time": "2022-05-15T20:33:17.384Z"
   },
   {
    "duration": 24,
    "start_time": "2022-05-15T20:33:39.420Z"
   },
   {
    "duration": 11,
    "start_time": "2022-05-15T20:33:46.114Z"
   },
   {
    "duration": 24,
    "start_time": "2022-05-15T20:33:53.520Z"
   },
   {
    "duration": 18,
    "start_time": "2022-05-15T20:33:57.639Z"
   },
   {
    "duration": 11,
    "start_time": "2022-05-15T20:34:08.395Z"
   },
   {
    "duration": 11,
    "start_time": "2022-05-15T20:34:19.982Z"
   },
   {
    "duration": 11,
    "start_time": "2022-05-15T20:34:59.302Z"
   },
   {
    "duration": 9,
    "start_time": "2022-05-15T20:37:03.713Z"
   },
   {
    "duration": 10,
    "start_time": "2022-05-15T20:40:13.568Z"
   },
   {
    "duration": 12,
    "start_time": "2022-05-15T20:40:38.561Z"
   },
   {
    "duration": 15,
    "start_time": "2022-05-15T20:40:56.584Z"
   },
   {
    "duration": 14,
    "start_time": "2022-05-15T20:41:14.888Z"
   },
   {
    "duration": 9,
    "start_time": "2022-05-15T20:41:27.910Z"
   },
   {
    "duration": 10,
    "start_time": "2022-05-15T20:41:41.230Z"
   },
   {
    "duration": 10,
    "start_time": "2022-05-15T20:41:44.583Z"
   },
   {
    "duration": 10,
    "start_time": "2022-05-15T20:41:48.755Z"
   },
   {
    "duration": 10,
    "start_time": "2022-05-15T20:42:54.579Z"
   },
   {
    "duration": 11,
    "start_time": "2022-05-15T20:43:20.892Z"
   },
   {
    "duration": 10,
    "start_time": "2022-05-15T20:47:05.321Z"
   },
   {
    "duration": 10,
    "start_time": "2022-05-15T20:47:43.937Z"
   },
   {
    "duration": 13,
    "start_time": "2022-05-15T20:49:25.090Z"
   },
   {
    "duration": 10,
    "start_time": "2022-05-15T20:51:57.123Z"
   },
   {
    "duration": 10,
    "start_time": "2022-05-15T20:52:29.712Z"
   },
   {
    "duration": 10,
    "start_time": "2022-05-15T20:52:59.543Z"
   },
   {
    "duration": 18,
    "start_time": "2022-05-15T20:54:11.143Z"
   },
   {
    "duration": 17,
    "start_time": "2022-05-15T20:55:28.194Z"
   },
   {
    "duration": 14,
    "start_time": "2022-05-15T20:59:55.976Z"
   },
   {
    "duration": 17,
    "start_time": "2022-05-15T21:06:07.510Z"
   },
   {
    "duration": 13,
    "start_time": "2022-05-15T21:07:11.152Z"
   },
   {
    "duration": 13,
    "start_time": "2022-05-15T21:08:17.622Z"
   },
   {
    "duration": 16,
    "start_time": "2022-05-15T21:10:43.795Z"
   },
   {
    "duration": 16,
    "start_time": "2022-05-15T21:10:56.249Z"
   },
   {
    "duration": 8,
    "start_time": "2022-05-15T21:13:09.009Z"
   },
   {
    "duration": 13,
    "start_time": "2022-05-15T21:13:12.691Z"
   },
   {
    "duration": 12,
    "start_time": "2022-05-15T21:14:39.599Z"
   },
   {
    "duration": 1266,
    "start_time": "2022-05-15T21:15:44.410Z"
   },
   {
    "duration": 15,
    "start_time": "2022-05-15T21:15:53.858Z"
   },
   {
    "duration": 13,
    "start_time": "2022-05-15T21:16:00.382Z"
   },
   {
    "duration": 14,
    "start_time": "2022-05-15T21:16:03.967Z"
   },
   {
    "duration": 17,
    "start_time": "2022-05-15T21:16:44.520Z"
   },
   {
    "duration": 26,
    "start_time": "2022-05-15T21:19:13.290Z"
   },
   {
    "duration": 15,
    "start_time": "2022-05-15T21:19:59.662Z"
   },
   {
    "duration": 18,
    "start_time": "2022-05-15T21:20:05.565Z"
   },
   {
    "duration": 17,
    "start_time": "2022-05-15T21:20:24.077Z"
   },
   {
    "duration": 16,
    "start_time": "2022-05-15T21:20:50.222Z"
   },
   {
    "duration": 17,
    "start_time": "2022-05-15T21:22:11.767Z"
   },
   {
    "duration": 16,
    "start_time": "2022-05-15T21:24:16.036Z"
   },
   {
    "duration": 17,
    "start_time": "2022-05-15T21:25:40.254Z"
   },
   {
    "duration": 17,
    "start_time": "2022-05-15T21:26:07.459Z"
   },
   {
    "duration": 11,
    "start_time": "2022-05-15T21:26:30.348Z"
   },
   {
    "duration": 14,
    "start_time": "2022-05-15T21:28:25.124Z"
   },
   {
    "duration": 16,
    "start_time": "2022-05-15T21:32:36.543Z"
   },
   {
    "duration": 15,
    "start_time": "2022-05-15T21:33:10.409Z"
   },
   {
    "duration": 14,
    "start_time": "2022-05-15T21:33:32.656Z"
   },
   {
    "duration": 15,
    "start_time": "2022-05-15T21:33:47.710Z"
   },
   {
    "duration": 17,
    "start_time": "2022-05-15T21:34:02.021Z"
   },
   {
    "duration": 23,
    "start_time": "2022-05-15T21:35:13.835Z"
   },
   {
    "duration": 15,
    "start_time": "2022-05-15T21:36:18.128Z"
   },
   {
    "duration": 17,
    "start_time": "2022-05-15T21:38:10.023Z"
   },
   {
    "duration": 22,
    "start_time": "2022-05-15T21:38:19.923Z"
   },
   {
    "duration": 22,
    "start_time": "2022-05-15T21:38:25.818Z"
   },
   {
    "duration": 79,
    "start_time": "2022-05-15T21:38:32.418Z"
   },
   {
    "duration": 521,
    "start_time": "2022-05-15T21:38:49.135Z"
   },
   {
    "duration": 23,
    "start_time": "2022-05-15T21:38:59.565Z"
   },
   {
    "duration": 17,
    "start_time": "2022-05-15T21:39:06.875Z"
   },
   {
    "duration": 19,
    "start_time": "2022-05-15T21:39:18.986Z"
   },
   {
    "duration": 16,
    "start_time": "2022-05-15T21:39:41.299Z"
   },
   {
    "duration": 19,
    "start_time": "2022-05-15T21:40:07.939Z"
   },
   {
    "duration": 182,
    "start_time": "2022-05-15T21:40:24.609Z"
   },
   {
    "duration": 173,
    "start_time": "2022-05-15T21:41:11.388Z"
   },
   {
    "duration": 69,
    "start_time": "2022-05-15T21:43:52.854Z"
   },
   {
    "duration": 22,
    "start_time": "2022-05-15T21:44:11.791Z"
   },
   {
    "duration": 4,
    "start_time": "2022-05-15T21:44:19.683Z"
   },
   {
    "duration": 4,
    "start_time": "2022-05-15T21:44:41.241Z"
   },
   {
    "duration": 6,
    "start_time": "2022-05-15T21:45:02.705Z"
   },
   {
    "duration": 178,
    "start_time": "2022-05-15T21:45:53.323Z"
   },
   {
    "duration": 181,
    "start_time": "2022-05-15T21:46:18.726Z"
   },
   {
    "duration": 179,
    "start_time": "2022-05-15T21:47:20.968Z"
   },
   {
    "duration": 178,
    "start_time": "2022-05-15T21:51:43.643Z"
   },
   {
    "duration": 16,
    "start_time": "2022-05-15T21:53:28.554Z"
   },
   {
    "duration": 167,
    "start_time": "2022-05-15T21:54:01.802Z"
   },
   {
    "duration": 168,
    "start_time": "2022-05-15T21:54:17.664Z"
   },
   {
    "duration": 323,
    "start_time": "2022-05-15T21:55:15.748Z"
   },
   {
    "duration": 299,
    "start_time": "2022-05-15T21:55:27.233Z"
   },
   {
    "duration": 227,
    "start_time": "2022-05-15T21:55:42.958Z"
   },
   {
    "duration": 530,
    "start_time": "2022-05-15T21:57:32.674Z"
   },
   {
    "duration": 857,
    "start_time": "2022-05-15T22:00:27.085Z"
   },
   {
    "duration": 624,
    "start_time": "2022-05-15T22:00:44.544Z"
   },
   {
    "duration": 507,
    "start_time": "2022-05-15T22:01:00.275Z"
   },
   {
    "duration": 653,
    "start_time": "2022-05-15T22:03:00.888Z"
   },
   {
    "duration": 538,
    "start_time": "2022-05-15T22:03:16.562Z"
   },
   {
    "duration": 466,
    "start_time": "2022-05-15T22:03:26.162Z"
   },
   {
    "duration": 210,
    "start_time": "2022-05-15T22:03:47.331Z"
   },
   {
    "duration": 571,
    "start_time": "2022-05-15T22:04:28.397Z"
   },
   {
    "duration": 215,
    "start_time": "2022-05-15T22:04:37.270Z"
   },
   {
    "duration": 210,
    "start_time": "2022-05-15T22:04:47.915Z"
   },
   {
    "duration": 162,
    "start_time": "2022-05-15T22:05:34.617Z"
   },
   {
    "duration": 215,
    "start_time": "2022-05-15T22:05:45.379Z"
   },
   {
    "duration": 328,
    "start_time": "2022-05-15T22:06:09.217Z"
   },
   {
    "duration": 231,
    "start_time": "2022-05-15T22:06:22.752Z"
   },
   {
    "duration": 303,
    "start_time": "2022-05-15T22:06:28.349Z"
   },
   {
    "duration": 572,
    "start_time": "2022-05-15T22:06:41.545Z"
   },
   {
    "duration": 684,
    "start_time": "2022-05-15T22:06:56.599Z"
   },
   {
    "duration": 446,
    "start_time": "2022-05-15T22:07:09.869Z"
   },
   {
    "duration": 427,
    "start_time": "2022-05-15T22:07:56.723Z"
   },
   {
    "duration": 409,
    "start_time": "2022-05-15T22:08:12.568Z"
   },
   {
    "duration": 218,
    "start_time": "2022-05-15T22:08:19.443Z"
   },
   {
    "duration": 157,
    "start_time": "2022-05-15T22:08:24.353Z"
   },
   {
    "duration": 190,
    "start_time": "2022-05-15T22:08:49.472Z"
   },
   {
    "duration": 272,
    "start_time": "2022-05-15T22:09:03.617Z"
   },
   {
    "duration": 271,
    "start_time": "2022-05-15T22:09:20.959Z"
   },
   {
    "duration": 311,
    "start_time": "2022-05-15T22:09:25.317Z"
   },
   {
    "duration": 389,
    "start_time": "2022-05-15T22:09:30.655Z"
   },
   {
    "duration": 154,
    "start_time": "2022-05-15T22:09:42.360Z"
   },
   {
    "duration": 234,
    "start_time": "2022-05-15T22:09:51.790Z"
   },
   {
    "duration": 221,
    "start_time": "2022-05-15T22:09:59.343Z"
   },
   {
    "duration": 267,
    "start_time": "2022-05-15T22:10:09.370Z"
   },
   {
    "duration": 285,
    "start_time": "2022-05-15T22:10:17.749Z"
   },
   {
    "duration": 1887,
    "start_time": "2022-05-15T22:10:22.435Z"
   },
   {
    "duration": 436,
    "start_time": "2022-05-15T22:10:35.943Z"
   },
   {
    "duration": 1748,
    "start_time": "2022-05-15T22:10:55.564Z"
   },
   {
    "duration": 444,
    "start_time": "2022-05-15T22:11:11.579Z"
   },
   {
    "duration": 599,
    "start_time": "2022-05-15T22:11:23.305Z"
   },
   {
    "duration": 439,
    "start_time": "2022-05-15T22:11:40.561Z"
   },
   {
    "duration": 290,
    "start_time": "2022-05-15T22:11:53.734Z"
   },
   {
    "duration": 292,
    "start_time": "2022-05-15T22:12:25.485Z"
   },
   {
    "duration": 424,
    "start_time": "2022-05-15T22:12:57.758Z"
   },
   {
    "duration": 276,
    "start_time": "2022-05-15T22:13:26.752Z"
   },
   {
    "duration": 299,
    "start_time": "2022-05-15T22:13:33.001Z"
   },
   {
    "duration": 8,
    "start_time": "2022-05-15T22:16:57.241Z"
   },
   {
    "duration": 226,
    "start_time": "2022-05-15T22:17:13.048Z"
   },
   {
    "duration": 233,
    "start_time": "2022-05-15T22:17:29.446Z"
   },
   {
    "duration": 140,
    "start_time": "2022-05-15T22:26:24.939Z"
   },
   {
    "duration": 155,
    "start_time": "2022-05-15T22:28:57.272Z"
   },
   {
    "duration": 133,
    "start_time": "2022-05-15T22:29:01.949Z"
   },
   {
    "duration": 122,
    "start_time": "2022-05-15T22:30:02.363Z"
   },
   {
    "duration": 280,
    "start_time": "2022-05-15T22:32:12.329Z"
   },
   {
    "duration": 147,
    "start_time": "2022-05-15T22:32:17.551Z"
   },
   {
    "duration": 133,
    "start_time": "2022-05-15T22:33:55.145Z"
   },
   {
    "duration": 140,
    "start_time": "2022-05-15T22:34:00.288Z"
   },
   {
    "duration": 136,
    "start_time": "2022-05-15T22:38:10.730Z"
   },
   {
    "duration": 128,
    "start_time": "2022-05-15T22:38:19.035Z"
   },
   {
    "duration": 121,
    "start_time": "2022-05-15T22:38:26.351Z"
   },
   {
    "duration": 2360,
    "start_time": "2022-05-15T22:47:41.406Z"
   },
   {
    "duration": 2381,
    "start_time": "2022-05-15T22:48:01.239Z"
   },
   {
    "duration": 631,
    "start_time": "2022-05-15T22:51:28.694Z"
   },
   {
    "duration": 67,
    "start_time": "2022-05-15T22:51:35.676Z"
   },
   {
    "duration": 74,
    "start_time": "2022-05-15T22:51:42.678Z"
   },
   {
    "duration": 48,
    "start_time": "2022-05-15T22:51:48.117Z"
   },
   {
    "duration": 71,
    "start_time": "2022-05-15T22:51:56.306Z"
   },
   {
    "duration": 968,
    "start_time": "2022-05-18T19:54:58.849Z"
   },
   {
    "duration": 6035,
    "start_time": "2022-05-18T19:55:13.810Z"
   },
   {
    "duration": 914,
    "start_time": "2022-05-18T19:55:34.402Z"
   },
   {
    "duration": 2589,
    "start_time": "2022-05-18T20:25:58.922Z"
   },
   {
    "duration": 7,
    "start_time": "2022-05-18T20:26:01.513Z"
   },
   {
    "duration": 40,
    "start_time": "2022-05-18T20:26:01.521Z"
   },
   {
    "duration": 20,
    "start_time": "2022-05-18T20:26:01.563Z"
   },
   {
    "duration": 3562,
    "start_time": "2022-05-18T20:26:01.586Z"
   },
   {
    "duration": 124,
    "start_time": "2022-05-18T20:26:05.149Z"
   },
   {
    "duration": 21,
    "start_time": "2022-05-18T20:26:05.275Z"
   },
   {
    "duration": 3,
    "start_time": "2022-05-18T20:26:05.298Z"
   },
   {
    "duration": 395,
    "start_time": "2022-05-18T20:26:05.303Z"
   },
   {
    "duration": 406,
    "start_time": "2022-05-18T20:26:05.700Z"
   },
   {
    "duration": 24,
    "start_time": "2022-05-18T20:26:06.108Z"
   },
   {
    "duration": 5,
    "start_time": "2022-05-18T20:26:06.133Z"
   },
   {
    "duration": 16,
    "start_time": "2022-05-18T20:26:06.140Z"
   },
   {
    "duration": 6,
    "start_time": "2022-05-18T20:26:06.160Z"
   },
   {
    "duration": 2540,
    "start_time": "2022-05-18T20:26:06.167Z"
   },
   {
    "duration": 693,
    "start_time": "2022-05-18T20:26:08.709Z"
   },
   {
    "duration": 10,
    "start_time": "2022-05-18T20:26:09.403Z"
   },
   {
    "duration": 20,
    "start_time": "2022-05-18T20:26:09.415Z"
   },
   {
    "duration": 63,
    "start_time": "2022-05-18T20:26:09.437Z"
   },
   {
    "duration": 221,
    "start_time": "2022-05-18T20:26:09.503Z"
   },
   {
    "duration": 376,
    "start_time": "2022-05-18T20:26:09.726Z"
   },
   {
    "duration": 276,
    "start_time": "2022-05-18T20:26:10.104Z"
   },
   {
    "duration": 2012,
    "start_time": "2022-05-18T20:26:10.383Z"
   },
   {
    "duration": 8,
    "start_time": "2022-05-18T20:26:12.397Z"
   },
   {
    "duration": 28,
    "start_time": "2022-05-18T20:26:12.407Z"
   },
   {
    "duration": 4,
    "start_time": "2022-05-18T20:26:12.437Z"
   },
   {
    "duration": 36,
    "start_time": "2022-05-18T20:26:12.443Z"
   },
   {
    "duration": 20,
    "start_time": "2022-05-18T20:26:12.482Z"
   },
   {
    "duration": 4,
    "start_time": "2022-05-18T20:26:12.503Z"
   },
   {
    "duration": 5,
    "start_time": "2022-05-18T20:56:01.329Z"
   },
   {
    "duration": 6,
    "start_time": "2022-05-18T21:00:44.152Z"
   },
   {
    "duration": 3,
    "start_time": "2022-05-18T21:02:46.233Z"
   },
   {
    "duration": 6,
    "start_time": "2022-05-18T21:06:09.693Z"
   },
   {
    "duration": 87,
    "start_time": "2022-05-18T21:10:28.592Z"
   },
   {
    "duration": 4,
    "start_time": "2022-05-18T21:13:53.332Z"
   },
   {
    "duration": 155410,
    "start_time": "2022-05-18T21:13:56.103Z"
   },
   {
    "duration": 0,
    "start_time": "2022-05-18T21:16:31.514Z"
   },
   {
    "duration": 24727,
    "start_time": "2022-05-18T21:17:01.149Z"
   },
   {
    "duration": 4,
    "start_time": "2022-05-18T21:19:41.839Z"
   },
   {
    "duration": 10,
    "start_time": "2022-05-18T21:21:51.907Z"
   },
   {
    "duration": 5615,
    "start_time": "2022-05-18T21:22:25.603Z"
   },
   {
    "duration": 238069,
    "start_time": "2022-05-18T21:22:52.421Z"
   },
   {
    "duration": 4,
    "start_time": "2022-05-18T21:28:19.182Z"
   },
   {
    "duration": 11,
    "start_time": "2022-05-18T21:28:37.717Z"
   },
   {
    "duration": 3,
    "start_time": "2022-05-18T21:28:46.362Z"
   },
   {
    "duration": 4,
    "start_time": "2022-05-18T21:29:58.598Z"
   },
   {
    "duration": 3,
    "start_time": "2022-05-18T21:34:49.945Z"
   },
   {
    "duration": 20793,
    "start_time": "2022-05-18T21:35:42.969Z"
   },
   {
    "duration": 5,
    "start_time": "2022-05-18T21:37:58.613Z"
   },
   {
    "duration": 5,
    "start_time": "2022-05-18T21:39:26.612Z"
   },
   {
    "duration": 5,
    "start_time": "2022-05-18T21:40:45.078Z"
   },
   {
    "duration": 5,
    "start_time": "2022-05-18T21:40:54.697Z"
   },
   {
    "duration": 4,
    "start_time": "2022-05-18T21:42:51.348Z"
   },
   {
    "duration": 4,
    "start_time": "2022-05-18T21:44:56.534Z"
   },
   {
    "duration": 4062605,
    "start_time": "2022-05-18T21:44:58.132Z"
   },
   {
    "duration": 4,
    "start_time": "2022-05-18T22:53:07.133Z"
   },
   {
    "duration": 9,
    "start_time": "2022-05-18T22:53:58.261Z"
   },
   {
    "duration": 11,
    "start_time": "2022-05-18T22:54:04.950Z"
   },
   {
    "duration": 6,
    "start_time": "2022-05-18T22:54:44.646Z"
   },
   {
    "duration": 4,
    "start_time": "2022-05-18T22:54:51.744Z"
   },
   {
    "duration": 9,
    "start_time": "2022-05-18T22:54:55.610Z"
   },
   {
    "duration": 7,
    "start_time": "2022-05-18T22:55:59.595Z"
   },
   {
    "duration": 7,
    "start_time": "2022-05-18T22:56:09.036Z"
   },
   {
    "duration": 969,
    "start_time": "2022-05-18T22:59:10.413Z"
   },
   {
    "duration": 727,
    "start_time": "2022-05-18T22:59:18.595Z"
   },
   {
    "duration": 795,
    "start_time": "2022-05-18T22:59:46.116Z"
   },
   {
    "duration": 650,
    "start_time": "2022-05-18T22:59:51.286Z"
   },
   {
    "duration": 709,
    "start_time": "2022-05-18T22:59:57.444Z"
   },
   {
    "duration": 396,
    "start_time": "2022-05-18T23:00:02.765Z"
   },
   {
    "duration": 589,
    "start_time": "2022-05-18T23:00:16.661Z"
   },
   {
    "duration": 16,
    "start_time": "2022-05-18T23:00:51.016Z"
   },
   {
    "duration": 16,
    "start_time": "2022-05-18T23:01:01.377Z"
   },
   {
    "duration": 4,
    "start_time": "2022-05-18T23:10:52.323Z"
   },
   {
    "duration": 72700,
    "start_time": "2022-05-18T23:12:03.219Z"
   },
   {
    "duration": 41,
    "start_time": "2022-05-18T23:34:50.085Z"
   },
   {
    "duration": 6,
    "start_time": "2022-05-18T23:35:25.085Z"
   },
   {
    "duration": 315523,
    "start_time": "2022-05-18T23:35:52.517Z"
   },
   {
    "duration": 7,
    "start_time": "2022-05-18T23:46:55.582Z"
   },
   {
    "duration": 6,
    "start_time": "2022-05-18T23:47:48.218Z"
   },
   {
    "duration": 60602,
    "start_time": "2022-05-18T23:47:59.069Z"
   },
   {
    "duration": 164962,
    "start_time": "2022-05-18T23:49:17.662Z"
   },
   {
    "duration": 6,
    "start_time": "2022-05-18T23:52:21.325Z"
   },
   {
    "duration": 331923,
    "start_time": "2022-05-18T23:53:28.643Z"
   },
   {
    "duration": 212029,
    "start_time": "2022-05-18T23:59:02.509Z"
   },
   {
    "duration": 6,
    "start_time": "2022-05-19T00:02:48.411Z"
   },
   {
    "duration": 11807261,
    "start_time": "2022-05-19T00:03:19.451Z"
   },
   {
    "duration": 6173,
    "start_time": "2022-05-19T06:42:06.528Z"
   },
   {
    "duration": 1914,
    "start_time": "2022-05-19T06:42:12.703Z"
   },
   {
    "duration": 3,
    "start_time": "2022-05-19T06:42:14.619Z"
   },
   {
    "duration": 8,
    "start_time": "2022-05-19T06:42:14.625Z"
   },
   {
    "duration": 1437,
    "start_time": "2022-05-19T06:42:14.634Z"
   },
   {
    "duration": 107,
    "start_time": "2022-05-19T06:42:16.072Z"
   },
   {
    "duration": 19,
    "start_time": "2022-05-19T06:42:16.180Z"
   },
   {
    "duration": 3,
    "start_time": "2022-05-19T06:42:16.200Z"
   },
   {
    "duration": 349,
    "start_time": "2022-05-19T06:42:16.205Z"
   },
   {
    "duration": 11,
    "start_time": "2022-05-19T06:42:16.557Z"
   },
   {
    "duration": 25,
    "start_time": "2022-05-19T06:42:16.570Z"
   },
   {
    "duration": 5,
    "start_time": "2022-05-19T06:42:16.597Z"
   },
   {
    "duration": 13,
    "start_time": "2022-05-19T06:42:16.603Z"
   },
   {
    "duration": 11,
    "start_time": "2022-05-19T06:42:16.618Z"
   },
   {
    "duration": 2443,
    "start_time": "2022-05-19T06:42:16.630Z"
   },
   {
    "duration": 623,
    "start_time": "2022-05-19T06:42:19.075Z"
   },
   {
    "duration": 9,
    "start_time": "2022-05-19T06:42:19.700Z"
   },
   {
    "duration": 19,
    "start_time": "2022-05-19T06:42:19.710Z"
   },
   {
    "duration": 66,
    "start_time": "2022-05-19T06:42:19.731Z"
   },
   {
    "duration": 212,
    "start_time": "2022-05-19T06:42:19.799Z"
   },
   {
    "duration": 326,
    "start_time": "2022-05-19T06:42:20.012Z"
   },
   {
    "duration": 282,
    "start_time": "2022-05-19T06:42:20.340Z"
   },
   {
    "duration": 1820,
    "start_time": "2022-05-19T06:42:20.624Z"
   },
   {
    "duration": 6,
    "start_time": "2022-05-19T06:42:22.445Z"
   },
   {
    "duration": 39,
    "start_time": "2022-05-19T06:42:22.453Z"
   },
   {
    "duration": 148,
    "start_time": "2022-05-19T06:42:22.494Z"
   },
   {
    "duration": 0,
    "start_time": "2022-05-19T06:42:22.644Z"
   },
   {
    "duration": 0,
    "start_time": "2022-05-19T06:42:22.645Z"
   },
   {
    "duration": 0,
    "start_time": "2022-05-19T06:42:22.646Z"
   },
   {
    "duration": 0,
    "start_time": "2022-05-19T06:42:22.647Z"
   },
   {
    "duration": 0,
    "start_time": "2022-05-19T06:42:22.648Z"
   },
   {
    "duration": 0,
    "start_time": "2022-05-19T06:42:22.649Z"
   },
   {
    "duration": 0,
    "start_time": "2022-05-19T06:42:22.664Z"
   },
   {
    "duration": 0,
    "start_time": "2022-05-19T06:42:22.665Z"
   },
   {
    "duration": 5,
    "start_time": "2022-05-19T06:43:10.623Z"
   },
   {
    "duration": 10,
    "start_time": "2022-05-19T06:43:12.106Z"
   },
   {
    "duration": 14,
    "start_time": "2022-05-19T06:43:13.776Z"
   },
   {
    "duration": 3,
    "start_time": "2022-05-19T06:43:15.019Z"
   },
   {
    "duration": 8,
    "start_time": "2022-05-19T06:43:16.000Z"
   },
   {
    "duration": 6,
    "start_time": "2022-05-19T06:43:20.520Z"
   },
   {
    "duration": 9,
    "start_time": "2022-05-19T06:44:38.177Z"
   },
   {
    "duration": 37,
    "start_time": "2022-05-19T06:45:02.734Z"
   },
   {
    "duration": 11,
    "start_time": "2022-05-19T06:45:45.416Z"
   },
   {
    "duration": 117597,
    "start_time": "2022-05-19T06:45:48.708Z"
   },
   {
    "duration": 6,
    "start_time": "2022-05-19T07:14:54.800Z"
   },
   {
    "duration": 9,
    "start_time": "2022-05-19T07:15:34.745Z"
   },
   {
    "duration": 9,
    "start_time": "2022-05-19T07:15:56.131Z"
   },
   {
    "duration": 9,
    "start_time": "2022-05-19T07:16:00.496Z"
   },
   {
    "duration": 11,
    "start_time": "2022-05-19T11:47:58.397Z"
   },
   {
    "duration": 13,
    "start_time": "2022-05-19T18:46:48.088Z"
   },
   {
    "duration": 11,
    "start_time": "2022-05-19T18:47:37.791Z"
   },
   {
    "duration": 138045,
    "start_time": "2022-05-19T18:48:25.245Z"
   },
   {
    "duration": 3985,
    "start_time": "2022-05-19T19:17:40.242Z"
   },
   {
    "duration": 3735,
    "start_time": "2022-05-19T19:17:44.230Z"
   },
   {
    "duration": 4,
    "start_time": "2022-05-19T19:17:47.967Z"
   },
   {
    "duration": 15,
    "start_time": "2022-05-19T19:17:47.973Z"
   },
   {
    "duration": 1915,
    "start_time": "2022-05-19T19:17:47.992Z"
   },
   {
    "duration": 168,
    "start_time": "2022-05-19T19:17:49.910Z"
   },
   {
    "duration": 31,
    "start_time": "2022-05-19T19:17:50.081Z"
   },
   {
    "duration": 4,
    "start_time": "2022-05-19T19:17:50.117Z"
   },
   {
    "duration": 304,
    "start_time": "2022-05-19T19:17:50.124Z"
   },
   {
    "duration": 7,
    "start_time": "2022-05-19T19:17:50.430Z"
   },
   {
    "duration": 47,
    "start_time": "2022-05-19T19:17:50.438Z"
   },
   {
    "duration": 8,
    "start_time": "2022-05-19T19:17:50.490Z"
   },
   {
    "duration": 16,
    "start_time": "2022-05-19T19:17:50.501Z"
   },
   {
    "duration": 7,
    "start_time": "2022-05-19T19:17:50.524Z"
   },
   {
    "duration": 2651,
    "start_time": "2022-05-19T19:17:50.534Z"
   },
   {
    "duration": 688,
    "start_time": "2022-05-19T19:17:53.187Z"
   },
   {
    "duration": 11,
    "start_time": "2022-05-19T19:17:53.877Z"
   },
   {
    "duration": 24,
    "start_time": "2022-05-19T19:17:53.890Z"
   },
   {
    "duration": 77,
    "start_time": "2022-05-19T19:17:53.916Z"
   },
   {
    "duration": 222,
    "start_time": "2022-05-19T19:17:53.995Z"
   },
   {
    "duration": 346,
    "start_time": "2022-05-19T19:17:54.219Z"
   },
   {
    "duration": 227,
    "start_time": "2022-05-19T19:17:54.567Z"
   },
   {
    "duration": 2076,
    "start_time": "2022-05-19T19:17:54.796Z"
   },
   {
    "duration": 9,
    "start_time": "2022-05-19T19:17:56.875Z"
   },
   {
    "duration": 188,
    "start_time": "2022-05-19T19:17:56.886Z"
   },
   {
    "duration": 6,
    "start_time": "2022-05-19T19:17:57.076Z"
   },
   {
    "duration": 11,
    "start_time": "2022-05-19T19:17:57.084Z"
   },
   {
    "duration": 13,
    "start_time": "2022-05-19T19:17:57.098Z"
   },
   {
    "duration": 6,
    "start_time": "2022-05-19T19:17:57.113Z"
   },
   {
    "duration": 48,
    "start_time": "2022-05-19T19:17:57.122Z"
   },
   {
    "duration": 6,
    "start_time": "2022-05-19T19:17:57.172Z"
   },
   {
    "duration": 13,
    "start_time": "2022-05-19T19:17:57.180Z"
   },
   {
    "duration": 7,
    "start_time": "2022-05-19T19:17:57.195Z"
   },
   {
    "duration": 6,
    "start_time": "2022-05-19T19:17:57.205Z"
   },
   {
    "duration": 14,
    "start_time": "2022-05-19T19:17:57.213Z"
   },
   {
    "duration": 10,
    "start_time": "2022-05-19T19:17:57.229Z"
   },
   {
    "duration": 5079,
    "start_time": "2022-05-19T19:17:57.241Z"
   },
   {
    "duration": 8,
    "start_time": "2022-05-19T19:22:41.903Z"
   },
   {
    "duration": 12026,
    "start_time": "2022-05-19T19:22:45.767Z"
   },
   {
    "duration": 6,
    "start_time": "2022-05-19T19:24:07.341Z"
   },
   {
    "duration": 2835,
    "start_time": "2022-05-19T19:25:09.339Z"
   },
   {
    "duration": 33,
    "start_time": "2022-05-19T20:04:24.648Z"
   },
   {
    "duration": 7,
    "start_time": "2022-05-19T20:04:42.445Z"
   },
   {
    "duration": 167601,
    "start_time": "2022-05-19T20:05:25.299Z"
   },
   {
    "duration": 5,
    "start_time": "2022-05-19T20:16:55.449Z"
   },
   {
    "duration": 5,
    "start_time": "2022-05-19T20:17:00.042Z"
   },
   {
    "duration": 102,
    "start_time": "2022-05-19T20:19:38.715Z"
   },
   {
    "duration": 7,
    "start_time": "2022-05-19T20:20:00.509Z"
   },
   {
    "duration": 5,
    "start_time": "2022-05-19T20:20:19.838Z"
   },
   {
    "duration": 30,
    "start_time": "2022-05-19T20:22:21.402Z"
   },
   {
    "duration": 827,
    "start_time": "2022-05-19T20:22:31.052Z"
   },
   {
    "duration": 508709,
    "start_time": "2022-05-19T20:26:07.363Z"
   },
   {
    "duration": 5,
    "start_time": "2022-05-19T20:35:01.660Z"
   },
   {
    "duration": 665,
    "start_time": "2022-05-19T20:35:27.008Z"
   },
   {
    "duration": 12,
    "start_time": "2022-05-19T20:46:07.276Z"
   },
   {
    "duration": 194,
    "start_time": "2022-05-19T20:48:22.594Z"
   },
   {
    "duration": 302619,
    "start_time": "2022-05-19T20:48:39.449Z"
   },
   {
    "duration": 5,
    "start_time": "2022-05-19T20:53:58.384Z"
   },
   {
    "duration": 481,
    "start_time": "2022-05-19T20:54:25.593Z"
   },
   {
    "duration": 8,
    "start_time": "2022-05-19T20:57:25.951Z"
   },
   {
    "duration": 154089,
    "start_time": "2022-05-19T20:57:31.880Z"
   },
   {
    "duration": 5,
    "start_time": "2022-05-19T21:00:12.476Z"
   },
   {
    "duration": 548,
    "start_time": "2022-05-19T21:00:32.523Z"
   },
   {
    "duration": 8,
    "start_time": "2022-05-19T21:08:40.342Z"
   },
   {
    "duration": 318734,
    "start_time": "2022-05-19T21:09:36.136Z"
   },
   {
    "duration": 5,
    "start_time": "2022-05-19T21:15:00.388Z"
   },
   {
    "duration": 538,
    "start_time": "2022-05-19T21:15:29.635Z"
   },
   {
    "duration": 596,
    "start_time": "2022-05-19T21:15:36.976Z"
   },
   {
    "duration": 493,
    "start_time": "2022-05-19T21:15:56.081Z"
   },
   {
    "duration": 537,
    "start_time": "2022-05-19T21:16:04.642Z"
   },
   {
    "duration": 269,
    "start_time": "2022-05-19T21:16:18.997Z"
   },
   {
    "duration": 9,
    "start_time": "2022-05-19T21:24:58.722Z"
   },
   {
    "duration": 4,
    "start_time": "2022-05-19T21:28:32.146Z"
   },
   {
    "duration": 11,
    "start_time": "2022-05-19T21:28:33.550Z"
   },
   {
    "duration": 320882,
    "start_time": "2022-05-19T21:30:30.283Z"
   },
   {
    "duration": 5,
    "start_time": "2022-05-19T21:37:05.780Z"
   },
   {
    "duration": 5,
    "start_time": "2022-05-19T21:37:50.815Z"
   },
   {
    "duration": 6,
    "start_time": "2022-05-19T21:38:43.845Z"
   },
   {
    "duration": 5,
    "start_time": "2022-05-19T21:38:49.122Z"
   },
   {
    "duration": 5,
    "start_time": "2022-05-19T21:38:55.381Z"
   },
   {
    "duration": 7,
    "start_time": "2022-05-19T21:39:01.971Z"
   },
   {
    "duration": 7,
    "start_time": "2022-05-19T21:39:07.317Z"
   },
   {
    "duration": 8,
    "start_time": "2022-05-19T21:39:17.313Z"
   },
   {
    "duration": 8,
    "start_time": "2022-05-19T21:39:39.444Z"
   },
   {
    "duration": 6,
    "start_time": "2022-05-19T21:39:58.645Z"
   },
   {
    "duration": 7,
    "start_time": "2022-05-19T21:40:09.715Z"
   },
   {
    "duration": 13,
    "start_time": "2022-05-19T21:40:59.391Z"
   },
   {
    "duration": 6,
    "start_time": "2022-05-19T21:41:05.612Z"
   },
   {
    "duration": 532,
    "start_time": "2022-05-19T21:43:44.344Z"
   },
   {
    "duration": 6,
    "start_time": "2022-05-19T21:44:09.125Z"
   },
   {
    "duration": 550,
    "start_time": "2022-05-19T21:45:07.220Z"
   },
   {
    "duration": 13,
    "start_time": "2022-05-19T21:45:54.988Z"
   },
   {
    "duration": 11,
    "start_time": "2022-05-19T21:46:17.528Z"
   },
   {
    "duration": 2528,
    "start_time": "2022-05-19T21:47:43.447Z"
   },
   {
    "duration": 1659,
    "start_time": "2022-05-19T21:47:45.977Z"
   },
   {
    "duration": 2,
    "start_time": "2022-05-19T21:47:47.638Z"
   },
   {
    "duration": 6,
    "start_time": "2022-05-19T21:47:47.642Z"
   },
   {
    "duration": 769,
    "start_time": "2022-05-19T21:47:47.650Z"
   },
   {
    "duration": 122,
    "start_time": "2022-05-19T21:47:48.421Z"
   },
   {
    "duration": 19,
    "start_time": "2022-05-19T21:47:48.545Z"
   },
   {
    "duration": 4,
    "start_time": "2022-05-19T21:47:48.566Z"
   },
   {
    "duration": 275,
    "start_time": "2022-05-19T21:47:48.572Z"
   },
   {
    "duration": 8,
    "start_time": "2022-05-19T21:47:48.851Z"
   },
   {
    "duration": 37,
    "start_time": "2022-05-19T21:47:48.861Z"
   },
   {
    "duration": 7,
    "start_time": "2022-05-19T21:47:48.900Z"
   },
   {
    "duration": 12,
    "start_time": "2022-05-19T21:47:48.909Z"
   },
   {
    "duration": 22,
    "start_time": "2022-05-19T21:47:48.924Z"
   },
   {
    "duration": 2577,
    "start_time": "2022-05-19T21:47:48.966Z"
   },
   {
    "duration": 596,
    "start_time": "2022-05-19T21:47:51.544Z"
   },
   {
    "duration": 9,
    "start_time": "2022-05-19T21:47:52.142Z"
   },
   {
    "duration": 20,
    "start_time": "2022-05-19T21:47:52.164Z"
   },
   {
    "duration": 43,
    "start_time": "2022-05-19T21:47:52.186Z"
   },
   {
    "duration": 240,
    "start_time": "2022-05-19T21:47:52.231Z"
   },
   {
    "duration": 320,
    "start_time": "2022-05-19T21:47:52.473Z"
   },
   {
    "duration": 164,
    "start_time": "2022-05-19T21:47:52.795Z"
   },
   {
    "duration": 1865,
    "start_time": "2022-05-19T21:47:52.962Z"
   },
   {
    "duration": 9,
    "start_time": "2022-05-19T21:47:54.829Z"
   },
   {
    "duration": 188,
    "start_time": "2022-05-19T21:47:54.840Z"
   },
   {
    "duration": 6,
    "start_time": "2022-05-19T21:47:55.034Z"
   },
   {
    "duration": 28,
    "start_time": "2022-05-19T21:47:55.042Z"
   },
   {
    "duration": 14,
    "start_time": "2022-05-19T21:47:55.073Z"
   },
   {
    "duration": 18,
    "start_time": "2022-05-19T21:47:55.089Z"
   },
   {
    "duration": 6,
    "start_time": "2022-05-19T21:47:55.109Z"
   },
   {
    "duration": 14,
    "start_time": "2022-05-19T21:47:55.117Z"
   },
   {
    "duration": 322643,
    "start_time": "2022-05-19T21:47:55.133Z"
   },
   {
    "duration": 120227,
    "start_time": "2022-05-19T21:55:48.962Z"
   },
   {
    "duration": 767711,
    "start_time": "2022-05-19T21:57:53.070Z"
   },
   {
    "duration": 343,
    "start_time": "2022-05-19T22:12:12.891Z"
   },
   {
    "duration": 370,
    "start_time": "2022-05-19T22:13:34.527Z"
   },
   {
    "duration": 337,
    "start_time": "2022-05-19T22:14:17.880Z"
   },
   {
    "duration": 1842,
    "start_time": "2022-05-19T22:15:58.938Z"
   },
   {
    "duration": 1334,
    "start_time": "2022-05-19T22:23:11.240Z"
   },
   {
    "duration": 458793,
    "start_time": "2022-05-19T22:24:45.572Z"
   },
   {
    "duration": 2571,
    "start_time": "2022-05-19T22:42:53.235Z"
   },
   {
    "duration": 1613,
    "start_time": "2022-05-19T22:42:55.808Z"
   },
   {
    "duration": 3,
    "start_time": "2022-05-19T22:42:57.423Z"
   },
   {
    "duration": 16,
    "start_time": "2022-05-19T22:42:57.428Z"
   },
   {
    "duration": 811,
    "start_time": "2022-05-19T22:42:57.447Z"
   },
   {
    "duration": 131,
    "start_time": "2022-05-19T22:42:58.260Z"
   },
   {
    "duration": 19,
    "start_time": "2022-05-19T22:42:58.393Z"
   },
   {
    "duration": 3,
    "start_time": "2022-05-19T22:42:58.414Z"
   },
   {
    "duration": 273,
    "start_time": "2022-05-19T22:42:58.419Z"
   },
   {
    "duration": 7,
    "start_time": "2022-05-19T22:42:58.695Z"
   },
   {
    "duration": 26,
    "start_time": "2022-05-19T22:42:58.704Z"
   },
   {
    "duration": 6,
    "start_time": "2022-05-19T22:42:58.733Z"
   },
   {
    "duration": 16,
    "start_time": "2022-05-19T22:42:58.766Z"
   },
   {
    "duration": 8,
    "start_time": "2022-05-19T22:42:58.787Z"
   },
   {
    "duration": 2638,
    "start_time": "2022-05-19T22:42:58.798Z"
   },
   {
    "duration": 651,
    "start_time": "2022-05-19T22:43:01.437Z"
   },
   {
    "duration": 11,
    "start_time": "2022-05-19T22:43:02.090Z"
   },
   {
    "duration": 20,
    "start_time": "2022-05-19T22:43:02.103Z"
   },
   {
    "duration": 67,
    "start_time": "2022-05-19T22:43:02.125Z"
   },
   {
    "duration": 213,
    "start_time": "2022-05-19T22:43:02.194Z"
   },
   {
    "duration": 366,
    "start_time": "2022-05-19T22:43:02.409Z"
   },
   {
    "duration": 152,
    "start_time": "2022-05-19T22:43:02.781Z"
   },
   {
    "duration": 1893,
    "start_time": "2022-05-19T22:43:02.935Z"
   },
   {
    "duration": 7,
    "start_time": "2022-05-19T22:43:04.831Z"
   },
   {
    "duration": 179,
    "start_time": "2022-05-19T22:43:04.840Z"
   },
   {
    "duration": 5,
    "start_time": "2022-05-19T22:43:05.021Z"
   },
   {
    "duration": 20,
    "start_time": "2022-05-19T22:43:05.029Z"
   },
   {
    "duration": 17,
    "start_time": "2022-05-19T22:43:05.064Z"
   },
   {
    "duration": 28,
    "start_time": "2022-05-19T22:43:05.083Z"
   },
   {
    "duration": 4,
    "start_time": "2022-05-19T22:43:05.114Z"
   },
   {
    "duration": 13,
    "start_time": "2022-05-19T22:43:05.119Z"
   },
   {
    "duration": 459840,
    "start_time": "2022-05-19T22:43:05.134Z"
   },
   {
    "duration": 2094,
    "start_time": "2022-05-19T22:50:44.975Z"
   }
  ],
  "kernelspec": {
   "display_name": "Python 3 (ipykernel)",
   "language": "python",
   "name": "python3"
  },
  "language_info": {
   "codemirror_mode": {
    "name": "ipython",
    "version": 3
   },
   "file_extension": ".py",
   "mimetype": "text/x-python",
   "name": "python",
   "nbconvert_exporter": "python",
   "pygments_lexer": "ipython3",
   "version": "3.9.12"
  },
  "toc": {
   "base_numbering": 1,
   "nav_menu": {},
   "number_sections": true,
   "sideBar": true,
   "skip_h1_title": true,
   "title_cell": "Содержание",
   "title_sidebar": "Содержание",
   "toc_cell": true,
   "toc_position": {},
   "toc_section_display": true,
   "toc_window_display": false
  }
 },
 "nbformat": 4,
 "nbformat_minor": 4
}
